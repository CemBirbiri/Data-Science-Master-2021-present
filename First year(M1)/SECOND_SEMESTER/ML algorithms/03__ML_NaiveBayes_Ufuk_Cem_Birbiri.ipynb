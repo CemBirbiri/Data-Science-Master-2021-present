{
  "cells": [
    {
      "cell_type": "markdown",
      "metadata": {
        "id": "63QNRWCpg6Vt"
      },
      "source": [
        "# Naive Bayes classifiers"
      ]
    },
    {
      "cell_type": "markdown",
      "metadata": {
        "id": "ErOXhuCag6Vx"
      },
      "source": [
        "## Naive Bayes with categorical feature from scratch\n",
        "\n",
        "The features are assumed to be generated from a simple multinomial distribution.\n",
        "The multinomial distribution describes the probability of observing counts among a number of categories, and thus multinomial naive Bayes is most appropriate for features that represent counts or count rates.\n",
        "We aim at modeling the data distribution with a best-fit multinomial distribution."
      ]
    },
    {
      "cell_type": "code",
      "execution_count": 42,
      "metadata": {
        "colab": {
          "base_uri": "https://localhost:8080/",
          "height": 206
        },
        "id": "Sd9_yKZlg6Vy",
        "outputId": "24c7629d-e798-42ee-910d-fe1b84e940c0"
      },
      "outputs": [
        {
          "output_type": "execute_result",
          "data": {
            "text/html": [
              "\n",
              "  <div id=\"df-5ca085e0-e608-405b-85a0-bc01515f5e5f\">\n",
              "    <div class=\"colab-df-container\">\n",
              "      <div>\n",
              "<style scoped>\n",
              "    .dataframe tbody tr th:only-of-type {\n",
              "        vertical-align: middle;\n",
              "    }\n",
              "\n",
              "    .dataframe tbody tr th {\n",
              "        vertical-align: top;\n",
              "    }\n",
              "\n",
              "    .dataframe thead th {\n",
              "        text-align: right;\n",
              "    }\n",
              "</style>\n",
              "<table border=\"1\" class=\"dataframe\">\n",
              "  <thead>\n",
              "    <tr style=\"text-align: right;\">\n",
              "      <th></th>\n",
              "      <th>outlook</th>\n",
              "      <th>temp</th>\n",
              "      <th>humidity</th>\n",
              "      <th>windy</th>\n",
              "      <th>play</th>\n",
              "    </tr>\n",
              "  </thead>\n",
              "  <tbody>\n",
              "    <tr>\n",
              "      <th>0</th>\n",
              "      <td>sunny</td>\n",
              "      <td>hot</td>\n",
              "      <td>high</td>\n",
              "      <td>no</td>\n",
              "      <td>no</td>\n",
              "    </tr>\n",
              "    <tr>\n",
              "      <th>1</th>\n",
              "      <td>sunny</td>\n",
              "      <td>hot</td>\n",
              "      <td>high</td>\n",
              "      <td>yes</td>\n",
              "      <td>no</td>\n",
              "    </tr>\n",
              "    <tr>\n",
              "      <th>2</th>\n",
              "      <td>overcast</td>\n",
              "      <td>hot</td>\n",
              "      <td>high</td>\n",
              "      <td>no</td>\n",
              "      <td>yes</td>\n",
              "    </tr>\n",
              "    <tr>\n",
              "      <th>3</th>\n",
              "      <td>rainy</td>\n",
              "      <td>mild</td>\n",
              "      <td>high</td>\n",
              "      <td>no</td>\n",
              "      <td>yes</td>\n",
              "    </tr>\n",
              "    <tr>\n",
              "      <th>4</th>\n",
              "      <td>rainy</td>\n",
              "      <td>cool</td>\n",
              "      <td>normal</td>\n",
              "      <td>no</td>\n",
              "      <td>yes</td>\n",
              "    </tr>\n",
              "  </tbody>\n",
              "</table>\n",
              "</div>\n",
              "      <button class=\"colab-df-convert\" onclick=\"convertToInteractive('df-5ca085e0-e608-405b-85a0-bc01515f5e5f')\"\n",
              "              title=\"Convert this dataframe to an interactive table.\"\n",
              "              style=\"display:none;\">\n",
              "        \n",
              "  <svg xmlns=\"http://www.w3.org/2000/svg\" height=\"24px\"viewBox=\"0 0 24 24\"\n",
              "       width=\"24px\">\n",
              "    <path d=\"M0 0h24v24H0V0z\" fill=\"none\"/>\n",
              "    <path d=\"M18.56 5.44l.94 2.06.94-2.06 2.06-.94-2.06-.94-.94-2.06-.94 2.06-2.06.94zm-11 1L8.5 8.5l.94-2.06 2.06-.94-2.06-.94L8.5 2.5l-.94 2.06-2.06.94zm10 10l.94 2.06.94-2.06 2.06-.94-2.06-.94-.94-2.06-.94 2.06-2.06.94z\"/><path d=\"M17.41 7.96l-1.37-1.37c-.4-.4-.92-.59-1.43-.59-.52 0-1.04.2-1.43.59L10.3 9.45l-7.72 7.72c-.78.78-.78 2.05 0 2.83L4 21.41c.39.39.9.59 1.41.59.51 0 1.02-.2 1.41-.59l7.78-7.78 2.81-2.81c.8-.78.8-2.07 0-2.86zM5.41 20L4 18.59l7.72-7.72 1.47 1.35L5.41 20z\"/>\n",
              "  </svg>\n",
              "      </button>\n",
              "      \n",
              "  <style>\n",
              "    .colab-df-container {\n",
              "      display:flex;\n",
              "      flex-wrap:wrap;\n",
              "      gap: 12px;\n",
              "    }\n",
              "\n",
              "    .colab-df-convert {\n",
              "      background-color: #E8F0FE;\n",
              "      border: none;\n",
              "      border-radius: 50%;\n",
              "      cursor: pointer;\n",
              "      display: none;\n",
              "      fill: #1967D2;\n",
              "      height: 32px;\n",
              "      padding: 0 0 0 0;\n",
              "      width: 32px;\n",
              "    }\n",
              "\n",
              "    .colab-df-convert:hover {\n",
              "      background-color: #E2EBFA;\n",
              "      box-shadow: 0px 1px 2px rgba(60, 64, 67, 0.3), 0px 1px 3px 1px rgba(60, 64, 67, 0.15);\n",
              "      fill: #174EA6;\n",
              "    }\n",
              "\n",
              "    [theme=dark] .colab-df-convert {\n",
              "      background-color: #3B4455;\n",
              "      fill: #D2E3FC;\n",
              "    }\n",
              "\n",
              "    [theme=dark] .colab-df-convert:hover {\n",
              "      background-color: #434B5C;\n",
              "      box-shadow: 0px 1px 3px 1px rgba(0, 0, 0, 0.15);\n",
              "      filter: drop-shadow(0px 1px 2px rgba(0, 0, 0, 0.3));\n",
              "      fill: #FFFFFF;\n",
              "    }\n",
              "  </style>\n",
              "\n",
              "      <script>\n",
              "        const buttonEl =\n",
              "          document.querySelector('#df-5ca085e0-e608-405b-85a0-bc01515f5e5f button.colab-df-convert');\n",
              "        buttonEl.style.display =\n",
              "          google.colab.kernel.accessAllowed ? 'block' : 'none';\n",
              "\n",
              "        async function convertToInteractive(key) {\n",
              "          const element = document.querySelector('#df-5ca085e0-e608-405b-85a0-bc01515f5e5f');\n",
              "          const dataTable =\n",
              "            await google.colab.kernel.invokeFunction('convertToInteractive',\n",
              "                                                     [key], {});\n",
              "          if (!dataTable) return;\n",
              "\n",
              "          const docLinkHtml = 'Like what you see? Visit the ' +\n",
              "            '<a target=\"_blank\" href=https://colab.research.google.com/notebooks/data_table.ipynb>data table notebook</a>'\n",
              "            + ' to learn more about interactive tables.';\n",
              "          element.innerHTML = '';\n",
              "          dataTable['output_type'] = 'display_data';\n",
              "          await google.colab.output.renderOutput(dataTable, element);\n",
              "          const docLink = document.createElement('div');\n",
              "          docLink.innerHTML = docLinkHtml;\n",
              "          element.appendChild(docLink);\n",
              "        }\n",
              "      </script>\n",
              "    </div>\n",
              "  </div>\n",
              "  "
            ],
            "text/plain": [
              "    outlook  temp humidity windy play\n",
              "0     sunny   hot     high    no   no\n",
              "1     sunny   hot     high   yes   no\n",
              "2  overcast   hot     high    no  yes\n",
              "3     rainy  mild     high    no  yes\n",
              "4     rainy  cool   normal    no  yes"
            ]
          },
          "metadata": {},
          "execution_count": 42
        }
      ],
      "source": [
        "\"\"\"\n",
        "\n",
        "First let us design a simple dataset taking into account weather related features:\n",
        "    - outlook in {'sunny', 'overcast', 'rainy'}\n",
        "    - temp: level of temperature {'hot','cool','mild'}\n",
        "    - humidity: level of humidity {'high', 'normal'}\n",
        "    - windy: either it is windy are not {'yes','no'}\n",
        "Then we aim at predicting either a tennis match can be played or not. \"play\" in {'yes','no'}.\n",
        "\n",
        "\n",
        "\"\"\"\n",
        "import seaborn as sns\n",
        "import pandas as pd\n",
        "from sklearn import preprocessing\n",
        "\n",
        "outlook=['sunny', 'overcast', 'rain']\n",
        "temperature=['hot', 'mild', 'cold']\n",
        "humidity=['high', 'normal']\n",
        "wind=['yes', 'no']\n",
        "play=['yes', 'no']\n",
        "\n",
        "dataset=[[\"outlook\", \"temp\", \"humidity\", \"windy\", \"play\"],\n",
        "    [\"sunny\", \"hot\", \"high\", \"no\", \"no\"],\n",
        "    [\"sunny\", \"hot\", \"high\", \"yes\", \"no\"],\n",
        "    [\"overcast\", \"hot\", \"high\", \"no\", \"yes\"],\n",
        "    [\"rainy\", \"mild\", \"high\", \"no\", \"yes\"],\n",
        "    [\"rainy\", \"cool\", \"normal\", \"no\", \"yes\"],\n",
        "    [\"rainy\", \"cool\", \"normal\", \"yes\", \"no\"],\n",
        "    [\"overcast\", \"cool\", \"normal\", \"yes\", \"yes\"],\n",
        "    [\"sunny\", \"mild\", \"high\", \"no\", \"no\"],\n",
        "    [\"sunny\", \"cool\", \"normal\", \"no\", \"yes\"],\n",
        "    [\"rainy\", \"mild\", \"normal\", \"no\", \"yes\"],\n",
        "    [\"sunny\", \"mild\", \"normal\", \"yes\", \"yes\"],\n",
        "    [\"overcast\", \"mild\", \"high\", \"yes\", \"yes\"],\n",
        "    [\"overcast\", \"hot\", \"normal\", \"no\", \"yes\"],\n",
        "    [\"rainy\", \"mild\", \"high\", \"yes\", \"no\"]]\n",
        "\n",
        "df = pd.DataFrame(dataset[1:], columns=dataset[0])\n",
        "df.head()"
      ]
    },
    {
      "cell_type": "markdown",
      "metadata": {
        "id": "jYctu0jGg6V2"
      },
      "source": [
        " [To do Students]: Complete the following functions"
      ]
    },
    {
      "cell_type": "code",
      "execution_count": 98,
      "metadata": {
        "colab": {
          "base_uri": "https://localhost:8080/",
          "height": 35
        },
        "id": "hV9bMQWwg6V2",
        "outputId": "83167f4a-e838-4994-f22a-82f84a26383a"
      },
      "outputs": [
        {
          "output_type": "execute_result",
          "data": {
            "application/vnd.google.colaboratory.intrinsic+json": {
              "type": "string"
            },
            "text/plain": [
              "'no'"
            ]
          },
          "metadata": {},
          "execution_count": 98
        }
      ],
      "source": [
        "\n",
        "def prior_probability(play_outcome):\n",
        "    \"\"\"\n",
        "    input:\n",
        "        - play_outcome: string taking values in ['yes','no']\n",
        "    output:\n",
        "        - prior probability P(play = play_outcome) \n",
        "    \"\"\"\n",
        "    m = 0\n",
        "    for i in df['play']:\n",
        "        if i==play:\n",
        "            m += 1\n",
        "    return m/len(df['play'])\n",
        "\n",
        "def likelihood(feature_name, feature_value, play_outcome):\n",
        "    \"\"\"\n",
        "    inputs: \n",
        "        feature_name: string with values in df column names\n",
        "        feature_value: given value of the variable corresponding to feature_name\n",
        "        play_outcome: outcome of target variable \"play\" \n",
        "    output:\n",
        "        Compute the conditional probability P(feature_name = feature_value|play= play_outcome)\n",
        "    \"\"\"\n",
        "    #We simply calculate P(feature_name = feature_value|play= play_outcome):\n",
        "    c = feature_name\n",
        "    p1=0\n",
        "    p2=0\n",
        "    for i, j in zip(df[c],df['play']):\n",
        "      if j==play_outcome:\n",
        "        p1 += 1\n",
        "      else:\n",
        "        pass\n",
        "      if (i == feature_value) & (j==play_outcome):\n",
        "        p2 +=1\n",
        "    return p1/p2\n",
        "\n",
        "\n",
        "def predict_play_outcome(outlook,temp,humidity,windy):\n",
        "    \"\"\"\n",
        "    inputs:\n",
        "        outlook: value of outlook for a given observation \n",
        "        temp: value of outlook for a given observation \n",
        "        humidity: value of outlook for a given observation \n",
        "        windy: value of outlook for a given observation \n",
        "    Outputs:\n",
        "        predicted label by multinomial naive bayes for the given observation (outlook,temp,humidity,windy)\n",
        "    \"\"\" \n",
        "    #For each functipn parameter, we calculate P_yes and P_no:\n",
        "    feature_values = [outlook,temp,humidity,windy]\n",
        "    feature_names = ['outlook','temp','humidity','windy']\n",
        "    P_yes=0\n",
        "    P_no=0\n",
        "    for i in range(0,4):\n",
        "      P_yes += likelihood(feature_names[i], feature_values[i],'yes')* prior_probability('yes')\n",
        "      P_no += likelihood(feature_names[i], feature_values[i],'no')* prior_probability('no')\n",
        "    if P_yes > P_no:\n",
        "      return 'yes'\n",
        "    else:\n",
        "      return 'no'\n",
        "\n",
        "predict_play_outcome('sunny', 'cool', 'high', 'yes')    "
      ]
    },
    {
      "cell_type": "markdown",
      "metadata": {
        "id": "pg5Ax6vIg6V3"
      },
      "source": [
        "## The same using sklearn library\n",
        "\n",
        "All features are categorical, we need to use Multinomial Naive Bayes.\n",
        "\n",
        "* Step 1: encode the feature in categories (MultinomialNB doesn't work with string)\n",
        "* Step 2: fit MultinomialNB\n",
        "* Step 3: predict with MultinomialNB"
      ]
    },
    {
      "cell_type": "code",
      "execution_count": 44,
      "metadata": {
        "colab": {
          "base_uri": "https://localhost:8080/",
          "height": 224
        },
        "id": "FPeHTnHMg6V3",
        "outputId": "de0b36ed-c700-4e44-bb10-87972b745453"
      },
      "outputs": [
        {
          "output_type": "stream",
          "name": "stdout",
          "text": [
            "14\n"
          ]
        },
        {
          "output_type": "execute_result",
          "data": {
            "text/html": [
              "\n",
              "  <div id=\"df-acb0fd12-8f7a-4215-8353-69e09cc543bf\">\n",
              "    <div class=\"colab-df-container\">\n",
              "      <div>\n",
              "<style scoped>\n",
              "    .dataframe tbody tr th:only-of-type {\n",
              "        vertical-align: middle;\n",
              "    }\n",
              "\n",
              "    .dataframe tbody tr th {\n",
              "        vertical-align: top;\n",
              "    }\n",
              "\n",
              "    .dataframe thead th {\n",
              "        text-align: right;\n",
              "    }\n",
              "</style>\n",
              "<table border=\"1\" class=\"dataframe\">\n",
              "  <thead>\n",
              "    <tr style=\"text-align: right;\">\n",
              "      <th></th>\n",
              "      <th>outlook</th>\n",
              "      <th>temp</th>\n",
              "      <th>humidity</th>\n",
              "      <th>windy</th>\n",
              "      <th>play</th>\n",
              "    </tr>\n",
              "  </thead>\n",
              "  <tbody>\n",
              "    <tr>\n",
              "      <th>0</th>\n",
              "      <td>2</td>\n",
              "      <td>1</td>\n",
              "      <td>0</td>\n",
              "      <td>0</td>\n",
              "      <td>0</td>\n",
              "    </tr>\n",
              "    <tr>\n",
              "      <th>1</th>\n",
              "      <td>2</td>\n",
              "      <td>1</td>\n",
              "      <td>0</td>\n",
              "      <td>1</td>\n",
              "      <td>0</td>\n",
              "    </tr>\n",
              "    <tr>\n",
              "      <th>2</th>\n",
              "      <td>0</td>\n",
              "      <td>1</td>\n",
              "      <td>0</td>\n",
              "      <td>0</td>\n",
              "      <td>1</td>\n",
              "    </tr>\n",
              "    <tr>\n",
              "      <th>3</th>\n",
              "      <td>1</td>\n",
              "      <td>2</td>\n",
              "      <td>0</td>\n",
              "      <td>0</td>\n",
              "      <td>1</td>\n",
              "    </tr>\n",
              "    <tr>\n",
              "      <th>4</th>\n",
              "      <td>1</td>\n",
              "      <td>0</td>\n",
              "      <td>1</td>\n",
              "      <td>0</td>\n",
              "      <td>1</td>\n",
              "    </tr>\n",
              "  </tbody>\n",
              "</table>\n",
              "</div>\n",
              "      <button class=\"colab-df-convert\" onclick=\"convertToInteractive('df-acb0fd12-8f7a-4215-8353-69e09cc543bf')\"\n",
              "              title=\"Convert this dataframe to an interactive table.\"\n",
              "              style=\"display:none;\">\n",
              "        \n",
              "  <svg xmlns=\"http://www.w3.org/2000/svg\" height=\"24px\"viewBox=\"0 0 24 24\"\n",
              "       width=\"24px\">\n",
              "    <path d=\"M0 0h24v24H0V0z\" fill=\"none\"/>\n",
              "    <path d=\"M18.56 5.44l.94 2.06.94-2.06 2.06-.94-2.06-.94-.94-2.06-.94 2.06-2.06.94zm-11 1L8.5 8.5l.94-2.06 2.06-.94-2.06-.94L8.5 2.5l-.94 2.06-2.06.94zm10 10l.94 2.06.94-2.06 2.06-.94-2.06-.94-.94-2.06-.94 2.06-2.06.94z\"/><path d=\"M17.41 7.96l-1.37-1.37c-.4-.4-.92-.59-1.43-.59-.52 0-1.04.2-1.43.59L10.3 9.45l-7.72 7.72c-.78.78-.78 2.05 0 2.83L4 21.41c.39.39.9.59 1.41.59.51 0 1.02-.2 1.41-.59l7.78-7.78 2.81-2.81c.8-.78.8-2.07 0-2.86zM5.41 20L4 18.59l7.72-7.72 1.47 1.35L5.41 20z\"/>\n",
              "  </svg>\n",
              "      </button>\n",
              "      \n",
              "  <style>\n",
              "    .colab-df-container {\n",
              "      display:flex;\n",
              "      flex-wrap:wrap;\n",
              "      gap: 12px;\n",
              "    }\n",
              "\n",
              "    .colab-df-convert {\n",
              "      background-color: #E8F0FE;\n",
              "      border: none;\n",
              "      border-radius: 50%;\n",
              "      cursor: pointer;\n",
              "      display: none;\n",
              "      fill: #1967D2;\n",
              "      height: 32px;\n",
              "      padding: 0 0 0 0;\n",
              "      width: 32px;\n",
              "    }\n",
              "\n",
              "    .colab-df-convert:hover {\n",
              "      background-color: #E2EBFA;\n",
              "      box-shadow: 0px 1px 2px rgba(60, 64, 67, 0.3), 0px 1px 3px 1px rgba(60, 64, 67, 0.15);\n",
              "      fill: #174EA6;\n",
              "    }\n",
              "\n",
              "    [theme=dark] .colab-df-convert {\n",
              "      background-color: #3B4455;\n",
              "      fill: #D2E3FC;\n",
              "    }\n",
              "\n",
              "    [theme=dark] .colab-df-convert:hover {\n",
              "      background-color: #434B5C;\n",
              "      box-shadow: 0px 1px 3px 1px rgba(0, 0, 0, 0.15);\n",
              "      filter: drop-shadow(0px 1px 2px rgba(0, 0, 0, 0.3));\n",
              "      fill: #FFFFFF;\n",
              "    }\n",
              "  </style>\n",
              "\n",
              "      <script>\n",
              "        const buttonEl =\n",
              "          document.querySelector('#df-acb0fd12-8f7a-4215-8353-69e09cc543bf button.colab-df-convert');\n",
              "        buttonEl.style.display =\n",
              "          google.colab.kernel.accessAllowed ? 'block' : 'none';\n",
              "\n",
              "        async function convertToInteractive(key) {\n",
              "          const element = document.querySelector('#df-acb0fd12-8f7a-4215-8353-69e09cc543bf');\n",
              "          const dataTable =\n",
              "            await google.colab.kernel.invokeFunction('convertToInteractive',\n",
              "                                                     [key], {});\n",
              "          if (!dataTable) return;\n",
              "\n",
              "          const docLinkHtml = 'Like what you see? Visit the ' +\n",
              "            '<a target=\"_blank\" href=https://colab.research.google.com/notebooks/data_table.ipynb>data table notebook</a>'\n",
              "            + ' to learn more about interactive tables.';\n",
              "          element.innerHTML = '';\n",
              "          dataTable['output_type'] = 'display_data';\n",
              "          await google.colab.output.renderOutput(dataTable, element);\n",
              "          const docLink = document.createElement('div');\n",
              "          docLink.innerHTML = docLinkHtml;\n",
              "          element.appendChild(docLink);\n",
              "        }\n",
              "      </script>\n",
              "    </div>\n",
              "  </div>\n",
              "  "
            ],
            "text/plain": [
              "   outlook  temp  humidity  windy  play\n",
              "0        2     1         0      0     0\n",
              "1        2     1         0      1     0\n",
              "2        0     1         0      0     1\n",
              "3        1     2         0      0     1\n",
              "4        1     0         1      0     1"
            ]
          },
          "metadata": {},
          "execution_count": 44
        }
      ],
      "source": [
        "from sklearn.preprocessing import LabelEncoder\n",
        "\n",
        "# instantiate labelencoder object\n",
        "le = LabelEncoder()\n",
        "\n",
        "# fit_transform the dataset\n",
        "df_enc = df.apply(lambda col: le.fit_transform(col))\n",
        "print(len(df))\n",
        "df_enc.head()"
      ]
    },
    {
      "cell_type": "markdown",
      "metadata": {
        "id": "2sz4eQSHg6V4"
      },
      "source": [
        "[To do Students]:\n",
        "- Learn multinomial Naive Bayes using sklearn without and with Laplace smoothing. Plus detail available model hyperparameters of the sklearn implementation.\n",
        "- Compare predicted probabilities and label on df_test\n",
        "- Design an example to highlight importance of Laplace smoothing.\n"
      ]
    },
    {
      "cell_type": "markdown",
      "source": [
        "Let's first create X_train and y_train:"
      ],
      "metadata": {
        "id": "JtV4xnw55J_a"
      }
    },
    {
      "cell_type": "code",
      "source": [
        "X_train = df_enc.drop(['play'], axis=1)\n",
        "y_train = df_enc['play']\n"
      ],
      "metadata": {
        "id": "PHvuWUumoNFP"
      },
      "execution_count": 45,
      "outputs": []
    },
    {
      "cell_type": "markdown",
      "source": [
        "Parameters:\n",
        "- fit_prior:\n",
        "Whether to learn class prior probabilities or not. If false, a uniform prior will be used.\n",
        "- class_prior: \n",
        "Prior probabilities of the classes. If specified the priors are not adjusted according to the data.\n",
        "- alpha: Additive (Laplace/Lidstone) smoothing parameter (0 for no smoothing)."
      ],
      "metadata": {
        "id": "PzOa5rGTGIeV"
      }
    },
    {
      "cell_type": "markdown",
      "source": [
        "##1. With Laplace smoothing"
      ],
      "metadata": {
        "id": "VFGiWBBQnxRX"
      }
    },
    {
      "cell_type": "code",
      "execution_count": 46,
      "metadata": {
        "colab": {
          "base_uri": "https://localhost:8080/"
        },
        "id": "oz0gB--bg6V4",
        "outputId": "fd770f0f-ccf5-4d5b-f39f-5a36f290c1a5"
      },
      "outputs": [
        {
          "output_type": "execute_result",
          "data": {
            "text/plain": [
              "MultinomialNB(alpha=1)"
            ]
          },
          "metadata": {},
          "execution_count": 46
        }
      ],
      "source": [
        "from sklearn.naive_bayes import MultinomialNB\n",
        "\n",
        "#alpha == 1: Yes Laplacian smoothing\n",
        "mnb = MultinomialNB(alpha=1, fit_prior= True, class_prior= None)\n",
        "mnb.fit(X_train, y_train)\n",
        "\n"
      ]
    },
    {
      "cell_type": "code",
      "execution_count": 47,
      "metadata": {
        "colab": {
          "base_uri": "https://localhost:8080/",
          "height": 81
        },
        "id": "7-KNEdQ_g6V5",
        "outputId": "ee86cb60-7691-4bc9-abda-fea993ac3ff5"
      },
      "outputs": [
        {
          "output_type": "execute_result",
          "data": {
            "text/html": [
              "\n",
              "  <div id=\"df-f3f03ba7-0a0f-4397-b821-566394c4a678\">\n",
              "    <div class=\"colab-df-container\">\n",
              "      <div>\n",
              "<style scoped>\n",
              "    .dataframe tbody tr th:only-of-type {\n",
              "        vertical-align: middle;\n",
              "    }\n",
              "\n",
              "    .dataframe tbody tr th {\n",
              "        vertical-align: top;\n",
              "    }\n",
              "\n",
              "    .dataframe thead th {\n",
              "        text-align: right;\n",
              "    }\n",
              "</style>\n",
              "<table border=\"1\" class=\"dataframe\">\n",
              "  <thead>\n",
              "    <tr style=\"text-align: right;\">\n",
              "      <th></th>\n",
              "      <th>outlook</th>\n",
              "      <th>temp</th>\n",
              "      <th>humidity</th>\n",
              "      <th>windy</th>\n",
              "    </tr>\n",
              "  </thead>\n",
              "  <tbody>\n",
              "    <tr>\n",
              "      <th>0</th>\n",
              "      <td>0</td>\n",
              "      <td>0</td>\n",
              "      <td>0</td>\n",
              "      <td>0</td>\n",
              "    </tr>\n",
              "  </tbody>\n",
              "</table>\n",
              "</div>\n",
              "      <button class=\"colab-df-convert\" onclick=\"convertToInteractive('df-f3f03ba7-0a0f-4397-b821-566394c4a678')\"\n",
              "              title=\"Convert this dataframe to an interactive table.\"\n",
              "              style=\"display:none;\">\n",
              "        \n",
              "  <svg xmlns=\"http://www.w3.org/2000/svg\" height=\"24px\"viewBox=\"0 0 24 24\"\n",
              "       width=\"24px\">\n",
              "    <path d=\"M0 0h24v24H0V0z\" fill=\"none\"/>\n",
              "    <path d=\"M18.56 5.44l.94 2.06.94-2.06 2.06-.94-2.06-.94-.94-2.06-.94 2.06-2.06.94zm-11 1L8.5 8.5l.94-2.06 2.06-.94-2.06-.94L8.5 2.5l-.94 2.06-2.06.94zm10 10l.94 2.06.94-2.06 2.06-.94-2.06-.94-.94-2.06-.94 2.06-2.06.94z\"/><path d=\"M17.41 7.96l-1.37-1.37c-.4-.4-.92-.59-1.43-.59-.52 0-1.04.2-1.43.59L10.3 9.45l-7.72 7.72c-.78.78-.78 2.05 0 2.83L4 21.41c.39.39.9.59 1.41.59.51 0 1.02-.2 1.41-.59l7.78-7.78 2.81-2.81c.8-.78.8-2.07 0-2.86zM5.41 20L4 18.59l7.72-7.72 1.47 1.35L5.41 20z\"/>\n",
              "  </svg>\n",
              "      </button>\n",
              "      \n",
              "  <style>\n",
              "    .colab-df-container {\n",
              "      display:flex;\n",
              "      flex-wrap:wrap;\n",
              "      gap: 12px;\n",
              "    }\n",
              "\n",
              "    .colab-df-convert {\n",
              "      background-color: #E8F0FE;\n",
              "      border: none;\n",
              "      border-radius: 50%;\n",
              "      cursor: pointer;\n",
              "      display: none;\n",
              "      fill: #1967D2;\n",
              "      height: 32px;\n",
              "      padding: 0 0 0 0;\n",
              "      width: 32px;\n",
              "    }\n",
              "\n",
              "    .colab-df-convert:hover {\n",
              "      background-color: #E2EBFA;\n",
              "      box-shadow: 0px 1px 2px rgba(60, 64, 67, 0.3), 0px 1px 3px 1px rgba(60, 64, 67, 0.15);\n",
              "      fill: #174EA6;\n",
              "    }\n",
              "\n",
              "    [theme=dark] .colab-df-convert {\n",
              "      background-color: #3B4455;\n",
              "      fill: #D2E3FC;\n",
              "    }\n",
              "\n",
              "    [theme=dark] .colab-df-convert:hover {\n",
              "      background-color: #434B5C;\n",
              "      box-shadow: 0px 1px 3px 1px rgba(0, 0, 0, 0.15);\n",
              "      filter: drop-shadow(0px 1px 2px rgba(0, 0, 0, 0.3));\n",
              "      fill: #FFFFFF;\n",
              "    }\n",
              "  </style>\n",
              "\n",
              "      <script>\n",
              "        const buttonEl =\n",
              "          document.querySelector('#df-f3f03ba7-0a0f-4397-b821-566394c4a678 button.colab-df-convert');\n",
              "        buttonEl.style.display =\n",
              "          google.colab.kernel.accessAllowed ? 'block' : 'none';\n",
              "\n",
              "        async function convertToInteractive(key) {\n",
              "          const element = document.querySelector('#df-f3f03ba7-0a0f-4397-b821-566394c4a678');\n",
              "          const dataTable =\n",
              "            await google.colab.kernel.invokeFunction('convertToInteractive',\n",
              "                                                     [key], {});\n",
              "          if (!dataTable) return;\n",
              "\n",
              "          const docLinkHtml = 'Like what you see? Visit the ' +\n",
              "            '<a target=\"_blank\" href=https://colab.research.google.com/notebooks/data_table.ipynb>data table notebook</a>'\n",
              "            + ' to learn more about interactive tables.';\n",
              "          element.innerHTML = '';\n",
              "          dataTable['output_type'] = 'display_data';\n",
              "          await google.colab.output.renderOutput(dataTable, element);\n",
              "          const docLink = document.createElement('div');\n",
              "          docLink.innerHTML = docLinkHtml;\n",
              "          element.appendChild(docLink);\n",
              "        }\n",
              "      </script>\n",
              "    </div>\n",
              "  </div>\n",
              "  "
            ],
            "text/plain": [
              "   outlook  temp  humidity  windy\n",
              "0        0     0         0      0"
            ]
          },
          "metadata": {},
          "execution_count": 47
        }
      ],
      "source": [
        "# Build new item for prediction\n",
        "df_test = pd.DataFrame(data=[['sunny', 'cool', 'high', 'yes']],\n",
        "                    columns=['outlook', 'temp', 'humidity', 'windy'])\n",
        "\n",
        "# Encode it and make prediction\n",
        "X_test = df_test.apply(lambda col: le.fit_transform(col))\n",
        "X_test"
      ]
    },
    {
      "cell_type": "code",
      "source": [
        "#Prediction:\n",
        "y_pred = mnb.predict_proba(X_test)\n",
        "y_pred"
      ],
      "metadata": {
        "colab": {
          "base_uri": "https://localhost:8080/"
        },
        "id": "LZp8K7o5o45b",
        "outputId": "05e0602a-0b68-430f-dee3-99d64656a34c"
      },
      "execution_count": 48,
      "outputs": [
        {
          "output_type": "execute_result",
          "data": {
            "text/plain": [
              "array([[0.35714286, 0.64285714]])"
            ]
          },
          "metadata": {},
          "execution_count": 48
        }
      ]
    },
    {
      "cell_type": "markdown",
      "source": [
        "With Laplacian smoothing, the predicted test label is class-1 ('yes') with probability 0.642."
      ],
      "metadata": {
        "id": "rdbIMWaEsbTi"
      }
    },
    {
      "cell_type": "markdown",
      "source": [
        "##2. Without Laplace smoothing"
      ],
      "metadata": {
        "id": "fUY8RqJEpxgd"
      }
    },
    {
      "cell_type": "code",
      "source": [
        "from sklearn.naive_bayes import MultinomialNB\n",
        "\n",
        "#alpha : Additive (Laplace/Lidstone) smoothing parameter (0 for no smoothing).\n",
        "mnb2 = MultinomialNB(alpha=0, fit_prior= True, class_prior= None)\n",
        "mnb2.fit(X_train, y_train)\n",
        "\n"
      ],
      "metadata": {
        "colab": {
          "base_uri": "https://localhost:8080/"
        },
        "id": "065E2tpNp2Eb",
        "outputId": "497bd636-3e34-4727-baf5-1f8de7fab2bf"
      },
      "execution_count": 49,
      "outputs": [
        {
          "output_type": "stream",
          "name": "stderr",
          "text": [
            "/usr/local/lib/python3.7/dist-packages/sklearn/naive_bayes.py:557: UserWarning: alpha too small will result in numeric errors, setting alpha = 1.0e-10\n",
            "  % _ALPHA_MIN\n"
          ]
        },
        {
          "output_type": "execute_result",
          "data": {
            "text/plain": [
              "MultinomialNB(alpha=0)"
            ]
          },
          "metadata": {},
          "execution_count": 49
        }
      ]
    },
    {
      "cell_type": "code",
      "source": [
        "#Prediction:\n",
        "y_pred2 = mnb2.predict_proba(X_test)\n",
        "y_pred2"
      ],
      "metadata": {
        "colab": {
          "base_uri": "https://localhost:8080/"
        },
        "id": "XqbdSLc4p5g_",
        "outputId": "7c9b5f6a-a692-42cb-f72a-dda4f0ea2c39"
      },
      "execution_count": 50,
      "outputs": [
        {
          "output_type": "execute_result",
          "data": {
            "text/plain": [
              "array([[0.35714286, 0.64285714]])"
            ]
          },
          "metadata": {},
          "execution_count": 50
        }
      ]
    },
    {
      "cell_type": "markdown",
      "source": [
        "Again the predicted test label is class-1 ('yes') with probability 0.642. The laplacian parameter didn't change anything. The reason could be the training and testing dataset is too small."
      ],
      "metadata": {
        "id": "Z2Tr9UTps-YI"
      }
    },
    {
      "cell_type": "markdown",
      "source": [
        "##3. Design an example to highlight importance of Laplace smoothing"
      ],
      "metadata": {
        "id": "0uAGZxEJHzm6"
      }
    },
    {
      "cell_type": "markdown",
      "source": [
        "If a feature component value is not contained in the training set and is not\n",
        "supported by the estimated conditional distribution of this feature, we use Laplace smoothing. So, create a test set and put a feature that does not in the training set."
      ],
      "metadata": {
        "id": "LYz7shrfH5pr"
      }
    },
    {
      "cell_type": "markdown",
      "source": [
        "Remember the columns and features (the whole dataset):"
      ],
      "metadata": {
        "id": "O75JAbViIcTd"
      }
    },
    {
      "cell_type": "code",
      "source": [
        "outlook=['sunny', 'overcast', 'rain']\n",
        "temperature=['hot', 'mild', 'cold']\n",
        "humidity=['high', 'normal']\n",
        "wind=['yes', 'no']\n",
        "play=['yes', 'no']\n",
        "df.head()"
      ],
      "metadata": {
        "colab": {
          "base_uri": "https://localhost:8080/",
          "height": 206
        },
        "id": "ZDlgzGK7H05f",
        "outputId": "2b6e8589-079e-4f51-ce3b-4d1ce7a314f8"
      },
      "execution_count": 51,
      "outputs": [
        {
          "output_type": "execute_result",
          "data": {
            "text/html": [
              "\n",
              "  <div id=\"df-a1ef5a22-33b2-4a30-8dde-1ac0db7e3847\">\n",
              "    <div class=\"colab-df-container\">\n",
              "      <div>\n",
              "<style scoped>\n",
              "    .dataframe tbody tr th:only-of-type {\n",
              "        vertical-align: middle;\n",
              "    }\n",
              "\n",
              "    .dataframe tbody tr th {\n",
              "        vertical-align: top;\n",
              "    }\n",
              "\n",
              "    .dataframe thead th {\n",
              "        text-align: right;\n",
              "    }\n",
              "</style>\n",
              "<table border=\"1\" class=\"dataframe\">\n",
              "  <thead>\n",
              "    <tr style=\"text-align: right;\">\n",
              "      <th></th>\n",
              "      <th>outlook</th>\n",
              "      <th>temp</th>\n",
              "      <th>humidity</th>\n",
              "      <th>windy</th>\n",
              "      <th>play</th>\n",
              "    </tr>\n",
              "  </thead>\n",
              "  <tbody>\n",
              "    <tr>\n",
              "      <th>0</th>\n",
              "      <td>sunny</td>\n",
              "      <td>hot</td>\n",
              "      <td>high</td>\n",
              "      <td>no</td>\n",
              "      <td>no</td>\n",
              "    </tr>\n",
              "    <tr>\n",
              "      <th>1</th>\n",
              "      <td>sunny</td>\n",
              "      <td>hot</td>\n",
              "      <td>high</td>\n",
              "      <td>yes</td>\n",
              "      <td>no</td>\n",
              "    </tr>\n",
              "    <tr>\n",
              "      <th>2</th>\n",
              "      <td>overcast</td>\n",
              "      <td>hot</td>\n",
              "      <td>high</td>\n",
              "      <td>no</td>\n",
              "      <td>yes</td>\n",
              "    </tr>\n",
              "    <tr>\n",
              "      <th>3</th>\n",
              "      <td>rainy</td>\n",
              "      <td>mild</td>\n",
              "      <td>high</td>\n",
              "      <td>no</td>\n",
              "      <td>yes</td>\n",
              "    </tr>\n",
              "    <tr>\n",
              "      <th>4</th>\n",
              "      <td>rainy</td>\n",
              "      <td>cool</td>\n",
              "      <td>normal</td>\n",
              "      <td>no</td>\n",
              "      <td>yes</td>\n",
              "    </tr>\n",
              "  </tbody>\n",
              "</table>\n",
              "</div>\n",
              "      <button class=\"colab-df-convert\" onclick=\"convertToInteractive('df-a1ef5a22-33b2-4a30-8dde-1ac0db7e3847')\"\n",
              "              title=\"Convert this dataframe to an interactive table.\"\n",
              "              style=\"display:none;\">\n",
              "        \n",
              "  <svg xmlns=\"http://www.w3.org/2000/svg\" height=\"24px\"viewBox=\"0 0 24 24\"\n",
              "       width=\"24px\">\n",
              "    <path d=\"M0 0h24v24H0V0z\" fill=\"none\"/>\n",
              "    <path d=\"M18.56 5.44l.94 2.06.94-2.06 2.06-.94-2.06-.94-.94-2.06-.94 2.06-2.06.94zm-11 1L8.5 8.5l.94-2.06 2.06-.94-2.06-.94L8.5 2.5l-.94 2.06-2.06.94zm10 10l.94 2.06.94-2.06 2.06-.94-2.06-.94-.94-2.06-.94 2.06-2.06.94z\"/><path d=\"M17.41 7.96l-1.37-1.37c-.4-.4-.92-.59-1.43-.59-.52 0-1.04.2-1.43.59L10.3 9.45l-7.72 7.72c-.78.78-.78 2.05 0 2.83L4 21.41c.39.39.9.59 1.41.59.51 0 1.02-.2 1.41-.59l7.78-7.78 2.81-2.81c.8-.78.8-2.07 0-2.86zM5.41 20L4 18.59l7.72-7.72 1.47 1.35L5.41 20z\"/>\n",
              "  </svg>\n",
              "      </button>\n",
              "      \n",
              "  <style>\n",
              "    .colab-df-container {\n",
              "      display:flex;\n",
              "      flex-wrap:wrap;\n",
              "      gap: 12px;\n",
              "    }\n",
              "\n",
              "    .colab-df-convert {\n",
              "      background-color: #E8F0FE;\n",
              "      border: none;\n",
              "      border-radius: 50%;\n",
              "      cursor: pointer;\n",
              "      display: none;\n",
              "      fill: #1967D2;\n",
              "      height: 32px;\n",
              "      padding: 0 0 0 0;\n",
              "      width: 32px;\n",
              "    }\n",
              "\n",
              "    .colab-df-convert:hover {\n",
              "      background-color: #E2EBFA;\n",
              "      box-shadow: 0px 1px 2px rgba(60, 64, 67, 0.3), 0px 1px 3px 1px rgba(60, 64, 67, 0.15);\n",
              "      fill: #174EA6;\n",
              "    }\n",
              "\n",
              "    [theme=dark] .colab-df-convert {\n",
              "      background-color: #3B4455;\n",
              "      fill: #D2E3FC;\n",
              "    }\n",
              "\n",
              "    [theme=dark] .colab-df-convert:hover {\n",
              "      background-color: #434B5C;\n",
              "      box-shadow: 0px 1px 3px 1px rgba(0, 0, 0, 0.15);\n",
              "      filter: drop-shadow(0px 1px 2px rgba(0, 0, 0, 0.3));\n",
              "      fill: #FFFFFF;\n",
              "    }\n",
              "  </style>\n",
              "\n",
              "      <script>\n",
              "        const buttonEl =\n",
              "          document.querySelector('#df-a1ef5a22-33b2-4a30-8dde-1ac0db7e3847 button.colab-df-convert');\n",
              "        buttonEl.style.display =\n",
              "          google.colab.kernel.accessAllowed ? 'block' : 'none';\n",
              "\n",
              "        async function convertToInteractive(key) {\n",
              "          const element = document.querySelector('#df-a1ef5a22-33b2-4a30-8dde-1ac0db7e3847');\n",
              "          const dataTable =\n",
              "            await google.colab.kernel.invokeFunction('convertToInteractive',\n",
              "                                                     [key], {});\n",
              "          if (!dataTable) return;\n",
              "\n",
              "          const docLinkHtml = 'Like what you see? Visit the ' +\n",
              "            '<a target=\"_blank\" href=https://colab.research.google.com/notebooks/data_table.ipynb>data table notebook</a>'\n",
              "            + ' to learn more about interactive tables.';\n",
              "          element.innerHTML = '';\n",
              "          dataTable['output_type'] = 'display_data';\n",
              "          await google.colab.output.renderOutput(dataTable, element);\n",
              "          const docLink = document.createElement('div');\n",
              "          docLink.innerHTML = docLinkHtml;\n",
              "          element.appendChild(docLink);\n",
              "        }\n",
              "      </script>\n",
              "    </div>\n",
              "  </div>\n",
              "  "
            ],
            "text/plain": [
              "    outlook  temp humidity windy play\n",
              "0     sunny   hot     high    no   no\n",
              "1     sunny   hot     high   yes   no\n",
              "2  overcast   hot     high    no  yes\n",
              "3     rainy  mild     high    no  yes\n",
              "4     rainy  cool   normal    no  yes"
            ]
          },
          "metadata": {},
          "execution_count": 51
        }
      ]
    },
    {
      "cell_type": "markdown",
      "source": [
        "- Let's create a test set where features are: ['OVEROVERCAST', 'FREEZING', 'LOW', 'no','yes']. I changed 3 features for testing set namely: 'OVEROVERCAST', 'FREEZING', 'LOW' that are not in training set. I did this because the training dataset is so small, and in oder to observe Laplacian smoothing effect clearly.\n",
        "\n",
        "\n",
        "\n",
        "Then I added it the test set to the training set with pd.concat() function below. The test set and train set labels should be encoded together because the encoded labels should be same. Then we can split them and create test and training data again."
      ],
      "metadata": {
        "id": "455Z-HPdIa71"
      }
    },
    {
      "cell_type": "code",
      "source": [
        "#Create a test set where 'humidity' is LOW:\n",
        "df_lambda_testing = pd.DataFrame(data=[['OVEROVERCAST', 'FREEZING', 'LOW', 'noo','yes']],\n",
        "                    columns=['outlook', 'temp', 'humidity', 'windy','play'])\n",
        "#Merge test and training data:\n",
        "df_all=pd.concat([df,df_lambda_testing])\n",
        "print(len(df_all))\n",
        "df_all"
      ],
      "metadata": {
        "colab": {
          "base_uri": "https://localhost:8080/",
          "height": 537
        },
        "id": "j3thQBy6ILyH",
        "outputId": "24f5c301-dc57-4c53-b058-31279a02b44b"
      },
      "execution_count": 52,
      "outputs": [
        {
          "output_type": "stream",
          "name": "stdout",
          "text": [
            "15\n"
          ]
        },
        {
          "output_type": "execute_result",
          "data": {
            "text/html": [
              "\n",
              "  <div id=\"df-5bbb901c-cc4a-451d-9dd0-988c3852d4db\">\n",
              "    <div class=\"colab-df-container\">\n",
              "      <div>\n",
              "<style scoped>\n",
              "    .dataframe tbody tr th:only-of-type {\n",
              "        vertical-align: middle;\n",
              "    }\n",
              "\n",
              "    .dataframe tbody tr th {\n",
              "        vertical-align: top;\n",
              "    }\n",
              "\n",
              "    .dataframe thead th {\n",
              "        text-align: right;\n",
              "    }\n",
              "</style>\n",
              "<table border=\"1\" class=\"dataframe\">\n",
              "  <thead>\n",
              "    <tr style=\"text-align: right;\">\n",
              "      <th></th>\n",
              "      <th>outlook</th>\n",
              "      <th>temp</th>\n",
              "      <th>humidity</th>\n",
              "      <th>windy</th>\n",
              "      <th>play</th>\n",
              "    </tr>\n",
              "  </thead>\n",
              "  <tbody>\n",
              "    <tr>\n",
              "      <th>0</th>\n",
              "      <td>sunny</td>\n",
              "      <td>hot</td>\n",
              "      <td>high</td>\n",
              "      <td>no</td>\n",
              "      <td>no</td>\n",
              "    </tr>\n",
              "    <tr>\n",
              "      <th>1</th>\n",
              "      <td>sunny</td>\n",
              "      <td>hot</td>\n",
              "      <td>high</td>\n",
              "      <td>yes</td>\n",
              "      <td>no</td>\n",
              "    </tr>\n",
              "    <tr>\n",
              "      <th>2</th>\n",
              "      <td>overcast</td>\n",
              "      <td>hot</td>\n",
              "      <td>high</td>\n",
              "      <td>no</td>\n",
              "      <td>yes</td>\n",
              "    </tr>\n",
              "    <tr>\n",
              "      <th>3</th>\n",
              "      <td>rainy</td>\n",
              "      <td>mild</td>\n",
              "      <td>high</td>\n",
              "      <td>no</td>\n",
              "      <td>yes</td>\n",
              "    </tr>\n",
              "    <tr>\n",
              "      <th>4</th>\n",
              "      <td>rainy</td>\n",
              "      <td>cool</td>\n",
              "      <td>normal</td>\n",
              "      <td>no</td>\n",
              "      <td>yes</td>\n",
              "    </tr>\n",
              "    <tr>\n",
              "      <th>5</th>\n",
              "      <td>rainy</td>\n",
              "      <td>cool</td>\n",
              "      <td>normal</td>\n",
              "      <td>yes</td>\n",
              "      <td>no</td>\n",
              "    </tr>\n",
              "    <tr>\n",
              "      <th>6</th>\n",
              "      <td>overcast</td>\n",
              "      <td>cool</td>\n",
              "      <td>normal</td>\n",
              "      <td>yes</td>\n",
              "      <td>yes</td>\n",
              "    </tr>\n",
              "    <tr>\n",
              "      <th>7</th>\n",
              "      <td>sunny</td>\n",
              "      <td>mild</td>\n",
              "      <td>high</td>\n",
              "      <td>no</td>\n",
              "      <td>no</td>\n",
              "    </tr>\n",
              "    <tr>\n",
              "      <th>8</th>\n",
              "      <td>sunny</td>\n",
              "      <td>cool</td>\n",
              "      <td>normal</td>\n",
              "      <td>no</td>\n",
              "      <td>yes</td>\n",
              "    </tr>\n",
              "    <tr>\n",
              "      <th>9</th>\n",
              "      <td>rainy</td>\n",
              "      <td>mild</td>\n",
              "      <td>normal</td>\n",
              "      <td>no</td>\n",
              "      <td>yes</td>\n",
              "    </tr>\n",
              "    <tr>\n",
              "      <th>10</th>\n",
              "      <td>sunny</td>\n",
              "      <td>mild</td>\n",
              "      <td>normal</td>\n",
              "      <td>yes</td>\n",
              "      <td>yes</td>\n",
              "    </tr>\n",
              "    <tr>\n",
              "      <th>11</th>\n",
              "      <td>overcast</td>\n",
              "      <td>mild</td>\n",
              "      <td>high</td>\n",
              "      <td>yes</td>\n",
              "      <td>yes</td>\n",
              "    </tr>\n",
              "    <tr>\n",
              "      <th>12</th>\n",
              "      <td>overcast</td>\n",
              "      <td>hot</td>\n",
              "      <td>normal</td>\n",
              "      <td>no</td>\n",
              "      <td>yes</td>\n",
              "    </tr>\n",
              "    <tr>\n",
              "      <th>13</th>\n",
              "      <td>rainy</td>\n",
              "      <td>mild</td>\n",
              "      <td>high</td>\n",
              "      <td>yes</td>\n",
              "      <td>no</td>\n",
              "    </tr>\n",
              "    <tr>\n",
              "      <th>0</th>\n",
              "      <td>OVEROVERCAST</td>\n",
              "      <td>FREEZING</td>\n",
              "      <td>LOW</td>\n",
              "      <td>noo</td>\n",
              "      <td>yes</td>\n",
              "    </tr>\n",
              "  </tbody>\n",
              "</table>\n",
              "</div>\n",
              "      <button class=\"colab-df-convert\" onclick=\"convertToInteractive('df-5bbb901c-cc4a-451d-9dd0-988c3852d4db')\"\n",
              "              title=\"Convert this dataframe to an interactive table.\"\n",
              "              style=\"display:none;\">\n",
              "        \n",
              "  <svg xmlns=\"http://www.w3.org/2000/svg\" height=\"24px\"viewBox=\"0 0 24 24\"\n",
              "       width=\"24px\">\n",
              "    <path d=\"M0 0h24v24H0V0z\" fill=\"none\"/>\n",
              "    <path d=\"M18.56 5.44l.94 2.06.94-2.06 2.06-.94-2.06-.94-.94-2.06-.94 2.06-2.06.94zm-11 1L8.5 8.5l.94-2.06 2.06-.94-2.06-.94L8.5 2.5l-.94 2.06-2.06.94zm10 10l.94 2.06.94-2.06 2.06-.94-2.06-.94-.94-2.06-.94 2.06-2.06.94z\"/><path d=\"M17.41 7.96l-1.37-1.37c-.4-.4-.92-.59-1.43-.59-.52 0-1.04.2-1.43.59L10.3 9.45l-7.72 7.72c-.78.78-.78 2.05 0 2.83L4 21.41c.39.39.9.59 1.41.59.51 0 1.02-.2 1.41-.59l7.78-7.78 2.81-2.81c.8-.78.8-2.07 0-2.86zM5.41 20L4 18.59l7.72-7.72 1.47 1.35L5.41 20z\"/>\n",
              "  </svg>\n",
              "      </button>\n",
              "      \n",
              "  <style>\n",
              "    .colab-df-container {\n",
              "      display:flex;\n",
              "      flex-wrap:wrap;\n",
              "      gap: 12px;\n",
              "    }\n",
              "\n",
              "    .colab-df-convert {\n",
              "      background-color: #E8F0FE;\n",
              "      border: none;\n",
              "      border-radius: 50%;\n",
              "      cursor: pointer;\n",
              "      display: none;\n",
              "      fill: #1967D2;\n",
              "      height: 32px;\n",
              "      padding: 0 0 0 0;\n",
              "      width: 32px;\n",
              "    }\n",
              "\n",
              "    .colab-df-convert:hover {\n",
              "      background-color: #E2EBFA;\n",
              "      box-shadow: 0px 1px 2px rgba(60, 64, 67, 0.3), 0px 1px 3px 1px rgba(60, 64, 67, 0.15);\n",
              "      fill: #174EA6;\n",
              "    }\n",
              "\n",
              "    [theme=dark] .colab-df-convert {\n",
              "      background-color: #3B4455;\n",
              "      fill: #D2E3FC;\n",
              "    }\n",
              "\n",
              "    [theme=dark] .colab-df-convert:hover {\n",
              "      background-color: #434B5C;\n",
              "      box-shadow: 0px 1px 3px 1px rgba(0, 0, 0, 0.15);\n",
              "      filter: drop-shadow(0px 1px 2px rgba(0, 0, 0, 0.3));\n",
              "      fill: #FFFFFF;\n",
              "    }\n",
              "  </style>\n",
              "\n",
              "      <script>\n",
              "        const buttonEl =\n",
              "          document.querySelector('#df-5bbb901c-cc4a-451d-9dd0-988c3852d4db button.colab-df-convert');\n",
              "        buttonEl.style.display =\n",
              "          google.colab.kernel.accessAllowed ? 'block' : 'none';\n",
              "\n",
              "        async function convertToInteractive(key) {\n",
              "          const element = document.querySelector('#df-5bbb901c-cc4a-451d-9dd0-988c3852d4db');\n",
              "          const dataTable =\n",
              "            await google.colab.kernel.invokeFunction('convertToInteractive',\n",
              "                                                     [key], {});\n",
              "          if (!dataTable) return;\n",
              "\n",
              "          const docLinkHtml = 'Like what you see? Visit the ' +\n",
              "            '<a target=\"_blank\" href=https://colab.research.google.com/notebooks/data_table.ipynb>data table notebook</a>'\n",
              "            + ' to learn more about interactive tables.';\n",
              "          element.innerHTML = '';\n",
              "          dataTable['output_type'] = 'display_data';\n",
              "          await google.colab.output.renderOutput(dataTable, element);\n",
              "          const docLink = document.createElement('div');\n",
              "          docLink.innerHTML = docLinkHtml;\n",
              "          element.appendChild(docLink);\n",
              "        }\n",
              "      </script>\n",
              "    </div>\n",
              "  </div>\n",
              "  "
            ],
            "text/plain": [
              "         outlook      temp humidity windy play\n",
              "0          sunny       hot     high    no   no\n",
              "1          sunny       hot     high   yes   no\n",
              "2       overcast       hot     high    no  yes\n",
              "3          rainy      mild     high    no  yes\n",
              "4          rainy      cool   normal    no  yes\n",
              "5          rainy      cool   normal   yes   no\n",
              "6       overcast      cool   normal   yes  yes\n",
              "7          sunny      mild     high    no   no\n",
              "8          sunny      cool   normal    no  yes\n",
              "9          rainy      mild   normal    no  yes\n",
              "10         sunny      mild   normal   yes  yes\n",
              "11      overcast      mild     high   yes  yes\n",
              "12      overcast       hot   normal    no  yes\n",
              "13         rainy      mild     high   yes   no\n",
              "0   OVEROVERCAST  FREEZING      LOW   noo  yes"
            ]
          },
          "metadata": {},
          "execution_count": 52
        }
      ]
    },
    {
      "cell_type": "markdown",
      "source": [
        "Encode the all dataframe:"
      ],
      "metadata": {
        "id": "NW_iXBDKSTxC"
      }
    },
    {
      "cell_type": "code",
      "source": [
        "#The testing and training set was merged as df_all. Now we encode them:\n",
        "from sklearn.preprocessing import LabelEncoder\n",
        "\n",
        "# instantiate labelencoder object\n",
        "le = LabelEncoder()\n",
        "df_all_encoded = df_all.apply(lambda col: le.fit_transform(col))\n",
        "print(len(df_all_encoded))\n",
        "#df_all_encoded"
      ],
      "metadata": {
        "id": "ee6m_7qDR2Hw"
      },
      "execution_count": null,
      "outputs": []
    },
    {
      "cell_type": "markdown",
      "source": [
        "Split test and train datasets. The last row of the df_all will be the test set."
      ],
      "metadata": {
        "id": "p7kcZlCWSZ32"
      }
    },
    {
      "cell_type": "code",
      "source": [
        "#Test set:\n",
        "test = df_all_encoded[-1:]\n",
        "#Create X_test and y_test:\n",
        "X_testt = test.drop(['play'], axis=1)\n",
        "y_testt = test['play']\n",
        "X_testt"
      ],
      "metadata": {
        "colab": {
          "base_uri": "https://localhost:8080/",
          "height": 81
        },
        "id": "Yr4aWRo2SkXI",
        "outputId": "c9ba38f7-abf0-4e34-e466-2cbab7c7020c"
      },
      "execution_count": 54,
      "outputs": [
        {
          "output_type": "execute_result",
          "data": {
            "text/html": [
              "\n",
              "  <div id=\"df-00b0b2a9-1e26-4c71-a258-1afba09ad740\">\n",
              "    <div class=\"colab-df-container\">\n",
              "      <div>\n",
              "<style scoped>\n",
              "    .dataframe tbody tr th:only-of-type {\n",
              "        vertical-align: middle;\n",
              "    }\n",
              "\n",
              "    .dataframe tbody tr th {\n",
              "        vertical-align: top;\n",
              "    }\n",
              "\n",
              "    .dataframe thead th {\n",
              "        text-align: right;\n",
              "    }\n",
              "</style>\n",
              "<table border=\"1\" class=\"dataframe\">\n",
              "  <thead>\n",
              "    <tr style=\"text-align: right;\">\n",
              "      <th></th>\n",
              "      <th>outlook</th>\n",
              "      <th>temp</th>\n",
              "      <th>humidity</th>\n",
              "      <th>windy</th>\n",
              "    </tr>\n",
              "  </thead>\n",
              "  <tbody>\n",
              "    <tr>\n",
              "      <th>0</th>\n",
              "      <td>0</td>\n",
              "      <td>0</td>\n",
              "      <td>0</td>\n",
              "      <td>1</td>\n",
              "    </tr>\n",
              "  </tbody>\n",
              "</table>\n",
              "</div>\n",
              "      <button class=\"colab-df-convert\" onclick=\"convertToInteractive('df-00b0b2a9-1e26-4c71-a258-1afba09ad740')\"\n",
              "              title=\"Convert this dataframe to an interactive table.\"\n",
              "              style=\"display:none;\">\n",
              "        \n",
              "  <svg xmlns=\"http://www.w3.org/2000/svg\" height=\"24px\"viewBox=\"0 0 24 24\"\n",
              "       width=\"24px\">\n",
              "    <path d=\"M0 0h24v24H0V0z\" fill=\"none\"/>\n",
              "    <path d=\"M18.56 5.44l.94 2.06.94-2.06 2.06-.94-2.06-.94-.94-2.06-.94 2.06-2.06.94zm-11 1L8.5 8.5l.94-2.06 2.06-.94-2.06-.94L8.5 2.5l-.94 2.06-2.06.94zm10 10l.94 2.06.94-2.06 2.06-.94-2.06-.94-.94-2.06-.94 2.06-2.06.94z\"/><path d=\"M17.41 7.96l-1.37-1.37c-.4-.4-.92-.59-1.43-.59-.52 0-1.04.2-1.43.59L10.3 9.45l-7.72 7.72c-.78.78-.78 2.05 0 2.83L4 21.41c.39.39.9.59 1.41.59.51 0 1.02-.2 1.41-.59l7.78-7.78 2.81-2.81c.8-.78.8-2.07 0-2.86zM5.41 20L4 18.59l7.72-7.72 1.47 1.35L5.41 20z\"/>\n",
              "  </svg>\n",
              "      </button>\n",
              "      \n",
              "  <style>\n",
              "    .colab-df-container {\n",
              "      display:flex;\n",
              "      flex-wrap:wrap;\n",
              "      gap: 12px;\n",
              "    }\n",
              "\n",
              "    .colab-df-convert {\n",
              "      background-color: #E8F0FE;\n",
              "      border: none;\n",
              "      border-radius: 50%;\n",
              "      cursor: pointer;\n",
              "      display: none;\n",
              "      fill: #1967D2;\n",
              "      height: 32px;\n",
              "      padding: 0 0 0 0;\n",
              "      width: 32px;\n",
              "    }\n",
              "\n",
              "    .colab-df-convert:hover {\n",
              "      background-color: #E2EBFA;\n",
              "      box-shadow: 0px 1px 2px rgba(60, 64, 67, 0.3), 0px 1px 3px 1px rgba(60, 64, 67, 0.15);\n",
              "      fill: #174EA6;\n",
              "    }\n",
              "\n",
              "    [theme=dark] .colab-df-convert {\n",
              "      background-color: #3B4455;\n",
              "      fill: #D2E3FC;\n",
              "    }\n",
              "\n",
              "    [theme=dark] .colab-df-convert:hover {\n",
              "      background-color: #434B5C;\n",
              "      box-shadow: 0px 1px 3px 1px rgba(0, 0, 0, 0.15);\n",
              "      filter: drop-shadow(0px 1px 2px rgba(0, 0, 0, 0.3));\n",
              "      fill: #FFFFFF;\n",
              "    }\n",
              "  </style>\n",
              "\n",
              "      <script>\n",
              "        const buttonEl =\n",
              "          document.querySelector('#df-00b0b2a9-1e26-4c71-a258-1afba09ad740 button.colab-df-convert');\n",
              "        buttonEl.style.display =\n",
              "          google.colab.kernel.accessAllowed ? 'block' : 'none';\n",
              "\n",
              "        async function convertToInteractive(key) {\n",
              "          const element = document.querySelector('#df-00b0b2a9-1e26-4c71-a258-1afba09ad740');\n",
              "          const dataTable =\n",
              "            await google.colab.kernel.invokeFunction('convertToInteractive',\n",
              "                                                     [key], {});\n",
              "          if (!dataTable) return;\n",
              "\n",
              "          const docLinkHtml = 'Like what you see? Visit the ' +\n",
              "            '<a target=\"_blank\" href=https://colab.research.google.com/notebooks/data_table.ipynb>data table notebook</a>'\n",
              "            + ' to learn more about interactive tables.';\n",
              "          element.innerHTML = '';\n",
              "          dataTable['output_type'] = 'display_data';\n",
              "          await google.colab.output.renderOutput(dataTable, element);\n",
              "          const docLink = document.createElement('div');\n",
              "          docLink.innerHTML = docLinkHtml;\n",
              "          element.appendChild(docLink);\n",
              "        }\n",
              "      </script>\n",
              "    </div>\n",
              "  </div>\n",
              "  "
            ],
            "text/plain": [
              "   outlook  temp  humidity  windy\n",
              "0        0     0         0      1"
            ]
          },
          "metadata": {},
          "execution_count": 54
        }
      ]
    },
    {
      "cell_type": "markdown",
      "source": [
        "We created the test set. Now, drop the last row of the df_all since it is the test set. The rest of the dataset is the traning dataset:"
      ],
      "metadata": {
        "id": "k5L9vdgDYOll"
      }
    },
    {
      "cell_type": "code",
      "source": [
        "#Drop the last row:\n",
        "df_all_encoded = df_all_encoded[:len(df_all_encoded)-1]\n",
        "print(len(df_all_encoded))\n",
        "#df_all_encoded"
      ],
      "metadata": {
        "id": "sTaA-l9VLOsJ"
      },
      "execution_count": null,
      "outputs": []
    },
    {
      "cell_type": "markdown",
      "source": [
        "Create X_train and y_train:"
      ],
      "metadata": {
        "id": "H4rwBK-8YgoN"
      }
    },
    {
      "cell_type": "code",
      "source": [
        "X_trainn = df_all_encoded.drop(['play'], axis=1)\n",
        "y_trainn = df_all_encoded['play']\n",
        "print(len(X_trainn), len(y_trainn))"
      ],
      "metadata": {
        "colab": {
          "base_uri": "https://localhost:8080/"
        },
        "id": "X0i3qbxkUmZ9",
        "outputId": "011616ab-c6c9-4b32-bb5e-c94660baf3ea"
      },
      "execution_count": 56,
      "outputs": [
        {
          "output_type": "stream",
          "name": "stdout",
          "text": [
            "14 14\n"
          ]
        }
      ]
    },
    {
      "cell_type": "markdown",
      "source": [
        "Now let's build two MultinomialNB() models with and without Laplacian smooting:"
      ],
      "metadata": {
        "id": "fnfw3Cj0YkkT"
      }
    },
    {
      "cell_type": "code",
      "source": [
        "from sklearn.naive_bayes import MultinomialNB\n",
        "\n",
        "#alpha == 1:Laplacian smoothing exists:\n",
        "mnb_yes_laplacian = MultinomialNB(alpha=1, fit_prior= True, class_prior= None)\n",
        "\n",
        "#Fit the model\n",
        "mnb_yes_laplacian.fit(X_trainn, y_trainn)\n",
        "\n",
        "#Predict the probability:\n",
        "y_pred_proba = mnb_yes_laplacian.predict_proba(X_testt)\n",
        "print(y_pred_proba)"
      ],
      "metadata": {
        "colab": {
          "base_uri": "https://localhost:8080/"
        },
        "id": "iDU1fzCCUzTA",
        "outputId": "5998e900-6392-4c18-b266-d8e37d5d45df"
      },
      "execution_count": 57,
      "outputs": [
        {
          "output_type": "stream",
          "name": "stdout",
          "text": [
            "[[0.45454545 0.54545455]]\n"
          ]
        }
      ]
    },
    {
      "cell_type": "markdown",
      "source": [
        "The prediction for class-1 'yes' has probability of 0.545 with Laplacian smoothing."
      ],
      "metadata": {
        "id": "HmVadWlBZRhh"
      }
    },
    {
      "cell_type": "markdown",
      "source": [
        "Now, let's build another MultinomialNB() model WITHOUT Laplacian smoothing:"
      ],
      "metadata": {
        "id": "53JoAcPjZcr5"
      }
    },
    {
      "cell_type": "code",
      "source": [
        "from sklearn.naive_bayes import MultinomialNB\n",
        "\n",
        "#alpha == 0: Laplacian smoothing DOES NOT exist:\n",
        "mnb_no_laplacian = MultinomialNB(alpha=0.000, fit_prior= True, class_prior= None)\n",
        "\n",
        "#Fit the model\n",
        "mnb_no_laplacian.fit(X_trainn, y_trainn)\n",
        "\n",
        "#Predict the probability:\n",
        "y_pred_prob = mnb_no_laplacian.predict_proba(X_testt)\n",
        "print(y_pred_prob)"
      ],
      "metadata": {
        "colab": {
          "base_uri": "https://localhost:8080/"
        },
        "id": "_WtfBnX-ZmjJ",
        "outputId": "e3a09461-bc24-49d3-eea3-a4549803b732"
      },
      "execution_count": 58,
      "outputs": [
        {
          "output_type": "stream",
          "name": "stdout",
          "text": [
            "   outlook  temp  humidity  windy\n",
            "0        0     0         0      1\n",
            "[[0.46357616 0.53642384]]\n"
          ]
        },
        {
          "output_type": "stream",
          "name": "stderr",
          "text": [
            "/usr/local/lib/python3.7/dist-packages/sklearn/naive_bayes.py:557: UserWarning: alpha too small will result in numeric errors, setting alpha = 1.0e-10\n",
            "  % _ALPHA_MIN\n"
          ]
        }
      ]
    },
    {
      "cell_type": "markdown",
      "source": [
        "The prediction for class-1 'yes' has probability of 0.536 without Laplacian smoothing."
      ],
      "metadata": {
        "id": "B5Y92i8xyjyk"
      }
    },
    {
      "cell_type": "markdown",
      "source": [
        "Results and discussion:\n",
        "\n",
        "- True label = 'yes'\n",
        "- with Laplacian smoothing= 0.545 'yes'\n",
        "- without Laplacian smoothing= 0.536 'yes'\n",
        "\n",
        "The features belong to data point in test set are all different from train set features. With this way I only observe the laplacian effect. When I only change one feature in the test set, the MultinomialNB() prediction does not change among alpha=1 and alpha=0. \n",
        "\n",
        "The laplacian smoothing increased the accuracy for prediction of true class.\n"
      ],
      "metadata": {
        "id": "zNypCAcRypzx"
      }
    },
    {
      "cell_type": "markdown",
      "metadata": {
        "id": "i1fzL9_kg6V5"
      },
      "source": [
        "## Multinomial Naive Bays: text classification\n",
        "\n",
        "\n",
        "One place where multinomial naive Bayes is often used is in text classification, where the features are related to word counts or frequencies within the documents to be classified.\n",
        "We discussed the extraction of such features from text in [Feature Engineering](05.04-Feature-Engineering.ipynb); here we will use the sparse word count features from the 20 Newsgroups corpus to show how we might classify these short documents into categories.\n",
        "\n",
        "Let's download the data and take a look at the target names:"
      ]
    },
    {
      "cell_type": "code",
      "execution_count": 73,
      "metadata": {
        "colab": {
          "base_uri": "https://localhost:8080/"
        },
        "id": "KsDqyhAxg6V5",
        "outputId": "b44d3aca-cbe0-498d-eca5-883646cc53b3"
      },
      "outputs": [
        {
          "output_type": "execute_result",
          "data": {
            "text/plain": [
              "['alt.atheism',\n",
              " 'comp.graphics',\n",
              " 'comp.os.ms-windows.misc',\n",
              " 'comp.sys.ibm.pc.hardware',\n",
              " 'comp.sys.mac.hardware',\n",
              " 'comp.windows.x',\n",
              " 'misc.forsale',\n",
              " 'rec.autos',\n",
              " 'rec.motorcycles',\n",
              " 'rec.sport.baseball',\n",
              " 'rec.sport.hockey',\n",
              " 'sci.crypt',\n",
              " 'sci.electronics',\n",
              " 'sci.med',\n",
              " 'sci.space',\n",
              " 'soc.religion.christian',\n",
              " 'talk.politics.guns',\n",
              " 'talk.politics.mideast',\n",
              " 'talk.politics.misc',\n",
              " 'talk.religion.misc']"
            ]
          },
          "metadata": {},
          "execution_count": 73
        }
      ],
      "source": [
        "from sklearn.datasets import fetch_20newsgroups\n",
        "\n",
        "data = fetch_20newsgroups()\n",
        "data.target_names"
      ]
    },
    {
      "cell_type": "markdown",
      "metadata": {
        "id": "4cU53Frkg6V6"
      },
      "source": [
        "For simplicity here, we will select just a few of these categories, and download the training and testing set:"
      ]
    },
    {
      "cell_type": "code",
      "execution_count": 74,
      "metadata": {
        "id": "v0aoMbGvg6V6"
      },
      "outputs": [],
      "source": [
        "categories = ['talk.religion.misc', 'soc.religion.christian',\n",
        "              'sci.space', 'comp.graphics']\n",
        "train = fetch_20newsgroups(subset='train', categories=categories)\n",
        "test = fetch_20newsgroups(subset='test', categories=categories)"
      ]
    },
    {
      "cell_type": "code",
      "execution_count": 75,
      "metadata": {
        "colab": {
          "base_uri": "https://localhost:8080/"
        },
        "id": "bEKnzcSpg6V6",
        "outputId": "56c1fdba-d2ba-4e3a-811e-2c51c2852898"
      },
      "outputs": [
        {
          "output_type": "stream",
          "name": "stdout",
          "text": [
            "From: dmcgee@uluhe.soest.hawaii.edu (Don McGee)\n",
            "Subject: Federal Hearing\n",
            "Originator: dmcgee@uluhe\n",
            "Organization: School of Ocean and Earth Science and Technology\n",
            "Distribution: usa\n",
            "Lines: 10\n",
            "\n",
            "\n",
            "Fact or rumor....?  Madalyn Murray O'Hare an atheist who eliminated the\n",
            "use of the bible reading and prayer in public schools 15 years ago is now\n",
            "going to appear before the FCC with a petition to stop the reading of the\n",
            "Gospel on the airways of America.  And she is also campaigning to remove\n",
            "Christmas programs, songs, etc from the public schools.  If it is true\n",
            "then mail to Federal Communications Commission 1919 H Street Washington DC\n",
            "20054 expressing your opposition to her request.  Reference Petition number\n",
            "\n",
            "2493.\n",
            "\n"
          ]
        }
      ],
      "source": [
        "print(train.data[5])"
      ]
    },
    {
      "cell_type": "markdown",
      "metadata": {
        "id": "yjQIGqMHg6V7"
      },
      "source": [
        "In order to use this data for machine learning, we need to be able to convert the content of each string into a vector of numbers.\n",
        "For this we will use the well-known TF-IDF vectorizer, and create a pipeline that attaches it to a multinomial naive Bayes classifier:"
      ]
    },
    {
      "cell_type": "code",
      "execution_count": 76,
      "metadata": {
        "id": "HZ2N0ipcg6V8"
      },
      "outputs": [],
      "source": [
        "from sklearn.feature_extraction.text import TfidfVectorizer\n",
        "from sklearn.naive_bayes import MultinomialNB\n",
        "from sklearn.pipeline import make_pipeline\n",
        "\n",
        "model = make_pipeline(TfidfVectorizer(), MultinomialNB())"
      ]
    },
    {
      "cell_type": "markdown",
      "metadata": {
        "id": "JbphtigVg6V8"
      },
      "source": [
        "With this pipeline, we can apply the model to the training data, and predict labels for the test data:"
      ]
    },
    {
      "cell_type": "code",
      "execution_count": 77,
      "metadata": {
        "id": "d3D6u6xQg6V8"
      },
      "outputs": [],
      "source": [
        "model.fit(train.data, train.target)\n",
        "labels = model.predict(test.data)"
      ]
    },
    {
      "cell_type": "markdown",
      "metadata": {
        "id": "C3uAZFUzg6V9"
      },
      "source": [
        "Now that we have predicted the labels for the test data, we can evaluate them to learn about the performance of the estimator.\n",
        "For example, here is the confusion matrix between the true and predicted labels for the test data:"
      ]
    },
    {
      "cell_type": "code",
      "execution_count": 78,
      "metadata": {
        "colab": {
          "base_uri": "https://localhost:8080/",
          "height": 373
        },
        "id": "6ltqZkoMg6V9",
        "outputId": "0ae65b6c-29e2-4373-daee-75adb58a75f3"
      },
      "outputs": [
        {
          "output_type": "display_data",
          "data": {
            "image/png": "[encoded data removed]",
            "text/plain": [
              "<Figure size 432x288 with 1 Axes>"
            ]
          },
          "metadata": {
            "needs_background": "light"
          }
        }
      ],
      "source": [
        "from sklearn.metrics import confusion_matrix\n",
        "import matplotlib.pyplot as plt\n",
        "mat = confusion_matrix(test.target, labels)\n",
        "sns.heatmap(mat.T, square=True, annot=True, fmt='d', cbar=False,\n",
        "            xticklabels=train.target_names, yticklabels=train.target_names)\n",
        "plt.xlabel('true label')\n",
        "plt.ylabel('predicted label');"
      ]
    },
    {
      "cell_type": "markdown",
      "metadata": {
        "id": "Fuy49lOug6V-"
      },
      "source": [
        "Evidently, even this very simple classifier can successfully separate space talk from computer talk, but it gets confused between talk about religion and talk about Christianity.\n",
        "This is perhaps an expected area of confusion!\n",
        "\n",
        "The very cool thing here is that we now have the tools to determine the category for *any* string, using the ``predict()`` method of this pipeline.\n",
        "Here's a quick utility function that will return the prediction for a single string:"
      ]
    },
    {
      "cell_type": "code",
      "execution_count": 67,
      "metadata": {
        "id": "FXXqC5j8g6V-"
      },
      "outputs": [],
      "source": [
        "def predict_category(s, train=train, model=model):\n",
        "    pred = model.predict([s])\n",
        "    return train.target_names[pred[0]]"
      ]
    },
    {
      "cell_type": "code",
      "execution_count": 68,
      "metadata": {
        "colab": {
          "base_uri": "https://localhost:8080/",
          "height": 35
        },
        "id": "0aUnjlQig6V_",
        "outputId": "86f26461-0204-455e-bb07-fdef28315d35"
      },
      "outputs": [
        {
          "output_type": "execute_result",
          "data": {
            "application/vnd.google.colaboratory.intrinsic+json": {
              "type": "string"
            },
            "text/plain": [
              "'sci.space'"
            ]
          },
          "metadata": {},
          "execution_count": 68
        }
      ],
      "source": [
        "predict_category('sending a payload to the ISS')"
      ]
    },
    {
      "cell_type": "code",
      "execution_count": 69,
      "metadata": {
        "colab": {
          "base_uri": "https://localhost:8080/",
          "height": 35
        },
        "id": "VrZKSsJdg6V_",
        "outputId": "7a2bb2cd-11f1-44f4-d1f6-fb1ee7506804"
      },
      "outputs": [
        {
          "output_type": "execute_result",
          "data": {
            "application/vnd.google.colaboratory.intrinsic+json": {
              "type": "string"
            },
            "text/plain": [
              "'comp.graphics'"
            ]
          },
          "metadata": {},
          "execution_count": 69
        }
      ],
      "source": [
        "predict_category('determining the screen resolution')"
      ]
    },
    {
      "cell_type": "markdown",
      "metadata": {
        "id": "svEYVJCCg6V_"
      },
      "source": [
        "Remember that this is nothing more sophisticated than a simple probability model for the (weighted) frequency of each word in the string; nevertheless, the result is striking.\n",
        "Even a very naive algorithm, when used carefully and trained on a large set of high-dimensional data, can be surprisingly effective."
      ]
    },
    {
      "cell_type": "markdown",
      "metadata": {
        "id": "v-bO0a3wg6WA"
      },
      "source": [
        "## Naive Bayes with continuous data from scratch"
      ]
    },
    {
      "cell_type": "markdown",
      "metadata": {
        "id": "sBR41WKeg6WA"
      },
      "source": [
        "For continuous data we assume the conditional probabilities P(X|Y) to follow gaussian distributions. "
      ]
    },
    {
      "cell_type": "code",
      "execution_count": 70,
      "metadata": {
        "id": "vcwjVjNtg6WA"
      },
      "outputs": [],
      "source": [
        "''' Define the dataset '''\n",
        "import numpy as np\n",
        "\n",
        "Yes=[25.2,19.3,18.5,21.7,20.1,24.3,22.8,23.1,19.8]\n",
        "No=[27.3,30.1,17.4,29.5,15.1]"
      ]
    },
    {
      "cell_type": "markdown",
      "metadata": {
        "id": "DXu7_0yeg6WA"
      },
      "source": [
        "[TO DO STUDENTS]\n",
        "\n",
        "- Implement the computation of first and second moments of the continuous feature for each class.\n",
        "- Implement the computation of the posterior probability P(Y|X)"
      ]
    },
    {
      "cell_type": "code",
      "execution_count": 85,
      "metadata": {
        "id": "-ZVxpDEzg6WB"
      },
      "outputs": [],
      "source": [
        "''' Calculate the posterior probability P(Y|X) '''\n",
        "def P(x, y=True):\n",
        "  if x==True:\n",
        "    posterior_probability = 1\n",
        "  else:\n",
        "    posterior_probability = 0\n",
        "  return posterior_probability"
      ]
    },
    {
      "cell_type": "code",
      "execution_count": 86,
      "metadata": {
        "colab": {
          "base_uri": "https://localhost:8080/",
          "height": 265
        },
        "id": "oGQS69iAg6WB",
        "outputId": "bbdc3799-4818-4035-962a-abf03413801a"
      },
      "outputs": [
        {
          "output_type": "display_data",
          "data": {
            "image/png": "[encoded data removed]",
            "text/plain": [
              "<Figure size 432x288 with 1 Axes>"
            ]
          },
          "metadata": {
            "needs_background": "light"
          }
        }
      ],
      "source": [
        "''' Plot the boundaries '''\n",
        "import matplotlib.pyplot as plt\n",
        "import math\n",
        "%matplotlib inline\n",
        "\n",
        "x_min, x_max = min(Yes+No)-1, max(Yes+No)+1\n",
        "\n",
        "plt.plot(Yes, np.zeros_like(Yes),'ro')\n",
        "plt.plot(No, np.zeros_like(No),'bo')\n",
        "\n",
        "xx=np.linspace(x_min,x_max,100)\n",
        "zz=[1 if P(x, True)>=P(x, False) else 0 for x in xx]\n",
        "\n",
        "plt.contourf(xx, [-0.05, 0.05], [zz, zz], alpha=0.3);"
      ]
    },
    {
      "cell_type": "markdown",
      "metadata": {
        "id": "upRZ6Bteg6WB"
      },
      "source": [
        "## Naive Bayes with continous using sklearn library\n",
        "\n",
        "Data are continous, we use Gaussian Naive Bayes"
      ]
    },
    {
      "cell_type": "code",
      "execution_count": 81,
      "metadata": {
        "colab": {
          "base_uri": "https://localhost:8080/",
          "height": 35
        },
        "id": "lyvXeBGyg6WC",
        "outputId": "295ff316-8876-4de2-fe84-4a358dbfa56f"
      },
      "outputs": [
        {
          "output_type": "execute_result",
          "data": {
            "application/vnd.google.colaboratory.intrinsic+json": {
              "type": "string"
            },
            "text/plain": [
              "'\\n[TO DO STUDENTS]\\nLearn a Gaussian Naive Bayes classifier using sklearn implementation on this data (X,y)\\n'"
            ]
          },
          "metadata": {},
          "execution_count": 81
        }
      ],
      "source": [
        "from sklearn.naive_bayes import GaussianNB\n",
        "\n",
        "X = np.array([Yes + No]).reshape(-1, 1)\n",
        "y = [1]*len(Yes)+[0]*len(No)\n",
        "\n",
        "nb = GaussianNB()\n",
        "nb.fit(X, y)\n",
        "\"\"\"\n",
        "[TO DO STUDENTS]\n",
        "Learn a Gaussian Naive Bayes classifier using sklearn implementation on this data (X,y)\n",
        "\"\"\""
      ]
    },
    {
      "cell_type": "code",
      "execution_count": 82,
      "metadata": {
        "colab": {
          "base_uri": "https://localhost:8080/",
          "height": 265
        },
        "id": "a363bbCcg6WC",
        "outputId": "4da96e83-570f-453d-ef46-17816123b1b9"
      },
      "outputs": [
        {
          "output_type": "display_data",
          "data": {
            "image/png": "[encoded data removed]",
            "text/plain": [
              "<Figure size 432x288 with 1 Axes>"
            ]
          },
          "metadata": {
            "needs_background": "light"
          }
        }
      ],
      "source": [
        "xx=np.linspace(x_min,x_max,1000).reshape(-1, 1)\n",
        "zz = nb.predict(xx).tolist()\n",
        "\n",
        "plt.plot(Yes, np.zeros_like(Yes),'ro')\n",
        "plt.plot(No, np.zeros_like(No),'bo')\n",
        "plt.contourf(xx.ravel().tolist(), [-0.05, 0.05], [zz, zz], alpha=0.3);"
      ]
    }
  ],
  "metadata": {
    "kernelspec": {
      "display_name": "Python 3",
      "language": "python",
      "name": "python3"
    },
    "language_info": {
      "codemirror_mode": {
        "name": "ipython",
        "version": 3
      },
      "file_extension": ".py",
      "mimetype": "text/x-python",
      "name": "python",
      "nbconvert_exporter": "python",
      "pygments_lexer": "ipython3",
      "version": "3.7.7"
    },
    "colab": {
      "name": "03-_ML_NaiveBayes_Ufuk_Cem_Birbiri.ipynb",
      "provenance": [],
      "collapsed_sections": []
    }
  },
  "nbformat": 4,
  "nbformat_minor": 0
}