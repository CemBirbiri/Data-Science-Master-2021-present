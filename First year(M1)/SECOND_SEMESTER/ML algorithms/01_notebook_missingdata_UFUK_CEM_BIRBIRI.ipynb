{
  "cells": [
    {
      "cell_type": "markdown",
      "id": "94a5cc77",
      "metadata": {
        "id": "94a5cc77"
      },
      "source": [
        "# Work with Missing value, Outlier, Unbalanced Dataset"
      ]
    },
    {
      "cell_type": "markdown",
      "id": "276d1fe3",
      "metadata": {
        "toc": true,
        "id": "276d1fe3"
      },
      "source": [
        "<h1>Table of Contents<span class=\"tocSkip\"></span></h1>\n",
        "<div class=\"toc\"><ul class=\"toc-item\"><li><span><a href=\"#Imports-and-Dataset\" data-toc-modified-id=\"Imports-and-Dataset-1\"><span class=\"toc-item-num\">1&nbsp;&nbsp;</span>Imports and Dataset</a></span></li><li><span><a href=\"#Sampler,--transformer-and-estimator\" data-toc-modified-id=\"Sampler,--transformer-and-estimator-2\"><span class=\"toc-item-num\">2&nbsp;&nbsp;</span>Sampler,  transformer and estimator</a></span></li><li><span><a href=\"#Lab-1:-Missing-value\" data-toc-modified-id=\"Lab-1:-Missing-value-3\"><span class=\"toc-item-num\">3&nbsp;&nbsp;</span>Lab 1: Missing value</a></span></li><li><span><a href=\"#Outlier-removal\" data-toc-modified-id=\"Outlier-removal-4\"><span class=\"toc-item-num\">4&nbsp;&nbsp;</span>Outlier removal</a></span></li><li><span><a href=\"#Unbalance-dataset\" data-toc-modified-id=\"Unbalance-dataset-5\"><span class=\"toc-item-num\">5&nbsp;&nbsp;</span>Unbalance dataset</a></span></li></ul></div>"
      ]
    },
    {
      "cell_type": "markdown",
      "id": "526203a3",
      "metadata": {
        "id": "526203a3"
      },
      "source": [
        "## Imports and Dataset "
      ]
    },
    {
      "cell_type": "code",
      "execution_count": 105,
      "id": "607a3ad6",
      "metadata": {
        "ExecuteTime": {
          "end_time": "2022-01-06T08:00:40.038388Z",
          "start_time": "2022-01-06T08:00:40.035775Z"
        },
        "id": "607a3ad6"
      },
      "outputs": [],
      "source": [
        "#import warnings\n",
        "#warnings.filterwarnings('ignore')"
      ]
    },
    {
      "cell_type": "code",
      "execution_count": 106,
      "id": "8affe0c2",
      "metadata": {
        "ExecuteTime": {
          "end_time": "2022-01-06T08:00:41.037188Z",
          "start_time": "2022-01-06T08:00:40.442310Z"
        },
        "id": "8affe0c2"
      },
      "outputs": [],
      "source": [
        "from tqdm import tqdm\n",
        "import seaborn as sns                                     # For plotting data\n",
        "import pandas as pd                                       # For dataframes\n",
        "import numpy as np\n",
        "import matplotlib.pyplot as plt                           # For plotting data\n",
        "%matplotlib inline\n",
        "\n",
        "# For splitting the dataset\n",
        "from sklearn.model_selection import train_test_split\n",
        "\n",
        "# For setting up pipeline\n",
        "from imblearn.pipeline import Pipeline\n",
        "from imblearn import FunctionSampler\n",
        "from sklearn.preprocessing import FunctionTransformer\n",
        "from sklearn.base import BaseEstimator, TransformerMixin\n",
        "\n",
        "# For Missing data\n",
        "from sklearn.impute import SimpleImputer\n",
        "from sklearn.experimental import enable_iterative_imputer\n",
        "from sklearn.impute import IterativeImputer\n",
        "\n",
        "# For Outlier detection\n",
        "from sklearn.ensemble import IsolationForest\n",
        "from sklearn.covariance import EllipticEnvelope\n",
        "from sklearn.neighbors import LocalOutlierFactor\n",
        "from sklearn.svm import OneClassSVM\n",
        "\n",
        "# For Unbalanced dataset\n",
        "from imblearn.over_sampling import RandomOverSampler, SMOTE\n",
        "from imblearn.under_sampling import RandomUnderSampler\n",
        "\n",
        "# For classification\n",
        "from sklearn.linear_model import LinearRegression, LogisticRegression\n",
        "from sklearn.tree import DecisionTreeRegressor, DecisionTreeClassifier\n",
        "\n",
        "# For optimization\n",
        "from sklearn.model_selection import GridSearchCV      \n",
        "from sklearn.metrics import mean_absolute_error"
      ]
    },
    {
      "cell_type": "markdown",
      "id": "6a39162d",
      "metadata": {
        "id": "6a39162d"
      },
      "source": [
        "The **original ForestCover/Covertype dataset** from UCI machine learning repository is a multiclass classification dataset. This dataset contains tree observations from four areas of the Roosevelt National Forest in Colorado. This study area includes four wilderness areas located in the Roosevelt National Forest of northern Colorado. These areas represent forests with minimal human-caused disturbances, so that existing forest cover types are more a result of ecological processes rather than forest management practices. \n",
        "\n",
        "In this notebook you are asked to predict the forest cover type (the predominant kind of tree cover) from strictly cartographic variables (as opposed to remotely sensed data). The actual forest cover type for a given 30 x 30 meter cell was determined from US Forest Service (USFS) Region 2 Resource Information System data. Independent variables were then derived from data obtained from the US Geological Survey and USFS. The data is in raw form (not scaled) and contains binary columns of data for qualitative independent variables such as wilderness areas and soil type.\n",
        "\n",
        "This dataset has 54 attributes :\n",
        "* 10 quantitative variables,\n",
        "* 4 binary wilderness areas\n",
        "* and 40 binary soil type variables).\n",
        "Here, outlier detection dataset is created using only 10 quantitative attributes. Instances from class 2 are considered as normal points and instances from class 4 are anomalies. The anomalies ratio is 0.9%. Instances from the other classes are omitted.\n",
        "\n",
        "Dataset description available on [Kaggle](https://www.kaggle.com/uciml/forest-cover-type-dataset).\n",
        "* Elevation: Elevation in meters.\n",
        "* Aspect: Aspect in degrees azimuth.\n",
        "* Slope: Slope in degrees.\n",
        "* Horizontal_Distance_To_Hydrology: Horizontal distance in meters to nearest surface water features.\n",
        "* Vertical_Distance_To_Hydrology: Vertical distance in meters to nearest surface water features.\n",
        "* Horizontal_Distance_To_Roadways: Horizontal distance in meters to the nearest roadway.\n",
        "* Hillshade_9am: hillshade index at 9am, summer solstice. Value out of 255.\n",
        "* Hillshade_Noon: hillshade index at noon, summer solstice. Value out of 255.\n",
        "* Hillshade_3pm: shade index at 3pm, summer solstice. Value out of 255.\n",
        "* Horizontal_Distance_To_Fire_Point*: horizontal distance in meters to nearest wildfire ignition points.\n",
        "* Wilderness_Area#: wilderness area designation.\n",
        "* Soil_Type#: soil type designation.\n",
        "\n",
        "Wilderness_Area feature is one-hot encoded to 4 binary columns (0 = absence or 1 = presence), each of these corresponds to a wilderness area designation. Areas are mapped to value in the following way:\n",
        "1. Rawah Wilderness Area\n",
        "1. Neota Wilderness Area\n",
        "1. Comanche Peak Wilderness Area\n",
        "1. Cache la Poudre Wilderness Area\n",
        "\n",
        "The same goes for Soil_Type feature which is encoded as 40 one-hot encoded binary columns (0 = absence or 1 = presence) and each of these represents soil type designation. All the possible options are:\n",
        "1. Cathedral family - Rock outcrop complex, extremely stony\n",
        "1. Vanet - Ratake families complex, very stony\n",
        "1. Haploborolis - Rock outcrop complex, rubbly\n",
        "1. Ratake family - Rock outcrop complex, rubbly\n",
        "1. Vanet family - Rock outcrop complex complex, rubbly\n",
        "1. Vanet - Wetmore families - Rock outcrop complex, stony\n",
        "1. Gothic family\n",
        "1. Supervisor - Limber families complex\n",
        "1. Troutville family, very stony\n",
        "1. Bullwark - Catamount families - Rock outcrop complex, rubbly\n",
        "1. Bullwark - Catamount families - Rock land complex, rubbly.\n",
        "1. Legault family - Rock land complex, stony\n",
        "1. Catamount family - Rock land - Bullwark family complex, rubbly\n",
        "1. Pachic Argiborolis - Aquolis complex\n",
        "1. ¨unspecified in the USFS Soil and ELU Survey\n",
        "1. Cryaquolis - Cryoborolis complex\n",
        "1. Gateview family - Cryaquolis complex\n",
        "1. Rogert family, very stony\n",
        "1. Typic Cryaquolis - Borohemists complex\n",
        "1. Typic Cryaquepts - Typic Cryaquolls complex\n",
        "1. Typic Cryaquolls - Leighcan family, till substratum complex\n",
        "1. Leighcan family, till substratum, extremely bouldery\n",
        "1. Leighcan family, till substratum - Typic Cryaquolls complex\n",
        "1. Leighcan family, extremely stony\n",
        "1. Leighcan family, warm, extremely stony\n",
        "1. Granile - Catamount families complex, very stony\n",
        "1. Leighcan family, warm - Rock outcrop complex, extremely stony\n",
        "1. Leighcan family - Rock outcrop complex, extremely stony\n",
        "1. Como - Legault families complex, extremely stony\n",
        "1. Como family - Rock land - Legault family complex, extremely stony\n",
        "1. Leighcan - Catamount families complex, extremely stony\n",
        "1. Catamount family - Rock outcrop - Leighcan family complex, extremely stony\n",
        "1. Leighcan - Catamount families - Rock outcrop complex, extremely stony\n",
        "1. Cryorthents - Rock land complex, extremely stony\n",
        "1. Cryumbrepts - Rock outcrop - Cryaquepts complex\n",
        "1. Bross family - Rock land - Cryumbrepts complex, extremely stony\n",
        "1. Rock outcrop - Cryumbrepts - Cryorthents complex, extremely stony\n",
        "1. Leighcan - Moran families - Cryaquolls complex, extremely stony\n",
        "1. Moran family - Cryorthents - Leighcan family complex, extremely stony\n",
        "1. Moran family - Cryorthents - Rock land complex, extremely stony\n",
        "\n",
        "Cover_Type: forest cover type designation, its possible values are between 1 and 7, mapped in the following way:\n",
        "1. Spruce/Fir\n",
        "1. Lodgepole Pine\n",
        "1. Ponderosa Pine\n",
        "1. Cottonwood/Willow\n",
        "1. Aspen\n",
        "1. Douglas-fir\n",
        "1. Krummholz\n",
        "\n",
        "<font color=blue>\n",
        "We will use a very small part of this dataset with only classes 1 and 7.\n",
        "</font>"
      ]
    },
    {
      "cell_type": "code",
      "execution_count": 107,
      "id": "7acbedb9",
      "metadata": {
        "ExecuteTime": {
          "end_time": "2022-01-06T08:00:58.376165Z",
          "start_time": "2022-01-06T08:00:58.373811Z"
        },
        "id": "7acbedb9"
      },
      "outputs": [],
      "source": [
        "import ssl\n",
        "\n",
        "ssl._create_default_https_context = ssl._create_unverified_context\n",
        "\n",
        "url = \"https://www.i3s.unice.fr/~riveill/dataset/covtype/\"\n",
        "filename = \"covtype.csv\""
      ]
    },
    {
      "cell_type": "code",
      "execution_count": 108,
      "id": "5e1c4f19",
      "metadata": {
        "ExecuteTime": {
          "end_time": "2022-01-06T08:01:14.251808Z",
          "start_time": "2022-01-06T08:01:13.894125Z"
        },
        "id": "5e1c4f19"
      },
      "outputs": [],
      "source": [
        "# load train and test\n",
        "train = pd.read_csv(url+\"train.csv\", delimiter=',')\n",
        "test = pd.read_csv(url+\"test.csv\", delimiter=',')"
      ]
    },
    {
      "cell_type": "code",
      "execution_count": 109,
      "id": "f1268a7f",
      "metadata": {
        "ExecuteTime": {
          "end_time": "2022-01-06T08:01:14.858602Z",
          "start_time": "2022-01-06T08:01:14.855174Z"
        },
        "id": "f1268a7f"
      },
      "outputs": [],
      "source": [
        "columns = list(train.columns)\n",
        "target = 'Cover_Type'\n",
        "columns.remove(target)\n",
        "cat_columns=[c for c in columns if 'Soil_Type' in c or 'Wilderness_Area' in c] # already one hot encode\n",
        "num_columns=[c for c in columns if c not in cat_columns]"
      ]
    },
    {
      "cell_type": "code",
      "execution_count": 110,
      "id": "1692f225",
      "metadata": {
        "ExecuteTime": {
          "end_time": "2022-01-06T08:01:15.395465Z",
          "start_time": "2022-01-06T08:01:15.381422Z"
        },
        "colab": {
          "base_uri": "https://localhost:8080/"
        },
        "id": "1692f225",
        "outputId": "5f7852ee-2377-46ec-c1b4-0a1d581c169e"
      },
      "outputs": [
        {
          "output_type": "execute_result",
          "data": {
            "text/plain": [
              "((10000, 54), (10000, 54))"
            ]
          },
          "metadata": {},
          "execution_count": 110
        }
      ],
      "source": [
        "y_train = np.array(train[target]).reshape(-1,1)\n",
        "X_train = train[columns]\n",
        "\n",
        "y_test = np.array(test[target]).reshape(-1,1)\n",
        "X_test = test[columns]\n",
        "\n",
        "X_train.shape, X_test.shape"
      ]
    },
    {
      "cell_type": "code",
      "execution_count": 111,
      "id": "b086546b",
      "metadata": {
        "ExecuteTime": {
          "end_time": "2022-01-06T08:01:15.793149Z",
          "start_time": "2022-01-06T08:01:15.788504Z"
        },
        "colab": {
          "base_uri": "https://localhost:8080/"
        },
        "id": "b086546b",
        "outputId": "5590bc15-cc8b-4575-94d1-27ad0917d998"
      },
      "outputs": [
        {
          "output_type": "execute_result",
          "data": {
            "text/plain": [
              "{1: 9083, 7: 917}"
            ]
          },
          "metadata": {},
          "execution_count": 111
        }
      ],
      "source": [
        "# Class distribution\n",
        "distribution = pd.Series(y_train.flatten()).value_counts().to_dict()\n",
        "distribution"
      ]
    },
    {
      "cell_type": "markdown",
      "id": "b2aa9b17",
      "metadata": {
        "id": "b2aa9b17"
      },
      "source": [
        "## Sampler,  transformer and estimator\n",
        "\n",
        "There are three types of objects in imblearn/scikit-learn design:\n",
        "\n",
        "**Transformer** transform observation (modify only X_train) and implements:\n",
        "* fit: used for calculating the initial parameters on the training data and later saves them as internal objects state.\n",
        "* transform: Use the initial above calculated values and return modified training data as output. Do not modify the length of the dataset.\n",
        "\n",
        "**Predictor** is a \"model\" and implements:\n",
        "* fit: calculates the parameters or weights on the training data and saves them as an internal object state.\n",
        "* predict: Use the above-calculated weights on the test data to make the predictions.\n",
        "\n",
        "**Sampler** is a new element, from imblearn library. A sampler modifies the number of observations in the train set (modify X_train and y_train) and implements:\n",
        "* fit_resample\n",
        "\n",
        "The following cells build a pipeline"
      ]
    },
    {
      "cell_type": "code",
      "execution_count": 112,
      "id": "35a1bcb2",
      "metadata": {
        "ExecuteTime": {
          "end_time": "2022-01-06T08:01:16.440347Z",
          "start_time": "2022-01-06T08:01:16.437511Z"
        },
        "id": "35a1bcb2"
      },
      "outputs": [],
      "source": [
        "# A sampler\n",
        "class mySampler(BaseEstimator):\n",
        "    def fit_resample(self, X, y):\n",
        "        data = np.concatenate((X, y), axis=1)\n",
        "        # remove rows with NaN\n",
        "        data = data[~np.isnan(data).any(axis=1), :]\n",
        "        return data[:,:-1], data[:,-1]"
      ]
    },
    {
      "cell_type": "markdown",
      "id": "b53c709f",
      "metadata": {
        "id": "b53c709f"
      },
      "source": [
        "It's also possible to build sampler from a function"
      ]
    },
    {
      "cell_type": "code",
      "execution_count": 113,
      "id": "dc15f50e",
      "metadata": {
        "ExecuteTime": {
          "end_time": "2022-01-06T08:01:16.900610Z",
          "start_time": "2022-01-06T08:01:16.897194Z"
        },
        "id": "dc15f50e"
      },
      "outputs": [],
      "source": [
        "def mySamplerFunction(X, y, conta=0.1):\n",
        "    iforest = IsolationForest(n_estimators=300, max_samples='auto', contamination=conta)\n",
        "    outliers = iforest.fit_predict(X, y)\n",
        "\n",
        "    X_filtered = X[outliers == 1]\n",
        "    y_filtered = y[outliers == 1]\n",
        "\n",
        "    return X_filtered, y_filtered"
      ]
    },
    {
      "cell_type": "code",
      "execution_count": 114,
      "id": "6a8c5ed8",
      "metadata": {
        "ExecuteTime": {
          "end_time": "2022-01-06T08:01:17.384561Z",
          "start_time": "2022-01-06T08:01:17.381000Z"
        },
        "id": "6a8c5ed8"
      },
      "outputs": [],
      "source": [
        "# A transformer\n",
        "class myTransformer(BaseEstimator, TransformerMixin):\n",
        "    def __init__(self, strategy=\"most_frequent\"):\n",
        "        self.strategy = strategy\n",
        "        self.sample = SimpleImputer(strategy=self.strategy)\n",
        "    def fit(self, X, y=None):\n",
        "        return self.sample.fit(X, y)\n",
        "    def transform(self, X):\n",
        "        return self.sample.transform(X)"
      ]
    },
    {
      "cell_type": "markdown",
      "id": "e43c3034",
      "metadata": {
        "id": "e43c3034"
      },
      "source": [
        "Like sampler, it's also possible to build transformer from a function see `sklearn.preprocessing.FunctionTransform`"
      ]
    },
    {
      "cell_type": "code",
      "execution_count": 115,
      "id": "b2615cef",
      "metadata": {
        "ExecuteTime": {
          "end_time": "2022-01-06T08:01:17.944197Z",
          "start_time": "2022-01-06T08:01:17.941082Z"
        },
        "id": "b2615cef"
      },
      "outputs": [],
      "source": [
        "# A predictor\n",
        "class myPredictor(BaseEstimator):\n",
        "    def __init__(self, penalty=\"l2\"):\n",
        "        self.penalty = penalty\n",
        "        self.sample = LogisticRegression(solver=\"lbfgs\", penalty=self.penalty, max_iter=10000)\n",
        "    def fit(self, X, y):\n",
        "        return self.sample.fit(X, y)\n",
        "    def predict(self, X):\n",
        "        return self.sample.predict(X)"
      ]
    },
    {
      "cell_type": "code",
      "execution_count": 116,
      "id": "7fe5f34a",
      "metadata": {
        "ExecuteTime": {
          "end_time": "2022-01-06T08:01:18.188956Z",
          "start_time": "2022-01-06T08:01:18.180933Z"
        },
        "colab": {
          "base_uri": "https://localhost:8080/"
        },
        "id": "7fe5f34a",
        "outputId": "02f1cc57-1e67-455b-814a-14c46be43494"
      },
      "outputs": [
        {
          "output_type": "execute_result",
          "data": {
            "text/plain": [
              "Pipeline(steps=[('missing_data', None),\n",
              "                ('outlier',\n",
              "                 FunctionSampler(func=<function mySamplerFunction at 0x7f0fbdbdaa70>)),\n",
              "                ('clf', None)])"
            ]
          },
          "metadata": {},
          "execution_count": 116
        }
      ],
      "source": [
        "# Different version of the 2 steps pipeline\n",
        "# step 1 : remove or imput missing data\n",
        "# step 2 : remove outlier\n",
        "# step 3 : predictor\n",
        "pipeline = Pipeline([('missing_data', None),\n",
        "                     ('outlier', FunctionSampler(func=mySamplerFunction)),\n",
        "                     ('clf', None)])\n",
        "\n",
        "parameters = [{'missing_data': [mySampler()],\n",
        "               'clf': [myPredictor()],\n",
        "               'clf__penalty': ['none'],\n",
        "              },\n",
        "              {'missing_data': [myTransformer()],\n",
        "               'missing_data__strategy': ['most_frequent'],\n",
        "               'clf': [myPredictor()],\n",
        "               'clf__penalty': ['none'],\n",
        "              },\n",
        "              ]\n",
        "\n",
        "pipeline"
      ]
    },
    {
      "cell_type": "code",
      "execution_count": 117,
      "id": "96540aeb",
      "metadata": {
        "ExecuteTime": {
          "end_time": "2022-01-06T08:01:18.425350Z",
          "start_time": "2022-01-06T08:01:18.415090Z"
        },
        "colab": {
          "base_uri": "https://localhost:8080/"
        },
        "id": "96540aeb",
        "outputId": "8d9e5662-6c2f-496b-c6f1-8fe778efd229"
      },
      "outputs": [
        {
          "output_type": "execute_result",
          "data": {
            "text/plain": [
              "GridSearchCV(cv=2,\n",
              "             estimator=Pipeline(steps=[('missing_data', None),\n",
              "                                       ('outlier',\n",
              "                                        FunctionSampler(func=<function mySamplerFunction at 0x7f0fbdbdaa70>)),\n",
              "                                       ('clf', None)]),\n",
              "             param_grid=[{'clf': [myPredictor()], 'clf__penalty': ['none'],\n",
              "                          'missing_data': [mySampler()]},\n",
              "                         {'clf': [myPredictor()], 'clf__penalty': ['none'],\n",
              "                          'missing_data': [myTransformer()],\n",
              "                          'missing_data__strategy': ['most_frequent']}],\n",
              "             scoring='f1_micro', verbose=2)"
            ]
          },
          "metadata": {},
          "execution_count": 117
        }
      ],
      "source": [
        "# GridSearch with pipeline\n",
        "grid = GridSearchCV(pipeline, parameters, cv=2,\n",
        "                    scoring=\"f1_micro\", refit=True,\n",
        "                    verbose=2)\n",
        "grid"
      ]
    },
    {
      "cell_type": "markdown",
      "id": "80e595f9",
      "metadata": {
        "id": "80e595f9"
      },
      "source": [
        "<font color=\"blue\">\n",
        "Remember: samplers are only called to perform the \"fit\" and not to perform the predict. If the data set contains missing values (NaN) in the validation part, a warning may be raised.\n",
        "</font>"
      ]
    },
    {
      "cell_type": "code",
      "execution_count": 118,
      "id": "798afeb2",
      "metadata": {
        "ExecuteTime": {
          "end_time": "2022-01-06T08:01:21.375699Z",
          "start_time": "2022-01-06T08:01:18.872513Z"
        },
        "colab": {
          "base_uri": "https://localhost:8080/"
        },
        "id": "798afeb2",
        "outputId": "2391f109-0d42-46c0-db95-5bf249f5aa1c"
      },
      "outputs": [
        {
          "output_type": "stream",
          "name": "stdout",
          "text": [
            "Fitting 2 folds for each of 2 candidates, totalling 4 fits\n"
          ]
        },
        {
          "output_type": "stream",
          "name": "stderr",
          "text": [
            "/usr/local/lib/python3.7/dist-packages/sklearn/base.py:439: UserWarning: X has feature names, but LogisticRegression was fitted without feature names\n",
            "  f\"X has feature names, but {self.__class__.__name__} was fitted without\"\n",
            "/usr/local/lib/python3.7/dist-packages/sklearn/model_selection/_validation.py:775: UserWarning: Scoring failed. The score on this train-test partition for these parameters will be set to nan. Details: \n",
            "Traceback (most recent call last):\n",
            "  File \"/usr/local/lib/python3.7/dist-packages/sklearn/model_selection/_validation.py\", line 762, in _score\n",
            "    scores = scorer(estimator, X_test, y_test)\n",
            "  File \"/usr/local/lib/python3.7/dist-packages/sklearn/metrics/_scorer.py\", line 221, in __call__\n",
            "    sample_weight=sample_weight,\n",
            "  File \"/usr/local/lib/python3.7/dist-packages/sklearn/metrics/_scorer.py\", line 258, in _score\n",
            "    y_pred = method_caller(estimator, \"predict\", X)\n",
            "  File \"/usr/local/lib/python3.7/dist-packages/sklearn/metrics/_scorer.py\", line 68, in _cached_call\n",
            "    return getattr(estimator, method)(*args, **kwargs)\n",
            "  File \"/usr/local/lib/python3.7/dist-packages/sklearn/utils/metaestimators.py\", line 113, in <lambda>\n",
            "    out = lambda *args, **kwargs: self.fn(obj, *args, **kwargs)  # noqa\n",
            "  File \"/usr/local/lib/python3.7/dist-packages/sklearn/pipeline.py\", line 470, in predict\n",
            "    return self.steps[-1][1].predict(Xt, **predict_params)\n",
            "  File \"<ipython-input-115-2937ca012408>\", line 9, in predict\n",
            "    return self.sample.predict(X)\n",
            "  File \"/usr/local/lib/python3.7/dist-packages/sklearn/linear_model/_base.py\", line 425, in predict\n",
            "    scores = self.decision_function(X)\n",
            "  File \"/usr/local/lib/python3.7/dist-packages/sklearn/linear_model/_base.py\", line 407, in decision_function\n",
            "    X = self._validate_data(X, accept_sparse=\"csr\", reset=False)\n",
            "  File \"/usr/local/lib/python3.7/dist-packages/sklearn/base.py\", line 561, in _validate_data\n",
            "    X = check_array(X, **check_params)\n",
            "  File \"/usr/local/lib/python3.7/dist-packages/sklearn/utils/validation.py\", line 792, in check_array\n",
            "    _assert_all_finite(array, allow_nan=force_all_finite == \"allow-nan\")\n",
            "  File \"/usr/local/lib/python3.7/dist-packages/sklearn/utils/validation.py\", line 116, in _assert_all_finite\n",
            "    type_err, msg_dtype if msg_dtype is not None else X.dtype\n",
            "ValueError: Input contains NaN, infinity or a value too large for dtype('float64').\n",
            "\n",
            "  UserWarning,\n"
          ]
        },
        {
          "output_type": "stream",
          "name": "stdout",
          "text": [
            "[CV] END clf=myPredictor(), clf__penalty=none, missing_data=mySampler(); total time=   0.7s\n"
          ]
        },
        {
          "output_type": "stream",
          "name": "stderr",
          "text": [
            "/usr/local/lib/python3.7/dist-packages/sklearn/base.py:439: UserWarning: X has feature names, but LogisticRegression was fitted without feature names\n",
            "  f\"X has feature names, but {self.__class__.__name__} was fitted without\"\n",
            "/usr/local/lib/python3.7/dist-packages/sklearn/model_selection/_validation.py:775: UserWarning: Scoring failed. The score on this train-test partition for these parameters will be set to nan. Details: \n",
            "Traceback (most recent call last):\n",
            "  File \"/usr/local/lib/python3.7/dist-packages/sklearn/model_selection/_validation.py\", line 762, in _score\n",
            "    scores = scorer(estimator, X_test, y_test)\n",
            "  File \"/usr/local/lib/python3.7/dist-packages/sklearn/metrics/_scorer.py\", line 221, in __call__\n",
            "    sample_weight=sample_weight,\n",
            "  File \"/usr/local/lib/python3.7/dist-packages/sklearn/metrics/_scorer.py\", line 258, in _score\n",
            "    y_pred = method_caller(estimator, \"predict\", X)\n",
            "  File \"/usr/local/lib/python3.7/dist-packages/sklearn/metrics/_scorer.py\", line 68, in _cached_call\n",
            "    return getattr(estimator, method)(*args, **kwargs)\n",
            "  File \"/usr/local/lib/python3.7/dist-packages/sklearn/utils/metaestimators.py\", line 113, in <lambda>\n",
            "    out = lambda *args, **kwargs: self.fn(obj, *args, **kwargs)  # noqa\n",
            "  File \"/usr/local/lib/python3.7/dist-packages/sklearn/pipeline.py\", line 470, in predict\n",
            "    return self.steps[-1][1].predict(Xt, **predict_params)\n",
            "  File \"<ipython-input-115-2937ca012408>\", line 9, in predict\n",
            "    return self.sample.predict(X)\n",
            "  File \"/usr/local/lib/python3.7/dist-packages/sklearn/linear_model/_base.py\", line 425, in predict\n",
            "    scores = self.decision_function(X)\n",
            "  File \"/usr/local/lib/python3.7/dist-packages/sklearn/linear_model/_base.py\", line 407, in decision_function\n",
            "    X = self._validate_data(X, accept_sparse=\"csr\", reset=False)\n",
            "  File \"/usr/local/lib/python3.7/dist-packages/sklearn/base.py\", line 561, in _validate_data\n",
            "    X = check_array(X, **check_params)\n",
            "  File \"/usr/local/lib/python3.7/dist-packages/sklearn/utils/validation.py\", line 792, in check_array\n",
            "    _assert_all_finite(array, allow_nan=force_all_finite == \"allow-nan\")\n",
            "  File \"/usr/local/lib/python3.7/dist-packages/sklearn/utils/validation.py\", line 116, in _assert_all_finite\n",
            "    type_err, msg_dtype if msg_dtype is not None else X.dtype\n",
            "ValueError: Input contains NaN, infinity or a value too large for dtype('float64').\n",
            "\n",
            "  UserWarning,\n"
          ]
        },
        {
          "output_type": "stream",
          "name": "stdout",
          "text": [
            "[CV] END clf=myPredictor(), clf__penalty=none, missing_data=mySampler(); total time=   0.8s\n",
            "[CV] END clf=myPredictor(), clf__penalty=none, missing_data=myTransformer(), missing_data__strategy=most_frequent; total time=   0.7s\n",
            "[CV] END clf=myPredictor(), clf__penalty=none, missing_data=myTransformer(), missing_data__strategy=most_frequent; total time=   0.7s\n"
          ]
        },
        {
          "output_type": "stream",
          "name": "stderr",
          "text": [
            "/usr/local/lib/python3.7/dist-packages/sklearn/model_selection/_search.py:972: UserWarning: One or more of the test scores are non-finite: [ nan 0.66]\n",
            "  category=UserWarning,\n"
          ]
        },
        {
          "output_type": "execute_result",
          "data": {
            "text/plain": [
              "GridSearchCV(cv=2,\n",
              "             estimator=Pipeline(steps=[('missing_data', None),\n",
              "                                       ('outlier',\n",
              "                                        FunctionSampler(func=<function mySamplerFunction at 0x7f0fbdbdaa70>)),\n",
              "                                       ('clf', None)]),\n",
              "             param_grid=[{'clf': [myPredictor()], 'clf__penalty': ['none'],\n",
              "                          'missing_data': [mySampler()]},\n",
              "                         {'clf': [myPredictor(penalty='none')],\n",
              "                          'clf__penalty': ['none'],\n",
              "                          'missing_data': [myTransformer()],\n",
              "                          'missing_data__strategy': ['most_frequent']}],\n",
              "             scoring='f1_micro', verbose=2)"
            ]
          },
          "metadata": {},
          "execution_count": 118
        }
      ],
      "source": [
        "# Try to find the best model\n",
        "# Try to find the best model\n",
        "grid.fit(X_train[:50], y_train[:50]) # Some data for testing the process... but use all available datagrid.fit(X_train[:50], y_train[:50]) # Some data for testing the process... but use all available data"
      ]
    },
    {
      "cell_type": "code",
      "execution_count": 119,
      "id": "ee7d400a",
      "metadata": {
        "ExecuteTime": {
          "end_time": "2022-01-06T08:01:21.389682Z",
          "start_time": "2022-01-06T08:01:21.377854Z"
        },
        "colab": {
          "base_uri": "https://localhost:8080/"
        },
        "id": "ee7d400a",
        "outputId": "255cd78e-964e-4607-d988-ec215c9f321b"
      },
      "outputs": [
        {
          "output_type": "stream",
          "name": "stdout",
          "text": [
            "Best: 0.66 using {'clf': myPredictor(penalty='none'), 'clf__penalty': 'none', 'missing_data': myTransformer(), 'missing_data__strategy': 'most_frequent'}\n",
            "Test set score: 0.7160000000000001\n"
          ]
        }
      ],
      "source": [
        "# Evaluate the model with the whole dataset\n",
        "y_pred = grid.predict(X_train[:500])\n",
        "print(\"Best: {:.2f} using {}\".format(\n",
        "    grid.best_score_, \n",
        "    grid.best_params_\n",
        "))\n",
        "print('Test set score: ' + str(grid.score(X_train[:500], y_train[:500])))"
      ]
    },
    {
      "cell_type": "markdown",
      "id": "c419de84",
      "metadata": {
        "id": "c419de84"
      },
      "source": [
        "## Lab 1: Missing value\n",
        "\n",
        "$$[TO DO - Students]$$\n",
        "\n",
        "Test some algorithms to handle missing data.\n",
        "* Choose the classifier that you think is preferable for this job.\n",
        "\n",
        "1. with removal of missing data\n",
        "1. with of the following imputation methods\n",
        "    * With SimpleImputer\n",
        "    * With IterativeImputer\n",
        "    * With KNNimputer\n",
        "\n",
        "Build a 2 step pipeline and use a gridsearch to find the right hyperpameters.\n",
        "\n",
        "Submit your work in the form of an executable and commented notebook at lms.univ-cotedazur.fr"
      ]
    },
    {
      "cell_type": "markdown",
      "source": [
        "#Answers:"
      ],
      "metadata": {
        "id": "DaWOiBOcvz3T"
      },
      "id": "DaWOiBOcvz3T"
    },
    {
      "cell_type": "markdown",
      "source": [
        "##1. Removal of missing data"
      ],
      "metadata": {
        "id": "rk4EWhqpu7eu"
      },
      "id": "rk4EWhqpu7eu"
    },
    {
      "cell_type": "code",
      "source": [
        "class remove_missing_data(BaseEstimator):\n",
        "    def fit_resample(self, X, y):\n",
        "        data = np.concatenate((X, y), axis=1)\n",
        "        # remove rows with NaN\n",
        "        data = data[~np.isnan(data).any(axis=1), :]\n",
        "        return data[:,:-1], data[:,-1]\n",
        "\n",
        "pipeline = Pipeline([('missing_data', None),\n",
        "                     ('clf', RandomForestClassifier())])\n",
        "\n",
        "parameters = [{'missing_data': [remove_missing_data()],\n",
        "               'clf__n_estimators': [200, 500],\n",
        "              'clf__max_features': ['auto', 'sqrt', 'log2'],\n",
        "              'clf__max_depth' : [5,10,20]\n",
        "              }\n",
        "              ]\n",
        "\n",
        "pipeline"
      ],
      "metadata": {
        "colab": {
          "base_uri": "https://localhost:8080/"
        },
        "id": "UwGxGJX_3TmH",
        "outputId": "fc909b24-2a71-4535-a103-1f54e0ab7a10"
      },
      "id": "UwGxGJX_3TmH",
      "execution_count": 120,
      "outputs": [
        {
          "output_type": "execute_result",
          "data": {
            "text/plain": [
              "Pipeline(steps=[('missing_data', None), ('clf', RandomForestClassifier())])"
            ]
          },
          "metadata": {},
          "execution_count": 120
        }
      ]
    },
    {
      "cell_type": "code",
      "source": [
        "# GridSearch with pipeline\n",
        "grid = GridSearchCV(pipeline, parameters, cv=2,\n",
        "                    scoring=\"f1_micro\", refit=True,\n",
        "                    verbose=2)\n",
        "grid"
      ],
      "metadata": {
        "colab": {
          "base_uri": "https://localhost:8080/"
        },
        "id": "jCUpxePmyQ5P",
        "outputId": "efffdcf7-869e-4225-de09-e6d0ccea380a"
      },
      "id": "jCUpxePmyQ5P",
      "execution_count": 121,
      "outputs": [
        {
          "output_type": "execute_result",
          "data": {
            "text/plain": [
              "GridSearchCV(cv=2,\n",
              "             estimator=Pipeline(steps=[('missing_data', None),\n",
              "                                       ('clf', RandomForestClassifier())]),\n",
              "             param_grid=[{'missing_data': [remove_missing_data()]}],\n",
              "             scoring='f1_micro', verbose=2)"
            ]
          },
          "metadata": {},
          "execution_count": 121
        }
      ]
    },
    {
      "cell_type": "code",
      "source": [
        "grid.fit(X_train, y_train) # Some data for testing the process... but use all available data"
      ],
      "metadata": {
        "id": "nYD5EZMxyWxJ"
      },
      "id": "nYD5EZMxyWxJ",
      "execution_count": null,
      "outputs": []
    },
    {
      "cell_type": "code",
      "source": [
        "# TEST SCORE:\n",
        "y_pred = grid.predict(X_test)\n",
        "print(\"Best: {:.2f} using {}\".format(\n",
        "    grid.best_score_, \n",
        "    grid.best_params_\n",
        "))\n",
        "print('Test set score: ' + str(grid.score(X_test, y_test)))"
      ],
      "metadata": {
        "colab": {
          "base_uri": "https://localhost:8080/"
        },
        "id": "JgPX3_bD4LzT",
        "outputId": "1cf6715f-195f-450f-9b65-f794ed3fb833"
      },
      "id": "JgPX3_bD4LzT",
      "execution_count": 123,
      "outputs": [
        {
          "output_type": "stream",
          "name": "stderr",
          "text": [
            "/usr/local/lib/python3.7/dist-packages/sklearn/base.py:439: UserWarning: X has feature names, but RandomForestClassifier was fitted without feature names\n",
            "  f\"X has feature names, but {self.__class__.__name__} was fitted without\"\n",
            "/usr/local/lib/python3.7/dist-packages/sklearn/base.py:439: UserWarning: X has feature names, but RandomForestClassifier was fitted without feature names\n",
            "  f\"X has feature names, but {self.__class__.__name__} was fitted without\"\n"
          ]
        },
        {
          "output_type": "stream",
          "name": "stdout",
          "text": [
            "Best: nan using {'missing_data': remove_missing_data()}\n",
            "Test set score: 0.9776\n"
          ]
        }
      ]
    },
    {
      "cell_type": "markdown",
      "source": [
        "##2.1 With SimpleImputer"
      ],
      "metadata": {
        "id": "SGbYrlB-vLcS"
      },
      "id": "SGbYrlB-vLcS"
    },
    {
      "cell_type": "code",
      "source": [
        "#I choose Random Forest as predictor \n",
        "from sklearn.ensemble import RandomForestClassifier\n",
        "from sklearn.impute import SimpleImputer\n",
        "\n",
        "#Building a pipeline\n",
        "pipeline = Pipeline([('missing_data', SimpleImputer(missing_values=np.nan, strategy='mean')),\n",
        "                     ('clf', RandomForestClassifier())])\n",
        "\n",
        "#Hyper-parameters to test\n",
        "parameters = [{'missing_data__strategy': ['most_frequent','mean'],\n",
        "               'clf__n_estimators': [200, 500],\n",
        "              'clf__max_features': ['auto', 'sqrt', 'log2'],\n",
        "              'clf__max_depth' : [5,10,20]\n",
        "              }\n",
        "              ]\n",
        "\n",
        "pipeline"
      ],
      "metadata": {
        "colab": {
          "base_uri": "https://localhost:8080/"
        },
        "id": "yvfI50BDqVwQ",
        "outputId": "a2b666a9-9dce-4946-cd60-02d029b38d41"
      },
      "id": "yvfI50BDqVwQ",
      "execution_count": 124,
      "outputs": [
        {
          "output_type": "execute_result",
          "data": {
            "text/plain": [
              "Pipeline(steps=[('missing_data', SimpleImputer()),\n",
              "                ('clf', RandomForestClassifier())])"
            ]
          },
          "metadata": {},
          "execution_count": 124
        }
      ]
    },
    {
      "cell_type": "code",
      "source": [
        "# GridSearch with pipeline\n",
        "grid = GridSearchCV(pipeline, parameters, cv=2,\n",
        "                    scoring=\"f1_micro\", refit=True,\n",
        "                    verbose=2)\n",
        "grid"
      ],
      "metadata": {
        "colab": {
          "base_uri": "https://localhost:8080/"
        },
        "id": "mzySm9PAqdLp",
        "outputId": "7325f28b-e1ab-47b3-a949-b03ecc100a13"
      },
      "id": "mzySm9PAqdLp",
      "execution_count": 125,
      "outputs": [
        {
          "output_type": "execute_result",
          "data": {
            "text/plain": [
              "GridSearchCV(cv=2,\n",
              "             estimator=Pipeline(steps=[('missing_data', SimpleImputer()),\n",
              "                                       ('clf', RandomForestClassifier())]),\n",
              "             param_grid=[{'missing_data__strategy': ['most_frequent', 'mean']}],\n",
              "             scoring='f1_micro', verbose=2)"
            ]
          },
          "metadata": {},
          "execution_count": 125
        }
      ]
    },
    {
      "cell_type": "code",
      "source": [
        "# Try to find the best model\n",
        "grid.fit(X_train, y_train) "
      ],
      "metadata": {
        "colab": {
          "base_uri": "https://localhost:8080/"
        },
        "id": "eg6wpHOVqgUh",
        "outputId": "bf087158-9d5a-4ada-89c6-2a5df869611c"
      },
      "id": "eg6wpHOVqgUh",
      "execution_count": 126,
      "outputs": [
        {
          "output_type": "stream",
          "name": "stdout",
          "text": [
            "Fitting 2 folds for each of 2 candidates, totalling 4 fits\n"
          ]
        },
        {
          "output_type": "stream",
          "name": "stderr",
          "text": [
            "/usr/local/lib/python3.7/dist-packages/imblearn/pipeline.py:266: DataConversionWarning: A column-vector y was passed when a 1d array was expected. Please change the shape of y to (n_samples,), for example using ravel().\n",
            "  self._final_estimator.fit(Xt, yt, **fit_params_last_step)\n"
          ]
        },
        {
          "output_type": "stream",
          "name": "stdout",
          "text": [
            "[CV] END ...............missing_data__strategy=most_frequent; total time=   0.7s\n"
          ]
        },
        {
          "output_type": "stream",
          "name": "stderr",
          "text": [
            "/usr/local/lib/python3.7/dist-packages/imblearn/pipeline.py:266: DataConversionWarning: A column-vector y was passed when a 1d array was expected. Please change the shape of y to (n_samples,), for example using ravel().\n",
            "  self._final_estimator.fit(Xt, yt, **fit_params_last_step)\n"
          ]
        },
        {
          "output_type": "stream",
          "name": "stdout",
          "text": [
            "[CV] END ...............missing_data__strategy=most_frequent; total time=   0.7s\n"
          ]
        },
        {
          "output_type": "stream",
          "name": "stderr",
          "text": [
            "/usr/local/lib/python3.7/dist-packages/imblearn/pipeline.py:266: DataConversionWarning: A column-vector y was passed when a 1d array was expected. Please change the shape of y to (n_samples,), for example using ravel().\n",
            "  self._final_estimator.fit(Xt, yt, **fit_params_last_step)\n"
          ]
        },
        {
          "output_type": "stream",
          "name": "stdout",
          "text": [
            "[CV] END ........................missing_data__strategy=mean; total time=   0.7s\n"
          ]
        },
        {
          "output_type": "stream",
          "name": "stderr",
          "text": [
            "/usr/local/lib/python3.7/dist-packages/imblearn/pipeline.py:266: DataConversionWarning: A column-vector y was passed when a 1d array was expected. Please change the shape of y to (n_samples,), for example using ravel().\n",
            "  self._final_estimator.fit(Xt, yt, **fit_params_last_step)\n"
          ]
        },
        {
          "output_type": "stream",
          "name": "stdout",
          "text": [
            "[CV] END ........................missing_data__strategy=mean; total time=   0.7s\n"
          ]
        },
        {
          "output_type": "stream",
          "name": "stderr",
          "text": [
            "/usr/local/lib/python3.7/dist-packages/imblearn/pipeline.py:266: DataConversionWarning: A column-vector y was passed when a 1d array was expected. Please change the shape of y to (n_samples,), for example using ravel().\n",
            "  self._final_estimator.fit(Xt, yt, **fit_params_last_step)\n"
          ]
        },
        {
          "output_type": "execute_result",
          "data": {
            "text/plain": [
              "GridSearchCV(cv=2,\n",
              "             estimator=Pipeline(steps=[('missing_data', SimpleImputer()),\n",
              "                                       ('clf', RandomForestClassifier())]),\n",
              "             param_grid=[{'missing_data__strategy': ['most_frequent', 'mean']}],\n",
              "             scoring='f1_micro', verbose=2)"
            ]
          },
          "metadata": {},
          "execution_count": 126
        }
      ]
    },
    {
      "cell_type": "code",
      "source": [
        "#Training score:\n",
        "y_pred = grid.predict(X_train)\n",
        "print(\"ACC on train\", accuracy_score(y_train, y_pred))\n",
        "print(\"Best: {:.2f} using {}\".format(\n",
        "    grid.best_score_, \n",
        "    grid.best_params_\n",
        "))\n",
        "print('TRAIN set score: ' + str(grid.score(X_train, y_train)))\n",
        "\n",
        "#Test score:\n",
        "y_pred = grid.predict(X_test)\n",
        "print('TEST set score: ' + str(grid.score(X_test, y_test)))"
      ],
      "metadata": {
        "colab": {
          "base_uri": "https://localhost:8080/"
        },
        "id": "cHP7Ycp5qiMd",
        "outputId": "38233b86-fd93-4f1e-f19a-0aaae892cf47"
      },
      "id": "cHP7Ycp5qiMd",
      "execution_count": 142,
      "outputs": [
        {
          "output_type": "stream",
          "name": "stdout",
          "text": [
            "ACC on train 0.995\n",
            "Best: 0.96 using {'missing_data__strategy': 'mean'}\n",
            "TRAIN set score: 0.995\n",
            "TEST set score: 0.9769\n"
          ]
        }
      ]
    },
    {
      "cell_type": "markdown",
      "source": [
        "##2.2 With IterativeImputer\n",
        "\n",
        "\n"
      ],
      "metadata": {
        "id": "02-eoUpk59f0"
      },
      "id": "02-eoUpk59f0"
    },
    {
      "cell_type": "code",
      "source": [
        "#I choose Random Forest as predictor \n",
        "from sklearn.ensemble import RandomForestClassifier\n",
        "from sklearn.impute import IterativeImputer\n",
        "#Building a pipeline\n",
        "pipeline_IterativeImputer = Pipeline([('missing_data', IterativeImputer(missing_values=np.nan)),\n",
        "                     ('clf', RandomForestClassifier())])\n",
        "\n",
        "#Hyper-parameters to test\n",
        "parameters_IterativeImputer = [{'missing_data__initial_strategy': ['most_frequent','mean'],\n",
        "               'clf__n_estimators': [200, 500],\n",
        "              'clf__max_features': ['auto', 'sqrt', 'log2'],\n",
        "              'clf__max_depth' : [5,10,20]\n",
        "              }\n",
        "              ]\n",
        "\n",
        "pipeline_IterativeImputer"
      ],
      "metadata": {
        "colab": {
          "base_uri": "https://localhost:8080/"
        },
        "id": "kUARaSiT6HU7",
        "outputId": "1c5a7dc2-fa3a-4aa7-bd3a-e6f1a41d7d8c"
      },
      "id": "kUARaSiT6HU7",
      "execution_count": 128,
      "outputs": [
        {
          "output_type": "execute_result",
          "data": {
            "text/plain": [
              "Pipeline(steps=[('missing_data', IterativeImputer()),\n",
              "                ('clf', RandomForestClassifier())])"
            ]
          },
          "metadata": {},
          "execution_count": 128
        }
      ]
    },
    {
      "cell_type": "code",
      "source": [
        "# GridSearch with pipeline\n",
        "grid_IterativeImputer = GridSearchCV(pipeline_IterativeImputer, parameters_IterativeImputer, cv=2,\n",
        "                    scoring=\"f1_micro\", refit=True,\n",
        "                    verbose=2)\n",
        "\n",
        "# Try to find the best model\n",
        "grid_IterativeImputer.fit(X_train, y_train) "
      ],
      "metadata": {
        "colab": {
          "base_uri": "https://localhost:8080/"
        },
        "id": "bF_a2vG36dL-",
        "outputId": "d3afb0ae-060b-4826-8b7f-15f0a29ccd18"
      },
      "id": "bF_a2vG36dL-",
      "execution_count": 129,
      "outputs": [
        {
          "output_type": "stream",
          "name": "stdout",
          "text": [
            "Fitting 2 folds for each of 2 candidates, totalling 4 fits\n"
          ]
        },
        {
          "output_type": "stream",
          "name": "stderr",
          "text": [
            "/usr/local/lib/python3.7/dist-packages/imblearn/pipeline.py:266: DataConversionWarning: A column-vector y was passed when a 1d array was expected. Please change the shape of y to (n_samples,), for example using ravel().\n",
            "  self._final_estimator.fit(Xt, yt, **fit_params_last_step)\n"
          ]
        },
        {
          "output_type": "stream",
          "name": "stdout",
          "text": [
            "[CV] END .......missing_data__initial_strategy=most_frequent; total time=  13.7s\n"
          ]
        },
        {
          "output_type": "stream",
          "name": "stderr",
          "text": [
            "/usr/local/lib/python3.7/dist-packages/imblearn/pipeline.py:266: DataConversionWarning: A column-vector y was passed when a 1d array was expected. Please change the shape of y to (n_samples,), for example using ravel().\n",
            "  self._final_estimator.fit(Xt, yt, **fit_params_last_step)\n"
          ]
        },
        {
          "output_type": "stream",
          "name": "stdout",
          "text": [
            "[CV] END .......missing_data__initial_strategy=most_frequent; total time=  11.3s\n"
          ]
        },
        {
          "output_type": "stream",
          "name": "stderr",
          "text": [
            "/usr/local/lib/python3.7/dist-packages/imblearn/pipeline.py:266: DataConversionWarning: A column-vector y was passed when a 1d array was expected. Please change the shape of y to (n_samples,), for example using ravel().\n",
            "  self._final_estimator.fit(Xt, yt, **fit_params_last_step)\n"
          ]
        },
        {
          "output_type": "stream",
          "name": "stdout",
          "text": [
            "[CV] END ................missing_data__initial_strategy=mean; total time=   6.9s\n"
          ]
        },
        {
          "output_type": "stream",
          "name": "stderr",
          "text": [
            "/usr/local/lib/python3.7/dist-packages/imblearn/pipeline.py:266: DataConversionWarning: A column-vector y was passed when a 1d array was expected. Please change the shape of y to (n_samples,), for example using ravel().\n",
            "  self._final_estimator.fit(Xt, yt, **fit_params_last_step)\n"
          ]
        },
        {
          "output_type": "stream",
          "name": "stdout",
          "text": [
            "[CV] END ................missing_data__initial_strategy=mean; total time=   8.9s\n"
          ]
        },
        {
          "output_type": "stream",
          "name": "stderr",
          "text": [
            "/usr/local/lib/python3.7/dist-packages/imblearn/pipeline.py:266: DataConversionWarning: A column-vector y was passed when a 1d array was expected. Please change the shape of y to (n_samples,), for example using ravel().\n",
            "  self._final_estimator.fit(Xt, yt, **fit_params_last_step)\n"
          ]
        },
        {
          "output_type": "execute_result",
          "data": {
            "text/plain": [
              "GridSearchCV(cv=2,\n",
              "             estimator=Pipeline(steps=[('missing_data', IterativeImputer()),\n",
              "                                       ('clf', RandomForestClassifier())]),\n",
              "             param_grid=[{'missing_data__initial_strategy': ['most_frequent',\n",
              "                                                             'mean']}],\n",
              "             scoring='f1_micro', verbose=2)"
            ]
          },
          "metadata": {},
          "execution_count": 129
        }
      ]
    },
    {
      "cell_type": "code",
      "source": [
        "#Training score:\n",
        "y_pred = grid_IterativeImputer.predict(X_train)\n",
        "print(\"Best: {:.2f} using {}\".format(\n",
        "    grid_IterativeImputer.best_score_, \n",
        "    grid_IterativeImputer.best_params_\n",
        "))\n",
        "print('TRAIN set score: ' + str(grid_IterativeImputer.score(X_train, y_train)))\n",
        "\n",
        "#Test score:\n",
        "y_pred = grid_IterativeImputer.predict(X_test)\n",
        "print(\"Best: {:.2f} using {}\".format(\n",
        "    grid_IterativeImputer.best_score_, \n",
        "    grid_IterativeImputer.best_params_\n",
        "))\n",
        "print('TEST set score: ' + str(grid_IterativeImputer.score(X_test, y_test)))"
      ],
      "metadata": {
        "colab": {
          "base_uri": "https://localhost:8080/"
        },
        "id": "SnvIGmsy6ijV",
        "outputId": "eb99fd1c-dadf-497f-e83e-551290e6dfd8"
      },
      "id": "SnvIGmsy6ijV",
      "execution_count": 130,
      "outputs": [
        {
          "output_type": "stream",
          "name": "stdout",
          "text": [
            "Best: 0.96 using {'missing_data__initial_strategy': 'most_frequent'}\n",
            "TRAIN set score: 0.995\n",
            "Best: 0.96 using {'missing_data__initial_strategy': 'most_frequent'}\n",
            "TEST set score: 0.9768\n"
          ]
        }
      ]
    },
    {
      "cell_type": "markdown",
      "source": [
        "##2.3 With KNNimputer"
      ],
      "metadata": {
        "id": "T3VzpKjD6uuD"
      },
      "id": "T3VzpKjD6uuD"
    },
    {
      "cell_type": "code",
      "source": [
        "#I choose Random Forest as predictor \n",
        "from sklearn.ensemble import RandomForestClassifier\n",
        "from sklearn.impute import KNNImputer\n",
        "\n",
        "#Building a pipeline\n",
        "pipeline_KNNImputer = Pipeline([('missing_data', KNNImputer()),\n",
        "                     ('clf', RandomForestClassifier())])\n",
        "\n",
        "#Hyper-parameters to test\n",
        "parameters_KNNImputer = [{'missing_data__n_neighbors': [2,5],\n",
        "               'clf__n_estimators': [200, 500],\n",
        "              'clf__max_features': ['auto', 'sqrt', 'log2'],\n",
        "              'clf__max_depth' : [5,10,20]\n",
        "              }\n",
        "              ]\n",
        "\n",
        "pipeline_KNNImputer"
      ],
      "metadata": {
        "colab": {
          "base_uri": "https://localhost:8080/"
        },
        "id": "REdqOaLH6xwX",
        "outputId": "db03bb97-333b-4b73-e243-64565b9846dc"
      },
      "id": "REdqOaLH6xwX",
      "execution_count": 131,
      "outputs": [
        {
          "output_type": "execute_result",
          "data": {
            "text/plain": [
              "Pipeline(steps=[('missing_data', KNNImputer()),\n",
              "                ('clf', RandomForestClassifier())])"
            ]
          },
          "metadata": {},
          "execution_count": 131
        }
      ]
    },
    {
      "cell_type": "code",
      "source": [
        "# GridSearch with pipeline\n",
        "grid_KNNImputer = GridSearchCV(pipeline_KNNImputer, parameters_KNNImputer, cv=2,\n",
        "                    scoring=\"f1_micro\", refit=True,\n",
        "                    verbose=2)\n",
        "\n",
        "# Try to find the best model\n",
        "grid_KNNImputer.fit(X_train, y_train) "
      ],
      "metadata": {
        "colab": {
          "base_uri": "https://localhost:8080/"
        },
        "id": "ZiTL7HNo7Dfa",
        "outputId": "2fe1fb29-f741-49a5-f2d0-8404f98b5c18"
      },
      "id": "ZiTL7HNo7Dfa",
      "execution_count": 132,
      "outputs": [
        {
          "output_type": "stream",
          "name": "stdout",
          "text": [
            "Fitting 2 folds for each of 2 candidates, totalling 4 fits\n"
          ]
        },
        {
          "output_type": "stream",
          "name": "stderr",
          "text": [
            "/usr/local/lib/python3.7/dist-packages/imblearn/pipeline.py:266: DataConversionWarning: A column-vector y was passed when a 1d array was expected. Please change the shape of y to (n_samples,), for example using ravel().\n",
            "  self._final_estimator.fit(Xt, yt, **fit_params_last_step)\n"
          ]
        },
        {
          "output_type": "stream",
          "name": "stdout",
          "text": [
            "[CV] END ........................missing_data__n_neighbors=2; total time=   1.4s\n"
          ]
        },
        {
          "output_type": "stream",
          "name": "stderr",
          "text": [
            "/usr/local/lib/python3.7/dist-packages/imblearn/pipeline.py:266: DataConversionWarning: A column-vector y was passed when a 1d array was expected. Please change the shape of y to (n_samples,), for example using ravel().\n",
            "  self._final_estimator.fit(Xt, yt, **fit_params_last_step)\n"
          ]
        },
        {
          "output_type": "stream",
          "name": "stdout",
          "text": [
            "[CV] END ........................missing_data__n_neighbors=2; total time=   1.4s\n"
          ]
        },
        {
          "output_type": "stream",
          "name": "stderr",
          "text": [
            "/usr/local/lib/python3.7/dist-packages/imblearn/pipeline.py:266: DataConversionWarning: A column-vector y was passed when a 1d array was expected. Please change the shape of y to (n_samples,), for example using ravel().\n",
            "  self._final_estimator.fit(Xt, yt, **fit_params_last_step)\n"
          ]
        },
        {
          "output_type": "stream",
          "name": "stdout",
          "text": [
            "[CV] END ........................missing_data__n_neighbors=5; total time=   1.4s\n"
          ]
        },
        {
          "output_type": "stream",
          "name": "stderr",
          "text": [
            "/usr/local/lib/python3.7/dist-packages/imblearn/pipeline.py:266: DataConversionWarning: A column-vector y was passed when a 1d array was expected. Please change the shape of y to (n_samples,), for example using ravel().\n",
            "  self._final_estimator.fit(Xt, yt, **fit_params_last_step)\n"
          ]
        },
        {
          "output_type": "stream",
          "name": "stdout",
          "text": [
            "[CV] END ........................missing_data__n_neighbors=5; total time=   1.4s\n"
          ]
        },
        {
          "output_type": "stream",
          "name": "stderr",
          "text": [
            "/usr/local/lib/python3.7/dist-packages/imblearn/pipeline.py:266: DataConversionWarning: A column-vector y was passed when a 1d array was expected. Please change the shape of y to (n_samples,), for example using ravel().\n",
            "  self._final_estimator.fit(Xt, yt, **fit_params_last_step)\n"
          ]
        },
        {
          "output_type": "execute_result",
          "data": {
            "text/plain": [
              "GridSearchCV(cv=2,\n",
              "             estimator=Pipeline(steps=[('missing_data', KNNImputer()),\n",
              "                                       ('clf', RandomForestClassifier())]),\n",
              "             param_grid=[{'missing_data__n_neighbors': [2, 5]}],\n",
              "             scoring='f1_micro', verbose=2)"
            ]
          },
          "metadata": {},
          "execution_count": 132
        }
      ]
    },
    {
      "cell_type": "code",
      "source": [
        "grid_KNNImputer.get_params()"
      ],
      "metadata": {
        "colab": {
          "base_uri": "https://localhost:8080/"
        },
        "id": "c6iNX0eO-9nl",
        "outputId": "b2694ed6-30af-46f7-f508-bb17cc5cc7d3"
      },
      "id": "c6iNX0eO-9nl",
      "execution_count": 133,
      "outputs": [
        {
          "output_type": "execute_result",
          "data": {
            "text/plain": [
              "{'cv': 2,\n",
              " 'error_score': nan,\n",
              " 'estimator': Pipeline(steps=[('missing_data', KNNImputer()),\n",
              "                 ('clf', RandomForestClassifier())]),\n",
              " 'estimator__clf': RandomForestClassifier(),\n",
              " 'estimator__clf__bootstrap': True,\n",
              " 'estimator__clf__ccp_alpha': 0.0,\n",
              " 'estimator__clf__class_weight': None,\n",
              " 'estimator__clf__criterion': 'gini',\n",
              " 'estimator__clf__max_depth': None,\n",
              " 'estimator__clf__max_features': 'auto',\n",
              " 'estimator__clf__max_leaf_nodes': None,\n",
              " 'estimator__clf__max_samples': None,\n",
              " 'estimator__clf__min_impurity_decrease': 0.0,\n",
              " 'estimator__clf__min_samples_leaf': 1,\n",
              " 'estimator__clf__min_samples_split': 2,\n",
              " 'estimator__clf__min_weight_fraction_leaf': 0.0,\n",
              " 'estimator__clf__n_estimators': 100,\n",
              " 'estimator__clf__n_jobs': None,\n",
              " 'estimator__clf__oob_score': False,\n",
              " 'estimator__clf__random_state': None,\n",
              " 'estimator__clf__verbose': 0,\n",
              " 'estimator__clf__warm_start': False,\n",
              " 'estimator__memory': None,\n",
              " 'estimator__missing_data': KNNImputer(),\n",
              " 'estimator__missing_data__add_indicator': False,\n",
              " 'estimator__missing_data__copy': True,\n",
              " 'estimator__missing_data__metric': 'nan_euclidean',\n",
              " 'estimator__missing_data__missing_values': nan,\n",
              " 'estimator__missing_data__n_neighbors': 5,\n",
              " 'estimator__missing_data__weights': 'uniform',\n",
              " 'estimator__steps': [('missing_data', KNNImputer()),\n",
              "  ('clf', RandomForestClassifier())],\n",
              " 'estimator__verbose': False,\n",
              " 'n_jobs': None,\n",
              " 'param_grid': [{'missing_data__n_neighbors': [2, 5]}],\n",
              " 'pre_dispatch': '2*n_jobs',\n",
              " 'refit': True,\n",
              " 'return_train_score': False,\n",
              " 'scoring': 'f1_micro',\n",
              " 'verbose': 2}"
            ]
          },
          "metadata": {},
          "execution_count": 133
        }
      ]
    },
    {
      "cell_type": "code",
      "source": [
        "#Training score:\n",
        "y_pred = grid_KNNImputer.predict(X_train)\n",
        "print(\"Best: {:.2f} using {}\".format(\n",
        "    grid_KNNImputer.best_score_, \n",
        "    grid_KNNImputer.best_params_\n",
        "))\n",
        "print('TRAIN set score: ' + str(grid_KNNImputer.score(X_train, y_train)))\n",
        "\n",
        "#Test score:\n",
        "y_pred = grid_KNNImputer.predict(X_test)\n",
        "\n",
        "print('TEST set score: ' + str(grid_KNNImputer.score(X_test, y_test)))"
      ],
      "metadata": {
        "colab": {
          "base_uri": "https://localhost:8080/"
        },
        "id": "0zIYO7cC7Dmx",
        "outputId": "7e3aa6ac-cf61-4df0-d8b1-37df716146fc"
      },
      "id": "0zIYO7cC7Dmx",
      "execution_count": 134,
      "outputs": [
        {
          "output_type": "stream",
          "name": "stdout",
          "text": [
            "Best: 0.96 using {'missing_data__n_neighbors': 2}\n",
            "TRAIN set score: 0.995\n",
            "Best: 0.96 using {'missing_data__n_neighbors': 2}\n",
            "TEST set score: 0.9769\n"
          ]
        }
      ]
    },
    {
      "cell_type": "markdown",
      "id": "88c6d06e",
      "metadata": {
        "id": "88c6d06e"
      },
      "source": [
        "## Outlier removal\n",
        "\n",
        "Removing the outliers modifies the data set, so it is a sampler.\n",
        "\n",
        "<font color='blue'> \n",
        "IsolationForest or other sklearn detector are not a sampler. You have to read the </font>[imblearn documentation](https://imbalanced-learn.org/dev/references/generated/imblearn.FunctionSampler.html)\n",
        "    \n",
        "A small example with parameters:\n",
        "<pre>\n",
        "from collections import Counter\n",
        "from imblearn.under_sampling import RandomUnderSampler\n",
        "\n",
        "def func(X, y, sampling_strategy, random_state):\n",
        "  return RandomUnderSampler(\n",
        "      sampling_strategy=sampling_strategy,\n",
        "      random_state=random_state).fit_resample(X, y)\n",
        "      \n",
        "sampler = FunctionSampler(func=func,\n",
        "                          kw_args={'sampling_strategy': 'auto',\n",
        "                                   'random_state': 0})\n",
        "X_res, y_res = sampler.fit_resample(X, y)\n",
        "print(f'Resampled dataset shape {sorted(Counter(y_res).items())}')\n",
        "</pre>\n",
        "\n",
        "$$[TO DO - Students]$$\n",
        "\n",
        "Test some algorithms to handle outliers.\n",
        "* Choose the classifier that you think is preferable for this job.\n",
        "\n",
        "1. Without taking any precautions\n",
        "1. By eliminating outliers with one of the following approaches:\n",
        "    * With Isolation Forest (IF)\n",
        "    * With Local Outlier Factor (LOF)\n",
        "    * With Minimum Covariance Determinant (MCD)\n",
        "\n",
        "Build a 3 step pipeline and use a gridsearch to find the right hyperpameters.\n",
        "The first step, is your best previous \"missing data method\".\n",
        "\n",
        "Submit your work in the form of an executable and commented notebook at lms.univ-cotedazur.fr"
      ]
    },
    {
      "cell_type": "markdown",
      "source": [
        "#ANSWER:"
      ],
      "metadata": {
        "id": "T7WdUwYW8MYT"
      },
      "id": "T7WdUwYW8MYT"
    },
    {
      "cell_type": "markdown",
      "source": [
        "##1. Without taking any precautions: \n",
        "This is the same pipeline with the previous question with 2 steps (missing data handling and classifier)."
      ],
      "metadata": {
        "id": "7kZmaVkwJ2vL"
      },
      "id": "7kZmaVkwJ2vL"
    },
    {
      "cell_type": "markdown",
      "source": [
        "#2. LocalOutlierFactor"
      ],
      "metadata": {
        "id": "EvMAED3e9U0s"
      },
      "id": "EvMAED3e9U0s"
    },
    {
      "cell_type": "markdown",
      "source": [
        "Since it says \"By eliminating outliers with ONE of the following approaches\", I chosed Local Outlier Factor."
      ],
      "metadata": {
        "id": "eXE5jF-zJrnj"
      },
      "id": "eXE5jF-zJrnj"
    },
    {
      "cell_type": "code",
      "source": [
        "# step 1 : imput missing data\n",
        "# step 2 : remove outlier\n",
        "# step 3 : classifier\n",
        "from sklearn.neighbors import LocalOutlierFactor\n",
        "\n",
        "def outlier_removal(X, y):\n",
        "    iforest = LocalOutlierFactor(n_neighbors=2)\n",
        "    outliers = iforest.fit_predict(X, y)\n",
        "\n",
        "    X_filtered = X[outliers == 1]\n",
        "    y_filtered = y[outliers == 1]\n",
        "\n",
        "    return X_filtered, y_filtered\n",
        "pipeline_outlier = Pipeline([('missing_data', SimpleImputer(missing_values=np.nan, strategy='mean')),\n",
        "                     ('outlier', FunctionSampler(func=outlier_removal)),\n",
        "                     ('clf', RandomForestClassifier())])\n",
        "\n",
        "parameters_outlier = [{'missing_data__strategy': ['most_frequent','mean'],\n",
        "               'clf__n_estimators': [200, 500],\n",
        "              'clf__max_features': ['auto', 'sqrt', 'log2'],\n",
        "              'clf__max_depth' : [5,20]\n",
        "              }\n",
        "              ]\n",
        "\n",
        "pipeline_outlier"
      ],
      "metadata": {
        "colab": {
          "base_uri": "https://localhost:8080/"
        },
        "id": "s__2Eta38L-b",
        "outputId": "12673cfb-efb8-48f2-ce1d-6e03debce1f1"
      },
      "id": "s__2Eta38L-b",
      "execution_count": 135,
      "outputs": [
        {
          "output_type": "execute_result",
          "data": {
            "text/plain": [
              "Pipeline(steps=[('missing_data', SimpleImputer()),\n",
              "                ('outlier',\n",
              "                 FunctionSampler(func=<function outlier_removal at 0x7f0fbdbfd5f0>)),\n",
              "                ('clf', RandomForestClassifier())])"
            ]
          },
          "metadata": {},
          "execution_count": 135
        }
      ]
    },
    {
      "cell_type": "code",
      "source": [
        "# GridSearch with pipeline\n",
        "grid_outlier = GridSearchCV(pipeline_outlier, parameters_outlier, cv=2,\n",
        "                    scoring=\"f1_micro\", refit=True,\n",
        "                    verbose=2)\n",
        "\n",
        "# Try to find the best model\n",
        "grid_outlier.fit(X_train, y_train) "
      ],
      "metadata": {
        "colab": {
          "base_uri": "https://localhost:8080/"
        },
        "id": "wr2hDPqV-3mn",
        "outputId": "5944e8d0-7a4e-4940-e8e1-961b8536e4bf"
      },
      "id": "wr2hDPqV-3mn",
      "execution_count": 136,
      "outputs": [
        {
          "output_type": "stream",
          "name": "stdout",
          "text": [
            "Fitting 2 folds for each of 2 candidates, totalling 4 fits\n",
            "[CV] END ...............missing_data__strategy=most_frequent; total time=   1.1s\n",
            "[CV] END ...............missing_data__strategy=most_frequent; total time=   1.1s\n",
            "[CV] END ........................missing_data__strategy=mean; total time=   1.1s\n",
            "[CV] END ........................missing_data__strategy=mean; total time=   1.0s\n"
          ]
        },
        {
          "output_type": "execute_result",
          "data": {
            "text/plain": [
              "GridSearchCV(cv=2,\n",
              "             estimator=Pipeline(steps=[('missing_data', SimpleImputer()),\n",
              "                                       ('outlier',\n",
              "                                        FunctionSampler(func=<function outlier_removal at 0x7f0fbdbfd5f0>)),\n",
              "                                       ('clf', RandomForestClassifier())]),\n",
              "             param_grid=[{'missing_data__strategy': ['most_frequent', 'mean']}],\n",
              "             scoring='f1_micro', verbose=2)"
            ]
          },
          "metadata": {},
          "execution_count": 136
        }
      ]
    },
    {
      "cell_type": "code",
      "source": [
        "#Training score:\n",
        "y_pred_outlier = grid_outlier.predict(X_train)\n",
        "print(\"Best: {:.2f} using {}\".format(\n",
        "    grid_outlier.best_score_, \n",
        "    grid_outlier.best_params_\n",
        "))\n",
        "print('TRAIN set score: ' + str(grid_outlier.score(X_train, y_train)))\n",
        "\n",
        "#Test score:\n",
        "y_pred_outlier = grid_outlier.predict(X_test)\n",
        "\n",
        "print('TEST set score: ' + str(grid_outlier.score(X_test, y_test)))"
      ],
      "metadata": {
        "colab": {
          "base_uri": "https://localhost:8080/"
        },
        "id": "YbF0cTcd_Sae",
        "outputId": "e316daae-7e25-4ac1-f3ea-13b9dcc90f98"
      },
      "id": "YbF0cTcd_Sae",
      "execution_count": 137,
      "outputs": [
        {
          "output_type": "stream",
          "name": "stdout",
          "text": [
            "Best: 0.96 using {'missing_data__strategy': 'mean'}\n",
            "TRAIN set score: 0.992\n",
            "Best: 0.96 using {'missing_data__strategy': 'mean'}\n",
            "TEST set score: 0.976\n"
          ]
        }
      ]
    },
    {
      "cell_type": "markdown",
      "id": "56aba889",
      "metadata": {
        "id": "56aba889"
      },
      "source": [
        "## Unbalance dataset\n",
        "\n",
        "$$[TO DO - Students]$$\n",
        "\n",
        "Test some algorithms to work with unbalanced dataset.\n",
        "Choose the classifier that you think is preferable for this job.\n",
        "\n",
        "1. Without taking any precautions\n",
        "1. With modification of the dataset by Over sampling or Under sampling or SMOTE\n",
        "1. Without modification of the dataset by weight\n",
        "\n",
        "Build a 4 step pipeline and use a gridsearch to find the right hyperpameters and use a gridsearch to find the right hyperpameters. The first and second step, is your best previous methods.\n",
        "\n",
        "Submit your work in the form of an executable and commented notebook at lms.univ-cotedazur.fr"
      ]
    },
    {
      "cell_type": "markdown",
      "source": [
        "#Answer:"
      ],
      "metadata": {
        "id": "WsH3bj7fBCNE"
      },
      "id": "WsH3bj7fBCNE"
    },
    {
      "cell_type": "markdown",
      "source": [
        "##1- Without taking any precautions:\n",
        "This is the same thing with the previous question where there is a 3-step pipeline (handling missing data, outlier removal and classifier)."
      ],
      "metadata": {
        "id": "565bG5JlG0jy"
      },
      "id": "565bG5JlG0jy"
    },
    {
      "cell_type": "markdown",
      "source": [
        "##2.1 Over Sampling:"
      ],
      "metadata": {
        "id": "zbaKWMnLEomK"
      },
      "id": "zbaKWMnLEomK"
    },
    {
      "cell_type": "code",
      "execution_count": 138,
      "id": "40ad6770",
      "metadata": {
        "colab": {
          "base_uri": "https://localhost:8080/"
        },
        "id": "40ad6770",
        "outputId": "b554279b-563f-473a-a6d3-a4697a71436a"
      },
      "outputs": [
        {
          "output_type": "execute_result",
          "data": {
            "text/plain": [
              "Pipeline(steps=[('missing_data', SimpleImputer()),\n",
              "                ('outlier',\n",
              "                 FunctionSampler(func=<function outlier_removal at 0x7f0fbdbfd5f0>)),\n",
              "                ('over_sampling',\n",
              "                 FunctionSampler(func=<function random_over_sample at 0x7f0fbde3e320>)),\n",
              "                ('clf', RandomForestClassifier())])"
            ]
          },
          "metadata": {},
          "execution_count": 138
        }
      ],
      "source": [
        "from imblearn.over_sampling import RandomOverSampler\n",
        "\n",
        "def random_over_sample(X, y):\n",
        "    overSample = RandomOverSampler(sampling_strategy=0.5)\n",
        "    X_over, y_over = overSample.fit_resample(X, y)\n",
        "    return X_over, y_over\n",
        "\n",
        "\n",
        "pipeline_oversampling = Pipeline([('missing_data', SimpleImputer(missing_values=np.nan, strategy='mean')),\n",
        "                     ('outlier', FunctionSampler(func=outlier_removal)),\n",
        "                     ('over_sampling', FunctionSampler(func=random_over_sample)),\n",
        "                     ('clf', RandomForestClassifier())])\n",
        "\n",
        "parameters_oversampling = [{'missing_data__strategy': ['most_frequent','mean'],\n",
        "               'clf__n_estimators': [200, 500],\n",
        "              'clf__max_features': ['auto', 'sqrt', 'log2'],\n",
        "              'clf__max_depth' : [5,20]\n",
        "              }\n",
        "              ]\n",
        "\n",
        "pipeline_oversampling"
      ]
    },
    {
      "cell_type": "code",
      "source": [
        "# GridSearch with pipeline\n",
        "grid_oversampling = GridSearchCV(pipeline_oversampling, parameters_oversampling, cv=2,\n",
        "                    scoring=\"f1_micro\", refit=True,\n",
        "                    verbose=2)\n",
        "\n",
        "# Try to find the best model\n",
        "grid_oversampling.fit(X_train, y_train) "
      ],
      "metadata": {
        "colab": {
          "base_uri": "https://localhost:8080/"
        },
        "id": "SVCkbKqkE7Sn",
        "outputId": "8c2c4d3f-ced0-49cd-c0f6-01a6a135d213"
      },
      "id": "SVCkbKqkE7Sn",
      "execution_count": 139,
      "outputs": [
        {
          "output_type": "stream",
          "name": "stdout",
          "text": [
            "Fitting 2 folds for each of 2 candidates, totalling 4 fits\n",
            "[CV] END ...............missing_data__strategy=most_frequent; total time=   1.2s\n",
            "[CV] END ...............missing_data__strategy=most_frequent; total time=   1.2s\n",
            "[CV] END ........................missing_data__strategy=mean; total time=   1.2s\n",
            "[CV] END ........................missing_data__strategy=mean; total time=   1.2s\n"
          ]
        },
        {
          "output_type": "execute_result",
          "data": {
            "text/plain": [
              "GridSearchCV(cv=2,\n",
              "             estimator=Pipeline(steps=[('missing_data', SimpleImputer()),\n",
              "                                       ('outlier',\n",
              "                                        FunctionSampler(func=<function outlier_removal at 0x7f0fbdbfd5f0>)),\n",
              "                                       ('over_sampling',\n",
              "                                        FunctionSampler(func=<function random_over_sample at 0x7f0fbde3e320>)),\n",
              "                                       ('clf', RandomForestClassifier())]),\n",
              "             param_grid=[{'missing_data__strategy': ['most_frequent', 'mean']}],\n",
              "             scoring='f1_micro', verbose=2)"
            ]
          },
          "metadata": {},
          "execution_count": 139
        }
      ]
    },
    {
      "cell_type": "code",
      "source": [
        "#Training score:\n",
        "y_pred_oversampling = grid_oversampling.predict(X_train)\n",
        "print(\"Best: {:.2f} using {}\".format(\n",
        "    grid_oversampling.best_score_, \n",
        "    grid_oversampling.best_params_\n",
        "))\n",
        "print('TRAIN set score: ' + str(grid_oversampling.score(X_train, y_train)))\n",
        "\n",
        "#Test score:\n",
        "y_pred_oversampling = grid_oversampling.predict(X_test)\n",
        "print('TEST set score: ' + str(grid_oversampling.score(X_test, y_test)))"
      ],
      "metadata": {
        "colab": {
          "base_uri": "https://localhost:8080/"
        },
        "id": "VCUfLDSNEdpp",
        "outputId": "0a3c4df8-c64f-4be8-d9fe-21c5e1115397"
      },
      "id": "VCUfLDSNEdpp",
      "execution_count": 140,
      "outputs": [
        {
          "output_type": "stream",
          "name": "stdout",
          "text": [
            "Best: 0.96 using {'missing_data__strategy': 'mean'}\n",
            "TRAIN set score: 0.9906\n",
            "TEST set score: 0.9786\n"
          ]
        }
      ]
    },
    {
      "cell_type": "markdown",
      "source": [
        "##2.2 Under Sampling"
      ],
      "metadata": {
        "id": "U3KPk7I1HPjE"
      },
      "id": "U3KPk7I1HPjE"
    },
    {
      "cell_type": "code",
      "source": [
        "from imblearn.under_sampling import RandomUnderSampler\n",
        "\n",
        "def random_under_sample(X, y):\n",
        "    undersample = RandomUnderSampler(sampling_strategy=0.5)\n",
        "    X_under, y_under = undersample.fit_resample(X, y)\n",
        "    return X_under, y_under\n",
        "\n",
        "\n",
        "pipeline_undersampling = Pipeline([('missing_data', SimpleImputer(missing_values=np.nan, strategy='mean')),\n",
        "                     ('outlier', FunctionSampler(func=outlier_removal)),\n",
        "                     ('under_sampling', FunctionSampler(func=random_under_sample)),\n",
        "                     ('clf', RandomForestClassifier())])\n",
        "\n",
        "parameters_undersampling = [{'missing_data__strategy': ['most_frequent','mean'],\n",
        "               'clf__n_estimators': [200, 500],\n",
        "              'clf__max_features': ['auto', 'sqrt', 'log2'],\n",
        "              'clf__max_depth' : [5,20]\n",
        "              }\n",
        "              ]\n",
        "\n",
        "pipeline_undersampling"
      ],
      "metadata": {
        "colab": {
          "base_uri": "https://localhost:8080/"
        },
        "id": "agtOuDMVHRmP",
        "outputId": "68c9ea9b-d112-4748-c021-a3aead57b3b7"
      },
      "id": "agtOuDMVHRmP",
      "execution_count": 144,
      "outputs": [
        {
          "output_type": "execute_result",
          "data": {
            "text/plain": [
              "Pipeline(steps=[('missing_data', SimpleImputer()),\n",
              "                ('outlier',\n",
              "                 FunctionSampler(func=<function outlier_removal at 0x7f0fbdbfd5f0>)),\n",
              "                ('under_sampling',\n",
              "                 FunctionSampler(func=<function random_under_sample at 0x7f0fbdb614d0>)),\n",
              "                ('clf', RandomForestClassifier())])"
            ]
          },
          "metadata": {},
          "execution_count": 144
        }
      ]
    },
    {
      "cell_type": "code",
      "source": [
        "# GridSearch with pipeline\n",
        "grid_undersampling = GridSearchCV(pipeline_undersampling, parameters_undersampling, cv=2,\n",
        "                    scoring=\"f1_micro\", refit=True,\n",
        "                    verbose=2)\n",
        "\n",
        "# Try to find the best model\n",
        "grid_undersampling.fit(X_train, y_train) "
      ],
      "metadata": {
        "colab": {
          "base_uri": "https://localhost:8080/"
        },
        "id": "4UhHsvs4HnqO",
        "outputId": "d46ee1f7-e873-4255-ecc3-0b9de5c16fc3"
      },
      "id": "4UhHsvs4HnqO",
      "execution_count": 145,
      "outputs": [
        {
          "output_type": "stream",
          "name": "stdout",
          "text": [
            "Fitting 2 folds for each of 2 candidates, totalling 4 fits\n",
            "[CV] END ...............missing_data__strategy=most_frequent; total time=   0.8s\n",
            "[CV] END ...............missing_data__strategy=most_frequent; total time=   0.8s\n",
            "[CV] END ........................missing_data__strategy=mean; total time=   0.8s\n",
            "[CV] END ........................missing_data__strategy=mean; total time=   0.7s\n"
          ]
        },
        {
          "output_type": "execute_result",
          "data": {
            "text/plain": [
              "GridSearchCV(cv=2,\n",
              "             estimator=Pipeline(steps=[('missing_data', SimpleImputer()),\n",
              "                                       ('outlier',\n",
              "                                        FunctionSampler(func=<function outlier_removal at 0x7f0fbdbfd5f0>)),\n",
              "                                       ('under_sampling',\n",
              "                                        FunctionSampler(func=<function random_under_sample at 0x7f0fbdb614d0>)),\n",
              "                                       ('clf', RandomForestClassifier())]),\n",
              "             param_grid=[{'missing_data__strategy': ['most_frequent', 'mean']}],\n",
              "             scoring='f1_micro', verbose=2)"
            ]
          },
          "metadata": {},
          "execution_count": 145
        }
      ]
    },
    {
      "cell_type": "code",
      "source": [
        "#Training score:\n",
        "y_pred_undersampling = grid_undersampling.predict(X_train)\n",
        "print(\"Best: {:.2f} using {}\".format(\n",
        "    grid_undersampling.best_score_, \n",
        "    grid_undersampling.best_params_\n",
        "))\n",
        "print('TRAIN set score: ' + str(grid_undersampling.score(X_train, y_train)))\n",
        "\n",
        "#Test score:\n",
        "y_pred_undersampling = grid_undersampling.predict(X_test)\n",
        "print('TEST set score: ' + str(grid_undersampling.score(X_test, y_test)))"
      ],
      "metadata": {
        "colab": {
          "base_uri": "https://localhost:8080/"
        },
        "id": "tsgrZe-DHxy4",
        "outputId": "4e9b94b5-a1c7-4d81-9db8-71d7d6d06632"
      },
      "id": "tsgrZe-DHxy4",
      "execution_count": 146,
      "outputs": [
        {
          "output_type": "stream",
          "name": "stdout",
          "text": [
            "Best: 0.93 using {'missing_data__strategy': 'most_frequent'}\n",
            "TRAIN set score: 0.9573\n",
            "TEST set score: 0.9554\n"
          ]
        }
      ]
    },
    {
      "cell_type": "markdown",
      "source": [
        "##2.3 - STOME"
      ],
      "metadata": {
        "id": "KvchOGLpIN41"
      },
      "id": "KvchOGLpIN41"
    },
    {
      "cell_type": "code",
      "source": [
        "from imblearn.over_sampling import SMOTE \n",
        "\n",
        "def stome(X, y):\n",
        "    sm = SMOTE(random_state=42)\n",
        "    X_res, y_res = sm.fit_resample(X, y)\n",
        "    return X_res, y_res\n",
        "\n",
        "\n",
        "pipeline_stome = Pipeline([('missing_data', SimpleImputer(missing_values=np.nan, strategy='mean')),\n",
        "                     ('outlier', FunctionSampler(func=outlier_removal)),\n",
        "                     ('under_sampling', FunctionSampler(func=stome)),\n",
        "                     ('clf', RandomForestClassifier())])\n",
        "\n",
        "parameters_stome = [{'missing_data__strategy': ['most_frequent','mean'],\n",
        "               'clf__n_estimators': [200, 500],\n",
        "              'clf__max_features': ['auto', 'sqrt', 'log2'],\n",
        "              'clf__max_depth' : [5,20]\n",
        "              }\n",
        "              ]\n",
        "\n",
        "pipeline_stome\n"
      ],
      "metadata": {
        "colab": {
          "base_uri": "https://localhost:8080/"
        },
        "id": "4ejpfD8kIS_D",
        "outputId": "91b85e74-f178-40e8-ca75-5df92ff5a8cc"
      },
      "id": "4ejpfD8kIS_D",
      "execution_count": 147,
      "outputs": [
        {
          "output_type": "execute_result",
          "data": {
            "text/plain": [
              "Pipeline(steps=[('missing_data', SimpleImputer()),\n",
              "                ('outlier',\n",
              "                 FunctionSampler(func=<function outlier_removal at 0x7f0fbdbfd5f0>)),\n",
              "                ('under_sampling',\n",
              "                 FunctionSampler(func=<function stome at 0x7f0fbde3e560>)),\n",
              "                ('clf', RandomForestClassifier())])"
            ]
          },
          "metadata": {},
          "execution_count": 147
        }
      ]
    },
    {
      "cell_type": "code",
      "source": [
        "# GridSearch with pipeline\n",
        "grid_stome = GridSearchCV(pipeline_stome, parameters_stome, cv=2,\n",
        "                    scoring=\"f1_micro\", refit=True,\n",
        "                    verbose=2)\n",
        "\n",
        "# Try to find the best model\n",
        "grid_stome.fit(X_train, y_train) "
      ],
      "metadata": {
        "colab": {
          "base_uri": "https://localhost:8080/"
        },
        "id": "KL0rYT2pInXg",
        "outputId": "706ddd56-bc82-47a3-d1f0-b8f878abd100"
      },
      "id": "KL0rYT2pInXg",
      "execution_count": 148,
      "outputs": [
        {
          "output_type": "stream",
          "name": "stdout",
          "text": [
            "Fitting 2 folds for each of 2 candidates, totalling 4 fits\n",
            "[CV] END ...............missing_data__strategy=most_frequent; total time=   1.8s\n",
            "[CV] END ...............missing_data__strategy=most_frequent; total time=   1.8s\n",
            "[CV] END ........................missing_data__strategy=mean; total time=   1.8s\n",
            "[CV] END ........................missing_data__strategy=mean; total time=   1.8s\n"
          ]
        },
        {
          "output_type": "execute_result",
          "data": {
            "text/plain": [
              "GridSearchCV(cv=2,\n",
              "             estimator=Pipeline(steps=[('missing_data', SimpleImputer()),\n",
              "                                       ('outlier',\n",
              "                                        FunctionSampler(func=<function outlier_removal at 0x7f0fbdbfd5f0>)),\n",
              "                                       ('under_sampling',\n",
              "                                        FunctionSampler(func=<function stome at 0x7f0fbde3e560>)),\n",
              "                                       ('clf', RandomForestClassifier())]),\n",
              "             param_grid=[{'missing_data__strategy': ['most_frequent', 'mean']}],\n",
              "             scoring='f1_micro', verbose=2)"
            ]
          },
          "metadata": {},
          "execution_count": 148
        }
      ]
    },
    {
      "cell_type": "code",
      "source": [
        "#Training score:\n",
        "y_pred_stome = grid_stome.predict(X_train)\n",
        "print(\"Best: {:.2f} using {}\".format(\n",
        "    grid_stome.best_score_, \n",
        "    grid_stome.best_params_\n",
        "))\n",
        "print('TRAIN set score: ' + str(grid_stome.score(X_train, y_train)))\n",
        "\n",
        "#Test score:\n",
        "y_pred_stome = grid_stome.predict(X_test)\n",
        "print('TEST set score: ' + str(grid_stome.score(X_test, y_test)))"
      ],
      "metadata": {
        "colab": {
          "base_uri": "https://localhost:8080/"
        },
        "id": "8ewsbosmItJ2",
        "outputId": "bb1a9699-a21d-4090-aebf-0aa14f945518"
      },
      "id": "8ewsbosmItJ2",
      "execution_count": 149,
      "outputs": [
        {
          "output_type": "stream",
          "name": "stdout",
          "text": [
            "Best: 0.96 using {'missing_data__strategy': 'mean'}\n",
            "TRAIN set score: 0.9859\n",
            "TEST set score: 0.9757\n"
          ]
        }
      ]
    }
  ],
  "metadata": {
    "kernelspec": {
      "display_name": "Python 3",
      "language": "python",
      "name": "python3"
    },
    "language_info": {
      "codemirror_mode": {
        "name": "ipython",
        "version": 3
      },
      "file_extension": ".py",
      "mimetype": "text/x-python",
      "name": "python",
      "nbconvert_exporter": "python",
      "pygments_lexer": "ipython3",
      "version": "3.8.8"
    },
    "latex_envs": {
      "LaTeX_envs_menu_present": true,
      "autoclose": true,
      "autocomplete": true,
      "bibliofile": "biblio.bib",
      "cite_by": "apalike",
      "current_citInitial": 1,
      "eqLabelWithNumbers": true,
      "eqNumInitial": 1,
      "hotkeys": {
        "equation": "Ctrl-E",
        "itemize": "Ctrl-I"
      },
      "labels_anchors": false,
      "latex_user_defs": false,
      "report_style_numbering": false,
      "user_envs_cfg": false
    },
    "nbTranslate": {
      "displayLangs": [
        "*"
      ],
      "hotkey": "alt-t",
      "langInMainMenu": true,
      "sourceLang": "en",
      "targetLang": "fr",
      "useGoogleTranslate": true
    },
    "toc": {
      "base_numbering": 1,
      "nav_menu": {},
      "number_sections": true,
      "sideBar": true,
      "skip_h1_title": true,
      "title_cell": "Table of Contents",
      "title_sidebar": "Contents",
      "toc_cell": true,
      "toc_position": {},
      "toc_section_display": true,
      "toc_window_display": false
    },
    "colab": {
      "name": "01-notebook_missingdata_UFUK_CEM_BIRBIRI.ipynb",
      "provenance": [],
      "collapsed_sections": []
    }
  },
  "nbformat": 4,
  "nbformat_minor": 5
}