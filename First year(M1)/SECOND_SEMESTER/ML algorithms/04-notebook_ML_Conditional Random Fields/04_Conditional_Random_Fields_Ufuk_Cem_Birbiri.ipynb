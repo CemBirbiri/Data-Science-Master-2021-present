{
  "cells": [
    {
      "cell_type": "code",
      "execution_count": 1,
      "id": "wanted-building",
      "metadata": {
        "id": "wanted-building"
      },
      "outputs": [],
      "source": [
        "import matplotlib.pyplot as plt"
      ]
    },
    {
      "cell_type": "code",
      "source": [
        "!pip install sklearn_crfsuite"
      ],
      "metadata": {
        "colab": {
          "base_uri": "https://localhost:8080/"
        },
        "id": "u5u2kAtMfBDG",
        "outputId": "2cd57f63-c92a-4d7c-f817-13b45d3ecaa9"
      },
      "id": "u5u2kAtMfBDG",
      "execution_count": 2,
      "outputs": [
        {
          "output_type": "stream",
          "name": "stdout",
          "text": [
            "Requirement already satisfied: sklearn_crfsuite in /usr/local/lib/python3.7/dist-packages (0.3.6)\n",
            "Requirement already satisfied: python-crfsuite>=0.8.3 in /usr/local/lib/python3.7/dist-packages (from sklearn_crfsuite) (0.9.7)\n",
            "Requirement already satisfied: six in /usr/local/lib/python3.7/dist-packages (from sklearn_crfsuite) (1.15.0)\n",
            "Requirement already satisfied: tabulate in /usr/local/lib/python3.7/dist-packages (from sklearn_crfsuite) (0.8.9)\n",
            "Requirement already satisfied: tqdm>=2.0 in /usr/local/lib/python3.7/dist-packages (from sklearn_crfsuite) (4.62.3)\n"
          ]
        }
      ]
    },
    {
      "cell_type": "code",
      "execution_count": 3,
      "id": "demonstrated-passion",
      "metadata": {
        "id": "demonstrated-passion"
      },
      "outputs": [],
      "source": [
        "from itertools import chain\n",
        "\n",
        "import nltk\n",
        "import sklearn\n",
        "import scipy.stats\n",
        "from sklearn.metrics import make_scorer\n",
        "from sklearn.model_selection import cross_val_score\n",
        "from sklearn.model_selection import RandomizedSearchCV\n",
        "\n",
        "import sklearn_crfsuite\n",
        "from sklearn_crfsuite import scorers\n",
        "from sklearn_crfsuite import metrics"
      ]
    },
    {
      "cell_type": "markdown",
      "id": "traditional-fisher",
      "metadata": {
        "id": "traditional-fisher"
      },
      "source": [
        "A simple sentence NER example:\n",
        "\n",
        "[**ORG** U.N. ] official [**PER** Ekeus ] heads for [**LOC** Baghdad ] \n",
        "\n",
        "We will concentrate on four types of named entities:\n",
        " * persons (**PER**), \n",
        " * locations (**LOC**) \n",
        " * organizations (**ORG**)\n",
        " * Others (**O**)"
      ]
    },
    {
      "cell_type": "code",
      "execution_count": 4,
      "id": "innovative-aberdeen",
      "metadata": {
        "id": "innovative-aberdeen"
      },
      "outputs": [],
      "source": [
        "def _generate_examples(filepath):\n",
        "        with open(filepath, encoding=\"utf-8\") as f:\n",
        "            sent = []\n",
        "            for line in f:\n",
        "                if line.startswith(\"-DOCSTART-\") or line == \"\" or line == \"\\n\":\n",
        "                    if sent:\n",
        "                        yield sent\n",
        "                        sent = []\n",
        "                else:\n",
        "                    splits = line.split(\" \")\n",
        "                    token = splits[0]\n",
        "                    pos_tag = splits[1]\n",
        "                    ner_tag = splits[3].rstrip()\n",
        "                    if 'MISC' in ner_tag:\n",
        "                        ner_tag = 'O'\n",
        "                    \n",
        "                    sent.append((token, pos_tag, ner_tag))"
      ]
    },
    {
      "cell_type": "code",
      "execution_count": 5,
      "id": "capital-stopping",
      "metadata": {
        "id": "capital-stopping",
        "outputId": "f4050487-ae1c-4a11-a58f-d66d53f9b77c",
        "colab": {
          "base_uri": "https://localhost:8080/"
        }
      },
      "outputs": [
        {
          "output_type": "stream",
          "name": "stdout",
          "text": [
            "CPU times: user 281 ms, sys: 22.7 ms, total: 303 ms\n",
            "Wall time: 332 ms\n"
          ]
        }
      ],
      "source": [
        "%%time \n",
        "# hint use the above defined function\n",
        "train_sents = list(_generate_examples('/content/train.txt'))\n",
        "test_sents = list(_generate_examples('/content/test.txt'))"
      ]
    },
    {
      "cell_type": "code",
      "execution_count": 6,
      "id": "acquired-oxide",
      "metadata": {
        "id": "acquired-oxide"
      },
      "outputs": [],
      "source": [
        "def word2features(sent, i):\n",
        "    word = sent[i][0]\n",
        "    postag = sent[i][1]\n",
        "\n",
        "    features = {\n",
        "        'bias': 1.0,\n",
        "        'word.lower()': word.lower(),\n",
        "        'postag': postag,\n",
        "    }\n",
        "    \n",
        "    if i > 0:\n",
        "        word1 = sent[i-1][0]\n",
        "        postag1 = sent[i-1][1]\n",
        "        features.update({\n",
        "            '-1:word.lower()': word1.lower(),\n",
        "            '-1:postag': postag1,\n",
        "        })\n",
        "    else:\n",
        "        features['BOS'] = True\n",
        "    return features"
      ]
    },
    {
      "cell_type": "code",
      "execution_count": 7,
      "id": "minimal-student",
      "metadata": {
        "id": "minimal-student",
        "outputId": "a7e6211d-1cb1-432c-eaee-c7379257c293",
        "colab": {
          "base_uri": "https://localhost:8080/"
        }
      },
      "outputs": [
        {
          "output_type": "execute_result",
          "data": {
            "text/plain": [
              "[('United', 'NNP', 'B-LOC'),\n",
              " ('Arab', 'NNP', 'I-LOC'),\n",
              " ('Emirates', 'NNPS', 'I-LOC'),\n",
              " ('1996-12-06', 'CD', 'O')]"
            ]
          },
          "metadata": {},
          "execution_count": 7
        }
      ],
      "source": [
        "test_sents[2]"
      ]
    },
    {
      "cell_type": "code",
      "execution_count": 8,
      "id": "acquired-robertson",
      "metadata": {
        "id": "acquired-robertson",
        "outputId": "78651306-d470-45e9-a4f8-f2e4470ed009",
        "colab": {
          "base_uri": "https://localhost:8080/"
        }
      },
      "outputs": [
        {
          "output_type": "execute_result",
          "data": {
            "text/plain": [
              "{'BOS': True, 'bias': 1.0, 'postag': 'NNP', 'word.lower()': 'united'}"
            ]
          },
          "metadata": {},
          "execution_count": 8
        }
      ],
      "source": [
        "word2features(test_sents[2],0)"
      ]
    },
    {
      "cell_type": "code",
      "execution_count": 9,
      "id": "addressed-showcase",
      "metadata": {
        "id": "addressed-showcase"
      },
      "outputs": [],
      "source": [
        "def sent2features(sent):\n",
        "    return [word2features(sent, i) for i in range(len(sent))]\n",
        "\n",
        "def sent2labels(sent):\n",
        "    return [label for token, postag, label in sent]\n",
        "\n",
        "def sent2tokens(sent):\n",
        "    return [token for token, postag, label in sent]"
      ]
    },
    {
      "cell_type": "code",
      "execution_count": 10,
      "id": "completed-contribution",
      "metadata": {
        "id": "completed-contribution",
        "outputId": "4962800d-307c-4a7a-a8f4-a579ff69d61e",
        "colab": {
          "base_uri": "https://localhost:8080/"
        }
      },
      "outputs": [
        {
          "output_type": "stream",
          "name": "stdout",
          "text": [
            "CPU times: user 384 ms, sys: 52.8 ms, total: 437 ms\n",
            "Wall time: 439 ms\n"
          ]
        }
      ],
      "source": [
        "%%time\n",
        "X_train = [sent2features(s) for s in train_sents]\n",
        "y_train = [sent2labels(s) for s in train_sents]\n",
        "\n",
        "X_test = [sent2features(s) for s in test_sents]\n",
        "y_test = [sent2labels(s) for s in test_sents]"
      ]
    },
    {
      "cell_type": "code",
      "execution_count": 11,
      "id": "included-fishing",
      "metadata": {
        "id": "included-fishing",
        "outputId": "f4088cc0-05d0-4714-e13a-19e3be1dae6c",
        "colab": {
          "base_uri": "https://localhost:8080/"
        }
      },
      "outputs": [
        {
          "output_type": "stream",
          "name": "stdout",
          "text": [
            "CPU times: user 13.5 s, sys: 69.4 ms, total: 13.5 s\n",
            "Wall time: 13.6 s\n"
          ]
        }
      ],
      "source": [
        "%%time \n",
        "#search for sklearn_crfsuite.CRF, use the lbfgs algorithm, c parameters should be 0.1 and max iterations 100, all possible transactions true\n",
        "crf = sklearn_crfsuite.CRF(\n",
        "    algorithm= 'lbfgs',\n",
        "    c1=1.0,\n",
        "    c2=1.0,\n",
        "    max_iterations=100,\n",
        "   all_possible_transitions = True   \n",
        ")\n",
        "# fit the model\n",
        "crf.fit(X_train,y_train)"
      ]
    },
    {
      "cell_type": "code",
      "execution_count": 12,
      "id": "scientific-armstrong",
      "metadata": {
        "id": "scientific-armstrong"
      },
      "outputs": [],
      "source": [
        "# save a list of all labels in your model, hint crfs have a classes attribute\n",
        "labels = crf.classes_"
      ]
    },
    {
      "cell_type": "code",
      "execution_count": 13,
      "id": "laughing-guest",
      "metadata": {
        "id": "laughing-guest",
        "outputId": "b6976662-6768-4694-d5af-3598d410da56",
        "colab": {
          "base_uri": "https://localhost:8080/"
        }
      },
      "outputs": [
        {
          "output_type": "execute_result",
          "data": {
            "text/plain": [
              "['B-ORG', 'O', 'B-PER', 'I-PER', 'B-LOC', 'I-ORG', 'I-LOC']"
            ]
          },
          "metadata": {},
          "execution_count": 13
        }
      ],
      "source": [
        "labels"
      ]
    },
    {
      "cell_type": "code",
      "execution_count": 14,
      "id": "hidden-camera",
      "metadata": {
        "id": "hidden-camera"
      },
      "outputs": [],
      "source": [
        "#remove the label 'O' from your list\n",
        "labels.remove('O')"
      ]
    },
    {
      "cell_type": "code",
      "source": [
        "labels"
      ],
      "metadata": {
        "colab": {
          "base_uri": "https://localhost:8080/"
        },
        "id": "RFkoyCghio9I",
        "outputId": "ea5a6dba-0a31-444f-b275-83bdc64fe913"
      },
      "id": "RFkoyCghio9I",
      "execution_count": 15,
      "outputs": [
        {
          "output_type": "execute_result",
          "data": {
            "text/plain": [
              "['B-ORG', 'B-PER', 'I-PER', 'B-LOC', 'I-ORG', 'I-LOC']"
            ]
          },
          "metadata": {},
          "execution_count": 15
        }
      ]
    },
    {
      "cell_type": "code",
      "execution_count": 34,
      "id": "familiar-bridge",
      "metadata": {
        "id": "familiar-bridge",
        "outputId": "028caf4b-afd2-4569-d5ea-67f370404255",
        "colab": {
          "base_uri": "https://localhost:8080/"
        }
      },
      "outputs": [
        {
          "output_type": "execute_result",
          "data": {
            "text/plain": [
              "0.7201260473598221"
            ]
          },
          "metadata": {},
          "execution_count": 34
        }
      ],
      "source": [
        "#perfrom a prediction on your test set\n",
        "y_pred = crf.predict(X_test)\n",
        "\n",
        "metrics.flat_f1_score(y_test, y_pred,\n",
        "                      average='weighted', labels=labels)"
      ]
    },
    {
      "cell_type": "code",
      "execution_count": 35,
      "id": "central-privacy",
      "metadata": {
        "id": "central-privacy",
        "colab": {
          "base_uri": "https://localhost:8080/"
        },
        "outputId": "8b38da5e-a59a-4aa6-ffec-e8929ca0eb5e"
      },
      "outputs": [
        {
          "output_type": "execute_result",
          "data": {
            "text/plain": [
              "['B-LOC', 'I-LOC', 'B-ORG', 'I-ORG', 'B-PER', 'I-PER']"
            ]
          },
          "metadata": {},
          "execution_count": 35
        }
      ],
      "source": [
        "# group B and I results, use the sorted function on the list labels with a lambda function as the key\n",
        "sorted_labels = sorted(labels, key=lambda name: (name[1:], name[0]))\n",
        "sorted_labels"
      ]
    },
    {
      "cell_type": "code",
      "execution_count": null,
      "id": "opened-death",
      "metadata": {
        "id": "opened-death"
      },
      "outputs": [],
      "source": [
        "#DOES NOT WORK\n",
        "print(metrics.flat_classification_report(\n",
        "    y_test, y_pred, labels=sorted_labels, digits=3\n",
        "))"
      ]
    },
    {
      "cell_type": "code",
      "execution_count": 33,
      "id": "protected-bracket",
      "metadata": {
        "id": "protected-bracket",
        "outputId": "253eb011-280c-4871-e947-e87e349e955a",
        "colab": {
          "base_uri": "https://localhost:8080/"
        }
      },
      "outputs": [
        {
          "output_type": "execute_result",
          "data": {
            "text/plain": [
              "49"
            ]
          },
          "metadata": {},
          "execution_count": 33
        }
      ],
      "source": [
        "# what is the number of transition features in our model, crfs have an attribute called transition_features_\n",
        "len(crf.transition_features_)"
      ]
    },
    {
      "cell_type": "code",
      "execution_count": 38,
      "id": "together-evening",
      "metadata": {
        "id": "together-evening",
        "outputId": "1226094e-88a0-41d9-c277-530f03aeff4f",
        "colab": {
          "base_uri": "https://localhost:8080/"
        }
      },
      "outputs": [
        {
          "output_type": "stream",
          "name": "stdout",
          "text": [
            "Top likely transitions:\n",
            "B-PER  -> I-PER   5.552948\n",
            "B-ORG  -> I-ORG   5.287075\n",
            "I-ORG  -> I-ORG   5.083802\n",
            "B-LOC  -> I-LOC   4.658365\n",
            "I-LOC  -> I-LOC   4.143020\n",
            "I-PER  -> I-PER   2.641588\n",
            "O      -> B-PER   1.659222\n",
            "O      -> B-LOC   1.033480\n",
            "O      -> O       0.911247\n",
            "I-ORG  -> O       0.576871\n",
            "B-ORG  -> O       0.569215\n",
            "O      -> B-ORG   0.458256\n",
            "B-LOC  -> O       0.425135\n",
            "I-PER  -> O       0.304995\n",
            "B-PER  -> O       0.282101\n",
            "I-LOC  -> O       -0.128107\n",
            "I-ORG  -> I-LOC   -0.351794\n",
            "B-ORG  -> B-ORG   -0.493818\n",
            "I-LOC  -> B-LOC   -0.512541\n",
            "I-PER  -> I-LOC   -0.557391\n",
            "\n",
            "Top unlikely transitions:\n",
            "I-PER  -> I-ORG   -1.169497\n",
            "I-LOC  -> B-ORG   -1.194337\n",
            "I-ORG  -> B-LOC   -1.200116\n",
            "B-PER  -> I-ORG   -1.200640\n",
            "I-ORG  -> B-PER   -1.280830\n",
            "I-LOC  -> B-PER   -1.323725\n",
            "B-ORG  -> I-PER   -1.364609\n",
            "B-LOC  -> I-PER   -1.465976\n",
            "I-PER  -> B-LOC   -1.526602\n",
            "B-ORG  -> B-LOC   -1.562089\n",
            "B-LOC  -> I-ORG   -1.736941\n",
            "B-PER  -> B-ORG   -1.810994\n",
            "I-PER  -> B-PER   -2.073647\n",
            "B-ORG  -> B-PER   -2.111594\n",
            "I-PER  -> B-ORG   -2.118206\n",
            "B-LOC  -> B-PER   -2.239514\n",
            "B-PER  -> B-PER   -2.358461\n",
            "O      -> I-PER   -2.843390\n",
            "O      -> I-LOC   -3.638277\n",
            "O      -> I-ORG   -4.193178\n"
          ]
        }
      ],
      "source": [
        "from collections import Counter\n",
        "\n",
        "def print_transitions(trans_features):\n",
        "    for (label_from, label_to), weight in trans_features:\n",
        "        print(\"%-6s -> %-7s %0.6f\" % (label_from, label_to, weight))\n",
        "\n",
        "print(\"Top likely transitions:\")\n",
        "print_transitions(Counter(crf.transition_features_).most_common(20))\n",
        "\n",
        "#list the top 20 unlikely transitions\n",
        "print(\"\\nTop unlikely transitions:\")\n",
        "print_transitions( Counter(crf.transition_features_).most_common()[-20:] )\n"
      ]
    },
    {
      "cell_type": "code",
      "execution_count": 36,
      "id": "retained-calcium",
      "metadata": {
        "id": "retained-calcium",
        "outputId": "d8ebba43-100e-4a8d-83a4-35bb724914e0",
        "colab": {
          "base_uri": "https://localhost:8080/"
        }
      },
      "outputs": [
        {
          "output_type": "execute_result",
          "data": {
            "text/plain": [
              "6188"
            ]
          },
          "metadata": {},
          "execution_count": 36
        }
      ],
      "source": [
        "# what is the number of transition features in our model, crfs have an attribute called state_features_\n",
        "len(crf.state_features_)"
      ]
    },
    {
      "cell_type": "code",
      "execution_count": null,
      "id": "offshore-mitchell",
      "metadata": {
        "id": "offshore-mitchell"
      },
      "outputs": [],
      "source": [
        "from itertools import islice\n",
        "\n",
        "def take(n, iterable):\n",
        "    \"Return first n items of the iterable as a list\"\n",
        "    return list(islice(iterable, n))\n",
        "\n",
        "\n",
        "def print_state_features(state_features):\n",
        "    for (attr, label), weight in state_features:\n",
        "        print(\"%0.6f %-8s %s\" % (weight, label, attr))\n",
        "\n",
        "sorted_state_features_ = dict(sorted(crf.state_features_.items(), key=lambda item: item[1]))\n",
        "\n",
        "#list the top 30 positive\n",
        "print(\"Top positive:\")\n",
        "\n",
        "x = sorted_state_features_.items() #list(sorted_state_features_)[-30:]\n",
        "print_state_features(list(x)[-30:])\n",
        "#list the top 30 negative\n",
        "print(\"\\nTop negative:\")\n",
        "\n",
        "print_state_features(take(30, sorted_state_features_.items()))"
      ]
    }
  ],
  "metadata": {
    "kernelspec": {
      "display_name": "Python 3",
      "language": "python",
      "name": "python3"
    },
    "language_info": {
      "codemirror_mode": {
        "name": "ipython",
        "version": 3
      },
      "file_extension": ".py",
      "mimetype": "text/x-python",
      "name": "python",
      "nbconvert_exporter": "python",
      "pygments_lexer": "ipython3",
      "version": "3.7.9"
    },
    "colab": {
      "name": "04-Conditional Random Fields_Ufuk_Cem_Birbiri.ipynb",
      "provenance": [],
      "collapsed_sections": []
    }
  },
  "nbformat": 4,
  "nbformat_minor": 5
}