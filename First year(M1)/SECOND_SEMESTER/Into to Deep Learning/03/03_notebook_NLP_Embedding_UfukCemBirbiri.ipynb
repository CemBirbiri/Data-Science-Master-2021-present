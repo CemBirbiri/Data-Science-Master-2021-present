{
  "cells": [
    {
      "cell_type": "markdown",
      "metadata": {
        "id": "7Zc0WsSkoWK0"
      },
      "source": [
        "# Your favorite word embedding\n",
        "\n",
        "<font color='red'>\n",
        "    <br>\n",
        "Put in the cells below your favorite \"vectorized word embedding\" and submit your notebook in the lms (word embedding section before midnight Thursday the 3rd).\n",
        "</font>"
      ]
    },
    {
      "cell_type": "code",
      "execution_count": 419,
      "metadata": {
        "ExecuteTime": {
          "end_time": "2022-01-31T09:00:33.170371Z",
          "start_time": "2022-01-31T09:00:33.158926Z"
        },
        "colab": {
          "base_uri": "https://localhost:8080/",
          "height": 17
        },
        "id": "071GOBr0wWcF",
        "outputId": "cc10d917-3649-4adc-9872-acbc8d093181"
      },
      "outputs": [
        {
          "output_type": "execute_result",
          "data": {
            "text/html": [
              "<div id=\"my_id_menu_nb\">run previous cell, wait for 2 seconds</div>\n",
              "<script>\n",
              "function repeat_indent_string(n){\n",
              "    var a = \"\" ;\n",
              "    for ( ; n > 0 ; --n)\n",
              "        a += \"    \";\n",
              "    return a;\n",
              "}\n",
              "// look up into all sections and builds an automated menu //\n",
              "var update_menu_string = function(begin, lfirst, llast, sformat, send, keep_item, begin_format, end_format) {\n",
              "    var anchors = document.getElementsByClassName(\"section\");\n",
              "    if (anchors.length == 0) {\n",
              "        anchors = document.getElementsByClassName(\"text_cell_render rendered_html\");\n",
              "    }\n",
              "    var i,t;\n",
              "    var text_menu = begin;\n",
              "    var text_memo = \"<pre>\\nlength:\" + anchors.length + \"\\n\";\n",
              "    var ind = \"\";\n",
              "    var memo_level = 1;\n",
              "    var href;\n",
              "    var tags = [];\n",
              "    var main_item = 0;\n",
              "    var format_open = 0;\n",
              "    for (i = 0; i <= llast; i++)\n",
              "        tags.push(\"h\" + i);\n",
              "\n",
              "    for (i = 0; i < anchors.length; i++) {\n",
              "        text_memo += \"**\" + anchors[i].id + \"--\\n\";\n",
              "\n",
              "        var child = null;\n",
              "        for(t = 0; t < tags.length; t++) {\n",
              "            var r = anchors[i].getElementsByTagName(tags[t]);\n",
              "            if (r.length > 0) {\n",
              "child = r[0];\n",
              "break;\n",
              "            }\n",
              "        }\n",
              "        if (child == null) {\n",
              "            text_memo += \"null\\n\";\n",
              "            continue;\n",
              "        }\n",
              "        if (anchors[i].hasAttribute(\"id\")) {\n",
              "            // when converted in RST\n",
              "            href = anchors[i].id;\n",
              "            text_memo += \"#1-\" + href;\n",
              "            // passer à child suivant (le chercher)\n",
              "        }\n",
              "        else if (child.hasAttribute(\"id\")) {\n",
              "            // in a notebook\n",
              "            href = child.id;\n",
              "            text_memo += \"#2-\" + href;\n",
              "        }\n",
              "        else {\n",
              "            text_memo += \"#3-\" + \"*\" + \"\\n\";\n",
              "            continue;\n",
              "        }\n",
              "        var title = child.textContent;\n",
              "        var level = parseInt(child.tagName.substring(1,2));\n",
              "\n",
              "        text_memo += \"--\" + level + \"?\" + lfirst + \"--\" + title + \"\\n\";\n",
              "\n",
              "        if ((level < lfirst) || (level > llast)) {\n",
              "            continue ;\n",
              "        }\n",
              "        if (title.endsWith('¶')) {\n",
              "            title = title.substring(0,title.length-1).replace(\"<\", \"&lt;\")\n",
              "         .replace(\">\", \"&gt;\").replace(\"&\", \"&amp;\");\n",
              "        }\n",
              "        if (title.length == 0) {\n",
              "            continue;\n",
              "        }\n",
              "\n",
              "        while (level < memo_level) {\n",
              "            text_menu += end_format + \"</ul>\\n\";\n",
              "            format_open -= 1;\n",
              "            memo_level -= 1;\n",
              "        }\n",
              "        if (level == lfirst) {\n",
              "            main_item += 1;\n",
              "        }\n",
              "        if (keep_item != -1 && main_item != keep_item + 1) {\n",
              "            // alert(main_item + \" - \" + level + \" - \" + keep_item);\n",
              "            continue;\n",
              "        }\n",
              "        while (level > memo_level) {\n",
              "            text_menu += \"<ul>\\n\";\n",
              "            memo_level += 1;\n",
              "        }\n",
              "        text_menu += repeat_indent_string(level-2);\n",
              "        text_menu += begin_format + sformat.replace(\"__HREF__\", href).replace(\"__TITLE__\", title);\n",
              "        format_open += 1;\n",
              "    }\n",
              "    while (1 < memo_level) {\n",
              "        text_menu += end_format + \"</ul>\\n\";\n",
              "        memo_level -= 1;\n",
              "        format_open -= 1;\n",
              "    }\n",
              "    text_menu += send;\n",
              "    //text_menu += \"\\n\" + text_memo;\n",
              "\n",
              "    while (format_open > 0) {\n",
              "        text_menu += end_format;\n",
              "        format_open -= 1;\n",
              "    }\n",
              "    return text_menu;\n",
              "};\n",
              "var update_menu = function() {\n",
              "    var sbegin = \"\";\n",
              "    var sformat = '<a href=\"#__HREF__\">__TITLE__</a>';\n",
              "    var send = \"\";\n",
              "    var begin_format = '<li>';\n",
              "    var end_format = '</li>';\n",
              "    var keep_item = -1;\n",
              "    var text_menu = update_menu_string(sbegin, 2, 4, sformat, send, keep_item,\n",
              "       begin_format, end_format);\n",
              "    var menu = document.getElementById(\"my_id_menu_nb\");\n",
              "    menu.innerHTML=text_menu;\n",
              "};\n",
              "window.setTimeout(update_menu,2000);\n",
              "            </script>"
            ],
            "text/plain": [
              "<IPython.core.display.HTML object>"
            ]
          },
          "metadata": {},
          "execution_count": 419
        }
      ],
      "source": [
        "\"\"\"\n",
        "(Practical tip) Table of contents can be compiled directly in jupyter notebooks using the following code:\n",
        "I set an exception: if the package is in your installation you can import it otherwise you download it \n",
        "then import it.\n",
        "\"\"\"\n",
        "try:\n",
        "    from jyquickhelper import add_notebook_menu \n",
        "except:\n",
        "    !pip install jyquickhelper\n",
        "    from jyquickhelper import add_notebook_menu\n",
        "    \n",
        "\"\"\"\n",
        "Output Table of contents to navigate easily in the notebook. \n",
        "For interested readers, the package also includes Ipython magic commands to go back to this cell\n",
        "wherever you are in the notebook to look for cells faster\n",
        "\"\"\"\n",
        "add_notebook_menu()"
      ]
    },
    {
      "cell_type": "markdown",
      "metadata": {
        "id": "lLrXoRQ5oUqI"
      },
      "source": [
        "## Imports"
      ]
    },
    {
      "cell_type": "code",
      "execution_count": 420,
      "metadata": {
        "ExecuteTime": {
          "end_time": "2022-01-31T09:00:33.236963Z",
          "start_time": "2022-01-31T09:00:33.235208Z"
        },
        "id": "kSI--GbQwWcI"
      },
      "outputs": [],
      "source": [
        "import ssl\n",
        "\n",
        "ssl._create_default_https_context = ssl._create_unverified_context"
      ]
    },
    {
      "cell_type": "markdown",
      "source": [
        "Some imports:"
      ],
      "metadata": {
        "id": "zQbDKvqhnh3Q"
      }
    },
    {
      "cell_type": "code",
      "execution_count": 421,
      "metadata": {
        "ExecuteTime": {
          "end_time": "2022-01-31T09:00:41.721923Z",
          "start_time": "2022-01-31T09:00:33.423016Z"
        },
        "colab": {
          "base_uri": "https://localhost:8080/"
        },
        "id": "S7NP5j9WwWcJ",
        "outputId": "5b2e3c46-350c-498e-9a94-f76afb0c9c7e"
      },
      "outputs": [
        {
          "output_type": "stream",
          "name": "stdout",
          "text": [
            "Requirement already satisfied: tensorflow-addons in /usr/local/lib/python3.7/dist-packages (0.15.0)\n",
            "Requirement already satisfied: typeguard>=2.7 in /usr/local/lib/python3.7/dist-packages (from tensorflow-addons) (2.7.1)\n"
          ]
        }
      ],
      "source": [
        "import os\n",
        "import pandas as pd\n",
        "import numpy as np\n",
        "import tensorflow as tf\n",
        "\n",
        "\n",
        "\n",
        "!pip install tensorflow-addons\n",
        "\n",
        "import tensorflow_addons as tfa\n",
        "\n",
        "from keras.layers import Dense, Embedding, Flatten, Input, TextVectorization\n",
        "from sklearn.feature_extraction.text import CountVectorizer, TfidfVectorizer\n",
        "from sklearn.metrics import f1_score\n",
        "from sklearn.preprocessing import OneHotEncoder\n",
        "from tensorflow.keras.callbacks import EarlyStopping\n",
        "from tensorflow.keras.layers import Dropout\n",
        "from tensorflow.keras.models import Model, Sequential\n",
        "from tensorflow.keras.preprocessing.sequence import pad_sequences\n",
        "from tensorflow.keras.preprocessing.text import Tokenizer, one_hot\n",
        "from tensorflow_addons.metrics import F1Score"
      ]
    },
    {
      "cell_type": "code",
      "execution_count": 422,
      "metadata": {
        "ExecuteTime": {
          "end_time": "2022-01-31T09:00:45.210765Z",
          "start_time": "2022-01-31T09:00:41.724114Z"
        },
        "colab": {
          "base_uri": "https://localhost:8080/"
        },
        "id": "eZkU10wfwWcK",
        "outputId": "4cf7b138-7fa9-4204-afde-e163d7805623"
      },
      "outputs": [
        {
          "output_type": "stream",
          "name": "stdout",
          "text": [
            "Requirement already satisfied: gensim in /usr/local/lib/python3.7/dist-packages (3.6.0)\n",
            "Requirement already satisfied: scipy>=0.18.1 in /usr/local/lib/python3.7/dist-packages (from gensim) (1.4.1)\n",
            "Requirement already satisfied: numpy>=1.11.3 in /usr/local/lib/python3.7/dist-packages (from gensim) (1.19.5)\n",
            "Requirement already satisfied: smart-open>=1.2.1 in /usr/local/lib/python3.7/dist-packages (from gensim) (5.2.1)\n",
            "Requirement already satisfied: six>=1.5.0 in /usr/local/lib/python3.7/dist-packages (from gensim) (1.15.0)\n"
          ]
        }
      ],
      "source": [
        "!pip install gensim\n",
        "from gensim.test.utils import datapath\n",
        "from gensim import utils\n",
        "import gensim.models"
      ]
    },
    {
      "cell_type": "markdown",
      "metadata": {
        "id": "R0MTwjQbwWcK"
      },
      "source": [
        "## Dataset"
      ]
    },
    {
      "cell_type": "code",
      "execution_count": 423,
      "metadata": {
        "ExecuteTime": {
          "end_time": "2022-01-31T09:00:45.829326Z",
          "start_time": "2022-01-31T09:00:45.214136Z"
        },
        "id": "gIXGN8IzoUqJ"
      },
      "outputs": [],
      "source": [
        "TRAIN = pd.read_csv(\"http://www.i3s.unice.fr/~riveill/dataset/Amazon_Unlocked_Mobile/train.csv.gz\")\n",
        "VAL = pd.read_csv(\"http://www.i3s.unice.fr/~riveill/dataset/Amazon_Unlocked_Mobile/val.csv.gz\")\n",
        "TEST = pd.read_csv(\"http://www.i3s.unice.fr/~riveill/dataset/Amazon_Unlocked_Mobile/test.csv.gz\")"
      ]
    },
    {
      "cell_type": "code",
      "execution_count": 424,
      "metadata": {
        "ExecuteTime": {
          "end_time": "2022-01-31T09:00:45.848611Z",
          "start_time": "2022-01-31T09:00:45.831781Z"
        },
        "colab": {
          "base_uri": "https://localhost:8080/"
        },
        "id": "WdeAXW40oUqJ",
        "outputId": "c951a153-6a47-40ee-beda-fe69af802e9a"
      },
      "outputs": [
        {
          "output_type": "execute_result",
          "data": {
            "text/plain": [
              "((5000,), (5000, 5), (1000, 5), (1000, 5))"
            ]
          },
          "metadata": {},
          "execution_count": 424
        }
      ],
      "source": [
        "''' Construct X_train and y_train '''\n",
        "X_train = TRAIN['Reviews'].fillna(\"\")\n",
        "y_train = np.array(TRAIN['Rating']).reshape(-1,1)\n",
        "\n",
        "X_val = VAL['Reviews'].fillna(\"\")\n",
        "y_val = np.array(VAL['Rating']).reshape(-1,1)\n",
        "\n",
        "X_test = TEST['Reviews'].fillna(\"\")\n",
        "y_test = np.array(TEST['Rating']).reshape(-1,1)\n",
        "\n",
        "\n",
        "ohe = OneHotEncoder(sparse=False, handle_unknown='ignore')\n",
        "y_train_enc = ohe.fit_transform(y_train)\n",
        "y_val_enc = ohe.fit_transform(y_val)\n",
        "y_test_enc = ohe.fit_transform(y_test)\n",
        "\n",
        "X_train.shape, y_train_enc.shape, y_val_enc.shape, y_test_enc.shape"
      ]
    },
    {
      "cell_type": "markdown",
      "metadata": {
        "id": "N4BohkzOoUqO"
      },
      "source": [
        "## Word embedding and MLP classifier"
      ]
    },
    {
      "cell_type": "markdown",
      "source": [
        "First we need to convert data to numpy array:\n"
      ],
      "metadata": {
        "id": "FWy_8DOgnkm8"
      }
    },
    {
      "cell_type": "code",
      "source": [
        "\n",
        "#Convert train and test sets to numpy arrays:\n",
        "X_train = np.asarray(X_train)\n",
        "y_train_enc = np.asarray(y_train_enc)\n",
        "\n",
        "X_val = np.asarray(X_val)\n",
        "y_val_enc = np.asarray(y_val_enc)\n",
        "\n"
      ],
      "metadata": {
        "id": "4BR3Ib3s8cuB"
      },
      "execution_count": 425,
      "outputs": []
    },
    {
      "cell_type": "markdown",
      "metadata": {
        "id": "ChQb7iLBwWcM"
      },
      "source": [
        "### Constant definition\n",
        "\n",
        "\n",
        "<font color='red'>\n",
        "Use these constant names, you can of course change the value.\n",
        "</font>"
      ]
    },
    {
      "cell_type": "code",
      "execution_count": 426,
      "metadata": {
        "ExecuteTime": {
          "end_time": "2022-01-31T09:00:45.855322Z",
          "start_time": "2022-01-31T09:00:45.851592Z"
        },
        "id": "d-zHaMWVwWcM"
      },
      "outputs": [],
      "source": [
        "vocab_size = 500 # Vocab size\n",
        "max_len = 100   # Sequence length to pad the outputs to.\n",
        "embed_dim = 200 # embedding dimension\n",
        "dense_dim = 128 # dense dimension\n",
        "dropout_rate = 0.2 # Dropout rate\n",
        "nb_classes = len(np.unique(y_train))"
      ]
    },
    {
      "cell_type": "markdown",
      "metadata": {
        "id": "urYx66C2wWcN"
      },
      "source": [
        "### Define Embedding Layer"
      ]
    },
    {
      "cell_type": "markdown",
      "metadata": {
        "id": "9UE-21kKwWcN"
      },
      "source": [
        "<font color='red'>\n",
        "$TO DO - Students$\n",
        "\n",
        "* Define your embedding matrix or your vectorizer layer\n",
        "    * --> if you choose Keras embedding -- vectorizer layr\n",
        "    * --> if you choose Word2Vec, Glove or FastTex -- embedding matrix\n",
        "    * --> if you choose gensim -- build you gensim model and then the embedding matrix\n",
        "</font>"
      ]
    },
    {
      "cell_type": "markdown",
      "source": [
        "Let's implement TextVectorization before the kreas Word-Embedding layer:"
      ],
      "metadata": {
        "id": "pnzrpwzhnxS8"
      }
    },
    {
      "cell_type": "code",
      "execution_count": 427,
      "metadata": {
        "ExecuteTime": {
          "end_time": "2022-01-31T09:00:46.173577Z",
          "start_time": "2022-01-31T09:00:45.859365Z"
        },
        "id": "jutsLJ8owWcO"
      },
      "outputs": [],
      "source": [
        "\"\"\" FILL \"\"\"\n",
        "\n",
        "\n",
        "from tensorflow.keras.layers.experimental.preprocessing import TextVectorization\n",
        "import re\n",
        "import string\n",
        "\n",
        "\n",
        "# Create the layer.\n",
        "vectorize_layer = TextVectorization(max_tokens=vocab_size,\n",
        "                                    output_mode='int',\n",
        "                                    output_sequence_length=max_len)"
      ]
    },
    {
      "cell_type": "markdown",
      "source": [
        "Fit the vectorizer layer with adapt function:"
      ],
      "metadata": {
        "id": "v655xrRnn5Eu"
      }
    },
    {
      "cell_type": "code",
      "source": [
        "vectorize_layer.adapt(X_train)"
      ],
      "metadata": {
        "id": "q7NypJt7xguN"
      },
      "execution_count": 428,
      "outputs": []
    },
    {
      "cell_type": "markdown",
      "source": [
        "See the vectorized X_train:"
      ],
      "metadata": {
        "id": "oEucZNman_YV"
      }
    },
    {
      "cell_type": "code",
      "source": [
        "vectorize_layer(X_train)"
      ],
      "metadata": {
        "colab": {
          "base_uri": "https://localhost:8080/"
        },
        "id": "faMnXf60xy9h",
        "outputId": "8d9fc757-485d-4abe-a75e-3232fed72f15"
      },
      "execution_count": 429,
      "outputs": [
        {
          "output_type": "execute_result",
          "data": {
            "text/plain": [
              "<tf.Tensor: shape=(5000, 100), dtype=int64, numpy=\n",
              "array([[  3,  52,   4, ...,   0,   0,   0],\n",
              "       [  3,  52,   2, ...,  35, 252,   1],\n",
              "       [ 23,   6,   0, ...,   0,   0,   0],\n",
              "       ...,\n",
              "       [  6,  50,  73, ...,   0,   0,   0],\n",
              "       [ 23,   7,   0, ...,   0,   0,   0],\n",
              "       [ 10,   9,   7, ...,   0,   0,   0]])>"
            ]
          },
          "metadata": {},
          "execution_count": 429
        }
      ]
    },
    {
      "cell_type": "markdown",
      "metadata": {
        "id": "MHBqLvSmwWcO"
      },
      "source": [
        "### Build, fit and evaluate the network"
      ]
    },
    {
      "cell_type": "markdown",
      "metadata": {
        "id": "qjHiWFI6wWcP"
      },
      "source": [
        "<font color='red'>\n",
        "$TO DO - Students$\n",
        "\n",
        "Using your previous layer build a very simple MLP with:\n",
        "* one hidden layer Dense + Dropout cells\n",
        "    \n",
        "print the summary of your model\n",
        "</font>"
      ]
    },
    {
      "cell_type": "markdown",
      "source": [
        "We define the model below. There are two Dense layers to capture the textual infroamtion in data. The drop-out rate is chosen 0.2 (I tested 0.5 also but 0.2 got best result). The last activation function is sigmoid."
      ],
      "metadata": {
        "id": "aBRiXcstoENr"
      }
    },
    {
      "cell_type": "code",
      "execution_count": 430,
      "metadata": {
        "ExecuteTime": {
          "end_time": "2022-01-31T09:01:29.345720Z",
          "start_time": "2022-01-31T09:01:29.277101Z"
        },
        "colab": {
          "base_uri": "https://localhost:8080/"
        },
        "id": "B4BPv2OGoUqO",
        "outputId": "46cb564a-edd0-4611-c75e-2231b3de2b8c"
      },
      "outputs": [
        {
          "output_type": "stream",
          "name": "stdout",
          "text": [
            "Model: \"sequential_12\"\n",
            "_________________________________________________________________\n",
            " Layer (type)                Output Shape              Param #   \n",
            "=================================================================\n",
            " text_vectorization_19 (Text  (None, 100)              0         \n",
            " Vectorization)                                                  \n",
            "                                                                 \n",
            " embedding_12 (Embedding)    (None, 100, 256)          128000    \n",
            "                                                                 \n",
            " flatten_31 (Flatten)        (None, 25600)             0         \n",
            "                                                                 \n",
            " dense_42 (Dense)            (None, 128)               3276928   \n",
            "                                                                 \n",
            " dropout_19 (Dropout)        (None, 128)               0         \n",
            "                                                                 \n",
            " dense_43 (Dense)            (None, 5)                 645       \n",
            "                                                                 \n",
            "=================================================================\n",
            "Total params: 3,405,573\n",
            "Trainable params: 3,405,573\n",
            "Non-trainable params: 0\n",
            "_________________________________________________________________\n"
          ]
        }
      ],
      "source": [
        "# define the model\n",
        "\"\"\" FILL \"\"\"\n",
        "\n",
        "\n",
        "model = Sequential()\n",
        "model.add(Input(shape=(1,), dtype=tf.string))\n",
        "model.add(vectorize_layer)\n",
        "model.add(Embedding(input_dim=vocab_size, output_dim=256))\n",
        "model.add(Flatten())\n",
        "model.add(Dense(units=128, activation=\"relu\"))\n",
        "model.add(Dropout(0.2))\n",
        "model.add(Dense(units=5, activation=\"sigmoid\"))\n",
        "model.build()\n",
        "\n",
        "# summarize the model\n",
        "model.summary()\n",
        "\n"
      ]
    },
    {
      "cell_type": "markdown",
      "metadata": {
        "id": "4VHyQWlXwWcQ"
      },
      "source": [
        "<font color='Blue'>\n",
        "* Compile the model with F1 score.\n",
        "</font>"
      ]
    },
    {
      "cell_type": "markdown",
      "source": [
        "Here the loss function is \"categorical crossentropy\". I tried binary cross entropy loss but it gave worse f1 score."
      ],
      "metadata": {
        "id": "Ws-_dwUXqqUx"
      }
    },
    {
      "cell_type": "code",
      "execution_count": 431,
      "metadata": {
        "ExecuteTime": {
          "end_time": "2022-01-31T09:01:31.099734Z",
          "start_time": "2022-01-31T09:01:31.086827Z"
        },
        "id": "C7oN2bZkoUqP"
      },
      "outputs": [],
      "source": [
        "# compile the model\n",
        "\n",
        "f1 = F1Score(num_classes=nb_classes, average=\"weighted\", threshold=0.5)\n",
        "\n",
        "model.compile(optimizer='adam', loss='categorical_crossentropy' ,metrics=[f1])"
      ]
    },
    {
      "cell_type": "markdown",
      "source": [
        "The following two cells are created in order to see the dimensions of the train and test data, and also to see their types:"
      ],
      "metadata": {
        "id": "fyUyOGh7q3nh"
      }
    },
    {
      "cell_type": "code",
      "source": [
        "y_train_enc.shape, y_val_enc.shape, X_train.shape, X_val.shape"
      ],
      "metadata": {
        "colab": {
          "base_uri": "https://localhost:8080/"
        },
        "id": "0pS1H88M77aB",
        "outputId": "127889f1-f3b9-4cf7-cef7-10d793c2243d"
      },
      "execution_count": 432,
      "outputs": [
        {
          "output_type": "execute_result",
          "data": {
            "text/plain": [
              "((5000, 5), (1000, 5), (5000,), (1000,))"
            ]
          },
          "metadata": {},
          "execution_count": 432
        }
      ]
    },
    {
      "cell_type": "code",
      "source": [
        "type(y_train_enc), type(y_val_enc), type(X_train), type(X_val)"
      ],
      "metadata": {
        "colab": {
          "base_uri": "https://localhost:8080/"
        },
        "id": "H8TiWhM4-zMF",
        "outputId": "4a4abd87-4b57-4229-ee92-3da2b7fd8ad8"
      },
      "execution_count": 433,
      "outputs": [
        {
          "output_type": "execute_result",
          "data": {
            "text/plain": [
              "(numpy.ndarray, numpy.ndarray, numpy.ndarray, numpy.ndarray)"
            ]
          },
          "metadata": {},
          "execution_count": 433
        }
      ]
    },
    {
      "cell_type": "markdown",
      "metadata": {
        "id": "MlNpjlDewWcQ"
      },
      "source": [
        "<font color='blue'>\n",
        "* Fit the modele using early stopping on f1_score\n",
        "</font>"
      ]
    },
    {
      "cell_type": "markdown",
      "source": [
        "Fit the model. I tried patience=10 but gave me worse result."
      ],
      "metadata": {
        "id": "3JsgU6xLrCja"
      }
    },
    {
      "cell_type": "code",
      "execution_count": 434,
      "metadata": {
        "ExecuteTime": {
          "start_time": "2022-01-31T09:01:31.432Z"
        },
        "colab": {
          "base_uri": "https://localhost:8080/"
        },
        "id": "ZJjc2ISZoUqP",
        "outputId": "78baf283-edc8-4c38-dae7-548347f898df"
      },
      "outputs": [
        {
          "output_type": "stream",
          "name": "stdout",
          "text": [
            "Epoch 1/4000\n",
            "157/157 [==============================] - 10s 61ms/step - loss: 1.1523 - f1_score: 0.5053 - val_loss: 0.9359 - val_f1_score: 0.6080\n",
            "Epoch 2/4000\n",
            "157/157 [==============================] - 9s 57ms/step - loss: 0.7741 - f1_score: 0.6437 - val_loss: 0.9100 - val_f1_score: 0.6317\n",
            "Epoch 3/4000\n",
            "157/157 [==============================] - 10s 63ms/step - loss: 0.4905 - f1_score: 0.6932 - val_loss: 1.0417 - val_f1_score: 0.6283\n",
            "Epoch 4/4000\n",
            "157/157 [==============================] - 9s 60ms/step - loss: 0.3243 - f1_score: 0.7353 - val_loss: 1.1069 - val_f1_score: 0.6361\n",
            "Epoch 5/4000\n",
            "157/157 [==============================] - 8s 52ms/step - loss: 0.2297 - f1_score: 0.7608 - val_loss: 1.2631 - val_f1_score: 0.6341\n",
            "Epoch 6/4000\n",
            "157/157 [==============================] - 9s 57ms/step - loss: 0.1740 - f1_score: 0.7819 - val_loss: 1.4290 - val_f1_score: 0.6229\n",
            "Epoch 7/4000\n",
            "157/157 [==============================] - 5s 34ms/step - loss: 0.1503 - f1_score: 0.7916 - val_loss: 1.5185 - val_f1_score: 0.6280\n",
            "Epoch 8/4000\n",
            "157/157 [==============================] - 5s 34ms/step - loss: 0.1375 - f1_score: 0.7963 - val_loss: 1.6357 - val_f1_score: 0.6231\n",
            "Epoch 9/4000\n",
            "157/157 [==============================] - ETA: 0s - loss: 0.1238 - f1_score: 0.8029Restoring model weights from the end of the best epoch: 4.\n",
            "157/157 [==============================] - 5s 34ms/step - loss: 0.1238 - f1_score: 0.8029 - val_loss: 1.7457 - val_f1_score: 0.6231\n",
            "Epoch 00009: early stopping\n"
          ]
        }
      ],
      "source": [
        "# fit model using early stopping\n",
        "es = tf.keras.callbacks.EarlyStopping(monitor='val_f1_score', mode='max', patience=5, restore_best_weights=True, verbose=1)\n",
        "history = model.fit(X_train, y_train_enc,\n",
        "                    validation_data=[X_val, y_val_enc],\n",
        "                    epochs=4000, callbacks=[es], verbose=1)"
      ]
    },
    {
      "cell_type": "markdown",
      "source": [
        "Plot the F1 score and val loss:"
      ],
      "metadata": {
        "id": "OqycFPGzrJYP"
      }
    },
    {
      "cell_type": "markdown",
      "metadata": {
        "ExecuteTime": {
          "end_time": "2022-01-31T08:58:37.465330Z",
          "start_time": "2022-01-31T08:58:37.461033Z"
        },
        "id": "RI-XL9CmwWcR"
      },
      "source": [
        "<font color='blue'>\n",
        "* Babysit your model\n",
        "</font>"
      ]
    },
    {
      "cell_type": "code",
      "execution_count": 435,
      "metadata": {
        "ExecuteTime": {
          "start_time": "2022-01-31T09:01:33.408Z"
        },
        "colab": {
          "base_uri": "https://localhost:8080/",
          "height": 337
        },
        "id": "1XWqf1QKoUqQ",
        "outputId": "9558eb6e-58f3-4548-f07a-5ae3073dae4a"
      },
      "outputs": [
        {
          "output_type": "execute_result",
          "data": {
            "text/plain": [
              "<matplotlib.axes._subplots.AxesSubplot at 0x7f85a9818850>"
            ]
          },
          "metadata": {},
          "execution_count": 435
        },
        {
          "output_type": "display_data",
          "data": {
            "image/png": "[encoded data removed]",
            "text/plain": [
              "<Figure size 576x360 with 1 Axes>"
            ]
          },
          "metadata": {
            "needs_background": "light"
          }
        }
      ],
      "source": [
        "# Babysit the model\n",
        "pd.DataFrame({'val_loss':history.history['val_loss'],\n",
        "              'loss':history.history['loss'],\n",
        "             'val_f1_score':history.history['val_f1_score'],\n",
        "              'f1_score':history.history['f1_score']}).plot(figsize=(8,5))"
      ]
    },
    {
      "cell_type": "markdown",
      "metadata": {
        "id": "GgpmK35cwWcS"
      },
      "source": [
        "<font color='blue'>\n",
        "* Babysit your model\n",
        "</font>"
      ]
    },
    {
      "cell_type": "markdown",
      "source": [
        "The result depends on the parameter 'average' in F1Score.\n",
        "\n",
        "-  average=\"macro\", F1-Score = in the range [0.40 - 0.42] \n",
        "-  average=\"weighted\", F1-Score = in the range [0.59 - 0.61] \n",
        "\n"
      ],
      "metadata": {
        "id": "553BwJDirMT4"
      }
    },
    {
      "cell_type": "code",
      "execution_count": 436,
      "metadata": {
        "ExecuteTime": {
          "end_time": "2022-01-31T09:01:21.253791Z",
          "start_time": "2022-01-31T09:01:21.064725Z"
        },
        "colab": {
          "base_uri": "https://localhost:8080/"
        },
        "id": "3I9EmdInoUqQ",
        "outputId": "4e054428-769a-46b0-b62b-f8390136c151"
      },
      "outputs": [
        {
          "output_type": "execute_result",
          "data": {
            "text/plain": [
              "0.6107889"
            ]
          },
          "metadata": {},
          "execution_count": 436
        }
      ],
      "source": [
        "# Evaluate the model\n",
        "f1.update_state(y_test_enc, model.predict(X_test))\n",
        "result = f1.result()\n",
        "result.numpy()"
      ]
    },
    {
      "cell_type": "code",
      "execution_count": 436,
      "metadata": {
        "id": "rLpYilKewWcS"
      },
      "outputs": [],
      "source": [
        ""
      ]
    }
  ],
  "metadata": {
    "colab": {
      "collapsed_sections": [],
      "name": "03-notebook-NLP-Embedding-UfukCemBirbiri.ipynb",
      "provenance": []
    },
    "kernelspec": {
      "display_name": "Python 3",
      "language": "python",
      "name": "python3"
    },
    "language_info": {
      "codemirror_mode": {
        "name": "ipython",
        "version": 3
      },
      "file_extension": ".py",
      "mimetype": "text/x-python",
      "name": "python",
      "nbconvert_exporter": "python",
      "pygments_lexer": "ipython3",
      "version": "3.8.8"
    },
    "latex_envs": {
      "LaTeX_envs_menu_present": true,
      "autoclose": true,
      "autocomplete": true,
      "bibliofile": "biblio.bib",
      "cite_by": "apalike",
      "current_citInitial": 1,
      "eqLabelWithNumbers": true,
      "eqNumInitial": 1,
      "hotkeys": {
        "equation": "Ctrl-E",
        "itemize": "Ctrl-I"
      },
      "labels_anchors": false,
      "latex_user_defs": false,
      "report_style_numbering": false,
      "user_envs_cfg": false
    },
    "nbTranslate": {
      "displayLangs": [
        "*"
      ],
      "hotkey": "alt-t",
      "langInMainMenu": true,
      "sourceLang": "en",
      "targetLang": "fr",
      "useGoogleTranslate": true
    },
    "toc": {
      "base_numbering": 1,
      "nav_menu": {},
      "number_sections": true,
      "sideBar": true,
      "skip_h1_title": true,
      "title_cell": "Table of Contents",
      "title_sidebar": "Contents",
      "toc_cell": true,
      "toc_position": {},
      "toc_section_display": true,
      "toc_window_display": false
    }
  },
  "nbformat": 4,
  "nbformat_minor": 0
}