{
 "cells": [
  {
   "cell_type": "markdown",
   "metadata": {},
   "source": [
    "# Perceptron"
   ]
  },
  {
   "cell_type": "markdown",
   "metadata": {
    "toc": true
   },
   "source": [
    "<h1>Table of Contents<span class=\"tocSkip\"></span></h1>\n",
    "<div class=\"toc\"><ul class=\"toc-item\"><li><span><a href=\"#On-revient-au-cours\" data-toc-modified-id=\"On-revient-au-cours-1\"><span class=\"toc-item-num\">1&nbsp;&nbsp;</span>On revient au cours</a></span></li><li><span><a href=\"#Remplacement-de-la-fonction-à-seuil-par-sigmoid\" data-toc-modified-id=\"Remplacement-de-la-fonction-à-seuil-par-sigmoid-2\"><span class=\"toc-item-num\">2&nbsp;&nbsp;</span>Remplacement de la fonction à seuil par sigmoid</a></span></li></ul></div>"
   ]
  },
  {
   "cell_type": "markdown",
   "metadata": {},
   "source": [
    "# Apprentissage de la fonction AND"
   ]
  },
  {
   "cell_type": "code",
   "execution_count": 1,
   "metadata": {
    "ExecuteTime": {
     "end_time": "2022-01-13T08:18:50.222316Z",
     "start_time": "2022-01-13T08:18:50.213159Z"
    }
   },
   "outputs": [],
   "source": [
    "import numpy as np\n",
    "import random\n",
    "import matplotlib.pyplot as plt\n",
    "\n",
    "random.seed(1)"
   ]
  },
  {
   "cell_type": "code",
   "execution_count": 2,
   "metadata": {
    "ExecuteTime": {
     "end_time": "2022-01-13T08:19:07.316264Z",
     "start_time": "2022-01-13T08:19:07.308178Z"
    }
   },
   "outputs": [],
   "source": [
    "# Dataset: AND function\n",
    "X = np.array([[0, 0],[0, 1],[1, 0],[1, 1]])\n",
    "y = [0, 0, 0, 1]"
   ]
  },
  {
   "cell_type": "code",
   "execution_count": 3,
   "metadata": {
    "ExecuteTime": {
     "end_time": "2022-01-13T08:19:11.858604Z",
     "start_time": "2022-01-13T08:19:11.600318Z"
    }
   },
   "outputs": [
    {
     "data": {
      "image/png": "[encoded data removed]",
      "text/plain": [
       "<Figure size 432x288 with 1 Axes>"
      ]
     },
     "metadata": {
      "needs_background": "light"
     },
     "output_type": "display_data"
    }
   ],
   "source": [
    "def plot_dataset(X, y):\n",
    "    X0 = np.array([x for x, y in zip(X, y) if y==0])\n",
    "    X1 =  np.array([x for x, y in zip(X, y) if y==1])\n",
    "    if len(X0)>0: plt.scatter(X0[:,0], X0[:,1], label=\"y=0\")\n",
    "    if len(X1)>0: plt.scatter(X1[:,0], X1[:,1], label=\"y=1\")\n",
    "    plt.xlabel(\"x0\")\n",
    "    plt.ylabel(\"x1\")\n",
    "    plt.legend()\n",
    "\n",
    "plot_dataset(X, y)\n",
    "plt.show()"
   ]
  },
  {
   "cell_type": "code",
   "execution_count": 4,
   "metadata": {
    "ExecuteTime": {
     "end_time": "2022-01-13T08:19:39.661123Z",
     "start_time": "2022-01-13T08:19:39.658357Z"
    }
   },
   "outputs": [],
   "source": [
    "n = 0.1              # Learning rate\n",
    "A = [0.1, 0.2, 0.05] # Initial weigth"
   ]
  },
  {
   "cell_type": "code",
   "execution_count": 5,
   "metadata": {
    "ExecuteTime": {
     "end_time": "2022-01-13T08:20:05.081678Z",
     "start_time": "2022-01-13T08:20:05.078760Z"
    }
   },
   "outputs": [],
   "source": [
    "def predict(X, A):\n",
    "    y_hat = np.dot(A, X)\n",
    "    if y_hat > 0:\n",
    "        y_hat = 1\n",
    "    else:\n",
    "        y_hat = 0\n",
    "    return y_hat"
   ]
  },
  {
   "cell_type": "code",
   "execution_count": 6,
   "metadata": {
    "ExecuteTime": {
     "end_time": "2022-01-13T08:20:11.460470Z",
     "start_time": "2022-01-13T08:20:11.164906Z"
    }
   },
   "outputs": [
    {
     "data": {
      "image/png": "[encoded data removed]",
      "text/plain": [
       "<Figure size 432x288 with 1 Axes>"
      ]
     },
     "metadata": {
      "needs_background": "light"
     },
     "output_type": "display_data"
    }
   ],
   "source": [
    "def plot_space(A, threshold=0.5):\n",
    "    xx, yy = np.meshgrid(np.linspace(-1, 2, 100), np.linspace(-1, 2, 100))\n",
    "    Z = np.array([predict([1,x0,x1], A) for x0, x1 in zip(xx.ravel(), yy.ravel())])\n",
    "    Z = Z.reshape(xx.shape)\n",
    "    plt.contourf(xx, yy, Z, levels=[threshold, Z.max()],\n",
    "                         colors='red', alpha=0.2)\n",
    "    plt.contourf(xx, yy, Z, levels=[Z.min(), threshold],\n",
    "                         colors='blue', alpha=0.2)\n",
    "    #a = plt.contour(xx, yy, Z, levels=[threshold],\n",
    "    #                        linewidths=2, colors='red', alpha=0.2)\n",
    "    plot_dataset(X, y)\n",
    "    \n",
    "plot_space(A)"
   ]
  },
  {
   "cell_type": "code",
   "execution_count": 7,
   "metadata": {
    "ExecuteTime": {
     "end_time": "2022-01-13T08:20:38.503027Z",
     "start_time": "2022-01-13T08:20:38.499852Z"
    }
   },
   "outputs": [],
   "source": [
    "def one_observation(X, y, A):\n",
    "    # Accept one observation X and y and a weigth matrix A\n",
    "    X = np.array([1]+list(X))\n",
    "    y_hat = predict(X, A)\n",
    "    error = (y-y_hat)\n",
    "    # Return the new weigth matrix\n",
    "    return [a + n*error*x for x, a in zip(X,A)]"
   ]
  },
  {
   "cell_type": "code",
   "execution_count": 8,
   "metadata": {
    "ExecuteTime": {
     "end_time": "2022-01-13T08:20:40.243893Z",
     "start_time": "2022-01-13T08:20:40.238351Z"
    }
   },
   "outputs": [
    {
     "data": {
      "text/plain": [
       "[0.0, 0.2, 0.05]"
      ]
     },
     "execution_count": 8,
     "metadata": {},
     "output_type": "execute_result"
    }
   ],
   "source": [
    "one_observation(X[0], y[0], A)"
   ]
  },
  {
   "cell_type": "code",
   "execution_count": 9,
   "metadata": {
    "ExecuteTime": {
     "end_time": "2022-01-13T08:20:46.937055Z",
     "start_time": "2022-01-13T08:20:46.932961Z"
    }
   },
   "outputs": [
    {
     "data": {
      "text/plain": [
       "[0.0, 0.1, 0.05]"
      ]
     },
     "execution_count": 9,
     "metadata": {},
     "output_type": "execute_result"
    }
   ],
   "source": [
    "one_observation(X[2], y[2], A)"
   ]
  },
  {
   "cell_type": "code",
   "execution_count": 10,
   "metadata": {
    "ExecuteTime": {
     "end_time": "2022-01-13T08:20:54.447525Z",
     "start_time": "2022-01-13T08:20:54.444172Z"
    }
   },
   "outputs": [],
   "source": [
    "def one_epoch(X, y, A):\n",
    "    # Update weigth for all observation\n",
    "    # Plot the new space\n",
    "    # And return the new weigth\n",
    "    for X_, y_ in zip(X, y):\n",
    "        A = one_observation(X_, y_, A)\n",
    "    plot_space(A)\n",
    "    return A"
   ]
  },
  {
   "cell_type": "code",
   "execution_count": 11,
   "metadata": {
    "ExecuteTime": {
     "end_time": "2022-01-13T08:21:23.979010Z",
     "start_time": "2022-01-13T08:21:23.784060Z"
    }
   },
   "outputs": [
    {
     "data": {
      "image/png": "[encoded data removed]",
      "text/plain": [
       "<Figure size 432x288 with 1 Axes>"
      ]
     },
     "metadata": {
      "needs_background": "light"
     },
     "output_type": "display_data"
    }
   ],
   "source": [
    "A = one_epoch(X, y, A)"
   ]
  },
  {
   "cell_type": "code",
   "execution_count": 12,
   "metadata": {
    "ExecuteTime": {
     "end_time": "2021-08-30T08:02:50.400771Z",
     "start_time": "2021-08-30T08:02:50.191684Z"
    }
   },
   "outputs": [
    {
     "data": {
      "image/png": "[encoded data removed]",
      "text/plain": [
       "<Figure size 432x288 with 1 Axes>"
      ]
     },
     "metadata": {
      "needs_background": "light"
     },
     "output_type": "display_data"
    }
   ],
   "source": [
    "A = one_epoch(X, y, A)"
   ]
  },
  {
   "cell_type": "code",
   "execution_count": 12,
   "metadata": {
    "ExecuteTime": {
     "end_time": "2022-01-13T08:21:35.035100Z",
     "start_time": "2022-01-13T08:21:34.800641Z"
    }
   },
   "outputs": [
    {
     "data": {
      "image/png": "[encoded data removed]",
      "text/plain": [
       "<Figure size 432x288 with 1 Axes>"
      ]
     },
     "metadata": {
      "needs_background": "light"
     },
     "output_type": "display_data"
    }
   ],
   "source": [
    "A = one_epoch(X, y, A)"
   ]
  },
  {
   "cell_type": "code",
   "execution_count": 13,
   "metadata": {
    "ExecuteTime": {
     "end_time": "2022-01-13T08:21:43.154672Z",
     "start_time": "2022-01-13T08:21:42.955504Z"
    }
   },
   "outputs": [
    {
     "data": {
      "image/png": "[encoded data removed]",
      "text/plain": [
       "<Figure size 432x288 with 1 Axes>"
      ]
     },
     "metadata": {
      "needs_background": "light"
     },
     "output_type": "display_data"
    }
   ],
   "source": [
    "A = one_epoch(X, y, A)"
   ]
  },
  {
   "cell_type": "code",
   "execution_count": 14,
   "metadata": {
    "ExecuteTime": {
     "end_time": "2022-01-13T08:21:46.356323Z",
     "start_time": "2022-01-13T08:21:46.157587Z"
    }
   },
   "outputs": [
    {
     "data": {
      "image/png": "[encoded data removed]",
      "text/plain": [
       "<Figure size 432x288 with 1 Axes>"
      ]
     },
     "metadata": {
      "needs_background": "light"
     },
     "output_type": "display_data"
    }
   ],
   "source": [
    "A = one_epoch(X, y, A)"
   ]
  },
  {
   "cell_type": "markdown",
   "metadata": {},
   "source": [
    "## On revient au cours"
   ]
  },
  {
   "cell_type": "code",
   "execution_count": null,
   "metadata": {},
   "outputs": [],
   "source": []
  },
  {
   "cell_type": "code",
   "execution_count": null,
   "metadata": {},
   "outputs": [],
   "source": []
  },
  {
   "cell_type": "code",
   "execution_count": null,
   "metadata": {},
   "outputs": [],
   "source": []
  },
  {
   "cell_type": "code",
   "execution_count": null,
   "metadata": {},
   "outputs": [],
   "source": []
  },
  {
   "cell_type": "markdown",
   "metadata": {},
   "source": [
    "## Remplacement de la fonction à seuil par sigmoid\n",
    "\n",
    "$g(v) = \\frac{1}{1+e^{-v}}$, $g(v)$ est une estimation de P(y|X)]\n",
    "\n",
    "La règle de décision devient : si g(v)>0.5 alors y=1 sinon y=0\n",
    "\n",
    "La fonction de transfert (g(v)) est dérivable : $g'(v) = g(v)(1-g(v)))$\n",
    "\n",
    "La règle de mise à jour devient : $a_j = a_j - n(y-\\hat{y})g'(v)x_j$"
   ]
  },
  {
   "cell_type": "code",
   "execution_count": null,
   "metadata": {
    "ExecuteTime": {
     "end_time": "2021-08-30T08:02:51.027354Z",
     "start_time": "2021-08-30T08:02:51.024143Z"
    }
   },
   "outputs": [],
   "source": [
    "# Dataset: AND function\n",
    "X = np.array([[0, 0],[0, 1],[1, 0],[1, 1]])\n",
    "y = [0, 0, 0, 1]"
   ]
  },
  {
   "cell_type": "code",
   "execution_count": null,
   "metadata": {
    "ExecuteTime": {
     "end_time": "2021-08-30T08:02:51.033833Z",
     "start_time": "2021-08-30T08:02:51.029706Z"
    }
   },
   "outputs": [],
   "source": [
    "def sigmoid(X):\n",
    "    return 1/(1+np.exp(-X))\n",
    "\n",
    "def sigmoid_derivative(X):\n",
    "    return sigmoid(X)*(1-sigmoid(X))\n",
    "\n",
    "def one_observation(X, y, A):\n",
    "    X = np.array([1]+list(X))\n",
    "    g = sigmoid(np.dot(A, X))\n",
    "    if g > 0.5:\n",
    "        y_hat = 1\n",
    "    else:\n",
    "        y_hat = 0\n",
    "    error = (y-y_hat)\n",
    "    print(\"error\", error)\n",
    "    return [a + n*error*sigmoid_derivative(g)*x for x, a in zip(X,A)]"
   ]
  },
  {
   "cell_type": "code",
   "execution_count": null,
   "metadata": {
    "ExecuteTime": {
     "end_time": "2021-08-30T08:02:51.040142Z",
     "start_time": "2021-08-30T08:02:51.037797Z"
    }
   },
   "outputs": [],
   "source": [
    "n = 0.15\n",
    "A = [0.1, 0.2, 0.05]"
   ]
  },
  {
   "cell_type": "code",
   "execution_count": null,
   "metadata": {
    "ExecuteTime": {
     "end_time": "2021-08-30T08:02:51.047800Z",
     "start_time": "2021-08-30T08:02:51.043699Z"
    }
   },
   "outputs": [],
   "source": [
    "one_observation(X[0], y[0], A)"
   ]
  },
  {
   "cell_type": "code",
   "execution_count": null,
   "metadata": {
    "ExecuteTime": {
     "end_time": "2021-08-30T08:02:51.054231Z",
     "start_time": "2021-08-30T08:02:51.050042Z"
    }
   },
   "outputs": [],
   "source": [
    "one_observation(X[2], y[2], A)"
   ]
  },
  {
   "cell_type": "code",
   "execution_count": null,
   "metadata": {
    "ExecuteTime": {
     "end_time": "2021-08-30T08:02:51.275616Z",
     "start_time": "2021-08-30T08:02:51.056352Z"
    }
   },
   "outputs": [],
   "source": [
    "plot_space(A)"
   ]
  },
  {
   "cell_type": "code",
   "execution_count": null,
   "metadata": {
    "ExecuteTime": {
     "end_time": "2021-08-30T08:02:51.489401Z",
     "start_time": "2021-08-30T08:02:51.277303Z"
    }
   },
   "outputs": [],
   "source": [
    "A = one_epoch(X, y, A)"
   ]
  },
  {
   "cell_type": "code",
   "execution_count": null,
   "metadata": {
    "ExecuteTime": {
     "end_time": "2021-08-30T08:02:51.699671Z",
     "start_time": "2021-08-30T08:02:51.491433Z"
    }
   },
   "outputs": [],
   "source": [
    "A = one_epoch(X, y, A)"
   ]
  },
  {
   "cell_type": "code",
   "execution_count": null,
   "metadata": {
    "ExecuteTime": {
     "end_time": "2021-08-30T08:02:51.911777Z",
     "start_time": "2021-08-30T08:02:51.701021Z"
    }
   },
   "outputs": [],
   "source": [
    "A = one_epoch(X, y, A)"
   ]
  },
  {
   "cell_type": "code",
   "execution_count": null,
   "metadata": {
    "ExecuteTime": {
     "end_time": "2021-08-30T08:02:52.171334Z",
     "start_time": "2021-08-30T08:02:51.913347Z"
    }
   },
   "outputs": [],
   "source": [
    "A = one_epoch(X, y, A)"
   ]
  },
  {
   "cell_type": "code",
   "execution_count": null,
   "metadata": {
    "ExecuteTime": {
     "end_time": "2021-08-30T08:02:52.378952Z",
     "start_time": "2021-08-30T08:02:52.173114Z"
    }
   },
   "outputs": [],
   "source": [
    "A = one_epoch(X, y, A)"
   ]
  },
  {
   "cell_type": "code",
   "execution_count": null,
   "metadata": {
    "ExecuteTime": {
     "end_time": "2021-08-30T08:02:52.592957Z",
     "start_time": "2021-08-30T08:02:52.380532Z"
    }
   },
   "outputs": [],
   "source": [
    "A = one_epoch(X, y, A)"
   ]
  },
  {
   "cell_type": "code",
   "execution_count": null,
   "metadata": {},
   "outputs": [],
   "source": []
  }
 ],
 "metadata": {
  "kernelspec": {
   "display_name": "Python 3",
   "language": "python",
   "name": "python3"
  },
  "language_info": {
   "codemirror_mode": {
    "name": "ipython",
    "version": 3
   },
   "file_extension": ".py",
   "mimetype": "text/x-python",
   "name": "python",
   "nbconvert_exporter": "python",
   "pygments_lexer": "ipython3",
   "version": "3.8.8"
  },
  "latex_envs": {
   "LaTeX_envs_menu_present": true,
   "autoclose": true,
   "autocomplete": true,
   "bibliofile": "biblio.bib",
   "cite_by": "apalike",
   "current_citInitial": 1,
   "eqLabelWithNumbers": true,
   "eqNumInitial": 1,
   "hotkeys": {
    "equation": "Ctrl-E",
    "itemize": "Ctrl-I"
   },
   "labels_anchors": false,
   "latex_user_defs": false,
   "report_style_numbering": false,
   "user_envs_cfg": false
  },
  "nbTranslate": {
   "displayLangs": [
    "*"
   ],
   "hotkey": "alt-t",
   "langInMainMenu": true,
   "sourceLang": "en",
   "targetLang": "fr",
   "useGoogleTranslate": true
  },
  "toc": {
   "base_numbering": 1,
   "nav_menu": {},
   "number_sections": true,
   "sideBar": true,
   "skip_h1_title": true,
   "title_cell": "Table of Contents",
   "title_sidebar": "Contents",
   "toc_cell": true,
   "toc_position": {},
   "toc_section_display": true,
   "toc_window_display": false
  }
 },
 "nbformat": 4,
 "nbformat_minor": 4
}
