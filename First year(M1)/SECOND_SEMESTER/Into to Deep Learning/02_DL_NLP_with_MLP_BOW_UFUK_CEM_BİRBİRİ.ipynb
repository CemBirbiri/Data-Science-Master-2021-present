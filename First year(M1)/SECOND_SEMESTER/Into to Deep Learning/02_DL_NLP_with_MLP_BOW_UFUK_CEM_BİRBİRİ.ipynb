{
 "cells": [
  {
   "cell_type": "markdown",
   "metadata": {
    "id": "o22rTSh_5HE_"
   },
   "source": [
    "# Sentiment analysis with BOW representation\n",
    "\n",
    "Text classification is a machine learning technique that assigns a set of predefined categories to open-ended text. Text classifiers can be used to organize, structure, and categorize pretty much any kind of text – from documents, medical studies and files, and all over the web.\n",
    "\n",
    "For example, new articles can be organized by topics; support tickets can be organized by urgency; chat conversations can be organized by language; brand mentions can be organized by sentiment; and so on.\n",
    "\n",
    "Text classification is one of the fundamental tasks in natural language processing with broad applications such as **sentiment analysis**, topic labeling, spam detection, and intent detection.\n",
    "\n",
    "**Why is Text Classification Important?**\n",
    "\n",
    "It’s estimated that around 80% of all information is unstructured, with text being one of the most common types of unstructured data. Because of the messy nature of text, analyzing, understanding, organizing, and sorting through text data is hard and time-consuming, so most companies fail to use it to its full potential.\n",
    "\n",
    "This is where text classification with machine learning comes in. Using text classifiers, companies can automatically structure all manner of relevant text, from emails, legal documents, social media, chatbots, surveys, and more in a fast and cost-effective way. This allows companies to save time analyzing text data, automate business processes, and make data-driven business decisions.\n",
    "\n",
    "**How Does Text Classification Work?**\n",
    "\n",
    "Instead of relying on manually crafted rules, machine learning text classification learns to make classifications based on past observations. By using pre-labeled examples as training data, machine learning algorithms can learn the different associations between pieces of text, and that a particular output (i.e., tags) is expected for a particular input (i.e., text). A “tag” is the pre-determined classification or category that any given text could fall into.\n",
    "\n",
    "The first step towards training a machine learning NLP classifier is feature extraction: a method is used to transform each text into a numerical representation in the form of a vector. One of the most frequently used approaches is bag of words, where a vector represents the frequency of a word in a predefined dictionary of words.\n",
    "\n",
    "Then, the machine learning algorithm is fed with training data that consists of pairs of feature sets (vectors for each text example) and tags (e.g. sports, politics) to produce a classification model:\n",
    "\n",
    "![training](https://monkeylearn.com/static/507a7b5d0557f416857a038f553865d1/2ed04/text_process_training.webp)\n",
    "\n",
    "Once it’s trained with enough training samples, the machine learning model can begin to make accurate predictions. The same feature extractor is used to transform unseen text to feature sets, which can be fed into the classification model to get predictions on tags (e.g., sports, politics):\n",
    "\n",
    "![prediction](https://monkeylearn.com/static/afa7e0536886ee7152dfa4c628fe59f0/2b924/text_process_prediction.webp)\n",
    "\n",
    "Text classification with machine learning is usually much more accurate than human-crafted rule systems, especially on complex NLP classification tasks. Also, classifiers with machine learning are easier to maintain and you can always tag new examples to learn new tasks."
   ]
  },
  {
   "cell_type": "markdown",
   "metadata": {
    "id": "UgzggwPnvq_o"
   },
   "source": [
    "## Today lab\n",
    "\n",
    "In this lab we use part of the 'Amazon_Unlocked_Mobile.csv' dataset published by Kaggle. The dataset contain the following information:\n",
    "* Product Name\n",
    "* Brand Name\n",
    "* Price\n",
    "* Rating\n",
    "* Reviews\n",
    "* Review Votes\n",
    "\n",
    "We are mainly interested by the 'Reviews' (X) and by the 'Rating' (y)\n",
    "\n",
    "The goal is to try to predict the 'Rating' after reading the 'Reviews'. I've prepared for you TRAIN and TEST set."
   ]
  },
  {
   "cell_type": "markdown",
   "metadata": {
    "id": "AmQlCKQVvq_p",
    "toc": true
   },
   "source": [
    "<h1>Table of Contents<span class=\"tocSkip\"></span></h1>\n",
    "<div class=\"toc\"><ul class=\"toc-item\"><li><span><a href=\"#Today-lab\" data-toc-modified-id=\"Today-lab-1\"><span class=\"toc-item-num\">1&nbsp;&nbsp;</span>Today lab</a></span></li><li><span><a href=\"#Load-dataset\" data-toc-modified-id=\"Load-dataset-2\"><span class=\"toc-item-num\">2&nbsp;&nbsp;</span>Load dataset</a></span><ul class=\"toc-item\"><li><span><a href=\"#About-Train,-validation-and-test-sets\" data-toc-modified-id=\"About-Train,-validation-and-test-sets-2.1\"><span class=\"toc-item-num\">2.1&nbsp;&nbsp;</span><a href=\"https://towardsdatascience.com/train-validation-and-test-sets-72cb40cba9e7\" rel=\"nofollow\" target=\"_blank\">About Train, validation and test sets</a></a></span></li><li><span><a href=\"#Undestand-the-dataset\" data-toc-modified-id=\"Undestand-the-dataset-2.2\"><span class=\"toc-item-num\">2.2&nbsp;&nbsp;</span>Undestand the dataset</a></span></li></ul></li><li><span><a href=\"#Build-X-(features-vectors)-and-y-(labels)\" data-toc-modified-id=\"Build-X-(features-vectors)-and-y-(labels)-3\"><span class=\"toc-item-num\">3&nbsp;&nbsp;</span>Build X (features vectors) and y (labels)</a></span></li><li><span><a href=\"#Our-previous-baseline\" data-toc-modified-id=\"Our-previous-baseline-4\"><span class=\"toc-item-num\">4&nbsp;&nbsp;</span>Our previous baseline</a></span></li><li><span><a href=\"#Build-an-MLP-Classifier\" data-toc-modified-id=\"Build-an-MLP-Classifier-5\"><span class=\"toc-item-num\">5&nbsp;&nbsp;</span>Build an MLP Classifier</a></span></li></ul></div>"
   ]
  },
  {
   "cell_type": "markdown",
   "metadata": {
    "id": "PZg2dPXvvq_q"
   },
   "source": [
    "## Load dataset"
   ]
  },
  {
   "cell_type": "code",
   "execution_count": 108,
   "metadata": {
    "ExecuteTime": {
     "end_time": "2022-01-19T13:17:55.195443Z",
     "start_time": "2022-01-19T13:17:52.018950Z"
    },
    "colab": {
     "base_uri": "https://localhost:8080/"
    },
    "id": "8wxTLStrvq_r",
    "outputId": "a3db4d8e-9225-438b-edde-c11eff3a9e8b"
   },
   "outputs": [
    {
     "name": "stdout",
     "output_type": "stream",
     "text": [
      "[nltk_data] Downloading collection 'popular'\n",
      "[nltk_data]    | \n",
      "[nltk_data]    | Downloading package cmudict to /root/nltk_data...\n",
      "[nltk_data]    |   Package cmudict is already up-to-date!\n",
      "[nltk_data]    | Downloading package gazetteers to /root/nltk_data...\n",
      "[nltk_data]    |   Package gazetteers is already up-to-date!\n",
      "[nltk_data]    | Downloading package genesis to /root/nltk_data...\n",
      "[nltk_data]    |   Package genesis is already up-to-date!\n",
      "[nltk_data]    | Downloading package gutenberg to /root/nltk_data...\n",
      "[nltk_data]    |   Package gutenberg is already up-to-date!\n",
      "[nltk_data]    | Downloading package inaugural to /root/nltk_data...\n",
      "[nltk_data]    |   Package inaugural is already up-to-date!\n",
      "[nltk_data]    | Downloading package movie_reviews to\n",
      "[nltk_data]    |     /root/nltk_data...\n",
      "[nltk_data]    |   Package movie_reviews is already up-to-date!\n",
      "[nltk_data]    | Downloading package names to /root/nltk_data...\n",
      "[nltk_data]    |   Package names is already up-to-date!\n",
      "[nltk_data]    | Downloading package shakespeare to /root/nltk_data...\n",
      "[nltk_data]    |   Package shakespeare is already up-to-date!\n",
      "[nltk_data]    | Downloading package stopwords to /root/nltk_data...\n",
      "[nltk_data]    |   Package stopwords is already up-to-date!\n",
      "[nltk_data]    | Downloading package treebank to /root/nltk_data...\n",
      "[nltk_data]    |   Package treebank is already up-to-date!\n",
      "[nltk_data]    | Downloading package twitter_samples to\n",
      "[nltk_data]    |     /root/nltk_data...\n",
      "[nltk_data]    |   Package twitter_samples is already up-to-date!\n",
      "[nltk_data]    | Downloading package omw to /root/nltk_data...\n",
      "[nltk_data]    |   Package omw is already up-to-date!\n",
      "[nltk_data]    | Downloading package omw-1.4 to /root/nltk_data...\n",
      "[nltk_data]    |   Package omw-1.4 is already up-to-date!\n",
      "[nltk_data]    | Downloading package wordnet to /root/nltk_data...\n",
      "[nltk_data]    |   Package wordnet is already up-to-date!\n",
      "[nltk_data]    | Downloading package wordnet2021 to /root/nltk_data...\n",
      "[nltk_data]    |   Package wordnet2021 is already up-to-date!\n",
      "[nltk_data]    | Downloading package wordnet31 to /root/nltk_data...\n",
      "[nltk_data]    |   Package wordnet31 is already up-to-date!\n",
      "[nltk_data]    | Downloading package wordnet_ic to /root/nltk_data...\n",
      "[nltk_data]    |   Package wordnet_ic is already up-to-date!\n",
      "[nltk_data]    | Downloading package words to /root/nltk_data...\n",
      "[nltk_data]    |   Package words is already up-to-date!\n",
      "[nltk_data]    | Downloading package maxent_ne_chunker to\n",
      "[nltk_data]    |     /root/nltk_data...\n",
      "[nltk_data]    |   Package maxent_ne_chunker is already up-to-date!\n",
      "[nltk_data]    | Downloading package punkt to /root/nltk_data...\n",
      "[nltk_data]    |   Package punkt is already up-to-date!\n",
      "[nltk_data]    | Downloading package snowball_data to\n",
      "[nltk_data]    |     /root/nltk_data...\n",
      "[nltk_data]    |   Package snowball_data is already up-to-date!\n",
      "[nltk_data]    | Downloading package averaged_perceptron_tagger to\n",
      "[nltk_data]    |     /root/nltk_data...\n",
      "[nltk_data]    |   Package averaged_perceptron_tagger is already up-\n",
      "[nltk_data]    |       to-date!\n",
      "[nltk_data]    | \n",
      "[nltk_data]  Done downloading collection popular\n"
     ]
    },
    {
     "data": {
      "text/plain": [
       "True"
      ]
     },
     "execution_count": 108,
     "metadata": {},
     "output_type": "execute_result"
    }
   ],
   "source": [
    "import pandas as pd\n",
    "import numpy as np\n",
    "import nltk\n",
    "nltk.download('popular')"
   ]
  },
  {
   "cell_type": "code",
   "execution_count": 109,
   "metadata": {
    "ExecuteTime": {
     "end_time": "2022-01-19T13:17:55.977676Z",
     "start_time": "2022-01-19T13:17:55.239096Z"
    },
    "colab": {
     "base_uri": "https://localhost:8080/",
     "height": 258
    },
    "id": "MLWzp9CAvq_t",
    "outputId": "47bebc8f-cb8b-46bb-b8e7-2803af7592c5"
   },
   "outputs": [
    {
     "name": "stdout",
     "output_type": "stream",
     "text": [
      "Index(['Product Name', 'Brand Name', 'Price', 'Rating', 'Reviews',\n",
      "       'Review Votes'],\n",
      "      dtype='object')\n"
     ]
    },
    {
     "data": {
      "text/html": [
       "\n",
       "  <div id=\"df-10460177-2ae0-48c9-994e-2c502347c64a\">\n",
       "    <div class=\"colab-df-container\">\n",
       "      <div>\n",
       "<style scoped>\n",
       "    .dataframe tbody tr th:only-of-type {\n",
       "        vertical-align: middle;\n",
       "    }\n",
       "\n",
       "    .dataframe tbody tr th {\n",
       "        vertical-align: top;\n",
       "    }\n",
       "\n",
       "    .dataframe thead th {\n",
       "        text-align: right;\n",
       "    }\n",
       "</style>\n",
       "<table border=\"1\" class=\"dataframe\">\n",
       "  <thead>\n",
       "    <tr style=\"text-align: right;\">\n",
       "      <th></th>\n",
       "      <th>Product Name</th>\n",
       "      <th>Brand Name</th>\n",
       "      <th>Price</th>\n",
       "      <th>Rating</th>\n",
       "      <th>Reviews</th>\n",
       "      <th>Review Votes</th>\n",
       "    </tr>\n",
       "  </thead>\n",
       "  <tbody>\n",
       "    <tr>\n",
       "      <th>0</th>\n",
       "      <td>Samsung Galaxy Note 4 N910C Unlocked Cellphone...</td>\n",
       "      <td>Samsung</td>\n",
       "      <td>449.99</td>\n",
       "      <td>4</td>\n",
       "      <td>I love it!!! I absolutely love it!! 👌👍</td>\n",
       "      <td>0.0</td>\n",
       "    </tr>\n",
       "    <tr>\n",
       "      <th>1</th>\n",
       "      <td>BLU Energy X Plus Smartphone - With 4000 mAh S...</td>\n",
       "      <td>BLU</td>\n",
       "      <td>139.00</td>\n",
       "      <td>5</td>\n",
       "      <td>I love the BLU phones! This is my second one t...</td>\n",
       "      <td>4.0</td>\n",
       "    </tr>\n",
       "    <tr>\n",
       "      <th>2</th>\n",
       "      <td>Apple iPhone 6 128GB Silver AT&amp;T</td>\n",
       "      <td>Apple</td>\n",
       "      <td>599.95</td>\n",
       "      <td>5</td>\n",
       "      <td>Great phone</td>\n",
       "      <td>1.0</td>\n",
       "    </tr>\n",
       "    <tr>\n",
       "      <th>3</th>\n",
       "      <td>BLU Advance 4.0L Unlocked Smartphone -US GSM -...</td>\n",
       "      <td>BLU</td>\n",
       "      <td>51.99</td>\n",
       "      <td>4</td>\n",
       "      <td>Very happy with the performance. The apps work...</td>\n",
       "      <td>2.0</td>\n",
       "    </tr>\n",
       "    <tr>\n",
       "      <th>4</th>\n",
       "      <td>Huawei P8 Lite US Version- 5 Unlocked Android ...</td>\n",
       "      <td>Huawei</td>\n",
       "      <td>198.99</td>\n",
       "      <td>5</td>\n",
       "      <td>Easy to use great price</td>\n",
       "      <td>0.0</td>\n",
       "    </tr>\n",
       "  </tbody>\n",
       "</table>\n",
       "</div>\n",
       "      <button class=\"colab-df-convert\" onclick=\"convertToInteractive('df-10460177-2ae0-48c9-994e-2c502347c64a')\"\n",
       "              title=\"Convert this dataframe to an interactive table.\"\n",
       "              style=\"display:none;\">\n",
       "        \n",
       "  <svg xmlns=\"http://www.w3.org/2000/svg\" height=\"24px\"viewBox=\"0 0 24 24\"\n",
       "       width=\"24px\">\n",
       "    <path d=\"M0 0h24v24H0V0z\" fill=\"none\"/>\n",
       "    <path d=\"M18.56 5.44l.94 2.06.94-2.06 2.06-.94-2.06-.94-.94-2.06-.94 2.06-2.06.94zm-11 1L8.5 8.5l.94-2.06 2.06-.94-2.06-.94L8.5 2.5l-.94 2.06-2.06.94zm10 10l.94 2.06.94-2.06 2.06-.94-2.06-.94-.94-2.06-.94 2.06-2.06.94z\"/><path d=\"M17.41 7.96l-1.37-1.37c-.4-.4-.92-.59-1.43-.59-.52 0-1.04.2-1.43.59L10.3 9.45l-7.72 7.72c-.78.78-.78 2.05 0 2.83L4 21.41c.39.39.9.59 1.41.59.51 0 1.02-.2 1.41-.59l7.78-7.78 2.81-2.81c.8-.78.8-2.07 0-2.86zM5.41 20L4 18.59l7.72-7.72 1.47 1.35L5.41 20z\"/>\n",
       "  </svg>\n",
       "      </button>\n",
       "      \n",
       "  <style>\n",
       "    .colab-df-container {\n",
       "      display:flex;\n",
       "      flex-wrap:wrap;\n",
       "      gap: 12px;\n",
       "    }\n",
       "\n",
       "    .colab-df-convert {\n",
       "      background-color: #E8F0FE;\n",
       "      border: none;\n",
       "      border-radius: 50%;\n",
       "      cursor: pointer;\n",
       "      display: none;\n",
       "      fill: #1967D2;\n",
       "      height: 32px;\n",
       "      padding: 0 0 0 0;\n",
       "      width: 32px;\n",
       "    }\n",
       "\n",
       "    .colab-df-convert:hover {\n",
       "      background-color: #E2EBFA;\n",
       "      box-shadow: 0px 1px 2px rgba(60, 64, 67, 0.3), 0px 1px 3px 1px rgba(60, 64, 67, 0.15);\n",
       "      fill: #174EA6;\n",
       "    }\n",
       "\n",
       "    [theme=dark] .colab-df-convert {\n",
       "      background-color: #3B4455;\n",
       "      fill: #D2E3FC;\n",
       "    }\n",
       "\n",
       "    [theme=dark] .colab-df-convert:hover {\n",
       "      background-color: #434B5C;\n",
       "      box-shadow: 0px 1px 3px 1px rgba(0, 0, 0, 0.15);\n",
       "      filter: drop-shadow(0px 1px 2px rgba(0, 0, 0, 0.3));\n",
       "      fill: #FFFFFF;\n",
       "    }\n",
       "  </style>\n",
       "\n",
       "      <script>\n",
       "        const buttonEl =\n",
       "          document.querySelector('#df-10460177-2ae0-48c9-994e-2c502347c64a button.colab-df-convert');\n",
       "        buttonEl.style.display =\n",
       "          google.colab.kernel.accessAllowed ? 'block' : 'none';\n",
       "\n",
       "        async function convertToInteractive(key) {\n",
       "          const element = document.querySelector('#df-10460177-2ae0-48c9-994e-2c502347c64a');\n",
       "          const dataTable =\n",
       "            await google.colab.kernel.invokeFunction('convertToInteractive',\n",
       "                                                     [key], {});\n",
       "          if (!dataTable) return;\n",
       "\n",
       "          const docLinkHtml = 'Like what you see? Visit the ' +\n",
       "            '<a target=\"_blank\" href=https://colab.research.google.com/notebooks/data_table.ipynb>data table notebook</a>'\n",
       "            + ' to learn more about interactive tables.';\n",
       "          element.innerHTML = '';\n",
       "          dataTable['output_type'] = 'display_data';\n",
       "          await google.colab.output.renderOutput(dataTable, element);\n",
       "          const docLink = document.createElement('div');\n",
       "          docLink.innerHTML = docLinkHtml;\n",
       "          element.appendChild(docLink);\n",
       "        }\n",
       "      </script>\n",
       "    </div>\n",
       "  </div>\n",
       "  "
      ],
      "text/plain": [
       "                                        Product Name  ... Review Votes\n",
       "0  Samsung Galaxy Note 4 N910C Unlocked Cellphone...  ...          0.0\n",
       "1  BLU Energy X Plus Smartphone - With 4000 mAh S...  ...          4.0\n",
       "2                   Apple iPhone 6 128GB Silver AT&T  ...          1.0\n",
       "3  BLU Advance 4.0L Unlocked Smartphone -US GSM -...  ...          2.0\n",
       "4  Huawei P8 Lite US Version- 5 Unlocked Android ...  ...          0.0\n",
       "\n",
       "[5 rows x 6 columns]"
      ]
     },
     "execution_count": 109,
     "metadata": {},
     "output_type": "execute_result"
    }
   ],
   "source": [
    "TRAIN = pd.read_csv(\"http://www.i3s.unice.fr/~riveill/dataset/Amazon_Unlocked_Mobile/train.csv.gz\")\n",
    "TEST = pd.read_csv(\"http://www.i3s.unice.fr/~riveill/dataset/Amazon_Unlocked_Mobile/test.csv.gz\")\n",
    "print(TRAIN.columns)\n",
    "TRAIN.head()"
   ]
  },
  {
   "cell_type": "markdown",
   "metadata": {
    "id": "o2eC1L4fvq_0"
   },
   "source": [
    "## Build X (features vectors) and y (labels)"
   ]
  },
  {
   "cell_type": "code",
   "execution_count": 110,
   "metadata": {
    "ExecuteTime": {
     "end_time": "2022-01-19T13:17:56.008775Z",
     "start_time": "2022-01-19T13:17:55.985761Z"
    },
    "colab": {
     "base_uri": "https://localhost:8080/"
    },
    "id": "dOnscXEBvq_0",
    "outputId": "dcf9fd03-5de0-4f7d-b146-33e5e8abd197"
   },
   "outputs": [
    {
     "data": {
      "text/plain": [
       "((5000,), (5000,))"
      ]
     },
     "execution_count": 110,
     "metadata": {},
     "output_type": "execute_result"
    }
   ],
   "source": [
    "# Construct X_train and y_train\n",
    "X_train = TRAIN['Reviews'].fillna(\"\")\n",
    "y_train = TRAIN['Rating']\n",
    "X_train.shape, y_train.shape"
   ]
  },
  {
   "cell_type": "code",
   "execution_count": 111,
   "metadata": {
    "ExecuteTime": {
     "end_time": "2022-01-19T13:17:56.063136Z",
     "start_time": "2022-01-19T13:17:56.021507Z"
    },
    "colab": {
     "base_uri": "https://localhost:8080/"
    },
    "id": "338OMkmHvq_1",
    "outputId": "0085637e-d8c4-4e9f-b87b-aa20a10fa26e"
   },
   "outputs": [
    {
     "data": {
      "text/plain": [
       "((1000,), (1000,))"
      ]
     },
     "execution_count": 111,
     "metadata": {},
     "output_type": "execute_result"
    }
   ],
   "source": [
    "# Construct X_test and y_test\n",
    "X_test = TEST['Reviews'].fillna(\"\")\n",
    "y_test = TEST['Rating']\n",
    "X_test.shape, y_test.shape"
   ]
  },
  {
   "cell_type": "code",
   "execution_count": 152,
   "metadata": {
    "colab": {
     "base_uri": "https://localhost:8080/"
    },
    "id": "VpTMN9Qxt-vi",
    "outputId": "57736556-3ac0-4233-afb0-d3f3732d7a99"
   },
   "outputs": [
    {
     "data": {
      "text/plain": [
       "0      4\n",
       "1      4\n",
       "2      1\n",
       "3      1\n",
       "4      5\n",
       "      ..\n",
       "995    5\n",
       "996    4\n",
       "997    5\n",
       "998    5\n",
       "999    1\n",
       "Name: Rating, Length: 1000, dtype: int64"
      ]
     },
     "execution_count": 152,
     "metadata": {},
     "output_type": "execute_result"
    }
   ],
   "source": [
    "y_test"
   ]
  },
  {
   "cell_type": "markdown",
   "metadata": {
    "id": "2L3YiNzWvq_1"
   },
   "source": [
    "## Features extraction\n",
    "\n",
    "A bag-of-words model is a way of extracting features from text so the text input can be used with machine learning algorithms or neural networks.\n",
    "\n",
    "Each document, in this case a review, is converted into a vector representation. The number of items in the vector representing a document corresponds to the number of words in the vocabulary. The larger the vocabulary, the longer the vector representation, hence the preference for smaller vocabularies in the previous section.\n",
    "\n",
    "Words in a document are scored and the scores are placed in the corresponding location in the representation.\n",
    "\n",
    "In order to extract feature, you can use `CountVectorizer` or `TfidfVectorizer` and you can perform the desired text cleaning."
   ]
  },
  {
   "cell_type": "markdown",
   "metadata": {
    "id": "UbTccrE7B2JX"
   },
   "source": [
    "$$[TODO - Students]$$ \n",
    "> * Quickly remind what are `CountVectorizer`, `TfidfVectorizer` and how they work.\n",
    "> * Build the BOW representation for train and test set"
   ]
  },
  {
   "cell_type": "markdown",
   "metadata": {
    "id": "5bsFmT5uByYz"
   },
   "source": [
    "###1. CountVectorizer:\n",
    "Convert a collection of text documents to a matrix of token counts."
   ]
  },
  {
   "cell_type": "code",
   "execution_count": 112,
   "metadata": {
    "colab": {
     "base_uri": "https://localhost:8080/"
    },
    "id": "csJMTdVC7vMj",
    "outputId": "5032c574-1320-4aa5-dd52-68e57d9b69af"
   },
   "outputs": [
    {
     "name": "stdout",
     "output_type": "stream",
     "text": [
      "(5000, 8991)\n"
     ]
    },
    {
     "name": "stderr",
     "output_type": "stream",
     "text": [
      "/usr/local/lib/python3.7/dist-packages/sklearn/utils/deprecation.py:87: FutureWarning: Function get_feature_names is deprecated; get_feature_names is deprecated in 1.0 and will be removed in 1.2. Please use get_feature_names_out instead.\n",
      "  warnings.warn(msg, category=FutureWarning)\n"
     ]
    }
   ],
   "source": [
    "import pandas as pd\n",
    "from sklearn.feature_extraction.text import CountVectorizer\n",
    "\n",
    "text = X_train\n",
    "\n",
    "#Convert the train set\n",
    "coun_vect = CountVectorizer()\n",
    "count_matrix = coun_vect.fit_transform(text)\n",
    "count_array = count_matrix.toarray()\n",
    "\n",
    "X_train_cvec = pd.DataFrame(data=count_array, columns = coun_vect.get_feature_names())\n",
    "print(X_train_cvec.shape)"
   ]
  },
  {
   "cell_type": "markdown",
   "metadata": {
    "id": "IzWRUmODB8Wn"
   },
   "source": [
    "###2. TfidfVectorizer:\n",
    "Convert a collection of raw documents to a matrix of TF-IDF features."
   ]
  },
  {
   "cell_type": "code",
   "execution_count": 113,
   "metadata": {
    "colab": {
     "base_uri": "https://localhost:8080/"
    },
    "id": "IDBnR2yKCcJ9",
    "outputId": "7f3da1c0-aa2b-471e-8420-eb645d7fe234"
   },
   "outputs": [
    {
     "name": "stdout",
     "output_type": "stream",
     "text": [
      "(5000, 8991)\n"
     ]
    }
   ],
   "source": [
    "from sklearn.feature_extraction.text import TfidfVectorizer\n",
    "# initalise the vectoriser \n",
    "tvec = TfidfVectorizer()\n",
    "# fit the training data on the model\n",
    "tvec.fit(X_train)\n",
    "\n",
    "#transform training data into sparse matrix\n",
    "X_train_tvec = tvec.transform(X_train)\n",
    "\n",
    "print(X_train_tvec.shape)"
   ]
  },
  {
   "cell_type": "markdown",
   "metadata": {
    "id": "aErFvDg6vq_2",
    "outputId": "1caadb43-483e-4be7-920a-ed3d45dc265d"
   },
   "source": [
    "## Build a baseline with logistic regression.\n",
    "\n",
    "Using the previous BOW representation, fit a logistic regression model and evaluate it."
   ]
  },
  {
   "cell_type": "markdown",
   "metadata": {
    "id": "UOOcOOD1y4Fp"
   },
   "source": [
    "$$[TODO - Students]$$ \n",
    "> * Quickly remind what are `LogisticRegression` and how they work.\n",
    "> * What are the possible metrics. Choose one and justify your choice."
   ]
  },
  {
   "cell_type": "markdown",
   "metadata": {
    "id": "mdnqAK7UCNUa"
   },
   "source": [
    "##1. LOGISTIC REGRESSION for CountVectorizer:"
   ]
  },
  {
   "cell_type": "code",
   "execution_count": 114,
   "metadata": {
    "ExecuteTime": {
     "end_time": "2022-01-19T13:17:56.129136Z",
     "start_time": "2022-01-19T13:17:56.105750Z"
    },
    "colab": {
     "base_uri": "https://localhost:8080/"
    },
    "id": "7MMcVIM0y4Fq",
    "outputId": "2dd0d0f0-95cd-4dc6-9fb5-d9b7b60e49ce"
   },
   "outputs": [
    {
     "name": "stderr",
     "output_type": "stream",
     "text": [
      "/usr/local/lib/python3.7/dist-packages/sklearn/linear_model/_logistic.py:818: ConvergenceWarning: lbfgs failed to converge (status=1):\n",
      "STOP: TOTAL NO. of ITERATIONS REACHED LIMIT.\n",
      "\n",
      "Increase the number of iterations (max_iter) or scale the data as shown in:\n",
      "    https://scikit-learn.org/stable/modules/preprocessing.html\n",
      "Please also refer to the documentation for alternative solver options:\n",
      "    https://scikit-learn.org/stable/modules/linear_model.html#logistic-regression\n",
      "  extra_warning_msg=_LOGISTIC_SOLVER_CONVERGENCE_MSG,\n"
     ]
    },
    {
     "data": {
      "text/plain": [
       "LogisticRegression()"
      ]
     },
     "execution_count": 114,
     "metadata": {},
     "output_type": "execute_result"
    }
   ],
   "source": [
    "# Build your model\n",
    "from sklearn.linear_model import LogisticRegression\n",
    "\n",
    "logreg = LogisticRegression()\n",
    "logreg.fit(X_train_cvec, y_train)\n",
    "\n"
   ]
  },
  {
   "cell_type": "code",
   "execution_count": 115,
   "metadata": {
    "colab": {
     "base_uri": "https://localhost:8080/"
    },
    "id": "rMCGaVvzBQr-",
    "outputId": "407a0b39-a292-4ff6-c823-e516b487c9ec"
   },
   "outputs": [
    {
     "name": "stderr",
     "output_type": "stream",
     "text": [
      "/usr/local/lib/python3.7/dist-packages/sklearn/utils/deprecation.py:87: FutureWarning: Function get_feature_names is deprecated; get_feature_names is deprecated in 1.0 and will be removed in 1.2. Please use get_feature_names_out instead.\n",
      "  warnings.warn(msg, category=FutureWarning)\n"
     ]
    },
    {
     "name": "stdout",
     "output_type": "stream",
     "text": [
      "Training score =  0.9068\n",
      "Testing score =  0.666\n"
     ]
    }
   ],
   "source": [
    "#Convert X_test with CountVectorizer:\n",
    "count_matrix_test = coun_vect.transform(X_test)\n",
    "count_array_test = count_matrix_test.toarray()\n",
    "X_test_cvec = pd.DataFrame(data=count_array_test,columns = coun_vect.get_feature_names())\n",
    "#print(df_test)\n",
    "\n",
    "\n",
    "print(\"Training score = \",logreg.score(X_train_cvec, y_train))\n",
    "print(\"Testing score = \",logreg.score(X_test_cvec, y_test))"
   ]
  },
  {
   "cell_type": "markdown",
   "metadata": {
    "id": "6pafQSubChyO"
   },
   "source": [
    "##2. LOGISTIC REGRESSION for TfidfVectorizer:"
   ]
  },
  {
   "cell_type": "code",
   "execution_count": 116,
   "metadata": {
    "colab": {
     "base_uri": "https://localhost:8080/"
    },
    "id": "xSANuDe3CpbB",
    "outputId": "1d1d85cc-8e00-46c7-fcf6-44e8502905bb"
   },
   "outputs": [
    {
     "name": "stderr",
     "output_type": "stream",
     "text": [
      "/usr/local/lib/python3.7/dist-packages/sklearn/linear_model/_logistic.py:818: ConvergenceWarning: lbfgs failed to converge (status=1):\n",
      "STOP: TOTAL NO. of ITERATIONS REACHED LIMIT.\n",
      "\n",
      "Increase the number of iterations (max_iter) or scale the data as shown in:\n",
      "    https://scikit-learn.org/stable/modules/preprocessing.html\n",
      "Please also refer to the documentation for alternative solver options:\n",
      "    https://scikit-learn.org/stable/modules/linear_model.html#logistic-regression\n",
      "  extra_warning_msg=_LOGISTIC_SOLVER_CONVERGENCE_MSG,\n"
     ]
    },
    {
     "data": {
      "text/plain": [
       "LogisticRegression()"
      ]
     },
     "execution_count": 116,
     "metadata": {},
     "output_type": "execute_result"
    }
   ],
   "source": [
    "# Build your model\n",
    "from sklearn.linear_model import LogisticRegression\n",
    "\n",
    "logreg_tf = LogisticRegression()\n",
    "logreg_tf.fit(X_train_tvec, y_train)\n",
    "\n"
   ]
  },
  {
   "cell_type": "code",
   "execution_count": 117,
   "metadata": {
    "colab": {
     "base_uri": "https://localhost:8080/"
    },
    "id": "k9TzKfhxCuAN",
    "outputId": "35c9b8d2-4464-4643-d47f-23618b62cd9a"
   },
   "outputs": [
    {
     "name": "stdout",
     "output_type": "stream",
     "text": [
      "Training score =  0.7772\n",
      "Testing score =  0.673\n"
     ]
    }
   ],
   "source": [
    "#Convert X_test with CountVectorizer:\n",
    "X_test_tvec = tvec.transform(X_test)\n",
    "\n",
    "print(\"Training score = \",logreg_tf.score(X_train_tvec, y_train))\n",
    "print(\"Testing score = \",logreg_tf.score(X_test_tvec, y_test))"
   ]
  },
  {
   "cell_type": "markdown",
   "metadata": {
    "id": "mdEeQY2Hvq_2"
   },
   "source": [
    "## Build an MLP Classifier\n"
   ]
  },
  {
   "cell_type": "code",
   "execution_count": 118,
   "metadata": {
    "ExecuteTime": {
     "end_time": "2022-01-19T13:18:02.502107Z",
     "start_time": "2022-01-19T13:17:56.178741Z"
    },
    "id": "Z_XKcRR9vq_3"
   },
   "outputs": [],
   "source": [
    "import tensorflow as tf\n",
    "from tensorflow.keras.models import Model\n",
    "from tensorflow.keras.layers import Input, Dense\n",
    "from tensorflow.keras.callbacks import EarlyStopping"
   ]
  },
  {
   "cell_type": "markdown",
   "metadata": {
    "id": "WWzLgvfJDf9y"
   },
   "source": [
    "$$[TODO - Students]$$ \n",
    "> * Quickly remind what are `Multi Layer Perceptron` and how they work.\n",
    "> * If necessary, One hot encode the output vectors"
   ]
  },
  {
   "cell_type": "markdown",
   "metadata": {
    "id": "zxdHwn5XVhw3"
   },
   "source": [
    "A multilayer perceptron (MLP) is a class of feedforward artificial neural network (ANN). The term MLP is used ambiguously, sometimes loosely to mean any feedforward ANN, sometimes strictly to refer to networks composed of multiple layers of perceptrons"
   ]
  },
  {
   "cell_type": "code",
   "execution_count": 119,
   "metadata": {
    "colab": {
     "base_uri": "https://localhost:8080/"
    },
    "id": "As1vSfGHRktY",
    "outputId": "8e7e678f-2b02-422c-a52f-165061ac51d7"
   },
   "outputs": [
    {
     "data": {
      "text/plain": [
       "((5000,), (5000,), (5000, 8991))"
      ]
     },
     "execution_count": 119,
     "metadata": {},
     "output_type": "execute_result"
    }
   ],
   "source": [
    "X_train.shape, y_train.shape, X_train_cvec.shape"
   ]
  },
  {
   "cell_type": "code",
   "execution_count": 120,
   "metadata": {
    "ExecuteTime": {
     "end_time": "2022-01-19T13:18:02.515293Z",
     "start_time": "2022-01-19T13:18:02.515272Z"
    },
    "id": "m0jx2omzvq_3"
   },
   "outputs": [],
   "source": [
    "# Encode output vector if necessary.\n",
    "from sklearn.preprocessing import OneHotEncoder\n",
    "\n",
    "encoder = OneHotEncoder()\n",
    "encoder.fit(y_train.values.reshape(-1,1))\n",
    "\n",
    "#Transform y_train\n",
    "Y_train = encoder.fit_transform(y_train.values.reshape(-1,1)).toarray()\n",
    "\n",
    "#Transform y_test\n",
    "Y_test =  encoder.fit_transform(y_test.values.reshape(-1,1)).toarray()"
   ]
  },
  {
   "cell_type": "code",
   "execution_count": 121,
   "metadata": {
    "colab": {
     "base_uri": "https://localhost:8080/"
    },
    "id": "R_LKJUB-Ip_a",
    "outputId": "1005eb18-d442-4115-a494-808309067c81"
   },
   "outputs": [
    {
     "data": {
      "text/plain": [
       "((5000, 5), (1000, 5))"
      ]
     },
     "execution_count": 121,
     "metadata": {},
     "output_type": "execute_result"
    }
   ],
   "source": [
    "Y_train.shape, Y_test.shape"
   ]
  },
  {
   "cell_type": "markdown",
   "metadata": {
    "id": "vLoZRWAkC2Qw"
   },
   "source": [
    "$$[TODO - Students]$$ \n",
    "> * What is the size of the input vector and the output vector?"
   ]
  },
  {
   "cell_type": "code",
   "execution_count": 122,
   "metadata": {
    "ExecuteTime": {
     "end_time": "2022-01-19T13:18:02.520539Z",
     "start_time": "2022-01-19T13:18:02.520496Z"
    },
    "id": "HuUkAgdxvq_4"
   },
   "outputs": [],
   "source": [
    "# Define constant\n",
    "input_dim = X_train_cvec.shape[1]\n",
    "output_dim = Y_train.shape[1]"
   ]
  },
  {
   "cell_type": "code",
   "execution_count": 123,
   "metadata": {
    "colab": {
     "base_uri": "https://localhost:8080/"
    },
    "id": "dx6TFANHSXYg",
    "outputId": "1781951a-c14d-43ff-8cc3-e56c9f754e28"
   },
   "outputs": [
    {
     "data": {
      "text/plain": [
       "(8991, 5)"
      ]
     },
     "execution_count": 123,
     "metadata": {},
     "output_type": "execute_result"
    }
   ],
   "source": [
    "input_dim, output_dim "
   ]
  },
  {
   "cell_type": "markdown",
   "metadata": {
    "id": "wGUO66DRDQDY"
   },
   "source": [
    "$$[TODO - Students]$$ \n",
    "\n",
    "> * Build a simple network to predict the star rating of a review using the functional API. It should have the following characteristic : one hidden layer with 256 nodes and relu activation.\n",
    "> * What is the activation function of the output layer?"
   ]
  },
  {
   "cell_type": "code",
   "execution_count": 124,
   "metadata": {
    "id": "qw2xUA25Uq0m"
   },
   "outputs": [],
   "source": [
    "from keras.models import Sequential\n",
    "from keras import layers\n",
    "\n",
    "model = Sequential()\n",
    "model.add(layers.Dense(256, input_dim=X_train_cvec.shape[1], activation='relu'))\n",
    "model.add(layers.Dense(Y_train.shape[1], activation='sigmoid'))"
   ]
  },
  {
   "cell_type": "code",
   "execution_count": 125,
   "metadata": {
    "id": "OVJb0y_7VUVR"
   },
   "outputs": [],
   "source": [
    "#What is the activation function of the output layer?\n",
    "#\n",
    "#It is sigmoid"
   ]
  },
  {
   "cell_type": "markdown",
   "metadata": {
    "id": "axBVvIHCD4_h"
   },
   "source": [
    "$$[TODO - Students]$$ \n",
    "\n",
    "We are now compiling and training the model.\n",
    "> * Using the tensorflow documentation, explain the purpose the EarlyStopping callback and detail its arguments.\n",
    "> * Compile the model\n",
    "> * Fit the model"
   ]
  },
  {
   "cell_type": "markdown",
   "metadata": {
    "id": "KVWfrPoRWCda"
   },
   "source": [
    "EarlyStopping callback: \n",
    "- Stop training when a monitored metric has stopped improving.\n",
    "\n",
    "Parameters:\n",
    "\n",
    "1. monitor: Quantity to be monitored.\n",
    "\n",
    "2. min_delta: Minimum change in the monitored quantity to qualify as an improvement, i.e. an absolute change of less than min_delta, will count as no improvement.\n",
    "\n",
    "3. patience: Number of epochs with no improvement after which training will be stopped.\n",
    "\n",
    "4. verbose\tverbosity mode.\n",
    "5. mode: One of {\"auto\", \"min\", \"max\"}. In min mode, training will stop when the quantity monitored has stopped decreasing; in \"max\" mode it will stop when the quantity monitored has stopped increasing; in \"auto\" mode, the direction is automatically inferred from the name of the monitored quantity.\n",
    "\n",
    "6. baseline: Baseline value for the monitored quantity. Training will stop if the model doesn't show improvement over the baseline.\n",
    "\n",
    "7. restore_best_weights: Whether to restore model weights from the epoch with the best value of the monitored quantity. If False, the model weights obtained at the last step of training are used. An epoch will be restored regardless of the performance relative to the baseline. If no epoch improves on baseline, training will run for patience epochs and restore weights from the best epoch in that set."
   ]
  },
  {
   "cell_type": "code",
   "execution_count": 128,
   "metadata": {
    "ExecuteTime": {
     "end_time": "2022-01-19T13:18:02.528750Z",
     "start_time": "2022-01-19T13:18:02.528721Z"
    },
    "colab": {
     "base_uri": "https://localhost:8080/"
    },
    "id": "C4zg06r3vq_6",
    "outputId": "365a6796-ae46-4ea6-d2e7-76d963e811b1"
   },
   "outputs": [
    {
     "name": "stdout",
     "output_type": "stream",
     "text": [
      "Model: \"sequential_2\"\n",
      "_________________________________________________________________\n",
      " Layer (type)                Output Shape              Param #   \n",
      "=================================================================\n",
      " dense_4 (Dense)             (None, 256)               2301952   \n",
      "                                                                 \n",
      " dense_5 (Dense)             (None, 5)                 1285      \n",
      "                                                                 \n",
      "=================================================================\n",
      "Total params: 2,303,237\n",
      "Trainable params: 2,303,237\n",
      "Non-trainable params: 0\n",
      "_________________________________________________________________\n",
      "Epoch 00022: early stopping\n"
     ]
    }
   ],
   "source": [
    "import numpy as np\n",
    "from keras.callbacks import EarlyStopping\n",
    "\n",
    "# Compile the model and start training\n",
    "model.compile(loss='binary_crossentropy', \n",
    "              optimizer='adam', \n",
    "              metrics=['accuracy'])\n",
    "model.summary()\n",
    "\n",
    "#Convert them to numpy\n",
    "X_train_cvec = np.asarray(X_train_cvec)\n",
    "Y_train = np.asarray(Y_train)\n",
    "X_test_cvec = np.asarray(X_test_cvec)\n",
    "Y_test = np.asarray(Y_test)\n",
    "\n",
    "# Stop training with early stopping with patience of 20\n",
    "#Define EarlyStopping with patience =20\n",
    "es = EarlyStopping(monitor='val_loss', mode='min', verbose=1, patience=20)\n",
    "\n",
    "history = model.fit(X_train_cvec, Y_train,\n",
    "                    epochs=100,\n",
    "                    verbose=False,\n",
    "                    callbacks=[es],\n",
    "                    validation_split=0.20,\n",
    "                    batch_size=10)"
   ]
  },
  {
   "cell_type": "markdown",
   "metadata": {
    "ExecuteTime": {
     "end_time": "2022-01-19T13:14:16.701866Z",
     "start_time": "2022-01-19T13:14:16.693977Z"
    },
    "id": "PhVnuWM5y4Fv"
   },
   "source": [
    "$$[TODO - Students]$$ \n",
    "\n",
    "> * Babysit your model: plot learning curves"
   ]
  },
  {
   "cell_type": "code",
   "execution_count": null,
   "metadata": {
    "ExecuteTime": {
     "end_time": "2022-01-19T13:18:02.532757Z",
     "start_time": "2022-01-19T13:18:02.532717Z"
    },
    "id": "UAGMeWF_vq_7"
   },
   "outputs": [],
   "source": [
    "# Plot the learning curves and analyze them\n",
    "# It's possible to plot them very easily using: pd.DataFrame(history.history).plot(figsize=(8,5))"
   ]
  },
  {
   "cell_type": "code",
   "execution_count": 130,
   "metadata": {
    "colab": {
     "base_uri": "https://localhost:8080/",
     "height": 337
    },
    "id": "GtAmmM5wky-P",
    "outputId": "e5d323ec-0805-4833-d4a5-c4b844b00b01"
   },
   "outputs": [
    {
     "data": {
      "image/png": "[encoded data removed]",
      "text/plain": [
       "<Figure size 864x360 with 2 Axes>"
      ]
     },
     "metadata": {},
     "output_type": "display_data"
    }
   ],
   "source": [
    "import matplotlib.pyplot as plt\n",
    "plt.style.use('ggplot')\n",
    "\n",
    "def plot_history(history):\n",
    "    acc = history.history['accuracy']\n",
    "    val_acc = history.history['val_accuracy']\n",
    "    loss = history.history['loss']\n",
    "    val_loss = history.history['val_loss']\n",
    "    x = range(1, len(acc) + 1)\n",
    "\n",
    "    plt.figure(figsize=(12, 5))\n",
    "    plt.subplot(1, 2, 1)\n",
    "    plt.plot(x, acc, 'b', label='Training acc')\n",
    "    plt.plot(x, val_acc, 'r', label='Validation acc')\n",
    "    plt.title('Training and validation accuracy')\n",
    "    plt.legend()\n",
    "    plt.subplot(1, 2, 2)\n",
    "    plt.plot(x, loss, 'b', label='Training loss')\n",
    "    plt.plot(x, val_loss, 'r', label='Validation loss')\n",
    "    plt.title('Training and validation loss')\n",
    "    plt.legend()\n",
    "\n",
    "plot_history(history)"
   ]
  },
  {
   "cell_type": "markdown",
   "metadata": {
    "id": "Uvu-O2JJHNrA"
   },
   "source": [
    "$$[TODO - Students]$$ \n",
    "\n",
    "> * How do you interpret those learning curves ?\n",
    "\n",
    "The model appears to overfit the training data. Various strategies could reduce the overfitting but for this lab we will just change the number and size of layers. We will do that a little later.\n",
    "\n",
    "> * Evaluate the model (on test part) and plot confusion matrix.\n",
    "> * Are you doing better or worse than with our first attempt with Logistic regression."
   ]
  },
  {
   "cell_type": "code",
   "execution_count": 129,
   "metadata": {
    "colab": {
     "base_uri": "https://localhost:8080/"
    },
    "id": "nmNASQh9jnwD",
    "outputId": "423e2d88-70fa-482f-fb67-4e6ef5f0cc13"
   },
   "outputs": [
    {
     "name": "stdout",
     "output_type": "stream",
     "text": [
      "Training Accuracy: 0.9092\n",
      "Testing Accuracy:  0.6300\n"
     ]
    }
   ],
   "source": [
    "# Evaluate the model\n",
    "loss, accuracy = model.evaluate(X_train_cvec, Y_train, verbose=False)\n",
    "print(\"Training Accuracy: {:.4f}\".format(accuracy))\n",
    "loss, accuracy = model.evaluate(X_test_cvec, Y_test, verbose=False)\n",
    "print(\"Testing Accuracy:  {:.4f}\".format(accuracy))"
   ]
  },
  {
   "cell_type": "code",
   "execution_count": 158,
   "metadata": {
    "ExecuteTime": {
     "end_time": "2022-01-19T13:18:02.541220Z",
     "start_time": "2022-01-19T13:18:02.541076Z"
    },
    "colab": {
     "base_uri": "https://localhost:8080/"
    },
    "id": "_gSjyTEMH2nQ",
    "outputId": "c46c5717-cfb1-492f-a3ae-fb1027d0cb83"
   },
   "outputs": [
    {
     "data": {
      "text/plain": [
       "array([[  0, 108,  22,  10,  17,  16],\n",
       "       [  0,  10,   5,   2,   4,   6],\n",
       "       [  0,   9,   4,  13,  13,   6],\n",
       "       [  0,  13,   6,  21,  45,  69],\n",
       "       [  0,  19,  14,  25,  84, 459],\n",
       "       [  0,   0,   0,   0,   0,   0]])"
      ]
     },
     "execution_count": 158,
     "metadata": {},
     "output_type": "execute_result"
    }
   ],
   "source": [
    "# Print/plot the confusion matrix\n",
    "from sklearn.metrics import multilabel_confusion_matrix, confusion_matrix\n",
    "\n",
    "\n",
    "rounded_labels=np.argmax(y_pred, axis=1)\n",
    "\n",
    "from sklearn.metrics import confusion_matrix\n",
    "cm = confusion_matrix(rounded_labels, y_test)\n",
    "cm\n"
   ]
  },
  {
   "cell_type": "code",
   "execution_count": 132,
   "metadata": {
    "id": "9AsLusaGodxU"
   },
   "outputs": [],
   "source": [
    "#Are you doing better or worse than with our first attempt with Logistic regression?\n",
    "#\n",
    "#Worse than the logistic regression because logistic regression's accuracy is 0.66. \n",
    "#MLP accuracy is 0.63"
   ]
  },
  {
   "cell_type": "markdown",
   "metadata": {
    "id": "DCfHu2EtKWtC"
   },
   "source": [
    "## Hyper-parameters search\n",
    "\n",
    "Using [KerasTuner] (https://www.tensorflow.org/tutorials/keras/keras_tuner) and modifying various hyper-parameters, improve your model. Change in particular the number of layers, the number of neurons per layer, the dropout, the regularization."
   ]
  },
  {
   "cell_type": "code",
   "execution_count": 162,
   "metadata": {
    "colab": {
     "base_uri": "https://localhost:8080/"
    },
    "id": "OMmYOmhz1YGi",
    "outputId": "2f6161b9-d3a5-4d38-e06c-2ad7c72d1803"
   },
   "outputs": [
    {
     "name": "stdout",
     "output_type": "stream",
     "text": [
      "\u001b[?25l\r",
      "\u001b[K     |███▍                            | 10 kB 16.8 MB/s eta 0:00:01\r",
      "\u001b[K     |██████▊                         | 20 kB 10.3 MB/s eta 0:00:01\r",
      "\u001b[K     |██████████                      | 30 kB 8.0 MB/s eta 0:00:01\r",
      "\u001b[K     |█████████████▍                  | 40 kB 7.5 MB/s eta 0:00:01\r",
      "\u001b[K     |████████████████▊               | 51 kB 4.9 MB/s eta 0:00:01\r",
      "\u001b[K     |████████████████████            | 61 kB 5.1 MB/s eta 0:00:01\r",
      "\u001b[K     |███████████████████████▍        | 71 kB 5.3 MB/s eta 0:00:01\r",
      "\u001b[K     |██████████████████████████▊     | 81 kB 5.8 MB/s eta 0:00:01\r",
      "\u001b[K     |██████████████████████████████  | 92 kB 6.0 MB/s eta 0:00:01\r",
      "\u001b[K     |████████████████████████████████| 98 kB 3.2 MB/s \n",
      "\u001b[?25h"
     ]
    }
   ],
   "source": [
    "#!pip install -q -U keras-tuner"
   ]
  },
  {
   "cell_type": "code",
   "execution_count": 192,
   "metadata": {
    "id": "jtJUkEx6xGL2"
   },
   "outputs": [],
   "source": [
    "import tensorflow as tf\n",
    "from tensorflow import keras\n",
    "\n",
    "def model_builder(hp):\n",
    "  model = keras.Sequential()\n",
    "\n",
    "  hp_units = hp.Int('units', min_value=32, max_value=512, step=32)\n",
    "  model.add(keras.layers.Dense(units=hp_units, activation='relu'))\n",
    "  #model.add(layers.Dense(256, input_dim=X_train_cvec.shape[1], activation='relu'))\n",
    "  #model.add(layers.Dense(100, 256, activation='relu'))\n",
    "  model.add(layers.Dense(Y_train.shape[1], activation='sigmoid'))\n",
    "\n",
    "\n",
    "  # Tune the learning rate for the optimizer\n",
    "  # Choose an optimal value from 0.01, 0.001, or 0.0001\n",
    "  hp_learning_rate = hp.Choice('learning_rate', values=[1e-2, 1e-3, 1e-4])\n",
    "\n",
    "  model.compile(optimizer=keras.optimizers.Adam(learning_rate=hp_learning_rate),\n",
    "                loss='binary_crossentropy',\n",
    "                metrics=['accuracy'])\n",
    "\n",
    "  return model"
   ]
  },
  {
   "cell_type": "code",
   "execution_count": 193,
   "metadata": {
    "colab": {
     "base_uri": "https://localhost:8080/"
    },
    "id": "1Xw8GJ1Q1E5M",
    "outputId": "c06892f7-b2ed-424e-949d-c71235d88283"
   },
   "outputs": [
    {
     "name": "stdout",
     "output_type": "stream",
     "text": [
      "INFO:tensorflow:Reloading Oracle from existing project ./intro_to_kt/oracle.json\n",
      "INFO:tensorflow:Reloading Tuner from ./intro_to_kt/tuner0.json\n"
     ]
    }
   ],
   "source": [
    "import keras_tuner as kt\n",
    "\n",
    "tuner = kt.Hyperband(model_builder,\n",
    "                     objective='val_accuracy',\n",
    "                     max_epochs=10,\n",
    "                     factor=3,\n",
    "                     project_name='intro_to_kt')"
   ]
  },
  {
   "cell_type": "code",
   "execution_count": 194,
   "metadata": {
    "id": "6Me3T_3y1KIf"
   },
   "outputs": [],
   "source": [
    "stop_early = tf.keras.callbacks.EarlyStopping(monitor='val_loss', patience=5)\n"
   ]
  },
  {
   "cell_type": "code",
   "execution_count": 195,
   "metadata": {
    "colab": {
     "base_uri": "https://localhost:8080/"
    },
    "id": "H40nTs1N1e-z",
    "outputId": "a2b8bda6-1e0c-42c7-c2b9-e0e0bc76536c"
   },
   "outputs": [
    {
     "name": "stdout",
     "output_type": "stream",
     "text": [
      "INFO:tensorflow:Oracle triggered exit\n",
      "\n",
      "The hyperparameter search is complete. The optimal number of units in the first densely-connected\n",
      "layer is 224 and the optimal learning rate for the optimizer\n",
      "is 0.01.\n",
      "\n"
     ]
    }
   ],
   "source": [
    "tuner.search(X_train_cvec, Y_train, epochs=50, validation_split=0.2, callbacks=[stop_early])\n",
    "\n",
    "# Get the optimal hyperparameters\n",
    "best_hps=tuner.get_best_hyperparameters(num_trials=1)[0]\n",
    "\n",
    "print(f\"\"\"\n",
    "The hyperparameter search is complete. The optimal number of units in the first densely-connected\n",
    "layer is {best_hps.get('units')} and the optimal learning rate for the optimizer\n",
    "is {best_hps.get('learning_rate')}.\n",
    "\"\"\")"
   ]
  },
  {
   "cell_type": "code",
   "execution_count": 196,
   "metadata": {
    "colab": {
     "base_uri": "https://localhost:8080/"
    },
    "id": "46u7zw8e1pC4",
    "outputId": "a614849d-6d64-4881-b859-7c4319cc3f61"
   },
   "outputs": [
    {
     "name": "stdout",
     "output_type": "stream",
     "text": [
      "125/125 [==============================] - 2s 18ms/step - loss: 0.0182 - accuracy: 0.9822 - val_loss: 0.9870 - val_accuracy: 0.6490\n",
      "Epoch 41/50\n",
      "125/125 [==============================] - 2s 18ms/step - loss: 0.0177 - accuracy: 0.9837 - val_loss: 0.9821 - val_accuracy: 0.6400\n",
      "Epoch 42/50\n",
      "125/125 [==============================] - 2s 19ms/step - loss: 0.0181 - accuracy: 0.9815 - val_loss: 1.0033 - val_accuracy: 0.6450\n",
      "Epoch 43/50\n",
      "125/125 [==============================] - 2s 18ms/step - loss: 0.0179 - accuracy: 0.9833 - val_loss: 1.0051 - val_accuracy: 0.6410\n",
      "Epoch 44/50\n",
      "125/125 [==============================] - 2s 18ms/step - loss: 0.0181 - accuracy: 0.9818 - val_loss: 1.0053 - val_accuracy: 0.6450\n",
      "Epoch 45/50\n",
      "125/125 [==============================] - 2s 19ms/step - loss: 0.0180 - accuracy: 0.9820 - val_loss: 1.0252 - val_accuracy: 0.6440\n",
      "Epoch 46/50\n",
      "125/125 [==============================] - 2s 19ms/step - loss: 0.0177 - accuracy: 0.9830 - val_loss: 1.0206 - val_accuracy: 0.6310\n",
      "Epoch 47/50\n",
      "125/125 [==============================] - 2s 18ms/step - loss: 0.0184 - accuracy: 0.9822 - val_loss: 1.0161 - val_accuracy: 0.6240\n",
      "Epoch 48/50\n",
      "125/125 [==============================] - 2s 19ms/step - loss: 0.0710 - accuracy: 0.9730 - val_loss: 1.8125 - val_accuracy: 0.6260\n",
      "Epoch 49/50\n",
      "125/125 [==============================] - 2s 18ms/step - loss: 0.1216 - accuracy: 0.9655 - val_loss: 1.7028 - val_accuracy: 0.6140\n",
      "Epoch 50/50\n",
      "125/125 [==============================] - 2s 19ms/step - loss: 0.0538 - accuracy: 0.9768 - val_loss: 1.8292 - val_accuracy: 0.6260\n",
      "Best epoch: 1\n"
     ]
    }
   ],
   "source": [
    "# Build the model with the optimal hyperparameters and train it on the data for 50 epochs\n",
    "model = tuner.hypermodel.build(best_hps)\n",
    "history = model.fit(X_train_cvec, Y_train, epochs=50, validation_split=0.2)\n",
    "\n",
    "val_acc_per_epoch = history.history['val_accuracy']\n",
    "best_epoch = val_acc_per_epoch.index(max(val_acc_per_epoch)) + 1\n",
    "print('Best epoch: %d' % (best_epoch,))"
   ]
  },
  {
   "cell_type": "code",
   "execution_count": 197,
   "metadata": {
    "colab": {
     "base_uri": "https://localhost:8080/"
    },
    "id": "Oj0Iz9jV14Qw",
    "outputId": "8350f061-bc9f-42ac-817c-154c6b9417a6"
   },
   "outputs": [
    {
     "name": "stdout",
     "output_type": "stream",
     "text": [
      "125/125 [==============================] - 3s 20ms/step - loss: 0.3468 - accuracy: 0.6420 - val_loss: 0.3084 - val_accuracy: 0.6780\n"
     ]
    },
    {
     "data": {
      "text/plain": [
       "<keras.callbacks.History at 0x7fe6a4d3f450>"
      ]
     },
     "execution_count": 197,
     "metadata": {},
     "output_type": "execute_result"
    }
   ],
   "source": [
    "#Re-instantiate the hypermodel and train it with the optimal number of epochs from above.\n",
    "\n",
    "\n",
    "hypermodel = tuner.hypermodel.build(best_hps)\n",
    "\n",
    "# Retrain the model\n",
    "hypermodel.fit(X_train_cvec, Y_train, epochs=best_epoch, validation_split=0.2)"
   ]
  },
  {
   "cell_type": "code",
   "execution_count": 198,
   "metadata": {
    "colab": {
     "base_uri": "https://localhost:8080/"
    },
    "id": "S-67rMyj3AqD",
    "outputId": "491e5f4f-1bf3-4be5-c7eb-447ec0c87e31"
   },
   "outputs": [
    {
     "name": "stdout",
     "output_type": "stream",
     "text": [
      "32/32 [==============================] - 0s 8ms/step - loss: 0.3065 - accuracy: 0.6770\n",
      "[test loss, test accuracy]: [0.30649635195732117, 0.6769999861717224]\n"
     ]
    }
   ],
   "source": [
    "eval_result = hypermodel.evaluate(X_test_cvec, Y_test)\n",
    "print(\"[test loss, test accuracy]:\", eval_result)"
   ]
  },
  {
   "cell_type": "markdown",
   "metadata": {
    "id": "zQfyzY2R6AH5"
   },
   "source": [
    "The accuracy increased from 0.63 to 0.67"
   ]
  },
  {
   "cell_type": "code",
   "execution_count": null,
   "metadata": {
    "id": "2Ch7YZFH6IiX"
   },
   "outputs": [],
   "source": []
  }
 ],
 "metadata": {
  "colab": {
   "collapsed_sections": [],
   "name": "02-DL-NLP-with-MLP-BOW-UFUK_CEM_BİRBİRİ.ipynb",
   "provenance": []
  },
  "kernelspec": {
   "display_name": "Python 3",
   "language": "python",
   "name": "python3"
  },
  "language_info": {
   "codemirror_mode": {
    "name": "ipython",
    "version": 3
   },
   "file_extension": ".py",
   "mimetype": "text/x-python",
   "name": "python",
   "nbconvert_exporter": "python",
   "pygments_lexer": "ipython3",
   "version": "3.8.8"
  },
  "latex_envs": {
   "LaTeX_envs_menu_present": true,
   "autoclose": true,
   "autocomplete": true,
   "bibliofile": "biblio.bib",
   "cite_by": "apalike",
   "current_citInitial": 1,
   "eqLabelWithNumbers": true,
   "eqNumInitial": 1,
   "hotkeys": {
    "equation": "Ctrl-E",
    "itemize": "Ctrl-I"
   },
   "labels_anchors": false,
   "latex_user_defs": false,
   "report_style_numbering": false,
   "user_envs_cfg": false
  },
  "nbTranslate": {
   "displayLangs": [
    "*"
   ],
   "hotkey": "alt-t",
   "langInMainMenu": true,
   "sourceLang": "en",
   "targetLang": "fr",
   "useGoogleTranslate": true
  },
  "toc": {
   "base_numbering": 1,
   "nav_menu": {},
   "number_sections": true,
   "sideBar": true,
   "skip_h1_title": true,
   "title_cell": "Table of Contents",
   "title_sidebar": "Contents",
   "toc_cell": true,
   "toc_position": {},
   "toc_section_display": true,
   "toc_window_display": false
  }
 },
 "nbformat": 4,
 "nbformat_minor": 1
}
