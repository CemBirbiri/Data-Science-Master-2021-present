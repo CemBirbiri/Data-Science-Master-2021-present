{
  "cells": [
    {
      "cell_type": "markdown",
      "metadata": {
        "id": "yc10eaPB4t6w"
      },
      "source": [
        "# Time series prediction with LSTM (student notebook)\n",
        "\n",
        "Neural networks like Long Short-Term Memory (LSTM) recurrent neural networks are able to almost seamlessly model problems with multiple input variables.\n",
        "\n",
        "This is a great benefit in time series forecasting, where classical linear methods can be difficult to adapt to multivariate or multiple input forecasting problems.\n",
        "\n",
        "In this lab, you will discover how you can develop an LSTM model for multivariate time series forecasting with the Keras deep learning library."
      ]
    },
    {
      "cell_type": "code",
      "execution_count": 44,
      "metadata": {
        "ExecuteTime": {
          "end_time": "2022-01-29T14:25:22.175838Z",
          "start_time": "2022-01-29T14:25:22.074091Z"
        },
        "id": "-V3SgYRf4t60",
        "colab": {
          "base_uri": "https://localhost:8080/",
          "height": 17
        },
        "outputId": "9acbc4c3-1367-48f1-ed2b-e4ee2337868e"
      },
      "outputs": [
        {
          "output_type": "execute_result",
          "data": {
            "text/html": [
              "<div id=\"my_id_menu_nb\">run previous cell, wait for 2 seconds</div>\n",
              "<script>\n",
              "function repeat_indent_string(n){\n",
              "    var a = \"\" ;\n",
              "    for ( ; n > 0 ; --n)\n",
              "        a += \"    \";\n",
              "    return a;\n",
              "}\n",
              "// look up into all sections and builds an automated menu //\n",
              "var update_menu_string = function(begin, lfirst, llast, sformat, send, keep_item, begin_format, end_format) {\n",
              "    var anchors = document.getElementsByClassName(\"section\");\n",
              "    if (anchors.length == 0) {\n",
              "        anchors = document.getElementsByClassName(\"text_cell_render rendered_html\");\n",
              "    }\n",
              "    var i,t;\n",
              "    var text_menu = begin;\n",
              "    var text_memo = \"<pre>\\nlength:\" + anchors.length + \"\\n\";\n",
              "    var ind = \"\";\n",
              "    var memo_level = 1;\n",
              "    var href;\n",
              "    var tags = [];\n",
              "    var main_item = 0;\n",
              "    var format_open = 0;\n",
              "    for (i = 0; i <= llast; i++)\n",
              "        tags.push(\"h\" + i);\n",
              "\n",
              "    for (i = 0; i < anchors.length; i++) {\n",
              "        text_memo += \"**\" + anchors[i].id + \"--\\n\";\n",
              "\n",
              "        var child = null;\n",
              "        for(t = 0; t < tags.length; t++) {\n",
              "            var r = anchors[i].getElementsByTagName(tags[t]);\n",
              "            if (r.length > 0) {\n",
              "child = r[0];\n",
              "break;\n",
              "            }\n",
              "        }\n",
              "        if (child == null) {\n",
              "            text_memo += \"null\\n\";\n",
              "            continue;\n",
              "        }\n",
              "        if (anchors[i].hasAttribute(\"id\")) {\n",
              "            // when converted in RST\n",
              "            href = anchors[i].id;\n",
              "            text_memo += \"#1-\" + href;\n",
              "            // passer à child suivant (le chercher)\n",
              "        }\n",
              "        else if (child.hasAttribute(\"id\")) {\n",
              "            // in a notebook\n",
              "            href = child.id;\n",
              "            text_memo += \"#2-\" + href;\n",
              "        }\n",
              "        else {\n",
              "            text_memo += \"#3-\" + \"*\" + \"\\n\";\n",
              "            continue;\n",
              "        }\n",
              "        var title = child.textContent;\n",
              "        var level = parseInt(child.tagName.substring(1,2));\n",
              "\n",
              "        text_memo += \"--\" + level + \"?\" + lfirst + \"--\" + title + \"\\n\";\n",
              "\n",
              "        if ((level < lfirst) || (level > llast)) {\n",
              "            continue ;\n",
              "        }\n",
              "        if (title.endsWith('¶')) {\n",
              "            title = title.substring(0,title.length-1).replace(\"<\", \"&lt;\")\n",
              "         .replace(\">\", \"&gt;\").replace(\"&\", \"&amp;\");\n",
              "        }\n",
              "        if (title.length == 0) {\n",
              "            continue;\n",
              "        }\n",
              "\n",
              "        while (level < memo_level) {\n",
              "            text_menu += end_format + \"</ul>\\n\";\n",
              "            format_open -= 1;\n",
              "            memo_level -= 1;\n",
              "        }\n",
              "        if (level == lfirst) {\n",
              "            main_item += 1;\n",
              "        }\n",
              "        if (keep_item != -1 && main_item != keep_item + 1) {\n",
              "            // alert(main_item + \" - \" + level + \" - \" + keep_item);\n",
              "            continue;\n",
              "        }\n",
              "        while (level > memo_level) {\n",
              "            text_menu += \"<ul>\\n\";\n",
              "            memo_level += 1;\n",
              "        }\n",
              "        text_menu += repeat_indent_string(level-2);\n",
              "        text_menu += begin_format + sformat.replace(\"__HREF__\", href).replace(\"__TITLE__\", title);\n",
              "        format_open += 1;\n",
              "    }\n",
              "    while (1 < memo_level) {\n",
              "        text_menu += end_format + \"</ul>\\n\";\n",
              "        memo_level -= 1;\n",
              "        format_open -= 1;\n",
              "    }\n",
              "    text_menu += send;\n",
              "    //text_menu += \"\\n\" + text_memo;\n",
              "\n",
              "    while (format_open > 0) {\n",
              "        text_menu += end_format;\n",
              "        format_open -= 1;\n",
              "    }\n",
              "    return text_menu;\n",
              "};\n",
              "var update_menu = function() {\n",
              "    var sbegin = \"\";\n",
              "    var sformat = '<a href=\"#__HREF__\">__TITLE__</a>';\n",
              "    var send = \"\";\n",
              "    var begin_format = '<li>';\n",
              "    var end_format = '</li>';\n",
              "    var keep_item = -1;\n",
              "    var text_menu = update_menu_string(sbegin, 2, 4, sformat, send, keep_item,\n",
              "       begin_format, end_format);\n",
              "    var menu = document.getElementById(\"my_id_menu_nb\");\n",
              "    menu.innerHTML=text_menu;\n",
              "};\n",
              "window.setTimeout(update_menu,2000);\n",
              "            </script>"
            ],
            "text/plain": [
              "<IPython.core.display.HTML object>"
            ]
          },
          "metadata": {},
          "execution_count": 44
        }
      ],
      "source": [
        "\"\"\"\n",
        "(Practical tip) Table of contents can be compiled directly in jupyter notebooks using the following code:\n",
        "I set an exception: if the package is in your installation you can import it otherwise you download it \n",
        "then import it.\n",
        "\"\"\"\n",
        "try:\n",
        "    from jyquickhelper import add_notebook_menu \n",
        "except:\n",
        "    !pip install jyquickhelper\n",
        "    from jyquickhelper import add_notebook_menu\n",
        "    \n",
        "\"\"\"\n",
        "Output Table of contents to navigate easily in the notebook. \n",
        "For interested readers, the package also includes Ipython magic commands to go back to this cell\n",
        "wherever you are in the notebook to look for cells faster\n",
        "\"\"\"\n",
        "add_notebook_menu()"
      ]
    },
    {
      "cell_type": "markdown",
      "metadata": {
        "id": "v1dbkS1e4t63"
      },
      "source": [
        "## Imports"
      ]
    },
    {
      "cell_type": "code",
      "execution_count": 45,
      "metadata": {
        "id": "7b6uEYFG4t64"
      },
      "outputs": [],
      "source": [
        "import ssl\n",
        "\n",
        "ssl._create_default_https_context = ssl._create_unverified_context"
      ]
    },
    {
      "cell_type": "code",
      "execution_count": 46,
      "metadata": {
        "id": "s4bqd4lQ4t65"
      },
      "outputs": [],
      "source": [
        "import matplotlib.pyplot as plt\n",
        "\n",
        "import math\n",
        "import numpy as np \n",
        "import pandas as pd"
      ]
    },
    {
      "cell_type": "code",
      "execution_count": 47,
      "metadata": {
        "id": "rEPkAJkA4t66"
      },
      "outputs": [],
      "source": [
        "from sklearn.compose import ColumnTransformer\n",
        "from sklearn.pipeline import Pipeline, FeatureUnion\n",
        "from sklearn.impute import SimpleImputer\n",
        "from sklearn.preprocessing import StandardScaler, OneHotEncoder, MinMaxScaler\n",
        "from sklearn.metrics import mean_squared_error"
      ]
    },
    {
      "cell_type": "code",
      "execution_count": 48,
      "metadata": {
        "ExecuteTime": {
          "end_time": "2021-10-05T11:20:34.597080Z",
          "start_time": "2021-10-05T11:20:30.132002Z"
        },
        "id": "57-KBYw04t67"
      },
      "outputs": [],
      "source": [
        "import tensorflow as tf\n",
        "from tensorflow.keras.callbacks import EarlyStopping, ModelCheckpoint\n",
        "from tensorflow.keras.models import Model, load_model\n",
        "from tensorflow.keras.layers import Input, Dense, Embedding, Flatten, LSTM, Bidirectional, AveragePooling1D, RepeatVector\n",
        "from tensorflow.keras import utils"
      ]
    },
    {
      "cell_type": "markdown",
      "metadata": {
        "id": "yS-aTi7w4t69"
      },
      "source": [
        "## LSTM network for uni-variate time series\n",
        "\n",
        "LSTM can be used to model univariate time series forecasting problems.\n",
        "\n",
        "These problems consist of a single set of observations and a model is needed to learn from the past set of observations in order to forecast the next value in the sequence.\n",
        "\n",
        "We will demonstrate a number of variations of the LSTM model for univariate time series forecasting.\n",
        "\n",
        "Be careful not to draw hasty conclusions about the relative performance of the models. The number of layers or neurons are highly variable between models."
      ]
    },
    {
      "cell_type": "markdown",
      "metadata": {
        "id": "QdFND6eL4t6-"
      },
      "source": [
        "### Data preparation\n",
        "\n",
        "#### A first example\n",
        "\n",
        "Consider a given univariate sequence: `[10, 20, 30, 40, 50, 60, 70, 80, 90]`\n",
        "\n",
        "We can divide the sequence into multiple input/output patterns called samples, where three time steps are used as input and one time step is used as output for the one-step prediction that is being learned.\n",
        "\n",
        "`X,\t\t\t\ty\n",
        "10, 20, 30\t\t40\n",
        "20, 30, 40\t\t50\n",
        "30, 40, 50\t\t60\n",
        "...`\n",
        "\n",
        "The `series_to_supervised()` function below implements this behavior and will split a given univariate sequence into multiple samples where each sample has a specified number of time steps (`n_in, by default 3`) and the output has also a specified number of time steps (`n_out, by default 1`).\n",
        "\n",
        "By default, the data to predict is the last columns."
      ]
    },
    {
      "cell_type": "code",
      "execution_count": 49,
      "metadata": {
        "ExecuteTime": {
          "end_time": "2022-01-29T14:26:15.251343Z",
          "start_time": "2022-01-29T14:26:15.241331Z"
        },
        "id": "W4qWztx-4t7A"
      },
      "outputs": [],
      "source": [
        "def series_to_supervised(data, n_in=3, n_out=1, output=None, dropnan=True):\n",
        "    n_vars = 1 if type(data) is list else data.shape[1]\n",
        "    output =  [data.columns[-1]] if output is None else output\n",
        "    df = pd.DataFrame(data)\n",
        "    cols, names = list(), list()\n",
        "    \n",
        "    # input sequence (t-n, ... t-1)\n",
        "    for i in range(n_in, 0, -1):\n",
        "        cols += [df.shift(i)]\n",
        "        names += [('%s(t-%d)' % (j, i)) for j in data.columns]\n",
        "    \n",
        "    # forecast sequence (t, t+1, ... t+n)\n",
        "    for i in range(0, n_out):\n",
        "        cols += [df[output].shift(-i)]\n",
        "        if i == 0:\n",
        "            names += [('%s(t)' % (j)) for j in output]\n",
        "        else:\n",
        "            names += [('%s(t+%d)' % (j, i)) for j in output]\n",
        "    \n",
        "    # put it all together\n",
        "    agg = pd.concat(cols, axis=1)\n",
        "    agg.columns = names\n",
        "    \n",
        "    # drop rows with NaN values\n",
        "    if dropnan:\n",
        "        agg.dropna(inplace=True)\n",
        "    return agg"
      ]
    },
    {
      "cell_type": "markdown",
      "metadata": {
        "ExecuteTime": {
          "end_time": "2022-01-29T14:26:44.037802Z",
          "start_time": "2022-01-29T14:26:44.021395Z"
        },
        "id": "kBrDnnCJ4t7B"
      },
      "source": [
        "<font color='red'>\n",
        "$TO DO - Students$\n",
        "\n",
        "* create the time series mentioned in the first exemple.\n",
        "</font>"
      ]
    },
    {
      "cell_type": "code",
      "execution_count": 50,
      "metadata": {
        "ExecuteTime": {
          "end_time": "2022-02-02T08:05:05.695951Z",
          "start_time": "2022-02-02T08:05:05.687809Z"
        },
        "id": "PhuvNhNp4t7C"
      },
      "outputs": [],
      "source": [
        "d = {'numbers': [10, 20, 30, 40, 50, 60, 70, 80, 90]}\n",
        "df = pd.DataFrame(data=d)\n",
        "my_time_series = df"
      ]
    },
    {
      "cell_type": "code",
      "execution_count": 51,
      "metadata": {
        "ExecuteTime": {
          "end_time": "2022-02-02T08:05:06.447611Z",
          "start_time": "2022-02-02T08:05:06.306492Z"
        },
        "colab": {
          "base_uri": "https://localhost:8080/",
          "height": 206
        },
        "id": "Nh8DtQN64t7D",
        "outputId": "61b2ef45-89a1-4552-b73b-bf386714f238"
      },
      "outputs": [
        {
          "output_type": "execute_result",
          "data": {
            "text/html": [
              "\n",
              "  <div id=\"df-a69b0676-abb8-4a3e-bcb0-780da4159a5d\">\n",
              "    <div class=\"colab-df-container\">\n",
              "      <div>\n",
              "<style scoped>\n",
              "    .dataframe tbody tr th:only-of-type {\n",
              "        vertical-align: middle;\n",
              "    }\n",
              "\n",
              "    .dataframe tbody tr th {\n",
              "        vertical-align: top;\n",
              "    }\n",
              "\n",
              "    .dataframe thead th {\n",
              "        text-align: right;\n",
              "    }\n",
              "</style>\n",
              "<table border=\"1\" class=\"dataframe\">\n",
              "  <thead>\n",
              "    <tr style=\"text-align: right;\">\n",
              "      <th></th>\n",
              "      <th>numbers(t-3)</th>\n",
              "      <th>numbers(t-2)</th>\n",
              "      <th>numbers(t-1)</th>\n",
              "      <th>numbers(t)</th>\n",
              "    </tr>\n",
              "  </thead>\n",
              "  <tbody>\n",
              "    <tr>\n",
              "      <th>3</th>\n",
              "      <td>10.0</td>\n",
              "      <td>20.0</td>\n",
              "      <td>30.0</td>\n",
              "      <td>40</td>\n",
              "    </tr>\n",
              "    <tr>\n",
              "      <th>4</th>\n",
              "      <td>20.0</td>\n",
              "      <td>30.0</td>\n",
              "      <td>40.0</td>\n",
              "      <td>50</td>\n",
              "    </tr>\n",
              "    <tr>\n",
              "      <th>5</th>\n",
              "      <td>30.0</td>\n",
              "      <td>40.0</td>\n",
              "      <td>50.0</td>\n",
              "      <td>60</td>\n",
              "    </tr>\n",
              "    <tr>\n",
              "      <th>6</th>\n",
              "      <td>40.0</td>\n",
              "      <td>50.0</td>\n",
              "      <td>60.0</td>\n",
              "      <td>70</td>\n",
              "    </tr>\n",
              "    <tr>\n",
              "      <th>7</th>\n",
              "      <td>50.0</td>\n",
              "      <td>60.0</td>\n",
              "      <td>70.0</td>\n",
              "      <td>80</td>\n",
              "    </tr>\n",
              "  </tbody>\n",
              "</table>\n",
              "</div>\n",
              "      <button class=\"colab-df-convert\" onclick=\"convertToInteractive('df-a69b0676-abb8-4a3e-bcb0-780da4159a5d')\"\n",
              "              title=\"Convert this dataframe to an interactive table.\"\n",
              "              style=\"display:none;\">\n",
              "        \n",
              "  <svg xmlns=\"http://www.w3.org/2000/svg\" height=\"24px\"viewBox=\"0 0 24 24\"\n",
              "       width=\"24px\">\n",
              "    <path d=\"M0 0h24v24H0V0z\" fill=\"none\"/>\n",
              "    <path d=\"M18.56 5.44l.94 2.06.94-2.06 2.06-.94-2.06-.94-.94-2.06-.94 2.06-2.06.94zm-11 1L8.5 8.5l.94-2.06 2.06-.94-2.06-.94L8.5 2.5l-.94 2.06-2.06.94zm10 10l.94 2.06.94-2.06 2.06-.94-2.06-.94-.94-2.06-.94 2.06-2.06.94z\"/><path d=\"M17.41 7.96l-1.37-1.37c-.4-.4-.92-.59-1.43-.59-.52 0-1.04.2-1.43.59L10.3 9.45l-7.72 7.72c-.78.78-.78 2.05 0 2.83L4 21.41c.39.39.9.59 1.41.59.51 0 1.02-.2 1.41-.59l7.78-7.78 2.81-2.81c.8-.78.8-2.07 0-2.86zM5.41 20L4 18.59l7.72-7.72 1.47 1.35L5.41 20z\"/>\n",
              "  </svg>\n",
              "      </button>\n",
              "      \n",
              "  <style>\n",
              "    .colab-df-container {\n",
              "      display:flex;\n",
              "      flex-wrap:wrap;\n",
              "      gap: 12px;\n",
              "    }\n",
              "\n",
              "    .colab-df-convert {\n",
              "      background-color: #E8F0FE;\n",
              "      border: none;\n",
              "      border-radius: 50%;\n",
              "      cursor: pointer;\n",
              "      display: none;\n",
              "      fill: #1967D2;\n",
              "      height: 32px;\n",
              "      padding: 0 0 0 0;\n",
              "      width: 32px;\n",
              "    }\n",
              "\n",
              "    .colab-df-convert:hover {\n",
              "      background-color: #E2EBFA;\n",
              "      box-shadow: 0px 1px 2px rgba(60, 64, 67, 0.3), 0px 1px 3px 1px rgba(60, 64, 67, 0.15);\n",
              "      fill: #174EA6;\n",
              "    }\n",
              "\n",
              "    [theme=dark] .colab-df-convert {\n",
              "      background-color: #3B4455;\n",
              "      fill: #D2E3FC;\n",
              "    }\n",
              "\n",
              "    [theme=dark] .colab-df-convert:hover {\n",
              "      background-color: #434B5C;\n",
              "      box-shadow: 0px 1px 3px 1px rgba(0, 0, 0, 0.15);\n",
              "      filter: drop-shadow(0px 1px 2px rgba(0, 0, 0, 0.3));\n",
              "      fill: #FFFFFF;\n",
              "    }\n",
              "  </style>\n",
              "\n",
              "      <script>\n",
              "        const buttonEl =\n",
              "          document.querySelector('#df-a69b0676-abb8-4a3e-bcb0-780da4159a5d button.colab-df-convert');\n",
              "        buttonEl.style.display =\n",
              "          google.colab.kernel.accessAllowed ? 'block' : 'none';\n",
              "\n",
              "        async function convertToInteractive(key) {\n",
              "          const element = document.querySelector('#df-a69b0676-abb8-4a3e-bcb0-780da4159a5d');\n",
              "          const dataTable =\n",
              "            await google.colab.kernel.invokeFunction('convertToInteractive',\n",
              "                                                     [key], {});\n",
              "          if (!dataTable) return;\n",
              "\n",
              "          const docLinkHtml = 'Like what you see? Visit the ' +\n",
              "            '<a target=\"_blank\" href=https://colab.research.google.com/notebooks/data_table.ipynb>data table notebook</a>'\n",
              "            + ' to learn more about interactive tables.';\n",
              "          element.innerHTML = '';\n",
              "          dataTable['output_type'] = 'display_data';\n",
              "          await google.colab.output.renderOutput(dataTable, element);\n",
              "          const docLink = document.createElement('div');\n",
              "          docLink.innerHTML = docLinkHtml;\n",
              "          element.appendChild(docLink);\n",
              "        }\n",
              "      </script>\n",
              "    </div>\n",
              "  </div>\n",
              "  "
            ],
            "text/plain": [
              "   numbers(t-3)  numbers(t-2)  numbers(t-1)  numbers(t)\n",
              "3          10.0          20.0          30.0          40\n",
              "4          20.0          30.0          40.0          50\n",
              "5          30.0          40.0          50.0          60\n",
              "6          40.0          50.0          60.0          70\n",
              "7          50.0          60.0          70.0          80"
            ]
          },
          "metadata": {},
          "execution_count": 51
        }
      ],
      "source": [
        "data = series_to_supervised(my_time_series, n_in=3, n_out= 1)\n",
        "data.head()"
      ]
    },
    {
      "cell_type": "markdown",
      "metadata": {
        "ExecuteTime": {
          "end_time": "2022-02-02T08:04:26.423558Z",
          "start_time": "2022-02-02T08:04:26.413885Z"
        },
        "id": "MEiTkaEm4t7D"
      },
      "source": [
        "<font color='blue'>\n",
        "    <bold>Head of the previous dataset</bold>\n",
        "\n",
        "`\t0(t-3)\t0(t-2)\t0(t-1)\t0(t)\n",
        "3\t0.0\t10.0\t20.0\t30\n",
        "4\t10.0\t20.0\t30.0\t40\n",
        "5\t20.0\t30.0\t40.0\t50\n",
        "6\t30.0\t40.0\t50.0\t60\n",
        "7\t40.0\t50.0\t60.0\t70\n",
        "`\n",
        "</font>"
      ]
    },
    {
      "cell_type": "markdown",
      "metadata": {
        "id": "48W3HvOU4t7E"
      },
      "source": [
        "#### Do the same for a more sophisticated series"
      ]
    },
    {
      "cell_type": "code",
      "execution_count": 52,
      "metadata": {
        "ExecuteTime": {
          "end_time": "2022-01-29T14:29:34.174411Z",
          "start_time": "2022-01-29T14:29:33.942263Z"
        },
        "colab": {
          "base_uri": "https://localhost:8080/"
        },
        "id": "jfP75Xam4t7E",
        "outputId": "97791b4d-199f-43cd-eba1-c4b1f00aed8f"
      },
      "outputs": [
        {
          "output_type": "execute_result",
          "data": {
            "text/plain": [
              "(250, 1)"
            ]
          },
          "metadata": {},
          "execution_count": 52
        }
      ],
      "source": [
        "SIZE = 250\n",
        "time_stamps = range(SIZE)\n",
        "\n",
        "fct = lambda x: x*math.sin(x)\n",
        "time_series = pd.DataFrame(data={\"data\":[fct(x) for x in range(SIZE)]})\n",
        "n_features = time_series.shape[1] # for univariate time series\n",
        "time_series.shape"
      ]
    },
    {
      "cell_type": "markdown",
      "metadata": {
        "id": "iJlNloeh4t7F"
      },
      "source": [
        "<font color='red'>\n",
        "$TO DO - Students$\n",
        "\n",
        "* Plot the time series generated thanks to x --> x*sin(x) with 250 timestamps\n",
        "* label x and y axis\n",
        "</font>"
      ]
    },
    {
      "cell_type": "code",
      "execution_count": 53,
      "metadata": {
        "colab": {
          "base_uri": "https://localhost:8080/",
          "height": 337
        },
        "id": "9EfVN56p4t7F",
        "outputId": "65814340-82ea-4cb2-8469-5312a491e1b4"
      },
      "outputs": [
        {
          "output_type": "stream",
          "name": "stderr",
          "text": [
            "/usr/local/lib/python3.7/dist-packages/seaborn/distributions.py:2619: FutureWarning: `distplot` is a deprecated function and will be removed in a future version. Please adapt your code to use either `displot` (a figure-level function with similar flexibility) or `histplot` (an axes-level function for histograms).\n",
            "  warnings.warn(msg, FutureWarning)\n"
          ]
        },
        {
          "output_type": "execute_result",
          "data": {
            "text/plain": [
              "<matplotlib.axes._subplots.AxesSubplot at 0x7fb0941360d0>"
            ]
          },
          "metadata": {},
          "execution_count": 53
        },
        {
          "output_type": "display_data",
          "data": {
            "image/png": "[encoded data removed]",
            "text/plain": [
              "<Figure size 432x288 with 1 Axes>"
            ]
          },
          "metadata": {
            "needs_background": "light"
          }
        }
      ],
      "source": [
        "import matplotlib.pyplot as plt\n",
        "import seaborn as sns\n",
        "\n",
        "sns.distplot(time_series, hist=True, kde=True, \n",
        "             bins=int(180/5), color = 'darkblue', \n",
        "             hist_kws={'edgecolor':'black'},\n",
        "             kde_kws={'linewidth': 2})"
      ]
    },
    {
      "cell_type": "markdown",
      "metadata": {
        "id": "Eq4qeFiD4t7G"
      },
      "source": [
        "<font color='red'>\n",
        "$TO DO - Students$\n",
        "\n",
        "* Using `series_to_supervise` split data into samples with n_in = 6 and n_out = 1\n",
        "* Put the result in variable data\n",
        "</font>"
      ]
    },
    {
      "cell_type": "code",
      "execution_count": 54,
      "metadata": {
        "ExecuteTime": {
          "end_time": "2021-10-05T11:20:40.151621Z",
          "start_time": "2021-10-05T11:20:40.129102Z"
        },
        "colab": {
          "base_uri": "https://localhost:8080/",
          "height": 206
        },
        "id": "tedBosmb4t7G",
        "outputId": "d43e1325-db14-4370-9360-42edd43fa630"
      },
      "outputs": [
        {
          "output_type": "execute_result",
          "data": {
            "text/html": [
              "\n",
              "  <div id=\"df-8dd8e9f9-4b11-4a03-9792-79a751c913ed\">\n",
              "    <div class=\"colab-df-container\">\n",
              "      <div>\n",
              "<style scoped>\n",
              "    .dataframe tbody tr th:only-of-type {\n",
              "        vertical-align: middle;\n",
              "    }\n",
              "\n",
              "    .dataframe tbody tr th {\n",
              "        vertical-align: top;\n",
              "    }\n",
              "\n",
              "    .dataframe thead th {\n",
              "        text-align: right;\n",
              "    }\n",
              "</style>\n",
              "<table border=\"1\" class=\"dataframe\">\n",
              "  <thead>\n",
              "    <tr style=\"text-align: right;\">\n",
              "      <th></th>\n",
              "      <th>data(t-6)</th>\n",
              "      <th>data(t-5)</th>\n",
              "      <th>data(t-4)</th>\n",
              "      <th>data(t-3)</th>\n",
              "      <th>data(t-2)</th>\n",
              "      <th>data(t-1)</th>\n",
              "      <th>data(t)</th>\n",
              "    </tr>\n",
              "  </thead>\n",
              "  <tbody>\n",
              "    <tr>\n",
              "      <th>6</th>\n",
              "      <td>0.000000</td>\n",
              "      <td>0.841471</td>\n",
              "      <td>1.818595</td>\n",
              "      <td>0.423360</td>\n",
              "      <td>-3.027210</td>\n",
              "      <td>-4.794621</td>\n",
              "      <td>-1.676493</td>\n",
              "    </tr>\n",
              "    <tr>\n",
              "      <th>7</th>\n",
              "      <td>0.841471</td>\n",
              "      <td>1.818595</td>\n",
              "      <td>0.423360</td>\n",
              "      <td>-3.027210</td>\n",
              "      <td>-4.794621</td>\n",
              "      <td>-1.676493</td>\n",
              "      <td>4.598906</td>\n",
              "    </tr>\n",
              "    <tr>\n",
              "      <th>8</th>\n",
              "      <td>1.818595</td>\n",
              "      <td>0.423360</td>\n",
              "      <td>-3.027210</td>\n",
              "      <td>-4.794621</td>\n",
              "      <td>-1.676493</td>\n",
              "      <td>4.598906</td>\n",
              "      <td>7.914866</td>\n",
              "    </tr>\n",
              "    <tr>\n",
              "      <th>9</th>\n",
              "      <td>0.423360</td>\n",
              "      <td>-3.027210</td>\n",
              "      <td>-4.794621</td>\n",
              "      <td>-1.676493</td>\n",
              "      <td>4.598906</td>\n",
              "      <td>7.914866</td>\n",
              "      <td>3.709066</td>\n",
              "    </tr>\n",
              "    <tr>\n",
              "      <th>10</th>\n",
              "      <td>-3.027210</td>\n",
              "      <td>-4.794621</td>\n",
              "      <td>-1.676493</td>\n",
              "      <td>4.598906</td>\n",
              "      <td>7.914866</td>\n",
              "      <td>3.709066</td>\n",
              "      <td>-5.440211</td>\n",
              "    </tr>\n",
              "  </tbody>\n",
              "</table>\n",
              "</div>\n",
              "      <button class=\"colab-df-convert\" onclick=\"convertToInteractive('df-8dd8e9f9-4b11-4a03-9792-79a751c913ed')\"\n",
              "              title=\"Convert this dataframe to an interactive table.\"\n",
              "              style=\"display:none;\">\n",
              "        \n",
              "  <svg xmlns=\"http://www.w3.org/2000/svg\" height=\"24px\"viewBox=\"0 0 24 24\"\n",
              "       width=\"24px\">\n",
              "    <path d=\"M0 0h24v24H0V0z\" fill=\"none\"/>\n",
              "    <path d=\"M18.56 5.44l.94 2.06.94-2.06 2.06-.94-2.06-.94-.94-2.06-.94 2.06-2.06.94zm-11 1L8.5 8.5l.94-2.06 2.06-.94-2.06-.94L8.5 2.5l-.94 2.06-2.06.94zm10 10l.94 2.06.94-2.06 2.06-.94-2.06-.94-.94-2.06-.94 2.06-2.06.94z\"/><path d=\"M17.41 7.96l-1.37-1.37c-.4-.4-.92-.59-1.43-.59-.52 0-1.04.2-1.43.59L10.3 9.45l-7.72 7.72c-.78.78-.78 2.05 0 2.83L4 21.41c.39.39.9.59 1.41.59.51 0 1.02-.2 1.41-.59l7.78-7.78 2.81-2.81c.8-.78.8-2.07 0-2.86zM5.41 20L4 18.59l7.72-7.72 1.47 1.35L5.41 20z\"/>\n",
              "  </svg>\n",
              "      </button>\n",
              "      \n",
              "  <style>\n",
              "    .colab-df-container {\n",
              "      display:flex;\n",
              "      flex-wrap:wrap;\n",
              "      gap: 12px;\n",
              "    }\n",
              "\n",
              "    .colab-df-convert {\n",
              "      background-color: #E8F0FE;\n",
              "      border: none;\n",
              "      border-radius: 50%;\n",
              "      cursor: pointer;\n",
              "      display: none;\n",
              "      fill: #1967D2;\n",
              "      height: 32px;\n",
              "      padding: 0 0 0 0;\n",
              "      width: 32px;\n",
              "    }\n",
              "\n",
              "    .colab-df-convert:hover {\n",
              "      background-color: #E2EBFA;\n",
              "      box-shadow: 0px 1px 2px rgba(60, 64, 67, 0.3), 0px 1px 3px 1px rgba(60, 64, 67, 0.15);\n",
              "      fill: #174EA6;\n",
              "    }\n",
              "\n",
              "    [theme=dark] .colab-df-convert {\n",
              "      background-color: #3B4455;\n",
              "      fill: #D2E3FC;\n",
              "    }\n",
              "\n",
              "    [theme=dark] .colab-df-convert:hover {\n",
              "      background-color: #434B5C;\n",
              "      box-shadow: 0px 1px 3px 1px rgba(0, 0, 0, 0.15);\n",
              "      filter: drop-shadow(0px 1px 2px rgba(0, 0, 0, 0.3));\n",
              "      fill: #FFFFFF;\n",
              "    }\n",
              "  </style>\n",
              "\n",
              "      <script>\n",
              "        const buttonEl =\n",
              "          document.querySelector('#df-8dd8e9f9-4b11-4a03-9792-79a751c913ed button.colab-df-convert');\n",
              "        buttonEl.style.display =\n",
              "          google.colab.kernel.accessAllowed ? 'block' : 'none';\n",
              "\n",
              "        async function convertToInteractive(key) {\n",
              "          const element = document.querySelector('#df-8dd8e9f9-4b11-4a03-9792-79a751c913ed');\n",
              "          const dataTable =\n",
              "            await google.colab.kernel.invokeFunction('convertToInteractive',\n",
              "                                                     [key], {});\n",
              "          if (!dataTable) return;\n",
              "\n",
              "          const docLinkHtml = 'Like what you see? Visit the ' +\n",
              "            '<a target=\"_blank\" href=https://colab.research.google.com/notebooks/data_table.ipynb>data table notebook</a>'\n",
              "            + ' to learn more about interactive tables.';\n",
              "          element.innerHTML = '';\n",
              "          dataTable['output_type'] = 'display_data';\n",
              "          await google.colab.output.renderOutput(dataTable, element);\n",
              "          const docLink = document.createElement('div');\n",
              "          docLink.innerHTML = docLinkHtml;\n",
              "          element.appendChild(docLink);\n",
              "        }\n",
              "      </script>\n",
              "    </div>\n",
              "  </div>\n",
              "  "
            ],
            "text/plain": [
              "    data(t-6)  data(t-5)  data(t-4)  data(t-3)  data(t-2)  data(t-1)   data(t)\n",
              "6    0.000000   0.841471   1.818595   0.423360  -3.027210  -4.794621 -1.676493\n",
              "7    0.841471   1.818595   0.423360  -3.027210  -4.794621  -1.676493  4.598906\n",
              "8    1.818595   0.423360  -3.027210  -4.794621  -1.676493   4.598906  7.914866\n",
              "9    0.423360  -3.027210  -4.794621  -1.676493   4.598906   7.914866  3.709066\n",
              "10  -3.027210  -4.794621  -1.676493   4.598906   7.914866   3.709066 -5.440211"
            ]
          },
          "metadata": {},
          "execution_count": 54
        }
      ],
      "source": [
        "\"\"\" FILL \"\"\"\n",
        "n_in=6\n",
        "n_out= 1\n",
        "data = series_to_supervised(time_series, n_in=6, n_out= 1)\n",
        "data.head()"
      ]
    },
    {
      "cell_type": "markdown",
      "metadata": {
        "ExecuteTime": {
          "end_time": "2022-02-02T08:08:28.888096Z",
          "start_time": "2022-02-02T08:08:28.865976Z"
        },
        "id": "YtRC9ZjX4t7H"
      },
      "source": [
        "<font color='blue'>\n",
        "    <bold>Head of the previous dataset</bold>\n",
        "\n",
        "`data(t-6)\tdata(t-5)\tdata(t-4)\tdata(t-3)\tdata(t-2)\tdata(t-1)\tdata(t)\n",
        "6\t0.000000\t0.841471\t1.818595\t0.423360\t-3.027210\t-4.794621\t-1.676493\n",
        "7\t0.841471\t1.818595\t0.423360\t-3.027210\t-4.794621\t-1.676493\t4.598906\n",
        "8\t1.818595\t0.423360\t-3.027210\t-4.794621\t-1.676493\t4.598906\t7.914866\n",
        "9\t0.423360\t-3.027210\t-4.794621\t-1.676493\t4.598906\t7.914866\t3.709066\n",
        "10\t-3.027210\t-4.794621\t-1.676493\t4.598906\t7.914866\t3.709066\t-5.440211\n",
        "`\n",
        "</font>"
      ]
    },
    {
      "cell_type": "markdown",
      "metadata": {
        "id": "D1ad2fE84t7H"
      },
      "source": [
        "Contrary to the approaches used so far, we cannot separate the data into TRAIN, VALID and TEST in a random way, since we are dealing with time series where the order is important.\n",
        "\n",
        "The TRAIN data will therefore necessarily be at the beginning, then we will find the VALIDATION data and finally the TEST data.\n",
        "\n",
        "Here are the chosen indices."
      ]
    },
    {
      "cell_type": "code",
      "execution_count": 55,
      "metadata": {
        "ExecuteTime": {
          "end_time": "2021-10-05T11:20:41.520790Z",
          "start_time": "2021-10-05T11:20:41.514078Z"
        },
        "colab": {
          "base_uri": "https://localhost:8080/"
        },
        "id": "MvpiFLZg4t7I",
        "outputId": "787da499-7d2f-494d-e787-4bd9ca7bb755"
      },
      "outputs": [
        {
          "output_type": "stream",
          "name": "stdout",
          "text": [
            "TRAIN=time_series[:196]\n",
            "VALID=time_series[196:220]\n",
            "TEST=time_series[220:]\n"
          ]
        }
      ],
      "source": [
        "testAndValid = 0.1\n",
        "\n",
        "SPLIT = int(testAndValid*len(data))\n",
        "idx_train = len(data)-2*SPLIT\n",
        "idx_test = len(data)-SPLIT\n",
        "\n",
        "print(\"TRAIN=time_series[:\"+str(idx_train)+\"]\")\n",
        "print(\"VALID=time_series[\"+str(idx_train)+\":\"+str(idx_test)+\"]\")\n",
        "print(\"TEST=time_series[\"+str(idx_test)+\":]\")\n",
        "\n",
        "TRAIN=data[:idx_train]\n",
        "VAL=data[idx_train:idx_test]\n",
        "TEST=data[idx_test:]"
      ]
    },
    {
      "cell_type": "code",
      "execution_count": 56,
      "metadata": {
        "ExecuteTime": {
          "end_time": "2021-10-05T11:20:42.334185Z",
          "start_time": "2021-10-05T11:20:42.030549Z"
        },
        "colab": {
          "base_uri": "https://localhost:8080/",
          "height": 279
        },
        "id": "NRfYdBRI4t7I",
        "outputId": "c01e4418-d2f9-414f-e8fb-1b0ec592ac79"
      },
      "outputs": [
        {
          "output_type": "display_data",
          "data": {
            "image/png": "[encoded data removed]",
            "text/plain": [
              "<Figure size 720x288 with 1 Axes>"
            ]
          },
          "metadata": {
            "needs_background": "light"
          }
        }
      ],
      "source": [
        "plt.figure(figsize=(10, 4))\n",
        "plt.plot(TRAIN['data(t)'], label=\"train\")\n",
        "plt.plot(VAL['data(t)'], label=\"val\")\n",
        "plt.plot(TEST['data(t)'], label=\"test\")\n",
        "plt.legend()\n",
        "plt.xlabel(\"time stamps\");\n",
        "plt.ylabel(\"time series\");"
      ]
    },
    {
      "cell_type": "markdown",
      "metadata": {
        "id": "dU-vNQjk4t7J"
      },
      "source": [
        "<font color='red'>\n",
        "$TO DO - Students$\n",
        "\n",
        "* complete the code for preprocessing your train/validation/test datasets.\n",
        "</font>"
      ]
    },
    {
      "cell_type": "code",
      "execution_count": 57,
      "metadata": {
        "ExecuteTime": {
          "end_time": "2021-10-05T11:20:42.720955Z",
          "start_time": "2021-10-05T11:20:42.693316Z"
        },
        "colab": {
          "base_uri": "https://localhost:8080/"
        },
        "id": "OsdcOvzc4t7J",
        "outputId": "85a41098-ab56-4d83-8337-0d04776f20c6"
      },
      "outputs": [
        {
          "output_type": "execute_result",
          "data": {
            "text/plain": [
              "((196, 6, 1), (196,), (24, 6, 1), (24,), (24, 6, 1), (24,))"
            ]
          },
          "metadata": {},
          "execution_count": 57
        }
      ],
      "source": [
        "# split into input and outputs\n",
        "train_X, train_y = TRAIN.values[:, :-n_out], TRAIN.values[:, -n_out]\n",
        "val_X, val_y = VAL.values[:, :-n_out], VAL.values[:, -n_out]\n",
        "test_X, test_y = TEST.values[:, :-n_out], TEST.values[:, -n_out]\n",
        "\n",
        "# reshape input to be 3D [samples, timesteps, features]\n",
        "train_X = train_X.reshape((-1, n_in, n_features))\n",
        "val_X = val_X.reshape((-1, n_in, n_features))\n",
        "test_X = test_X.reshape((-1, n_in, n_features))\n",
        "\n",
        "train_X.shape, train_y.shape, val_X.shape, val_y.shape, test_X.shape, test_y.shape"
      ]
    },
    {
      "cell_type": "markdown",
      "metadata": {
        "ExecuteTime": {
          "end_time": "2022-02-02T08:10:29.453097Z",
          "start_time": "2022-02-02T08:10:29.443677Z"
        },
        "id": "xKD4ICRw4t7J"
      },
      "source": [
        "<font color='blue'>\n",
        "<bold>\n",
        "train_X.shape = (196, 6, 1)\n",
        "\n",
        "train_y.shape = (196,)\n",
        "</font>"
      ]
    },
    {
      "cell_type": "markdown",
      "metadata": {
        "id": "eIAGF3mg4t7K"
      },
      "source": [
        "### Build a first network using LSTM cells\n",
        "<br>\n",
        "<font color='red'>\n",
        "$TO DO - Students$\n",
        "\n",
        "* Look carefully at the following cell\n",
        "* What is the impact of the `return_sequences` parameter of the LSTM cell? (change the value: False or True and observe the shape of the output).\n",
        "</font>"
      ]
    },
    {
      "cell_type": "markdown",
      "source": [
        "return_sequences: True or False\n",
        "- If False return only the last output\n",
        "- If True return the full sequence of the output sequence"
      ],
      "metadata": {
        "id": "YHsdnBqBGLRX"
      }
    },
    {
      "cell_type": "code",
      "execution_count": 58,
      "metadata": {
        "ExecuteTime": {
          "end_time": "2021-10-05T11:20:43.941277Z",
          "start_time": "2021-10-05T11:20:43.705510Z"
        },
        "colab": {
          "base_uri": "https://localhost:8080/"
        },
        "id": "AUVlnSDJ4t7K",
        "outputId": "7fe1dc5c-102b-447b-d114-15031829c758"
      },
      "outputs": [
        {
          "output_type": "stream",
          "name": "stdout",
          "text": [
            "Model: \"model_2\"\n",
            "_________________________________________________________________\n",
            " Layer (type)                Output Shape              Param #   \n",
            "=================================================================\n",
            " input_3 (InputLayer)        [(None, 6, 1)]            0         \n",
            "                                                                 \n",
            " lstm_6 (LSTM)               (None, 16)                1152      \n",
            "                                                                 \n",
            " dense_2 (Dense)             (None, 1)                 17        \n",
            "                                                                 \n",
            "=================================================================\n",
            "Total params: 1,169\n",
            "Trainable params: 1,169\n",
            "Non-trainable params: 0\n",
            "_________________________________________________________________\n"
          ]
        }
      ],
      "source": [
        "LSTM_SIZE = 16\n",
        "\n",
        "inputs = Input(shape=(n_in, n_features))\n",
        "hidden = LSTM(LSTM_SIZE, return_sequences=False, activation='relu')(inputs)\n",
        "outputs = Dense(n_out, activation='linear')(hidden)\n",
        "model = Model(inputs=inputs, outputs=outputs)\n",
        "model.summary()"
      ]
    },
    {
      "cell_type": "markdown",
      "metadata": {
        "id": "rL2TR-ef4t7K"
      },
      "source": [
        "<font color='red'>\n",
        "$TO DO - Students$\n",
        "\n",
        "* Complete the function build_and_fit used to train your RNN model.\n",
        "* compile : as usual\n",
        "* fit : as usual but...\n",
        "    * Be careful, you have to set the shuffle parameter to false in order to take the data in order.\n",
        "    * Use the validation set to control the overfitting in the earlystopping callback\n",
        "</font>"
      ]
    },
    {
      "cell_type": "code",
      "execution_count": 59,
      "metadata": {
        "ExecuteTime": {
          "end_time": "2021-10-05T11:20:44.132605Z",
          "start_time": "2021-10-05T11:20:44.121509Z"
        },
        "id": "BZxLOqHS4t7K"
      },
      "outputs": [],
      "source": [
        "def build_and_fit(model, X_train, y_train, X_val, y_val, X_test, y_test):\n",
        "\n",
        "    #Compile model\n",
        "    model.compile(loss='mean_absolute_error', \n",
        "              optimizer='adam', \n",
        "              metrics=['mean_absolute_error'])\n",
        "    \n",
        "    #Define early-stopping\n",
        "    es = EarlyStopping(monitor='val_loss', mode='min', verbose=1, patience=20)\n",
        "\n",
        "    #Fit the model. shuffle=False\n",
        "    history = model.fit(X_train, y_train,\n",
        "                    epochs=200,\n",
        "                    verbose=2,\n",
        "                    callbacks=[es],\n",
        "                    validation_data= [X_val, y_val],\n",
        "                    shuffle=False) \n",
        "    \n",
        "    #Predict the model\n",
        "    y_pred = model.predict(X_test)\n",
        "    \n",
        "    # plot history\n",
        "    plt.figure(figsize=(20,8))\n",
        "\n",
        "    plt.subplot(331)\n",
        "    plt.plot(history.history['loss'][3:], label='loss')\n",
        "    plt.plot(history.history['val_loss'][3:], label='val_loss')\n",
        "    plt.legend()\n",
        "    \n",
        "    plt.subplot(332)\n",
        "    plt.plot(history.history['mean_absolute_error'][3:], label='mean_absolute_error')\n",
        "    plt.plot(history.history['val_mean_absolute_error'][3:], label='val_mean_absolute_error')\n",
        "    plt.legend()\n",
        "    \n",
        "    plt.subplot(333)\n",
        "    plt.plot(range(len(y_train)), y_train, label=\"train\")\n",
        "    plt.plot(range(len(y_train), len(y_train)+len(y_val)), y_val, label=\"valid\")\n",
        "    plt.plot(range(len(y_train)+len(y_val), len(y_train)+len(y_val)+len(y_pred)), y_test, label=\"test\")\n",
        "    plt.plot(range(len(y_train)+len(y_val), len(y_train)+len(y_val)+len(y_pred)), y_pred, label=\"predict\")\n",
        "\n",
        "    plt.legend(loc='center left')\n",
        "    plt.show()\n",
        "    \n",
        "    return model"
      ]
    },
    {
      "cell_type": "code",
      "execution_count": 60,
      "metadata": {
        "ExecuteTime": {
          "end_time": "2021-10-05T11:20:50.230976Z",
          "start_time": "2021-10-05T11:20:44.536847Z"
        },
        "id": "e2ikKQXe4t7L",
        "colab": {
          "base_uri": "https://localhost:8080/",
          "height": 1000
        },
        "outputId": "de365bd1-0c9d-44f2-f4f4-2b179079fe0c"
      },
      "outputs": [
        {
          "output_type": "stream",
          "name": "stdout",
          "text": [
            "Epoch 1/200\n",
            "7/7 - 2s - loss: 63.9863 - mean_absolute_error: 63.9863 - val_loss: 135.0868 - val_mean_absolute_error: 135.0868 - 2s/epoch - 225ms/step\n",
            "Epoch 2/200\n",
            "7/7 - 0s - loss: 61.7180 - mean_absolute_error: 61.7180 - val_loss: 129.2415 - val_mean_absolute_error: 129.2415 - 44ms/epoch - 6ms/step\n",
            "Epoch 3/200\n",
            "7/7 - 0s - loss: 59.2255 - mean_absolute_error: 59.2255 - val_loss: 122.7255 - val_mean_absolute_error: 122.7255 - 45ms/epoch - 6ms/step\n",
            "Epoch 4/200\n",
            "7/7 - 0s - loss: 56.3184 - mean_absolute_error: 56.3184 - val_loss: 115.3704 - val_mean_absolute_error: 115.3704 - 44ms/epoch - 6ms/step\n",
            "Epoch 5/200\n",
            "7/7 - 0s - loss: 53.4180 - mean_absolute_error: 53.4180 - val_loss: 108.9836 - val_mean_absolute_error: 108.9836 - 44ms/epoch - 6ms/step\n",
            "Epoch 6/200\n",
            "7/7 - 0s - loss: 50.5333 - mean_absolute_error: 50.5333 - val_loss: 104.2041 - val_mean_absolute_error: 104.2041 - 50ms/epoch - 7ms/step\n",
            "Epoch 7/200\n",
            "7/7 - 0s - loss: 48.0460 - mean_absolute_error: 48.0460 - val_loss: 98.5749 - val_mean_absolute_error: 98.5749 - 49ms/epoch - 7ms/step\n",
            "Epoch 8/200\n",
            "7/7 - 0s - loss: 44.4956 - mean_absolute_error: 44.4956 - val_loss: 86.9036 - val_mean_absolute_error: 86.9036 - 63ms/epoch - 9ms/step\n",
            "Epoch 9/200\n",
            "7/7 - 0s - loss: 39.5689 - mean_absolute_error: 39.5689 - val_loss: 78.8644 - val_mean_absolute_error: 78.8644 - 63ms/epoch - 9ms/step\n",
            "Epoch 10/200\n",
            "7/7 - 0s - loss: 33.8677 - mean_absolute_error: 33.8677 - val_loss: 64.9915 - val_mean_absolute_error: 64.9915 - 50ms/epoch - 7ms/step\n",
            "Epoch 11/200\n",
            "7/7 - 0s - loss: 25.6432 - mean_absolute_error: 25.6432 - val_loss: 43.1887 - val_mean_absolute_error: 43.1887 - 45ms/epoch - 6ms/step\n",
            "Epoch 12/200\n",
            "7/7 - 0s - loss: 16.1199 - mean_absolute_error: 16.1199 - val_loss: 24.6068 - val_mean_absolute_error: 24.6068 - 55ms/epoch - 8ms/step\n",
            "Epoch 13/200\n",
            "7/7 - 0s - loss: 11.1647 - mean_absolute_error: 11.1647 - val_loss: 20.7223 - val_mean_absolute_error: 20.7223 - 48ms/epoch - 7ms/step\n",
            "Epoch 14/200\n",
            "7/7 - 0s - loss: 8.0412 - mean_absolute_error: 8.0412 - val_loss: 16.8187 - val_mean_absolute_error: 16.8187 - 50ms/epoch - 7ms/step\n",
            "Epoch 15/200\n",
            "7/7 - 0s - loss: 6.9428 - mean_absolute_error: 6.9428 - val_loss: 14.2902 - val_mean_absolute_error: 14.2902 - 45ms/epoch - 6ms/step\n",
            "Epoch 16/200\n",
            "7/7 - 0s - loss: 6.4267 - mean_absolute_error: 6.4267 - val_loss: 14.0555 - val_mean_absolute_error: 14.0555 - 46ms/epoch - 7ms/step\n",
            "Epoch 17/200\n",
            "7/7 - 0s - loss: 5.8946 - mean_absolute_error: 5.8946 - val_loss: 12.1682 - val_mean_absolute_error: 12.1682 - 45ms/epoch - 6ms/step\n",
            "Epoch 18/200\n",
            "7/7 - 0s - loss: 5.5227 - mean_absolute_error: 5.5227 - val_loss: 10.7137 - val_mean_absolute_error: 10.7137 - 53ms/epoch - 8ms/step\n",
            "Epoch 19/200\n",
            "7/7 - 0s - loss: 4.9902 - mean_absolute_error: 4.9902 - val_loss: 10.5058 - val_mean_absolute_error: 10.5058 - 49ms/epoch - 7ms/step\n",
            "Epoch 20/200\n",
            "7/7 - 0s - loss: 5.1026 - mean_absolute_error: 5.1026 - val_loss: 9.6558 - val_mean_absolute_error: 9.6558 - 47ms/epoch - 7ms/step\n",
            "Epoch 21/200\n",
            "7/7 - 0s - loss: 4.7421 - mean_absolute_error: 4.7421 - val_loss: 8.5622 - val_mean_absolute_error: 8.5622 - 47ms/epoch - 7ms/step\n",
            "Epoch 22/200\n",
            "7/7 - 0s - loss: 3.9279 - mean_absolute_error: 3.9279 - val_loss: 8.5323 - val_mean_absolute_error: 8.5323 - 47ms/epoch - 7ms/step\n",
            "Epoch 23/200\n",
            "7/7 - 0s - loss: 4.0770 - mean_absolute_error: 4.0770 - val_loss: 8.6359 - val_mean_absolute_error: 8.6359 - 42ms/epoch - 6ms/step\n",
            "Epoch 24/200\n",
            "7/7 - 0s - loss: 3.8997 - mean_absolute_error: 3.8997 - val_loss: 8.0178 - val_mean_absolute_error: 8.0178 - 51ms/epoch - 7ms/step\n",
            "Epoch 25/200\n",
            "7/7 - 0s - loss: 3.7937 - mean_absolute_error: 3.7937 - val_loss: 7.7972 - val_mean_absolute_error: 7.7972 - 48ms/epoch - 7ms/step\n",
            "Epoch 26/200\n",
            "7/7 - 0s - loss: 3.4002 - mean_absolute_error: 3.4002 - val_loss: 7.7366 - val_mean_absolute_error: 7.7366 - 49ms/epoch - 7ms/step\n",
            "Epoch 27/200\n",
            "7/7 - 0s - loss: 3.5321 - mean_absolute_error: 3.5321 - val_loss: 6.8283 - val_mean_absolute_error: 6.8283 - 52ms/epoch - 7ms/step\n",
            "Epoch 28/200\n",
            "7/7 - 0s - loss: 3.5652 - mean_absolute_error: 3.5652 - val_loss: 7.5019 - val_mean_absolute_error: 7.5019 - 60ms/epoch - 9ms/step\n",
            "Epoch 29/200\n",
            "7/7 - 0s - loss: 3.2110 - mean_absolute_error: 3.2110 - val_loss: 7.3640 - val_mean_absolute_error: 7.3640 - 53ms/epoch - 8ms/step\n",
            "Epoch 30/200\n",
            "7/7 - 0s - loss: 2.9860 - mean_absolute_error: 2.9860 - val_loss: 7.0745 - val_mean_absolute_error: 7.0745 - 49ms/epoch - 7ms/step\n",
            "Epoch 31/200\n",
            "7/7 - 0s - loss: 3.0020 - mean_absolute_error: 3.0020 - val_loss: 5.8837 - val_mean_absolute_error: 5.8837 - 52ms/epoch - 7ms/step\n",
            "Epoch 32/200\n",
            "7/7 - 0s - loss: 2.9962 - mean_absolute_error: 2.9962 - val_loss: 5.8591 - val_mean_absolute_error: 5.8591 - 47ms/epoch - 7ms/step\n",
            "Epoch 33/200\n",
            "7/7 - 0s - loss: 2.9229 - mean_absolute_error: 2.9229 - val_loss: 6.3241 - val_mean_absolute_error: 6.3241 - 45ms/epoch - 6ms/step\n",
            "Epoch 34/200\n",
            "7/7 - 0s - loss: 3.0944 - mean_absolute_error: 3.0944 - val_loss: 6.2613 - val_mean_absolute_error: 6.2613 - 51ms/epoch - 7ms/step\n",
            "Epoch 35/200\n",
            "7/7 - 0s - loss: 2.9049 - mean_absolute_error: 2.9049 - val_loss: 6.4431 - val_mean_absolute_error: 6.4431 - 50ms/epoch - 7ms/step\n",
            "Epoch 36/200\n",
            "7/7 - 0s - loss: 3.0377 - mean_absolute_error: 3.0377 - val_loss: 6.3032 - val_mean_absolute_error: 6.3032 - 70ms/epoch - 10ms/step\n",
            "Epoch 37/200\n",
            "7/7 - 0s - loss: 3.2742 - mean_absolute_error: 3.2742 - val_loss: 7.6204 - val_mean_absolute_error: 7.6204 - 55ms/epoch - 8ms/step\n",
            "Epoch 38/200\n",
            "7/7 - 0s - loss: 3.0579 - mean_absolute_error: 3.0579 - val_loss: 6.8512 - val_mean_absolute_error: 6.8512 - 53ms/epoch - 8ms/step\n",
            "Epoch 39/200\n",
            "7/7 - 0s - loss: 2.9332 - mean_absolute_error: 2.9332 - val_loss: 5.6385 - val_mean_absolute_error: 5.6385 - 46ms/epoch - 7ms/step\n",
            "Epoch 40/200\n",
            "7/7 - 0s - loss: 3.1198 - mean_absolute_error: 3.1198 - val_loss: 6.2163 - val_mean_absolute_error: 6.2163 - 51ms/epoch - 7ms/step\n",
            "Epoch 41/200\n",
            "7/7 - 0s - loss: 2.6428 - mean_absolute_error: 2.6428 - val_loss: 6.3387 - val_mean_absolute_error: 6.3387 - 47ms/epoch - 7ms/step\n",
            "Epoch 42/200\n",
            "7/7 - 0s - loss: 2.4705 - mean_absolute_error: 2.4705 - val_loss: 6.3695 - val_mean_absolute_error: 6.3695 - 50ms/epoch - 7ms/step\n",
            "Epoch 43/200\n",
            "7/7 - 0s - loss: 2.4247 - mean_absolute_error: 2.4247 - val_loss: 5.4623 - val_mean_absolute_error: 5.4623 - 49ms/epoch - 7ms/step\n",
            "Epoch 44/200\n",
            "7/7 - 0s - loss: 2.3867 - mean_absolute_error: 2.3867 - val_loss: 5.5689 - val_mean_absolute_error: 5.5689 - 50ms/epoch - 7ms/step\n",
            "Epoch 45/200\n",
            "7/7 - 0s - loss: 2.7112 - mean_absolute_error: 2.7112 - val_loss: 5.5577 - val_mean_absolute_error: 5.5577 - 49ms/epoch - 7ms/step\n",
            "Epoch 46/200\n",
            "7/7 - 0s - loss: 2.4822 - mean_absolute_error: 2.4822 - val_loss: 4.9095 - val_mean_absolute_error: 4.9095 - 65ms/epoch - 9ms/step\n",
            "Epoch 47/200\n",
            "7/7 - 0s - loss: 2.2976 - mean_absolute_error: 2.2976 - val_loss: 6.3226 - val_mean_absolute_error: 6.3226 - 51ms/epoch - 7ms/step\n",
            "Epoch 48/200\n",
            "7/7 - 0s - loss: 2.3960 - mean_absolute_error: 2.3960 - val_loss: 5.4512 - val_mean_absolute_error: 5.4512 - 53ms/epoch - 8ms/step\n",
            "Epoch 49/200\n",
            "7/7 - 0s - loss: 2.6197 - mean_absolute_error: 2.6197 - val_loss: 5.2160 - val_mean_absolute_error: 5.2160 - 49ms/epoch - 7ms/step\n",
            "Epoch 50/200\n",
            "7/7 - 0s - loss: 2.5396 - mean_absolute_error: 2.5396 - val_loss: 5.6848 - val_mean_absolute_error: 5.6848 - 57ms/epoch - 8ms/step\n",
            "Epoch 51/200\n",
            "7/7 - 0s - loss: 2.3146 - mean_absolute_error: 2.3146 - val_loss: 5.7448 - val_mean_absolute_error: 5.7448 - 52ms/epoch - 7ms/step\n",
            "Epoch 52/200\n",
            "7/7 - 0s - loss: 2.1147 - mean_absolute_error: 2.1147 - val_loss: 5.3974 - val_mean_absolute_error: 5.3974 - 49ms/epoch - 7ms/step\n",
            "Epoch 53/200\n",
            "7/7 - 0s - loss: 2.1808 - mean_absolute_error: 2.1808 - val_loss: 6.2383 - val_mean_absolute_error: 6.2383 - 49ms/epoch - 7ms/step\n",
            "Epoch 54/200\n",
            "7/7 - 0s - loss: 2.1327 - mean_absolute_error: 2.1327 - val_loss: 5.0340 - val_mean_absolute_error: 5.0340 - 48ms/epoch - 7ms/step\n",
            "Epoch 55/200\n",
            "7/7 - 0s - loss: 2.1670 - mean_absolute_error: 2.1670 - val_loss: 5.8756 - val_mean_absolute_error: 5.8756 - 47ms/epoch - 7ms/step\n",
            "Epoch 56/200\n",
            "7/7 - 0s - loss: 2.3208 - mean_absolute_error: 2.3208 - val_loss: 5.5027 - val_mean_absolute_error: 5.5027 - 54ms/epoch - 8ms/step\n",
            "Epoch 57/200\n",
            "7/7 - 0s - loss: 2.3009 - mean_absolute_error: 2.3009 - val_loss: 6.2139 - val_mean_absolute_error: 6.2139 - 48ms/epoch - 7ms/step\n",
            "Epoch 58/200\n",
            "7/7 - 0s - loss: 2.0821 - mean_absolute_error: 2.0821 - val_loss: 5.5022 - val_mean_absolute_error: 5.5022 - 47ms/epoch - 7ms/step\n",
            "Epoch 59/200\n",
            "7/7 - 0s - loss: 1.7840 - mean_absolute_error: 1.7840 - val_loss: 5.6157 - val_mean_absolute_error: 5.6157 - 49ms/epoch - 7ms/step\n",
            "Epoch 60/200\n",
            "7/7 - 0s - loss: 1.8537 - mean_absolute_error: 1.8537 - val_loss: 5.3586 - val_mean_absolute_error: 5.3586 - 52ms/epoch - 7ms/step\n",
            "Epoch 61/200\n",
            "7/7 - 0s - loss: 1.9475 - mean_absolute_error: 1.9475 - val_loss: 5.9179 - val_mean_absolute_error: 5.9179 - 53ms/epoch - 8ms/step\n",
            "Epoch 62/200\n",
            "7/7 - 0s - loss: 1.9000 - mean_absolute_error: 1.9000 - val_loss: 5.4069 - val_mean_absolute_error: 5.4069 - 50ms/epoch - 7ms/step\n",
            "Epoch 63/200\n",
            "7/7 - 0s - loss: 2.0351 - mean_absolute_error: 2.0351 - val_loss: 6.2703 - val_mean_absolute_error: 6.2703 - 50ms/epoch - 7ms/step\n",
            "Epoch 64/200\n",
            "7/7 - 0s - loss: 1.9098 - mean_absolute_error: 1.9098 - val_loss: 5.5763 - val_mean_absolute_error: 5.5763 - 57ms/epoch - 8ms/step\n",
            "Epoch 65/200\n",
            "7/7 - 0s - loss: 1.9332 - mean_absolute_error: 1.9332 - val_loss: 5.4865 - val_mean_absolute_error: 5.4865 - 55ms/epoch - 8ms/step\n",
            "Epoch 66/200\n",
            "7/7 - 0s - loss: 1.7163 - mean_absolute_error: 1.7163 - val_loss: 5.8701 - val_mean_absolute_error: 5.8701 - 53ms/epoch - 8ms/step\n",
            "Epoch 00066: early stopping\n"
          ]
        },
        {
          "output_type": "display_data",
          "data": {
            "image/png": "[encoded data removed]",
            "text/plain": [
              "<Figure size 1440x576 with 3 Axes>"
            ]
          },
          "metadata": {
            "needs_background": "light"
          }
        }
      ],
      "source": [
        "model = build_and_fit(model, train_X, train_y, val_X, val_y, test_X, test_y)"
      ]
    },
    {
      "cell_type": "code",
      "execution_count": 61,
      "metadata": {
        "ExecuteTime": {
          "end_time": "2021-10-05T11:20:51.006300Z",
          "start_time": "2021-10-05T11:20:50.932198Z"
        },
        "colab": {
          "base_uri": "https://localhost:8080/"
        },
        "id": "C0fXw8Rd4t7L",
        "outputId": "c5ae2f34-444b-4643-acd6-308ec871e4f5"
      },
      "outputs": [
        {
          "output_type": "stream",
          "name": "stdout",
          "text": [
            "[[-12.656905]] 324\n"
          ]
        }
      ],
      "source": [
        "# demonstrate prediction\n",
        "start = 12\n",
        "y_true = (start+n_in)*(start+n_in)\n",
        "x_input = np.array([fct(x) for x in range(start,start+n_in)])\n",
        "x_input = x_input.reshape((1, n_in, n_features))\n",
        "yhat = model.predict(x_input, verbose=0)\n",
        "print(yhat, y_true)"
      ]
    },
    {
      "cell_type": "markdown",
      "metadata": {
        "id": "JEjtweyp4t7M"
      },
      "source": [
        "### Stacked Bi-LSTM\n",
        "\n",
        "In order to improve the performance of the model, it's possible to:\n",
        "- stack LSTM with `return_sequence=True` for all levels except the last one where `return_sequence=False`\n",
        "- use Bi-LSTM"
      ]
    },
    {
      "cell_type": "markdown",
      "metadata": {
        "id": "MF4iiZpS4t7M"
      },
      "source": [
        "<font color='red'>\n",
        "$TO DO - Students$\n",
        "\n",
        "* Build a model stacking 3 BI-LSTM layers \n",
        "</font>"
      ]
    },
    {
      "cell_type": "markdown",
      "source": [
        "To stack LSTM layers, we need to change the configuration of the prior LSTM layer to output a 3D array as input for the subsequent layer.\n",
        "\n",
        "We can do this by setting the return_sequences argument on the layer to True (defaults to False). This will return one output for each input time step and provide a 3D array."
      ],
      "metadata": {
        "id": "bJiMu3MeIS5Q"
      }
    },
    {
      "cell_type": "code",
      "execution_count": 62,
      "metadata": {
        "ExecuteTime": {
          "end_time": "2021-10-05T11:20:53.709575Z",
          "start_time": "2021-10-05T11:20:53.261527Z"
        },
        "colab": {
          "base_uri": "https://localhost:8080/"
        },
        "id": "L9xneZIm4t7M",
        "outputId": "1c5b89f3-458c-4251-ce6d-e11097d2bb81"
      },
      "outputs": [
        {
          "output_type": "stream",
          "name": "stdout",
          "text": [
            "Model: \"model_3\"\n",
            "_________________________________________________________________\n",
            " Layer (type)                Output Shape              Param #   \n",
            "=================================================================\n",
            " input_4 (InputLayer)        [(None, 6, 1)]            0         \n",
            "                                                                 \n",
            " lstm_7 (LSTM)               (None, 6, 16)             1152      \n",
            "                                                                 \n",
            " lstm_8 (LSTM)               (None, 6, 16)             2112      \n",
            "                                                                 \n",
            " lstm_9 (LSTM)               (None, 16)                2112      \n",
            "                                                                 \n",
            " dense_3 (Dense)             (None, 1)                 17        \n",
            "                                                                 \n",
            "=================================================================\n",
            "Total params: 5,393\n",
            "Trainable params: 5,393\n",
            "Non-trainable params: 0\n",
            "_________________________________________________________________\n"
          ]
        }
      ],
      "source": [
        "inputs = Input(shape=(n_in, n_features))\n",
        "hidden1 = LSTM(LSTM_SIZE, return_sequences=True, activation='relu')(inputs)\n",
        "hidden2 = LSTM(LSTM_SIZE, return_sequences=True, activation='relu')(hidden1)\n",
        "hidden3 = LSTM(LSTM_SIZE, return_sequences=False, activation='relu')(hidden2)\n",
        "\n",
        "outputs = Dense(n_out, activation='linear')(hidden3)\n",
        "model = Model(inputs=inputs, outputs=outputs)\n",
        "model.summary()"
      ]
    },
    {
      "cell_type": "code",
      "execution_count": 63,
      "metadata": {
        "ExecuteTime": {
          "end_time": "2021-10-05T11:21:15.051362Z",
          "start_time": "2021-10-05T11:20:57.765335Z"
        },
        "id": "nmcsyDfq4t7N",
        "colab": {
          "base_uri": "https://localhost:8080/",
          "height": 1000
        },
        "outputId": "c55fed47-026c-447f-f1ee-3781fcd953c6"
      },
      "outputs": [
        {
          "output_type": "stream",
          "name": "stdout",
          "text": [
            "Epoch 1/200\n",
            "7/7 - 4s - loss: 65.4916 - mean_absolute_error: 65.4916 - val_loss: 139.7300 - val_mean_absolute_error: 139.7300 - 4s/epoch - 560ms/step\n",
            "Epoch 2/200\n",
            "7/7 - 0s - loss: 65.3438 - mean_absolute_error: 65.3438 - val_loss: 139.4273 - val_mean_absolute_error: 139.4273 - 76ms/epoch - 11ms/step\n",
            "Epoch 3/200\n",
            "7/7 - 0s - loss: 65.1639 - mean_absolute_error: 65.1639 - val_loss: 138.9187 - val_mean_absolute_error: 138.9187 - 75ms/epoch - 11ms/step\n",
            "Epoch 4/200\n",
            "7/7 - 0s - loss: 64.8951 - mean_absolute_error: 64.8951 - val_loss: 138.0954 - val_mean_absolute_error: 138.0954 - 83ms/epoch - 12ms/step\n",
            "Epoch 5/200\n",
            "7/7 - 0s - loss: 64.4258 - mean_absolute_error: 64.4258 - val_loss: 136.6146 - val_mean_absolute_error: 136.6146 - 83ms/epoch - 12ms/step\n",
            "Epoch 6/200\n",
            "7/7 - 0s - loss: 63.3581 - mean_absolute_error: 63.3581 - val_loss: 132.2368 - val_mean_absolute_error: 132.2368 - 76ms/epoch - 11ms/step\n",
            "Epoch 7/200\n",
            "7/7 - 0s - loss: 60.6312 - mean_absolute_error: 60.6312 - val_loss: 122.4243 - val_mean_absolute_error: 122.4243 - 82ms/epoch - 12ms/step\n",
            "Epoch 8/200\n",
            "7/7 - 0s - loss: 54.5447 - mean_absolute_error: 54.5447 - val_loss: 103.6158 - val_mean_absolute_error: 103.6158 - 82ms/epoch - 12ms/step\n",
            "Epoch 9/200\n",
            "7/7 - 0s - loss: 42.9523 - mean_absolute_error: 42.9523 - val_loss: 76.6773 - val_mean_absolute_error: 76.6773 - 89ms/epoch - 13ms/step\n",
            "Epoch 10/200\n",
            "7/7 - 0s - loss: 32.8892 - mean_absolute_error: 32.8892 - val_loss: 67.3822 - val_mean_absolute_error: 67.3822 - 78ms/epoch - 11ms/step\n",
            "Epoch 11/200\n",
            "7/7 - 0s - loss: 28.8175 - mean_absolute_error: 28.8175 - val_loss: 50.4829 - val_mean_absolute_error: 50.4829 - 97ms/epoch - 14ms/step\n",
            "Epoch 12/200\n",
            "7/7 - 0s - loss: 20.9868 - mean_absolute_error: 20.9868 - val_loss: 47.1667 - val_mean_absolute_error: 47.1667 - 84ms/epoch - 12ms/step\n",
            "Epoch 13/200\n",
            "7/7 - 0s - loss: 18.1307 - mean_absolute_error: 18.1307 - val_loss: 35.7183 - val_mean_absolute_error: 35.7183 - 90ms/epoch - 13ms/step\n",
            "Epoch 14/200\n",
            "7/7 - 0s - loss: 14.9585 - mean_absolute_error: 14.9585 - val_loss: 34.2899 - val_mean_absolute_error: 34.2899 - 78ms/epoch - 11ms/step\n",
            "Epoch 15/200\n",
            "7/7 - 0s - loss: 15.2995 - mean_absolute_error: 15.2995 - val_loss: 29.3225 - val_mean_absolute_error: 29.3225 - 84ms/epoch - 12ms/step\n",
            "Epoch 16/200\n",
            "7/7 - 0s - loss: 14.0868 - mean_absolute_error: 14.0868 - val_loss: 24.1068 - val_mean_absolute_error: 24.1068 - 87ms/epoch - 12ms/step\n",
            "Epoch 17/200\n",
            "7/7 - 0s - loss: 11.8274 - mean_absolute_error: 11.8274 - val_loss: 21.8451 - val_mean_absolute_error: 21.8451 - 84ms/epoch - 12ms/step\n",
            "Epoch 18/200\n",
            "7/7 - 0s - loss: 10.3106 - mean_absolute_error: 10.3106 - val_loss: 21.4628 - val_mean_absolute_error: 21.4628 - 91ms/epoch - 13ms/step\n",
            "Epoch 19/200\n",
            "7/7 - 0s - loss: 9.0547 - mean_absolute_error: 9.0547 - val_loss: 23.1370 - val_mean_absolute_error: 23.1370 - 79ms/epoch - 11ms/step\n",
            "Epoch 20/200\n",
            "7/7 - 0s - loss: 9.9572 - mean_absolute_error: 9.9572 - val_loss: 27.0415 - val_mean_absolute_error: 27.0415 - 90ms/epoch - 13ms/step\n",
            "Epoch 21/200\n",
            "7/7 - 0s - loss: 10.6717 - mean_absolute_error: 10.6717 - val_loss: 27.8520 - val_mean_absolute_error: 27.8520 - 83ms/epoch - 12ms/step\n",
            "Epoch 22/200\n",
            "7/7 - 0s - loss: 10.2815 - mean_absolute_error: 10.2815 - val_loss: 21.6636 - val_mean_absolute_error: 21.6636 - 89ms/epoch - 13ms/step\n",
            "Epoch 23/200\n",
            "7/7 - 0s - loss: 8.7283 - mean_absolute_error: 8.7283 - val_loss: 20.1307 - val_mean_absolute_error: 20.1307 - 89ms/epoch - 13ms/step\n",
            "Epoch 24/200\n",
            "7/7 - 0s - loss: 7.4148 - mean_absolute_error: 7.4148 - val_loss: 19.4551 - val_mean_absolute_error: 19.4551 - 95ms/epoch - 14ms/step\n",
            "Epoch 25/200\n",
            "7/7 - 0s - loss: 6.7577 - mean_absolute_error: 6.7577 - val_loss: 18.3899 - val_mean_absolute_error: 18.3899 - 81ms/epoch - 12ms/step\n",
            "Epoch 26/200\n",
            "7/7 - 0s - loss: 7.0082 - mean_absolute_error: 7.0082 - val_loss: 19.8218 - val_mean_absolute_error: 19.8218 - 80ms/epoch - 11ms/step\n",
            "Epoch 27/200\n",
            "7/7 - 0s - loss: 8.1894 - mean_absolute_error: 8.1894 - val_loss: 17.3118 - val_mean_absolute_error: 17.3118 - 82ms/epoch - 12ms/step\n",
            "Epoch 28/200\n",
            "7/7 - 0s - loss: 7.1639 - mean_absolute_error: 7.1639 - val_loss: 18.4367 - val_mean_absolute_error: 18.4367 - 93ms/epoch - 13ms/step\n",
            "Epoch 29/200\n",
            "7/7 - 0s - loss: 6.8182 - mean_absolute_error: 6.8182 - val_loss: 20.0288 - val_mean_absolute_error: 20.0288 - 83ms/epoch - 12ms/step\n",
            "Epoch 30/200\n",
            "7/7 - 0s - loss: 6.4725 - mean_absolute_error: 6.4725 - val_loss: 14.9482 - val_mean_absolute_error: 14.9482 - 84ms/epoch - 12ms/step\n",
            "Epoch 31/200\n",
            "7/7 - 0s - loss: 6.2874 - mean_absolute_error: 6.2874 - val_loss: 14.8105 - val_mean_absolute_error: 14.8105 - 88ms/epoch - 13ms/step\n",
            "Epoch 32/200\n",
            "7/7 - 0s - loss: 7.6093 - mean_absolute_error: 7.6093 - val_loss: 13.8757 - val_mean_absolute_error: 13.8757 - 84ms/epoch - 12ms/step\n",
            "Epoch 33/200\n",
            "7/7 - 0s - loss: 6.2732 - mean_absolute_error: 6.2732 - val_loss: 14.6842 - val_mean_absolute_error: 14.6842 - 86ms/epoch - 12ms/step\n",
            "Epoch 34/200\n",
            "7/7 - 0s - loss: 7.2802 - mean_absolute_error: 7.2802 - val_loss: 14.0053 - val_mean_absolute_error: 14.0053 - 85ms/epoch - 12ms/step\n",
            "Epoch 35/200\n",
            "7/7 - 0s - loss: 6.0944 - mean_absolute_error: 6.0944 - val_loss: 15.8035 - val_mean_absolute_error: 15.8035 - 96ms/epoch - 14ms/step\n",
            "Epoch 36/200\n",
            "7/7 - 0s - loss: 5.9986 - mean_absolute_error: 5.9986 - val_loss: 14.8282 - val_mean_absolute_error: 14.8282 - 86ms/epoch - 12ms/step\n",
            "Epoch 37/200\n",
            "7/7 - 0s - loss: 5.3067 - mean_absolute_error: 5.3067 - val_loss: 15.7585 - val_mean_absolute_error: 15.7585 - 81ms/epoch - 12ms/step\n",
            "Epoch 38/200\n",
            "7/7 - 0s - loss: 6.6554 - mean_absolute_error: 6.6554 - val_loss: 12.9722 - val_mean_absolute_error: 12.9722 - 90ms/epoch - 13ms/step\n",
            "Epoch 39/200\n",
            "7/7 - 0s - loss: 6.3914 - mean_absolute_error: 6.3914 - val_loss: 12.0267 - val_mean_absolute_error: 12.0267 - 81ms/epoch - 12ms/step\n",
            "Epoch 40/200\n",
            "7/7 - 0s - loss: 4.9345 - mean_absolute_error: 4.9345 - val_loss: 11.4304 - val_mean_absolute_error: 11.4304 - 85ms/epoch - 12ms/step\n",
            "Epoch 41/200\n",
            "7/7 - 0s - loss: 6.1050 - mean_absolute_error: 6.1050 - val_loss: 12.7681 - val_mean_absolute_error: 12.7681 - 84ms/epoch - 12ms/step\n",
            "Epoch 42/200\n",
            "7/7 - 0s - loss: 4.9271 - mean_absolute_error: 4.9271 - val_loss: 12.3012 - val_mean_absolute_error: 12.3012 - 86ms/epoch - 12ms/step\n",
            "Epoch 43/200\n",
            "7/7 - 0s - loss: 4.3806 - mean_absolute_error: 4.3806 - val_loss: 10.6754 - val_mean_absolute_error: 10.6754 - 92ms/epoch - 13ms/step\n",
            "Epoch 44/200\n",
            "7/7 - 0s - loss: 4.6907 - mean_absolute_error: 4.6907 - val_loss: 10.0817 - val_mean_absolute_error: 10.0817 - 94ms/epoch - 13ms/step\n",
            "Epoch 45/200\n",
            "7/7 - 0s - loss: 4.7084 - mean_absolute_error: 4.7084 - val_loss: 11.1760 - val_mean_absolute_error: 11.1760 - 87ms/epoch - 12ms/step\n",
            "Epoch 46/200\n",
            "7/7 - 0s - loss: 5.3462 - mean_absolute_error: 5.3462 - val_loss: 10.7140 - val_mean_absolute_error: 10.7140 - 90ms/epoch - 13ms/step\n",
            "Epoch 47/200\n",
            "7/7 - 0s - loss: 4.8010 - mean_absolute_error: 4.8010 - val_loss: 9.1239 - val_mean_absolute_error: 9.1239 - 92ms/epoch - 13ms/step\n",
            "Epoch 48/200\n",
            "7/7 - 0s - loss: 4.7184 - mean_absolute_error: 4.7184 - val_loss: 9.2596 - val_mean_absolute_error: 9.2596 - 85ms/epoch - 12ms/step\n",
            "Epoch 49/200\n",
            "7/7 - 0s - loss: 3.7122 - mean_absolute_error: 3.7122 - val_loss: 9.0484 - val_mean_absolute_error: 9.0484 - 81ms/epoch - 12ms/step\n",
            "Epoch 50/200\n",
            "7/7 - 0s - loss: 3.9927 - mean_absolute_error: 3.9927 - val_loss: 9.9762 - val_mean_absolute_error: 9.9762 - 90ms/epoch - 13ms/step\n",
            "Epoch 51/200\n",
            "7/7 - 0s - loss: 5.6775 - mean_absolute_error: 5.6775 - val_loss: 11.0745 - val_mean_absolute_error: 11.0745 - 92ms/epoch - 13ms/step\n",
            "Epoch 52/200\n",
            "7/7 - 0s - loss: 4.5687 - mean_absolute_error: 4.5687 - val_loss: 9.5749 - val_mean_absolute_error: 9.5749 - 82ms/epoch - 12ms/step\n",
            "Epoch 53/200\n",
            "7/7 - 0s - loss: 4.2114 - mean_absolute_error: 4.2114 - val_loss: 9.1506 - val_mean_absolute_error: 9.1506 - 85ms/epoch - 12ms/step\n",
            "Epoch 54/200\n",
            "7/7 - 0s - loss: 3.7543 - mean_absolute_error: 3.7543 - val_loss: 8.9854 - val_mean_absolute_error: 8.9854 - 92ms/epoch - 13ms/step\n",
            "Epoch 55/200\n",
            "7/7 - 0s - loss: 3.6459 - mean_absolute_error: 3.6459 - val_loss: 8.3891 - val_mean_absolute_error: 8.3891 - 94ms/epoch - 13ms/step\n",
            "Epoch 56/200\n",
            "7/7 - 0s - loss: 3.2629 - mean_absolute_error: 3.2629 - val_loss: 9.3263 - val_mean_absolute_error: 9.3263 - 88ms/epoch - 13ms/step\n",
            "Epoch 57/200\n",
            "7/7 - 0s - loss: 3.5776 - mean_absolute_error: 3.5776 - val_loss: 8.4772 - val_mean_absolute_error: 8.4772 - 105ms/epoch - 15ms/step\n",
            "Epoch 58/200\n",
            "7/7 - 0s - loss: 4.6450 - mean_absolute_error: 4.6450 - val_loss: 15.9258 - val_mean_absolute_error: 15.9258 - 85ms/epoch - 12ms/step\n",
            "Epoch 59/200\n",
            "7/7 - 0s - loss: 5.6619 - mean_absolute_error: 5.6619 - val_loss: 14.1466 - val_mean_absolute_error: 14.1466 - 84ms/epoch - 12ms/step\n",
            "Epoch 60/200\n",
            "7/7 - 0s - loss: 7.5184 - mean_absolute_error: 7.5184 - val_loss: 20.1838 - val_mean_absolute_error: 20.1838 - 87ms/epoch - 12ms/step\n",
            "Epoch 61/200\n",
            "7/7 - 0s - loss: 6.9088 - mean_absolute_error: 6.9088 - val_loss: 15.5610 - val_mean_absolute_error: 15.5610 - 85ms/epoch - 12ms/step\n",
            "Epoch 62/200\n",
            "7/7 - 0s - loss: 6.0144 - mean_absolute_error: 6.0144 - val_loss: 11.8984 - val_mean_absolute_error: 11.8984 - 84ms/epoch - 12ms/step\n",
            "Epoch 63/200\n",
            "7/7 - 0s - loss: 5.0510 - mean_absolute_error: 5.0510 - val_loss: 11.3402 - val_mean_absolute_error: 11.3402 - 106ms/epoch - 15ms/step\n",
            "Epoch 64/200\n",
            "7/7 - 0s - loss: 4.6844 - mean_absolute_error: 4.6844 - val_loss: 11.7776 - val_mean_absolute_error: 11.7776 - 90ms/epoch - 13ms/step\n",
            "Epoch 65/200\n",
            "7/7 - 0s - loss: 4.9219 - mean_absolute_error: 4.9219 - val_loss: 12.1305 - val_mean_absolute_error: 12.1305 - 85ms/epoch - 12ms/step\n",
            "Epoch 66/200\n",
            "7/7 - 0s - loss: 4.5777 - mean_absolute_error: 4.5777 - val_loss: 11.5917 - val_mean_absolute_error: 11.5917 - 91ms/epoch - 13ms/step\n",
            "Epoch 67/200\n",
            "7/7 - 0s - loss: 5.1714 - mean_absolute_error: 5.1714 - val_loss: 11.7059 - val_mean_absolute_error: 11.7059 - 89ms/epoch - 13ms/step\n",
            "Epoch 68/200\n",
            "7/7 - 0s - loss: 4.4045 - mean_absolute_error: 4.4045 - val_loss: 12.0527 - val_mean_absolute_error: 12.0527 - 100ms/epoch - 14ms/step\n",
            "Epoch 69/200\n",
            "7/7 - 0s - loss: 4.6496 - mean_absolute_error: 4.6496 - val_loss: 11.2639 - val_mean_absolute_error: 11.2639 - 95ms/epoch - 14ms/step\n",
            "Epoch 70/200\n",
            "7/7 - 0s - loss: 4.9005 - mean_absolute_error: 4.9005 - val_loss: 10.7005 - val_mean_absolute_error: 10.7005 - 85ms/epoch - 12ms/step\n",
            "Epoch 71/200\n",
            "7/7 - 0s - loss: 4.6536 - mean_absolute_error: 4.6536 - val_loss: 9.6368 - val_mean_absolute_error: 9.6368 - 86ms/epoch - 12ms/step\n",
            "Epoch 72/200\n",
            "7/7 - 0s - loss: 4.4528 - mean_absolute_error: 4.4528 - val_loss: 11.9419 - val_mean_absolute_error: 11.9419 - 85ms/epoch - 12ms/step\n",
            "Epoch 73/200\n",
            "7/7 - 0s - loss: 4.3558 - mean_absolute_error: 4.3558 - val_loss: 10.8686 - val_mean_absolute_error: 10.8686 - 93ms/epoch - 13ms/step\n",
            "Epoch 74/200\n",
            "7/7 - 0s - loss: 4.2681 - mean_absolute_error: 4.2681 - val_loss: 11.7082 - val_mean_absolute_error: 11.7082 - 85ms/epoch - 12ms/step\n",
            "Epoch 75/200\n",
            "7/7 - 0s - loss: 4.7861 - mean_absolute_error: 4.7861 - val_loss: 9.7887 - val_mean_absolute_error: 9.7887 - 87ms/epoch - 12ms/step\n",
            "Epoch 00075: early stopping\n"
          ]
        },
        {
          "output_type": "display_data",
          "data": {
            "image/png": "[encoded data removed]",
            "text/plain": [
              "<Figure size 1440x576 with 3 Axes>"
            ]
          },
          "metadata": {
            "needs_background": "light"
          }
        }
      ],
      "source": [
        "model = build_and_fit(model, train_X, train_y, val_X, val_y, test_X, test_y)"
      ]
    },
    {
      "cell_type": "code",
      "execution_count": 64,
      "metadata": {
        "ExecuteTime": {
          "end_time": "2021-10-05T11:21:15.138110Z",
          "start_time": "2021-10-05T11:21:15.057399Z"
        },
        "colab": {
          "base_uri": "https://localhost:8080/"
        },
        "id": "Afeuw6lE4t7N",
        "outputId": "228f64cf-bfdb-43ed-dc80-c05b4bc67043"
      },
      "outputs": [
        {
          "output_type": "stream",
          "name": "stdout",
          "text": [
            "[[-14.303253]] 324\n"
          ]
        }
      ],
      "source": [
        "# demonstrate prediction\n",
        "start = 12\n",
        "y_true = (start+n_in)*(start+n_in)\n",
        "x_input = np.array([fct(x) for x in range(start,start+n_in)])\n",
        "x_input = x_input.reshape((1, n_in, n_features))\n",
        "yhat = model.predict(x_input, verbose=0)\n",
        "print(yhat, y_true)"
      ]
    },
    {
      "cell_type": "markdown",
      "metadata": {
        "id": "KzCOmiPa4t7N"
      },
      "source": [
        "## LSTM network for multi-variate time series \n",
        "\n",
        "Multivariate time series data means data where there is more than one observation for each time step.\n",
        "\n",
        "There are two main models we may need with multivariate time series data. These are the multiple input series or the multiple parallel series depending on whether we want to predict one or more of the variables.\n",
        "\n",
        "In this notebook, we focus on the first case: as input, several time series and as output (the prediction), a single time series."
      ]
    },
    {
      "cell_type": "markdown",
      "metadata": {
        "id": "EkRHkEEQ4t7N"
      },
      "source": [
        "### Prepare the data\n",
        "\n",
        "We reuse the same `series_to_supervise()` function in order to build a dataset with :\n",
        "* n_in elements for each series\n",
        "* n_out elements for each series to be predict\n",
        "\n",
        "You have also to select one (Multiple Input Series) or many time series (Multiple Parallel Series) to predict."
      ]
    },
    {
      "cell_type": "code",
      "execution_count": 65,
      "metadata": {
        "ExecuteTime": {
          "end_time": "2021-10-05T11:21:19.002802Z",
          "start_time": "2021-10-05T11:21:18.994544Z"
        },
        "id": "jfIxh4sH4t7N",
        "colab": {
          "base_uri": "https://localhost:8080/"
        },
        "outputId": "9424fa9a-b44f-4ef9-9822-47b23fa9b738"
      },
      "outputs": [
        {
          "output_type": "execute_result",
          "data": {
            "text/plain": [
              "250"
            ]
          },
          "metadata": {},
          "execution_count": 65
        }
      ],
      "source": [
        "# Get the time series\n",
        "fct2 = lambda x: 2*x\n",
        "time_series1 = [fct(x) for x in range(SIZE)]\n",
        "time_series2 = [fct2(x) for x in range(SIZE)]\n",
        "out_seq = [time_series1[i]+time_series2[i] for i in range(SIZE)]\n",
        "\n",
        "#See the shape:\n",
        "len(out_seq)"
      ]
    },
    {
      "cell_type": "code",
      "execution_count": 66,
      "metadata": {
        "ExecuteTime": {
          "end_time": "2021-10-05T11:21:19.964480Z",
          "start_time": "2021-10-05T11:21:19.950931Z"
        },
        "id": "TE2pFcSa4t7O",
        "colab": {
          "base_uri": "https://localhost:8080/",
          "height": 224
        },
        "outputId": "e698d586-5969-46fd-93b9-979d86db3ee3"
      },
      "outputs": [
        {
          "output_type": "stream",
          "name": "stdout",
          "text": [
            "(250, 3)\n"
          ]
        },
        {
          "output_type": "execute_result",
          "data": {
            "text/html": [
              "\n",
              "  <div id=\"df-408620a8-b36e-4f11-8744-b15ad6204be2\">\n",
              "    <div class=\"colab-df-container\">\n",
              "      <div>\n",
              "<style scoped>\n",
              "    .dataframe tbody tr th:only-of-type {\n",
              "        vertical-align: middle;\n",
              "    }\n",
              "\n",
              "    .dataframe tbody tr th {\n",
              "        vertical-align: top;\n",
              "    }\n",
              "\n",
              "    .dataframe thead th {\n",
              "        text-align: right;\n",
              "    }\n",
              "</style>\n",
              "<table border=\"1\" class=\"dataframe\">\n",
              "  <thead>\n",
              "    <tr style=\"text-align: right;\">\n",
              "      <th></th>\n",
              "      <th>f1</th>\n",
              "      <th>f2</th>\n",
              "      <th>output</th>\n",
              "    </tr>\n",
              "  </thead>\n",
              "  <tbody>\n",
              "    <tr>\n",
              "      <th>0</th>\n",
              "      <td>0.000000</td>\n",
              "      <td>0</td>\n",
              "      <td>0.000000</td>\n",
              "    </tr>\n",
              "    <tr>\n",
              "      <th>1</th>\n",
              "      <td>0.841471</td>\n",
              "      <td>2</td>\n",
              "      <td>2.841471</td>\n",
              "    </tr>\n",
              "    <tr>\n",
              "      <th>2</th>\n",
              "      <td>1.818595</td>\n",
              "      <td>4</td>\n",
              "      <td>5.818595</td>\n",
              "    </tr>\n",
              "    <tr>\n",
              "      <th>3</th>\n",
              "      <td>0.423360</td>\n",
              "      <td>6</td>\n",
              "      <td>6.423360</td>\n",
              "    </tr>\n",
              "    <tr>\n",
              "      <th>4</th>\n",
              "      <td>-3.027210</td>\n",
              "      <td>8</td>\n",
              "      <td>4.972790</td>\n",
              "    </tr>\n",
              "  </tbody>\n",
              "</table>\n",
              "</div>\n",
              "      <button class=\"colab-df-convert\" onclick=\"convertToInteractive('df-408620a8-b36e-4f11-8744-b15ad6204be2')\"\n",
              "              title=\"Convert this dataframe to an interactive table.\"\n",
              "              style=\"display:none;\">\n",
              "        \n",
              "  <svg xmlns=\"http://www.w3.org/2000/svg\" height=\"24px\"viewBox=\"0 0 24 24\"\n",
              "       width=\"24px\">\n",
              "    <path d=\"M0 0h24v24H0V0z\" fill=\"none\"/>\n",
              "    <path d=\"M18.56 5.44l.94 2.06.94-2.06 2.06-.94-2.06-.94-.94-2.06-.94 2.06-2.06.94zm-11 1L8.5 8.5l.94-2.06 2.06-.94-2.06-.94L8.5 2.5l-.94 2.06-2.06.94zm10 10l.94 2.06.94-2.06 2.06-.94-2.06-.94-.94-2.06-.94 2.06-2.06.94z\"/><path d=\"M17.41 7.96l-1.37-1.37c-.4-.4-.92-.59-1.43-.59-.52 0-1.04.2-1.43.59L10.3 9.45l-7.72 7.72c-.78.78-.78 2.05 0 2.83L4 21.41c.39.39.9.59 1.41.59.51 0 1.02-.2 1.41-.59l7.78-7.78 2.81-2.81c.8-.78.8-2.07 0-2.86zM5.41 20L4 18.59l7.72-7.72 1.47 1.35L5.41 20z\"/>\n",
              "  </svg>\n",
              "      </button>\n",
              "      \n",
              "  <style>\n",
              "    .colab-df-container {\n",
              "      display:flex;\n",
              "      flex-wrap:wrap;\n",
              "      gap: 12px;\n",
              "    }\n",
              "\n",
              "    .colab-df-convert {\n",
              "      background-color: #E8F0FE;\n",
              "      border: none;\n",
              "      border-radius: 50%;\n",
              "      cursor: pointer;\n",
              "      display: none;\n",
              "      fill: #1967D2;\n",
              "      height: 32px;\n",
              "      padding: 0 0 0 0;\n",
              "      width: 32px;\n",
              "    }\n",
              "\n",
              "    .colab-df-convert:hover {\n",
              "      background-color: #E2EBFA;\n",
              "      box-shadow: 0px 1px 2px rgba(60, 64, 67, 0.3), 0px 1px 3px 1px rgba(60, 64, 67, 0.15);\n",
              "      fill: #174EA6;\n",
              "    }\n",
              "\n",
              "    [theme=dark] .colab-df-convert {\n",
              "      background-color: #3B4455;\n",
              "      fill: #D2E3FC;\n",
              "    }\n",
              "\n",
              "    [theme=dark] .colab-df-convert:hover {\n",
              "      background-color: #434B5C;\n",
              "      box-shadow: 0px 1px 3px 1px rgba(0, 0, 0, 0.15);\n",
              "      filter: drop-shadow(0px 1px 2px rgba(0, 0, 0, 0.3));\n",
              "      fill: #FFFFFF;\n",
              "    }\n",
              "  </style>\n",
              "\n",
              "      <script>\n",
              "        const buttonEl =\n",
              "          document.querySelector('#df-408620a8-b36e-4f11-8744-b15ad6204be2 button.colab-df-convert');\n",
              "        buttonEl.style.display =\n",
              "          google.colab.kernel.accessAllowed ? 'block' : 'none';\n",
              "\n",
              "        async function convertToInteractive(key) {\n",
              "          const element = document.querySelector('#df-408620a8-b36e-4f11-8744-b15ad6204be2');\n",
              "          const dataTable =\n",
              "            await google.colab.kernel.invokeFunction('convertToInteractive',\n",
              "                                                     [key], {});\n",
              "          if (!dataTable) return;\n",
              "\n",
              "          const docLinkHtml = 'Like what you see? Visit the ' +\n",
              "            '<a target=\"_blank\" href=https://colab.research.google.com/notebooks/data_table.ipynb>data table notebook</a>'\n",
              "            + ' to learn more about interactive tables.';\n",
              "          element.innerHTML = '';\n",
              "          dataTable['output_type'] = 'display_data';\n",
              "          await google.colab.output.renderOutput(dataTable, element);\n",
              "          const docLink = document.createElement('div');\n",
              "          docLink.innerHTML = docLinkHtml;\n",
              "          element.appendChild(docLink);\n",
              "        }\n",
              "      </script>\n",
              "    </div>\n",
              "  </div>\n",
              "  "
            ],
            "text/plain": [
              "         f1  f2    output\n",
              "0  0.000000   0  0.000000\n",
              "1  0.841471   2  2.841471\n",
              "2  1.818595   4  5.818595\n",
              "3  0.423360   6  6.423360\n",
              "4 -3.027210   8  4.972790"
            ]
          },
          "metadata": {},
          "execution_count": 66
        }
      ],
      "source": [
        "# Get the dataset\n",
        "dataset = pd.DataFrame(data={\"f1\":time_series1, \"f2\":time_series2, \"output\":out_seq}, index=range(SIZE))\n",
        "n_features = dataset.shape[1] # for multivariate time series\n",
        "print(dataset.shape)\n",
        "dataset.head()"
      ]
    },
    {
      "cell_type": "markdown",
      "metadata": {
        "id": "L5DLkD5f4t7O"
      },
      "source": [
        "As with the univariate time series, we must structure these data into samples with input and output elements.\n",
        "An LSTM model needs sufficient context to learn a mapping from an input sequence to an output value. LSTMs can support parallel input time series as separate variables or features. Therefore, we need to split the data into samples maintaining the order of observations across the two input sequences.\n",
        "\n",
        "If we chose six input time steps for the three features, we have to transform the dataset in the following way."
      ]
    },
    {
      "cell_type": "code",
      "execution_count": 67,
      "metadata": {
        "ExecuteTime": {
          "end_time": "2021-10-05T11:21:21.637591Z",
          "start_time": "2021-10-05T11:21:21.603113Z"
        },
        "id": "75mACpDJ4t7O",
        "colab": {
          "base_uri": "https://localhost:8080/",
          "height": 288
        },
        "outputId": "f0229b64-c212-494d-e875-76c415aeef5c"
      },
      "outputs": [
        {
          "output_type": "execute_result",
          "data": {
            "text/html": [
              "\n",
              "  <div id=\"df-ada57b1b-e6c2-476a-bb20-032eab3a9c43\">\n",
              "    <div class=\"colab-df-container\">\n",
              "      <div>\n",
              "<style scoped>\n",
              "    .dataframe tbody tr th:only-of-type {\n",
              "        vertical-align: middle;\n",
              "    }\n",
              "\n",
              "    .dataframe tbody tr th {\n",
              "        vertical-align: top;\n",
              "    }\n",
              "\n",
              "    .dataframe thead th {\n",
              "        text-align: right;\n",
              "    }\n",
              "</style>\n",
              "<table border=\"1\" class=\"dataframe\">\n",
              "  <thead>\n",
              "    <tr style=\"text-align: right;\">\n",
              "      <th></th>\n",
              "      <th>f1(t-6)</th>\n",
              "      <th>f2(t-6)</th>\n",
              "      <th>output(t-6)</th>\n",
              "      <th>f1(t-5)</th>\n",
              "      <th>f2(t-5)</th>\n",
              "      <th>output(t-5)</th>\n",
              "      <th>f1(t-4)</th>\n",
              "      <th>f2(t-4)</th>\n",
              "      <th>output(t-4)</th>\n",
              "      <th>f1(t-3)</th>\n",
              "      <th>f2(t-3)</th>\n",
              "      <th>output(t-3)</th>\n",
              "      <th>f1(t-2)</th>\n",
              "      <th>f2(t-2)</th>\n",
              "      <th>output(t-2)</th>\n",
              "      <th>f1(t-1)</th>\n",
              "      <th>f2(t-1)</th>\n",
              "      <th>output(t-1)</th>\n",
              "      <th>output(t)</th>\n",
              "    </tr>\n",
              "  </thead>\n",
              "  <tbody>\n",
              "    <tr>\n",
              "      <th>6</th>\n",
              "      <td>0.000000</td>\n",
              "      <td>0.0</td>\n",
              "      <td>0.000000</td>\n",
              "      <td>0.841471</td>\n",
              "      <td>2.0</td>\n",
              "      <td>2.841471</td>\n",
              "      <td>1.818595</td>\n",
              "      <td>4.0</td>\n",
              "      <td>5.818595</td>\n",
              "      <td>0.423360</td>\n",
              "      <td>6.0</td>\n",
              "      <td>6.423360</td>\n",
              "      <td>-3.027210</td>\n",
              "      <td>8.0</td>\n",
              "      <td>4.972790</td>\n",
              "      <td>-4.794621</td>\n",
              "      <td>10.0</td>\n",
              "      <td>5.205379</td>\n",
              "      <td>10.323507</td>\n",
              "    </tr>\n",
              "    <tr>\n",
              "      <th>7</th>\n",
              "      <td>0.841471</td>\n",
              "      <td>2.0</td>\n",
              "      <td>2.841471</td>\n",
              "      <td>1.818595</td>\n",
              "      <td>4.0</td>\n",
              "      <td>5.818595</td>\n",
              "      <td>0.423360</td>\n",
              "      <td>6.0</td>\n",
              "      <td>6.423360</td>\n",
              "      <td>-3.027210</td>\n",
              "      <td>8.0</td>\n",
              "      <td>4.972790</td>\n",
              "      <td>-4.794621</td>\n",
              "      <td>10.0</td>\n",
              "      <td>5.205379</td>\n",
              "      <td>-1.676493</td>\n",
              "      <td>12.0</td>\n",
              "      <td>10.323507</td>\n",
              "      <td>18.598906</td>\n",
              "    </tr>\n",
              "    <tr>\n",
              "      <th>8</th>\n",
              "      <td>1.818595</td>\n",
              "      <td>4.0</td>\n",
              "      <td>5.818595</td>\n",
              "      <td>0.423360</td>\n",
              "      <td>6.0</td>\n",
              "      <td>6.423360</td>\n",
              "      <td>-3.027210</td>\n",
              "      <td>8.0</td>\n",
              "      <td>4.972790</td>\n",
              "      <td>-4.794621</td>\n",
              "      <td>10.0</td>\n",
              "      <td>5.205379</td>\n",
              "      <td>-1.676493</td>\n",
              "      <td>12.0</td>\n",
              "      <td>10.323507</td>\n",
              "      <td>4.598906</td>\n",
              "      <td>14.0</td>\n",
              "      <td>18.598906</td>\n",
              "      <td>23.914866</td>\n",
              "    </tr>\n",
              "    <tr>\n",
              "      <th>9</th>\n",
              "      <td>0.423360</td>\n",
              "      <td>6.0</td>\n",
              "      <td>6.423360</td>\n",
              "      <td>-3.027210</td>\n",
              "      <td>8.0</td>\n",
              "      <td>4.972790</td>\n",
              "      <td>-4.794621</td>\n",
              "      <td>10.0</td>\n",
              "      <td>5.205379</td>\n",
              "      <td>-1.676493</td>\n",
              "      <td>12.0</td>\n",
              "      <td>10.323507</td>\n",
              "      <td>4.598906</td>\n",
              "      <td>14.0</td>\n",
              "      <td>18.598906</td>\n",
              "      <td>7.914866</td>\n",
              "      <td>16.0</td>\n",
              "      <td>23.914866</td>\n",
              "      <td>21.709066</td>\n",
              "    </tr>\n",
              "    <tr>\n",
              "      <th>10</th>\n",
              "      <td>-3.027210</td>\n",
              "      <td>8.0</td>\n",
              "      <td>4.972790</td>\n",
              "      <td>-4.794621</td>\n",
              "      <td>10.0</td>\n",
              "      <td>5.205379</td>\n",
              "      <td>-1.676493</td>\n",
              "      <td>12.0</td>\n",
              "      <td>10.323507</td>\n",
              "      <td>4.598906</td>\n",
              "      <td>14.0</td>\n",
              "      <td>18.598906</td>\n",
              "      <td>7.914866</td>\n",
              "      <td>16.0</td>\n",
              "      <td>23.914866</td>\n",
              "      <td>3.709066</td>\n",
              "      <td>18.0</td>\n",
              "      <td>21.709066</td>\n",
              "      <td>14.559789</td>\n",
              "    </tr>\n",
              "  </tbody>\n",
              "</table>\n",
              "</div>\n",
              "      <button class=\"colab-df-convert\" onclick=\"convertToInteractive('df-ada57b1b-e6c2-476a-bb20-032eab3a9c43')\"\n",
              "              title=\"Convert this dataframe to an interactive table.\"\n",
              "              style=\"display:none;\">\n",
              "        \n",
              "  <svg xmlns=\"http://www.w3.org/2000/svg\" height=\"24px\"viewBox=\"0 0 24 24\"\n",
              "       width=\"24px\">\n",
              "    <path d=\"M0 0h24v24H0V0z\" fill=\"none\"/>\n",
              "    <path d=\"M18.56 5.44l.94 2.06.94-2.06 2.06-.94-2.06-.94-.94-2.06-.94 2.06-2.06.94zm-11 1L8.5 8.5l.94-2.06 2.06-.94-2.06-.94L8.5 2.5l-.94 2.06-2.06.94zm10 10l.94 2.06.94-2.06 2.06-.94-2.06-.94-.94-2.06-.94 2.06-2.06.94z\"/><path d=\"M17.41 7.96l-1.37-1.37c-.4-.4-.92-.59-1.43-.59-.52 0-1.04.2-1.43.59L10.3 9.45l-7.72 7.72c-.78.78-.78 2.05 0 2.83L4 21.41c.39.39.9.59 1.41.59.51 0 1.02-.2 1.41-.59l7.78-7.78 2.81-2.81c.8-.78.8-2.07 0-2.86zM5.41 20L4 18.59l7.72-7.72 1.47 1.35L5.41 20z\"/>\n",
              "  </svg>\n",
              "      </button>\n",
              "      \n",
              "  <style>\n",
              "    .colab-df-container {\n",
              "      display:flex;\n",
              "      flex-wrap:wrap;\n",
              "      gap: 12px;\n",
              "    }\n",
              "\n",
              "    .colab-df-convert {\n",
              "      background-color: #E8F0FE;\n",
              "      border: none;\n",
              "      border-radius: 50%;\n",
              "      cursor: pointer;\n",
              "      display: none;\n",
              "      fill: #1967D2;\n",
              "      height: 32px;\n",
              "      padding: 0 0 0 0;\n",
              "      width: 32px;\n",
              "    }\n",
              "\n",
              "    .colab-df-convert:hover {\n",
              "      background-color: #E2EBFA;\n",
              "      box-shadow: 0px 1px 2px rgba(60, 64, 67, 0.3), 0px 1px 3px 1px rgba(60, 64, 67, 0.15);\n",
              "      fill: #174EA6;\n",
              "    }\n",
              "\n",
              "    [theme=dark] .colab-df-convert {\n",
              "      background-color: #3B4455;\n",
              "      fill: #D2E3FC;\n",
              "    }\n",
              "\n",
              "    [theme=dark] .colab-df-convert:hover {\n",
              "      background-color: #434B5C;\n",
              "      box-shadow: 0px 1px 3px 1px rgba(0, 0, 0, 0.15);\n",
              "      filter: drop-shadow(0px 1px 2px rgba(0, 0, 0, 0.3));\n",
              "      fill: #FFFFFF;\n",
              "    }\n",
              "  </style>\n",
              "\n",
              "      <script>\n",
              "        const buttonEl =\n",
              "          document.querySelector('#df-ada57b1b-e6c2-476a-bb20-032eab3a9c43 button.colab-df-convert');\n",
              "        buttonEl.style.display =\n",
              "          google.colab.kernel.accessAllowed ? 'block' : 'none';\n",
              "\n",
              "        async function convertToInteractive(key) {\n",
              "          const element = document.querySelector('#df-ada57b1b-e6c2-476a-bb20-032eab3a9c43');\n",
              "          const dataTable =\n",
              "            await google.colab.kernel.invokeFunction('convertToInteractive',\n",
              "                                                     [key], {});\n",
              "          if (!dataTable) return;\n",
              "\n",
              "          const docLinkHtml = 'Like what you see? Visit the ' +\n",
              "            '<a target=\"_blank\" href=https://colab.research.google.com/notebooks/data_table.ipynb>data table notebook</a>'\n",
              "            + ' to learn more about interactive tables.';\n",
              "          element.innerHTML = '';\n",
              "          dataTable['output_type'] = 'display_data';\n",
              "          await google.colab.output.renderOutput(dataTable, element);\n",
              "          const docLink = document.createElement('div');\n",
              "          docLink.innerHTML = docLinkHtml;\n",
              "          element.appendChild(docLink);\n",
              "        }\n",
              "      </script>\n",
              "    </div>\n",
              "  </div>\n",
              "  "
            ],
            "text/plain": [
              "     f1(t-6)  f2(t-6)  output(t-6)  ...  f2(t-1)  output(t-1)  output(t)\n",
              "6   0.000000      0.0     0.000000  ...     10.0     5.205379  10.323507\n",
              "7   0.841471      2.0     2.841471  ...     12.0    10.323507  18.598906\n",
              "8   1.818595      4.0     5.818595  ...     14.0    18.598906  23.914866\n",
              "9   0.423360      6.0     6.423360  ...     16.0    23.914866  21.709066\n",
              "10 -3.027210      8.0     4.972790  ...     18.0    21.709066  14.559789\n",
              "\n",
              "[5 rows x 19 columns]"
            ]
          },
          "metadata": {},
          "execution_count": 67
        }
      ],
      "source": [
        "# As previously, prepare the dataset\n",
        "''' In the followig example, we select \n",
        "- n_in number of time steps (6)\n",
        "- n_out number of time steps of output\n",
        "- and one serie to predict : output\n",
        "'''\n",
        "n_features = dataset.shape[1] # for multivariate time series\n",
        "n_in = 6\n",
        "n_out = 1\n",
        "output = [\"output\"]\n",
        "\n",
        "data = series_to_supervised(dataset, n_in, n_out, output=output)\n",
        "data.head()"
      ]
    },
    {
      "cell_type": "code",
      "execution_count": 68,
      "metadata": {
        "ExecuteTime": {
          "end_time": "2021-10-05T11:21:22.808795Z",
          "start_time": "2021-10-05T11:21:22.778140Z"
        },
        "id": "WBEEHc7r4t7P",
        "colab": {
          "base_uri": "https://localhost:8080/"
        },
        "outputId": "7231c59d-572a-47c7-d0c7-446020b2f2e5"
      },
      "outputs": [
        {
          "output_type": "stream",
          "name": "stdout",
          "text": [
            "TRAIN=time_series[:196]\n",
            "VALID=time_series[196:220]\n",
            "TEST=time_series[220:]\n"
          ]
        }
      ],
      "source": [
        "# Split dataset into TRAIN, VAL and TEST\n",
        "testAndValid = 0.1\n",
        "\n",
        "SPLIT = int(testAndValid*len(data))\n",
        "idx_train = len(data)-2*SPLIT\n",
        "idx_test = len(data)-SPLIT\n",
        "\n",
        "print(\"TRAIN=time_series[:\"+str(idx_train)+\"]\")\n",
        "print(\"VALID=time_series[\"+str(idx_train)+\":\"+str(idx_test)+\"]\")\n",
        "print(\"TEST=time_series[\"+str(idx_test)+\":]\")\n",
        "\n",
        "TRAIN=data[:idx_train]\n",
        "VAL=data[idx_train:idx_test]\n",
        "TEST=data[idx_test:]"
      ]
    },
    {
      "cell_type": "markdown",
      "metadata": {
        "ExecuteTime": {
          "end_time": "2022-01-29T14:41:03.436214Z",
          "start_time": "2022-01-29T14:41:03.427098Z"
        },
        "id": "HTGrWzF74t7P"
      },
      "source": [
        "<font color='red'>\n",
        "$TO DO - Students$\n",
        "\n",
        "* build train_X, val_X, test_X and train_y, val_y and test_y as before. Then print the shapes of tensors\n",
        "    * train_X is a 3D-tensor (196, 6, 3) for me\n",
        "    * train_y is a 1D-tensor (196,)\n",
        "</font>"
      ]
    },
    {
      "cell_type": "code",
      "execution_count": 69,
      "metadata": {
        "ExecuteTime": {
          "end_time": "2022-01-29T15:21:30.540318Z",
          "start_time": "2022-01-29T15:21:30.522817Z"
        },
        "id": "7V_h-hEJ4t7P",
        "colab": {
          "base_uri": "https://localhost:8080/"
        },
        "outputId": "4195f6f1-cfaa-43b3-8769-c7ec10456829"
      },
      "outputs": [
        {
          "output_type": "stream",
          "name": "stdout",
          "text": [
            "train_X.shape, train_y.shape  (196, 6, 3) (196,)\n",
            "val_X.shape, val_y.shape (24, 6, 3) (24,)\n",
            "test_X.shape, test_y.shape (24, 6, 3) (24,)\n"
          ]
        }
      ],
      "source": [
        "\"\"\" FILL \"\"\"\n",
        "\n",
        "# split into input and outputs\n",
        "train_X, train_y = TRAIN.values[:, :-n_out], TRAIN.values[:, -n_out]\n",
        "val_X, val_y = VAL.values[:, :-n_out], VAL.values[:, -n_out]\n",
        "test_X, test_y = TEST.values[:, :-n_out], TEST.values[:, -n_out]\n",
        "\n",
        "# reshape input to be 3D [samples, timesteps, features]\n",
        "train_X = train_X.reshape((-1, n_in, n_features))\n",
        "val_X = val_X.reshape((-1, n_in, n_features))\n",
        "test_X = test_X.reshape((-1, n_in, n_features))\n",
        "\n",
        "print(\"train_X.shape, train_y.shape \", train_X.shape, train_y.shape )\n",
        "print(\"val_X.shape, val_y.shape\",val_X.shape, val_y.shape)\n",
        "print(\"test_X.shape, test_y.shape\", test_X.shape, test_y.shape)"
      ]
    },
    {
      "cell_type": "markdown",
      "metadata": {
        "id": "drI3zAc24t7P"
      },
      "source": [
        "### Build a neuronal model"
      ]
    },
    {
      "cell_type": "markdown",
      "metadata": {
        "id": "2H55lbt-4t7Q"
      },
      "source": [
        "Any of the varieties of LSTMs in the previous section can be used, such as a Vanilla, Stacked, Bidirectional. It's also possible to use CNN or mixed CNN and LSTM.\n",
        "\n",
        "We will use a Vanilla LSTM where the number of time steps and parallel series (features) are specified for the input layer via the input_shape argument."
      ]
    },
    {
      "cell_type": "code",
      "execution_count": 70,
      "metadata": {
        "ExecuteTime": {
          "end_time": "2021-10-05T11:21:26.613409Z",
          "start_time": "2021-10-05T11:21:26.508414Z"
        },
        "id": "zipY9XRh4t7Q",
        "colab": {
          "base_uri": "https://localhost:8080/"
        },
        "outputId": "829e2e39-0bd6-47d7-c635-06942aa683a6"
      },
      "outputs": [
        {
          "output_type": "stream",
          "name": "stdout",
          "text": [
            "Model: \"model_4\"\n",
            "_________________________________________________________________\n",
            " Layer (type)                Output Shape              Param #   \n",
            "=================================================================\n",
            " input_5 (InputLayer)        [(None, 6, 3)]            0         \n",
            "                                                                 \n",
            " lstm_10 (LSTM)              (None, 16)                1280      \n",
            "                                                                 \n",
            " dense_4 (Dense)             (None, 1)                 17        \n",
            "                                                                 \n",
            "=================================================================\n",
            "Total params: 1,297\n",
            "Trainable params: 1,297\n",
            "Non-trainable params: 0\n",
            "_________________________________________________________________\n"
          ]
        }
      ],
      "source": [
        "inputs = Input(shape=(n_in, n_features))\n",
        "hidden = LSTM(LSTM_SIZE, return_sequences=False, activation='relu')(inputs)\n",
        "outputs = Dense(n_out, activation='linear')(hidden)\n",
        "model = Model(inputs, outputs)\n",
        "model.summary()"
      ]
    },
    {
      "cell_type": "code",
      "execution_count": 71,
      "metadata": {
        "ExecuteTime": {
          "end_time": "2021-10-05T11:21:37.636496Z",
          "start_time": "2021-10-05T11:21:27.532691Z"
        },
        "id": "mdGMZzLh4t7Q",
        "colab": {
          "base_uri": "https://localhost:8080/",
          "height": 1000
        },
        "outputId": "e69a465c-a049-409c-e178-1632dccba935"
      },
      "outputs": [
        {
          "output_type": "stream",
          "name": "stdout",
          "text": [
            "Epoch 1/200\n",
            "7/7 - 2s - loss: 204.7721 - mean_absolute_error: 204.7721 - val_loss: 424.3469 - val_mean_absolute_error: 424.3469 - 2s/epoch - 228ms/step\n",
            "Epoch 2/200\n",
            "7/7 - 0s - loss: 204.0296 - mean_absolute_error: 204.0296 - val_loss: 423.0189 - val_mean_absolute_error: 423.0189 - 45ms/epoch - 6ms/step\n",
            "Epoch 3/200\n",
            "7/7 - 0s - loss: 203.2113 - mean_absolute_error: 203.2113 - val_loss: 421.6277 - val_mean_absolute_error: 421.6277 - 43ms/epoch - 6ms/step\n",
            "Epoch 4/200\n",
            "7/7 - 0s - loss: 202.2569 - mean_absolute_error: 202.2569 - val_loss: 419.2127 - val_mean_absolute_error: 419.2127 - 44ms/epoch - 6ms/step\n",
            "Epoch 5/200\n",
            "7/7 - 0s - loss: 201.0128 - mean_absolute_error: 201.0128 - val_loss: 415.8944 - val_mean_absolute_error: 415.8944 - 48ms/epoch - 7ms/step\n",
            "Epoch 6/200\n",
            "7/7 - 0s - loss: 199.2789 - mean_absolute_error: 199.2789 - val_loss: 412.4673 - val_mean_absolute_error: 412.4673 - 49ms/epoch - 7ms/step\n",
            "Epoch 7/200\n",
            "7/7 - 0s - loss: 196.3936 - mean_absolute_error: 196.3936 - val_loss: 403.8230 - val_mean_absolute_error: 403.8230 - 51ms/epoch - 7ms/step\n",
            "Epoch 8/200\n",
            "7/7 - 0s - loss: 188.4542 - mean_absolute_error: 188.4542 - val_loss: 370.5367 - val_mean_absolute_error: 370.5367 - 47ms/epoch - 7ms/step\n",
            "Epoch 9/200\n",
            "7/7 - 0s - loss: 170.7588 - mean_absolute_error: 170.7588 - val_loss: 344.2580 - val_mean_absolute_error: 344.2580 - 52ms/epoch - 7ms/step\n",
            "Epoch 10/200\n",
            "7/7 - 0s - loss: 157.8390 - mean_absolute_error: 157.8390 - val_loss: 305.0610 - val_mean_absolute_error: 305.0610 - 48ms/epoch - 7ms/step\n",
            "Epoch 11/200\n",
            "7/7 - 0s - loss: 124.3571 - mean_absolute_error: 124.3571 - val_loss: 229.2469 - val_mean_absolute_error: 229.2469 - 50ms/epoch - 7ms/step\n",
            "Epoch 12/200\n",
            "7/7 - 0s - loss: 82.9743 - mean_absolute_error: 82.9743 - val_loss: 124.8799 - val_mean_absolute_error: 124.8799 - 48ms/epoch - 7ms/step\n",
            "Epoch 13/200\n",
            "7/7 - 0s - loss: 60.2220 - mean_absolute_error: 60.2220 - val_loss: 157.3414 - val_mean_absolute_error: 157.3414 - 43ms/epoch - 6ms/step\n",
            "Epoch 14/200\n",
            "7/7 - 0s - loss: 59.0769 - mean_absolute_error: 59.0769 - val_loss: 105.8151 - val_mean_absolute_error: 105.8151 - 47ms/epoch - 7ms/step\n",
            "Epoch 15/200\n",
            "7/7 - 0s - loss: 47.7526 - mean_absolute_error: 47.7526 - val_loss: 126.7217 - val_mean_absolute_error: 126.7217 - 45ms/epoch - 6ms/step\n",
            "Epoch 16/200\n",
            "7/7 - 0s - loss: 63.5178 - mean_absolute_error: 63.5178 - val_loss: 143.3047 - val_mean_absolute_error: 143.3047 - 50ms/epoch - 7ms/step\n",
            "Epoch 17/200\n",
            "7/7 - 0s - loss: 60.6906 - mean_absolute_error: 60.6906 - val_loss: 124.4430 - val_mean_absolute_error: 124.4430 - 52ms/epoch - 7ms/step\n",
            "Epoch 18/200\n",
            "7/7 - 0s - loss: 52.0524 - mean_absolute_error: 52.0524 - val_loss: 103.7063 - val_mean_absolute_error: 103.7063 - 51ms/epoch - 7ms/step\n",
            "Epoch 19/200\n",
            "7/7 - 0s - loss: 45.3890 - mean_absolute_error: 45.3890 - val_loss: 89.8261 - val_mean_absolute_error: 89.8261 - 55ms/epoch - 8ms/step\n",
            "Epoch 20/200\n",
            "7/7 - 0s - loss: 39.6370 - mean_absolute_error: 39.6370 - val_loss: 69.4485 - val_mean_absolute_error: 69.4485 - 48ms/epoch - 7ms/step\n",
            "Epoch 21/200\n",
            "7/7 - 0s - loss: 35.1836 - mean_absolute_error: 35.1836 - val_loss: 60.8055 - val_mean_absolute_error: 60.8055 - 44ms/epoch - 6ms/step\n",
            "Epoch 22/200\n",
            "7/7 - 0s - loss: 31.3941 - mean_absolute_error: 31.3941 - val_loss: 63.3682 - val_mean_absolute_error: 63.3682 - 53ms/epoch - 8ms/step\n",
            "Epoch 23/200\n",
            "7/7 - 0s - loss: 28.9260 - mean_absolute_error: 28.9260 - val_loss: 64.1688 - val_mean_absolute_error: 64.1688 - 48ms/epoch - 7ms/step\n",
            "Epoch 24/200\n",
            "7/7 - 0s - loss: 27.7526 - mean_absolute_error: 27.7526 - val_loss: 60.7944 - val_mean_absolute_error: 60.7944 - 49ms/epoch - 7ms/step\n",
            "Epoch 25/200\n",
            "7/7 - 0s - loss: 25.8118 - mean_absolute_error: 25.8118 - val_loss: 53.7834 - val_mean_absolute_error: 53.7834 - 49ms/epoch - 7ms/step\n",
            "Epoch 26/200\n",
            "7/7 - 0s - loss: 25.5179 - mean_absolute_error: 25.5179 - val_loss: 55.7362 - val_mean_absolute_error: 55.7362 - 48ms/epoch - 7ms/step\n",
            "Epoch 27/200\n",
            "7/7 - 0s - loss: 22.0124 - mean_absolute_error: 22.0124 - val_loss: 46.2162 - val_mean_absolute_error: 46.2162 - 63ms/epoch - 9ms/step\n",
            "Epoch 28/200\n",
            "7/7 - 0s - loss: 21.6903 - mean_absolute_error: 21.6903 - val_loss: 47.6274 - val_mean_absolute_error: 47.6274 - 62ms/epoch - 9ms/step\n",
            "Epoch 29/200\n",
            "7/7 - 0s - loss: 19.9570 - mean_absolute_error: 19.9570 - val_loss: 40.7624 - val_mean_absolute_error: 40.7624 - 49ms/epoch - 7ms/step\n",
            "Epoch 30/200\n",
            "7/7 - 0s - loss: 18.9102 - mean_absolute_error: 18.9102 - val_loss: 38.9413 - val_mean_absolute_error: 38.9413 - 51ms/epoch - 7ms/step\n",
            "Epoch 31/200\n",
            "7/7 - 0s - loss: 19.1244 - mean_absolute_error: 19.1244 - val_loss: 40.2195 - val_mean_absolute_error: 40.2195 - 46ms/epoch - 7ms/step\n",
            "Epoch 32/200\n",
            "7/7 - 0s - loss: 18.6362 - mean_absolute_error: 18.6362 - val_loss: 39.1131 - val_mean_absolute_error: 39.1131 - 48ms/epoch - 7ms/step\n",
            "Epoch 33/200\n",
            "7/7 - 0s - loss: 18.2547 - mean_absolute_error: 18.2547 - val_loss: 41.4678 - val_mean_absolute_error: 41.4678 - 47ms/epoch - 7ms/step\n",
            "Epoch 34/200\n",
            "7/7 - 0s - loss: 17.5537 - mean_absolute_error: 17.5537 - val_loss: 47.5758 - val_mean_absolute_error: 47.5758 - 64ms/epoch - 9ms/step\n",
            "Epoch 35/200\n",
            "7/7 - 0s - loss: 19.2442 - mean_absolute_error: 19.2442 - val_loss: 39.0456 - val_mean_absolute_error: 39.0456 - 52ms/epoch - 7ms/step\n",
            "Epoch 36/200\n",
            "7/7 - 0s - loss: 22.7625 - mean_absolute_error: 22.7625 - val_loss: 60.9443 - val_mean_absolute_error: 60.9443 - 48ms/epoch - 7ms/step\n",
            "Epoch 37/200\n",
            "7/7 - 0s - loss: 23.7997 - mean_absolute_error: 23.7997 - val_loss: 57.1548 - val_mean_absolute_error: 57.1548 - 57ms/epoch - 8ms/step\n",
            "Epoch 38/200\n",
            "7/7 - 0s - loss: 24.4709 - mean_absolute_error: 24.4709 - val_loss: 47.5060 - val_mean_absolute_error: 47.5060 - 54ms/epoch - 8ms/step\n",
            "Epoch 39/200\n",
            "7/7 - 0s - loss: 20.5678 - mean_absolute_error: 20.5678 - val_loss: 50.7844 - val_mean_absolute_error: 50.7844 - 48ms/epoch - 7ms/step\n",
            "Epoch 40/200\n",
            "7/7 - 0s - loss: 25.6768 - mean_absolute_error: 25.6768 - val_loss: 55.5601 - val_mean_absolute_error: 55.5601 - 48ms/epoch - 7ms/step\n",
            "Epoch 41/200\n",
            "7/7 - 0s - loss: 23.6446 - mean_absolute_error: 23.6446 - val_loss: 51.6962 - val_mean_absolute_error: 51.6962 - 52ms/epoch - 7ms/step\n",
            "Epoch 42/200\n",
            "7/7 - 0s - loss: 21.0520 - mean_absolute_error: 21.0520 - val_loss: 51.4041 - val_mean_absolute_error: 51.4041 - 52ms/epoch - 7ms/step\n",
            "Epoch 43/200\n",
            "7/7 - 0s - loss: 19.9897 - mean_absolute_error: 19.9897 - val_loss: 43.3442 - val_mean_absolute_error: 43.3442 - 48ms/epoch - 7ms/step\n",
            "Epoch 44/200\n",
            "7/7 - 0s - loss: 16.5596 - mean_absolute_error: 16.5596 - val_loss: 40.1088 - val_mean_absolute_error: 40.1088 - 51ms/epoch - 7ms/step\n",
            "Epoch 45/200\n",
            "7/7 - 0s - loss: 17.0716 - mean_absolute_error: 17.0716 - val_loss: 32.9291 - val_mean_absolute_error: 32.9291 - 52ms/epoch - 7ms/step\n",
            "Epoch 46/200\n",
            "7/7 - 0s - loss: 15.4707 - mean_absolute_error: 15.4707 - val_loss: 30.3119 - val_mean_absolute_error: 30.3119 - 49ms/epoch - 7ms/step\n",
            "Epoch 47/200\n",
            "7/7 - 0s - loss: 15.1828 - mean_absolute_error: 15.1828 - val_loss: 28.0238 - val_mean_absolute_error: 28.0238 - 46ms/epoch - 7ms/step\n",
            "Epoch 48/200\n",
            "7/7 - 0s - loss: 14.6960 - mean_absolute_error: 14.6960 - val_loss: 28.1234 - val_mean_absolute_error: 28.1234 - 48ms/epoch - 7ms/step\n",
            "Epoch 49/200\n",
            "7/7 - 0s - loss: 14.0177 - mean_absolute_error: 14.0177 - val_loss: 32.4956 - val_mean_absolute_error: 32.4956 - 54ms/epoch - 8ms/step\n",
            "Epoch 50/200\n",
            "7/7 - 0s - loss: 12.9005 - mean_absolute_error: 12.9005 - val_loss: 35.7545 - val_mean_absolute_error: 35.7545 - 50ms/epoch - 7ms/step\n",
            "Epoch 51/200\n",
            "7/7 - 0s - loss: 12.9241 - mean_absolute_error: 12.9241 - val_loss: 36.0662 - val_mean_absolute_error: 36.0662 - 47ms/epoch - 7ms/step\n",
            "Epoch 52/200\n",
            "7/7 - 0s - loss: 13.5687 - mean_absolute_error: 13.5687 - val_loss: 30.7077 - val_mean_absolute_error: 30.7077 - 46ms/epoch - 7ms/step\n",
            "Epoch 53/200\n",
            "7/7 - 0s - loss: 14.9067 - mean_absolute_error: 14.9067 - val_loss: 30.4856 - val_mean_absolute_error: 30.4856 - 57ms/epoch - 8ms/step\n",
            "Epoch 54/200\n",
            "7/7 - 0s - loss: 13.0862 - mean_absolute_error: 13.0862 - val_loss: 29.1544 - val_mean_absolute_error: 29.1544 - 47ms/epoch - 7ms/step\n",
            "Epoch 55/200\n",
            "7/7 - 0s - loss: 12.3912 - mean_absolute_error: 12.3912 - val_loss: 33.8778 - val_mean_absolute_error: 33.8778 - 56ms/epoch - 8ms/step\n",
            "Epoch 56/200\n",
            "7/7 - 0s - loss: 14.5434 - mean_absolute_error: 14.5434 - val_loss: 33.9237 - val_mean_absolute_error: 33.9237 - 49ms/epoch - 7ms/step\n",
            "Epoch 57/200\n",
            "7/7 - 0s - loss: 13.9458 - mean_absolute_error: 13.9458 - val_loss: 33.7861 - val_mean_absolute_error: 33.7861 - 46ms/epoch - 7ms/step\n",
            "Epoch 58/200\n",
            "7/7 - 0s - loss: 14.8602 - mean_absolute_error: 14.8602 - val_loss: 34.3585 - val_mean_absolute_error: 34.3585 - 48ms/epoch - 7ms/step\n",
            "Epoch 59/200\n",
            "7/7 - 0s - loss: 16.0301 - mean_absolute_error: 16.0301 - val_loss: 35.5987 - val_mean_absolute_error: 35.5987 - 48ms/epoch - 7ms/step\n",
            "Epoch 60/200\n",
            "7/7 - 0s - loss: 20.5095 - mean_absolute_error: 20.5095 - val_loss: 34.0896 - val_mean_absolute_error: 34.0896 - 62ms/epoch - 9ms/step\n",
            "Epoch 61/200\n",
            "7/7 - 0s - loss: 15.8610 - mean_absolute_error: 15.8610 - val_loss: 29.8619 - val_mean_absolute_error: 29.8619 - 55ms/epoch - 8ms/step\n",
            "Epoch 62/200\n",
            "7/7 - 0s - loss: 14.0281 - mean_absolute_error: 14.0281 - val_loss: 29.3793 - val_mean_absolute_error: 29.3793 - 57ms/epoch - 8ms/step\n",
            "Epoch 63/200\n",
            "7/7 - 0s - loss: 14.7759 - mean_absolute_error: 14.7759 - val_loss: 44.3580 - val_mean_absolute_error: 44.3580 - 50ms/epoch - 7ms/step\n",
            "Epoch 64/200\n",
            "7/7 - 0s - loss: 29.3428 - mean_absolute_error: 29.3428 - val_loss: 52.1867 - val_mean_absolute_error: 52.1867 - 53ms/epoch - 8ms/step\n",
            "Epoch 65/200\n",
            "7/7 - 0s - loss: 25.3283 - mean_absolute_error: 25.3283 - val_loss: 50.4409 - val_mean_absolute_error: 50.4409 - 61ms/epoch - 9ms/step\n",
            "Epoch 66/200\n",
            "7/7 - 0s - loss: 21.9710 - mean_absolute_error: 21.9710 - val_loss: 47.5273 - val_mean_absolute_error: 47.5273 - 58ms/epoch - 8ms/step\n",
            "Epoch 67/200\n",
            "7/7 - 0s - loss: 19.3326 - mean_absolute_error: 19.3326 - val_loss: 37.0609 - val_mean_absolute_error: 37.0609 - 56ms/epoch - 8ms/step\n",
            "Epoch 00067: early stopping\n"
          ]
        },
        {
          "output_type": "display_data",
          "data": {
            "image/png": "[encoded data removed]",
            "text/plain": [
              "<Figure size 1440x576 with 3 Axes>"
            ]
          },
          "metadata": {
            "needs_background": "light"
          }
        }
      ],
      "source": [
        "model = build_and_fit(model, train_X, train_y, val_X, val_y, test_X, test_y)"
      ]
    },
    {
      "cell_type": "markdown",
      "metadata": {
        "id": "z2BBI-s24t7Q"
      },
      "source": [
        "## Lab work: Air Pollution Forecasting\n",
        "\n",
        "This is a dataset that reports on the weather and the level of pollution each hour for five years at the US embassy in Beijing, China.\n",
        "\n",
        "The data includes the date-time, the pollution called PM2.5 concentration, and the weather information including dew point, temperature, pressure, wind direction, wind speed and the cumulative number of hours of snow and rain. The complete feature list in the raw data is as follows:\n",
        "\n",
        "1. No: row number\n",
        "1. year: year of data in this row\n",
        "1. month: month of data in this row\n",
        "1. day: day of data in this row\n",
        "1. hour: hour of data in this row\n",
        "1. pm2.5: PM2.5 concentration\n",
        "1. DEWP: Dew Point\n",
        "1. TEMP: Temperature\n",
        "1. PRES: Pressure\n",
        "1. cbwd: Combined wind direction\n",
        "1. Iws: Cumulated wind speed\n",
        "1. Is: Cumulated hours of snow\n",
        "1. Ir: Cumulated hours of rain\n",
        "\n",
        "We can use this data and frame a forecasting problem where, given the weather conditions and pollution for prior hours, we forecast the pollution at the next hour.\n",
        "\n",
        "This dataset can be used to frame other forecasting problems."
      ]
    },
    {
      "cell_type": "markdown",
      "metadata": {
        "id": "9Xjvx6SV4t7R"
      },
      "source": [
        "## Load the data"
      ]
    },
    {
      "cell_type": "code",
      "execution_count": 72,
      "metadata": {
        "ExecuteTime": {
          "end_time": "2021-10-05T11:21:49.916418Z",
          "start_time": "2021-10-05T11:21:49.912398Z"
        },
        "id": "mkKxSW-74t7R"
      },
      "outputs": [],
      "source": [
        "DATAPATH = \"https://www.i3s.unice.fr/~riveill/dataset/pollution.csv\""
      ]
    },
    {
      "cell_type": "code",
      "execution_count": 73,
      "metadata": {
        "ExecuteTime": {
          "end_time": "2021-10-05T11:21:51.859318Z",
          "start_time": "2021-10-05T11:21:51.213792Z"
        },
        "id": "P0lB1zH84t7R",
        "colab": {
          "base_uri": "https://localhost:8080/",
          "height": 255
        },
        "outputId": "ee1049ed-9b3d-42f9-d69b-de7d48251412"
      },
      "outputs": [
        {
          "output_type": "stream",
          "name": "stdout",
          "text": [
            "(43800, 8)\n"
          ]
        },
        {
          "output_type": "execute_result",
          "data": {
            "text/html": [
              "\n",
              "  <div id=\"df-416039ba-4c49-409b-a719-b91dbe1e5e1f\">\n",
              "    <div class=\"colab-df-container\">\n",
              "      <div>\n",
              "<style scoped>\n",
              "    .dataframe tbody tr th:only-of-type {\n",
              "        vertical-align: middle;\n",
              "    }\n",
              "\n",
              "    .dataframe tbody tr th {\n",
              "        vertical-align: top;\n",
              "    }\n",
              "\n",
              "    .dataframe thead th {\n",
              "        text-align: right;\n",
              "    }\n",
              "</style>\n",
              "<table border=\"1\" class=\"dataframe\">\n",
              "  <thead>\n",
              "    <tr style=\"text-align: right;\">\n",
              "      <th></th>\n",
              "      <th>pollution</th>\n",
              "      <th>dew</th>\n",
              "      <th>temp</th>\n",
              "      <th>press</th>\n",
              "      <th>wnd_dir</th>\n",
              "      <th>wnd_spd</th>\n",
              "      <th>snow</th>\n",
              "      <th>rain</th>\n",
              "    </tr>\n",
              "    <tr>\n",
              "      <th>date</th>\n",
              "      <th></th>\n",
              "      <th></th>\n",
              "      <th></th>\n",
              "      <th></th>\n",
              "      <th></th>\n",
              "      <th></th>\n",
              "      <th></th>\n",
              "      <th></th>\n",
              "    </tr>\n",
              "  </thead>\n",
              "  <tbody>\n",
              "    <tr>\n",
              "      <th>2010-01-02 00:00:00</th>\n",
              "      <td>129.0</td>\n",
              "      <td>-16</td>\n",
              "      <td>-4.0</td>\n",
              "      <td>1020.0</td>\n",
              "      <td>SE</td>\n",
              "      <td>1.79</td>\n",
              "      <td>0</td>\n",
              "      <td>0</td>\n",
              "    </tr>\n",
              "    <tr>\n",
              "      <th>2010-01-02 01:00:00</th>\n",
              "      <td>148.0</td>\n",
              "      <td>-15</td>\n",
              "      <td>-4.0</td>\n",
              "      <td>1020.0</td>\n",
              "      <td>SE</td>\n",
              "      <td>2.68</td>\n",
              "      <td>0</td>\n",
              "      <td>0</td>\n",
              "    </tr>\n",
              "    <tr>\n",
              "      <th>2010-01-02 02:00:00</th>\n",
              "      <td>159.0</td>\n",
              "      <td>-11</td>\n",
              "      <td>-5.0</td>\n",
              "      <td>1021.0</td>\n",
              "      <td>SE</td>\n",
              "      <td>3.57</td>\n",
              "      <td>0</td>\n",
              "      <td>0</td>\n",
              "    </tr>\n",
              "    <tr>\n",
              "      <th>2010-01-02 03:00:00</th>\n",
              "      <td>181.0</td>\n",
              "      <td>-7</td>\n",
              "      <td>-5.0</td>\n",
              "      <td>1022.0</td>\n",
              "      <td>SE</td>\n",
              "      <td>5.36</td>\n",
              "      <td>1</td>\n",
              "      <td>0</td>\n",
              "    </tr>\n",
              "    <tr>\n",
              "      <th>2010-01-02 04:00:00</th>\n",
              "      <td>138.0</td>\n",
              "      <td>-7</td>\n",
              "      <td>-5.0</td>\n",
              "      <td>1022.0</td>\n",
              "      <td>SE</td>\n",
              "      <td>6.25</td>\n",
              "      <td>2</td>\n",
              "      <td>0</td>\n",
              "    </tr>\n",
              "  </tbody>\n",
              "</table>\n",
              "</div>\n",
              "      <button class=\"colab-df-convert\" onclick=\"convertToInteractive('df-416039ba-4c49-409b-a719-b91dbe1e5e1f')\"\n",
              "              title=\"Convert this dataframe to an interactive table.\"\n",
              "              style=\"display:none;\">\n",
              "        \n",
              "  <svg xmlns=\"http://www.w3.org/2000/svg\" height=\"24px\"viewBox=\"0 0 24 24\"\n",
              "       width=\"24px\">\n",
              "    <path d=\"M0 0h24v24H0V0z\" fill=\"none\"/>\n",
              "    <path d=\"M18.56 5.44l.94 2.06.94-2.06 2.06-.94-2.06-.94-.94-2.06-.94 2.06-2.06.94zm-11 1L8.5 8.5l.94-2.06 2.06-.94-2.06-.94L8.5 2.5l-.94 2.06-2.06.94zm10 10l.94 2.06.94-2.06 2.06-.94-2.06-.94-.94-2.06-.94 2.06-2.06.94z\"/><path d=\"M17.41 7.96l-1.37-1.37c-.4-.4-.92-.59-1.43-.59-.52 0-1.04.2-1.43.59L10.3 9.45l-7.72 7.72c-.78.78-.78 2.05 0 2.83L4 21.41c.39.39.9.59 1.41.59.51 0 1.02-.2 1.41-.59l7.78-7.78 2.81-2.81c.8-.78.8-2.07 0-2.86zM5.41 20L4 18.59l7.72-7.72 1.47 1.35L5.41 20z\"/>\n",
              "  </svg>\n",
              "      </button>\n",
              "      \n",
              "  <style>\n",
              "    .colab-df-container {\n",
              "      display:flex;\n",
              "      flex-wrap:wrap;\n",
              "      gap: 12px;\n",
              "    }\n",
              "\n",
              "    .colab-df-convert {\n",
              "      background-color: #E8F0FE;\n",
              "      border: none;\n",
              "      border-radius: 50%;\n",
              "      cursor: pointer;\n",
              "      display: none;\n",
              "      fill: #1967D2;\n",
              "      height: 32px;\n",
              "      padding: 0 0 0 0;\n",
              "      width: 32px;\n",
              "    }\n",
              "\n",
              "    .colab-df-convert:hover {\n",
              "      background-color: #E2EBFA;\n",
              "      box-shadow: 0px 1px 2px rgba(60, 64, 67, 0.3), 0px 1px 3px 1px rgba(60, 64, 67, 0.15);\n",
              "      fill: #174EA6;\n",
              "    }\n",
              "\n",
              "    [theme=dark] .colab-df-convert {\n",
              "      background-color: #3B4455;\n",
              "      fill: #D2E3FC;\n",
              "    }\n",
              "\n",
              "    [theme=dark] .colab-df-convert:hover {\n",
              "      background-color: #434B5C;\n",
              "      box-shadow: 0px 1px 3px 1px rgba(0, 0, 0, 0.15);\n",
              "      filter: drop-shadow(0px 1px 2px rgba(0, 0, 0, 0.3));\n",
              "      fill: #FFFFFF;\n",
              "    }\n",
              "  </style>\n",
              "\n",
              "      <script>\n",
              "        const buttonEl =\n",
              "          document.querySelector('#df-416039ba-4c49-409b-a719-b91dbe1e5e1f button.colab-df-convert');\n",
              "        buttonEl.style.display =\n",
              "          google.colab.kernel.accessAllowed ? 'block' : 'none';\n",
              "\n",
              "        async function convertToInteractive(key) {\n",
              "          const element = document.querySelector('#df-416039ba-4c49-409b-a719-b91dbe1e5e1f');\n",
              "          const dataTable =\n",
              "            await google.colab.kernel.invokeFunction('convertToInteractive',\n",
              "                                                     [key], {});\n",
              "          if (!dataTable) return;\n",
              "\n",
              "          const docLinkHtml = 'Like what you see? Visit the ' +\n",
              "            '<a target=\"_blank\" href=https://colab.research.google.com/notebooks/data_table.ipynb>data table notebook</a>'\n",
              "            + ' to learn more about interactive tables.';\n",
              "          element.innerHTML = '';\n",
              "          dataTable['output_type'] = 'display_data';\n",
              "          await google.colab.output.renderOutput(dataTable, element);\n",
              "          const docLink = document.createElement('div');\n",
              "          docLink.innerHTML = docLinkHtml;\n",
              "          element.appendChild(docLink);\n",
              "        }\n",
              "      </script>\n",
              "    </div>\n",
              "  </div>\n",
              "  "
            ],
            "text/plain": [
              "                     pollution  dew  temp   press wnd_dir  wnd_spd  snow  rain\n",
              "date                                                                          \n",
              "2010-01-02 00:00:00      129.0  -16  -4.0  1020.0      SE     1.79     0     0\n",
              "2010-01-02 01:00:00      148.0  -15  -4.0  1020.0      SE     2.68     0     0\n",
              "2010-01-02 02:00:00      159.0  -11  -5.0  1021.0      SE     3.57     0     0\n",
              "2010-01-02 03:00:00      181.0   -7  -5.0  1022.0      SE     5.36     1     0\n",
              "2010-01-02 04:00:00      138.0   -7  -5.0  1022.0      SE     6.25     2     0"
            ]
          },
          "metadata": {},
          "execution_count": 73
        }
      ],
      "source": [
        "# Read the dataset\n",
        "data = pd.read_csv(DATAPATH, sep=\",\", header=0, index_col=0)\n",
        "print(data.shape)\n",
        "data.head()"
      ]
    },
    {
      "cell_type": "code",
      "execution_count": 74,
      "metadata": {
        "ExecuteTime": {
          "end_time": "2021-10-05T11:21:53.257136Z",
          "start_time": "2021-10-05T11:21:52.563877Z"
        },
        "id": "YY_W9UWY4t7R",
        "colab": {
          "base_uri": "https://localhost:8080/",
          "height": 270
        },
        "outputId": "197508ba-1f85-4c43-afa9-bad3d6065593"
      },
      "outputs": [
        {
          "output_type": "display_data",
          "data": {
            "image/png": "[encoded data removed]",
            "text/plain": [
              "<Figure size 432x288 with 8 Axes>"
            ]
          },
          "metadata": {
            "needs_background": "light"
          }
        }
      ],
      "source": [
        "plt.figure()\n",
        "for i, column in enumerate(data.columns):\n",
        "    plt.subplot(len(data.columns), 1, i+1)\n",
        "    plt.plot(data[column].to_numpy())\n",
        "    plt.title(column, y=0.5, loc='right')\n",
        "plt.show()"
      ]
    },
    {
      "cell_type": "markdown",
      "metadata": {
        "id": "F25h2_5j4t7R"
      },
      "source": [
        "### Construct the dataset"
      ]
    },
    {
      "cell_type": "markdown",
      "metadata": {
        "id": "-Y03Q2Y94t7S"
      },
      "source": [
        "The first step is to prepare the pollution dataset for the LSTM.\n",
        "\n",
        "This involves framing the dataset as a supervised learning problem and normalizing the input variables.\n",
        "\n",
        "We will frame the supervised learning problem as predicting the pollution at the current hour (t) given the pollution measurement and weather conditions at the prior time step."
      ]
    },
    {
      "cell_type": "code",
      "execution_count": 75,
      "metadata": {
        "ExecuteTime": {
          "end_time": "2021-10-05T11:21:54.570978Z",
          "start_time": "2021-10-05T11:21:54.558990Z"
        },
        "id": "WXr4E6z84t7S",
        "colab": {
          "base_uri": "https://localhost:8080/"
        },
        "outputId": "0e1a630f-9c86-4c7c-90c4-7751f2e9ff74"
      },
      "outputs": [
        {
          "output_type": "execute_result",
          "data": {
            "text/plain": [
              "8"
            ]
          },
          "metadata": {},
          "execution_count": 75
        }
      ],
      "source": [
        "n_features = data.shape[1] # for multivariate time series\n",
        "n_in = 6\n",
        "n_out = 1\n",
        "output = [\"pollution\"]\n",
        "\n",
        "n_features\n"
      ]
    },
    {
      "cell_type": "markdown",
      "metadata": {
        "ExecuteTime": {
          "end_time": "2022-01-29T15:23:32.105879Z",
          "start_time": "2022-01-29T15:23:32.096418Z"
        },
        "id": "ITslSjHm4t7S"
      },
      "source": [
        "<font color='red'>\n",
        "$TO DO - Students$\n",
        "\n",
        "* using `series_to_supervised` function build the dataset\n",
        "</font>"
      ]
    },
    {
      "cell_type": "code",
      "execution_count": 76,
      "metadata": {
        "ExecuteTime": {
          "end_time": "2021-10-05T11:21:55.559562Z",
          "start_time": "2021-10-05T11:21:55.422286Z"
        },
        "id": "gMKfShGs4t7S",
        "colab": {
          "base_uri": "https://localhost:8080/",
          "height": 360
        },
        "outputId": "3dcc4d22-7a6c-4a43-e255-d751afb03d70"
      },
      "outputs": [
        {
          "output_type": "execute_result",
          "data": {
            "text/html": [
              "\n",
              "  <div id=\"df-d162547d-9023-4b2a-81b1-e5475b4d6731\">\n",
              "    <div class=\"colab-df-container\">\n",
              "      <div>\n",
              "<style scoped>\n",
              "    .dataframe tbody tr th:only-of-type {\n",
              "        vertical-align: middle;\n",
              "    }\n",
              "\n",
              "    .dataframe tbody tr th {\n",
              "        vertical-align: top;\n",
              "    }\n",
              "\n",
              "    .dataframe thead th {\n",
              "        text-align: right;\n",
              "    }\n",
              "</style>\n",
              "<table border=\"1\" class=\"dataframe\">\n",
              "  <thead>\n",
              "    <tr style=\"text-align: right;\">\n",
              "      <th></th>\n",
              "      <th>pollution(t-6)</th>\n",
              "      <th>dew(t-6)</th>\n",
              "      <th>temp(t-6)</th>\n",
              "      <th>press(t-6)</th>\n",
              "      <th>wnd_dir(t-6)</th>\n",
              "      <th>wnd_spd(t-6)</th>\n",
              "      <th>snow(t-6)</th>\n",
              "      <th>rain(t-6)</th>\n",
              "      <th>pollution(t-5)</th>\n",
              "      <th>dew(t-5)</th>\n",
              "      <th>temp(t-5)</th>\n",
              "      <th>press(t-5)</th>\n",
              "      <th>wnd_dir(t-5)</th>\n",
              "      <th>wnd_spd(t-5)</th>\n",
              "      <th>snow(t-5)</th>\n",
              "      <th>rain(t-5)</th>\n",
              "      <th>pollution(t-4)</th>\n",
              "      <th>dew(t-4)</th>\n",
              "      <th>temp(t-4)</th>\n",
              "      <th>press(t-4)</th>\n",
              "      <th>wnd_dir(t-4)</th>\n",
              "      <th>wnd_spd(t-4)</th>\n",
              "      <th>snow(t-4)</th>\n",
              "      <th>rain(t-4)</th>\n",
              "      <th>pollution(t-3)</th>\n",
              "      <th>dew(t-3)</th>\n",
              "      <th>temp(t-3)</th>\n",
              "      <th>press(t-3)</th>\n",
              "      <th>wnd_dir(t-3)</th>\n",
              "      <th>wnd_spd(t-3)</th>\n",
              "      <th>snow(t-3)</th>\n",
              "      <th>rain(t-3)</th>\n",
              "      <th>pollution(t-2)</th>\n",
              "      <th>dew(t-2)</th>\n",
              "      <th>temp(t-2)</th>\n",
              "      <th>press(t-2)</th>\n",
              "      <th>wnd_dir(t-2)</th>\n",
              "      <th>wnd_spd(t-2)</th>\n",
              "      <th>snow(t-2)</th>\n",
              "      <th>rain(t-2)</th>\n",
              "      <th>pollution(t-1)</th>\n",
              "      <th>dew(t-1)</th>\n",
              "      <th>temp(t-1)</th>\n",
              "      <th>press(t-1)</th>\n",
              "      <th>wnd_dir(t-1)</th>\n",
              "      <th>wnd_spd(t-1)</th>\n",
              "      <th>snow(t-1)</th>\n",
              "      <th>rain(t-1)</th>\n",
              "      <th>pollution(t)</th>\n",
              "    </tr>\n",
              "    <tr>\n",
              "      <th>date</th>\n",
              "      <th></th>\n",
              "      <th></th>\n",
              "      <th></th>\n",
              "      <th></th>\n",
              "      <th></th>\n",
              "      <th></th>\n",
              "      <th></th>\n",
              "      <th></th>\n",
              "      <th></th>\n",
              "      <th></th>\n",
              "      <th></th>\n",
              "      <th></th>\n",
              "      <th></th>\n",
              "      <th></th>\n",
              "      <th></th>\n",
              "      <th></th>\n",
              "      <th></th>\n",
              "      <th></th>\n",
              "      <th></th>\n",
              "      <th></th>\n",
              "      <th></th>\n",
              "      <th></th>\n",
              "      <th></th>\n",
              "      <th></th>\n",
              "      <th></th>\n",
              "      <th></th>\n",
              "      <th></th>\n",
              "      <th></th>\n",
              "      <th></th>\n",
              "      <th></th>\n",
              "      <th></th>\n",
              "      <th></th>\n",
              "      <th></th>\n",
              "      <th></th>\n",
              "      <th></th>\n",
              "      <th></th>\n",
              "      <th></th>\n",
              "      <th></th>\n",
              "      <th></th>\n",
              "      <th></th>\n",
              "      <th></th>\n",
              "      <th></th>\n",
              "      <th></th>\n",
              "      <th></th>\n",
              "      <th></th>\n",
              "      <th></th>\n",
              "      <th></th>\n",
              "      <th></th>\n",
              "      <th></th>\n",
              "    </tr>\n",
              "  </thead>\n",
              "  <tbody>\n",
              "    <tr>\n",
              "      <th>2010-01-02 06:00:00</th>\n",
              "      <td>129.0</td>\n",
              "      <td>-16.0</td>\n",
              "      <td>-4.0</td>\n",
              "      <td>1020.0</td>\n",
              "      <td>SE</td>\n",
              "      <td>1.79</td>\n",
              "      <td>0.0</td>\n",
              "      <td>0.0</td>\n",
              "      <td>148.0</td>\n",
              "      <td>-15.0</td>\n",
              "      <td>-4.0</td>\n",
              "      <td>1020.0</td>\n",
              "      <td>SE</td>\n",
              "      <td>2.68</td>\n",
              "      <td>0.0</td>\n",
              "      <td>0.0</td>\n",
              "      <td>159.0</td>\n",
              "      <td>-11.0</td>\n",
              "      <td>-5.0</td>\n",
              "      <td>1021.0</td>\n",
              "      <td>SE</td>\n",
              "      <td>3.57</td>\n",
              "      <td>0.0</td>\n",
              "      <td>0.0</td>\n",
              "      <td>181.0</td>\n",
              "      <td>-7.0</td>\n",
              "      <td>-5.0</td>\n",
              "      <td>1022.0</td>\n",
              "      <td>SE</td>\n",
              "      <td>5.36</td>\n",
              "      <td>1.0</td>\n",
              "      <td>0.0</td>\n",
              "      <td>138.0</td>\n",
              "      <td>-7.0</td>\n",
              "      <td>-5.0</td>\n",
              "      <td>1022.0</td>\n",
              "      <td>SE</td>\n",
              "      <td>6.25</td>\n",
              "      <td>2.0</td>\n",
              "      <td>0.0</td>\n",
              "      <td>109.0</td>\n",
              "      <td>-7.0</td>\n",
              "      <td>-6.0</td>\n",
              "      <td>1022.0</td>\n",
              "      <td>SE</td>\n",
              "      <td>7.14</td>\n",
              "      <td>3.0</td>\n",
              "      <td>0.0</td>\n",
              "      <td>105.0</td>\n",
              "    </tr>\n",
              "    <tr>\n",
              "      <th>2010-01-02 07:00:00</th>\n",
              "      <td>148.0</td>\n",
              "      <td>-15.0</td>\n",
              "      <td>-4.0</td>\n",
              "      <td>1020.0</td>\n",
              "      <td>SE</td>\n",
              "      <td>2.68</td>\n",
              "      <td>0.0</td>\n",
              "      <td>0.0</td>\n",
              "      <td>159.0</td>\n",
              "      <td>-11.0</td>\n",
              "      <td>-5.0</td>\n",
              "      <td>1021.0</td>\n",
              "      <td>SE</td>\n",
              "      <td>3.57</td>\n",
              "      <td>0.0</td>\n",
              "      <td>0.0</td>\n",
              "      <td>181.0</td>\n",
              "      <td>-7.0</td>\n",
              "      <td>-5.0</td>\n",
              "      <td>1022.0</td>\n",
              "      <td>SE</td>\n",
              "      <td>5.36</td>\n",
              "      <td>1.0</td>\n",
              "      <td>0.0</td>\n",
              "      <td>138.0</td>\n",
              "      <td>-7.0</td>\n",
              "      <td>-5.0</td>\n",
              "      <td>1022.0</td>\n",
              "      <td>SE</td>\n",
              "      <td>6.25</td>\n",
              "      <td>2.0</td>\n",
              "      <td>0.0</td>\n",
              "      <td>109.0</td>\n",
              "      <td>-7.0</td>\n",
              "      <td>-6.0</td>\n",
              "      <td>1022.0</td>\n",
              "      <td>SE</td>\n",
              "      <td>7.14</td>\n",
              "      <td>3.0</td>\n",
              "      <td>0.0</td>\n",
              "      <td>105.0</td>\n",
              "      <td>-7.0</td>\n",
              "      <td>-6.0</td>\n",
              "      <td>1023.0</td>\n",
              "      <td>SE</td>\n",
              "      <td>8.93</td>\n",
              "      <td>4.0</td>\n",
              "      <td>0.0</td>\n",
              "      <td>124.0</td>\n",
              "    </tr>\n",
              "    <tr>\n",
              "      <th>2010-01-02 08:00:00</th>\n",
              "      <td>159.0</td>\n",
              "      <td>-11.0</td>\n",
              "      <td>-5.0</td>\n",
              "      <td>1021.0</td>\n",
              "      <td>SE</td>\n",
              "      <td>3.57</td>\n",
              "      <td>0.0</td>\n",
              "      <td>0.0</td>\n",
              "      <td>181.0</td>\n",
              "      <td>-7.0</td>\n",
              "      <td>-5.0</td>\n",
              "      <td>1022.0</td>\n",
              "      <td>SE</td>\n",
              "      <td>5.36</td>\n",
              "      <td>1.0</td>\n",
              "      <td>0.0</td>\n",
              "      <td>138.0</td>\n",
              "      <td>-7.0</td>\n",
              "      <td>-5.0</td>\n",
              "      <td>1022.0</td>\n",
              "      <td>SE</td>\n",
              "      <td>6.25</td>\n",
              "      <td>2.0</td>\n",
              "      <td>0.0</td>\n",
              "      <td>109.0</td>\n",
              "      <td>-7.0</td>\n",
              "      <td>-6.0</td>\n",
              "      <td>1022.0</td>\n",
              "      <td>SE</td>\n",
              "      <td>7.14</td>\n",
              "      <td>3.0</td>\n",
              "      <td>0.0</td>\n",
              "      <td>105.0</td>\n",
              "      <td>-7.0</td>\n",
              "      <td>-6.0</td>\n",
              "      <td>1023.0</td>\n",
              "      <td>SE</td>\n",
              "      <td>8.93</td>\n",
              "      <td>4.0</td>\n",
              "      <td>0.0</td>\n",
              "      <td>124.0</td>\n",
              "      <td>-7.0</td>\n",
              "      <td>-5.0</td>\n",
              "      <td>1024.0</td>\n",
              "      <td>SE</td>\n",
              "      <td>10.72</td>\n",
              "      <td>0.0</td>\n",
              "      <td>0.0</td>\n",
              "      <td>120.0</td>\n",
              "    </tr>\n",
              "  </tbody>\n",
              "</table>\n",
              "</div>\n",
              "      <button class=\"colab-df-convert\" onclick=\"convertToInteractive('df-d162547d-9023-4b2a-81b1-e5475b4d6731')\"\n",
              "              title=\"Convert this dataframe to an interactive table.\"\n",
              "              style=\"display:none;\">\n",
              "        \n",
              "  <svg xmlns=\"http://www.w3.org/2000/svg\" height=\"24px\"viewBox=\"0 0 24 24\"\n",
              "       width=\"24px\">\n",
              "    <path d=\"M0 0h24v24H0V0z\" fill=\"none\"/>\n",
              "    <path d=\"M18.56 5.44l.94 2.06.94-2.06 2.06-.94-2.06-.94-.94-2.06-.94 2.06-2.06.94zm-11 1L8.5 8.5l.94-2.06 2.06-.94-2.06-.94L8.5 2.5l-.94 2.06-2.06.94zm10 10l.94 2.06.94-2.06 2.06-.94-2.06-.94-.94-2.06-.94 2.06-2.06.94z\"/><path d=\"M17.41 7.96l-1.37-1.37c-.4-.4-.92-.59-1.43-.59-.52 0-1.04.2-1.43.59L10.3 9.45l-7.72 7.72c-.78.78-.78 2.05 0 2.83L4 21.41c.39.39.9.59 1.41.59.51 0 1.02-.2 1.41-.59l7.78-7.78 2.81-2.81c.8-.78.8-2.07 0-2.86zM5.41 20L4 18.59l7.72-7.72 1.47 1.35L5.41 20z\"/>\n",
              "  </svg>\n",
              "      </button>\n",
              "      \n",
              "  <style>\n",
              "    .colab-df-container {\n",
              "      display:flex;\n",
              "      flex-wrap:wrap;\n",
              "      gap: 12px;\n",
              "    }\n",
              "\n",
              "    .colab-df-convert {\n",
              "      background-color: #E8F0FE;\n",
              "      border: none;\n",
              "      border-radius: 50%;\n",
              "      cursor: pointer;\n",
              "      display: none;\n",
              "      fill: #1967D2;\n",
              "      height: 32px;\n",
              "      padding: 0 0 0 0;\n",
              "      width: 32px;\n",
              "    }\n",
              "\n",
              "    .colab-df-convert:hover {\n",
              "      background-color: #E2EBFA;\n",
              "      box-shadow: 0px 1px 2px rgba(60, 64, 67, 0.3), 0px 1px 3px 1px rgba(60, 64, 67, 0.15);\n",
              "      fill: #174EA6;\n",
              "    }\n",
              "\n",
              "    [theme=dark] .colab-df-convert {\n",
              "      background-color: #3B4455;\n",
              "      fill: #D2E3FC;\n",
              "    }\n",
              "\n",
              "    [theme=dark] .colab-df-convert:hover {\n",
              "      background-color: #434B5C;\n",
              "      box-shadow: 0px 1px 3px 1px rgba(0, 0, 0, 0.15);\n",
              "      filter: drop-shadow(0px 1px 2px rgba(0, 0, 0, 0.3));\n",
              "      fill: #FFFFFF;\n",
              "    }\n",
              "  </style>\n",
              "\n",
              "      <script>\n",
              "        const buttonEl =\n",
              "          document.querySelector('#df-d162547d-9023-4b2a-81b1-e5475b4d6731 button.colab-df-convert');\n",
              "        buttonEl.style.display =\n",
              "          google.colab.kernel.accessAllowed ? 'block' : 'none';\n",
              "\n",
              "        async function convertToInteractive(key) {\n",
              "          const element = document.querySelector('#df-d162547d-9023-4b2a-81b1-e5475b4d6731');\n",
              "          const dataTable =\n",
              "            await google.colab.kernel.invokeFunction('convertToInteractive',\n",
              "                                                     [key], {});\n",
              "          if (!dataTable) return;\n",
              "\n",
              "          const docLinkHtml = 'Like what you see? Visit the ' +\n",
              "            '<a target=\"_blank\" href=https://colab.research.google.com/notebooks/data_table.ipynb>data table notebook</a>'\n",
              "            + ' to learn more about interactive tables.';\n",
              "          element.innerHTML = '';\n",
              "          dataTable['output_type'] = 'display_data';\n",
              "          await google.colab.output.renderOutput(dataTable, element);\n",
              "          const docLink = document.createElement('div');\n",
              "          docLink.innerHTML = docLinkHtml;\n",
              "          element.appendChild(docLink);\n",
              "        }\n",
              "      </script>\n",
              "    </div>\n",
              "  </div>\n",
              "  "
            ],
            "text/plain": [
              "                     pollution(t-6)  dew(t-6)  ...  rain(t-1)  pollution(t)\n",
              "date                                           ...                         \n",
              "2010-01-02 06:00:00           129.0     -16.0  ...        0.0         105.0\n",
              "2010-01-02 07:00:00           148.0     -15.0  ...        0.0         124.0\n",
              "2010-01-02 08:00:00           159.0     -11.0  ...        0.0         120.0\n",
              "\n",
              "[3 rows x 49 columns]"
            ]
          },
          "metadata": {},
          "execution_count": 76
        }
      ],
      "source": [
        "dataset = series_to_supervised(data, n_in=6, n_out= 1, output=output)\n",
        "dataset.head(3)"
      ]
    },
    {
      "cell_type": "code",
      "execution_count": 77,
      "metadata": {
        "ExecuteTime": {
          "end_time": "2021-10-05T11:21:56.389487Z",
          "start_time": "2021-10-05T11:21:56.377464Z"
        },
        "id": "5V40Ffum4t7T",
        "colab": {
          "base_uri": "https://localhost:8080/"
        },
        "outputId": "9751f965-5060-417e-a9dd-fc5c45efade2"
      },
      "outputs": [
        {
          "output_type": "execute_result",
          "data": {
            "text/plain": [
              "pollution(t-6)    float64\n",
              "dew(t-6)          float64\n",
              "temp(t-6)         float64\n",
              "press(t-6)        float64\n",
              "wnd_dir(t-6)       object\n",
              "wnd_spd(t-6)      float64\n",
              "snow(t-6)         float64\n",
              "rain(t-6)         float64\n",
              "pollution(t-5)    float64\n",
              "dew(t-5)          float64\n",
              "temp(t-5)         float64\n",
              "press(t-5)        float64\n",
              "wnd_dir(t-5)       object\n",
              "wnd_spd(t-5)      float64\n",
              "snow(t-5)         float64\n",
              "rain(t-5)         float64\n",
              "pollution(t-4)    float64\n",
              "dew(t-4)          float64\n",
              "temp(t-4)         float64\n",
              "press(t-4)        float64\n",
              "wnd_dir(t-4)       object\n",
              "wnd_spd(t-4)      float64\n",
              "snow(t-4)         float64\n",
              "rain(t-4)         float64\n",
              "pollution(t-3)    float64\n",
              "dew(t-3)          float64\n",
              "temp(t-3)         float64\n",
              "press(t-3)        float64\n",
              "wnd_dir(t-3)       object\n",
              "wnd_spd(t-3)      float64\n",
              "snow(t-3)         float64\n",
              "rain(t-3)         float64\n",
              "pollution(t-2)    float64\n",
              "dew(t-2)          float64\n",
              "temp(t-2)         float64\n",
              "press(t-2)        float64\n",
              "wnd_dir(t-2)       object\n",
              "wnd_spd(t-2)      float64\n",
              "snow(t-2)         float64\n",
              "rain(t-2)         float64\n",
              "pollution(t-1)    float64\n",
              "dew(t-1)          float64\n",
              "temp(t-1)         float64\n",
              "press(t-1)        float64\n",
              "wnd_dir(t-1)       object\n",
              "wnd_spd(t-1)      float64\n",
              "snow(t-1)         float64\n",
              "rain(t-1)         float64\n",
              "pollution(t)      float64\n",
              "dtype: object"
            ]
          },
          "metadata": {},
          "execution_count": 77
        }
      ],
      "source": [
        "dataset.dtypes"
      ]
    },
    {
      "cell_type": "markdown",
      "metadata": {
        "id": "UcDRXdpO4t7T"
      },
      "source": [
        "<font color='blue'>\n",
        "<bold>dataset.dtypes gives the following result for me</bold>\n",
        "\n",
        "<pre>\n",
        "pollution(t-6)    float64\n",
        "dew(t-6)          float64\n",
        "temp(t-6)         float64\n",
        "press(t-6)        float64\n",
        "wnd_dir(t-6)       object\n",
        "wnd_spd(t-6)      float64\n",
        "snow(t-6)         float64\n",
        "rain(t-6)         float64\n",
        "pollution(t-5)    float64\n",
        "dew(t-5)          float64\n",
        "temp(t-5)         float64\n",
        "press(t-5)        float64\n",
        "wnd_dir(t-5)       object\n",
        "wnd_spd(t-5)      float64\n",
        "snow(t-5)         float64\n",
        "rain(t-5)         float64\n",
        "pollution(t-4)    float64\n",
        "dew(t-4)          float64\n",
        "temp(t-4)         float64\n",
        "press(t-4)        float64\n",
        "wnd_dir(t-4)       object\n",
        "wnd_spd(t-4)      float64\n",
        "snow(t-4)         float64\n",
        "rain(t-4)         float64\n",
        "pollution(t-3)    float64\n",
        "dew(t-3)          float64\n",
        "temp(t-3)         float64\n",
        "press(t-3)        float64\n",
        "wnd_dir(t-3)       object\n",
        "wnd_spd(t-3)      float64\n",
        "snow(t-3)         float64\n",
        "rain(t-3)         float64\n",
        "pollution(t-2)    float64\n",
        "dew(t-2)          float64\n",
        "temp(t-2)         float64\n",
        "press(t-2)        float64\n",
        "wnd_dir(t-2)       object\n",
        "wnd_spd(t-2)      float64\n",
        "snow(t-2)         float64\n",
        "rain(t-2)         float64\n",
        "pollution(t-1)    float64\n",
        "dew(t-1)          float64\n",
        "temp(t-1)         float64\n",
        "press(t-1)        float64\n",
        "wnd_dir(t-1)       object\n",
        "wnd_spd(t-1)      float64\n",
        "snow(t-1)         float64\n",
        "rain(t-1)         float64\n",
        "pollution(t)      float64\n",
        "dtype: object\n",
        "<pre>\n",
        "</font>"
      ]
    },
    {
      "cell_type": "markdown",
      "metadata": {
        "id": "29AOaVZe4t7T"
      },
      "source": [
        "First, we must split the prepared dataset into train and test sets. To speed up the training of the model for this demonstration, we will only fit the model on the first year of data, then evaluate it on the remaining 4 years of data. \n",
        "\n",
        "The example below splits the dataset into train and test sets, then splits the train and test sets into input and output variables. Finally, the inputs (X) are reshaped into the 3D format expected by LSTMs, namely [samples, timesteps, features]."
      ]
    },
    {
      "cell_type": "code",
      "execution_count": 78,
      "metadata": {
        "ExecuteTime": {
          "end_time": "2021-10-05T11:21:57.878625Z",
          "start_time": "2021-10-05T11:21:57.754945Z"
        },
        "id": "gRaBN-Xf4t7T",
        "colab": {
          "base_uri": "https://localhost:8080/"
        },
        "outputId": "9f562d0b-2b79-4ed0-b850-3eda7f21e309"
      },
      "outputs": [
        {
          "output_type": "execute_result",
          "data": {
            "text/plain": [
              "((8760, 6, 8), (8760,))"
            ]
          },
          "metadata": {},
          "execution_count": 78
        }
      ],
      "source": [
        "# get the values\n",
        "values = dataset.values\n",
        "\n",
        "# split into train and test sets\n",
        "n_train_hours = 365 * 24\n",
        "train = values[:n_train_hours, :]\n",
        "val = values[n_train_hours:2*n_train_hours, :]\n",
        "test = values[2*n_train_hours:, :]\n",
        "\n",
        "# split into input and outputs\n",
        "train_X, train_y = train[:, :-n_out], np.array(train[:, -n_out], dtype=\"float64\")\n",
        "val_X, val_y = val[:, :-n_out], np.array(val[:, -n_out], dtype=\"float64\")\n",
        "test_X, test_y = test[:, :-n_out], np.array(test[:, -n_out], dtype=\"float64\")\n",
        "\n",
        "# reshape input to be 3D [samples, timesteps, features]\n",
        "train_X = train_X.reshape((train_X.shape[0], n_in, n_features))\n",
        "val_X = val_X.reshape((val_X.shape[0], n_in, n_features))\n",
        "test_X = test_X.reshape((test_X.shape[0], n_in, n_features))\n",
        "train_X.shape, train_y.shape"
      ]
    },
    {
      "cell_type": "markdown",
      "metadata": {
        "id": "56Z5s-q-4t7U"
      },
      "source": [
        "### Encode and normalize dataset"
      ]
    },
    {
      "cell_type": "markdown",
      "metadata": {
        "id": "RqOLt5q74t7U"
      },
      "source": [
        "Data encoding and normalization\n",
        "* The wind direction feature is label encoded (integer encoded).\n",
        "* All features are normalized\n",
        "\n",
        "And then the dataset is transformed into a supervised learning problem. The weather variables for the hour to be predicted (t) are then removed."
      ]
    },
    {
      "cell_type": "code",
      "execution_count": 79,
      "metadata": {
        "ExecuteTime": {
          "end_time": "2021-10-05T11:21:59.374382Z",
          "start_time": "2021-10-05T11:21:59.100558Z"
        },
        "id": "8XGlO2hy4t7U",
        "colab": {
          "base_uri": "https://localhost:8080/"
        },
        "outputId": "1556ba18-e866-4984-e14c-ac7e07de085e"
      },
      "outputs": [
        {
          "output_type": "execute_result",
          "data": {
            "text/plain": [
              "11"
            ]
          },
          "metadata": {},
          "execution_count": 79
        }
      ],
      "source": [
        "numeric_features = [i for i, t in enumerate(dataset.dtypes[:-n_out]) if t in ['float64', 'int32']]\n",
        "numeric_transformer = Pipeline(steps=[\n",
        "    ('imputer', SimpleImputer(strategy='median')),\n",
        "    ('scaler', StandardScaler())])\n",
        "\n",
        "categorical_features = [i for i in range(len(dataset.columns)-n_out) if i not in numeric_features]\n",
        "categorical_transformer = OneHotEncoder(handle_unknown='ignore')\n",
        "\n",
        "preprocessor = ColumnTransformer(\n",
        "    transformers=[\n",
        "        ('num', numeric_transformer, numeric_features),\n",
        "        ('cat', categorical_transformer, categorical_features)])\n",
        "\n",
        "train_X_enc = preprocessor.fit_transform(train_X.reshape(len(train_X), -1)).reshape(len(train_X), n_in, -1)\n",
        "val_X_enc = preprocessor.fit_transform(val_X.reshape(len(val_X), -1)).reshape(len(val_X), n_in, -1)\n",
        "test_X_enc = preprocessor.transform(test_X.reshape(len(test_X), -1)).reshape(len(test_X), n_in, -1)\n",
        "                                                                                    \n",
        "n_features = train_X_enc.shape[2] # Change with oneHotEncode\n",
        "n_features"
      ]
    },
    {
      "cell_type": "markdown",
      "metadata": {
        "id": "W0W41_SB4t7U"
      },
      "source": [
        "Running the code below prepare the data. Executing the next cell, prints the first 5 rows of the transformed dataset. We can see the 8 input variables (input series) and the 1 output variable (pollution level at the current hour)."
      ]
    },
    {
      "cell_type": "markdown",
      "metadata": {
        "id": "_FcsNL1B4t7V"
      },
      "source": [
        "### Build, Compile, Fit, Predict and Evaluate a model\n",
        "<br>\n",
        "<font color='red'>\n",
        "$TO DO - Students$\n",
        "\n",
        "* Build your model\n",
        "    * Put the number of hidden layers you want. If possible more than one.\n",
        "</font>"
      ]
    },
    {
      "cell_type": "code",
      "execution_count": 80,
      "metadata": {
        "ExecuteTime": {
          "end_time": "2021-10-05T11:22:00.977488Z",
          "start_time": "2021-10-05T11:22:00.871405Z"
        },
        "id": "V2hSJmUG4t7V",
        "colab": {
          "base_uri": "https://localhost:8080/"
        },
        "outputId": "2657662b-75c0-475b-cf89-aee98497af75"
      },
      "outputs": [
        {
          "output_type": "stream",
          "name": "stdout",
          "text": [
            "Model: \"model_5\"\n",
            "_________________________________________________________________\n",
            " Layer (type)                Output Shape              Param #   \n",
            "=================================================================\n",
            " input_6 (InputLayer)        [(None, 6, 11)]           0         \n",
            "                                                                 \n",
            " lstm_11 (LSTM)              (None, 6, 15)             1620      \n",
            "                                                                 \n",
            " lstm_12 (LSTM)              (None, 6, 15)             1860      \n",
            "                                                                 \n",
            " lstm_13 (LSTM)              (None, 15)                1860      \n",
            "                                                                 \n",
            " dense_5 (Dense)             (None, 1)                 16        \n",
            "                                                                 \n",
            "=================================================================\n",
            "Total params: 5,356\n",
            "Trainable params: 5,356\n",
            "Non-trainable params: 0\n",
            "_________________________________________________________________\n"
          ]
        }
      ],
      "source": [
        "\n",
        "\n",
        "LSTM_SIZE = 15\n",
        "\n",
        "inputs = Input(shape=(n_in, n_features))\n",
        "hidden1 = LSTM(LSTM_SIZE, return_sequences=True, activation='relu')(inputs)\n",
        "hidden2 = LSTM(LSTM_SIZE, return_sequences=True, activation='relu')(hidden1)\n",
        "hidden3 = LSTM(LSTM_SIZE, return_sequences=False, activation='relu')(hidden2)\n",
        "outputs = Dense(n_out, activation='linear')(hidden3)\n",
        "model = Model(inputs=inputs, outputs=outputs)\n",
        "model.summary()"
      ]
    },
    {
      "cell_type": "markdown",
      "metadata": {
        "id": "TKkW6KUf4t7V"
      },
      "source": [
        "<font color='red'>\n",
        "$TO DO - Students$\n",
        "\n",
        "* Compile your model\n",
        "</font>"
      ]
    },
    {
      "cell_type": "code",
      "execution_count": 81,
      "metadata": {
        "ExecuteTime": {
          "end_time": "2021-10-05T11:22:01.487980Z",
          "start_time": "2021-10-05T11:22:01.476341Z"
        },
        "id": "jgOqZ4rx4t7V"
      },
      "outputs": [],
      "source": [
        "# Compile the model\n",
        "model.compile(loss='mean_absolute_error', \n",
        "              optimizer='adam', \n",
        "              metrics=['mean_absolute_error'])"
      ]
    },
    {
      "cell_type": "markdown",
      "metadata": {
        "id": "VBAVRgWJ4t7W"
      },
      "source": [
        "<font color='red'>\n",
        "$TO DO - Students$\n",
        "\n",
        "* Fit your model using `EarlyStopping`\n",
        "</font>"
      ]
    },
    {
      "cell_type": "code",
      "execution_count": 82,
      "metadata": {
        "ExecuteTime": {
          "end_time": "2021-10-05T11:22:46.035637Z",
          "start_time": "2021-10-05T11:22:02.120718Z"
        },
        "id": "MkuZs2W84t7W",
        "colab": {
          "base_uri": "https://localhost:8080/"
        },
        "outputId": "0815a3ca-eaef-43fc-b5a1-5eeaa61b6cdc"
      },
      "outputs": [
        {
          "output_type": "stream",
          "name": "stdout",
          "text": [
            "Epoch 1/200\n",
            "274/274 - 7s - loss: 80.8383 - mean_absolute_error: 80.8383 - val_loss: 69.7681 - val_mean_absolute_error: 69.7681 - 7s/epoch - 25ms/step\n",
            "Epoch 2/200\n",
            "274/274 - 3s - loss: 57.7617 - mean_absolute_error: 57.7617 - val_loss: 44.2153 - val_mean_absolute_error: 44.2153 - 3s/epoch - 10ms/step\n",
            "Epoch 3/200\n",
            "274/274 - 3s - loss: 45.1966 - mean_absolute_error: 45.1966 - val_loss: 40.7351 - val_mean_absolute_error: 40.7351 - 3s/epoch - 10ms/step\n",
            "Epoch 4/200\n",
            "274/274 - 3s - loss: 41.2315 - mean_absolute_error: 41.2315 - val_loss: 38.4791 - val_mean_absolute_error: 38.4791 - 3s/epoch - 10ms/step\n",
            "Epoch 5/200\n",
            "274/274 - 3s - loss: 38.7559 - mean_absolute_error: 38.7559 - val_loss: 39.3901 - val_mean_absolute_error: 39.3901 - 3s/epoch - 10ms/step\n",
            "Epoch 6/200\n",
            "274/274 - 3s - loss: 36.7714 - mean_absolute_error: 36.7714 - val_loss: 38.2652 - val_mean_absolute_error: 38.2652 - 3s/epoch - 10ms/step\n",
            "Epoch 7/200\n",
            "274/274 - 3s - loss: 34.5762 - mean_absolute_error: 34.5762 - val_loss: 32.9436 - val_mean_absolute_error: 32.9436 - 3s/epoch - 10ms/step\n",
            "Epoch 8/200\n",
            "274/274 - 3s - loss: 33.1467 - mean_absolute_error: 33.1467 - val_loss: 33.7696 - val_mean_absolute_error: 33.7696 - 3s/epoch - 10ms/step\n",
            "Epoch 9/200\n",
            "274/274 - 3s - loss: 30.5330 - mean_absolute_error: 30.5330 - val_loss: 32.6064 - val_mean_absolute_error: 32.6064 - 3s/epoch - 10ms/step\n",
            "Epoch 10/200\n",
            "274/274 - 3s - loss: 28.7706 - mean_absolute_error: 28.7706 - val_loss: 30.9623 - val_mean_absolute_error: 30.9623 - 3s/epoch - 10ms/step\n",
            "Epoch 11/200\n",
            "274/274 - 3s - loss: 27.7462 - mean_absolute_error: 27.7462 - val_loss: 31.0225 - val_mean_absolute_error: 31.0225 - 3s/epoch - 11ms/step\n",
            "Epoch 12/200\n",
            "274/274 - 3s - loss: 26.4130 - mean_absolute_error: 26.4130 - val_loss: 32.7747 - val_mean_absolute_error: 32.7747 - 3s/epoch - 11ms/step\n",
            "Epoch 13/200\n",
            "274/274 - 3s - loss: 25.2449 - mean_absolute_error: 25.2449 - val_loss: 38.4351 - val_mean_absolute_error: 38.4351 - 3s/epoch - 11ms/step\n",
            "Epoch 14/200\n",
            "274/274 - 3s - loss: 24.7786 - mean_absolute_error: 24.7786 - val_loss: 39.5442 - val_mean_absolute_error: 39.5442 - 3s/epoch - 10ms/step\n",
            "Epoch 15/200\n",
            "274/274 - 3s - loss: 23.8687 - mean_absolute_error: 23.8687 - val_loss: 41.3042 - val_mean_absolute_error: 41.3042 - 3s/epoch - 11ms/step\n",
            "Epoch 00015: early stopping\n"
          ]
        }
      ],
      "source": [
        "\n",
        "#Define early-stopping\n",
        "es = EarlyStopping(monitor='val_loss', mode='min', verbose=1, patience=5)\n",
        "\n",
        "#Fit the model. shuffle=False\n",
        "history = model.fit(train_X_enc, train_y, \n",
        "                    epochs=200, \n",
        "                    verbose=2, \n",
        "                    callbacks=[es], \n",
        "                    validation_data= [val_X_enc, val_y], \n",
        "                    shuffle=False) "
      ]
    },
    {
      "cell_type": "markdown",
      "metadata": {
        "id": "ttcFYWSr4t7W"
      },
      "source": [
        "<font color='red'>\n",
        "$TO DO - Students$\n",
        "\n",
        "* Use your model to predict test set data\n",
        "</font>"
      ]
    },
    {
      "cell_type": "code",
      "execution_count": 83,
      "metadata": {
        "ExecuteTime": {
          "end_time": "2021-10-05T11:22:47.463533Z",
          "start_time": "2021-10-05T11:22:46.226671Z"
        },
        "id": "JouYyVjt4t7W",
        "colab": {
          "base_uri": "https://localhost:8080/"
        },
        "outputId": "41454b69-7278-4439-c5f9-636f60cd73e3"
      },
      "outputs": [
        {
          "output_type": "stream",
          "name": "stdout",
          "text": [
            "WARNING:tensorflow:5 out of the last 828 calls to <function Model.make_predict_function.<locals>.predict_function at 0x7fb11651a5f0> triggered tf.function retracing. Tracing is expensive and the excessive number of tracings could be due to (1) creating @tf.function repeatedly in a loop, (2) passing tensors with different shapes, (3) passing Python objects instead of tensors. For (1), please define your @tf.function outside of the loop. For (2), @tf.function has experimental_relax_shapes=True option that relaxes argument shapes that can avoid unnecessary retracing. For (3), please refer to https://www.tensorflow.org/guide/function#controlling_retracing and https://www.tensorflow.org/api_docs/python/tf/function for  more details.\n"
          ]
        }
      ],
      "source": [
        "\n",
        "# make a prediction\n",
        "\n",
        "pred = model.predict(test_X_enc)\n"
      ]
    },
    {
      "cell_type": "markdown",
      "metadata": {
        "ExecuteTime": {
          "end_time": "2022-01-29T15:27:52.753563Z",
          "start_time": "2022-01-29T15:27:52.723119Z"
        },
        "id": "-Y3YrBdW4t7W"
      },
      "source": [
        "<font color='red'>\n",
        "$TO DO - Students$\n",
        "\n",
        "* Plot learning curve\n",
        "</font>"
      ]
    },
    {
      "cell_type": "code",
      "execution_count": 84,
      "metadata": {
        "ExecuteTime": {
          "end_time": "2021-10-05T11:22:46.219894Z",
          "start_time": "2021-10-05T11:22:46.042233Z"
        },
        "id": "II_2nU0N4t7W",
        "colab": {
          "base_uri": "https://localhost:8080/",
          "height": 176
        },
        "outputId": "797126b4-d044-4cb4-c9e7-769f477de201"
      },
      "outputs": [
        {
          "output_type": "display_data",
          "data": {
            "image/png": "[encoded data removed]",
            "text/plain": [
              "<Figure size 1440x576 with 3 Axes>"
            ]
          },
          "metadata": {
            "needs_background": "light"
          }
        }
      ],
      "source": [
        "\"\"\" PLOT \"\"\"\n",
        "\n",
        "    \n",
        "# plot history\n",
        "plt.figure(figsize=(20,8))\n",
        "\n",
        "plt.subplot(331)\n",
        "plt.plot(history.history['loss'][3:], label='loss')\n",
        "plt.plot(history.history['val_loss'][3:], label='val_loss')\n",
        "plt.legend()\n",
        "\n",
        "plt.subplot(332)\n",
        "plt.plot(history.history['mean_absolute_error'][3:], label='mean_absolute_error')\n",
        "plt.plot(history.history['val_mean_absolute_error'][3:], label='val_mean_absolute_error')\n",
        "plt.legend()\n",
        "\n",
        "plt.subplot(333)\n",
        "plt.plot(range(len(train_y)), train_y, label=\"train\")\n",
        "plt.plot(range(len(train_y), len(train_y)+len(val_y)), val_y, label=\"valid\")\n",
        "plt.plot(range(len(train_y)+len(val_y), len(train_y)+len(val_y)+len(pred)), test_y, label=\"test\")\n",
        "plt.plot(range(len(train_y)+len(val_y), len(train_y)+len(val_y)+len(pred)), pred, label=\"predict\")\n",
        "\n",
        "plt.legend(loc='center left')\n",
        "plt.show()"
      ]
    },
    {
      "cell_type": "markdown",
      "metadata": {
        "id": "q0TvydKH4t7X"
      },
      "source": [
        "<font color='red'>\n",
        "$TO DO - Students$\n",
        "\n",
        "* Evaluate your model with RMSA\n",
        "</font>"
      ]
    },
    {
      "cell_type": "code",
      "execution_count": 85,
      "metadata": {
        "ExecuteTime": {
          "end_time": "2021-10-05T11:22:47.487113Z",
          "start_time": "2021-10-05T11:22:47.474485Z"
        },
        "id": "C7OEhHZ04t7X",
        "colab": {
          "base_uri": "https://localhost:8080/",
          "height": 35
        },
        "outputId": "ae36c0c6-db80-460d-b4c2-88d4c0fe9270"
      },
      "outputs": [
        {
          "output_type": "execute_result",
          "data": {
            "application/vnd.google.colaboratory.intrinsic+json": {
              "type": "string"
            },
            "text/plain": [
              "'Test RMSE: 57.166'"
            ]
          },
          "metadata": {},
          "execution_count": 85
        }
      ],
      "source": [
        "\n",
        "# calculate RMSE\n",
        "\n",
        "from tensorflow.keras.metrics import RootMeanSquaredError as RMSE\n",
        "\n",
        "rmse = RMSE(dtype='float64')\n",
        "rmse_result = rmse(pred, test_y)\n",
        "\n",
        "'Test RMSE: %.3f' % rmse_result"
      ]
    },
    {
      "cell_type": "markdown",
      "source": [
        "We got the RMSE value of test as 57.166."
      ],
      "metadata": {
        "id": "CkbGUisE99N9"
      }
    },
    {
      "cell_type": "markdown",
      "metadata": {
        "id": "GEv8A_Zl4t7X"
      },
      "source": [
        "### Predict next day\n",
        "\n",
        "Generally, what we are trying to predict is a pollution indicator for the day or per 12-hour period. \n",
        "\n",
        "Modify the datasets to create a new column giving a pollution indicator per half day: little pollution, moderate pollution, heavy pollution."
      ]
    },
    {
      "cell_type": "markdown",
      "source": [
        "Let's define the data path again and load the dataset to a data frame called 'df':"
      ],
      "metadata": {
        "id": "9MlG2sS52lDS"
      }
    },
    {
      "cell_type": "code",
      "source": [
        "DATAPATH = \"https://www.i3s.unice.fr/~riveill/dataset/pollution.csv\""
      ],
      "metadata": {
        "id": "xVPBmR3TxH00"
      },
      "execution_count": 86,
      "outputs": []
    },
    {
      "cell_type": "code",
      "source": [
        "import pandas as pd\n",
        "#index_col=1\n",
        "df = pd.read_csv(DATAPATH, sep=\",\", header=0, index_col=0)\n",
        "print(df.shape)\n",
        "df.head()"
      ],
      "metadata": {
        "colab": {
          "base_uri": "https://localhost:8080/",
          "height": 255
        },
        "id": "rUxoqYGFft7O",
        "outputId": "01f8e249-0685-4860-fca6-d7665eea8250"
      },
      "execution_count": 87,
      "outputs": [
        {
          "output_type": "stream",
          "name": "stdout",
          "text": [
            "(43800, 8)\n"
          ]
        },
        {
          "output_type": "execute_result",
          "data": {
            "text/html": [
              "\n",
              "  <div id=\"df-722da53b-f5aa-4115-ab7b-cc6f2affa181\">\n",
              "    <div class=\"colab-df-container\">\n",
              "      <div>\n",
              "<style scoped>\n",
              "    .dataframe tbody tr th:only-of-type {\n",
              "        vertical-align: middle;\n",
              "    }\n",
              "\n",
              "    .dataframe tbody tr th {\n",
              "        vertical-align: top;\n",
              "    }\n",
              "\n",
              "    .dataframe thead th {\n",
              "        text-align: right;\n",
              "    }\n",
              "</style>\n",
              "<table border=\"1\" class=\"dataframe\">\n",
              "  <thead>\n",
              "    <tr style=\"text-align: right;\">\n",
              "      <th></th>\n",
              "      <th>pollution</th>\n",
              "      <th>dew</th>\n",
              "      <th>temp</th>\n",
              "      <th>press</th>\n",
              "      <th>wnd_dir</th>\n",
              "      <th>wnd_spd</th>\n",
              "      <th>snow</th>\n",
              "      <th>rain</th>\n",
              "    </tr>\n",
              "    <tr>\n",
              "      <th>date</th>\n",
              "      <th></th>\n",
              "      <th></th>\n",
              "      <th></th>\n",
              "      <th></th>\n",
              "      <th></th>\n",
              "      <th></th>\n",
              "      <th></th>\n",
              "      <th></th>\n",
              "    </tr>\n",
              "  </thead>\n",
              "  <tbody>\n",
              "    <tr>\n",
              "      <th>2010-01-02 00:00:00</th>\n",
              "      <td>129.0</td>\n",
              "      <td>-16</td>\n",
              "      <td>-4.0</td>\n",
              "      <td>1020.0</td>\n",
              "      <td>SE</td>\n",
              "      <td>1.79</td>\n",
              "      <td>0</td>\n",
              "      <td>0</td>\n",
              "    </tr>\n",
              "    <tr>\n",
              "      <th>2010-01-02 01:00:00</th>\n",
              "      <td>148.0</td>\n",
              "      <td>-15</td>\n",
              "      <td>-4.0</td>\n",
              "      <td>1020.0</td>\n",
              "      <td>SE</td>\n",
              "      <td>2.68</td>\n",
              "      <td>0</td>\n",
              "      <td>0</td>\n",
              "    </tr>\n",
              "    <tr>\n",
              "      <th>2010-01-02 02:00:00</th>\n",
              "      <td>159.0</td>\n",
              "      <td>-11</td>\n",
              "      <td>-5.0</td>\n",
              "      <td>1021.0</td>\n",
              "      <td>SE</td>\n",
              "      <td>3.57</td>\n",
              "      <td>0</td>\n",
              "      <td>0</td>\n",
              "    </tr>\n",
              "    <tr>\n",
              "      <th>2010-01-02 03:00:00</th>\n",
              "      <td>181.0</td>\n",
              "      <td>-7</td>\n",
              "      <td>-5.0</td>\n",
              "      <td>1022.0</td>\n",
              "      <td>SE</td>\n",
              "      <td>5.36</td>\n",
              "      <td>1</td>\n",
              "      <td>0</td>\n",
              "    </tr>\n",
              "    <tr>\n",
              "      <th>2010-01-02 04:00:00</th>\n",
              "      <td>138.0</td>\n",
              "      <td>-7</td>\n",
              "      <td>-5.0</td>\n",
              "      <td>1022.0</td>\n",
              "      <td>SE</td>\n",
              "      <td>6.25</td>\n",
              "      <td>2</td>\n",
              "      <td>0</td>\n",
              "    </tr>\n",
              "  </tbody>\n",
              "</table>\n",
              "</div>\n",
              "      <button class=\"colab-df-convert\" onclick=\"convertToInteractive('df-722da53b-f5aa-4115-ab7b-cc6f2affa181')\"\n",
              "              title=\"Convert this dataframe to an interactive table.\"\n",
              "              style=\"display:none;\">\n",
              "        \n",
              "  <svg xmlns=\"http://www.w3.org/2000/svg\" height=\"24px\"viewBox=\"0 0 24 24\"\n",
              "       width=\"24px\">\n",
              "    <path d=\"M0 0h24v24H0V0z\" fill=\"none\"/>\n",
              "    <path d=\"M18.56 5.44l.94 2.06.94-2.06 2.06-.94-2.06-.94-.94-2.06-.94 2.06-2.06.94zm-11 1L8.5 8.5l.94-2.06 2.06-.94-2.06-.94L8.5 2.5l-.94 2.06-2.06.94zm10 10l.94 2.06.94-2.06 2.06-.94-2.06-.94-.94-2.06-.94 2.06-2.06.94z\"/><path d=\"M17.41 7.96l-1.37-1.37c-.4-.4-.92-.59-1.43-.59-.52 0-1.04.2-1.43.59L10.3 9.45l-7.72 7.72c-.78.78-.78 2.05 0 2.83L4 21.41c.39.39.9.59 1.41.59.51 0 1.02-.2 1.41-.59l7.78-7.78 2.81-2.81c.8-.78.8-2.07 0-2.86zM5.41 20L4 18.59l7.72-7.72 1.47 1.35L5.41 20z\"/>\n",
              "  </svg>\n",
              "      </button>\n",
              "      \n",
              "  <style>\n",
              "    .colab-df-container {\n",
              "      display:flex;\n",
              "      flex-wrap:wrap;\n",
              "      gap: 12px;\n",
              "    }\n",
              "\n",
              "    .colab-df-convert {\n",
              "      background-color: #E8F0FE;\n",
              "      border: none;\n",
              "      border-radius: 50%;\n",
              "      cursor: pointer;\n",
              "      display: none;\n",
              "      fill: #1967D2;\n",
              "      height: 32px;\n",
              "      padding: 0 0 0 0;\n",
              "      width: 32px;\n",
              "    }\n",
              "\n",
              "    .colab-df-convert:hover {\n",
              "      background-color: #E2EBFA;\n",
              "      box-shadow: 0px 1px 2px rgba(60, 64, 67, 0.3), 0px 1px 3px 1px rgba(60, 64, 67, 0.15);\n",
              "      fill: #174EA6;\n",
              "    }\n",
              "\n",
              "    [theme=dark] .colab-df-convert {\n",
              "      background-color: #3B4455;\n",
              "      fill: #D2E3FC;\n",
              "    }\n",
              "\n",
              "    [theme=dark] .colab-df-convert:hover {\n",
              "      background-color: #434B5C;\n",
              "      box-shadow: 0px 1px 3px 1px rgba(0, 0, 0, 0.15);\n",
              "      filter: drop-shadow(0px 1px 2px rgba(0, 0, 0, 0.3));\n",
              "      fill: #FFFFFF;\n",
              "    }\n",
              "  </style>\n",
              "\n",
              "      <script>\n",
              "        const buttonEl =\n",
              "          document.querySelector('#df-722da53b-f5aa-4115-ab7b-cc6f2affa181 button.colab-df-convert');\n",
              "        buttonEl.style.display =\n",
              "          google.colab.kernel.accessAllowed ? 'block' : 'none';\n",
              "\n",
              "        async function convertToInteractive(key) {\n",
              "          const element = document.querySelector('#df-722da53b-f5aa-4115-ab7b-cc6f2affa181');\n",
              "          const dataTable =\n",
              "            await google.colab.kernel.invokeFunction('convertToInteractive',\n",
              "                                                     [key], {});\n",
              "          if (!dataTable) return;\n",
              "\n",
              "          const docLinkHtml = 'Like what you see? Visit the ' +\n",
              "            '<a target=\"_blank\" href=https://colab.research.google.com/notebooks/data_table.ipynb>data table notebook</a>'\n",
              "            + ' to learn more about interactive tables.';\n",
              "          element.innerHTML = '';\n",
              "          dataTable['output_type'] = 'display_data';\n",
              "          await google.colab.output.renderOutput(dataTable, element);\n",
              "          const docLink = document.createElement('div');\n",
              "          docLink.innerHTML = docLinkHtml;\n",
              "          element.appendChild(docLink);\n",
              "        }\n",
              "      </script>\n",
              "    </div>\n",
              "  </div>\n",
              "  "
            ],
            "text/plain": [
              "                     pollution  dew  temp   press wnd_dir  wnd_spd  snow  rain\n",
              "date                                                                          \n",
              "2010-01-02 00:00:00      129.0  -16  -4.0  1020.0      SE     1.79     0     0\n",
              "2010-01-02 01:00:00      148.0  -15  -4.0  1020.0      SE     2.68     0     0\n",
              "2010-01-02 02:00:00      159.0  -11  -5.0  1021.0      SE     3.57     0     0\n",
              "2010-01-02 03:00:00      181.0   -7  -5.0  1022.0      SE     5.36     1     0\n",
              "2010-01-02 04:00:00      138.0   -7  -5.0  1022.0      SE     6.25     2     0"
            ]
          },
          "metadata": {},
          "execution_count": 87
        }
      ]
    },
    {
      "cell_type": "markdown",
      "source": [
        "Then, create two additional columns as 'hour' and 'day'. At the begining the hour column is 0 and day column is empty string. We will assign values to them very soon."
      ],
      "metadata": {
        "id": "jG8LXyuC2s9C"
      }
    },
    {
      "cell_type": "code",
      "source": [
        "#Create a new column called 'hour'. At the begining assign every row to 0 in the new column.\n",
        "df['hour']=0\n",
        "df['day'] = ''\n",
        "df.head()"
      ],
      "metadata": {
        "colab": {
          "base_uri": "https://localhost:8080/",
          "height": 238
        },
        "id": "MECAJNNjAOHA",
        "outputId": "99915cd5-f1a4-4dd9-b8b8-2baf9d5009a8"
      },
      "execution_count": 88,
      "outputs": [
        {
          "output_type": "execute_result",
          "data": {
            "text/html": [
              "\n",
              "  <div id=\"df-fce49c8e-5c2e-43c0-be71-03a5177ce09f\">\n",
              "    <div class=\"colab-df-container\">\n",
              "      <div>\n",
              "<style scoped>\n",
              "    .dataframe tbody tr th:only-of-type {\n",
              "        vertical-align: middle;\n",
              "    }\n",
              "\n",
              "    .dataframe tbody tr th {\n",
              "        vertical-align: top;\n",
              "    }\n",
              "\n",
              "    .dataframe thead th {\n",
              "        text-align: right;\n",
              "    }\n",
              "</style>\n",
              "<table border=\"1\" class=\"dataframe\">\n",
              "  <thead>\n",
              "    <tr style=\"text-align: right;\">\n",
              "      <th></th>\n",
              "      <th>pollution</th>\n",
              "      <th>dew</th>\n",
              "      <th>temp</th>\n",
              "      <th>press</th>\n",
              "      <th>wnd_dir</th>\n",
              "      <th>wnd_spd</th>\n",
              "      <th>snow</th>\n",
              "      <th>rain</th>\n",
              "      <th>hour</th>\n",
              "      <th>day</th>\n",
              "    </tr>\n",
              "    <tr>\n",
              "      <th>date</th>\n",
              "      <th></th>\n",
              "      <th></th>\n",
              "      <th></th>\n",
              "      <th></th>\n",
              "      <th></th>\n",
              "      <th></th>\n",
              "      <th></th>\n",
              "      <th></th>\n",
              "      <th></th>\n",
              "      <th></th>\n",
              "    </tr>\n",
              "  </thead>\n",
              "  <tbody>\n",
              "    <tr>\n",
              "      <th>2010-01-02 00:00:00</th>\n",
              "      <td>129.0</td>\n",
              "      <td>-16</td>\n",
              "      <td>-4.0</td>\n",
              "      <td>1020.0</td>\n",
              "      <td>SE</td>\n",
              "      <td>1.79</td>\n",
              "      <td>0</td>\n",
              "      <td>0</td>\n",
              "      <td>0</td>\n",
              "      <td></td>\n",
              "    </tr>\n",
              "    <tr>\n",
              "      <th>2010-01-02 01:00:00</th>\n",
              "      <td>148.0</td>\n",
              "      <td>-15</td>\n",
              "      <td>-4.0</td>\n",
              "      <td>1020.0</td>\n",
              "      <td>SE</td>\n",
              "      <td>2.68</td>\n",
              "      <td>0</td>\n",
              "      <td>0</td>\n",
              "      <td>0</td>\n",
              "      <td></td>\n",
              "    </tr>\n",
              "    <tr>\n",
              "      <th>2010-01-02 02:00:00</th>\n",
              "      <td>159.0</td>\n",
              "      <td>-11</td>\n",
              "      <td>-5.0</td>\n",
              "      <td>1021.0</td>\n",
              "      <td>SE</td>\n",
              "      <td>3.57</td>\n",
              "      <td>0</td>\n",
              "      <td>0</td>\n",
              "      <td>0</td>\n",
              "      <td></td>\n",
              "    </tr>\n",
              "    <tr>\n",
              "      <th>2010-01-02 03:00:00</th>\n",
              "      <td>181.0</td>\n",
              "      <td>-7</td>\n",
              "      <td>-5.0</td>\n",
              "      <td>1022.0</td>\n",
              "      <td>SE</td>\n",
              "      <td>5.36</td>\n",
              "      <td>1</td>\n",
              "      <td>0</td>\n",
              "      <td>0</td>\n",
              "      <td></td>\n",
              "    </tr>\n",
              "    <tr>\n",
              "      <th>2010-01-02 04:00:00</th>\n",
              "      <td>138.0</td>\n",
              "      <td>-7</td>\n",
              "      <td>-5.0</td>\n",
              "      <td>1022.0</td>\n",
              "      <td>SE</td>\n",
              "      <td>6.25</td>\n",
              "      <td>2</td>\n",
              "      <td>0</td>\n",
              "      <td>0</td>\n",
              "      <td></td>\n",
              "    </tr>\n",
              "  </tbody>\n",
              "</table>\n",
              "</div>\n",
              "      <button class=\"colab-df-convert\" onclick=\"convertToInteractive('df-fce49c8e-5c2e-43c0-be71-03a5177ce09f')\"\n",
              "              title=\"Convert this dataframe to an interactive table.\"\n",
              "              style=\"display:none;\">\n",
              "        \n",
              "  <svg xmlns=\"http://www.w3.org/2000/svg\" height=\"24px\"viewBox=\"0 0 24 24\"\n",
              "       width=\"24px\">\n",
              "    <path d=\"M0 0h24v24H0V0z\" fill=\"none\"/>\n",
              "    <path d=\"M18.56 5.44l.94 2.06.94-2.06 2.06-.94-2.06-.94-.94-2.06-.94 2.06-2.06.94zm-11 1L8.5 8.5l.94-2.06 2.06-.94-2.06-.94L8.5 2.5l-.94 2.06-2.06.94zm10 10l.94 2.06.94-2.06 2.06-.94-2.06-.94-.94-2.06-.94 2.06-2.06.94z\"/><path d=\"M17.41 7.96l-1.37-1.37c-.4-.4-.92-.59-1.43-.59-.52 0-1.04.2-1.43.59L10.3 9.45l-7.72 7.72c-.78.78-.78 2.05 0 2.83L4 21.41c.39.39.9.59 1.41.59.51 0 1.02-.2 1.41-.59l7.78-7.78 2.81-2.81c.8-.78.8-2.07 0-2.86zM5.41 20L4 18.59l7.72-7.72 1.47 1.35L5.41 20z\"/>\n",
              "  </svg>\n",
              "      </button>\n",
              "      \n",
              "  <style>\n",
              "    .colab-df-container {\n",
              "      display:flex;\n",
              "      flex-wrap:wrap;\n",
              "      gap: 12px;\n",
              "    }\n",
              "\n",
              "    .colab-df-convert {\n",
              "      background-color: #E8F0FE;\n",
              "      border: none;\n",
              "      border-radius: 50%;\n",
              "      cursor: pointer;\n",
              "      display: none;\n",
              "      fill: #1967D2;\n",
              "      height: 32px;\n",
              "      padding: 0 0 0 0;\n",
              "      width: 32px;\n",
              "    }\n",
              "\n",
              "    .colab-df-convert:hover {\n",
              "      background-color: #E2EBFA;\n",
              "      box-shadow: 0px 1px 2px rgba(60, 64, 67, 0.3), 0px 1px 3px 1px rgba(60, 64, 67, 0.15);\n",
              "      fill: #174EA6;\n",
              "    }\n",
              "\n",
              "    [theme=dark] .colab-df-convert {\n",
              "      background-color: #3B4455;\n",
              "      fill: #D2E3FC;\n",
              "    }\n",
              "\n",
              "    [theme=dark] .colab-df-convert:hover {\n",
              "      background-color: #434B5C;\n",
              "      box-shadow: 0px 1px 3px 1px rgba(0, 0, 0, 0.15);\n",
              "      filter: drop-shadow(0px 1px 2px rgba(0, 0, 0, 0.3));\n",
              "      fill: #FFFFFF;\n",
              "    }\n",
              "  </style>\n",
              "\n",
              "      <script>\n",
              "        const buttonEl =\n",
              "          document.querySelector('#df-fce49c8e-5c2e-43c0-be71-03a5177ce09f button.colab-df-convert');\n",
              "        buttonEl.style.display =\n",
              "          google.colab.kernel.accessAllowed ? 'block' : 'none';\n",
              "\n",
              "        async function convertToInteractive(key) {\n",
              "          const element = document.querySelector('#df-fce49c8e-5c2e-43c0-be71-03a5177ce09f');\n",
              "          const dataTable =\n",
              "            await google.colab.kernel.invokeFunction('convertToInteractive',\n",
              "                                                     [key], {});\n",
              "          if (!dataTable) return;\n",
              "\n",
              "          const docLinkHtml = 'Like what you see? Visit the ' +\n",
              "            '<a target=\"_blank\" href=https://colab.research.google.com/notebooks/data_table.ipynb>data table notebook</a>'\n",
              "            + ' to learn more about interactive tables.';\n",
              "          element.innerHTML = '';\n",
              "          dataTable['output_type'] = 'display_data';\n",
              "          await google.colab.output.renderOutput(dataTable, element);\n",
              "          const docLink = document.createElement('div');\n",
              "          docLink.innerHTML = docLinkHtml;\n",
              "          element.appendChild(docLink);\n",
              "        }\n",
              "      </script>\n",
              "    </div>\n",
              "  </div>\n",
              "  "
            ],
            "text/plain": [
              "                     pollution  dew  temp   press  ... snow  rain  hour  day\n",
              "date                                               ...                      \n",
              "2010-01-02 00:00:00      129.0  -16  -4.0  1020.0  ...    0     0     0     \n",
              "2010-01-02 01:00:00      148.0  -15  -4.0  1020.0  ...    0     0     0     \n",
              "2010-01-02 02:00:00      159.0  -11  -5.0  1021.0  ...    0     0     0     \n",
              "2010-01-02 03:00:00      181.0   -7  -5.0  1022.0  ...    1     0     0     \n",
              "2010-01-02 04:00:00      138.0   -7  -5.0  1022.0  ...    2     0     0     \n",
              "\n",
              "[5 rows x 10 columns]"
            ]
          },
          "metadata": {},
          "execution_count": 88
        }
      ]
    },
    {
      "cell_type": "markdown",
      "source": [
        "Let's fill the hour and day columns. For every row I take the index(date) and split it into day and hour. If the hour is less than or equal to 12, that means it is the first half of the day. If the hour is greater than 12, then it is afternoon. The first half of the day is indicated as 'morning', and the other half is indicated as 'afternoon'. \n",
        "\n",
        "\n",
        "For example if the date is 2010-01-02 04:00:00\tthen,\n",
        "1. The hour is 04\n",
        "2. So, the day is \"2010-01-02-morning\"\n",
        "\n"
      ],
      "metadata": {
        "id": "jUG0y80u3AI0"
      }
    },
    {
      "cell_type": "code",
      "source": [
        "for i in range(len(df)):\n",
        "  #morning\n",
        "  if int(df.index[i][-8:-6]) <= 12:\n",
        "    df['hour'][i] = df.index[i][-8:-6]\n",
        "    df['day'][i] = df.index[i][0:10] + '-morning'\n",
        "  #afternoon\n",
        "  else:\n",
        "    df['hour'][i] = df.index[i][-8:-6]\n",
        "    df['day'][i] = df.index[i][0:10] + '-afternoon'\n",
        "\n",
        "df.head()"
      ],
      "metadata": {
        "colab": {
          "base_uri": "https://localhost:8080/",
          "height": 585
        },
        "id": "DhCTM2zvGjsK",
        "outputId": "ef556597-77ac-4dea-ef42-019ac0bf787f"
      },
      "execution_count": 89,
      "outputs": [
        {
          "output_type": "stream",
          "name": "stderr",
          "text": [
            "/usr/local/lib/python3.7/dist-packages/ipykernel_launcher.py:4: SettingWithCopyWarning: \n",
            "A value is trying to be set on a copy of a slice from a DataFrame\n",
            "\n",
            "See the caveats in the documentation: https://pandas.pydata.org/pandas-docs/stable/user_guide/indexing.html#returning-a-view-versus-a-copy\n",
            "  after removing the cwd from sys.path.\n",
            "/usr/local/lib/python3.7/dist-packages/ipykernel_launcher.py:5: SettingWithCopyWarning: \n",
            "A value is trying to be set on a copy of a slice from a DataFrame\n",
            "\n",
            "See the caveats in the documentation: https://pandas.pydata.org/pandas-docs/stable/user_guide/indexing.html#returning-a-view-versus-a-copy\n",
            "  \"\"\"\n",
            "/usr/local/lib/python3.7/dist-packages/ipykernel_launcher.py:8: SettingWithCopyWarning: \n",
            "A value is trying to be set on a copy of a slice from a DataFrame\n",
            "\n",
            "See the caveats in the documentation: https://pandas.pydata.org/pandas-docs/stable/user_guide/indexing.html#returning-a-view-versus-a-copy\n",
            "  \n",
            "/usr/local/lib/python3.7/dist-packages/ipykernel_launcher.py:9: SettingWithCopyWarning: \n",
            "A value is trying to be set on a copy of a slice from a DataFrame\n",
            "\n",
            "See the caveats in the documentation: https://pandas.pydata.org/pandas-docs/stable/user_guide/indexing.html#returning-a-view-versus-a-copy\n",
            "  if __name__ == '__main__':\n"
          ]
        },
        {
          "output_type": "execute_result",
          "data": {
            "text/html": [
              "\n",
              "  <div id=\"df-c03ab9ca-cced-4154-be2f-7e303f43fd68\">\n",
              "    <div class=\"colab-df-container\">\n",
              "      <div>\n",
              "<style scoped>\n",
              "    .dataframe tbody tr th:only-of-type {\n",
              "        vertical-align: middle;\n",
              "    }\n",
              "\n",
              "    .dataframe tbody tr th {\n",
              "        vertical-align: top;\n",
              "    }\n",
              "\n",
              "    .dataframe thead th {\n",
              "        text-align: right;\n",
              "    }\n",
              "</style>\n",
              "<table border=\"1\" class=\"dataframe\">\n",
              "  <thead>\n",
              "    <tr style=\"text-align: right;\">\n",
              "      <th></th>\n",
              "      <th>pollution</th>\n",
              "      <th>dew</th>\n",
              "      <th>temp</th>\n",
              "      <th>press</th>\n",
              "      <th>wnd_dir</th>\n",
              "      <th>wnd_spd</th>\n",
              "      <th>snow</th>\n",
              "      <th>rain</th>\n",
              "      <th>hour</th>\n",
              "      <th>day</th>\n",
              "    </tr>\n",
              "    <tr>\n",
              "      <th>date</th>\n",
              "      <th></th>\n",
              "      <th></th>\n",
              "      <th></th>\n",
              "      <th></th>\n",
              "      <th></th>\n",
              "      <th></th>\n",
              "      <th></th>\n",
              "      <th></th>\n",
              "      <th></th>\n",
              "      <th></th>\n",
              "    </tr>\n",
              "  </thead>\n",
              "  <tbody>\n",
              "    <tr>\n",
              "      <th>2010-01-02 00:00:00</th>\n",
              "      <td>129.0</td>\n",
              "      <td>-16</td>\n",
              "      <td>-4.0</td>\n",
              "      <td>1020.0</td>\n",
              "      <td>SE</td>\n",
              "      <td>1.79</td>\n",
              "      <td>0</td>\n",
              "      <td>0</td>\n",
              "      <td>0</td>\n",
              "      <td>2010-01-02-morning</td>\n",
              "    </tr>\n",
              "    <tr>\n",
              "      <th>2010-01-02 01:00:00</th>\n",
              "      <td>148.0</td>\n",
              "      <td>-15</td>\n",
              "      <td>-4.0</td>\n",
              "      <td>1020.0</td>\n",
              "      <td>SE</td>\n",
              "      <td>2.68</td>\n",
              "      <td>0</td>\n",
              "      <td>0</td>\n",
              "      <td>1</td>\n",
              "      <td>2010-01-02-morning</td>\n",
              "    </tr>\n",
              "    <tr>\n",
              "      <th>2010-01-02 02:00:00</th>\n",
              "      <td>159.0</td>\n",
              "      <td>-11</td>\n",
              "      <td>-5.0</td>\n",
              "      <td>1021.0</td>\n",
              "      <td>SE</td>\n",
              "      <td>3.57</td>\n",
              "      <td>0</td>\n",
              "      <td>0</td>\n",
              "      <td>2</td>\n",
              "      <td>2010-01-02-morning</td>\n",
              "    </tr>\n",
              "    <tr>\n",
              "      <th>2010-01-02 03:00:00</th>\n",
              "      <td>181.0</td>\n",
              "      <td>-7</td>\n",
              "      <td>-5.0</td>\n",
              "      <td>1022.0</td>\n",
              "      <td>SE</td>\n",
              "      <td>5.36</td>\n",
              "      <td>1</td>\n",
              "      <td>0</td>\n",
              "      <td>3</td>\n",
              "      <td>2010-01-02-morning</td>\n",
              "    </tr>\n",
              "    <tr>\n",
              "      <th>2010-01-02 04:00:00</th>\n",
              "      <td>138.0</td>\n",
              "      <td>-7</td>\n",
              "      <td>-5.0</td>\n",
              "      <td>1022.0</td>\n",
              "      <td>SE</td>\n",
              "      <td>6.25</td>\n",
              "      <td>2</td>\n",
              "      <td>0</td>\n",
              "      <td>4</td>\n",
              "      <td>2010-01-02-morning</td>\n",
              "    </tr>\n",
              "  </tbody>\n",
              "</table>\n",
              "</div>\n",
              "      <button class=\"colab-df-convert\" onclick=\"convertToInteractive('df-c03ab9ca-cced-4154-be2f-7e303f43fd68')\"\n",
              "              title=\"Convert this dataframe to an interactive table.\"\n",
              "              style=\"display:none;\">\n",
              "        \n",
              "  <svg xmlns=\"http://www.w3.org/2000/svg\" height=\"24px\"viewBox=\"0 0 24 24\"\n",
              "       width=\"24px\">\n",
              "    <path d=\"M0 0h24v24H0V0z\" fill=\"none\"/>\n",
              "    <path d=\"M18.56 5.44l.94 2.06.94-2.06 2.06-.94-2.06-.94-.94-2.06-.94 2.06-2.06.94zm-11 1L8.5 8.5l.94-2.06 2.06-.94-2.06-.94L8.5 2.5l-.94 2.06-2.06.94zm10 10l.94 2.06.94-2.06 2.06-.94-2.06-.94-.94-2.06-.94 2.06-2.06.94z\"/><path d=\"M17.41 7.96l-1.37-1.37c-.4-.4-.92-.59-1.43-.59-.52 0-1.04.2-1.43.59L10.3 9.45l-7.72 7.72c-.78.78-.78 2.05 0 2.83L4 21.41c.39.39.9.59 1.41.59.51 0 1.02-.2 1.41-.59l7.78-7.78 2.81-2.81c.8-.78.8-2.07 0-2.86zM5.41 20L4 18.59l7.72-7.72 1.47 1.35L5.41 20z\"/>\n",
              "  </svg>\n",
              "      </button>\n",
              "      \n",
              "  <style>\n",
              "    .colab-df-container {\n",
              "      display:flex;\n",
              "      flex-wrap:wrap;\n",
              "      gap: 12px;\n",
              "    }\n",
              "\n",
              "    .colab-df-convert {\n",
              "      background-color: #E8F0FE;\n",
              "      border: none;\n",
              "      border-radius: 50%;\n",
              "      cursor: pointer;\n",
              "      display: none;\n",
              "      fill: #1967D2;\n",
              "      height: 32px;\n",
              "      padding: 0 0 0 0;\n",
              "      width: 32px;\n",
              "    }\n",
              "\n",
              "    .colab-df-convert:hover {\n",
              "      background-color: #E2EBFA;\n",
              "      box-shadow: 0px 1px 2px rgba(60, 64, 67, 0.3), 0px 1px 3px 1px rgba(60, 64, 67, 0.15);\n",
              "      fill: #174EA6;\n",
              "    }\n",
              "\n",
              "    [theme=dark] .colab-df-convert {\n",
              "      background-color: #3B4455;\n",
              "      fill: #D2E3FC;\n",
              "    }\n",
              "\n",
              "    [theme=dark] .colab-df-convert:hover {\n",
              "      background-color: #434B5C;\n",
              "      box-shadow: 0px 1px 3px 1px rgba(0, 0, 0, 0.15);\n",
              "      filter: drop-shadow(0px 1px 2px rgba(0, 0, 0, 0.3));\n",
              "      fill: #FFFFFF;\n",
              "    }\n",
              "  </style>\n",
              "\n",
              "      <script>\n",
              "        const buttonEl =\n",
              "          document.querySelector('#df-c03ab9ca-cced-4154-be2f-7e303f43fd68 button.colab-df-convert');\n",
              "        buttonEl.style.display =\n",
              "          google.colab.kernel.accessAllowed ? 'block' : 'none';\n",
              "\n",
              "        async function convertToInteractive(key) {\n",
              "          const element = document.querySelector('#df-c03ab9ca-cced-4154-be2f-7e303f43fd68');\n",
              "          const dataTable =\n",
              "            await google.colab.kernel.invokeFunction('convertToInteractive',\n",
              "                                                     [key], {});\n",
              "          if (!dataTable) return;\n",
              "\n",
              "          const docLinkHtml = 'Like what you see? Visit the ' +\n",
              "            '<a target=\"_blank\" href=https://colab.research.google.com/notebooks/data_table.ipynb>data table notebook</a>'\n",
              "            + ' to learn more about interactive tables.';\n",
              "          element.innerHTML = '';\n",
              "          dataTable['output_type'] = 'display_data';\n",
              "          await google.colab.output.renderOutput(dataTable, element);\n",
              "          const docLink = document.createElement('div');\n",
              "          docLink.innerHTML = docLinkHtml;\n",
              "          element.appendChild(docLink);\n",
              "        }\n",
              "      </script>\n",
              "    </div>\n",
              "  </div>\n",
              "  "
            ],
            "text/plain": [
              "                     pollution  dew  temp  ...  rain hour                 day\n",
              "date                                       ...                               \n",
              "2010-01-02 00:00:00      129.0  -16  -4.0  ...     0    0  2010-01-02-morning\n",
              "2010-01-02 01:00:00      148.0  -15  -4.0  ...     0    1  2010-01-02-morning\n",
              "2010-01-02 02:00:00      159.0  -11  -5.0  ...     0    2  2010-01-02-morning\n",
              "2010-01-02 03:00:00      181.0   -7  -5.0  ...     0    3  2010-01-02-morning\n",
              "2010-01-02 04:00:00      138.0   -7  -5.0  ...     0    4  2010-01-02-morning\n",
              "\n",
              "[5 rows x 10 columns]"
            ]
          },
          "metadata": {},
          "execution_count": 89
        }
      ]
    },
    {
      "cell_type": "markdown",
      "source": [
        "Next, we can group by the data frame according to day and calculate the pollution mean: "
      ],
      "metadata": {
        "id": "5u-Mw39M4KWN"
      }
    },
    {
      "cell_type": "code",
      "source": [
        "#Group by 'day' and create a new column as 'pollution_mean'\n",
        "df['pollution_mean'] = df.groupby('day')['pollution'].transform('mean')\n",
        "df.head()"
      ],
      "metadata": {
        "colab": {
          "base_uri": "https://localhost:8080/",
          "height": 238
        },
        "id": "fZhvmJrPpH2r",
        "outputId": "12a83f5b-ba3a-4922-d42b-7ab2e9527b89"
      },
      "execution_count": 90,
      "outputs": [
        {
          "output_type": "execute_result",
          "data": {
            "text/html": [
              "\n",
              "  <div id=\"df-95facea4-897b-4f27-a95c-df8121c700ff\">\n",
              "    <div class=\"colab-df-container\">\n",
              "      <div>\n",
              "<style scoped>\n",
              "    .dataframe tbody tr th:only-of-type {\n",
              "        vertical-align: middle;\n",
              "    }\n",
              "\n",
              "    .dataframe tbody tr th {\n",
              "        vertical-align: top;\n",
              "    }\n",
              "\n",
              "    .dataframe thead th {\n",
              "        text-align: right;\n",
              "    }\n",
              "</style>\n",
              "<table border=\"1\" class=\"dataframe\">\n",
              "  <thead>\n",
              "    <tr style=\"text-align: right;\">\n",
              "      <th></th>\n",
              "      <th>pollution</th>\n",
              "      <th>dew</th>\n",
              "      <th>temp</th>\n",
              "      <th>press</th>\n",
              "      <th>wnd_dir</th>\n",
              "      <th>wnd_spd</th>\n",
              "      <th>snow</th>\n",
              "      <th>rain</th>\n",
              "      <th>hour</th>\n",
              "      <th>day</th>\n",
              "      <th>pollution_mean</th>\n",
              "    </tr>\n",
              "    <tr>\n",
              "      <th>date</th>\n",
              "      <th></th>\n",
              "      <th></th>\n",
              "      <th></th>\n",
              "      <th></th>\n",
              "      <th></th>\n",
              "      <th></th>\n",
              "      <th></th>\n",
              "      <th></th>\n",
              "      <th></th>\n",
              "      <th></th>\n",
              "      <th></th>\n",
              "    </tr>\n",
              "  </thead>\n",
              "  <tbody>\n",
              "    <tr>\n",
              "      <th>2010-01-02 00:00:00</th>\n",
              "      <td>129.0</td>\n",
              "      <td>-16</td>\n",
              "      <td>-4.0</td>\n",
              "      <td>1020.0</td>\n",
              "      <td>SE</td>\n",
              "      <td>1.79</td>\n",
              "      <td>0</td>\n",
              "      <td>0</td>\n",
              "      <td>0</td>\n",
              "      <td>2010-01-02-morning</td>\n",
              "      <td>137.307692</td>\n",
              "    </tr>\n",
              "    <tr>\n",
              "      <th>2010-01-02 01:00:00</th>\n",
              "      <td>148.0</td>\n",
              "      <td>-15</td>\n",
              "      <td>-4.0</td>\n",
              "      <td>1020.0</td>\n",
              "      <td>SE</td>\n",
              "      <td>2.68</td>\n",
              "      <td>0</td>\n",
              "      <td>0</td>\n",
              "      <td>1</td>\n",
              "      <td>2010-01-02-morning</td>\n",
              "      <td>137.307692</td>\n",
              "    </tr>\n",
              "    <tr>\n",
              "      <th>2010-01-02 02:00:00</th>\n",
              "      <td>159.0</td>\n",
              "      <td>-11</td>\n",
              "      <td>-5.0</td>\n",
              "      <td>1021.0</td>\n",
              "      <td>SE</td>\n",
              "      <td>3.57</td>\n",
              "      <td>0</td>\n",
              "      <td>0</td>\n",
              "      <td>2</td>\n",
              "      <td>2010-01-02-morning</td>\n",
              "      <td>137.307692</td>\n",
              "    </tr>\n",
              "    <tr>\n",
              "      <th>2010-01-02 03:00:00</th>\n",
              "      <td>181.0</td>\n",
              "      <td>-7</td>\n",
              "      <td>-5.0</td>\n",
              "      <td>1022.0</td>\n",
              "      <td>SE</td>\n",
              "      <td>5.36</td>\n",
              "      <td>1</td>\n",
              "      <td>0</td>\n",
              "      <td>3</td>\n",
              "      <td>2010-01-02-morning</td>\n",
              "      <td>137.307692</td>\n",
              "    </tr>\n",
              "    <tr>\n",
              "      <th>2010-01-02 04:00:00</th>\n",
              "      <td>138.0</td>\n",
              "      <td>-7</td>\n",
              "      <td>-5.0</td>\n",
              "      <td>1022.0</td>\n",
              "      <td>SE</td>\n",
              "      <td>6.25</td>\n",
              "      <td>2</td>\n",
              "      <td>0</td>\n",
              "      <td>4</td>\n",
              "      <td>2010-01-02-morning</td>\n",
              "      <td>137.307692</td>\n",
              "    </tr>\n",
              "  </tbody>\n",
              "</table>\n",
              "</div>\n",
              "      <button class=\"colab-df-convert\" onclick=\"convertToInteractive('df-95facea4-897b-4f27-a95c-df8121c700ff')\"\n",
              "              title=\"Convert this dataframe to an interactive table.\"\n",
              "              style=\"display:none;\">\n",
              "        \n",
              "  <svg xmlns=\"http://www.w3.org/2000/svg\" height=\"24px\"viewBox=\"0 0 24 24\"\n",
              "       width=\"24px\">\n",
              "    <path d=\"M0 0h24v24H0V0z\" fill=\"none\"/>\n",
              "    <path d=\"M18.56 5.44l.94 2.06.94-2.06 2.06-.94-2.06-.94-.94-2.06-.94 2.06-2.06.94zm-11 1L8.5 8.5l.94-2.06 2.06-.94-2.06-.94L8.5 2.5l-.94 2.06-2.06.94zm10 10l.94 2.06.94-2.06 2.06-.94-2.06-.94-.94-2.06-.94 2.06-2.06.94z\"/><path d=\"M17.41 7.96l-1.37-1.37c-.4-.4-.92-.59-1.43-.59-.52 0-1.04.2-1.43.59L10.3 9.45l-7.72 7.72c-.78.78-.78 2.05 0 2.83L4 21.41c.39.39.9.59 1.41.59.51 0 1.02-.2 1.41-.59l7.78-7.78 2.81-2.81c.8-.78.8-2.07 0-2.86zM5.41 20L4 18.59l7.72-7.72 1.47 1.35L5.41 20z\"/>\n",
              "  </svg>\n",
              "      </button>\n",
              "      \n",
              "  <style>\n",
              "    .colab-df-container {\n",
              "      display:flex;\n",
              "      flex-wrap:wrap;\n",
              "      gap: 12px;\n",
              "    }\n",
              "\n",
              "    .colab-df-convert {\n",
              "      background-color: #E8F0FE;\n",
              "      border: none;\n",
              "      border-radius: 50%;\n",
              "      cursor: pointer;\n",
              "      display: none;\n",
              "      fill: #1967D2;\n",
              "      height: 32px;\n",
              "      padding: 0 0 0 0;\n",
              "      width: 32px;\n",
              "    }\n",
              "\n",
              "    .colab-df-convert:hover {\n",
              "      background-color: #E2EBFA;\n",
              "      box-shadow: 0px 1px 2px rgba(60, 64, 67, 0.3), 0px 1px 3px 1px rgba(60, 64, 67, 0.15);\n",
              "      fill: #174EA6;\n",
              "    }\n",
              "\n",
              "    [theme=dark] .colab-df-convert {\n",
              "      background-color: #3B4455;\n",
              "      fill: #D2E3FC;\n",
              "    }\n",
              "\n",
              "    [theme=dark] .colab-df-convert:hover {\n",
              "      background-color: #434B5C;\n",
              "      box-shadow: 0px 1px 3px 1px rgba(0, 0, 0, 0.15);\n",
              "      filter: drop-shadow(0px 1px 2px rgba(0, 0, 0, 0.3));\n",
              "      fill: #FFFFFF;\n",
              "    }\n",
              "  </style>\n",
              "\n",
              "      <script>\n",
              "        const buttonEl =\n",
              "          document.querySelector('#df-95facea4-897b-4f27-a95c-df8121c700ff button.colab-df-convert');\n",
              "        buttonEl.style.display =\n",
              "          google.colab.kernel.accessAllowed ? 'block' : 'none';\n",
              "\n",
              "        async function convertToInteractive(key) {\n",
              "          const element = document.querySelector('#df-95facea4-897b-4f27-a95c-df8121c700ff');\n",
              "          const dataTable =\n",
              "            await google.colab.kernel.invokeFunction('convertToInteractive',\n",
              "                                                     [key], {});\n",
              "          if (!dataTable) return;\n",
              "\n",
              "          const docLinkHtml = 'Like what you see? Visit the ' +\n",
              "            '<a target=\"_blank\" href=https://colab.research.google.com/notebooks/data_table.ipynb>data table notebook</a>'\n",
              "            + ' to learn more about interactive tables.';\n",
              "          element.innerHTML = '';\n",
              "          dataTable['output_type'] = 'display_data';\n",
              "          await google.colab.output.renderOutput(dataTable, element);\n",
              "          const docLink = document.createElement('div');\n",
              "          docLink.innerHTML = docLinkHtml;\n",
              "          element.appendChild(docLink);\n",
              "        }\n",
              "      </script>\n",
              "    </div>\n",
              "  </div>\n",
              "  "
            ],
            "text/plain": [
              "                     pollution  dew  ...                 day  pollution_mean\n",
              "date                                 ...                                    \n",
              "2010-01-02 00:00:00      129.0  -16  ...  2010-01-02-morning      137.307692\n",
              "2010-01-02 01:00:00      148.0  -15  ...  2010-01-02-morning      137.307692\n",
              "2010-01-02 02:00:00      159.0  -11  ...  2010-01-02-morning      137.307692\n",
              "2010-01-02 03:00:00      181.0   -7  ...  2010-01-02-morning      137.307692\n",
              "2010-01-02 04:00:00      138.0   -7  ...  2010-01-02-morning      137.307692\n",
              "\n",
              "[5 rows x 11 columns]"
            ]
          },
          "metadata": {},
          "execution_count": 90
        }
      ]
    },
    {
      "cell_type": "markdown",
      "source": [
        "I found the pollution mean per half day. Now, we can create a new column as 'pollution_indicator' which defines how much pollution the half-day has. The categories for this new column is \n",
        "1. little pollution\n",
        "2. moderate pollution\n",
        "3. heavy pollution"
      ],
      "metadata": {
        "id": "hJkSkaC85Ii6"
      }
    },
    {
      "cell_type": "markdown",
      "source": [
        "To find whether the pollution is little, moderate or heavy, I found the max and min of pollution values and divide it 3 equal regoins. "
      ],
      "metadata": {
        "id": "EkqnGuHN52UU"
      }
    },
    {
      "cell_type": "code",
      "source": [
        "#Create a new column:\n",
        "df['pollution_indicator'] = ''\n",
        "\n",
        "#Max pollution\n",
        "max_pol = df['pollution_mean'].max()\n",
        "#Min pollution\n",
        "min_pol = df['pollution_mean'].min()\n",
        "\n",
        "#The borders of the pollution values:\n",
        "limit1 = max_pol / 3.0\n",
        "limit2 = max_pol * 2 / 3.0\n",
        "\n",
        "print(\"The first region is: [\", min_pol ,\"-\", limit1, \"]\")\n",
        "print(\"The second region is: [\", limit1 ,\"-\", limit2, \"]\")\n",
        "print(\"The third region is: [\", limit2 ,\"-\", max_pol, \"]\")\n"
      ],
      "metadata": {
        "colab": {
          "base_uri": "https://localhost:8080/"
        },
        "id": "kX5_A5RFpYjE",
        "outputId": "8243d95f-7019-4e57-a533-ff83d55ce74b"
      },
      "execution_count": 91,
      "outputs": [
        {
          "output_type": "stream",
          "name": "stdout",
          "text": [
            "The first region is: [ 0.0 - 255.9090909090909 ]\n",
            "The second region is: [ 255.9090909090909 - 511.8181818181818 ]\n",
            "The third region is: [ 511.8181818181818 - 767.7272727272727 ]\n"
          ]
        }
      ]
    },
    {
      "cell_type": "markdown",
      "source": [
        "Then I split the pollution means to these three categories. If the pollution mean is in the first region, the pollution indicator is \"little_pollution\".\n",
        "If it is in the second region, the pollution indicator is \"moderate_pollution\" and so on.\n"
      ],
      "metadata": {
        "id": "Vw03uI_366a6"
      }
    },
    {
      "cell_type": "code",
      "source": [
        "# little pollution, moderate pollution, heavy pollution\n",
        "for i in range(len(df)):\n",
        "  if df['pollution_mean'][i] <= limit1:\n",
        "    df['pollution_indicator'] = 'little_pollution'\n",
        "\n",
        "  elif limit1 < df['pollution_mean'][i] < limit2:\n",
        "    df['pollution_indicator'] = 'moderate_pollution'\n",
        "\n",
        "  else:\n",
        "    df['pollution_indicator'] = 'heavy_pollution'\n",
        "\n",
        "df.head()"
      ],
      "metadata": {
        "colab": {
          "base_uri": "https://localhost:8080/",
          "height": 238
        },
        "id": "NxnTZdEyonSt",
        "outputId": "2c2a2b98-af76-4eb3-9779-2e2e0cdd8e12"
      },
      "execution_count": 92,
      "outputs": [
        {
          "output_type": "execute_result",
          "data": {
            "text/html": [
              "\n",
              "  <div id=\"df-13917e52-5932-40f6-a7ac-e2e665544b41\">\n",
              "    <div class=\"colab-df-container\">\n",
              "      <div>\n",
              "<style scoped>\n",
              "    .dataframe tbody tr th:only-of-type {\n",
              "        vertical-align: middle;\n",
              "    }\n",
              "\n",
              "    .dataframe tbody tr th {\n",
              "        vertical-align: top;\n",
              "    }\n",
              "\n",
              "    .dataframe thead th {\n",
              "        text-align: right;\n",
              "    }\n",
              "</style>\n",
              "<table border=\"1\" class=\"dataframe\">\n",
              "  <thead>\n",
              "    <tr style=\"text-align: right;\">\n",
              "      <th></th>\n",
              "      <th>pollution</th>\n",
              "      <th>dew</th>\n",
              "      <th>temp</th>\n",
              "      <th>press</th>\n",
              "      <th>wnd_dir</th>\n",
              "      <th>wnd_spd</th>\n",
              "      <th>snow</th>\n",
              "      <th>rain</th>\n",
              "      <th>hour</th>\n",
              "      <th>day</th>\n",
              "      <th>pollution_mean</th>\n",
              "      <th>pollution_indicator</th>\n",
              "    </tr>\n",
              "    <tr>\n",
              "      <th>date</th>\n",
              "      <th></th>\n",
              "      <th></th>\n",
              "      <th></th>\n",
              "      <th></th>\n",
              "      <th></th>\n",
              "      <th></th>\n",
              "      <th></th>\n",
              "      <th></th>\n",
              "      <th></th>\n",
              "      <th></th>\n",
              "      <th></th>\n",
              "      <th></th>\n",
              "    </tr>\n",
              "  </thead>\n",
              "  <tbody>\n",
              "    <tr>\n",
              "      <th>2010-01-02 00:00:00</th>\n",
              "      <td>129.0</td>\n",
              "      <td>-16</td>\n",
              "      <td>-4.0</td>\n",
              "      <td>1020.0</td>\n",
              "      <td>SE</td>\n",
              "      <td>1.79</td>\n",
              "      <td>0</td>\n",
              "      <td>0</td>\n",
              "      <td>0</td>\n",
              "      <td>2010-01-02-morning</td>\n",
              "      <td>137.307692</td>\n",
              "      <td>little_pollution</td>\n",
              "    </tr>\n",
              "    <tr>\n",
              "      <th>2010-01-02 01:00:00</th>\n",
              "      <td>148.0</td>\n",
              "      <td>-15</td>\n",
              "      <td>-4.0</td>\n",
              "      <td>1020.0</td>\n",
              "      <td>SE</td>\n",
              "      <td>2.68</td>\n",
              "      <td>0</td>\n",
              "      <td>0</td>\n",
              "      <td>1</td>\n",
              "      <td>2010-01-02-morning</td>\n",
              "      <td>137.307692</td>\n",
              "      <td>little_pollution</td>\n",
              "    </tr>\n",
              "    <tr>\n",
              "      <th>2010-01-02 02:00:00</th>\n",
              "      <td>159.0</td>\n",
              "      <td>-11</td>\n",
              "      <td>-5.0</td>\n",
              "      <td>1021.0</td>\n",
              "      <td>SE</td>\n",
              "      <td>3.57</td>\n",
              "      <td>0</td>\n",
              "      <td>0</td>\n",
              "      <td>2</td>\n",
              "      <td>2010-01-02-morning</td>\n",
              "      <td>137.307692</td>\n",
              "      <td>little_pollution</td>\n",
              "    </tr>\n",
              "    <tr>\n",
              "      <th>2010-01-02 03:00:00</th>\n",
              "      <td>181.0</td>\n",
              "      <td>-7</td>\n",
              "      <td>-5.0</td>\n",
              "      <td>1022.0</td>\n",
              "      <td>SE</td>\n",
              "      <td>5.36</td>\n",
              "      <td>1</td>\n",
              "      <td>0</td>\n",
              "      <td>3</td>\n",
              "      <td>2010-01-02-morning</td>\n",
              "      <td>137.307692</td>\n",
              "      <td>little_pollution</td>\n",
              "    </tr>\n",
              "    <tr>\n",
              "      <th>2010-01-02 04:00:00</th>\n",
              "      <td>138.0</td>\n",
              "      <td>-7</td>\n",
              "      <td>-5.0</td>\n",
              "      <td>1022.0</td>\n",
              "      <td>SE</td>\n",
              "      <td>6.25</td>\n",
              "      <td>2</td>\n",
              "      <td>0</td>\n",
              "      <td>4</td>\n",
              "      <td>2010-01-02-morning</td>\n",
              "      <td>137.307692</td>\n",
              "      <td>little_pollution</td>\n",
              "    </tr>\n",
              "  </tbody>\n",
              "</table>\n",
              "</div>\n",
              "      <button class=\"colab-df-convert\" onclick=\"convertToInteractive('df-13917e52-5932-40f6-a7ac-e2e665544b41')\"\n",
              "              title=\"Convert this dataframe to an interactive table.\"\n",
              "              style=\"display:none;\">\n",
              "        \n",
              "  <svg xmlns=\"http://www.w3.org/2000/svg\" height=\"24px\"viewBox=\"0 0 24 24\"\n",
              "       width=\"24px\">\n",
              "    <path d=\"M0 0h24v24H0V0z\" fill=\"none\"/>\n",
              "    <path d=\"M18.56 5.44l.94 2.06.94-2.06 2.06-.94-2.06-.94-.94-2.06-.94 2.06-2.06.94zm-11 1L8.5 8.5l.94-2.06 2.06-.94-2.06-.94L8.5 2.5l-.94 2.06-2.06.94zm10 10l.94 2.06.94-2.06 2.06-.94-2.06-.94-.94-2.06-.94 2.06-2.06.94z\"/><path d=\"M17.41 7.96l-1.37-1.37c-.4-.4-.92-.59-1.43-.59-.52 0-1.04.2-1.43.59L10.3 9.45l-7.72 7.72c-.78.78-.78 2.05 0 2.83L4 21.41c.39.39.9.59 1.41.59.51 0 1.02-.2 1.41-.59l7.78-7.78 2.81-2.81c.8-.78.8-2.07 0-2.86zM5.41 20L4 18.59l7.72-7.72 1.47 1.35L5.41 20z\"/>\n",
              "  </svg>\n",
              "      </button>\n",
              "      \n",
              "  <style>\n",
              "    .colab-df-container {\n",
              "      display:flex;\n",
              "      flex-wrap:wrap;\n",
              "      gap: 12px;\n",
              "    }\n",
              "\n",
              "    .colab-df-convert {\n",
              "      background-color: #E8F0FE;\n",
              "      border: none;\n",
              "      border-radius: 50%;\n",
              "      cursor: pointer;\n",
              "      display: none;\n",
              "      fill: #1967D2;\n",
              "      height: 32px;\n",
              "      padding: 0 0 0 0;\n",
              "      width: 32px;\n",
              "    }\n",
              "\n",
              "    .colab-df-convert:hover {\n",
              "      background-color: #E2EBFA;\n",
              "      box-shadow: 0px 1px 2px rgba(60, 64, 67, 0.3), 0px 1px 3px 1px rgba(60, 64, 67, 0.15);\n",
              "      fill: #174EA6;\n",
              "    }\n",
              "\n",
              "    [theme=dark] .colab-df-convert {\n",
              "      background-color: #3B4455;\n",
              "      fill: #D2E3FC;\n",
              "    }\n",
              "\n",
              "    [theme=dark] .colab-df-convert:hover {\n",
              "      background-color: #434B5C;\n",
              "      box-shadow: 0px 1px 3px 1px rgba(0, 0, 0, 0.15);\n",
              "      filter: drop-shadow(0px 1px 2px rgba(0, 0, 0, 0.3));\n",
              "      fill: #FFFFFF;\n",
              "    }\n",
              "  </style>\n",
              "\n",
              "      <script>\n",
              "        const buttonEl =\n",
              "          document.querySelector('#df-13917e52-5932-40f6-a7ac-e2e665544b41 button.colab-df-convert');\n",
              "        buttonEl.style.display =\n",
              "          google.colab.kernel.accessAllowed ? 'block' : 'none';\n",
              "\n",
              "        async function convertToInteractive(key) {\n",
              "          const element = document.querySelector('#df-13917e52-5932-40f6-a7ac-e2e665544b41');\n",
              "          const dataTable =\n",
              "            await google.colab.kernel.invokeFunction('convertToInteractive',\n",
              "                                                     [key], {});\n",
              "          if (!dataTable) return;\n",
              "\n",
              "          const docLinkHtml = 'Like what you see? Visit the ' +\n",
              "            '<a target=\"_blank\" href=https://colab.research.google.com/notebooks/data_table.ipynb>data table notebook</a>'\n",
              "            + ' to learn more about interactive tables.';\n",
              "          element.innerHTML = '';\n",
              "          dataTable['output_type'] = 'display_data';\n",
              "          await google.colab.output.renderOutput(dataTable, element);\n",
              "          const docLink = document.createElement('div');\n",
              "          docLink.innerHTML = docLinkHtml;\n",
              "          element.appendChild(docLink);\n",
              "        }\n",
              "      </script>\n",
              "    </div>\n",
              "  </div>\n",
              "  "
            ],
            "text/plain": [
              "                     pollution  dew  ...  pollution_mean  pollution_indicator\n",
              "date                                 ...                                     \n",
              "2010-01-02 00:00:00      129.0  -16  ...      137.307692     little_pollution\n",
              "2010-01-02 01:00:00      148.0  -15  ...      137.307692     little_pollution\n",
              "2010-01-02 02:00:00      159.0  -11  ...      137.307692     little_pollution\n",
              "2010-01-02 03:00:00      181.0   -7  ...      137.307692     little_pollution\n",
              "2010-01-02 04:00:00      138.0   -7  ...      137.307692     little_pollution\n",
              "\n",
              "[5 rows x 12 columns]"
            ]
          },
          "metadata": {},
          "execution_count": 92
        }
      ]
    },
    {
      "cell_type": "markdown",
      "source": [
        "Let's create our new data frame with selected columns:"
      ],
      "metadata": {
        "id": "OR1QF0fL7jHM"
      }
    },
    {
      "cell_type": "code",
      "source": [
        "new_df = df.filter(['pollution','dew','temp','press','wnd_dir', 'wnd_spd', 'snow', 'rain', 'pollution_indicator'], axis=1)"
      ],
      "metadata": {
        "id": "hjOEkUznvaYq"
      },
      "execution_count": 93,
      "outputs": []
    },
    {
      "cell_type": "code",
      "source": [
        "new_df.head(3)"
      ],
      "metadata": {
        "colab": {
          "base_uri": "https://localhost:8080/",
          "height": 175
        },
        "id": "_VNrZBCAzBkE",
        "outputId": "786c1dee-fd03-4c44-948c-0806da29f1b4"
      },
      "execution_count": 94,
      "outputs": [
        {
          "output_type": "execute_result",
          "data": {
            "text/html": [
              "\n",
              "  <div id=\"df-a6a381ae-3ce2-4582-aaab-b7e8e196608c\">\n",
              "    <div class=\"colab-df-container\">\n",
              "      <div>\n",
              "<style scoped>\n",
              "    .dataframe tbody tr th:only-of-type {\n",
              "        vertical-align: middle;\n",
              "    }\n",
              "\n",
              "    .dataframe tbody tr th {\n",
              "        vertical-align: top;\n",
              "    }\n",
              "\n",
              "    .dataframe thead th {\n",
              "        text-align: right;\n",
              "    }\n",
              "</style>\n",
              "<table border=\"1\" class=\"dataframe\">\n",
              "  <thead>\n",
              "    <tr style=\"text-align: right;\">\n",
              "      <th></th>\n",
              "      <th>pollution</th>\n",
              "      <th>dew</th>\n",
              "      <th>temp</th>\n",
              "      <th>press</th>\n",
              "      <th>wnd_dir</th>\n",
              "      <th>wnd_spd</th>\n",
              "      <th>snow</th>\n",
              "      <th>rain</th>\n",
              "      <th>pollution_indicator</th>\n",
              "    </tr>\n",
              "    <tr>\n",
              "      <th>date</th>\n",
              "      <th></th>\n",
              "      <th></th>\n",
              "      <th></th>\n",
              "      <th></th>\n",
              "      <th></th>\n",
              "      <th></th>\n",
              "      <th></th>\n",
              "      <th></th>\n",
              "      <th></th>\n",
              "    </tr>\n",
              "  </thead>\n",
              "  <tbody>\n",
              "    <tr>\n",
              "      <th>2010-01-02 00:00:00</th>\n",
              "      <td>129.0</td>\n",
              "      <td>-16</td>\n",
              "      <td>-4.0</td>\n",
              "      <td>1020.0</td>\n",
              "      <td>SE</td>\n",
              "      <td>1.79</td>\n",
              "      <td>0</td>\n",
              "      <td>0</td>\n",
              "      <td>little_pollution</td>\n",
              "    </tr>\n",
              "    <tr>\n",
              "      <th>2010-01-02 01:00:00</th>\n",
              "      <td>148.0</td>\n",
              "      <td>-15</td>\n",
              "      <td>-4.0</td>\n",
              "      <td>1020.0</td>\n",
              "      <td>SE</td>\n",
              "      <td>2.68</td>\n",
              "      <td>0</td>\n",
              "      <td>0</td>\n",
              "      <td>little_pollution</td>\n",
              "    </tr>\n",
              "    <tr>\n",
              "      <th>2010-01-02 02:00:00</th>\n",
              "      <td>159.0</td>\n",
              "      <td>-11</td>\n",
              "      <td>-5.0</td>\n",
              "      <td>1021.0</td>\n",
              "      <td>SE</td>\n",
              "      <td>3.57</td>\n",
              "      <td>0</td>\n",
              "      <td>0</td>\n",
              "      <td>little_pollution</td>\n",
              "    </tr>\n",
              "  </tbody>\n",
              "</table>\n",
              "</div>\n",
              "      <button class=\"colab-df-convert\" onclick=\"convertToInteractive('df-a6a381ae-3ce2-4582-aaab-b7e8e196608c')\"\n",
              "              title=\"Convert this dataframe to an interactive table.\"\n",
              "              style=\"display:none;\">\n",
              "        \n",
              "  <svg xmlns=\"http://www.w3.org/2000/svg\" height=\"24px\"viewBox=\"0 0 24 24\"\n",
              "       width=\"24px\">\n",
              "    <path d=\"M0 0h24v24H0V0z\" fill=\"none\"/>\n",
              "    <path d=\"M18.56 5.44l.94 2.06.94-2.06 2.06-.94-2.06-.94-.94-2.06-.94 2.06-2.06.94zm-11 1L8.5 8.5l.94-2.06 2.06-.94-2.06-.94L8.5 2.5l-.94 2.06-2.06.94zm10 10l.94 2.06.94-2.06 2.06-.94-2.06-.94-.94-2.06-.94 2.06-2.06.94z\"/><path d=\"M17.41 7.96l-1.37-1.37c-.4-.4-.92-.59-1.43-.59-.52 0-1.04.2-1.43.59L10.3 9.45l-7.72 7.72c-.78.78-.78 2.05 0 2.83L4 21.41c.39.39.9.59 1.41.59.51 0 1.02-.2 1.41-.59l7.78-7.78 2.81-2.81c.8-.78.8-2.07 0-2.86zM5.41 20L4 18.59l7.72-7.72 1.47 1.35L5.41 20z\"/>\n",
              "  </svg>\n",
              "      </button>\n",
              "      \n",
              "  <style>\n",
              "    .colab-df-container {\n",
              "      display:flex;\n",
              "      flex-wrap:wrap;\n",
              "      gap: 12px;\n",
              "    }\n",
              "\n",
              "    .colab-df-convert {\n",
              "      background-color: #E8F0FE;\n",
              "      border: none;\n",
              "      border-radius: 50%;\n",
              "      cursor: pointer;\n",
              "      display: none;\n",
              "      fill: #1967D2;\n",
              "      height: 32px;\n",
              "      padding: 0 0 0 0;\n",
              "      width: 32px;\n",
              "    }\n",
              "\n",
              "    .colab-df-convert:hover {\n",
              "      background-color: #E2EBFA;\n",
              "      box-shadow: 0px 1px 2px rgba(60, 64, 67, 0.3), 0px 1px 3px 1px rgba(60, 64, 67, 0.15);\n",
              "      fill: #174EA6;\n",
              "    }\n",
              "\n",
              "    [theme=dark] .colab-df-convert {\n",
              "      background-color: #3B4455;\n",
              "      fill: #D2E3FC;\n",
              "    }\n",
              "\n",
              "    [theme=dark] .colab-df-convert:hover {\n",
              "      background-color: #434B5C;\n",
              "      box-shadow: 0px 1px 3px 1px rgba(0, 0, 0, 0.15);\n",
              "      filter: drop-shadow(0px 1px 2px rgba(0, 0, 0, 0.3));\n",
              "      fill: #FFFFFF;\n",
              "    }\n",
              "  </style>\n",
              "\n",
              "      <script>\n",
              "        const buttonEl =\n",
              "          document.querySelector('#df-a6a381ae-3ce2-4582-aaab-b7e8e196608c button.colab-df-convert');\n",
              "        buttonEl.style.display =\n",
              "          google.colab.kernel.accessAllowed ? 'block' : 'none';\n",
              "\n",
              "        async function convertToInteractive(key) {\n",
              "          const element = document.querySelector('#df-a6a381ae-3ce2-4582-aaab-b7e8e196608c');\n",
              "          const dataTable =\n",
              "            await google.colab.kernel.invokeFunction('convertToInteractive',\n",
              "                                                     [key], {});\n",
              "          if (!dataTable) return;\n",
              "\n",
              "          const docLinkHtml = 'Like what you see? Visit the ' +\n",
              "            '<a target=\"_blank\" href=https://colab.research.google.com/notebooks/data_table.ipynb>data table notebook</a>'\n",
              "            + ' to learn more about interactive tables.';\n",
              "          element.innerHTML = '';\n",
              "          dataTable['output_type'] = 'display_data';\n",
              "          await google.colab.output.renderOutput(dataTable, element);\n",
              "          const docLink = document.createElement('div');\n",
              "          docLink.innerHTML = docLinkHtml;\n",
              "          element.appendChild(docLink);\n",
              "        }\n",
              "      </script>\n",
              "    </div>\n",
              "  </div>\n",
              "  "
            ],
            "text/plain": [
              "                     pollution  dew  temp  ...  snow rain  pollution_indicator\n",
              "date                                       ...                                \n",
              "2010-01-02 00:00:00      129.0  -16  -4.0  ...     0    0     little_pollution\n",
              "2010-01-02 01:00:00      148.0  -15  -4.0  ...     0    0     little_pollution\n",
              "2010-01-02 02:00:00      159.0  -11  -5.0  ...     0    0     little_pollution\n",
              "\n",
              "[3 rows x 9 columns]"
            ]
          },
          "metadata": {},
          "execution_count": 94
        }
      ]
    },
    {
      "cell_type": "markdown",
      "source": [
        "Define n_in, n_out and number of features:"
      ],
      "metadata": {
        "id": "OIQfos1h7opX"
      }
    },
    {
      "cell_type": "code",
      "source": [
        "n_features = new_df.shape[1] # for multivariate time series\n",
        "n_in = 6\n",
        "n_out = 1\n",
        "output = [\"pollution\"]\n",
        "\n",
        "n_features\n"
      ],
      "metadata": {
        "colab": {
          "base_uri": "https://localhost:8080/"
        },
        "id": "KYcjj6tizauE",
        "outputId": "7698f0b7-724f-4b21-c6a9-dde1e0d9190c"
      },
      "execution_count": 95,
      "outputs": [
        {
          "output_type": "execute_result",
          "data": {
            "text/plain": [
              "9"
            ]
          },
          "metadata": {},
          "execution_count": 95
        }
      ]
    },
    {
      "cell_type": "markdown",
      "source": [
        "Create the new time series dataset using series_to_supervised function:"
      ],
      "metadata": {
        "id": "ObiFs1k-75T2"
      }
    },
    {
      "cell_type": "code",
      "source": [
        "new_dataset = series_to_supervised(new_df, n_in=6, n_out= 1, output=output)\n",
        "new_dataset.head(3)"
      ],
      "metadata": {
        "colab": {
          "base_uri": "https://localhost:8080/",
          "height": 360
        },
        "id": "zOGVjmSVzb-W",
        "outputId": "cd7a0cad-51c5-42bf-fd18-fefa9464a44e"
      },
      "execution_count": 96,
      "outputs": [
        {
          "output_type": "execute_result",
          "data": {
            "text/html": [
              "\n",
              "  <div id=\"df-38d912a0-ac77-46d1-ba16-19c46ed3eb34\">\n",
              "    <div class=\"colab-df-container\">\n",
              "      <div>\n",
              "<style scoped>\n",
              "    .dataframe tbody tr th:only-of-type {\n",
              "        vertical-align: middle;\n",
              "    }\n",
              "\n",
              "    .dataframe tbody tr th {\n",
              "        vertical-align: top;\n",
              "    }\n",
              "\n",
              "    .dataframe thead th {\n",
              "        text-align: right;\n",
              "    }\n",
              "</style>\n",
              "<table border=\"1\" class=\"dataframe\">\n",
              "  <thead>\n",
              "    <tr style=\"text-align: right;\">\n",
              "      <th></th>\n",
              "      <th>pollution(t-6)</th>\n",
              "      <th>dew(t-6)</th>\n",
              "      <th>temp(t-6)</th>\n",
              "      <th>press(t-6)</th>\n",
              "      <th>wnd_dir(t-6)</th>\n",
              "      <th>wnd_spd(t-6)</th>\n",
              "      <th>snow(t-6)</th>\n",
              "      <th>rain(t-6)</th>\n",
              "      <th>pollution_indicator(t-6)</th>\n",
              "      <th>pollution(t-5)</th>\n",
              "      <th>dew(t-5)</th>\n",
              "      <th>temp(t-5)</th>\n",
              "      <th>press(t-5)</th>\n",
              "      <th>wnd_dir(t-5)</th>\n",
              "      <th>wnd_spd(t-5)</th>\n",
              "      <th>snow(t-5)</th>\n",
              "      <th>rain(t-5)</th>\n",
              "      <th>pollution_indicator(t-5)</th>\n",
              "      <th>pollution(t-4)</th>\n",
              "      <th>dew(t-4)</th>\n",
              "      <th>temp(t-4)</th>\n",
              "      <th>press(t-4)</th>\n",
              "      <th>wnd_dir(t-4)</th>\n",
              "      <th>wnd_spd(t-4)</th>\n",
              "      <th>snow(t-4)</th>\n",
              "      <th>rain(t-4)</th>\n",
              "      <th>pollution_indicator(t-4)</th>\n",
              "      <th>pollution(t-3)</th>\n",
              "      <th>dew(t-3)</th>\n",
              "      <th>temp(t-3)</th>\n",
              "      <th>press(t-3)</th>\n",
              "      <th>wnd_dir(t-3)</th>\n",
              "      <th>wnd_spd(t-3)</th>\n",
              "      <th>snow(t-3)</th>\n",
              "      <th>rain(t-3)</th>\n",
              "      <th>pollution_indicator(t-3)</th>\n",
              "      <th>pollution(t-2)</th>\n",
              "      <th>dew(t-2)</th>\n",
              "      <th>temp(t-2)</th>\n",
              "      <th>press(t-2)</th>\n",
              "      <th>wnd_dir(t-2)</th>\n",
              "      <th>wnd_spd(t-2)</th>\n",
              "      <th>snow(t-2)</th>\n",
              "      <th>rain(t-2)</th>\n",
              "      <th>pollution_indicator(t-2)</th>\n",
              "      <th>pollution(t-1)</th>\n",
              "      <th>dew(t-1)</th>\n",
              "      <th>temp(t-1)</th>\n",
              "      <th>press(t-1)</th>\n",
              "      <th>wnd_dir(t-1)</th>\n",
              "      <th>wnd_spd(t-1)</th>\n",
              "      <th>snow(t-1)</th>\n",
              "      <th>rain(t-1)</th>\n",
              "      <th>pollution_indicator(t-1)</th>\n",
              "      <th>pollution(t)</th>\n",
              "    </tr>\n",
              "    <tr>\n",
              "      <th>date</th>\n",
              "      <th></th>\n",
              "      <th></th>\n",
              "      <th></th>\n",
              "      <th></th>\n",
              "      <th></th>\n",
              "      <th></th>\n",
              "      <th></th>\n",
              "      <th></th>\n",
              "      <th></th>\n",
              "      <th></th>\n",
              "      <th></th>\n",
              "      <th></th>\n",
              "      <th></th>\n",
              "      <th></th>\n",
              "      <th></th>\n",
              "      <th></th>\n",
              "      <th></th>\n",
              "      <th></th>\n",
              "      <th></th>\n",
              "      <th></th>\n",
              "      <th></th>\n",
              "      <th></th>\n",
              "      <th></th>\n",
              "      <th></th>\n",
              "      <th></th>\n",
              "      <th></th>\n",
              "      <th></th>\n",
              "      <th></th>\n",
              "      <th></th>\n",
              "      <th></th>\n",
              "      <th></th>\n",
              "      <th></th>\n",
              "      <th></th>\n",
              "      <th></th>\n",
              "      <th></th>\n",
              "      <th></th>\n",
              "      <th></th>\n",
              "      <th></th>\n",
              "      <th></th>\n",
              "      <th></th>\n",
              "      <th></th>\n",
              "      <th></th>\n",
              "      <th></th>\n",
              "      <th></th>\n",
              "      <th></th>\n",
              "      <th></th>\n",
              "      <th></th>\n",
              "      <th></th>\n",
              "      <th></th>\n",
              "      <th></th>\n",
              "      <th></th>\n",
              "      <th></th>\n",
              "      <th></th>\n",
              "      <th></th>\n",
              "      <th></th>\n",
              "    </tr>\n",
              "  </thead>\n",
              "  <tbody>\n",
              "    <tr>\n",
              "      <th>2010-01-02 06:00:00</th>\n",
              "      <td>129.0</td>\n",
              "      <td>-16.0</td>\n",
              "      <td>-4.0</td>\n",
              "      <td>1020.0</td>\n",
              "      <td>SE</td>\n",
              "      <td>1.79</td>\n",
              "      <td>0.0</td>\n",
              "      <td>0.0</td>\n",
              "      <td>little_pollution</td>\n",
              "      <td>148.0</td>\n",
              "      <td>-15.0</td>\n",
              "      <td>-4.0</td>\n",
              "      <td>1020.0</td>\n",
              "      <td>SE</td>\n",
              "      <td>2.68</td>\n",
              "      <td>0.0</td>\n",
              "      <td>0.0</td>\n",
              "      <td>little_pollution</td>\n",
              "      <td>159.0</td>\n",
              "      <td>-11.0</td>\n",
              "      <td>-5.0</td>\n",
              "      <td>1021.0</td>\n",
              "      <td>SE</td>\n",
              "      <td>3.57</td>\n",
              "      <td>0.0</td>\n",
              "      <td>0.0</td>\n",
              "      <td>little_pollution</td>\n",
              "      <td>181.0</td>\n",
              "      <td>-7.0</td>\n",
              "      <td>-5.0</td>\n",
              "      <td>1022.0</td>\n",
              "      <td>SE</td>\n",
              "      <td>5.36</td>\n",
              "      <td>1.0</td>\n",
              "      <td>0.0</td>\n",
              "      <td>little_pollution</td>\n",
              "      <td>138.0</td>\n",
              "      <td>-7.0</td>\n",
              "      <td>-5.0</td>\n",
              "      <td>1022.0</td>\n",
              "      <td>SE</td>\n",
              "      <td>6.25</td>\n",
              "      <td>2.0</td>\n",
              "      <td>0.0</td>\n",
              "      <td>little_pollution</td>\n",
              "      <td>109.0</td>\n",
              "      <td>-7.0</td>\n",
              "      <td>-6.0</td>\n",
              "      <td>1022.0</td>\n",
              "      <td>SE</td>\n",
              "      <td>7.14</td>\n",
              "      <td>3.0</td>\n",
              "      <td>0.0</td>\n",
              "      <td>little_pollution</td>\n",
              "      <td>105.0</td>\n",
              "    </tr>\n",
              "    <tr>\n",
              "      <th>2010-01-02 07:00:00</th>\n",
              "      <td>148.0</td>\n",
              "      <td>-15.0</td>\n",
              "      <td>-4.0</td>\n",
              "      <td>1020.0</td>\n",
              "      <td>SE</td>\n",
              "      <td>2.68</td>\n",
              "      <td>0.0</td>\n",
              "      <td>0.0</td>\n",
              "      <td>little_pollution</td>\n",
              "      <td>159.0</td>\n",
              "      <td>-11.0</td>\n",
              "      <td>-5.0</td>\n",
              "      <td>1021.0</td>\n",
              "      <td>SE</td>\n",
              "      <td>3.57</td>\n",
              "      <td>0.0</td>\n",
              "      <td>0.0</td>\n",
              "      <td>little_pollution</td>\n",
              "      <td>181.0</td>\n",
              "      <td>-7.0</td>\n",
              "      <td>-5.0</td>\n",
              "      <td>1022.0</td>\n",
              "      <td>SE</td>\n",
              "      <td>5.36</td>\n",
              "      <td>1.0</td>\n",
              "      <td>0.0</td>\n",
              "      <td>little_pollution</td>\n",
              "      <td>138.0</td>\n",
              "      <td>-7.0</td>\n",
              "      <td>-5.0</td>\n",
              "      <td>1022.0</td>\n",
              "      <td>SE</td>\n",
              "      <td>6.25</td>\n",
              "      <td>2.0</td>\n",
              "      <td>0.0</td>\n",
              "      <td>little_pollution</td>\n",
              "      <td>109.0</td>\n",
              "      <td>-7.0</td>\n",
              "      <td>-6.0</td>\n",
              "      <td>1022.0</td>\n",
              "      <td>SE</td>\n",
              "      <td>7.14</td>\n",
              "      <td>3.0</td>\n",
              "      <td>0.0</td>\n",
              "      <td>little_pollution</td>\n",
              "      <td>105.0</td>\n",
              "      <td>-7.0</td>\n",
              "      <td>-6.0</td>\n",
              "      <td>1023.0</td>\n",
              "      <td>SE</td>\n",
              "      <td>8.93</td>\n",
              "      <td>4.0</td>\n",
              "      <td>0.0</td>\n",
              "      <td>little_pollution</td>\n",
              "      <td>124.0</td>\n",
              "    </tr>\n",
              "    <tr>\n",
              "      <th>2010-01-02 08:00:00</th>\n",
              "      <td>159.0</td>\n",
              "      <td>-11.0</td>\n",
              "      <td>-5.0</td>\n",
              "      <td>1021.0</td>\n",
              "      <td>SE</td>\n",
              "      <td>3.57</td>\n",
              "      <td>0.0</td>\n",
              "      <td>0.0</td>\n",
              "      <td>little_pollution</td>\n",
              "      <td>181.0</td>\n",
              "      <td>-7.0</td>\n",
              "      <td>-5.0</td>\n",
              "      <td>1022.0</td>\n",
              "      <td>SE</td>\n",
              "      <td>5.36</td>\n",
              "      <td>1.0</td>\n",
              "      <td>0.0</td>\n",
              "      <td>little_pollution</td>\n",
              "      <td>138.0</td>\n",
              "      <td>-7.0</td>\n",
              "      <td>-5.0</td>\n",
              "      <td>1022.0</td>\n",
              "      <td>SE</td>\n",
              "      <td>6.25</td>\n",
              "      <td>2.0</td>\n",
              "      <td>0.0</td>\n",
              "      <td>little_pollution</td>\n",
              "      <td>109.0</td>\n",
              "      <td>-7.0</td>\n",
              "      <td>-6.0</td>\n",
              "      <td>1022.0</td>\n",
              "      <td>SE</td>\n",
              "      <td>7.14</td>\n",
              "      <td>3.0</td>\n",
              "      <td>0.0</td>\n",
              "      <td>little_pollution</td>\n",
              "      <td>105.0</td>\n",
              "      <td>-7.0</td>\n",
              "      <td>-6.0</td>\n",
              "      <td>1023.0</td>\n",
              "      <td>SE</td>\n",
              "      <td>8.93</td>\n",
              "      <td>4.0</td>\n",
              "      <td>0.0</td>\n",
              "      <td>little_pollution</td>\n",
              "      <td>124.0</td>\n",
              "      <td>-7.0</td>\n",
              "      <td>-5.0</td>\n",
              "      <td>1024.0</td>\n",
              "      <td>SE</td>\n",
              "      <td>10.72</td>\n",
              "      <td>0.0</td>\n",
              "      <td>0.0</td>\n",
              "      <td>little_pollution</td>\n",
              "      <td>120.0</td>\n",
              "    </tr>\n",
              "  </tbody>\n",
              "</table>\n",
              "</div>\n",
              "      <button class=\"colab-df-convert\" onclick=\"convertToInteractive('df-38d912a0-ac77-46d1-ba16-19c46ed3eb34')\"\n",
              "              title=\"Convert this dataframe to an interactive table.\"\n",
              "              style=\"display:none;\">\n",
              "        \n",
              "  <svg xmlns=\"http://www.w3.org/2000/svg\" height=\"24px\"viewBox=\"0 0 24 24\"\n",
              "       width=\"24px\">\n",
              "    <path d=\"M0 0h24v24H0V0z\" fill=\"none\"/>\n",
              "    <path d=\"M18.56 5.44l.94 2.06.94-2.06 2.06-.94-2.06-.94-.94-2.06-.94 2.06-2.06.94zm-11 1L8.5 8.5l.94-2.06 2.06-.94-2.06-.94L8.5 2.5l-.94 2.06-2.06.94zm10 10l.94 2.06.94-2.06 2.06-.94-2.06-.94-.94-2.06-.94 2.06-2.06.94z\"/><path d=\"M17.41 7.96l-1.37-1.37c-.4-.4-.92-.59-1.43-.59-.52 0-1.04.2-1.43.59L10.3 9.45l-7.72 7.72c-.78.78-.78 2.05 0 2.83L4 21.41c.39.39.9.59 1.41.59.51 0 1.02-.2 1.41-.59l7.78-7.78 2.81-2.81c.8-.78.8-2.07 0-2.86zM5.41 20L4 18.59l7.72-7.72 1.47 1.35L5.41 20z\"/>\n",
              "  </svg>\n",
              "      </button>\n",
              "      \n",
              "  <style>\n",
              "    .colab-df-container {\n",
              "      display:flex;\n",
              "      flex-wrap:wrap;\n",
              "      gap: 12px;\n",
              "    }\n",
              "\n",
              "    .colab-df-convert {\n",
              "      background-color: #E8F0FE;\n",
              "      border: none;\n",
              "      border-radius: 50%;\n",
              "      cursor: pointer;\n",
              "      display: none;\n",
              "      fill: #1967D2;\n",
              "      height: 32px;\n",
              "      padding: 0 0 0 0;\n",
              "      width: 32px;\n",
              "    }\n",
              "\n",
              "    .colab-df-convert:hover {\n",
              "      background-color: #E2EBFA;\n",
              "      box-shadow: 0px 1px 2px rgba(60, 64, 67, 0.3), 0px 1px 3px 1px rgba(60, 64, 67, 0.15);\n",
              "      fill: #174EA6;\n",
              "    }\n",
              "\n",
              "    [theme=dark] .colab-df-convert {\n",
              "      background-color: #3B4455;\n",
              "      fill: #D2E3FC;\n",
              "    }\n",
              "\n",
              "    [theme=dark] .colab-df-convert:hover {\n",
              "      background-color: #434B5C;\n",
              "      box-shadow: 0px 1px 3px 1px rgba(0, 0, 0, 0.15);\n",
              "      filter: drop-shadow(0px 1px 2px rgba(0, 0, 0, 0.3));\n",
              "      fill: #FFFFFF;\n",
              "    }\n",
              "  </style>\n",
              "\n",
              "      <script>\n",
              "        const buttonEl =\n",
              "          document.querySelector('#df-38d912a0-ac77-46d1-ba16-19c46ed3eb34 button.colab-df-convert');\n",
              "        buttonEl.style.display =\n",
              "          google.colab.kernel.accessAllowed ? 'block' : 'none';\n",
              "\n",
              "        async function convertToInteractive(key) {\n",
              "          const element = document.querySelector('#df-38d912a0-ac77-46d1-ba16-19c46ed3eb34');\n",
              "          const dataTable =\n",
              "            await google.colab.kernel.invokeFunction('convertToInteractive',\n",
              "                                                     [key], {});\n",
              "          if (!dataTable) return;\n",
              "\n",
              "          const docLinkHtml = 'Like what you see? Visit the ' +\n",
              "            '<a target=\"_blank\" href=https://colab.research.google.com/notebooks/data_table.ipynb>data table notebook</a>'\n",
              "            + ' to learn more about interactive tables.';\n",
              "          element.innerHTML = '';\n",
              "          dataTable['output_type'] = 'display_data';\n",
              "          await google.colab.output.renderOutput(dataTable, element);\n",
              "          const docLink = document.createElement('div');\n",
              "          docLink.innerHTML = docLinkHtml;\n",
              "          element.appendChild(docLink);\n",
              "        }\n",
              "      </script>\n",
              "    </div>\n",
              "  </div>\n",
              "  "
            ],
            "text/plain": [
              "                     pollution(t-6)  ...  pollution(t)\n",
              "date                                 ...              \n",
              "2010-01-02 06:00:00           129.0  ...         105.0\n",
              "2010-01-02 07:00:00           148.0  ...         124.0\n",
              "2010-01-02 08:00:00           159.0  ...         120.0\n",
              "\n",
              "[3 rows x 55 columns]"
            ]
          },
          "metadata": {},
          "execution_count": 96
        }
      ]
    },
    {
      "cell_type": "markdown",
      "source": [
        "Split the dataset as train, test and validation:"
      ],
      "metadata": {
        "id": "A_Y4etJB7__0"
      }
    },
    {
      "cell_type": "code",
      "source": [
        "import numpy as np\n",
        "# get the values\n",
        "values = new_dataset.values\n",
        "\n",
        "# split into train and test sets\n",
        "n_train_hours = 365 * 24\n",
        "train = values[:n_train_hours, :]\n",
        "val = values[n_train_hours:2*n_train_hours, :]\n",
        "test = values[2*n_train_hours:, :]\n",
        "\n",
        "# split into input and outputs\n",
        "train_X, train_y = train[:, :-n_out], np.array(train[:, -n_out], dtype=\"float64\")\n",
        "val_X, val_y = val[:, :-n_out], np.array(val[:, -n_out], dtype=\"float64\")\n",
        "test_X, test_y = test[:, :-n_out], np.array(test[:, -n_out], dtype=\"float64\")\n",
        "\n",
        "# reshape input to be 3D [samples, timesteps, features]\n",
        "train_X = train_X.reshape((train_X.shape[0], n_in, n_features))\n",
        "val_X = val_X.reshape((val_X.shape[0], n_in, n_features))\n",
        "test_X = test_X.reshape((test_X.shape[0], n_in, n_features))\n",
        "train_X.shape, train_y.shape"
      ],
      "metadata": {
        "colab": {
          "base_uri": "https://localhost:8080/"
        },
        "id": "un1C03w10WID",
        "outputId": "07061de7-7233-40dd-aa59-22ca21351d9d"
      },
      "execution_count": 97,
      "outputs": [
        {
          "output_type": "execute_result",
          "data": {
            "text/plain": [
              "((8760, 6, 9), (8760,))"
            ]
          },
          "metadata": {},
          "execution_count": 97
        }
      ]
    },
    {
      "cell_type": "markdown",
      "source": [
        "Encode the categorical features, scale the numeric features:"
      ],
      "metadata": {
        "id": "UR7aYbpk8GG6"
      }
    },
    {
      "cell_type": "code",
      "source": [
        "numeric_features = [i for i, t in enumerate(new_dataset.dtypes[:-n_out]) if t in ['float64', 'int32']]\n",
        "numeric_transformer = Pipeline(steps=[\n",
        "    ('imputer', SimpleImputer(strategy='median')),\n",
        "    ('scaler', StandardScaler())])\n",
        "\n",
        "categorical_features = [i for i in range(len(new_dataset.columns)-n_out) if i not in numeric_features]\n",
        "categorical_transformer = OneHotEncoder(handle_unknown='ignore')\n",
        "\n",
        "preprocessor = ColumnTransformer(\n",
        "    transformers=[\n",
        "        ('num', numeric_transformer, numeric_features),\n",
        "        ('cat', categorical_transformer, categorical_features)])\n",
        "\n",
        "train_X_enc = preprocessor.fit_transform(train_X.reshape(len(train_X), -1)).reshape(len(train_X), n_in, -1)\n",
        "val_X_enc = preprocessor.fit_transform(val_X.reshape(len(val_X), -1)).reshape(len(val_X), n_in, -1)\n",
        "test_X_enc = preprocessor.transform(test_X.reshape(len(test_X), -1)).reshape(len(test_X), n_in, -1)\n",
        "                                                                                    \n",
        "n_features = train_X_enc.shape[2] # Change with oneHotEncode\n",
        "n_features"
      ],
      "metadata": {
        "colab": {
          "base_uri": "https://localhost:8080/"
        },
        "id": "G__csUFp09iS",
        "outputId": "18a080de-e906-4a93-98b1-17c16db8b7bd"
      },
      "execution_count": 98,
      "outputs": [
        {
          "output_type": "execute_result",
          "data": {
            "text/plain": [
              "12"
            ]
          },
          "metadata": {},
          "execution_count": 98
        }
      ]
    },
    {
      "cell_type": "markdown",
      "source": [
        "Define the LSTM model:"
      ],
      "metadata": {
        "id": "ltPO1eLp8LXl"
      }
    },
    {
      "cell_type": "code",
      "source": [
        "LSTM_SIZE = 16\n",
        "\n",
        "inputs = Input(shape=(n_in, n_features))\n",
        "hidden1 = LSTM(LSTM_SIZE, return_sequences=True, activation='relu')(inputs)\n",
        "hidden2 = LSTM(LSTM_SIZE, return_sequences=True, activation='relu')(hidden1)\n",
        "hidden3 = LSTM(LSTM_SIZE, return_sequences=False, activation='relu')(hidden2)\n",
        "outputs = Dense(n_out, activation='linear')(hidden3)\n",
        "model = Model(inputs=inputs, outputs=outputs)\n",
        "model.summary()"
      ],
      "metadata": {
        "colab": {
          "base_uri": "https://localhost:8080/"
        },
        "id": "BxhmHmIi0dFQ",
        "outputId": "716bee79-8189-4ab1-80cd-c9f71ce8e7a5"
      },
      "execution_count": 99,
      "outputs": [
        {
          "output_type": "stream",
          "name": "stdout",
          "text": [
            "Model: \"model_6\"\n",
            "_________________________________________________________________\n",
            " Layer (type)                Output Shape              Param #   \n",
            "=================================================================\n",
            " input_7 (InputLayer)        [(None, 6, 12)]           0         \n",
            "                                                                 \n",
            " lstm_14 (LSTM)              (None, 6, 16)             1856      \n",
            "                                                                 \n",
            " lstm_15 (LSTM)              (None, 6, 16)             2112      \n",
            "                                                                 \n",
            " lstm_16 (LSTM)              (None, 16)                2112      \n",
            "                                                                 \n",
            " dense_6 (Dense)             (None, 1)                 17        \n",
            "                                                                 \n",
            "=================================================================\n",
            "Total params: 6,097\n",
            "Trainable params: 6,097\n",
            "Non-trainable params: 0\n",
            "_________________________________________________________________\n"
          ]
        }
      ]
    },
    {
      "cell_type": "markdown",
      "source": [
        "Compile the model, fit wiht early stopping and make prediction:"
      ],
      "metadata": {
        "id": "AF3Cy6YG8OTm"
      }
    },
    {
      "cell_type": "code",
      "source": [
        "# Compile the model\n",
        "model.compile(loss='mean_absolute_error', \n",
        "              optimizer='adam', \n",
        "              metrics=['mean_absolute_error'])"
      ],
      "metadata": {
        "id": "7QCexx2_1HHn"
      },
      "execution_count": 100,
      "outputs": []
    },
    {
      "cell_type": "code",
      "source": [
        "#Define early-stopping\n",
        "es = EarlyStopping(monitor='val_loss', mode='min', verbose=1, patience=5)\n",
        "\n",
        "#Fit the model. shuffle=False\n",
        "history = model.fit(train_X_enc, train_y, \n",
        "                    epochs=200, \n",
        "                    verbose=2, \n",
        "                    callbacks=[es], \n",
        "                    validation_data= [val_X_enc, val_y], \n",
        "                    shuffle=False) "
      ],
      "metadata": {
        "colab": {
          "base_uri": "https://localhost:8080/"
        },
        "id": "sL1E-Hzi1IrF",
        "outputId": "9ab88bb3-3112-403b-bd5d-ab26900279d1"
      },
      "execution_count": 101,
      "outputs": [
        {
          "output_type": "stream",
          "name": "stdout",
          "text": [
            "Epoch 1/200\n",
            "274/274 - 8s - loss: 68.7675 - mean_absolute_error: 68.7675 - val_loss: 52.7488 - val_mean_absolute_error: 52.7488 - 8s/epoch - 28ms/step\n",
            "Epoch 2/200\n",
            "274/274 - 3s - loss: 48.6180 - mean_absolute_error: 48.6180 - val_loss: 39.7512 - val_mean_absolute_error: 39.7512 - 3s/epoch - 11ms/step\n",
            "Epoch 3/200\n",
            "274/274 - 3s - loss: 36.7304 - mean_absolute_error: 36.7304 - val_loss: 45.9429 - val_mean_absolute_error: 45.9429 - 3s/epoch - 11ms/step\n",
            "Epoch 4/200\n",
            "274/274 - 3s - loss: 32.3776 - mean_absolute_error: 32.3776 - val_loss: 51.6598 - val_mean_absolute_error: 51.6598 - 3s/epoch - 11ms/step\n",
            "Epoch 5/200\n",
            "274/274 - 3s - loss: 29.8967 - mean_absolute_error: 29.8967 - val_loss: 51.9968 - val_mean_absolute_error: 51.9968 - 3s/epoch - 10ms/step\n",
            "Epoch 6/200\n",
            "274/274 - 3s - loss: 28.0148 - mean_absolute_error: 28.0148 - val_loss: 52.8614 - val_mean_absolute_error: 52.8614 - 3s/epoch - 10ms/step\n",
            "Epoch 7/200\n",
            "274/274 - 3s - loss: 26.3485 - mean_absolute_error: 26.3485 - val_loss: 53.7626 - val_mean_absolute_error: 53.7626 - 3s/epoch - 11ms/step\n",
            "Epoch 00007: early stopping\n"
          ]
        }
      ]
    },
    {
      "cell_type": "code",
      "source": [
        "# make a prediction\n",
        "\n",
        "pred = model.predict(test_X_enc)\n"
      ],
      "metadata": {
        "id": "0xEyLcox0t3q"
      },
      "execution_count": 102,
      "outputs": []
    },
    {
      "cell_type": "markdown",
      "source": [
        "Plot the model losses:"
      ],
      "metadata": {
        "id": "C4gK7CJc8W3w"
      }
    },
    {
      "cell_type": "code",
      "source": [
        "\"\"\" PLOT \"\"\"\n",
        "\n",
        "    \n",
        "# plot history\n",
        "plt.figure(figsize=(20,8))\n",
        "\n",
        "plt.subplot(331)\n",
        "plt.plot(history.history['loss'][3:], label='loss')\n",
        "plt.plot(history.history['val_loss'][3:], label='val_loss')\n",
        "plt.legend()\n",
        "\n",
        "plt.subplot(332)\n",
        "plt.plot(history.history['mean_absolute_error'][3:], label='mean_absolute_error')\n",
        "plt.plot(history.history['val_mean_absolute_error'][3:], label='val_mean_absolute_error')\n",
        "plt.legend()\n",
        "\n",
        "plt.subplot(333)\n",
        "plt.plot(range(len(train_y)), train_y, label=\"train\")\n",
        "plt.plot(range(len(train_y), len(train_y)+len(val_y)), val_y, label=\"valid\")\n",
        "plt.plot(range(len(train_y)+len(val_y), len(train_y)+len(val_y)+len(pred)), test_y, label=\"test\")\n",
        "plt.plot(range(len(train_y)+len(val_y), len(train_y)+len(val_y)+len(pred)), pred, label=\"predict\")\n",
        "\n",
        "plt.legend(loc='center left')\n",
        "plt.show()\n"
      ],
      "metadata": {
        "colab": {
          "base_uri": "https://localhost:8080/",
          "height": 176
        },
        "id": "8b4QHY5x2Bem",
        "outputId": "b2dde966-396d-4620-bfba-a3f4ba0700bf"
      },
      "execution_count": 103,
      "outputs": [
        {
          "output_type": "display_data",
          "data": {
            "image/png": "[encoded data removed]",
            "text/plain": [
              "<Figure size 1440x576 with 3 Axes>"
            ]
          },
          "metadata": {
            "needs_background": "light"
          }
        }
      ]
    },
    {
      "cell_type": "code",
      "source": [
        "# calculate RMSE\n",
        "\n",
        "from tensorflow.keras.metrics import RootMeanSquaredError as RMSE\n",
        "\n",
        "rmse = RMSE(dtype='float64')\n",
        "rmse_result = rmse(pred, test_y)\n",
        "\n",
        "'Test RMSE: %.3f' % rmse_result"
      ],
      "metadata": {
        "colab": {
          "base_uri": "https://localhost:8080/",
          "height": 35
        },
        "id": "hoNmOiDb2EAN",
        "outputId": "484830df-6f45-491f-e220-596c15588004"
      },
      "execution_count": 104,
      "outputs": [
        {
          "output_type": "execute_result",
          "data": {
            "application/vnd.google.colaboratory.intrinsic+json": {
              "type": "string"
            },
            "text/plain": [
              "'Test RMSE: 70.305'"
            ]
          },
          "metadata": {},
          "execution_count": 104
        }
      ]
    },
    {
      "cell_type": "markdown",
      "source": [
        "We got the RMSE on testing set as 70.305. Previously it was 57.166. Adding a new column (pollution_indicator per half day) increased the RMSE."
      ],
      "metadata": {
        "id": "dEud87hu91em"
      }
    },
    {
      "cell_type": "code",
      "source": [
        ""
      ],
      "metadata": {
        "id": "515fcCeE96hL"
      },
      "execution_count": null,
      "outputs": []
    }
  ],
  "metadata": {
    "kernelspec": {
      "display_name": "Python 3 (ipykernel)",
      "language": "python",
      "name": "python3"
    },
    "language_info": {
      "codemirror_mode": {
        "name": "ipython",
        "version": 3
      },
      "file_extension": ".py",
      "mimetype": "text/x-python",
      "name": "python",
      "nbconvert_exporter": "python",
      "pygments_lexer": "ipython3",
      "version": "3.9.5"
    },
    "latex_envs": {
      "LaTeX_envs_menu_present": true,
      "autoclose": true,
      "autocomplete": true,
      "bibliofile": "biblio.bib",
      "cite_by": "apalike",
      "current_citInitial": 1,
      "eqLabelWithNumbers": true,
      "eqNumInitial": 1,
      "hotkeys": {
        "equation": "Ctrl-E",
        "itemize": "Ctrl-I"
      },
      "labels_anchors": false,
      "latex_user_defs": false,
      "report_style_numbering": false,
      "user_envs_cfg": false
    },
    "nbTranslate": {
      "displayLangs": [
        "*"
      ],
      "hotkey": "alt-t",
      "langInMainMenu": true,
      "sourceLang": "en",
      "targetLang": "fr",
      "useGoogleTranslate": true
    },
    "toc": {
      "base_numbering": 1,
      "nav_menu": {},
      "number_sections": true,
      "sideBar": true,
      "skip_h1_title": true,
      "title_cell": "Table of Contents",
      "title_sidebar": "Contents",
      "toc_cell": true,
      "toc_position": {},
      "toc_section_display": true,
      "toc_window_display": false
    },
    "colab": {
      "name": "04-DL-RNN-Time_series_Ufuk_Cem_Birbiri.ipynb",
      "provenance": [],
      "collapsed_sections": [
        "drI3zAc24t7P",
        "F25h2_5j4t7R",
        "56Z5s-q-4t7U",
        "_FcsNL1B4t7V",
        "GEv8A_Zl4t7X"
      ]
    }
  },
  "nbformat": 4,
  "nbformat_minor": 0
}