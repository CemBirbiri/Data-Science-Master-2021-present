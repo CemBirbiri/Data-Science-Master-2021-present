{
 "cells": [
  {
   "cell_type": "markdown",
   "metadata": {},
   "source": [
    "# TP boosting\n",
    "## dataset: MNIST\n",
    "Diane Lingrand\n",
    "diane.lingrand@univ-cotedazur.fr\n",
    "2021-2022"
   ]
  },
  {
   "cell_type": "code",
   "execution_count": 6,
   "metadata": {
    "ExecuteTime": {
     "end_time": "2021-11-21T20:51:23.600127Z",
     "start_time": "2021-11-21T20:51:23.216172Z"
    }
   },
   "outputs": [
    {
     "name": "stdout",
     "output_type": "stream",
     "text": [
      "nb of train samples 60000\n"
     ]
    }
   ],
   "source": [
    "from tensorflow.keras.datasets import mnist\n",
    "(x_train, y_train), (x_test, y_test) = mnist.load_data()\n",
    "\n",
    "print(\"nb of train samples\",len(y_train))"
   ]
  },
  {
   "cell_type": "markdown",
   "metadata": {},
   "source": [
    "Display the number of data in the test dataset:"
   ]
  },
  {
   "cell_type": "code",
   "execution_count": 1,
   "metadata": {
    "ExecuteTime": {
     "end_time": "2021-11-21T20:32:57.962520Z",
     "start_time": "2021-11-21T20:32:57.960056Z"
    }
   },
   "outputs": [],
   "source": [
    "# for you"
   ]
  },
  {
   "cell_type": "markdown",
   "metadata": {},
   "source": [
    "Display the first 100 labels of the train dataset:"
   ]
  },
  {
   "cell_type": "code",
   "execution_count": null,
   "metadata": {},
   "outputs": [],
   "source": [
    "# for you"
   ]
  },
  {
   "cell_type": "markdown",
   "metadata": {},
   "source": [
    "For the binary classification we will choose the class of digit '4' and the class of digit '8' in the MNIST dataset. Feel free to change the classes."
   ]
  },
  {
   "cell_type": "code",
   "execution_count": 3,
   "metadata": {
    "ExecuteTime": {
     "end_time": "2021-11-21T20:50:54.353553Z",
     "start_time": "2021-11-21T20:50:53.776073Z"
    }
   },
   "outputs": [],
   "source": [
    "import numpy as np\n",
    "from sklearn.utils import shuffle"
   ]
  },
  {
   "cell_type": "code",
   "execution_count": 7,
   "metadata": {
    "ExecuteTime": {
     "end_time": "2021-11-21T20:51:28.004811Z",
     "start_time": "2021-11-21T20:51:27.972094Z"
    }
   },
   "outputs": [
    {
     "name": "stdout",
     "output_type": "stream",
     "text": [
      "(11693, 28, 28) (11693,)\n"
     ]
    }
   ],
   "source": [
    "# class of '4'\n",
    "x_train4 = x_train[y_train==4,:]\n",
    "# class of '8'\n",
    "x_train8 = x_train[y_train==8,:]\n",
    "\n",
    "# together\n",
    "x_trainBinaire = np.append(x_train4,x_train8,axis=0)\n",
    "# '4' as negative class and '8' as positive class\n",
    "y_trainBinaire = np.append(np.full(len(x_train4),-1), np.full(len(x_train8),1))\n",
    "\n",
    "# dimensions ?\n",
    "print(x_trainBinaire.shape, y_trainBinaire.shape)\n",
    "\n",
    "# shuffle. why ?\n",
    "(x_trainBinaire,y_trainBinaire) = shuffle(x_trainBinaire,y_trainBinaire,random_state=0)"
   ]
  },
  {
   "cell_type": "markdown",
   "metadata": {},
   "source": [
    "## binary boosting: directly on image pixels\n",
    "An image = a 1-d array of pixels"
   ]
  },
  {
   "cell_type": "code",
   "execution_count": 5,
   "metadata": {
    "ExecuteTime": {
     "end_time": "2021-11-21T20:51:07.073754Z",
     "start_time": "2021-11-21T20:51:07.070705Z"
    }
   },
   "outputs": [
    {
     "name": "stdout",
     "output_type": "stream",
     "text": [
      "(11693, 784)\n"
     ]
    }
   ],
   "source": [
    "n = x_trainBinaire.shape[0]\n",
    "x_trainBinaire = x_trainBinaire.reshape(n,-1)\n",
    "print(x_trainBinaire.shape)"
   ]
  },
  {
   "cell_type": "markdown",
   "metadata": {},
   "source": [
    "What are the dimensions of x_trainBinaire ? Explain the values."
   ]
  },
  {
   "cell_type": "code",
   "execution_count": 9,
   "metadata": {},
   "outputs": [],
   "source": [
    "from sklearn import ensemble\n",
    "from sklearn.metrics import confusion_matrix\n",
    "from sklearn.utils import shuffle"
   ]
  },
  {
   "cell_type": "code",
   "execution_count": null,
   "metadata": {},
   "outputs": [],
   "source": [
    "## learning the boosting (Adaboost)\n",
    "# create the boosting object\n",
    "myboosting = ensemble.AdaBoostClassifier(n_estimators=50, learning_rate=1, algorithm='SAMME.R')\n",
    "# learn on the train dataset\n",
    "myboosting.fit(x_trainBinaire,y_trainBinaire)\n",
    "# prediction of train data: should be similar to labels\n",
    "y_predBinaire = myboosting.predict(x_trainBinaire)\n",
    "print('confusion matrix on train data',confusion_matrix(y_trainBinaire,y_predBinaire))"
   ]
  },
  {
   "cell_type": "markdown",
   "metadata": {},
   "source": [
    "We have displayed the confusion matrix on the train dataset. It should be computed on the test dataset. Let's do it!"
   ]
  },
  {
   "cell_type": "code",
   "execution_count": 12,
   "metadata": {},
   "outputs": [],
   "source": [
    "TO BE DONE\n",
    "# preprocessing of test data(2 classes ....)\n",
    "\n",
    "\n",
    "# compute and display the confusion matrix\n"
   ]
  },
  {
   "cell_type": "markdown",
   "metadata": {},
   "source": [
    "How is the result ? And what about modifying the variable n_estimators ?"
   ]
  },
  {
   "cell_type": "markdown",
   "metadata": {},
   "source": [
    "## binary boosting using Haar filters\n",
    "First step: prepare the data before boosting algorithm."
   ]
  },
  {
   "cell_type": "markdown",
   "metadata": {},
   "source": [
    "### Haar filters"
   ]
  },
  {
   "cell_type": "code",
   "execution_count": 8,
   "metadata": {
    "ExecuteTime": {
     "end_time": "2021-11-21T20:51:45.229487Z",
     "start_time": "2021-11-21T20:51:44.747575Z"
    }
   },
   "outputs": [],
   "source": [
    "from skimage import feature\n",
    "from skimage import transform"
   ]
  },
  {
   "cell_type": "markdown",
   "metadata": {},
   "source": [
    "For Haar filters, you can choose between two options:\n",
    "- automatic generation\n",
    "- hand-made filters"
   ]
  },
  {
   "cell_type": "code",
   "execution_count": 2,
   "metadata": {},
   "outputs": [],
   "source": [
    "# automatic generation from 2 types: \n",
    "#       'type-2-x' and 'type-2-y'\n",
    "# and dimensiosn of images: 28x28\n",
    "feat_coord, feat_type = feature.haar_like_feature_coord(28,28, ['type-2-x','type-2-y'])"
   ]
  },
  {
   "cell_type": "markdown",
   "metadata": {},
   "source": [
    "How many filters ? Compare to the number of pixels ..."
   ]
  },
  {
   "cell_type": "code",
   "execution_count": 17,
   "metadata": {
    "ExecuteTime": {
     "end_time": "2021-11-21T21:01:37.567133Z",
     "start_time": "2021-11-21T21:01:36.175950Z"
    }
   },
   "outputs": [],
   "source": [
    "# transformation of images: apply all filters\n",
    "cpt=0\n",
    "\n",
    "for image in x_trainBinaire:\n",
    "    # integral image computation\n",
    "    int_image = transform.integral_image(image)\n",
    "    #print(int_image.shape)\n",
    "    # Haar filters computation\n",
    "    features = feature.haar_like_feature(int_image, 0, 0, 28, 28,feature_type=feat_type,feature_coord=feat_coord)\n",
    "    if cpt == 0:\n",
    "        ftrain = [features]\n",
    "    else:\n",
    "        ftrain = np.append(ftrain,[features],axis=0)\n",
    "    cpt += 1"
   ]
  },
  {
   "cell_type": "markdown",
   "metadata": {},
   "source": [
    "The previous cell may encounter problem of size. Try to remove some filters. Which ones ? How many ?"
   ]
  },
  {
   "cell_type": "code",
   "execution_count": null,
   "metadata": {},
   "outputs": [],
   "source": [
    "# for you"
   ]
  },
  {
   "cell_type": "markdown",
   "metadata": {},
   "source": [
    "Another solution: let's build the list of filters!"
   ]
  },
  {
   "cell_type": "code",
   "execution_count": 13,
   "metadata": {
    "ExecuteTime": {
     "end_time": "2021-11-21T20:58:32.314746Z",
     "start_time": "2021-11-21T20:58:32.308803Z"
    }
   },
   "outputs": [],
   "source": [
    "feat_coord = np.array([list([[(0, 0), (27, 13)], [(14, 0), (27, 27)]]),\n",
    "       list([[(0, 0), (13, 13)], [(14, 0), (27, 13)]])])\n",
    "# this is just an example: write the list of filters you think you need\n",
    "feat_type = np.array(['type-2-x', 'type-2-x'])"
   ]
  },
  {
   "cell_type": "markdown",
   "metadata": {},
   "source": [
    "### boosting\n",
    "Now compute the binary boosting using the Haar filters representation and compare with the previous one."
   ]
  },
  {
   "cell_type": "code",
   "execution_count": null,
   "metadata": {},
   "outputs": [],
   "source": [
    "# for you"
   ]
  }
 ],
 "metadata": {
  "hide_input": false,
  "kernelspec": {
   "display_name": "Python 3",
   "language": "python",
   "name": "python3"
  },
  "language_info": {
   "codemirror_mode": {
    "name": "ipython",
    "version": 3
   },
   "file_extension": ".py",
   "mimetype": "text/x-python",
   "name": "python",
   "nbconvert_exporter": "python",
   "pygments_lexer": "ipython3",
   "version": "3.8.10"
  },
  "latex_envs": {
   "LaTeX_envs_menu_present": true,
   "autoclose": false,
   "autocomplete": true,
   "bibliofile": "biblio.bib",
   "cite_by": "apalike",
   "current_citInitial": 1,
   "eqLabelWithNumbers": true,
   "eqNumInitial": 1,
   "hotkeys": {
    "equation": "Ctrl-E",
    "itemize": "Ctrl-I"
   },
   "labels_anchors": false,
   "latex_user_defs": false,
   "report_style_numbering": false,
   "user_envs_cfg": false
  },
  "varInspector": {
   "cols": {
    "lenName": 16,
    "lenType": 16,
    "lenVar": 40
   },
   "kernels_config": {
    "python": {
     "delete_cmd_postfix": "",
     "delete_cmd_prefix": "del ",
     "library": "var_list.py",
     "varRefreshCmd": "print(var_dic_list())"
    },
    "r": {
     "delete_cmd_postfix": ") ",
     "delete_cmd_prefix": "rm(",
     "library": "var_list.r",
     "varRefreshCmd": "cat(var_dic_list()) "
    }
   },
   "types_to_exclude": [
    "module",
    "function",
    "builtin_function_or_method",
    "instance",
    "_Feature"
   ],
   "window_display": false
  }
 },
 "nbformat": 4,
 "nbformat_minor": 2
}