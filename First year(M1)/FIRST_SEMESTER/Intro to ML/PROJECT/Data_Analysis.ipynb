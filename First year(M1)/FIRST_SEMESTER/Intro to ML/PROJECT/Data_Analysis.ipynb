{
  "nbformat": 4,
  "nbformat_minor": 0,
  "metadata": {
    "colab": {
      "name": "Data Analysis",
      "provenance": [],
      "collapsed_sections": [
        "SDJhSJc2ndX0"
      ]
    },
    "kernelspec": {
      "name": "python3",
      "display_name": "Python 3"
    },
    "language_info": {
      "name": "python"
    }
  },
  "cells": [
    {
      "cell_type": "markdown",
      "source": [
        "#PET FINDER\n",
        "UFUK CEM BIRBIRI\n",
        "\n",
        "Data Science & Artificial Intelligence Master\n",
        "\n",
        "Universite Cote d'Azur, France\n",
        "\n",
        "\n"
      ],
      "metadata": {
        "id": "SCaKCtTdB98I"
      }
    },
    {
      "cell_type": "markdown",
      "source": [
        "This notebook is about data analysis of an animal shelter where we predict if the animals you have in your possession can be adopted within 30 days or not.\n",
        "\n",
        "The dataset contains information about cats and dogs with other features like breed, fee, gender, color...\n",
        "Lets's load the dataset and investigate some features:\n"
      ],
      "metadata": {
        "id": "XRdbamtJCT55"
      }
    },
    {
      "cell_type": "code",
      "source": [
        "#Some imports\n",
        "import os\n",
        "from tqdm import tqdm\n",
        "import warnings\n",
        "warnings.filterwarnings(\"ignore\")\n",
        "import ssl\n",
        "ssl._create_default_https_context = ssl._create_unverified_context\n",
        "import numpy as np \n",
        "import pandas as pd \n",
        "import matplotlib.pyplot as plt\n",
        "%matplotlib inline\n",
        "\n",
        "path = \"https://www.i3s.unice.fr/~riveill/dataset/petfinder-adoption-prediction/\"\n",
        "\n",
        "colors = pd.read_csv(path+'color_labels.csv')\n",
        "states = pd.read_csv(path+'state_labels.csv')\n",
        "breeds = pd.read_csv(path+'breed_labels.csv')\n",
        "#LOAD TRAIN DATA\n",
        "train =  pd.read_csv(path+'train.csv')\n",
        "train['dataset_type'] = 'train'\n",
        "\n",
        "#LOAD TEST DATA\n",
        "test = pd.read_csv(path+\"test.csv\")\n",
        "test['dataset_type'] = 'test'\n",
        "y_test = test['target']\n",
        "X_test = test.drop(['target','dataset_type'], axis=1)\n",
        "\n",
        "#All data\n",
        "all_data = pd.concat([train,test])"
      ],
      "metadata": {
        "id": "yJJkIH2wC9O6"
      },
      "execution_count": 1,
      "outputs": []
    },
    {
      "cell_type": "markdown",
      "source": [
        "See the columns of the dataset:"
      ],
      "metadata": {
        "id": "g7e40_0LEpTN"
      }
    },
    {
      "cell_type": "code",
      "execution_count": 2,
      "metadata": {
        "colab": {
          "base_uri": "https://localhost:8080/"
        },
        "id": "1uvGma3qBoxr",
        "outputId": "4b550b16-2424-422d-8e5c-872e61ad8d64"
      },
      "outputs": [
        {
          "output_type": "execute_result",
          "data": {
            "text/plain": [
              "Index(['Type', 'Age', 'Gender', 'Color1', 'Color2', 'Color3', 'MaturitySize',\n",
              "       'FurLength', 'Vaccinated', 'Dewormed', 'Sterilized', 'Health', 'Fee',\n",
              "       'Description', 'Images', 'Breed', 'target', 'dataset_type'],\n",
              "      dtype='object')"
            ]
          },
          "metadata": {},
          "execution_count": 2
        }
      ],
      "source": [
        "train.columns"
      ]
    },
    {
      "cell_type": "markdown",
      "source": [
        "See the size of the dataset and data types:"
      ],
      "metadata": {
        "id": "La-XXYTkH1P2"
      }
    },
    {
      "cell_type": "code",
      "source": [
        "train.info()"
      ],
      "metadata": {
        "colab": {
          "base_uri": "https://localhost:8080/"
        },
        "id": "-Df5Qql1IEmf",
        "outputId": "c31d695f-a1a5-472b-b9c5-f61ccee65d87"
      },
      "execution_count": 3,
      "outputs": [
        {
          "output_type": "stream",
          "name": "stdout",
          "text": [
            "<class 'pandas.core.frame.DataFrame'>\n",
            "RangeIndex: 8168 entries, 0 to 8167\n",
            "Data columns (total 18 columns):\n",
            " #   Column        Non-Null Count  Dtype  \n",
            "---  ------        --------------  -----  \n",
            " 0   Type          8168 non-null   object \n",
            " 1   Age           8168 non-null   float64\n",
            " 2   Gender        8168 non-null   object \n",
            " 3   Color1        8168 non-null   object \n",
            " 4   Color2        8168 non-null   object \n",
            " 5   Color3        8168 non-null   object \n",
            " 6   MaturitySize  8168 non-null   object \n",
            " 7   FurLength     8168 non-null   object \n",
            " 8   Vaccinated    8168 non-null   object \n",
            " 9   Dewormed      8168 non-null   object \n",
            " 10  Sterilized    8168 non-null   object \n",
            " 11  Health        8168 non-null   object \n",
            " 12  Fee           8168 non-null   float64\n",
            " 13  Description   8168 non-null   object \n",
            " 14  Images        8168 non-null   object \n",
            " 15  Breed         8168 non-null   object \n",
            " 16  target        8168 non-null   bool   \n",
            " 17  dataset_type  8168 non-null   object \n",
            "dtypes: bool(1), float64(2), object(15)\n",
            "memory usage: 1.1+ MB\n"
          ]
        }
      ]
    },
    {
      "cell_type": "markdown",
      "source": [
        "Now let's inventigate the features:\n",
        "##TYPE\n"
      ],
      "metadata": {
        "id": "jLn4KRPBIJaw"
      }
    },
    {
      "cell_type": "code",
      "source": [
        "print(train.Type.value_counts())\n",
        "train['Type'].value_counts().plot(kind='bar', figsize=(5,5))"
      ],
      "metadata": {
        "colab": {
          "base_uri": "https://localhost:8080/",
          "height": 399
        },
        "id": "e1zmCo8ACKYX",
        "outputId": "a856c3f1-cce5-47f1-fe5e-37c1bd5f5c3e"
      },
      "execution_count": 33,
      "outputs": [
        {
          "output_type": "stream",
          "name": "stdout",
          "text": [
            "Dog    4904\n",
            "Cat    3264\n",
            "Name: Type, dtype: int64\n"
          ]
        },
        {
          "output_type": "execute_result",
          "data": {
            "text/plain": [
              "<matplotlib.axes._subplots.AxesSubplot at 0x7fbd2e8845d0>"
            ]
          },
          "metadata": {},
          "execution_count": 33
        },
        {
          "output_type": "display_data",
          "data": {
            "image/png": "[encoded data removed]",
            "text/plain": [
              "<Figure size 360x360 with 1 Axes>"
            ]
          },
          "metadata": {
            "needs_background": "light"
          }
        }
      ]
    },
    {
      "cell_type": "markdown",
      "source": [
        "We see that the rate of dogs in the training set is a bit higher. Though, it is not as much as we worry."
      ],
      "metadata": {
        "id": "WS0K8oUHUf5i"
      }
    },
    {
      "cell_type": "code",
      "source": [
        "print(test.Type.value_counts())\n",
        "test['Type'].value_counts().plot(kind='bar', figsize=(5,5), color='darkcyan')\n"
      ],
      "metadata": {
        "colab": {
          "base_uri": "https://localhost:8080/",
          "height": 400
        },
        "id": "G11yqcxeRQSz",
        "outputId": "91d7227b-fc4a-41b0-c11d-4b7e2bd6dac3"
      },
      "execution_count": 34,
      "outputs": [
        {
          "output_type": "stream",
          "name": "stdout",
          "text": [
            "Dog    154\n",
            "Cat     96\n",
            "Name: Type, dtype: int64\n"
          ]
        },
        {
          "output_type": "execute_result",
          "data": {
            "text/plain": [
              "<matplotlib.axes._subplots.AxesSubplot at 0x7fbd2e8165d0>"
            ]
          },
          "metadata": {},
          "execution_count": 34
        },
        {
          "output_type": "display_data",
          "data": {
            "image/png": "[encoded data removed]",
            "text/plain": [
              "<Figure size 360x360 with 1 Axes>"
            ]
          },
          "metadata": {
            "needs_background": "light"
          }
        }
      ]
    },
    {
      "cell_type": "code",
      "source": [
        "types= [\"train\", \"test\"]\n",
        "dog_counts = [train.Type.value_counts()[0], test.Type.value_counts()[0]]\n",
        "cat_counts = [train.Type.value_counts()[1], test.Type.value_counts()[1]]\n",
        "df = pd.DataFrame({'dog_counts': dog_counts,'cat_counts': cat_counts}, index=types)\n",
        "ax = df.plot.bar()"
      ],
      "metadata": {
        "colab": {
          "base_uri": "https://localhost:8080/",
          "height": 279
        },
        "id": "_npXquaWVhGU",
        "outputId": "c56c83ea-268e-4fe9-97e2-3a654c1070c7"
      },
      "execution_count": 52,
      "outputs": [
        {
          "output_type": "display_data",
          "data": {
            "image/png": "[encoded data removed]",
            "text/plain": [
              "<Figure size 432x288 with 1 Axes>"
            ]
          },
          "metadata": {
            "needs_background": "light"
          }
        }
      ]
    },
    {
      "cell_type": "markdown",
      "source": [
        "Let's analysize the proportion of how likely pets will get adopted in 30 days. 'True' means the pet will be adopted in 30 days and false is the opposite."
      ],
      "metadata": {
        "id": "OCsXjnRbdkyD"
      }
    },
    {
      "cell_type": "code",
      "source": [
        "train_dog = train[train['Type'] == \"Dog\" ]\n",
        "train_cat = train[train['Type'] == \"Cat\" ]\n",
        "\n",
        "types= [\"Dog\", \"Cat\"]\n",
        "# True = The pet can be adopted in 30 days\n",
        "trues = [len(train_dog[train_dog.target== True]), \n",
        "         len(train_cat[train_cat.target== True])]\n",
        "# False = The pet can be adopted in 30 days\n",
        "falses = [len(train_dog[train_dog.target== False]), \n",
        "          len(train_cat[train_cat.target== False])]\n",
        "df = pd.DataFrame({'True': trues,'False': falses}, index=types)\n",
        "ax = df.plot.bar(color =[\"Darkgreen\",\"Maroon\"], \n",
        "                 title=\"How likely pets get adopted in 30 days?\")"
      ],
      "metadata": {
        "colab": {
          "base_uri": "https://localhost:8080/",
          "height": 291
        },
        "id": "J6QQSj8uYaoO",
        "outputId": "e6aaf140-2e2d-455d-a3b3-78aef67fd64e"
      },
      "execution_count": 89,
      "outputs": [
        {
          "output_type": "display_data",
          "data": {
            "image/png": "[encoded data removed]",
            "text/plain": [
              "<Figure size 432x288 with 1 Axes>"
            ]
          },
          "metadata": {
            "needs_background": "light"
          }
        }
      ]
    },
    {
      "cell_type": "markdown",
      "source": [
        "We see that cats are more likely to be adopted than dogs because 'True' count is greater than 'False' count in cats."
      ],
      "metadata": {
        "id": "7-DzmVsceM5I"
      }
    },
    {
      "cell_type": "code",
      "source": [
        "df.plot(kind='bar', stacked=True)\n"
      ],
      "metadata": {
        "id": "nea-dFRxczLw"
      },
      "execution_count": null,
      "outputs": []
    },
    {
      "cell_type": "markdown",
      "source": [
        "##AGE\n",
        "\n",
        "Now, look at Age variable"
      ],
      "metadata": {
        "id": "V5ViHLACe10x"
      }
    },
    {
      "cell_type": "code",
      "source": [
        "fig, ax = plt.subplots(figsize=(16,6))\n",
        "plt.subplot(1,2,1)\n",
        "plt.title(\"Distribution of pets age(months)\")\n",
        "train.Age.plot(kind='hist',label='train',color=[\"lightcoral\"])\n",
        "test.Age.plot(kind='hist',label='test',color=[\"darkblue\"])\n",
        "plt.legend()\n",
        "\n",
        "plt.subplot(1,2,2)\n",
        "plt.title(\"Distribution of pets age(log)\")\n",
        "np.log1p(train[\"Age\"]).plot(kind='hist',label='train',color=[\"lightcoral\"])\n",
        "np.log1p(test[\"Age\"]).plot(kind='hist',label='test',color=[\"darkblue\"])\n",
        "plt.legend()"
      ],
      "metadata": {
        "colab": {
          "base_uri": "https://localhost:8080/",
          "height": 333
        },
        "id": "Gj1j_oF_V7KD",
        "outputId": "f9c164bb-e94b-4cb8-dfb8-16f75d6f1862"
      },
      "execution_count": 100,
      "outputs": [
        {
          "output_type": "execute_result",
          "data": {
            "text/plain": [
              "<matplotlib.legend.Legend at 0x7fbd2c709f10>"
            ]
          },
          "metadata": {},
          "execution_count": 100
        },
        {
          "output_type": "display_data",
          "data": {
            "image/png": "[encoded data removed]",
            "text/plain": [
              "<Figure size 1152x432 with 2 Axes>"
            ]
          },
          "metadata": {
            "needs_background": "light"
          }
        }
      ]
    },
    {
      "cell_type": "code",
      "source": [
        "train.Age.value_counts().head(10)"
      ],
      "metadata": {
        "colab": {
          "base_uri": "https://localhost:8080/"
        },
        "id": "OKIft9LJe9zp",
        "outputId": "3d537cb5-b2b5-4f0d-da55-4d773cae56db"
      },
      "execution_count": 104,
      "outputs": [
        {
          "output_type": "execute_result",
          "data": {
            "text/plain": [
              "2.0     1769\n",
              "3.0     1030\n",
              "1.0     1004\n",
              "4.0      618\n",
              "12.0     599\n",
              "24.0     407\n",
              "5.0      337\n",
              "6.0      336\n",
              "36.0     261\n",
              "8.0      199\n",
              "Name: Age, dtype: int64"
            ]
          },
          "metadata": {},
          "execution_count": 104
        }
      ]
    },
    {
      "cell_type": "markdown",
      "source": [
        "The age is shown in months. We can see that most pets are young in trainin dataset. Some ages are multiple of 12 that means people are not sure about pet's age."
      ],
      "metadata": {
        "id": "sS0yJGhCg-dE"
      }
    },
    {
      "cell_type": "code",
      "source": [
        "test.Age.value_counts().head(10)"
      ],
      "metadata": {
        "colab": {
          "base_uri": "https://localhost:8080/"
        },
        "id": "0owBjFd3iPKG",
        "outputId": "a6e9ce03-72a1-4532-9375-827d4453ad05"
      },
      "execution_count": 105,
      "outputs": [
        {
          "output_type": "execute_result",
          "data": {
            "text/plain": [
              "2.0     54\n",
              "3.0     32\n",
              "4.0     31\n",
              "12.0    17\n",
              "24.0    13\n",
              "5.0     13\n",
              "1.0     12\n",
              "6.0     11\n",
              "8.0      8\n",
              "7.0      6\n",
              "Name: Age, dtype: int64"
            ]
          },
          "metadata": {},
          "execution_count": 105
        }
      ]
    },
    {
      "cell_type": "markdown",
      "source": [
        "The distribution of age is not so bad in testing data."
      ],
      "metadata": {
        "id": "H0EHWOUhiXmu"
      }
    },
    {
      "cell_type": "markdown",
      "source": [
        "##COLOR\n",
        "We have 3 color columns in data dataset and 7 different color. If the value is 'Unknow', it means there is no color."
      ],
      "metadata": {
        "id": "0p_gVvHzinjs"
      }
    },
    {
      "cell_type": "code",
      "source": [
        "colors"
      ],
      "metadata": {
        "colab": {
          "base_uri": "https://localhost:8080/",
          "height": 269
        },
        "id": "iH8xZVHvi113",
        "outputId": "0ee375c2-6cb9-4372-9f87-f829423f8501"
      },
      "execution_count": 107,
      "outputs": [
        {
          "output_type": "execute_result",
          "data": {
            "text/html": [
              "\n",
              "  <div id=\"df-9ef0bd55-2b6c-4e22-8058-95b90cd74323\">\n",
              "    <div class=\"colab-df-container\">\n",
              "      <div>\n",
              "<style scoped>\n",
              "    .dataframe tbody tr th:only-of-type {\n",
              "        vertical-align: middle;\n",
              "    }\n",
              "\n",
              "    .dataframe tbody tr th {\n",
              "        vertical-align: top;\n",
              "    }\n",
              "\n",
              "    .dataframe thead th {\n",
              "        text-align: right;\n",
              "    }\n",
              "</style>\n",
              "<table border=\"1\" class=\"dataframe\">\n",
              "  <thead>\n",
              "    <tr style=\"text-align: right;\">\n",
              "      <th></th>\n",
              "      <th>ColorID</th>\n",
              "      <th>ColorName</th>\n",
              "    </tr>\n",
              "  </thead>\n",
              "  <tbody>\n",
              "    <tr>\n",
              "      <th>0</th>\n",
              "      <td>1</td>\n",
              "      <td>Black</td>\n",
              "    </tr>\n",
              "    <tr>\n",
              "      <th>1</th>\n",
              "      <td>2</td>\n",
              "      <td>Brown</td>\n",
              "    </tr>\n",
              "    <tr>\n",
              "      <th>2</th>\n",
              "      <td>3</td>\n",
              "      <td>Golden</td>\n",
              "    </tr>\n",
              "    <tr>\n",
              "      <th>3</th>\n",
              "      <td>4</td>\n",
              "      <td>Yellow</td>\n",
              "    </tr>\n",
              "    <tr>\n",
              "      <th>4</th>\n",
              "      <td>5</td>\n",
              "      <td>Cream</td>\n",
              "    </tr>\n",
              "    <tr>\n",
              "      <th>5</th>\n",
              "      <td>6</td>\n",
              "      <td>Gray</td>\n",
              "    </tr>\n",
              "    <tr>\n",
              "      <th>6</th>\n",
              "      <td>7</td>\n",
              "      <td>White</td>\n",
              "    </tr>\n",
              "  </tbody>\n",
              "</table>\n",
              "</div>\n",
              "      <button class=\"colab-df-convert\" onclick=\"convertToInteractive('df-9ef0bd55-2b6c-4e22-8058-95b90cd74323')\"\n",
              "              title=\"Convert this dataframe to an interactive table.\"\n",
              "              style=\"display:none;\">\n",
              "        \n",
              "  <svg xmlns=\"http://www.w3.org/2000/svg\" height=\"24px\"viewBox=\"0 0 24 24\"\n",
              "       width=\"24px\">\n",
              "    <path d=\"M0 0h24v24H0V0z\" fill=\"none\"/>\n",
              "    <path d=\"M18.56 5.44l.94 2.06.94-2.06 2.06-.94-2.06-.94-.94-2.06-.94 2.06-2.06.94zm-11 1L8.5 8.5l.94-2.06 2.06-.94-2.06-.94L8.5 2.5l-.94 2.06-2.06.94zm10 10l.94 2.06.94-2.06 2.06-.94-2.06-.94-.94-2.06-.94 2.06-2.06.94z\"/><path d=\"M17.41 7.96l-1.37-1.37c-.4-.4-.92-.59-1.43-.59-.52 0-1.04.2-1.43.59L10.3 9.45l-7.72 7.72c-.78.78-.78 2.05 0 2.83L4 21.41c.39.39.9.59 1.41.59.51 0 1.02-.2 1.41-.59l7.78-7.78 2.81-2.81c.8-.78.8-2.07 0-2.86zM5.41 20L4 18.59l7.72-7.72 1.47 1.35L5.41 20z\"/>\n",
              "  </svg>\n",
              "      </button>\n",
              "      \n",
              "  <style>\n",
              "    .colab-df-container {\n",
              "      display:flex;\n",
              "      flex-wrap:wrap;\n",
              "      gap: 12px;\n",
              "    }\n",
              "\n",
              "    .colab-df-convert {\n",
              "      background-color: #E8F0FE;\n",
              "      border: none;\n",
              "      border-radius: 50%;\n",
              "      cursor: pointer;\n",
              "      display: none;\n",
              "      fill: #1967D2;\n",
              "      height: 32px;\n",
              "      padding: 0 0 0 0;\n",
              "      width: 32px;\n",
              "    }\n",
              "\n",
              "    .colab-df-convert:hover {\n",
              "      background-color: #E2EBFA;\n",
              "      box-shadow: 0px 1px 2px rgba(60, 64, 67, 0.3), 0px 1px 3px 1px rgba(60, 64, 67, 0.15);\n",
              "      fill: #174EA6;\n",
              "    }\n",
              "\n",
              "    [theme=dark] .colab-df-convert {\n",
              "      background-color: #3B4455;\n",
              "      fill: #D2E3FC;\n",
              "    }\n",
              "\n",
              "    [theme=dark] .colab-df-convert:hover {\n",
              "      background-color: #434B5C;\n",
              "      box-shadow: 0px 1px 3px 1px rgba(0, 0, 0, 0.15);\n",
              "      filter: drop-shadow(0px 1px 2px rgba(0, 0, 0, 0.3));\n",
              "      fill: #FFFFFF;\n",
              "    }\n",
              "  </style>\n",
              "\n",
              "      <script>\n",
              "        const buttonEl =\n",
              "          document.querySelector('#df-9ef0bd55-2b6c-4e22-8058-95b90cd74323 button.colab-df-convert');\n",
              "        buttonEl.style.display =\n",
              "          google.colab.kernel.accessAllowed ? 'block' : 'none';\n",
              "\n",
              "        async function convertToInteractive(key) {\n",
              "          const element = document.querySelector('#df-9ef0bd55-2b6c-4e22-8058-95b90cd74323');\n",
              "          const dataTable =\n",
              "            await google.colab.kernel.invokeFunction('convertToInteractive',\n",
              "                                                     [key], {});\n",
              "          if (!dataTable) return;\n",
              "\n",
              "          const docLinkHtml = 'Like what you see? Visit the ' +\n",
              "            '<a target=\"_blank\" href=https://colab.research.google.com/notebooks/data_table.ipynb>data table notebook</a>'\n",
              "            + ' to learn more about interactive tables.';\n",
              "          element.innerHTML = '';\n",
              "          dataTable['output_type'] = 'display_data';\n",
              "          await google.colab.output.renderOutput(dataTable, element);\n",
              "          const docLink = document.createElement('div');\n",
              "          docLink.innerHTML = docLinkHtml;\n",
              "          element.appendChild(docLink);\n",
              "        }\n",
              "      </script>\n",
              "    </div>\n",
              "  </div>\n",
              "  "
            ],
            "text/plain": [
              "   ColorID ColorName\n",
              "0        1     Black\n",
              "1        2     Brown\n",
              "2        3    Golden\n",
              "3        4    Yellow\n",
              "4        5     Cream\n",
              "5        6      Gray\n",
              "6        7     White"
            ]
          },
          "metadata": {},
          "execution_count": 107
        }
      ]
    },
    {
      "cell_type": "code",
      "source": [
        "print(train.Color1.unique())\n",
        "print(train.Color2.unique())\n",
        "print(train.Color3.unique())"
      ],
      "metadata": {
        "colab": {
          "base_uri": "https://localhost:8080/"
        },
        "id": "DcDv5VfWiU3S",
        "outputId": "95742223-6e18-4725-beea-a57a37be7931"
      },
      "execution_count": 106,
      "outputs": [
        {
          "output_type": "stream",
          "name": "stdout",
          "text": [
            "['White' 'Golden' 'Black' 'Cream' 'Yellow' 'Brown' 'Gray']\n",
            "['Unknown' 'White' 'Golden' 'Gray' 'Brown' 'Cream' 'Yellow']\n",
            "['Unknown' 'White' 'Cream' 'Gray' 'Golden' 'Yellow']\n"
          ]
        }
      ]
    },
    {
      "cell_type": "markdown",
      "source": [
        "###### Colors in training dataset"
      ],
      "metadata": {
        "id": "SDJhSJc2ndX0"
      }
    },
    {
      "cell_type": "code",
      "source": [
        "train_dog = train[train['Type'] == \"Dog\" ]\n",
        "train_cat = train[train['Type'] == \"Cat\" ]\n",
        "types= [\"Dog\", \"Cat\"]\n",
        "Black = [len(train_dog[train_dog.Color1== 'Black'])+\n",
        "         len(train_dog[train_dog.Color2== 'Black'])+\n",
        "         len(train_dog[train_dog.Color3== 'Black']), \n",
        "         len(train_cat[train_cat.Color1== 'Black'])+\n",
        "         len(train_cat[train_cat.Color2== 'Black'])+\n",
        "         len(train_cat[train_cat.Color3== 'Black'])]\n",
        "\n",
        "Brown = [len(train_dog[train_dog.Color1== 'Brown'])+\n",
        "         len(train_dog[train_dog.Color2== 'Brown'])+\n",
        "         len(train_dog[train_dog.Color3== 'Brown']), \n",
        "         len(train_cat[train_cat.Color1== 'Brown'])+\n",
        "         len(train_cat[train_cat.Color2== 'Brown'])+\n",
        "         len(train_cat[train_cat.Color3== 'Brown'])]\n",
        "\n",
        "Golden = [len(train_dog[train_dog.Color1== 'Golden'])+\n",
        "         len(train_dog[train_dog.Color2== 'Golden'])+\n",
        "         len(train_dog[train_dog.Color3== 'Golden']), \n",
        "         len(train_cat[train_cat.Color1== 'Golden'])+\n",
        "         len(train_cat[train_cat.Color2== 'Golden'])+\n",
        "         len(train_cat[train_cat.Color3== 'Golden'])]\n",
        "\n",
        "Yellow = [len(train_dog[train_dog.Color1== 'Yellow'])+\n",
        "         len(train_dog[train_dog.Color2== 'Yellow'])+\n",
        "         len(train_dog[train_dog.Color3== 'Yellow']), \n",
        "         len(train_cat[train_cat.Color1== 'Yellow'])+\n",
        "         len(train_cat[train_cat.Color2== 'Yellow'])+\n",
        "         len(train_cat[train_cat.Color3== 'Yellow'])]\n",
        "\n",
        "Cream = [len(train_dog[train_dog.Color1== 'Cream'])+\n",
        "         len(train_dog[train_dog.Color2== 'Cream'])+\n",
        "         len(train_dog[train_dog.Color3== 'Cream']), \n",
        "         len(train_cat[train_cat.Color1== 'Cream'])+\n",
        "         len(train_cat[train_cat.Color2== 'Cream'])+\n",
        "         len(train_cat[train_cat.Color3== 'Cream'])]\n",
        "\n",
        "Gray = [len(train_dog[train_dog.Color1== 'Gray'])+\n",
        "         len(train_dog[train_dog.Color2== 'Gray'])+\n",
        "         len(train_dog[train_dog.Color3== 'Gray']), \n",
        "         len(train_cat[train_cat.Color1== 'Gray'])+\n",
        "         len(train_cat[train_cat.Color2== 'Gray'])+\n",
        "         len(train_cat[train_cat.Color3== 'Gray'])]\n",
        "\n",
        "White = [len(train_dog[train_dog.Color1== 'White'])+\n",
        "         len(train_dog[train_dog.Color2== 'White'])+\n",
        "         len(train_dog[train_dog.Color3== 'White']), \n",
        "         len(train_cat[train_cat.Color1== 'White'])+\n",
        "         len(train_cat[train_cat.Color2== 'White'])+\n",
        "         len(train_cat[train_cat.Color3== 'White'])]\n",
        "df = pd.DataFrame({'Black': Black,'Brown': Brown,'Golden': Golden,\n",
        "                   'Yellow': Yellow,'Cream': Cream,'Gray': Gray,\n",
        "                   'White': White}, index=types)\n",
        "\n",
        "ax = df.plot(kind='bar', color =[\"Black\",'Brown','gold','Yellow','bisque',\n",
        "                         'Gray','White'], \n",
        "                 title=\"Colors in training dataset\")\n",
        "ax.legend(bbox_to_anchor=(1.3, 1))\n",
        "ax.set_facecolor('lightcyan')"
      ],
      "metadata": {
        "colab": {
          "base_uri": "https://localhost:8080/",
          "height": 291
        },
        "id": "n09WFnRsi31X",
        "outputId": "56859a07-4588-4500-da94-f960f67fa187"
      },
      "execution_count": 154,
      "outputs": [
        {
          "output_type": "display_data",
          "data": {
            "image/png": "[encoded data removed]",
            "text/plain": [
              "<Figure size 432x288 with 1 Axes>"
            ]
          },
          "metadata": {
            "needs_background": "light"
          }
        }
      ]
    },
    {
      "cell_type": "markdown",
      "source": [
        "We see that brown, white and black are most popular colors in both cats and dogs. \n",
        "\n",
        "\n"
      ],
      "metadata": {
        "id": "pQirjQrdoi-I"
      }
    },
    {
      "cell_type": "markdown",
      "source": [
        "###### Colors in training dataset\n",
        "\n",
        "Now let's see the colors in testing data:"
      ],
      "metadata": {
        "id": "S_ycOXrustIy"
      }
    },
    {
      "cell_type": "code",
      "source": [
        "test_dog = test[test['Type'] == \"Dog\" ]\n",
        "test_cat = test[test['Type'] == \"Cat\" ]\n",
        "types= [\"Dog\", \"Cat\"]\n",
        "Black = [len(test_dog[test_dog.Color1== 'Black'])+\n",
        "         len(test_dog[test_dog.Color2== 'Black'])+\n",
        "         len(test_dog[test_dog.Color3== 'Black']), \n",
        "         len(test_cat[test_cat.Color1== 'Black'])+\n",
        "         len(test_cat[test_cat.Color2== 'Black'])+\n",
        "         len(test_cat[test_cat.Color3== 'Black'])]\n",
        "\n",
        "Brown = [len(test_dog[test_dog.Color1== 'Brown'])+\n",
        "         len(test_dog[test_dog.Color2== 'Brown'])+\n",
        "         len(test_dog[test_dog.Color3== 'Brown']), \n",
        "         len(test_cat[test_cat.Color1== 'Brown'])+\n",
        "         len(test_cat[test_cat.Color2== 'Brown'])+\n",
        "         len(test_cat[test_cat.Color3== 'Brown'])]\n",
        "\n",
        "Golden = [len(test_dog[test_dog.Color1== 'Golden'])+\n",
        "         len(test_dog[test_dog.Color2== 'Golden'])+\n",
        "         len(test_dog[test_dog.Color3== 'Golden']), \n",
        "         len(test_cat[test_cat.Color1== 'Golden'])+\n",
        "         len(test_cat[test_cat.Color2== 'Golden'])+\n",
        "         len(test_cat[test_cat.Color3== 'Golden'])]\n",
        "\n",
        "Yellow = [len(test_dog[test_dog.Color1== 'Yellow'])+\n",
        "         len(test_dog[test_dog.Color2== 'Yellow'])+\n",
        "         len(test_dog[test_dog.Color3== 'Yellow']), \n",
        "         len(test_cat[test_cat.Color1== 'Yellow'])+\n",
        "         len(test_cat[test_cat.Color2== 'Yellow'])+\n",
        "         len(test_cat[test_cat.Color3== 'Yellow'])]\n",
        "\n",
        "Cream = [len(test_dog[test_dog.Color1== 'Cream'])+\n",
        "         len(test_dog[test_dog.Color2== 'Cream'])+\n",
        "         len(test_dog[test_dog.Color3== 'Cream']), \n",
        "         len(test_cat[test_cat.Color1== 'Cream'])+\n",
        "         len(test_cat[test_cat.Color2== 'Cream'])+\n",
        "         len(test_cat[test_cat.Color3== 'Cream'])]\n",
        "\n",
        "Gray = [len(test_dog[test_dog.Color1== 'Gray'])+\n",
        "         len(test_dog[test_dog.Color2== 'Gray'])+\n",
        "         len(test_dog[test_dog.Color3== 'Gray']), \n",
        "         len(test_cat[test_cat.Color1== 'Gray'])+\n",
        "         len(test_cat[test_cat.Color2== 'Gray'])+\n",
        "         len(test_cat[test_cat.Color3== 'Gray'])]\n",
        "\n",
        "White = [len(test_dog[test_dog.Color1== 'White'])+\n",
        "         len(test_dog[test_dog.Color2== 'White'])+\n",
        "         len(test_dog[test_dog.Color3== 'White']), \n",
        "         len(test_cat[test_cat.Color1== 'White'])+\n",
        "         len(test_cat[test_cat.Color2== 'White'])+\n",
        "         len(test_cat[test_cat.Color3== 'White'])]\n",
        "df = pd.DataFrame({'Black': Black,'Brown': Brown,'Golden': Golden,\n",
        "                   'Yellow': Yellow,'Cream': Cream,'Gray': Gray,\n",
        "                   'White': White}, index=types)\n",
        "\n",
        "ax = df.plot(kind='bar', color =[\"Black\",'Brown','gold','Yellow','bisque',\n",
        "                         'Gray','White'], \n",
        "                 title=\"Colors in testing dataset\")\n",
        "ax.legend(bbox_to_anchor=(1.3, 1))\n",
        "\n",
        "ax.set_facecolor('lightcoral')"
      ],
      "metadata": {
        "colab": {
          "base_uri": "https://localhost:8080/",
          "height": 291
        },
        "id": "kkDFoOGBkxup",
        "outputId": "f0abba4b-95d0-4aff-f110-4645360e6999"
      },
      "execution_count": 155,
      "outputs": [
        {
          "output_type": "display_data",
          "data": {
            "image/png": "[encoded data removed]",
            "text/plain": [
              "<Figure size 432x288 with 1 Axes>"
            ]
          },
          "metadata": {
            "needs_background": "light"
          }
        }
      ]
    },
    {
      "cell_type": "markdown",
      "source": [
        "The color distribution varies in testing set. Again white, brown and black are most common colors."
      ],
      "metadata": {
        "id": "vA2kbSChqz7a"
      }
    },
    {
      "cell_type": "markdown",
      "source": [
        "**IDEA:** \n",
        "If the Color1, Color2 and Color3 are correlated each other, we can remove the most correlated one. Let's test this idea and see the correlation matrix of colors:"
      ],
      "metadata": {
        "id": "hdPg_oLMrMlu"
      }
    },
    {
      "cell_type": "code",
      "source": [
        "import seaborn as sn\n",
        "\n",
        "cor_color= train[['Color1','Color2','Color3']].apply(lambda x : pd.factorize(x)[0]).corr(method='pearson', min_periods=1)\n",
        "fig, ax = plt.subplots(figsize=(5,4))         # Sample figsize in inches\n",
        "sn.heatmap(cor_color, annot=True, linewidths=.5, ax=ax)"
      ],
      "metadata": {
        "colab": {
          "base_uri": "https://localhost:8080/",
          "height": 286
        },
        "id": "6_wI6AXnqzax",
        "outputId": "fe5f58d3-cc49-495c-8796-04f51e373b87"
      },
      "execution_count": 170,
      "outputs": [
        {
          "output_type": "execute_result",
          "data": {
            "text/plain": [
              "<matplotlib.axes._subplots.AxesSubplot at 0x7fbd2c4c5c10>"
            ]
          },
          "metadata": {},
          "execution_count": 170
        },
        {
          "output_type": "display_data",
          "data": {
            "image/png": "[encoded data removed]",
            "text/plain": [
              "<Figure size 360x288 with 2 Axes>"
            ]
          },
          "metadata": {
            "needs_background": "light"
          }
        }
      ]
    },
    {
      "cell_type": "markdown",
      "source": [
        "Color2 and Color3 are correlated as 0.44 but that is not enough. We should get at least 0.80 for strong correlation. So colors are not correlated with each other."
      ],
      "metadata": {
        "id": "Vbjt3f6rsLH_"
      }
    },
    {
      "cell_type": "markdown",
      "source": [
        "##GENDER"
      ],
      "metadata": {
        "id": "mZTxbKDIsxT4"
      }
    },
    {
      "cell_type": "markdown",
      "source": [
        "Make a quick analysize for Gender"
      ],
      "metadata": {
        "id": "JcQo42fEs7CJ"
      }
    },
    {
      "cell_type": "code",
      "source": [
        "train_dog = train[train['Type'] == \"Dog\" ]\n",
        "train_cat = train[train['Type'] == \"Cat\" ]\n",
        "fig, (ax1,ax2) = plt.subplots(1,2, figsize=(10,10))  # 1 row, 2 columns\n",
        "plt.title(\"Genders of cats and dogs in TRAINING DATASET\")\n",
        "train_dog['Gender'].value_counts().plot(kind='pie', figsize=(9,9),ax=ax1,colors = ['green', 'purple'])\n",
        "train_cat['Gender'].value_counts().plot(kind='pie', figsize=(9,9),ax=ax2,colors = ['green', 'purple'])\n",
        "ax1.set_xlabel('DOGS')\n",
        "ax2.set_xlabel('CATS')\n"
      ],
      "metadata": {
        "colab": {
          "base_uri": "https://localhost:8080/",
          "height": 306
        },
        "id": "aLMfaTSUs3k_",
        "outputId": "f9f83fc1-152d-4b25-e202-555fd2ccf951"
      },
      "execution_count": 165,
      "outputs": [
        {
          "output_type": "execute_result",
          "data": {
            "text/plain": [
              "Text(0.5, 0, 'CATS')"
            ]
          },
          "metadata": {},
          "execution_count": 165
        },
        {
          "output_type": "display_data",
          "data": {
            "image/png": "[encoded data removed]",
            "text/plain": [
              "<Figure size 648x648 with 2 Axes>"
            ]
          },
          "metadata": {}
        }
      ]
    },
    {
      "cell_type": "markdown",
      "source": [
        "Females and males are almost equal in cats. There are more female in dogs but not in a problematic way. Gender distributions are OK in both cats and dogs."
      ],
      "metadata": {
        "id": "jpanTY_it4lq"
      }
    },
    {
      "cell_type": "markdown",
      "source": [
        "Now, let's see the gender proportions in testing dataset:"
      ],
      "metadata": {
        "id": "nJraLFoauF5s"
      }
    },
    {
      "cell_type": "code",
      "source": [
        "test_dog = test[test['Type'] == \"Dog\" ]\n",
        "test_cat = test[test['Type'] == \"Cat\" ]\n",
        "fig, (ax1,ax2) = plt.subplots(1,2, figsize=(10,10))  # 1 row, 2 columns\n",
        "plt.title(\"Genders of cats and dogs in TESTING DATASET\")\n",
        "test_dog['Gender'].value_counts().plot(kind='pie', figsize=(9,9),ax=ax1,colors = ['green', 'purple'])\n",
        "test_cat['Gender'].value_counts().plot(kind='pie', figsize=(9,9),ax=ax2,colors = ['green', 'purple'])\n",
        "ax1.set_xlabel('DOGS')\n",
        "ax2.set_xlabel('CATS')"
      ],
      "metadata": {
        "colab": {
          "base_uri": "https://localhost:8080/",
          "height": 306
        },
        "id": "r1H1qxtLtW8e",
        "outputId": "8737b9a8-829d-4df1-9ce4-fff042f5b2bf"
      },
      "execution_count": 166,
      "outputs": [
        {
          "output_type": "execute_result",
          "data": {
            "text/plain": [
              "Text(0.5, 0, 'CATS')"
            ]
          },
          "metadata": {},
          "execution_count": 166
        },
        {
          "output_type": "display_data",
          "data": {
            "image/png": "[encoded data removed]",
            "text/plain": [
              "<Figure size 648x648 with 2 Axes>"
            ]
          },
          "metadata": {}
        }
      ]
    },
    {
      "cell_type": "markdown",
      "source": [
        "The gender distribution in test data is not bad. Females are greater in cats and dogs however the difference is not huge."
      ],
      "metadata": {
        "id": "Jrzup7j2uWZC"
      }
    },
    {
      "cell_type": "markdown",
      "source": [
        "##Vaccinated, Dewormed, Sterilized and Health"
      ],
      "metadata": {
        "id": "Ge0Hu28PumIq"
      }
    },
    {
      "cell_type": "markdown",
      "source": [
        "Vaccination status, being dewormed,sterilization and health are important features for adoption. Let's analyse. "
      ],
      "metadata": {
        "id": "sN4duS04u3Jn"
      }
    },
    {
      "cell_type": "markdown",
      "source": [
        "First, look at the correlation matrix"
      ],
      "metadata": {
        "id": "bDkIkNPawke-"
      }
    },
    {
      "cell_type": "code",
      "source": [
        "corr_health= train[['Vaccinated', 'Dewormed', 'Sterilized', 'Health']].apply(lambda x : pd.factorize(x)[0]).corr(method='pearson', min_periods=1)\n",
        "fig, ax = plt.subplots(figsize=(5,4))        \n",
        "sn.heatmap(corr_health, annot=True, linewidths=.5, ax=ax)"
      ],
      "metadata": {
        "colab": {
          "base_uri": "https://localhost:8080/",
          "height": 286
        },
        "id": "4aVa550DuoTY",
        "outputId": "7d91ba2f-e031-47b6-fe8e-e92d60be169f"
      },
      "execution_count": 173,
      "outputs": [
        {
          "output_type": "execute_result",
          "data": {
            "text/plain": [
              "<matplotlib.axes._subplots.AxesSubplot at 0x7fbd1493b410>"
            ]
          },
          "metadata": {},
          "execution_count": 173
        },
        {
          "output_type": "display_data",
          "data": {
            "image/png": "[encoded data removed]",
            "text/plain": [
              "<Figure size 360x288 with 2 Axes>"
            ]
          },
          "metadata": {
            "needs_background": "light"
          }
        }
      ]
    },
    {
      "cell_type": "markdown",
      "source": [
        "They are not correlated with each other at all. In my opinion, healthy pets will be adopted more. Let's test this."
      ],
      "metadata": {
        "id": "CRkWhXchwvPu"
      }
    },
    {
      "cell_type": "markdown",
      "source": [
        "There are three options in Health column: Healthy, Minor Injury and Serious Injury. "
      ],
      "metadata": {
        "id": "6pkpsqfp05Kt"
      }
    },
    {
      "cell_type": "code",
      "source": [
        "print(train.Health.value_counts())\n",
        "train['Health'].value_counts().plot(kind='bar', figsize=(5,5), \n",
        "                                    color=\"olivedrab\")"
      ],
      "metadata": {
        "colab": {
          "base_uri": "https://localhost:8080/",
          "height": 465
        },
        "id": "e63ExxNKvr_o",
        "outputId": "419a7e7f-fc53-4ded-e096-ddaee09a0f34"
      },
      "execution_count": 189,
      "outputs": [
        {
          "output_type": "stream",
          "name": "stdout",
          "text": [
            "Healthy           7873\n",
            "Minor Injury       280\n",
            "Serious Injury      15\n",
            "Name: Health, dtype: int64\n"
          ]
        },
        {
          "output_type": "execute_result",
          "data": {
            "text/plain": [
              "<matplotlib.axes._subplots.AxesSubplot at 0x7fbd14485850>"
            ]
          },
          "metadata": {},
          "execution_count": 189
        },
        {
          "output_type": "display_data",
          "data": {
            "image/png": "[encoded data removed]",
            "text/plain": [
              "<Figure size 360x360 with 1 Axes>"
            ]
          },
          "metadata": {
            "needs_background": "light"
          }
        }
      ]
    },
    {
      "cell_type": "markdown",
      "source": [
        "Most pets are healthy in the training dataset. How about test data?"
      ],
      "metadata": {
        "id": "EjvxIoj41MJd"
      }
    },
    {
      "cell_type": "code",
      "source": [
        "print(test.Health.value_counts())\n",
        "test['Health'].value_counts().plot(kind='bar', figsize=(5,5), \n",
        "                                    color=\"indigo\")"
      ],
      "metadata": {
        "colab": {
          "base_uri": "https://localhost:8080/",
          "height": 438
        },
        "id": "PkEingN1yTnn",
        "outputId": "f50addd3-8594-434d-c848-2429ae608e05"
      },
      "execution_count": 191,
      "outputs": [
        {
          "output_type": "stream",
          "name": "stdout",
          "text": [
            "Healthy         245\n",
            "Minor Injury      5\n",
            "Name: Health, dtype: int64\n"
          ]
        },
        {
          "output_type": "execute_result",
          "data": {
            "text/plain": [
              "<matplotlib.axes._subplots.AxesSubplot at 0x7fbd1468fd50>"
            ]
          },
          "metadata": {},
          "execution_count": 191
        },
        {
          "output_type": "display_data",
          "data": {
            "image/png": "[encoded data removed]",
            "text/plain": [
              "<Figure size 360x360 with 1 Axes>"
            ]
          },
          "metadata": {
            "needs_background": "light"
          }
        }
      ]
    },
    {
      "cell_type": "markdown",
      "source": [
        "There is no 'Serious Injury' category in test data. It is ok because it is very less in the training data."
      ],
      "metadata": {
        "id": "iExTxqUQ1bW_"
      }
    },
    {
      "cell_type": "markdown",
      "source": [
        "How about the Health condition and the adaptation? "
      ],
      "metadata": {
        "id": "5fER_voX1s4Z"
      }
    },
    {
      "cell_type": "code",
      "source": [
        "train_healthy = train[train['Health'] == \"Healthy\" ]\n",
        "train_minor = train[train['Health'] == \"Minor Injury\" ]\n",
        "train_serious = train[train['Health'] == \"Serious Injury\" ]\n",
        "\n",
        "types= [\"Healthy\", \"Minor Injury\",\"Serious Injury\"]\n",
        "\n",
        "trues = [len(train_healthy[train_healthy.target== True]), \n",
        "         len(train_minor[train_minor.target== True]),\n",
        "         len(train_serious[train_serious.target== True])]\n",
        "# False = The pet can be adopted in 30 days\n",
        "falses = [len(train_healthy[train_healthy.target== False]), \n",
        "         len(train_minor[train_minor.target== False]),\n",
        "         len(train_serious[train_serious.target== False])]\n",
        "df = pd.DataFrame({'True': trues,'False': falses}, index=types)\n",
        "ax = df.plot.bar(color =[\"gold\",\"darkviolet\"], \n",
        "                 title=\"How likely pets get adopted in 30 days?\")"
      ],
      "metadata": {
        "colab": {
          "base_uri": "https://localhost:8080/",
          "height": 340
        },
        "id": "1ZxraC4EzQkJ",
        "outputId": "9facea41-02a2-4ac2-d91d-1328b1ef8ed2"
      },
      "execution_count": 194,
      "outputs": [
        {
          "output_type": "display_data",
          "data": {
            "image/png": "[encoded data removed]",
            "text/plain": [
              "<Figure size 432x288 with 1 Axes>"
            ]
          },
          "metadata": {
            "needs_background": "light"
          }
        }
      ]
    },
    {
      "cell_type": "markdown",
      "source": [
        "Results show that if a pet is healthy, there is no quarantee that it will get adopted. Let's make this analysis with vaccination. There are 3 types in this column: Unknown, No, Yes."
      ],
      "metadata": {
        "id": "mPbI48T55xmn"
      }
    },
    {
      "cell_type": "code",
      "source": [
        "train.Vaccinated.value_counts()"
      ],
      "metadata": {
        "colab": {
          "base_uri": "https://localhost:8080/"
        },
        "id": "76mtS0ey78ZO",
        "outputId": "95fbf68d-977b-413d-8331-b31d2cb9b43c"
      },
      "execution_count": 197,
      "outputs": [
        {
          "output_type": "execute_result",
          "data": {
            "text/plain": [
              "Yes        3742\n",
              "No         3409\n",
              "Unknown    1017\n",
              "Name: Vaccinated, dtype: int64"
            ]
          },
          "metadata": {},
          "execution_count": 197
        }
      ]
    },
    {
      "cell_type": "markdown",
      "source": [
        "Let's plot these 3 types and see how the pets' adaption is affected:"
      ],
      "metadata": {
        "id": "flODhpXq8dcS"
      }
    },
    {
      "cell_type": "code",
      "source": [
        "train_vac = train[train['Vaccinated'] == \"Yes\" ]\n",
        "train_not_vac = train[train['Vaccinated'] == \"No\" ]\n",
        "train_unknown = train[train['Vaccinated'] == \"Unknown\" ]\n",
        "\n",
        "types= [\"Yes\", \"No\",\"Unknown\"]\n",
        "\n",
        "trues = [len(train_vac[train_vac.target== True]), \n",
        "         len(train_not_vac[train_not_vac.target== True]),\n",
        "         len(train_unknown[train_unknown.target== True])]\n",
        "# False = The pet can be adopted in 30 days\n",
        "falses = [len(train_vac[train_vac.target== False]), \n",
        "         len(train_not_vac[train_not_vac.target== False]),\n",
        "         len(train_unknown[train_unknown.target== False])]\n",
        "df = pd.DataFrame({'True': trues,'False': falses}, index=types)\n",
        "ax = df.plot.bar(color =[\"mediumvioletred\",\"goldenrod\"], \n",
        "                 title=\"How likely pets get adopted in 30 days?\")"
      ],
      "metadata": {
        "colab": {
          "base_uri": "https://localhost:8080/",
          "height": 318
        },
        "id": "XCXRiisZ3caL",
        "outputId": "8521147e-fb21-4095-f41f-90198ca8ed23"
      },
      "execution_count": 200,
      "outputs": [
        {
          "output_type": "display_data",
          "data": {
            "image/png": "[encoded data removed]",
            "text/plain": [
              "<Figure size 432x288 with 1 Axes>"
            ]
          },
          "metadata": {
            "needs_background": "light"
          }
        }
      ]
    },
    {
      "cell_type": "markdown",
      "source": [
        "Interestingly people prefer not-vaccinated pets more. Maybe they want to start vaccination from zero and take them to vets themselves."
      ],
      "metadata": {
        "id": "AD8bR3w58lnv"
      }
    },
    {
      "cell_type": "markdown",
      "source": [
        "##BREED"
      ],
      "metadata": {
        "id": "M-j-fkvP9TvM"
      }
    },
    {
      "cell_type": "code",
      "source": [
        ""
      ],
      "metadata": {
        "id": "j5kTwX8J9Ukk"
      },
      "execution_count": null,
      "outputs": []
    }
  ]
}