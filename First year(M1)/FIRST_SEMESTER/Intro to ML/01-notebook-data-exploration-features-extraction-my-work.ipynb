{
 "cells": [
  {
   "cell_type": "markdown",
   "id": "f0cb25b9",
   "metadata": {},
   "source": [
    "# Data exploration and Feature extraction\n",
    "\n",
    "sources:\n",
    "* https://www.sharpsightlabs.com/blog/data-analysis-machine-learning-example-1/\n",
    "\n",
    "**THE MAIN PREREQUISITE FOR MACHINE LEARNING IS DATA ANALYSIS**\n",
    "\n",
    "**80% OF THE DATA SCIENTIST WORK WILL BE DATA PREPARATION, EDA, AND VISUALIZATION**\n",
    "\n",
    "![image](https://cdn-coiao.nitrocdn.com/CYHudqJZsSxQpAPzLkHFOkuzFKDpEHGF/assets/static/optimized/wp-content/uploads/2016/05/163e383d244161938573edbab7670f76.2016-05-07_data-analysis-is-the-prerequisite_how-we-use-dataAnalysis.png)"
   ]
  },
  {
   "cell_type": "code",
   "execution_count": 1,
   "id": "316faf81",
   "metadata": {
    "ExecuteTime": {
     "end_time": "2021-10-04T12:06:43.415824Z",
     "start_time": "2021-10-04T12:06:22.155625Z"
    }
   },
   "outputs": [],
   "source": [
    "import matplotlib.pyplot as plt\n",
    "import pandas as pd\n",
    "import numpy as np\n",
    "import seaborn as sns\n",
    "\n",
    "from sklearn.compose import ColumnTransformer\n",
    "from sklearn.pipeline import Pipeline, FeatureUnion\n",
    "from sklearn.impute import SimpleImputer\n",
    "from sklearn.preprocessing import StandardScaler, OneHotEncoder\n",
    "\n",
    "import warnings\n",
    "warnings.filterwarnings('ignore')"
   ]
  },
  {
   "cell_type": "markdown",
   "id": "f0e53168",
   "metadata": {
    "toc": true
   },
   "source": [
    "<h1>Table of Contents<span class=\"tocSkip\"></span></h1>\n",
    "<div class=\"toc\"><ul class=\"toc-item\"><li><span><a href=\"#Step-1:-get-the-data\" data-toc-modified-id=\"Step-1:-get-the-data-1\"><span class=\"toc-item-num\">1&nbsp;&nbsp;</span>Step 1: get the data</a></span></li><li><span><a href=\"#Step-2:-basic-data-exploration\" data-toc-modified-id=\"Step-2:-basic-data-exploration-2\"><span class=\"toc-item-num\">2&nbsp;&nbsp;</span>Step 2: basic data exploration</a></span><ul class=\"toc-item\"><li><span><a href=\"#Missing-value\" data-toc-modified-id=\"Missing-value-2.1\"><span class=\"toc-item-num\">2.1&nbsp;&nbsp;</span>Missing value</a></span></li><li><span><a href=\"#View-data-distribution\" data-toc-modified-id=\"View-data-distribution-2.2\"><span class=\"toc-item-num\">2.2&nbsp;&nbsp;</span>View data distribution</a></span></li><li><span><a href=\"#Identify-outlier\" data-toc-modified-id=\"Identify-outlier-2.3\"><span class=\"toc-item-num\">2.3&nbsp;&nbsp;</span>Identify outlier</a></span></li><li><span><a href=\"#Check-correlation-between-features\" data-toc-modified-id=\"Check-correlation-between-features-2.4\"><span class=\"toc-item-num\">2.4&nbsp;&nbsp;</span>Check correlation between features</a></span></li></ul></li><li><span><a href=\"#Prepare-dataset\" data-toc-modified-id=\"Prepare-dataset-3\"><span class=\"toc-item-num\">3&nbsp;&nbsp;</span>Prepare dataset</a></span><ul class=\"toc-item\"><li><span><a href=\"#Split-the-dataset\" data-toc-modified-id=\"Split-the-dataset-3.1\"><span class=\"toc-item-num\">3.1&nbsp;&nbsp;</span>Split the dataset</a></span></li><li><span><a href=\"#Build-the-pipeline\" data-toc-modified-id=\"Build-the-pipeline-3.2\"><span class=\"toc-item-num\">3.2&nbsp;&nbsp;</span>Build the pipeline</a></span></li></ul></li><li><span><a href=\"#Your-work---Palmer-Archipelago-(Antarctica)-penguin-data\" data-toc-modified-id=\"Your-work---Palmer-Archipelago-(Antarctica)-penguin-data-4\"><span class=\"toc-item-num\">4&nbsp;&nbsp;</span>Your work - Palmer Archipelago (Antarctica) penguin data</a></span></li></ul></div>"
   ]
  },
  {
   "cell_type": "markdown",
   "id": "3a117325",
   "metadata": {},
   "source": [
    "## Your work - Palmer Archipelago (Antarctica) penguin data\n",
    "\n",
    "Data were collected and made available by Dr. Kristen Gorman and the Palmer Station, Antarctica LTER, a member of the Long Term Ecological Research Network. \n",
    "\n",
    "Please cite this data using: *Gorman KB, Williams TD, Fraser WR (2014) Ecological Sexual Dimorphism and Environmental Variability within a Community of Antarctic Penguins (Genus Pygoscelis). PLoS ONE 9(3): e90081. doi:10.1371/journal.pone.0090081*\n",
    "\n",
    "`penguins_size.csv` is simplified data from original penguin data sets and contains variables:\n",
    "\n",
    "* species: penguin species (Chinstrap, Adélie, or Gentoospecies: penguin species (Chinstrap, Adélie, or Gentoo`)\n",
    "* culmen_length_mm: culmen length (mm) \n",
    "* culmen_depth_mm: culmen depth (mm) \n",
    "* flipper_length_mm: flipper length (mm) \n",
    "* body_mass_g: body mass (g) \n",
    "* island: island name (Dream, Torgersen, or Biscoe) in the Palmer Archipelago (Antarctica)\n",
    "* sex: penguin sex\n",
    "\n",
    "The culmen is \"the upper ridge of a bird's beak\" (definition from Oxford Languages). \n",
    "\n",
    "The goal, is to predict the species ![species](https://imgur.com/orZWHly.png)"
   ]
  },
  {
   "cell_type": "code",
   "execution_count": 23,
   "id": "697d32eb",
   "metadata": {
    "ExecuteTime": {
     "end_time": "2021-09-27T15:51:56.241204Z",
     "start_time": "2021-09-27T15:51:56.237729Z"
    }
   },
   "outputs": [],
   "source": [
    "import ssl\n",
    "\n",
    "try:\n",
    "    _create_unverified_https_context = ssl._create_unverified_context\n",
    "except AttributeError:\n",
    "    # Legacy Python that doesn't verify HTTPS certificates by default\n",
    "    pass\n",
    "else:\n",
    "    # Handle target environment that doesn't support HTTPS verification\n",
    "    ssl._create_default_https_context = _create_unverified_https_context"
   ]
  },
  {
   "cell_type": "code",
   "execution_count": 24,
   "id": "03ee2e1c",
   "metadata": {
    "ExecuteTime": {
     "end_time": "2021-09-27T15:51:56.311691Z",
     "start_time": "2021-09-27T15:51:56.244273Z"
    }
   },
   "outputs": [
    {
     "data": {
      "text/html": [
       "<div>\n",
       "<style scoped>\n",
       "    .dataframe tbody tr th:only-of-type {\n",
       "        vertical-align: middle;\n",
       "    }\n",
       "\n",
       "    .dataframe tbody tr th {\n",
       "        vertical-align: top;\n",
       "    }\n",
       "\n",
       "    .dataframe thead th {\n",
       "        text-align: right;\n",
       "    }\n",
       "</style>\n",
       "<table border=\"1\" class=\"dataframe\">\n",
       "  <thead>\n",
       "    <tr style=\"text-align: right;\">\n",
       "      <th></th>\n",
       "      <th>species</th>\n",
       "      <th>island</th>\n",
       "      <th>culmen_length_mm</th>\n",
       "      <th>culmen_depth_mm</th>\n",
       "      <th>flipper_length_mm</th>\n",
       "      <th>body_mass_g</th>\n",
       "      <th>sex</th>\n",
       "    </tr>\n",
       "  </thead>\n",
       "  <tbody>\n",
       "    <tr>\n",
       "      <th>0</th>\n",
       "      <td>Adelie</td>\n",
       "      <td>Torgersen</td>\n",
       "      <td>39.1</td>\n",
       "      <td>18.7</td>\n",
       "      <td>181.0</td>\n",
       "      <td>3750.0</td>\n",
       "      <td>MALE</td>\n",
       "    </tr>\n",
       "    <tr>\n",
       "      <th>1</th>\n",
       "      <td>Adelie</td>\n",
       "      <td>Torgersen</td>\n",
       "      <td>39.5</td>\n",
       "      <td>17.4</td>\n",
       "      <td>186.0</td>\n",
       "      <td>3800.0</td>\n",
       "      <td>FEMALE</td>\n",
       "    </tr>\n",
       "    <tr>\n",
       "      <th>2</th>\n",
       "      <td>Adelie</td>\n",
       "      <td>Torgersen</td>\n",
       "      <td>40.3</td>\n",
       "      <td>18.0</td>\n",
       "      <td>195.0</td>\n",
       "      <td>3250.0</td>\n",
       "      <td>FEMALE</td>\n",
       "    </tr>\n",
       "    <tr>\n",
       "      <th>3</th>\n",
       "      <td>Adelie</td>\n",
       "      <td>Torgersen</td>\n",
       "      <td>NaN</td>\n",
       "      <td>NaN</td>\n",
       "      <td>NaN</td>\n",
       "      <td>NaN</td>\n",
       "      <td>NaN</td>\n",
       "    </tr>\n",
       "    <tr>\n",
       "      <th>4</th>\n",
       "      <td>Adelie</td>\n",
       "      <td>Torgersen</td>\n",
       "      <td>36.7</td>\n",
       "      <td>19.3</td>\n",
       "      <td>193.0</td>\n",
       "      <td>3450.0</td>\n",
       "      <td>FEMALE</td>\n",
       "    </tr>\n",
       "  </tbody>\n",
       "</table>\n",
       "</div>"
      ],
      "text/plain": [
       "  species     island  culmen_length_mm  culmen_depth_mm  flipper_length_mm  \\\n",
       "0  Adelie  Torgersen              39.1             18.7              181.0   \n",
       "1  Adelie  Torgersen              39.5             17.4              186.0   \n",
       "2  Adelie  Torgersen              40.3             18.0              195.0   \n",
       "3  Adelie  Torgersen               NaN              NaN                NaN   \n",
       "4  Adelie  Torgersen              36.7             19.3              193.0   \n",
       "\n",
       "   body_mass_g     sex  \n",
       "0       3750.0    MALE  \n",
       "1       3800.0  FEMALE  \n",
       "2       3250.0  FEMALE  \n",
       "3          NaN     NaN  \n",
       "4       3450.0  FEMALE  "
      ]
     },
     "execution_count": 24,
     "metadata": {},
     "output_type": "execute_result"
    }
   ],
   "source": [
    "# Read dataset with pandas\n",
    "path = \"http://www.i3s.unice.fr/~riveill/dataset/penguins_size.csv\"\n",
    "\n",
    "penguins = pd.read_csv(path)\n",
    "penguins.head(5)"
   ]
  },
  {
   "cell_type": "code",
   "execution_count": 25,
   "id": "7ccc80ee",
   "metadata": {
    "ExecuteTime": {
     "end_time": "2021-09-27T15:51:56.319700Z",
     "start_time": "2021-09-27T15:51:56.313978Z"
    }
   },
   "outputs": [
    {
     "data": {
      "text/plain": [
       "species               object\n",
       "island                object\n",
       "culmen_length_mm     float64\n",
       "culmen_depth_mm      float64\n",
       "flipper_length_mm    float64\n",
       "body_mass_g          float64\n",
       "sex                   object\n",
       "dtype: object"
      ]
     },
     "execution_count": 25,
     "metadata": {},
     "output_type": "execute_result"
    }
   ],
   "source": [
    "# Look at the initial type of each column\n",
    "penguins.dtypes"
   ]
  },
  {
   "cell_type": "code",
   "execution_count": 26,
   "id": "1f723219",
   "metadata": {
    "ExecuteTime": {
     "end_time": "2021-09-27T15:51:56.330814Z",
     "start_time": "2021-09-27T15:51:56.322236Z"
    }
   },
   "outputs": [
    {
     "data": {
      "text/plain": [
       "species              category\n",
       "island               category\n",
       "culmen_length_mm      float64\n",
       "culmen_depth_mm       float64\n",
       "flipper_length_mm     float64\n",
       "body_mass_g           float64\n",
       "sex                  category\n",
       "dtype: object"
      ]
     },
     "execution_count": 26,
     "metadata": {},
     "output_type": "execute_result"
    }
   ],
   "source": [
    "# Assign the correct type to each column\n",
    "penguins = penguins.astype({'species':'category', 'island':'category', 'sex':'category'})\n",
    "penguins.dtypes"
   ]
  },
  {
   "cell_type": "code",
   "execution_count": 27,
   "id": "d0e18a71",
   "metadata": {
    "ExecuteTime": {
     "end_time": "2021-09-27T15:51:56.337211Z",
     "start_time": "2021-09-27T15:51:56.332938Z"
    }
   },
   "outputs": [],
   "source": [
    "# Replace the name of the target column with target\n",
    "penguins = penguins.rename(columns={'species':'target'})"
   ]
  },
  {
   "cell_type": "code",
   "execution_count": 28,
   "id": "e95c0439",
   "metadata": {
    "ExecuteTime": {
     "end_time": "2021-09-27T15:51:56.346640Z",
     "start_time": "2021-09-27T15:51:56.339525Z"
    }
   },
   "outputs": [
    {
     "data": {
      "text/plain": [
       "target                0\n",
       "island                0\n",
       "culmen_length_mm      2\n",
       "culmen_depth_mm       2\n",
       "flipper_length_mm     2\n",
       "body_mass_g           2\n",
       "sex                  10\n",
       "dtype: int64"
      ]
     },
     "execution_count": 28,
     "metadata": {},
     "output_type": "execute_result"
    }
   ],
   "source": [
    "# Are there any missing values ?\n",
    "penguins.isnull().sum()"
   ]
  },
  {
   "cell_type": "markdown",
   "id": "9b022f7c",
   "metadata": {},
   "source": [
    "We have just seen that we can process the missing values in the pipeline. However, as we are going to explore the data, it may be interesting to remove the missing values first. "
   ]
  },
  {
   "cell_type": "code",
   "execution_count": 29,
   "id": "962e1aa4",
   "metadata": {
    "ExecuteTime": {
     "end_time": "2021-09-27T15:51:56.360723Z",
     "start_time": "2021-09-27T15:51:56.355175Z"
    }
   },
   "outputs": [],
   "source": [
    "# Remove missing values, by preparing a new dataframe\n",
    "pengins_cleaned = penguins.dropna()"
   ]
  },
  {
   "cell_type": "code",
   "execution_count": 30,
   "id": "908f088e",
   "metadata": {
    "ExecuteTime": {
     "end_time": "2021-09-27T15:51:56.370686Z",
     "start_time": "2021-09-27T15:51:56.365268Z"
    }
   },
   "outputs": [
    {
     "data": {
      "text/plain": [
       "target               0\n",
       "island               0\n",
       "culmen_length_mm     0\n",
       "culmen_depth_mm      0\n",
       "flipper_length_mm    0\n",
       "body_mass_g          0\n",
       "sex                  0\n",
       "dtype: int64"
      ]
     },
     "execution_count": 30,
     "metadata": {},
     "output_type": "execute_result"
    }
   ],
   "source": [
    "# Check that this new dataset does not contain any missing values\n",
    "pengins_cleaned.isnull().sum()"
   ]
  },
  {
   "cell_type": "code",
   "execution_count": 31,
   "id": "44d5e573",
   "metadata": {
    "ExecuteTime": {
     "end_time": "2021-09-27T15:51:56.470589Z",
     "start_time": "2021-09-27T15:51:56.372602Z"
    }
   },
   "outputs": [
    {
     "data": {
      "text/plain": [
       "<AxesSubplot:ylabel='target'>"
      ]
     },
     "execution_count": 31,
     "metadata": {},
     "output_type": "execute_result"
    },
    {
     "data": {
      "image/png": "[encoded data removed]",
      "text/plain": [
       "<Figure size 432x288 with 1 Axes>"
      ]
     },
     "metadata": {},
     "output_type": "display_data"
    }
   ],
   "source": [
    "# Is the dataset well balanced? To do so, display the histogram or a pie of the target class.\n",
    "pengins_cleaned['target'].value_counts().plot.pie()"
   ]
  },
  {
   "cell_type": "code",
   "execution_count": 32,
   "id": "fa036a1e",
   "metadata": {
    "ExecuteTime": {
     "end_time": "2021-09-27T15:51:57.351401Z",
     "start_time": "2021-09-27T15:51:56.473438Z"
    }
   },
   "outputs": [
    {
     "data": {
      "image/png": "[encoded data removed]",
      "text/plain": [
       "<Figure size 1080x648 with 16 Axes>"
      ]
     },
     "metadata": {
      "needs_background": "light"
     },
     "output_type": "display_data"
    }
   ],
   "source": [
    "# Plot the distribution of each features\n",
    "pengins_cleaned.hist(layout=(4,4), bins=50, xlabelsize=8, ylabelsize=8, figsize=(15,9));"
   ]
  },
  {
   "cell_type": "code",
   "execution_count": 33,
   "id": "aa2439d5",
   "metadata": {
    "ExecuteTime": {
     "end_time": "2021-09-27T15:51:59.855772Z",
     "start_time": "2021-09-27T15:51:57.354030Z"
    }
   },
   "outputs": [
    {
     "data": {
      "image/png": "[encoded data removed]",
      "text/plain": [
       "<Figure size 1080x648 with 16 Axes>"
      ]
     },
     "metadata": {
      "needs_background": "light"
     },
     "output_type": "display_data"
    },
    {
     "data": {
      "image/png": "[encoded data removed]",
      "text/plain": [
       "<Figure size 1080x648 with 16 Axes>"
      ]
     },
     "metadata": {
      "needs_background": "light"
     },
     "output_type": "display_data"
    },
    {
     "data": {
      "image/png": "[encoded data removed]",
      "text/plain": [
       "<Figure size 1080x648 with 16 Axes>"
      ]
     },
     "metadata": {
      "needs_background": "light"
     },
     "output_type": "display_data"
    }
   ],
   "source": [
    "# Plot the distribution of each features by target class\n",
    "pengins_cleaned.groupby(\"target\").hist(layout=(4,4), bins=50, xlabelsize=8, ylabelsize=8, figsize=(15,9));"
   ]
  },
  {
   "cell_type": "code",
   "execution_count": 34,
   "id": "b24c9a03",
   "metadata": {
    "ExecuteTime": {
     "end_time": "2021-09-27T15:52:00.108075Z",
     "start_time": "2021-09-27T15:51:59.857756Z"
    }
   },
   "outputs": [
    {
     "data": {
      "image/png": "[encoded data removed]",
      "text/plain": [
       "<Figure size 432x288 with 2 Axes>"
      ]
     },
     "metadata": {
      "needs_background": "light"
     },
     "output_type": "display_data"
    }
   ],
   "source": [
    "# Plot the distribution and the density of the culmen_length_mm features by target class\n",
    "fig, axes = plt.subplots(nrows=1, ncols=2)\n",
    "\n",
    "pengins_cleaned.groupby(\"target\")['culmen_length_mm'].hist(alpha=0.4, ax=axes[0]);\n",
    "pengins_cleaned.groupby(\"target\")['culmen_length_mm'].plot.kde(alpha=0.4, ax=axes[1]);"
   ]
  },
  {
   "cell_type": "code",
   "execution_count": 35,
   "id": "558ca6b9",
   "metadata": {
    "ExecuteTime": {
     "end_time": "2021-09-27T15:52:01.105818Z",
     "start_time": "2021-09-27T15:52:00.110158Z"
    }
   },
   "outputs": [
    {
     "data": {
      "image/png": "[encoded data removed]",
      "text/plain": [
       "<Figure size 900x180 with 6 Axes>"
      ]
     },
     "metadata": {
      "needs_background": "light"
     },
     "output_type": "display_data"
    },
    {
     "data": {
      "image/png": "[encoded data removed]",
      "text/plain": [
       "<Figure size 360x180 with 2 Axes>"
      ]
     },
     "metadata": {
      "needs_background": "light"
     },
     "output_type": "display_data"
    }
   ],
   "source": [
    "# Try to identify outliers\n",
    "for i in range(0, len(pengins_cleaned.columns), 5):\n",
    "    sns.pairplot(data=pengins_cleaned,\n",
    "                x_vars=pengins_cleaned.columns[i:i+5],\n",
    "                y_vars=['target'])"
   ]
  },
  {
   "cell_type": "markdown",
   "id": "0e3b7f66",
   "metadata": {},
   "source": [
    "It seems that the sex is not known for some observations. We could delete them."
   ]
  },
  {
   "cell_type": "code",
   "execution_count": 36,
   "id": "c4728bb6",
   "metadata": {
    "ExecuteTime": {
     "end_time": "2021-09-27T15:52:01.842492Z",
     "start_time": "2021-09-27T15:52:01.118243Z"
    }
   },
   "outputs": [
    {
     "data": {
      "image/png": "[encoded data removed]",
      "text/plain": [
       "<Figure size 900x180 with 6 Axes>"
      ]
     },
     "metadata": {
      "needs_background": "light"
     },
     "output_type": "display_data"
    },
    {
     "data": {
      "image/png": "[encoded data removed]",
      "text/plain": [
       "<Figure size 360x180 with 2 Axes>"
      ]
     },
     "metadata": {
      "needs_background": "light"
     },
     "output_type": "display_data"
    }
   ],
   "source": [
    "# Remove the detected outlier\n",
    "pengins_cleaned = pengins_cleaned.drop(pengins_cleaned[pengins_cleaned['sex']==\".\"].index)\n",
    "\n",
    "for i in range(0, len(pengins_cleaned.columns), 5):\n",
    "    sns.pairplot(data=pengins_cleaned,\n",
    "                x_vars=pengins_cleaned.columns[i:i+5],\n",
    "                y_vars=['target'])"
   ]
  },
  {
   "cell_type": "code",
   "execution_count": 37,
   "id": "0a61ec7f",
   "metadata": {
    "ExecuteTime": {
     "end_time": "2021-09-27T15:52:02.005364Z",
     "start_time": "2021-09-27T15:52:01.844139Z"
    }
   },
   "outputs": [
    {
     "data": {
      "image/png": "[encoded data removed]",
      "text/plain": [
       "<Figure size 432x288 with 2 Axes>"
      ]
     },
     "metadata": {
      "needs_background": "light"
     },
     "output_type": "display_data"
    }
   ],
   "source": [
    "# Using sns, display the correlations between the features. What do you observe?\n",
    "sns.heatmap(pengins_cleaned.corr().abs());"
   ]
  },
  {
   "cell_type": "markdown",
   "id": "9685b984",
   "metadata": {},
   "source": [
    "Contrary to the previous example, it is not possible to have a correlation between all the features. It is only possible between numerical values."
   ]
  },
  {
   "cell_type": "markdown",
   "id": "cfe1b57b",
   "metadata": {},
   "source": [
    "We will now prepare the dataset, to build a first model"
   ]
  },
  {
   "cell_type": "code",
   "execution_count": 38,
   "id": "518f26dc",
   "metadata": {
    "ExecuteTime": {
     "end_time": "2021-09-27T15:52:02.014757Z",
     "start_time": "2021-09-27T15:52:02.007096Z"
    }
   },
   "outputs": [
    {
     "data": {
      "text/plain": [
       "((258, 6), (86, 6), (258,), (86,))"
      ]
     },
     "execution_count": 38,
     "metadata": {},
     "output_type": "execute_result"
    }
   ],
   "source": [
    "# Starting from the original, non-cleaned dataset, split the dataset with a ratio of 0.2\n",
    "from sklearn.model_selection import train_test_split\n",
    "\n",
    "# target in \"y\"\n",
    "y = penguins['target']\n",
    "\n",
    "# feature matrix in \"X\" \n",
    "columns = list(penguins.columns)\n",
    "columns.remove('target')\n",
    "X = penguins[columns]\n",
    "\n",
    "X_train, X_test, y_train, y_test = train_test_split(X, y, test_size=0.25, random_state=42)\n",
    "X_train.shape, X_test.shape, y_train.shape, y_test.shape"
   ]
  },
  {
   "cell_type": "code",
   "execution_count": 39,
   "id": "fe1d1bd9",
   "metadata": {
    "ExecuteTime": {
     "end_time": "2021-09-27T15:52:02.021031Z",
     "start_time": "2021-09-27T15:52:02.016379Z"
    }
   },
   "outputs": [
    {
     "data": {
      "text/plain": [
       "['culmen_length_mm', 'culmen_depth_mm', 'flipper_length_mm', 'body_mass_g']"
      ]
     },
     "execution_count": 39,
     "metadata": {},
     "output_type": "execute_result"
    }
   ],
   "source": [
    "'''\n",
    "Build a pipeline that\n",
    "- replaces missing numerical values with the mean value\n",
    "- replaces missing categorical values with the most frequent value\n",
    "- normalizes the numerical features\n",
    "- one hot encodes the other categorical features\n",
    "'''\n",
    "numeric_features = [f for f, t in zip(X_train.columns, X_train.dtypes) if t in ['float64', 'int32']]\n",
    "numeric_transformer = Pipeline(steps=[\n",
    "    ('imputer', SimpleImputer(strategy='median')),\n",
    "    ('scaler', StandardScaler())])\n",
    "numeric_features"
   ]
  },
  {
   "cell_type": "code",
   "execution_count": 40,
   "id": "53af4bc0",
   "metadata": {
    "ExecuteTime": {
     "end_time": "2021-09-27T15:52:02.026308Z",
     "start_time": "2021-09-27T15:52:02.022748Z"
    }
   },
   "outputs": [
    {
     "data": {
      "text/plain": [
       "['island', 'sex']"
      ]
     },
     "execution_count": 40,
     "metadata": {},
     "output_type": "execute_result"
    }
   ],
   "source": [
    "categorical_features = [f for f in X_train.columns if f not in numeric_features]\n",
    "categorical_transformer = Pipeline(steps=[\n",
    "    ('imputer', SimpleImputer(strategy='most_frequent')),\n",
    "    ('encoding', OneHotEncoder(handle_unknown='ignore'))])\n",
    "categorical_features"
   ]
  },
  {
   "cell_type": "code",
   "execution_count": 41,
   "id": "26d008f9",
   "metadata": {
    "ExecuteTime": {
     "end_time": "2021-09-27T15:52:02.030192Z",
     "start_time": "2021-09-27T15:52:02.027854Z"
    }
   },
   "outputs": [],
   "source": [
    "preprocessor = ColumnTransformer(\n",
    "    transformers=[\n",
    "        ('num', numeric_transformer, numeric_features),\n",
    "        ('cat', categorical_transformer, categorical_features)])"
   ]
  },
  {
   "cell_type": "code",
   "execution_count": 42,
   "id": "f85d94f3",
   "metadata": {
    "ExecuteTime": {
     "end_time": "2021-09-27T15:52:02.034544Z",
     "start_time": "2021-09-27T15:52:02.031890Z"
    }
   },
   "outputs": [],
   "source": [
    "# Append classifier to preprocessing pipeline.\n",
    "# Now we have a full prediction pipeline.\n",
    "from sklearn.linear_model import LogisticRegression\n",
    "\n",
    "clf = Pipeline(steps=[('preprocessor', preprocessor),\n",
    "                      ('regressor', LogisticRegression())])"
   ]
  },
  {
   "cell_type": "code",
   "execution_count": 43,
   "id": "6bf6171e",
   "metadata": {
    "ExecuteTime": {
     "end_time": "2021-09-27T15:52:02.134254Z",
     "start_time": "2021-09-27T15:52:02.036350Z"
    }
   },
   "outputs": [
    {
     "data": {
      "text/plain": [
       "Pipeline(steps=[('preprocessor',\n",
       "                 ColumnTransformer(transformers=[('num',\n",
       "                                                  Pipeline(steps=[('imputer',\n",
       "                                                                   SimpleImputer(strategy='median')),\n",
       "                                                                  ('scaler',\n",
       "                                                                   StandardScaler())]),\n",
       "                                                  ['culmen_length_mm',\n",
       "                                                   'culmen_depth_mm',\n",
       "                                                   'flipper_length_mm',\n",
       "                                                   'body_mass_g']),\n",
       "                                                 ('cat',\n",
       "                                                  Pipeline(steps=[('imputer',\n",
       "                                                                   SimpleImputer(strategy='most_frequent')),\n",
       "                                                                  ('encoding',\n",
       "                                                                   OneHotEncoder(handle_unknown='ignore'))]),\n",
       "                                                  ['island', 'sex'])])),\n",
       "                ('regressor', LogisticRegression())])"
      ]
     },
     "execution_count": 43,
     "metadata": {},
     "output_type": "execute_result"
    }
   ],
   "source": [
    "# Model training\n",
    "clf.fit(X_train, y_train)"
   ]
  },
  {
   "cell_type": "code",
   "execution_count": 44,
   "id": "c0b732f8",
   "metadata": {
    "ExecuteTime": {
     "end_time": "2021-09-27T15:52:02.144699Z",
     "start_time": "2021-09-27T15:52:02.136068Z"
    }
   },
   "outputs": [],
   "source": [
    "# Prediction\n",
    "y_pred = clf.predict(X_test)"
   ]
  },
  {
   "cell_type": "code",
   "execution_count": 45,
   "id": "90bd8786",
   "metadata": {
    "ExecuteTime": {
     "end_time": "2021-09-27T15:52:02.149627Z",
     "start_time": "2021-09-27T15:52:02.146475Z"
    }
   },
   "outputs": [
    {
     "name": "stdout",
     "output_type": "stream",
     "text": [
      "model accuracy: 0.988\n"
     ]
    }
   ],
   "source": [
    "# Model evaluation\n",
    "from sklearn.metrics import accuracy_score\n",
    "\n",
    "ACC = accuracy_score(y_test, y_pred)\n",
    "print(\"model accuracy: %.3f\" % ACC)"
   ]
  },
  {
   "cell_type": "code",
   "execution_count": 88,
   "id": "7bb4f6c5",
   "metadata": {},
   "outputs": [
    {
     "name": "stdout",
     "output_type": "stream",
     "text": [
      "[[[45  1]\n",
      "  [ 0 40]]\n",
      "\n",
      " [[68  0]\n",
      "  [ 1 17]]\n",
      "\n",
      " [[58  0]\n",
      "  [ 0 28]]]\n"
     ]
    }
   ],
   "source": [
    "# Print multilabel confusion matrix\n",
    "from sklearn.metrics import multilabel_confusion_matrix\n",
    "\n",
    "cf_matrix = multilabel_confusion_matrix(y_test, y_pred)\n",
    "print(cf_matrix)"
   ]
  },
  {
   "cell_type": "code",
   "execution_count": 89,
   "id": "3cb0c8ef",
   "metadata": {},
   "outputs": [
    {
     "name": "stdout",
     "output_type": "stream",
     "text": [
      "[[40  0  0]\n",
      " [ 1 17  0]\n",
      " [ 0  0 28]]\n"
     ]
    }
   ],
   "source": [
    "# Print confusion matrix\n",
    "from sklearn.metrics import confusion_matrix\n",
    "\n",
    "cf_matrix = confusion_matrix(y_test, y_pred)\n",
    "print(cf_matrix)"
   ]
  },
  {
   "cell_type": "code",
   "execution_count": 73,
   "id": "3add362c",
   "metadata": {},
   "outputs": [
    {
     "data": {
      "text/plain": [
       "''"
      ]
     },
     "execution_count": 73,
     "metadata": {},
     "output_type": "execute_result"
    },
    {
     "data": {
      "image/png": "[encoded data removed]",
      "text/plain": [
       "<Figure size 432x288 with 2 Axes>"
      ]
     },
     "metadata": {
      "needs_background": "light"
     },
     "output_type": "display_data"
    }
   ],
   "source": [
    "# Plot confusion matric\n",
    "import seaborn as sns\n",
    "\n",
    "values = [\"{0:d}\".format(value) for value in cf_matrix.flatten()]\n",
    "percentages = [\"{0:.2%}\".format(value) for value in cf_matrix.flatten()/np.sum(cf_matrix)]\n",
    "box_values = [f\"{v1}\\n{v2}\".strip() for v1, v2 in zip(values,percentages)]\n",
    "box_values = np.asarray(box_values).reshape(cf_matrix.shape[0],cf_matrix.shape[1])\n",
    "                  \n",
    "categories = [\"{0:s}\".format(label) for label in np.unique(penguins['target'])]\n",
    "\n",
    "sns.heatmap(cf_matrix, annot=box_values, fmt=\"\", xticklabels=categories, yticklabels=categories, cmap='Blues')\n",
    "plt.ylabel('True label')\n",
    "plt.xlabel('Predicted label')\n",
    ";"
   ]
  },
  {
   "cell_type": "code",
   "execution_count": 101,
   "id": "9f52a248",
   "metadata": {},
   "outputs": [
    {
     "name": "stdout",
     "output_type": "stream",
     "text": [
      "\t   precision\trecall\tsupport\n",
      "Adelie    \t0.98\t1.00\t40\n",
      "Chinstrap \t1.00\t0.94\t18\n",
      "Gentoo    \t1.00\t1.00\t28\n",
      "\n",
      "accucacy\t0.988\n"
     ]
    }
   ],
   "source": [
    "# From confusion matrix, calculate Accuracy, Recall and Precision\n",
    "print(\"\\t   precision\\trecall\\tsupport\")\n",
    "for i, cat in enumerate(categories):\n",
    "    TP = cf_matrix[i,i]\n",
    "    FP = sum(cf_matrix[:,i])-TP\n",
    "    FN = sum(cf_matrix[i,:])-cf_matrix[i,i]\n",
    "    N = sum(cf_matrix[i,:])\n",
    "    print(\"{0:10s}\\t{1:.2f}\\t{2:.2f}\\t{3:d}\".format(cat, TP/(FP+TP), TP/(FN+TP), N))\n",
    "    \n",
    "print()\n",
    "print(\"accucacy\\t{0:.3f}\".format(np.trace(cf_matrix) / np.sum(cf_matrix)))"
   ]
  },
  {
   "cell_type": "code",
   "execution_count": 92,
   "id": "7be6000c",
   "metadata": {},
   "outputs": [
    {
     "name": "stdout",
     "output_type": "stream",
     "text": [
      "              precision    recall  f1-score   support\n",
      "\n",
      "      Adelie       0.98      1.00      0.99        40\n",
      "   Chinstrap       1.00      0.94      0.97        18\n",
      "      Gentoo       1.00      1.00      1.00        28\n",
      "\n",
      "    accuracy                           0.99        86\n",
      "   macro avg       0.99      0.98      0.99        86\n",
      "weighted avg       0.99      0.99      0.99        86\n",
      "\n"
     ]
    }
   ],
   "source": [
    "# Verify your value with classification_report from sklearn\n",
    "from sklearn.metrics import classification_report\n",
    "\n",
    "print(classification_report(y_test, y_pred, labels=categories))"
   ]
  },
  {
   "cell_type": "code",
   "execution_count": null,
   "id": "36188ee6",
   "metadata": {},
   "outputs": [],
   "source": []
  }
 ],
 "metadata": {
  "kernelspec": {
   "display_name": "Python 3 (ipykernel)",
   "language": "python",
   "name": "python3"
  },
  "language_info": {
   "codemirror_mode": {
    "name": "ipython",
    "version": 3
   },
   "file_extension": ".py",
   "mimetype": "text/x-python",
   "name": "python",
   "nbconvert_exporter": "python",
   "pygments_lexer": "ipython3",
   "version": "3.9.5"
  },
  "latex_envs": {
   "LaTeX_envs_menu_present": true,
   "autoclose": true,
   "autocomplete": true,
   "bibliofile": "biblio.bib",
   "cite_by": "apalike",
   "current_citInitial": 1,
   "eqLabelWithNumbers": true,
   "eqNumInitial": 1,
   "hotkeys": {
    "equation": "Ctrl-E",
    "itemize": "Ctrl-I"
   },
   "labels_anchors": false,
   "latex_user_defs": false,
   "report_style_numbering": false,
   "user_envs_cfg": false
  },
  "nbTranslate": {
   "displayLangs": [
    "*"
   ],
   "hotkey": "alt-t",
   "langInMainMenu": true,
   "sourceLang": "en",
   "targetLang": "fr",
   "useGoogleTranslate": true
  },
  "toc": {
   "base_numbering": 1,
   "nav_menu": {},
   "number_sections": true,
   "sideBar": true,
   "skip_h1_title": true,
   "title_cell": "Table of Contents",
   "title_sidebar": "Contents",
   "toc_cell": true,
   "toc_position": {},
   "toc_section_display": true,
   "toc_window_display": false
  }
 },
 "nbformat": 4,
 "nbformat_minor": 5
}
