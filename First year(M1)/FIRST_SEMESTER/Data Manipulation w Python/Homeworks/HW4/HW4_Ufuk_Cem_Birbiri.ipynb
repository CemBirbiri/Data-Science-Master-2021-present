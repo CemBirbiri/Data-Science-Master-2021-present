{
 "cells": [
  {
   "cell_type": "markdown",
   "id": "491e1463",
   "metadata": {},
   "source": [
    "# Assignement n.4\n",
    "\n",
    "Collect the ABALONE Dataset from [here](https://archive.ics.uci.edu/ml/datasets/Abalone).\n",
    "\n",
    "You'll get 2 files:\n",
    "   * abalone.data  : csv for the dataset\n",
    "   * abalone.names : explanation and names of the attributes.\n",
    "   \n",
    "## GOALS:\n",
    "\n",
    "  1. Provide basic data exploration results on the dataset\n",
    "  2. Train a binary classifier on the Abalone dataset for the following target classes:\n",
    "      * 0: young snail, number of rings <= 12\n",
    "      * 1: old snail, number of rings > 12\n",
    "\n",
    "### Notes:\n",
    "\n",
    "  * Use 70-30 as train-test split\n",
    "  * Try different classifiers and compare the results\n",
    "  * Provide an evaluation of the classifier\n",
    "  * *Optional* Tune the classifier's hyperparameters\n",
    "  * Comment with markdown cells everything you code"
   ]
  },
  {
   "cell_type": "markdown",
   "id": "01f69951",
   "metadata": {},
   "source": [
    "#### Name: Ufuk Cem Birbiri\n",
    "##### Data Science & AI MSc"
   ]
  },
  {
   "cell_type": "markdown",
   "id": "739c5fee",
   "metadata": {},
   "source": [
    "# PART-1: Data Exploration\n"
   ]
  },
  {
   "cell_type": "markdown",
   "id": "ade62d4d",
   "metadata": {},
   "source": [
    "There are explanations in Markdown cells and also some comments between some lines"
   ]
  },
  {
   "cell_type": "markdown",
   "id": "51297c8c",
   "metadata": {},
   "source": [
    "- Import necessary librariesand read the data:"
   ]
  },
  {
   "cell_type": "code",
   "execution_count": 241,
   "id": "72045f3f",
   "metadata": {
    "scrolled": false
   },
   "outputs": [
    {
     "data": {
      "text/html": [
       "<div>\n",
       "<style scoped>\n",
       "    .dataframe tbody tr th:only-of-type {\n",
       "        vertical-align: middle;\n",
       "    }\n",
       "\n",
       "    .dataframe tbody tr th {\n",
       "        vertical-align: top;\n",
       "    }\n",
       "\n",
       "    .dataframe thead th {\n",
       "        text-align: right;\n",
       "    }\n",
       "</style>\n",
       "<table border=\"1\" class=\"dataframe\">\n",
       "  <thead>\n",
       "    <tr style=\"text-align: right;\">\n",
       "      <th></th>\n",
       "      <th>Sex</th>\n",
       "      <th>Length</th>\n",
       "      <th>Diameter</th>\n",
       "      <th>Height</th>\n",
       "      <th>Whole weight</th>\n",
       "      <th>Shucked weight</th>\n",
       "      <th>Viscera weight</th>\n",
       "      <th>Shell weight</th>\n",
       "      <th>Rings</th>\n",
       "    </tr>\n",
       "  </thead>\n",
       "  <tbody>\n",
       "    <tr>\n",
       "      <th>0</th>\n",
       "      <td>M</td>\n",
       "      <td>0.350</td>\n",
       "      <td>0.265</td>\n",
       "      <td>0.090</td>\n",
       "      <td>0.2255</td>\n",
       "      <td>0.0995</td>\n",
       "      <td>0.0485</td>\n",
       "      <td>0.070</td>\n",
       "      <td>7</td>\n",
       "    </tr>\n",
       "    <tr>\n",
       "      <th>1</th>\n",
       "      <td>F</td>\n",
       "      <td>0.530</td>\n",
       "      <td>0.420</td>\n",
       "      <td>0.135</td>\n",
       "      <td>0.6770</td>\n",
       "      <td>0.2565</td>\n",
       "      <td>0.1415</td>\n",
       "      <td>0.210</td>\n",
       "      <td>9</td>\n",
       "    </tr>\n",
       "    <tr>\n",
       "      <th>2</th>\n",
       "      <td>M</td>\n",
       "      <td>0.440</td>\n",
       "      <td>0.365</td>\n",
       "      <td>0.125</td>\n",
       "      <td>0.5160</td>\n",
       "      <td>0.2155</td>\n",
       "      <td>0.1140</td>\n",
       "      <td>0.155</td>\n",
       "      <td>10</td>\n",
       "    </tr>\n",
       "    <tr>\n",
       "      <th>3</th>\n",
       "      <td>I</td>\n",
       "      <td>0.330</td>\n",
       "      <td>0.255</td>\n",
       "      <td>0.080</td>\n",
       "      <td>0.2050</td>\n",
       "      <td>0.0895</td>\n",
       "      <td>0.0395</td>\n",
       "      <td>0.055</td>\n",
       "      <td>7</td>\n",
       "    </tr>\n",
       "    <tr>\n",
       "      <th>4</th>\n",
       "      <td>I</td>\n",
       "      <td>0.425</td>\n",
       "      <td>0.300</td>\n",
       "      <td>0.095</td>\n",
       "      <td>0.3515</td>\n",
       "      <td>0.1410</td>\n",
       "      <td>0.0775</td>\n",
       "      <td>0.120</td>\n",
       "      <td>8</td>\n",
       "    </tr>\n",
       "  </tbody>\n",
       "</table>\n",
       "</div>"
      ],
      "text/plain": [
       "  Sex  Length  Diameter  Height  Whole weight  Shucked weight  Viscera weight  \\\n",
       "0   M   0.350     0.265   0.090        0.2255          0.0995          0.0485   \n",
       "1   F   0.530     0.420   0.135        0.6770          0.2565          0.1415   \n",
       "2   M   0.440     0.365   0.125        0.5160          0.2155          0.1140   \n",
       "3   I   0.330     0.255   0.080        0.2050          0.0895          0.0395   \n",
       "4   I   0.425     0.300   0.095        0.3515          0.1410          0.0775   \n",
       "\n",
       "   Shell weight  Rings  \n",
       "0         0.070      7  \n",
       "1         0.210      9  \n",
       "2         0.155     10  \n",
       "3         0.055      7  \n",
       "4         0.120      8  "
      ]
     },
     "execution_count": 241,
     "metadata": {},
     "output_type": "execute_result"
    }
   ],
   "source": [
    "import pandas as pd\n",
    "import numpy as np\n",
    "import matplotlib.pyplot as plt\n",
    "%matplotlib inline\n",
    "\n",
    "#Read the data and create a dataFrame with column names\n",
    "df= pd.read_csv(\"abalone.data\", header=0,\n",
    "                names=[\"Sex\",\"Length\",\"Diameter\", \"Height\",\"Whole weight\",\"Shucked weight\",\"Viscera weight\",\"Shell weight\",\"Rings\"])\n",
    "df.head()\n"
   ]
  },
  {
   "cell_type": "markdown",
   "id": "18e90e30",
   "metadata": {},
   "source": [
    "- Add the target column. If the number of rings is smaller or equal than 12, it's target is in class 0. Otherwise class 1:"
   ]
  },
  {
   "cell_type": "code",
   "execution_count": 242,
   "id": "723aac93",
   "metadata": {},
   "outputs": [
    {
     "data": {
      "text/html": [
       "<div>\n",
       "<style scoped>\n",
       "    .dataframe tbody tr th:only-of-type {\n",
       "        vertical-align: middle;\n",
       "    }\n",
       "\n",
       "    .dataframe tbody tr th {\n",
       "        vertical-align: top;\n",
       "    }\n",
       "\n",
       "    .dataframe thead th {\n",
       "        text-align: right;\n",
       "    }\n",
       "</style>\n",
       "<table border=\"1\" class=\"dataframe\">\n",
       "  <thead>\n",
       "    <tr style=\"text-align: right;\">\n",
       "      <th></th>\n",
       "      <th>Sex</th>\n",
       "      <th>Length</th>\n",
       "      <th>Diameter</th>\n",
       "      <th>Height</th>\n",
       "      <th>Whole weight</th>\n",
       "      <th>Shucked weight</th>\n",
       "      <th>Viscera weight</th>\n",
       "      <th>Shell weight</th>\n",
       "      <th>Rings</th>\n",
       "      <th>target_class</th>\n",
       "    </tr>\n",
       "  </thead>\n",
       "  <tbody>\n",
       "    <tr>\n",
       "      <th>5</th>\n",
       "      <td>F</td>\n",
       "      <td>0.530</td>\n",
       "      <td>0.415</td>\n",
       "      <td>0.150</td>\n",
       "      <td>0.7775</td>\n",
       "      <td>0.2370</td>\n",
       "      <td>0.1415</td>\n",
       "      <td>0.330</td>\n",
       "      <td>20</td>\n",
       "      <td>1</td>\n",
       "    </tr>\n",
       "    <tr>\n",
       "      <th>6</th>\n",
       "      <td>F</td>\n",
       "      <td>0.545</td>\n",
       "      <td>0.425</td>\n",
       "      <td>0.125</td>\n",
       "      <td>0.7680</td>\n",
       "      <td>0.2940</td>\n",
       "      <td>0.1495</td>\n",
       "      <td>0.260</td>\n",
       "      <td>16</td>\n",
       "      <td>1</td>\n",
       "    </tr>\n",
       "    <tr>\n",
       "      <th>8</th>\n",
       "      <td>F</td>\n",
       "      <td>0.550</td>\n",
       "      <td>0.440</td>\n",
       "      <td>0.150</td>\n",
       "      <td>0.8945</td>\n",
       "      <td>0.3145</td>\n",
       "      <td>0.1510</td>\n",
       "      <td>0.320</td>\n",
       "      <td>19</td>\n",
       "      <td>1</td>\n",
       "    </tr>\n",
       "    <tr>\n",
       "      <th>9</th>\n",
       "      <td>F</td>\n",
       "      <td>0.525</td>\n",
       "      <td>0.380</td>\n",
       "      <td>0.140</td>\n",
       "      <td>0.6065</td>\n",
       "      <td>0.1940</td>\n",
       "      <td>0.1475</td>\n",
       "      <td>0.210</td>\n",
       "      <td>14</td>\n",
       "      <td>1</td>\n",
       "    </tr>\n",
       "    <tr>\n",
       "      <th>27</th>\n",
       "      <td>M</td>\n",
       "      <td>0.605</td>\n",
       "      <td>0.475</td>\n",
       "      <td>0.180</td>\n",
       "      <td>0.9365</td>\n",
       "      <td>0.3940</td>\n",
       "      <td>0.2190</td>\n",
       "      <td>0.295</td>\n",
       "      <td>15</td>\n",
       "      <td>1</td>\n",
       "    </tr>\n",
       "  </tbody>\n",
       "</table>\n",
       "</div>"
      ],
      "text/plain": [
       "   Sex  Length  Diameter  Height  Whole weight  Shucked weight  \\\n",
       "5    F   0.530     0.415   0.150        0.7775          0.2370   \n",
       "6    F   0.545     0.425   0.125        0.7680          0.2940   \n",
       "8    F   0.550     0.440   0.150        0.8945          0.3145   \n",
       "9    F   0.525     0.380   0.140        0.6065          0.1940   \n",
       "27   M   0.605     0.475   0.180        0.9365          0.3940   \n",
       "\n",
       "    Viscera weight  Shell weight  Rings  target_class  \n",
       "5           0.1415         0.330     20             1  \n",
       "6           0.1495         0.260     16             1  \n",
       "8           0.1510         0.320     19             1  \n",
       "9           0.1475         0.210     14             1  \n",
       "27          0.2190         0.295     15             1  "
      ]
     },
     "execution_count": 242,
     "metadata": {},
     "output_type": "execute_result"
    }
   ],
   "source": [
    "df['target_class'] = np.where(df['Rings']<= 12, 0, 1)\n",
    "#Check the result:\n",
    "df[df.Rings>12].head()\n",
    "#df[df.Rings<=12].head()"
   ]
  },
  {
   "cell_type": "markdown",
   "id": "cfac6e7c",
   "metadata": {},
   "source": [
    "- Show the number of data points in each class:"
   ]
  },
  {
   "cell_type": "code",
   "execution_count": 243,
   "id": "efe42162",
   "metadata": {},
   "outputs": [
    {
     "data": {
      "text/plain": [
       "0    3484\n",
       "1     692\n",
       "Name: target_class, dtype: int64"
      ]
     },
     "execution_count": 243,
     "metadata": {},
     "output_type": "execute_result"
    }
   ],
   "source": [
    "df['target_class'].value_counts()"
   ]
  },
  {
   "cell_type": "code",
   "execution_count": 244,
   "id": "573bc813",
   "metadata": {},
   "outputs": [
    {
     "data": {
      "text/plain": [
       "target_class\n",
       "0    3484\n",
       "1     692\n",
       "dtype: int64"
      ]
     },
     "execution_count": 244,
     "metadata": {},
     "output_type": "execute_result"
    }
   ],
   "source": [
    "#This is the same thing with above cell\n",
    "df.groupby('target_class').size()"
   ]
  },
  {
   "cell_type": "code",
   "execution_count": 245,
   "id": "1aae6210",
   "metadata": {},
   "outputs": [
    {
     "data": {
      "text/plain": [
       "<AxesSubplot:xlabel='target_class', ylabel='Count'>"
      ]
     },
     "execution_count": 245,
     "metadata": {},
     "output_type": "execute_result"
    },
    {
     "data": {
      "image/png": "[encoded data removed]",
      "text/plain": [
       "<Figure size 432x288 with 1 Axes>"
      ]
     },
     "metadata": {
      "needs_background": "light"
     },
     "output_type": "display_data"
    }
   ],
   "source": [
    "#Or we can show it with a bar plot:\n",
    "counts = df.groupby('target_class').size()\n",
    "counts.plot(kind='bar', ylabel=\"Count\")"
   ]
  },
  {
   "cell_type": "code",
   "execution_count": 246,
   "id": "131783da",
   "metadata": {},
   "outputs": [
    {
     "data": {
      "text/plain": [
       "(4176, 10)"
      ]
     },
     "execution_count": 246,
     "metadata": {},
     "output_type": "execute_result"
    }
   ],
   "source": [
    "#See the shape of the dataFrame:\n",
    "df.shape"
   ]
  },
  {
   "cell_type": "code",
   "execution_count": 247,
   "id": "dc37f5ca",
   "metadata": {},
   "outputs": [
    {
     "name": "stdout",
     "output_type": "stream",
     "text": [
      "<class 'pandas.core.frame.DataFrame'>\n",
      "RangeIndex: 4176 entries, 0 to 4175\n",
      "Data columns (total 10 columns):\n",
      " #   Column          Non-Null Count  Dtype  \n",
      "---  ------          --------------  -----  \n",
      " 0   Sex             4176 non-null   object \n",
      " 1   Length          4176 non-null   float64\n",
      " 2   Diameter        4176 non-null   float64\n",
      " 3   Height          4176 non-null   float64\n",
      " 4   Whole weight    4176 non-null   float64\n",
      " 5   Shucked weight  4176 non-null   float64\n",
      " 6   Viscera weight  4176 non-null   float64\n",
      " 7   Shell weight    4176 non-null   float64\n",
      " 8   Rings           4176 non-null   int64  \n",
      " 9   target_class    4176 non-null   int64  \n",
      "dtypes: float64(7), int64(2), object(1)\n",
      "memory usage: 326.4+ KB\n"
     ]
    }
   ],
   "source": [
    "#Get some info:\n",
    "df.info()"
   ]
  },
  {
   "cell_type": "code",
   "execution_count": 248,
   "id": "486f0e83",
   "metadata": {},
   "outputs": [
    {
     "data": {
      "text/html": [
       "<div>\n",
       "<style scoped>\n",
       "    .dataframe tbody tr th:only-of-type {\n",
       "        vertical-align: middle;\n",
       "    }\n",
       "\n",
       "    .dataframe tbody tr th {\n",
       "        vertical-align: top;\n",
       "    }\n",
       "\n",
       "    .dataframe thead th {\n",
       "        text-align: right;\n",
       "    }\n",
       "</style>\n",
       "<table border=\"1\" class=\"dataframe\">\n",
       "  <thead>\n",
       "    <tr style=\"text-align: right;\">\n",
       "      <th></th>\n",
       "      <th>Length</th>\n",
       "      <th>Diameter</th>\n",
       "      <th>Height</th>\n",
       "      <th>Whole weight</th>\n",
       "      <th>Shucked weight</th>\n",
       "      <th>Viscera weight</th>\n",
       "      <th>Shell weight</th>\n",
       "      <th>Rings</th>\n",
       "      <th>target_class</th>\n",
       "    </tr>\n",
       "  </thead>\n",
       "  <tbody>\n",
       "    <tr>\n",
       "      <th>count</th>\n",
       "      <td>4176.000000</td>\n",
       "      <td>4176.000000</td>\n",
       "      <td>4176.000000</td>\n",
       "      <td>4176.000000</td>\n",
       "      <td>4176.00000</td>\n",
       "      <td>4176.000000</td>\n",
       "      <td>4176.000000</td>\n",
       "      <td>4176.000000</td>\n",
       "      <td>4176.000000</td>\n",
       "    </tr>\n",
       "    <tr>\n",
       "      <th>mean</th>\n",
       "      <td>0.524009</td>\n",
       "      <td>0.407892</td>\n",
       "      <td>0.139527</td>\n",
       "      <td>0.828818</td>\n",
       "      <td>0.35940</td>\n",
       "      <td>0.180613</td>\n",
       "      <td>0.238852</td>\n",
       "      <td>9.932471</td>\n",
       "      <td>0.165709</td>\n",
       "    </tr>\n",
       "    <tr>\n",
       "      <th>std</th>\n",
       "      <td>0.120103</td>\n",
       "      <td>0.099250</td>\n",
       "      <td>0.041826</td>\n",
       "      <td>0.490424</td>\n",
       "      <td>0.22198</td>\n",
       "      <td>0.109620</td>\n",
       "      <td>0.139213</td>\n",
       "      <td>3.223601</td>\n",
       "      <td>0.371864</td>\n",
       "    </tr>\n",
       "    <tr>\n",
       "      <th>min</th>\n",
       "      <td>0.075000</td>\n",
       "      <td>0.055000</td>\n",
       "      <td>0.000000</td>\n",
       "      <td>0.002000</td>\n",
       "      <td>0.00100</td>\n",
       "      <td>0.000500</td>\n",
       "      <td>0.001500</td>\n",
       "      <td>1.000000</td>\n",
       "      <td>0.000000</td>\n",
       "    </tr>\n",
       "    <tr>\n",
       "      <th>25%</th>\n",
       "      <td>0.450000</td>\n",
       "      <td>0.350000</td>\n",
       "      <td>0.115000</td>\n",
       "      <td>0.441500</td>\n",
       "      <td>0.18600</td>\n",
       "      <td>0.093375</td>\n",
       "      <td>0.130000</td>\n",
       "      <td>8.000000</td>\n",
       "      <td>0.000000</td>\n",
       "    </tr>\n",
       "    <tr>\n",
       "      <th>50%</th>\n",
       "      <td>0.545000</td>\n",
       "      <td>0.425000</td>\n",
       "      <td>0.140000</td>\n",
       "      <td>0.799750</td>\n",
       "      <td>0.33600</td>\n",
       "      <td>0.171000</td>\n",
       "      <td>0.234000</td>\n",
       "      <td>9.000000</td>\n",
       "      <td>0.000000</td>\n",
       "    </tr>\n",
       "    <tr>\n",
       "      <th>75%</th>\n",
       "      <td>0.615000</td>\n",
       "      <td>0.480000</td>\n",
       "      <td>0.165000</td>\n",
       "      <td>1.153250</td>\n",
       "      <td>0.50200</td>\n",
       "      <td>0.253000</td>\n",
       "      <td>0.329000</td>\n",
       "      <td>11.000000</td>\n",
       "      <td>0.000000</td>\n",
       "    </tr>\n",
       "    <tr>\n",
       "      <th>max</th>\n",
       "      <td>0.815000</td>\n",
       "      <td>0.650000</td>\n",
       "      <td>1.130000</td>\n",
       "      <td>2.825500</td>\n",
       "      <td>1.48800</td>\n",
       "      <td>0.760000</td>\n",
       "      <td>1.005000</td>\n",
       "      <td>29.000000</td>\n",
       "      <td>1.000000</td>\n",
       "    </tr>\n",
       "  </tbody>\n",
       "</table>\n",
       "</div>"
      ],
      "text/plain": [
       "            Length     Diameter       Height  Whole weight  Shucked weight  \\\n",
       "count  4176.000000  4176.000000  4176.000000   4176.000000      4176.00000   \n",
       "mean      0.524009     0.407892     0.139527      0.828818         0.35940   \n",
       "std       0.120103     0.099250     0.041826      0.490424         0.22198   \n",
       "min       0.075000     0.055000     0.000000      0.002000         0.00100   \n",
       "25%       0.450000     0.350000     0.115000      0.441500         0.18600   \n",
       "50%       0.545000     0.425000     0.140000      0.799750         0.33600   \n",
       "75%       0.615000     0.480000     0.165000      1.153250         0.50200   \n",
       "max       0.815000     0.650000     1.130000      2.825500         1.48800   \n",
       "\n",
       "       Viscera weight  Shell weight        Rings  target_class  \n",
       "count     4176.000000   4176.000000  4176.000000   4176.000000  \n",
       "mean         0.180613      0.238852     9.932471      0.165709  \n",
       "std          0.109620      0.139213     3.223601      0.371864  \n",
       "min          0.000500      0.001500     1.000000      0.000000  \n",
       "25%          0.093375      0.130000     8.000000      0.000000  \n",
       "50%          0.171000      0.234000     9.000000      0.000000  \n",
       "75%          0.253000      0.329000    11.000000      0.000000  \n",
       "max          0.760000      1.005000    29.000000      1.000000  "
      ]
     },
     "execution_count": 248,
     "metadata": {},
     "output_type": "execute_result"
    }
   ],
   "source": [
    "#Let's get some statistical info such as mean, std, min or max values:\n",
    "df.describe()"
   ]
  },
  {
   "cell_type": "markdown",
   "id": "dde711ab",
   "metadata": {},
   "source": [
    "- Let's see some information about Rings because the target classes are determined by the number of rings. This information will give us some knowledge about the distribution of the data:"
   ]
  },
  {
   "cell_type": "code",
   "execution_count": 249,
   "id": "4366f82c",
   "metadata": {},
   "outputs": [
    {
     "data": {
      "text/plain": [
       "count    4176.000000\n",
       "mean        9.932471\n",
       "std         3.223601\n",
       "min         1.000000\n",
       "25%         8.000000\n",
       "50%         9.000000\n",
       "75%        11.000000\n",
       "max        29.000000\n",
       "Name: Rings, dtype: float64"
      ]
     },
     "execution_count": 249,
     "metadata": {},
     "output_type": "execute_result"
    }
   ],
   "source": [
    "df['Rings'].describe()"
   ]
  },
  {
   "cell_type": "markdown",
   "id": "32809e1e",
   "metadata": {},
   "source": [
    "- Let's plot the dataset with different plots. Let's start with density:"
   ]
  },
  {
   "cell_type": "code",
   "execution_count": 250,
   "id": "9fe42bcd",
   "metadata": {},
   "outputs": [
    {
     "data": {
      "text/plain": [
       "<AxesSubplot:ylabel='Density'>"
      ]
     },
     "execution_count": 250,
     "metadata": {},
     "output_type": "execute_result"
    },
    {
     "data": {
      "image/png": "[encoded data removed]",
      "text/plain": [
       "<Figure size 720x432 with 1 Axes>"
      ]
     },
     "metadata": {
      "needs_background": "light"
     },
     "output_type": "display_data"
    }
   ],
   "source": [
    "df['Rings'].plot(kind='density', figsize=(10, 6))\n"
   ]
  },
  {
   "cell_type": "markdown",
   "id": "b6a13722",
   "metadata": {},
   "source": [
    "- Let's plot the mean and median in the same plot:"
   ]
  },
  {
   "cell_type": "code",
   "execution_count": 251,
   "id": "8e994968",
   "metadata": {},
   "outputs": [
    {
     "data": {
      "text/plain": [
       "<matplotlib.lines.Line2D at 0x7fbf89a61f40>"
      ]
     },
     "execution_count": 251,
     "metadata": {},
     "output_type": "execute_result"
    },
    {
     "data": {
      "image/png": "[encoded data removed]",
      "text/plain": [
       "<Figure size 720x432 with 1 Axes>"
      ]
     },
     "metadata": {
      "needs_background": "light"
     },
     "output_type": "display_data"
    }
   ],
   "source": [
    "ax = df['Rings'].plot(kind='density', figsize=(10, 6))\n",
    "ax.axvline(df['Rings'].mean(), color='red')\n",
    "ax.axvline(df['Rings'].median(), color='green')"
   ]
  },
  {
   "cell_type": "markdown",
   "id": "6abc7df5",
   "metadata": {},
   "source": [
    "- No surprize since we did see before that the mean is 9.93.It is good that we can see also median."
   ]
  },
  {
   "cell_type": "markdown",
   "id": "aeaca47e",
   "metadata": {},
   "source": [
    "- We can also plot box plot to observe outliers:"
   ]
  },
  {
   "cell_type": "code",
   "execution_count": 252,
   "id": "6ec503d9",
   "metadata": {},
   "outputs": [
    {
     "data": {
      "text/plain": [
       "<AxesSubplot:>"
      ]
     },
     "execution_count": 252,
     "metadata": {},
     "output_type": "execute_result"
    },
    {
     "data": {
      "image/png": "[encoded data removed]",
      "text/plain": [
       "<Figure size 576x360 with 1 Axes>"
      ]
     },
     "metadata": {
      "needs_background": "light"
     },
     "output_type": "display_data"
    }
   ],
   "source": [
    "df['Rings'].plot(kind='box', vert=False, figsize=(8, 5))"
   ]
  },
  {
   "cell_type": "markdown",
   "id": "0dc9e9d7",
   "metadata": {},
   "source": [
    "\n",
    "\n",
    "- Now let's plot histogram:"
   ]
  },
  {
   "cell_type": "code",
   "execution_count": 253,
   "id": "80220cd2",
   "metadata": {},
   "outputs": [
    {
     "data": {
      "text/plain": [
       "Text(0.5, 0, 'Number of rings')"
      ]
     },
     "execution_count": 253,
     "metadata": {},
     "output_type": "execute_result"
    },
    {
     "data": {
      "image/png": "[encoded data removed]",
      "text/plain": [
       "<Figure size 720x360 with 1 Axes>"
      ]
     },
     "metadata": {
      "needs_background": "light"
     },
     "output_type": "display_data"
    }
   ],
   "source": [
    "ax = df['Rings'].plot(kind='hist', figsize=(10, 5))\n",
    "ax.set_ylabel('Count')\n",
    "ax.set_xlabel('Number of rings')"
   ]
  },
  {
   "cell_type": "markdown",
   "id": "a2052dbb",
   "metadata": {},
   "source": [
    "- Now, let's plot other features in the DataFrame such as sex:"
   ]
  },
  {
   "cell_type": "code",
   "execution_count": 254,
   "id": "970b957f",
   "metadata": {},
   "outputs": [
    {
     "data": {
      "text/plain": [
       "M    1527\n",
       "I    1342\n",
       "F    1307\n",
       "Name: Sex, dtype: int64"
      ]
     },
     "execution_count": 254,
     "metadata": {},
     "output_type": "execute_result"
    }
   ],
   "source": [
    "#First, show the number of instances for each sex:\n",
    "df['Sex'].value_counts()"
   ]
  },
  {
   "cell_type": "markdown",
   "id": "dc92a8f3",
   "metadata": {},
   "source": [
    "- It seems that sex values are (almost) equal. To prove that,make a pie plot:  "
   ]
  },
  {
   "cell_type": "code",
   "execution_count": 255,
   "id": "4680a89d",
   "metadata": {},
   "outputs": [
    {
     "data": {
      "text/plain": [
       "<AxesSubplot:ylabel='Sex'>"
      ]
     },
     "execution_count": 255,
     "metadata": {},
     "output_type": "execute_result"
    },
    {
     "data": {
      "image/png": "[encoded data removed]",
      "text/plain": [
       "<Figure size 360x360 with 1 Axes>"
      ]
     },
     "metadata": {},
     "output_type": "display_data"
    }
   ],
   "source": [
    "df['Sex'].value_counts().plot(kind='pie', figsize=(5,5))"
   ]
  },
  {
   "cell_type": "markdown",
   "id": "ebfa7b54",
   "metadata": {},
   "source": [
    "- We can also make a bar plot to see the number of data points per each sex:"
   ]
  },
  {
   "cell_type": "code",
   "execution_count": 256,
   "id": "1a431531",
   "metadata": {},
   "outputs": [
    {
     "data": {
      "text/plain": [
       "Text(0, 0.5, 'Number of instances')"
      ]
     },
     "execution_count": 256,
     "metadata": {},
     "output_type": "execute_result"
    },
    {
     "data": {
      "image/png": "[encoded data removed]",
      "text/plain": [
       "<Figure size 576x360 with 1 Axes>"
      ]
     },
     "metadata": {
      "needs_background": "light"
     },
     "output_type": "display_data"
    }
   ],
   "source": [
    "ax = df['Sex'].value_counts().plot(kind='bar', figsize=(8,5))\n",
    "ax.set_ylabel('Number of instances')"
   ]
  },
  {
   "cell_type": "markdown",
   "id": "987f8ea1",
   "metadata": {},
   "source": [
    "- Now, let's see the distribution of sex among each class:"
   ]
  },
  {
   "cell_type": "code",
   "execution_count": 257,
   "id": "783df19b",
   "metadata": {},
   "outputs": [
    {
     "data": {
      "text/plain": [
       "Text(0.5, 0, 'Old snails')"
      ]
     },
     "execution_count": 257,
     "metadata": {},
     "output_type": "execute_result"
    },
    {
     "data": {
      "image/png": "[encoded data removed]",
      "text/plain": [
       "<Figure size 720x720 with 2 Axes>"
      ]
     },
     "metadata": {},
     "output_type": "display_data"
    }
   ],
   "source": [
    "df_young = df[df.Rings<=12] #Young snails\n",
    "df_old = df[df.Rings>12] #Old snails\n",
    "\n",
    "fig, (ax1,ax2) = plt.subplots(1,2, figsize=(10,10))  # 1 row, 2 columns\n",
    "\n",
    "df_young['Sex'].value_counts().plot(kind='pie', figsize=(10,10),ax=ax1,colors = ['green', 'purple',\"skyblue\"])\n",
    "df_old['Sex'].value_counts().plot(kind='pie', figsize=(10,10),ax=ax2,colors = ['green', 'purple',\"skyblue\"])\n",
    "ax1.set_xlabel('Young snails')\n",
    "ax2.set_xlabel('Old snails')"
   ]
  },
  {
   "cell_type": "markdown",
   "id": "f42fc5d3",
   "metadata": {},
   "source": [
    "- It is interesting to see that infants(I) are less in old snails."
   ]
  },
  {
   "cell_type": "markdown",
   "id": "17d573a1",
   "metadata": {},
   "source": [
    "- It is time to see the correlation matrix. Wecan understand which features are related(dependent) to each other with this matrix:"
   ]
  },
  {
   "cell_type": "code",
   "execution_count": 258,
   "id": "bed8212e",
   "metadata": {},
   "outputs": [
    {
     "data": {
      "text/html": [
       "<div>\n",
       "<style scoped>\n",
       "    .dataframe tbody tr th:only-of-type {\n",
       "        vertical-align: middle;\n",
       "    }\n",
       "\n",
       "    .dataframe tbody tr th {\n",
       "        vertical-align: top;\n",
       "    }\n",
       "\n",
       "    .dataframe thead th {\n",
       "        text-align: right;\n",
       "    }\n",
       "</style>\n",
       "<table border=\"1\" class=\"dataframe\">\n",
       "  <thead>\n",
       "    <tr style=\"text-align: right;\">\n",
       "      <th></th>\n",
       "      <th>Length</th>\n",
       "      <th>Diameter</th>\n",
       "      <th>Height</th>\n",
       "      <th>Whole weight</th>\n",
       "      <th>Shucked weight</th>\n",
       "      <th>Viscera weight</th>\n",
       "      <th>Shell weight</th>\n",
       "      <th>Rings</th>\n",
       "      <th>target_class</th>\n",
       "    </tr>\n",
       "  </thead>\n",
       "  <tbody>\n",
       "    <tr>\n",
       "      <th>Length</th>\n",
       "      <td>1.000000</td>\n",
       "      <td>0.986813</td>\n",
       "      <td>0.827552</td>\n",
       "      <td>0.925255</td>\n",
       "      <td>0.897905</td>\n",
       "      <td>0.903010</td>\n",
       "      <td>0.897697</td>\n",
       "      <td>0.557123</td>\n",
       "      <td>0.230212</td>\n",
       "    </tr>\n",
       "    <tr>\n",
       "      <th>Diameter</th>\n",
       "      <td>0.986813</td>\n",
       "      <td>1.000000</td>\n",
       "      <td>0.833705</td>\n",
       "      <td>0.925452</td>\n",
       "      <td>0.893159</td>\n",
       "      <td>0.899726</td>\n",
       "      <td>0.905328</td>\n",
       "      <td>0.575005</td>\n",
       "      <td>0.250403</td>\n",
       "    </tr>\n",
       "    <tr>\n",
       "      <th>Height</th>\n",
       "      <td>0.827552</td>\n",
       "      <td>0.833705</td>\n",
       "      <td>1.000000</td>\n",
       "      <td>0.819209</td>\n",
       "      <td>0.774957</td>\n",
       "      <td>0.798293</td>\n",
       "      <td>0.817326</td>\n",
       "      <td>0.558109</td>\n",
       "      <td>0.285005</td>\n",
       "    </tr>\n",
       "    <tr>\n",
       "      <th>Whole weight</th>\n",
       "      <td>0.925255</td>\n",
       "      <td>0.925452</td>\n",
       "      <td>0.819209</td>\n",
       "      <td>1.000000</td>\n",
       "      <td>0.969403</td>\n",
       "      <td>0.966372</td>\n",
       "      <td>0.955351</td>\n",
       "      <td>0.540818</td>\n",
       "      <td>0.264993</td>\n",
       "    </tr>\n",
       "    <tr>\n",
       "      <th>Shucked weight</th>\n",
       "      <td>0.897905</td>\n",
       "      <td>0.893159</td>\n",
       "      <td>0.774957</td>\n",
       "      <td>0.969403</td>\n",
       "      <td>1.000000</td>\n",
       "      <td>0.931956</td>\n",
       "      <td>0.882606</td>\n",
       "      <td>0.421256</td>\n",
       "      <td>0.147372</td>\n",
       "    </tr>\n",
       "    <tr>\n",
       "      <th>Viscera weight</th>\n",
       "      <td>0.903010</td>\n",
       "      <td>0.899726</td>\n",
       "      <td>0.798293</td>\n",
       "      <td>0.966372</td>\n",
       "      <td>0.931956</td>\n",
       "      <td>1.000000</td>\n",
       "      <td>0.907647</td>\n",
       "      <td>0.504274</td>\n",
       "      <td>0.235973</td>\n",
       "    </tr>\n",
       "    <tr>\n",
       "      <th>Shell weight</th>\n",
       "      <td>0.897697</td>\n",
       "      <td>0.905328</td>\n",
       "      <td>0.817326</td>\n",
       "      <td>0.955351</td>\n",
       "      <td>0.882606</td>\n",
       "      <td>0.907647</td>\n",
       "      <td>1.000000</td>\n",
       "      <td>0.628031</td>\n",
       "      <td>0.358457</td>\n",
       "    </tr>\n",
       "    <tr>\n",
       "      <th>Rings</th>\n",
       "      <td>0.557123</td>\n",
       "      <td>0.575005</td>\n",
       "      <td>0.558109</td>\n",
       "      <td>0.540818</td>\n",
       "      <td>0.421256</td>\n",
       "      <td>0.504274</td>\n",
       "      <td>0.628031</td>\n",
       "      <td>1.000000</td>\n",
       "      <td>0.762623</td>\n",
       "    </tr>\n",
       "    <tr>\n",
       "      <th>target_class</th>\n",
       "      <td>0.230212</td>\n",
       "      <td>0.250403</td>\n",
       "      <td>0.285005</td>\n",
       "      <td>0.264993</td>\n",
       "      <td>0.147372</td>\n",
       "      <td>0.235973</td>\n",
       "      <td>0.358457</td>\n",
       "      <td>0.762623</td>\n",
       "      <td>1.000000</td>\n",
       "    </tr>\n",
       "  </tbody>\n",
       "</table>\n",
       "</div>"
      ],
      "text/plain": [
       "                  Length  Diameter    Height  Whole weight  Shucked weight  \\\n",
       "Length          1.000000  0.986813  0.827552      0.925255        0.897905   \n",
       "Diameter        0.986813  1.000000  0.833705      0.925452        0.893159   \n",
       "Height          0.827552  0.833705  1.000000      0.819209        0.774957   \n",
       "Whole weight    0.925255  0.925452  0.819209      1.000000        0.969403   \n",
       "Shucked weight  0.897905  0.893159  0.774957      0.969403        1.000000   \n",
       "Viscera weight  0.903010  0.899726  0.798293      0.966372        0.931956   \n",
       "Shell weight    0.897697  0.905328  0.817326      0.955351        0.882606   \n",
       "Rings           0.557123  0.575005  0.558109      0.540818        0.421256   \n",
       "target_class    0.230212  0.250403  0.285005      0.264993        0.147372   \n",
       "\n",
       "                Viscera weight  Shell weight     Rings  target_class  \n",
       "Length                0.903010      0.897697  0.557123      0.230212  \n",
       "Diameter              0.899726      0.905328  0.575005      0.250403  \n",
       "Height                0.798293      0.817326  0.558109      0.285005  \n",
       "Whole weight          0.966372      0.955351  0.540818      0.264993  \n",
       "Shucked weight        0.931956      0.882606  0.421256      0.147372  \n",
       "Viscera weight        1.000000      0.907647  0.504274      0.235973  \n",
       "Shell weight          0.907647      1.000000  0.628031      0.358457  \n",
       "Rings                 0.504274      0.628031  1.000000      0.762623  \n",
       "target_class          0.235973      0.358457  0.762623      1.000000  "
      ]
     },
     "execution_count": 258,
     "metadata": {},
     "output_type": "execute_result"
    }
   ],
   "source": [
    "corr = df.corr()\n",
    "corr"
   ]
  },
  {
   "cell_type": "markdown",
   "id": "a0174d69",
   "metadata": {},
   "source": [
    "###### Comment on correlation matrix:\n",
    "- If a value is high in a cell in the matrix, it means that these two features are highly correlated. For example, Length and Diameter are correlated to each other with 0.986813.\n",
    "- If the value is low, that means these features are independent and do not affect each other. For example Rings and Shucked weight.\n",
    "- The matrix is symmetric.\n",
    "- The diagonal is always 1 because the correlation for each feature to itself is 1.\n",
    "- We see that the target_class's most effective correlated feature is Rings(0.762623). That is true because we created target_class according to Rings."
   ]
  },
  {
   "cell_type": "markdown",
   "id": "0c100ae6",
   "metadata": {},
   "source": [
    "- We can see the correlation better if we use heatmap:"
   ]
  },
  {
   "cell_type": "code",
   "execution_count": 259,
   "id": "d37df204",
   "metadata": {},
   "outputs": [
    {
     "data": {
      "image/png": "[encoded data removed]",
      "text/plain": [
       "<Figure size 576x576 with 2 Axes>"
      ]
     },
     "metadata": {
      "needs_background": "light"
     },
     "output_type": "display_data"
    }
   ],
   "source": [
    "fig = plt.figure(figsize=(8,8))\n",
    "plt.matshow(corr, cmap='RdBu', fignum=fig.number)\n",
    "plt.xticks(range(len(corr.columns)), corr.columns, rotation='vertical')\n",
    "plt.yticks(range(len(corr.columns)), corr.columns)\n",
    "cb = plt.colorbar()"
   ]
  },
  {
   "cell_type": "code",
   "execution_count": 260,
   "id": "2cac790e",
   "metadata": {},
   "outputs": [
    {
     "data": {
      "text/html": [
       "<div>\n",
       "<style scoped>\n",
       "    .dataframe tbody tr th:only-of-type {\n",
       "        vertical-align: middle;\n",
       "    }\n",
       "\n",
       "    .dataframe tbody tr th {\n",
       "        vertical-align: top;\n",
       "    }\n",
       "\n",
       "    .dataframe thead th {\n",
       "        text-align: right;\n",
       "    }\n",
       "</style>\n",
       "<table border=\"1\" class=\"dataframe\">\n",
       "  <thead>\n",
       "    <tr style=\"text-align: right;\">\n",
       "      <th></th>\n",
       "      <th>Sex</th>\n",
       "      <th>Length</th>\n",
       "      <th>Diameter</th>\n",
       "      <th>Height</th>\n",
       "      <th>Whole weight</th>\n",
       "      <th>Shucked weight</th>\n",
       "      <th>Viscera weight</th>\n",
       "      <th>Shell weight</th>\n",
       "      <th>Rings</th>\n",
       "      <th>target_class</th>\n",
       "    </tr>\n",
       "  </thead>\n",
       "  <tbody>\n",
       "    <tr>\n",
       "      <th>0</th>\n",
       "      <td>M</td>\n",
       "      <td>0.350</td>\n",
       "      <td>0.265</td>\n",
       "      <td>0.090</td>\n",
       "      <td>0.2255</td>\n",
       "      <td>0.0995</td>\n",
       "      <td>0.0485</td>\n",
       "      <td>0.070</td>\n",
       "      <td>7</td>\n",
       "      <td>0</td>\n",
       "    </tr>\n",
       "    <tr>\n",
       "      <th>1</th>\n",
       "      <td>F</td>\n",
       "      <td>0.530</td>\n",
       "      <td>0.420</td>\n",
       "      <td>0.135</td>\n",
       "      <td>0.6770</td>\n",
       "      <td>0.2565</td>\n",
       "      <td>0.1415</td>\n",
       "      <td>0.210</td>\n",
       "      <td>9</td>\n",
       "      <td>0</td>\n",
       "    </tr>\n",
       "    <tr>\n",
       "      <th>2</th>\n",
       "      <td>M</td>\n",
       "      <td>0.440</td>\n",
       "      <td>0.365</td>\n",
       "      <td>0.125</td>\n",
       "      <td>0.5160</td>\n",
       "      <td>0.2155</td>\n",
       "      <td>0.1140</td>\n",
       "      <td>0.155</td>\n",
       "      <td>10</td>\n",
       "      <td>0</td>\n",
       "    </tr>\n",
       "    <tr>\n",
       "      <th>3</th>\n",
       "      <td>I</td>\n",
       "      <td>0.330</td>\n",
       "      <td>0.255</td>\n",
       "      <td>0.080</td>\n",
       "      <td>0.2050</td>\n",
       "      <td>0.0895</td>\n",
       "      <td>0.0395</td>\n",
       "      <td>0.055</td>\n",
       "      <td>7</td>\n",
       "      <td>0</td>\n",
       "    </tr>\n",
       "    <tr>\n",
       "      <th>4</th>\n",
       "      <td>I</td>\n",
       "      <td>0.425</td>\n",
       "      <td>0.300</td>\n",
       "      <td>0.095</td>\n",
       "      <td>0.3515</td>\n",
       "      <td>0.1410</td>\n",
       "      <td>0.0775</td>\n",
       "      <td>0.120</td>\n",
       "      <td>8</td>\n",
       "      <td>0</td>\n",
       "    </tr>\n",
       "  </tbody>\n",
       "</table>\n",
       "</div>"
      ],
      "text/plain": [
       "  Sex  Length  Diameter  Height  Whole weight  Shucked weight  Viscera weight  \\\n",
       "0   M   0.350     0.265   0.090        0.2255          0.0995          0.0485   \n",
       "1   F   0.530     0.420   0.135        0.6770          0.2565          0.1415   \n",
       "2   M   0.440     0.365   0.125        0.5160          0.2155          0.1140   \n",
       "3   I   0.330     0.255   0.080        0.2050          0.0895          0.0395   \n",
       "4   I   0.425     0.300   0.095        0.3515          0.1410          0.0775   \n",
       "\n",
       "   Shell weight  Rings  target_class  \n",
       "0         0.070      7             0  \n",
       "1         0.210      9             0  \n",
       "2         0.155     10             0  \n",
       "3         0.055      7             0  \n",
       "4         0.120      8             0  "
      ]
     },
     "execution_count": 260,
     "metadata": {},
     "output_type": "execute_result"
    }
   ],
   "source": [
    "#To remeber the dataFrame:\n",
    "df.head()"
   ]
  },
  {
   "cell_type": "markdown",
   "id": "d5b5ebce",
   "metadata": {},
   "source": [
    "- Let's see the scatter plot of Sex and Rings:"
   ]
  },
  {
   "cell_type": "code",
   "execution_count": 261,
   "id": "f191bdb0",
   "metadata": {},
   "outputs": [
    {
     "data": {
      "text/plain": [
       "<AxesSubplot:xlabel='Sex', ylabel='Rings'>"
      ]
     },
     "execution_count": 261,
     "metadata": {},
     "output_type": "execute_result"
    },
    {
     "data": {
      "image/png": "[encoded data removed]",
      "text/plain": [
       "<Figure size 432x288 with 1 Axes>"
      ]
     },
     "metadata": {
      "needs_background": "light"
     },
     "output_type": "display_data"
    }
   ],
   "source": [
    "df.plot(kind='scatter', x='Sex', y='Rings')"
   ]
  },
  {
   "cell_type": "markdown",
   "id": "7efb33a2",
   "metadata": {},
   "source": [
    "- See the scatter plot of Height and Rings:"
   ]
  },
  {
   "cell_type": "code",
   "execution_count": 262,
   "id": "8b15006e",
   "metadata": {},
   "outputs": [
    {
     "data": {
      "text/plain": [
       "<AxesSubplot:xlabel='Height', ylabel='Rings'>"
      ]
     },
     "execution_count": 262,
     "metadata": {},
     "output_type": "execute_result"
    },
    {
     "data": {
      "image/png": "[encoded data removed]",
      "text/plain": [
       "<Figure size 432x288 with 1 Axes>"
      ]
     },
     "metadata": {
      "needs_background": "light"
     },
     "output_type": "display_data"
    }
   ],
   "source": [
    "df.plot(kind='scatter', x='Height', y='Rings')"
   ]
  },
  {
   "cell_type": "markdown",
   "id": "58876fa9",
   "metadata": {},
   "source": [
    "- In the heatmap and correlation matrix, the relation between Length and Diameter ws very high (with 0.986813).\n",
    "Now let's see their scatter plot:\n"
   ]
  },
  {
   "cell_type": "code",
   "execution_count": 263,
   "id": "d4da520b",
   "metadata": {},
   "outputs": [
    {
     "data": {
      "text/plain": [
       "<AxesSubplot:xlabel='Length', ylabel='Diameter'>"
      ]
     },
     "execution_count": 263,
     "metadata": {},
     "output_type": "execute_result"
    },
    {
     "data": {
      "image/png": "[encoded data removed]",
      "text/plain": [
       "<Figure size 432x288 with 1 Axes>"
      ]
     },
     "metadata": {
      "needs_background": "light"
     },
     "output_type": "display_data"
    }
   ],
   "source": [
    "df.plot(kind='scatter', x='Length', y='Diameter')"
   ]
  },
  {
   "cell_type": "markdown",
   "id": "e13bd3c5",
   "metadata": {},
   "source": [
    "- When we look at the above scatter plot, we see that there is an almost linear relation between Length and Diameter."
   ]
  },
  {
   "cell_type": "markdown",
   "id": "6d4b726e",
   "metadata": {},
   "source": [
    "- Let's use boxplot this time to see the relation between sex and rings:"
   ]
  },
  {
   "cell_type": "code",
   "execution_count": 264,
   "id": "738c1780",
   "metadata": {},
   "outputs": [
    {
     "data": {
      "text/plain": [
       "Text(0, 0.5, 'Number of Rings')"
      ]
     },
     "execution_count": 264,
     "metadata": {},
     "output_type": "execute_result"
    },
    {
     "data": {
      "image/png": "[encoded data removed]",
      "text/plain": [
       "<Figure size 432x288 with 1 Axes>"
      ]
     },
     "metadata": {
      "needs_background": "light"
     },
     "output_type": "display_data"
    }
   ],
   "source": [
    "ax = df[['Rings', 'Sex']].boxplot(by='Sex')\n",
    "ax.set_ylabel('Number of Rings')"
   ]
  },
  {
   "cell_type": "markdown",
   "id": "7932fbc2",
   "metadata": {},
   "source": [
    "- Or we can see the boxplot of every feature:"
   ]
  },
  {
   "cell_type": "code",
   "execution_count": 265,
   "id": "f6236e2d",
   "metadata": {},
   "outputs": [
    {
     "data": {
      "text/plain": [
       "Length               AxesSubplot(0.125,0.536818;0.133621x0.343182)\n",
       "Diameter          AxesSubplot(0.285345,0.536818;0.133621x0.343182)\n",
       "Height             AxesSubplot(0.44569,0.536818;0.133621x0.343182)\n",
       "Whole weight      AxesSubplot(0.606034,0.536818;0.133621x0.343182)\n",
       "Shucked weight    AxesSubplot(0.766379,0.536818;0.133621x0.343182)\n",
       "Viscera weight          AxesSubplot(0.125,0.125;0.133621x0.343182)\n",
       "Shell weight         AxesSubplot(0.285345,0.125;0.133621x0.343182)\n",
       "Rings                 AxesSubplot(0.44569,0.125;0.133621x0.343182)\n",
       "target_class         AxesSubplot(0.606034,0.125;0.133621x0.343182)\n",
       "dtype: object"
      ]
     },
     "execution_count": 265,
     "metadata": {},
     "output_type": "execute_result"
    },
    {
     "data": {
      "image/png": "[encoded data removed]",
      "text/plain": [
       "<Figure size 1080x720 with 10 Axes>"
      ]
     },
     "metadata": {
      "needs_background": "light"
     },
     "output_type": "display_data"
    }
   ],
   "source": [
    "boxplots_cols = [\"Sex\",\"Length\", \"Diameter\", \"Height\",\"Whole weight\", \"Shucked weight\", \"Viscera weight\",\"Shell weight\",\"Rings\",\"target_class\"]\n",
    "df[boxplots_cols].plot(kind='box', subplots=True, layout=(2,5), figsize=(15, 10))"
   ]
  },
  {
   "cell_type": "code",
   "execution_count": 266,
   "id": "145e7b02",
   "metadata": {},
   "outputs": [
    {
     "data": {
      "text/plain": [
       "array([[<AxesSubplot:title={'center':'Length'}>,\n",
       "        <AxesSubplot:title={'center':'Diameter'}>,\n",
       "        <AxesSubplot:title={'center':'Height'}>],\n",
       "       [<AxesSubplot:title={'center':'Whole weight'}>,\n",
       "        <AxesSubplot:title={'center':'Shucked weight'}>,\n",
       "        <AxesSubplot:title={'center':'Viscera weight'}>],\n",
       "       [<AxesSubplot:title={'center':'Shell weight'}>,\n",
       "        <AxesSubplot:title={'center':'Rings'}>,\n",
       "        <AxesSubplot:title={'center':'target_class'}>]], dtype=object)"
      ]
     },
     "execution_count": 266,
     "metadata": {},
     "output_type": "execute_result"
    },
    {
     "data": {
      "image/png": "[encoded data removed]",
      "text/plain": [
       "<Figure size 720x720 with 9 Axes>"
      ]
     },
     "metadata": {
      "needs_background": "light"
     },
     "output_type": "display_data"
    }
   ],
   "source": [
    "df.hist(bins=30,layout=(3,3), figsize=(10, 10))"
   ]
  },
  {
   "cell_type": "markdown",
   "id": "02aca91a",
   "metadata": {},
   "source": [
    "- Except the target class, the boxplots seem good and interpratable. The target_class's boxplot does not give many informantion beacuse there are 2 classes(0 and 1)."
   ]
  },
  {
   "cell_type": "markdown",
   "id": "2af72faf",
   "metadata": {},
   "source": [
    "# PART-2: Classification"
   ]
  },
  {
   "cell_type": "markdown",
   "id": "8f75507e",
   "metadata": {},
   "source": [
    "## 2.1 TRAIN-TEST SPLIT\n"
   ]
  },
  {
   "cell_type": "markdown",
   "id": "0136dc38",
   "metadata": {},
   "source": [
    "Now it is time to prepare out data to training and testing. To do that we import many things:\n",
    "\n"
   ]
  },
  {
   "cell_type": "code",
   "execution_count": 267,
   "id": "84c0a1ef",
   "metadata": {},
   "outputs": [],
   "source": [
    "from sklearn.model_selection import train_test_split\n",
    "from sklearn.preprocessing import MinMaxScaler\n",
    "from sklearn.utils import shuffle\n",
    "import pandas as pd\n",
    "import matplotlib.pyplot as plt\n",
    "%matplotlib inline\n",
    "import numpy as np\n",
    "\n",
    "from sklearn.model_selection import train_test_split\n",
    "import category_encoders as ce\n",
    "from sklearn.tree import DecisionTreeClassifier\n",
    "from sklearn.metrics import accuracy_score\n",
    "from sklearn import tree\n",
    "from sklearn.metrics import classification_report, confusion_matrix\n",
    "from sklearn.preprocessing import MinMaxScaler"
   ]
  },
  {
   "cell_type": "code",
   "execution_count": 268,
   "id": "a054df04",
   "metadata": {},
   "outputs": [
    {
     "data": {
      "text/html": [
       "<div>\n",
       "<style scoped>\n",
       "    .dataframe tbody tr th:only-of-type {\n",
       "        vertical-align: middle;\n",
       "    }\n",
       "\n",
       "    .dataframe tbody tr th {\n",
       "        vertical-align: top;\n",
       "    }\n",
       "\n",
       "    .dataframe thead th {\n",
       "        text-align: right;\n",
       "    }\n",
       "</style>\n",
       "<table border=\"1\" class=\"dataframe\">\n",
       "  <thead>\n",
       "    <tr style=\"text-align: right;\">\n",
       "      <th></th>\n",
       "      <th>Sex</th>\n",
       "      <th>Length</th>\n",
       "      <th>Diameter</th>\n",
       "      <th>Height</th>\n",
       "      <th>Whole weight</th>\n",
       "      <th>Shucked weight</th>\n",
       "      <th>Viscera weight</th>\n",
       "      <th>Shell weight</th>\n",
       "      <th>Rings</th>\n",
       "      <th>target_class</th>\n",
       "    </tr>\n",
       "  </thead>\n",
       "  <tbody>\n",
       "    <tr>\n",
       "      <th>0</th>\n",
       "      <td>M</td>\n",
       "      <td>0.350</td>\n",
       "      <td>0.265</td>\n",
       "      <td>0.090</td>\n",
       "      <td>0.2255</td>\n",
       "      <td>0.0995</td>\n",
       "      <td>0.0485</td>\n",
       "      <td>0.070</td>\n",
       "      <td>7</td>\n",
       "      <td>0</td>\n",
       "    </tr>\n",
       "    <tr>\n",
       "      <th>1</th>\n",
       "      <td>F</td>\n",
       "      <td>0.530</td>\n",
       "      <td>0.420</td>\n",
       "      <td>0.135</td>\n",
       "      <td>0.6770</td>\n",
       "      <td>0.2565</td>\n",
       "      <td>0.1415</td>\n",
       "      <td>0.210</td>\n",
       "      <td>9</td>\n",
       "      <td>0</td>\n",
       "    </tr>\n",
       "    <tr>\n",
       "      <th>2</th>\n",
       "      <td>M</td>\n",
       "      <td>0.440</td>\n",
       "      <td>0.365</td>\n",
       "      <td>0.125</td>\n",
       "      <td>0.5160</td>\n",
       "      <td>0.2155</td>\n",
       "      <td>0.1140</td>\n",
       "      <td>0.155</td>\n",
       "      <td>10</td>\n",
       "      <td>0</td>\n",
       "    </tr>\n",
       "    <tr>\n",
       "      <th>3</th>\n",
       "      <td>I</td>\n",
       "      <td>0.330</td>\n",
       "      <td>0.255</td>\n",
       "      <td>0.080</td>\n",
       "      <td>0.2050</td>\n",
       "      <td>0.0895</td>\n",
       "      <td>0.0395</td>\n",
       "      <td>0.055</td>\n",
       "      <td>7</td>\n",
       "      <td>0</td>\n",
       "    </tr>\n",
       "    <tr>\n",
       "      <th>4</th>\n",
       "      <td>I</td>\n",
       "      <td>0.425</td>\n",
       "      <td>0.300</td>\n",
       "      <td>0.095</td>\n",
       "      <td>0.3515</td>\n",
       "      <td>0.1410</td>\n",
       "      <td>0.0775</td>\n",
       "      <td>0.120</td>\n",
       "      <td>8</td>\n",
       "      <td>0</td>\n",
       "    </tr>\n",
       "  </tbody>\n",
       "</table>\n",
       "</div>"
      ],
      "text/plain": [
       "  Sex  Length  Diameter  Height  Whole weight  Shucked weight  Viscera weight  \\\n",
       "0   M   0.350     0.265   0.090        0.2255          0.0995          0.0485   \n",
       "1   F   0.530     0.420   0.135        0.6770          0.2565          0.1415   \n",
       "2   M   0.440     0.365   0.125        0.5160          0.2155          0.1140   \n",
       "3   I   0.330     0.255   0.080        0.2050          0.0895          0.0395   \n",
       "4   I   0.425     0.300   0.095        0.3515          0.1410          0.0775   \n",
       "\n",
       "   Shell weight  Rings  target_class  \n",
       "0         0.070      7             0  \n",
       "1         0.210      9             0  \n",
       "2         0.155     10             0  \n",
       "3         0.055      7             0  \n",
       "4         0.120      8             0  "
      ]
     },
     "execution_count": 268,
     "metadata": {},
     "output_type": "execute_result"
    }
   ],
   "source": [
    "#Let us see the dataFrame again:\n",
    "df.head()"
   ]
  },
  {
   "cell_type": "markdown",
   "id": "961df0bd",
   "metadata": {},
   "source": [
    "- We remove the Rings feature from the dataFrame because we determined the target_class according to the number of rings.\n",
    "So if we traint he classifiers with the 'Rings' feature, it would be cheating and unfair, and easy to classify."
   ]
  },
  {
   "cell_type": "code",
   "execution_count": 269,
   "id": "f0ea63b0",
   "metadata": {},
   "outputs": [
    {
     "data": {
      "text/html": [
       "<div>\n",
       "<style scoped>\n",
       "    .dataframe tbody tr th:only-of-type {\n",
       "        vertical-align: middle;\n",
       "    }\n",
       "\n",
       "    .dataframe tbody tr th {\n",
       "        vertical-align: top;\n",
       "    }\n",
       "\n",
       "    .dataframe thead th {\n",
       "        text-align: right;\n",
       "    }\n",
       "</style>\n",
       "<table border=\"1\" class=\"dataframe\">\n",
       "  <thead>\n",
       "    <tr style=\"text-align: right;\">\n",
       "      <th></th>\n",
       "      <th>Sex</th>\n",
       "      <th>Length</th>\n",
       "      <th>Diameter</th>\n",
       "      <th>Height</th>\n",
       "      <th>Whole weight</th>\n",
       "      <th>Shucked weight</th>\n",
       "      <th>Viscera weight</th>\n",
       "      <th>Shell weight</th>\n",
       "    </tr>\n",
       "  </thead>\n",
       "  <tbody>\n",
       "    <tr>\n",
       "      <th>0</th>\n",
       "      <td>M</td>\n",
       "      <td>0.350</td>\n",
       "      <td>0.265</td>\n",
       "      <td>0.090</td>\n",
       "      <td>0.2255</td>\n",
       "      <td>0.0995</td>\n",
       "      <td>0.0485</td>\n",
       "      <td>0.070</td>\n",
       "    </tr>\n",
       "    <tr>\n",
       "      <th>1</th>\n",
       "      <td>F</td>\n",
       "      <td>0.530</td>\n",
       "      <td>0.420</td>\n",
       "      <td>0.135</td>\n",
       "      <td>0.6770</td>\n",
       "      <td>0.2565</td>\n",
       "      <td>0.1415</td>\n",
       "      <td>0.210</td>\n",
       "    </tr>\n",
       "    <tr>\n",
       "      <th>2</th>\n",
       "      <td>M</td>\n",
       "      <td>0.440</td>\n",
       "      <td>0.365</td>\n",
       "      <td>0.125</td>\n",
       "      <td>0.5160</td>\n",
       "      <td>0.2155</td>\n",
       "      <td>0.1140</td>\n",
       "      <td>0.155</td>\n",
       "    </tr>\n",
       "    <tr>\n",
       "      <th>3</th>\n",
       "      <td>I</td>\n",
       "      <td>0.330</td>\n",
       "      <td>0.255</td>\n",
       "      <td>0.080</td>\n",
       "      <td>0.2050</td>\n",
       "      <td>0.0895</td>\n",
       "      <td>0.0395</td>\n",
       "      <td>0.055</td>\n",
       "    </tr>\n",
       "    <tr>\n",
       "      <th>4</th>\n",
       "      <td>I</td>\n",
       "      <td>0.425</td>\n",
       "      <td>0.300</td>\n",
       "      <td>0.095</td>\n",
       "      <td>0.3515</td>\n",
       "      <td>0.1410</td>\n",
       "      <td>0.0775</td>\n",
       "      <td>0.120</td>\n",
       "    </tr>\n",
       "  </tbody>\n",
       "</table>\n",
       "</div>"
      ],
      "text/plain": [
       "  Sex  Length  Diameter  Height  Whole weight  Shucked weight  Viscera weight  \\\n",
       "0   M   0.350     0.265   0.090        0.2255          0.0995          0.0485   \n",
       "1   F   0.530     0.420   0.135        0.6770          0.2565          0.1415   \n",
       "2   M   0.440     0.365   0.125        0.5160          0.2155          0.1140   \n",
       "3   I   0.330     0.255   0.080        0.2050          0.0895          0.0395   \n",
       "4   I   0.425     0.300   0.095        0.3515          0.1410          0.0775   \n",
       "\n",
       "   Shell weight  \n",
       "0         0.070  \n",
       "1         0.210  \n",
       "2         0.155  \n",
       "3         0.055  \n",
       "4         0.120  "
      ]
     },
     "execution_count": 269,
     "metadata": {},
     "output_type": "execute_result"
    }
   ],
   "source": [
    "\n",
    "#df_removed = df.drop('Rings', axis=1)\n",
    "#df_removed.head()\n",
    "\n",
    "#X will be our training and testing dataset\n",
    "X = df.drop(['target_class','Rings'], axis=1)\n",
    "#y will be the corresponding class labels\n",
    "y = df['target_class']\n",
    "X.head()"
   ]
  },
  {
   "cell_type": "markdown",
   "id": "65bf4b25",
   "metadata": {},
   "source": [
    "- Shuffling data serves the purpose of reducing variance and making sure that models remain general and overfit less.So let's shuffle the dataset to break the orderness:"
   ]
  },
  {
   "cell_type": "code",
   "execution_count": 270,
   "id": "e90e7f2a",
   "metadata": {},
   "outputs": [],
   "source": [
    "X, y = shuffle(X, y)"
   ]
  },
  {
   "cell_type": "markdown",
   "id": "6f0915c6",
   "metadata": {},
   "source": [
    "- Split the dataset as training(70%) and testing(30%):"
   ]
  },
  {
   "cell_type": "code",
   "execution_count": 271,
   "id": "cc2acdb3",
   "metadata": {},
   "outputs": [
    {
     "data": {
      "text/plain": [
       "((2923, 8), (1253, 8))"
      ]
     },
     "execution_count": 271,
     "metadata": {},
     "output_type": "execute_result"
    }
   ],
   "source": [
    "X_train, X_test, y_train, y_test = train_test_split(X,y,test_size=0.30, random_state=0)\n",
    "X_train.shape, X_test.shape"
   ]
  },
  {
   "cell_type": "code",
   "execution_count": 272,
   "id": "b06a132b",
   "metadata": {},
   "outputs": [
    {
     "data": {
      "text/plain": [
       "Sex                object\n",
       "Length            float64\n",
       "Diameter          float64\n",
       "Height            float64\n",
       "Whole weight      float64\n",
       "Shucked weight    float64\n",
       "Viscera weight    float64\n",
       "Shell weight      float64\n",
       "dtype: object"
      ]
     },
     "execution_count": 272,
     "metadata": {},
     "output_type": "execute_result"
    }
   ],
   "source": [
    "#Check the data types of the features:\n",
    "X_train.dtypes"
   ]
  },
  {
   "cell_type": "code",
   "execution_count": 273,
   "id": "a01eeeb7",
   "metadata": {},
   "outputs": [
    {
     "data": {
      "text/html": [
       "<div>\n",
       "<style scoped>\n",
       "    .dataframe tbody tr th:only-of-type {\n",
       "        vertical-align: middle;\n",
       "    }\n",
       "\n",
       "    .dataframe tbody tr th {\n",
       "        vertical-align: top;\n",
       "    }\n",
       "\n",
       "    .dataframe thead th {\n",
       "        text-align: right;\n",
       "    }\n",
       "</style>\n",
       "<table border=\"1\" class=\"dataframe\">\n",
       "  <thead>\n",
       "    <tr style=\"text-align: right;\">\n",
       "      <th></th>\n",
       "      <th>Sex</th>\n",
       "      <th>Length</th>\n",
       "      <th>Diameter</th>\n",
       "      <th>Height</th>\n",
       "      <th>Whole weight</th>\n",
       "      <th>Shucked weight</th>\n",
       "      <th>Viscera weight</th>\n",
       "      <th>Shell weight</th>\n",
       "    </tr>\n",
       "  </thead>\n",
       "  <tbody>\n",
       "    <tr>\n",
       "      <th>2010</th>\n",
       "      <td>M</td>\n",
       "      <td>0.450</td>\n",
       "      <td>0.330</td>\n",
       "      <td>0.105</td>\n",
       "      <td>0.4955</td>\n",
       "      <td>0.2575</td>\n",
       "      <td>0.0820</td>\n",
       "      <td>0.1290</td>\n",
       "    </tr>\n",
       "    <tr>\n",
       "      <th>1067</th>\n",
       "      <td>I</td>\n",
       "      <td>0.370</td>\n",
       "      <td>0.280</td>\n",
       "      <td>0.100</td>\n",
       "      <td>0.2210</td>\n",
       "      <td>0.1165</td>\n",
       "      <td>0.0265</td>\n",
       "      <td>0.0635</td>\n",
       "    </tr>\n",
       "    <tr>\n",
       "      <th>3434</th>\n",
       "      <td>I</td>\n",
       "      <td>0.375</td>\n",
       "      <td>0.285</td>\n",
       "      <td>0.090</td>\n",
       "      <td>0.2570</td>\n",
       "      <td>0.1045</td>\n",
       "      <td>0.0620</td>\n",
       "      <td>0.0750</td>\n",
       "    </tr>\n",
       "    <tr>\n",
       "      <th>2770</th>\n",
       "      <td>F</td>\n",
       "      <td>0.575</td>\n",
       "      <td>0.435</td>\n",
       "      <td>0.155</td>\n",
       "      <td>0.8975</td>\n",
       "      <td>0.4115</td>\n",
       "      <td>0.2325</td>\n",
       "      <td>0.2300</td>\n",
       "    </tr>\n",
       "    <tr>\n",
       "      <th>2821</th>\n",
       "      <td>I</td>\n",
       "      <td>0.450</td>\n",
       "      <td>0.335</td>\n",
       "      <td>0.105</td>\n",
       "      <td>0.3620</td>\n",
       "      <td>0.1575</td>\n",
       "      <td>0.0795</td>\n",
       "      <td>0.1095</td>\n",
       "    </tr>\n",
       "  </tbody>\n",
       "</table>\n",
       "</div>"
      ],
      "text/plain": [
       "     Sex  Length  Diameter  Height  Whole weight  Shucked weight  \\\n",
       "2010   M   0.450     0.330   0.105        0.4955          0.2575   \n",
       "1067   I   0.370     0.280   0.100        0.2210          0.1165   \n",
       "3434   I   0.375     0.285   0.090        0.2570          0.1045   \n",
       "2770   F   0.575     0.435   0.155        0.8975          0.4115   \n",
       "2821   I   0.450     0.335   0.105        0.3620          0.1575   \n",
       "\n",
       "      Viscera weight  Shell weight  \n",
       "2010          0.0820        0.1290  \n",
       "1067          0.0265        0.0635  \n",
       "3434          0.0620        0.0750  \n",
       "2770          0.2325        0.2300  \n",
       "2821          0.0795        0.1095  "
      ]
     },
     "execution_count": 273,
     "metadata": {},
     "output_type": "execute_result"
    }
   ],
   "source": [
    "X_train.head()"
   ]
  },
  {
   "cell_type": "markdown",
   "id": "7f0c00d1",
   "metadata": {},
   "source": [
    "- The 'Sex' feature does not have a numeric type. We need to convert it to a numeric type to use it in the ML classification model. Otherwise we are getting error:"
   ]
  },
  {
   "cell_type": "code",
   "execution_count": 274,
   "id": "045d60ae",
   "metadata": {},
   "outputs": [],
   "source": [
    "#To make it numeric, we use OrdinalEncoder function in sklearn:\n",
    "encoder = ce.OrdinalEncoder(cols=['Sex'])"
   ]
  },
  {
   "cell_type": "markdown",
   "id": "e65bb9d7",
   "metadata": {},
   "source": [
    "- I needed to install it first:"
   ]
  },
  {
   "cell_type": "code",
   "execution_count": 275,
   "id": "7f600ec0",
   "metadata": {},
   "outputs": [],
   "source": [
    "#!pip install category-encoders"
   ]
  },
  {
   "cell_type": "markdown",
   "id": "e913943a",
   "metadata": {},
   "source": [
    "- Now we use the fit_transform in out training dataset to learn the parameters.\n",
    "The fit method is calculating the mean and variance of each of the features present in our data. \n",
    "The transform method is transforming all the features using the respective mean and variance.\n",
    "\n",
    "- Using the transform method we can use the same mean and variance as it is calculated from our training data to transform our test data. \n",
    "Thus, the parameters learned by our model using the training data will help us to transform our test data.\n",
    "\n",
    "- If we will use the fit method on our test data too, we will compute a new mean and variance that is a new scale for each feature and will let our model learn about our test data too. Thus, what we want to keep as a surprise is no longer unknown to our model and we will not get a good estimate of how our model is performing on the test \n",
    "(unseen) data which is the ultimate goal of building a model using machine learning algorithm."
   ]
  },
  {
   "cell_type": "code",
   "execution_count": 276,
   "id": "f96b2680",
   "metadata": {},
   "outputs": [],
   "source": [
    "X_train = encoder.fit_transform(X_train)\n",
    "X_test = encoder.transform(X_test)"
   ]
  },
  {
   "cell_type": "code",
   "execution_count": 277,
   "id": "e27d04d3",
   "metadata": {},
   "outputs": [
    {
     "data": {
      "text/html": [
       "<div>\n",
       "<style scoped>\n",
       "    .dataframe tbody tr th:only-of-type {\n",
       "        vertical-align: middle;\n",
       "    }\n",
       "\n",
       "    .dataframe tbody tr th {\n",
       "        vertical-align: top;\n",
       "    }\n",
       "\n",
       "    .dataframe thead th {\n",
       "        text-align: right;\n",
       "    }\n",
       "</style>\n",
       "<table border=\"1\" class=\"dataframe\">\n",
       "  <thead>\n",
       "    <tr style=\"text-align: right;\">\n",
       "      <th></th>\n",
       "      <th>Sex</th>\n",
       "      <th>Length</th>\n",
       "      <th>Diameter</th>\n",
       "      <th>Height</th>\n",
       "      <th>Whole weight</th>\n",
       "      <th>Shucked weight</th>\n",
       "      <th>Viscera weight</th>\n",
       "      <th>Shell weight</th>\n",
       "    </tr>\n",
       "  </thead>\n",
       "  <tbody>\n",
       "    <tr>\n",
       "      <th>2010</th>\n",
       "      <td>1</td>\n",
       "      <td>0.450</td>\n",
       "      <td>0.330</td>\n",
       "      <td>0.105</td>\n",
       "      <td>0.4955</td>\n",
       "      <td>0.2575</td>\n",
       "      <td>0.0820</td>\n",
       "      <td>0.1290</td>\n",
       "    </tr>\n",
       "    <tr>\n",
       "      <th>1067</th>\n",
       "      <td>2</td>\n",
       "      <td>0.370</td>\n",
       "      <td>0.280</td>\n",
       "      <td>0.100</td>\n",
       "      <td>0.2210</td>\n",
       "      <td>0.1165</td>\n",
       "      <td>0.0265</td>\n",
       "      <td>0.0635</td>\n",
       "    </tr>\n",
       "    <tr>\n",
       "      <th>3434</th>\n",
       "      <td>2</td>\n",
       "      <td>0.375</td>\n",
       "      <td>0.285</td>\n",
       "      <td>0.090</td>\n",
       "      <td>0.2570</td>\n",
       "      <td>0.1045</td>\n",
       "      <td>0.0620</td>\n",
       "      <td>0.0750</td>\n",
       "    </tr>\n",
       "    <tr>\n",
       "      <th>2770</th>\n",
       "      <td>3</td>\n",
       "      <td>0.575</td>\n",
       "      <td>0.435</td>\n",
       "      <td>0.155</td>\n",
       "      <td>0.8975</td>\n",
       "      <td>0.4115</td>\n",
       "      <td>0.2325</td>\n",
       "      <td>0.2300</td>\n",
       "    </tr>\n",
       "    <tr>\n",
       "      <th>2821</th>\n",
       "      <td>2</td>\n",
       "      <td>0.450</td>\n",
       "      <td>0.335</td>\n",
       "      <td>0.105</td>\n",
       "      <td>0.3620</td>\n",
       "      <td>0.1575</td>\n",
       "      <td>0.0795</td>\n",
       "      <td>0.1095</td>\n",
       "    </tr>\n",
       "  </tbody>\n",
       "</table>\n",
       "</div>"
      ],
      "text/plain": [
       "      Sex  Length  Diameter  Height  Whole weight  Shucked weight  \\\n",
       "2010    1   0.450     0.330   0.105        0.4955          0.2575   \n",
       "1067    2   0.370     0.280   0.100        0.2210          0.1165   \n",
       "3434    2   0.375     0.285   0.090        0.2570          0.1045   \n",
       "2770    3   0.575     0.435   0.155        0.8975          0.4115   \n",
       "2821    2   0.450     0.335   0.105        0.3620          0.1575   \n",
       "\n",
       "      Viscera weight  Shell weight  \n",
       "2010          0.0820        0.1290  \n",
       "1067          0.0265        0.0635  \n",
       "3434          0.0620        0.0750  \n",
       "2770          0.2325        0.2300  \n",
       "2821          0.0795        0.1095  "
      ]
     },
     "execution_count": 277,
     "metadata": {},
     "output_type": "execute_result"
    }
   ],
   "source": [
    "#We see that 'Sex' feature has new numeric values.\n",
    "X_train.head()"
   ]
  },
  {
   "cell_type": "code",
   "execution_count": 278,
   "id": "146c0de3",
   "metadata": {},
   "outputs": [
    {
     "data": {
      "text/html": [
       "<div>\n",
       "<style scoped>\n",
       "    .dataframe tbody tr th:only-of-type {\n",
       "        vertical-align: middle;\n",
       "    }\n",
       "\n",
       "    .dataframe tbody tr th {\n",
       "        vertical-align: top;\n",
       "    }\n",
       "\n",
       "    .dataframe thead th {\n",
       "        text-align: right;\n",
       "    }\n",
       "</style>\n",
       "<table border=\"1\" class=\"dataframe\">\n",
       "  <thead>\n",
       "    <tr style=\"text-align: right;\">\n",
       "      <th></th>\n",
       "      <th>Sex</th>\n",
       "      <th>Length</th>\n",
       "      <th>Diameter</th>\n",
       "      <th>Height</th>\n",
       "      <th>Whole weight</th>\n",
       "      <th>Shucked weight</th>\n",
       "      <th>Viscera weight</th>\n",
       "      <th>Shell weight</th>\n",
       "    </tr>\n",
       "  </thead>\n",
       "  <tbody>\n",
       "    <tr>\n",
       "      <th>1148</th>\n",
       "      <td>3</td>\n",
       "      <td>0.580</td>\n",
       "      <td>0.450</td>\n",
       "      <td>0.155</td>\n",
       "      <td>0.9300</td>\n",
       "      <td>0.3850</td>\n",
       "      <td>0.246</td>\n",
       "      <td>0.265</td>\n",
       "    </tr>\n",
       "    <tr>\n",
       "      <th>2596</th>\n",
       "      <td>3</td>\n",
       "      <td>0.600</td>\n",
       "      <td>0.460</td>\n",
       "      <td>0.150</td>\n",
       "      <td>1.2350</td>\n",
       "      <td>0.6025</td>\n",
       "      <td>0.274</td>\n",
       "      <td>0.290</td>\n",
       "    </tr>\n",
       "    <tr>\n",
       "      <th>2767</th>\n",
       "      <td>2</td>\n",
       "      <td>0.560</td>\n",
       "      <td>0.435</td>\n",
       "      <td>0.135</td>\n",
       "      <td>0.7200</td>\n",
       "      <td>0.3290</td>\n",
       "      <td>0.103</td>\n",
       "      <td>0.251</td>\n",
       "    </tr>\n",
       "    <tr>\n",
       "      <th>2129</th>\n",
       "      <td>1</td>\n",
       "      <td>0.585</td>\n",
       "      <td>0.455</td>\n",
       "      <td>0.140</td>\n",
       "      <td>0.9700</td>\n",
       "      <td>0.4620</td>\n",
       "      <td>0.185</td>\n",
       "      <td>0.295</td>\n",
       "    </tr>\n",
       "    <tr>\n",
       "      <th>2633</th>\n",
       "      <td>2</td>\n",
       "      <td>0.425</td>\n",
       "      <td>0.340</td>\n",
       "      <td>0.100</td>\n",
       "      <td>0.3515</td>\n",
       "      <td>0.1625</td>\n",
       "      <td>0.082</td>\n",
       "      <td>0.094</td>\n",
       "    </tr>\n",
       "  </tbody>\n",
       "</table>\n",
       "</div>"
      ],
      "text/plain": [
       "      Sex  Length  Diameter  Height  Whole weight  Shucked weight  \\\n",
       "1148    3   0.580     0.450   0.155        0.9300          0.3850   \n",
       "2596    3   0.600     0.460   0.150        1.2350          0.6025   \n",
       "2767    2   0.560     0.435   0.135        0.7200          0.3290   \n",
       "2129    1   0.585     0.455   0.140        0.9700          0.4620   \n",
       "2633    2   0.425     0.340   0.100        0.3515          0.1625   \n",
       "\n",
       "      Viscera weight  Shell weight  \n",
       "1148           0.246         0.265  \n",
       "2596           0.274         0.290  \n",
       "2767           0.103         0.251  \n",
       "2129           0.185         0.295  \n",
       "2633           0.082         0.094  "
      ]
     },
     "execution_count": 278,
     "metadata": {},
     "output_type": "execute_result"
    }
   ],
   "source": [
    "#Also in testing set.\n",
    "X_test.head()"
   ]
  },
  {
   "cell_type": "code",
   "execution_count": 279,
   "id": "86352c9c",
   "metadata": {},
   "outputs": [],
   "source": [
    "scaler = MinMaxScaler()\n",
    "X_train = scaler.fit_transform(X_train)\n",
    "X_test = scaler.transform(X_test)"
   ]
  },
  {
   "cell_type": "markdown",
   "id": "7a488237",
   "metadata": {},
   "source": [
    "## 2.2 - DECISION TREE "
   ]
  },
  {
   "cell_type": "markdown",
   "id": "3ae7f90a",
   "metadata": {},
   "source": [
    "Define a Decision Tree classifier model. Max depth is a hyper-parameter. We can try different values to reach the best accuracy."
   ]
  },
  {
   "cell_type": "code",
   "execution_count": 280,
   "id": "8d2ac2f1",
   "metadata": {},
   "outputs": [
    {
     "data": {
      "text/plain": [
       "DecisionTreeClassifier(max_depth=5, random_state=0)"
      ]
     },
     "execution_count": 280,
     "metadata": {},
     "output_type": "execute_result"
    }
   ],
   "source": [
    "clf = DecisionTreeClassifier(max_depth=5, random_state=0)\n",
    "clf.fit(X_train, y_train)"
   ]
  },
  {
   "cell_type": "markdown",
   "id": "aeb28a4d",
   "metadata": {},
   "source": [
    "- Predict the testing set and training set:"
   ]
  },
  {
   "cell_type": "code",
   "execution_count": 281,
   "id": "118b587b",
   "metadata": {},
   "outputs": [
    {
     "data": {
      "text/plain": [
       "'\\nplt.figure(figsize=(12,8))\\ntree.plot_tree(clf.fit(X_train, y_train))\\n'"
      ]
     },
     "execution_count": 281,
     "metadata": {},
     "output_type": "execute_result"
    }
   ],
   "source": [
    "#If you want you can visualize the decision tree:\n",
    "'''\n",
    "plt.figure(figsize=(12,8))\n",
    "tree.plot_tree(clf.fit(X_train, y_train))\n",
    "'''"
   ]
  },
  {
   "cell_type": "code",
   "execution_count": 282,
   "id": "e4caa88c",
   "metadata": {},
   "outputs": [
    {
     "name": "stdout",
     "output_type": "stream",
     "text": [
      "Training accuracy score : 0.8755\n",
      "Testing accuracy score: 0.8795\n"
     ]
    }
   ],
   "source": [
    "y_pred_test = clf.predict(X_test)\n",
    "y_pred_train = clf.predict(X_train)\n",
    "\n",
    "acc_training = accuracy_score(y_train, y_pred_train)\n",
    "acc_testing = accuracy_score(y_test, y_pred_test)\n",
    "print('Training accuracy score : {0:0.4f}'.format(acc_training))\n",
    "print('Testing accuracy score: {0:0.4f}'.format(acc_testing))"
   ]
  },
  {
   "cell_type": "code",
   "execution_count": 283,
   "id": "8f4e2cf3",
   "metadata": {},
   "outputs": [
    {
     "data": {
      "text/plain": [
       "array([[1019,   53],\n",
       "       [  98,   83]])"
      ]
     },
     "execution_count": 283,
     "metadata": {},
     "output_type": "execute_result"
    }
   ],
   "source": [
    "#Let's see the confusion matrix\n",
    "conf_matrix = confusion_matrix(y_test, y_pred_test)\n",
    "conf_matrix"
   ]
  },
  {
   "cell_type": "code",
   "execution_count": 284,
   "id": "a3b3f70c",
   "metadata": {},
   "outputs": [
    {
     "name": "stdout",
     "output_type": "stream",
     "text": [
      "              precision    recall  f1-score   support\n",
      "\n",
      "           0       0.91      0.95      0.93      1072\n",
      "           1       0.61      0.46      0.52       181\n",
      "\n",
      "    accuracy                           0.88      1253\n",
      "   macro avg       0.76      0.70      0.73      1253\n",
      "weighted avg       0.87      0.88      0.87      1253\n",
      "\n"
     ]
    }
   ],
   "source": [
    "#Let's see the calssification report:\n",
    "print(classification_report(y_test, y_pred_test))"
   ]
  },
  {
   "cell_type": "markdown",
   "id": "23181a76",
   "metadata": {},
   "source": [
    "### RESULT:"
   ]
  },
  {
   "cell_type": "markdown",
   "id": "161439e3",
   "metadata": {},
   "source": [
    "We get 0.85 testing accuracy in Desicion Tree Classifier.(Of course the result can vary because we are randomly selecting the train and test splits. However, I did the experiments many times and see that the accuracy result will be between [0.84, 0.87] range in all the classifiers (Decision Tree, KNearest Neighbors, SVC, Logistic Regression, KMeans, and Random Forest below)."
   ]
  },
  {
   "cell_type": "markdown",
   "id": "245683c8",
   "metadata": {},
   "source": [
    "## 2.3 - KNEAREST NEIGHBORS"
   ]
  },
  {
   "cell_type": "markdown",
   "id": "7cc9b206",
   "metadata": {},
   "source": [
    "- Define KNearest Neighbors classifier and try different k-values in the range (0,20). (k is a hyper-parameter):"
   ]
  },
  {
   "cell_type": "code",
   "execution_count": 285,
   "id": "321ff66d",
   "metadata": {},
   "outputs": [
    {
     "name": "stdout",
     "output_type": "stream",
     "text": [
      "max score =  0.8802873104549083\n",
      "k =  6\n",
      "max score validation =  0.8802873104549083\n"
     ]
    }
   ],
   "source": [
    "from sklearn.neighbors import KNeighborsClassifier\n",
    "\n",
    "k_range = range(1,20)\n",
    "scores = []\n",
    "for k in k_range:\n",
    "    knn = KNeighborsClassifier(n_neighbors=k)\n",
    "    knn.fit(X_train, y_train)\n",
    "    scores.append(knn.score(X_test, y_test))\n",
    "    \n",
    "#print(scores)\n",
    "print(\"max score = \",max(scores))\n",
    "k_max = scores.index(max(scores))\n",
    "print(\"k = \", k_max)\n",
    "print(\"max score validation = \",scores[k_max])"
   ]
  },
  {
   "cell_type": "markdown",
   "id": "b76810df",
   "metadata": {},
   "source": [
    "- The maximum score in KNearest Neighbor algrithm is 0.85 with k=17"
   ]
  },
  {
   "cell_type": "markdown",
   "id": "414674ef",
   "metadata": {},
   "source": [
    "## 2.4 - SVC"
   ]
  },
  {
   "cell_type": "markdown",
   "id": "740046f4",
   "metadata": {},
   "source": [
    "- Define a SV Classifier:"
   ]
  },
  {
   "cell_type": "code",
   "execution_count": 286,
   "id": "39d17e64",
   "metadata": {},
   "outputs": [
    {
     "name": "stdout",
     "output_type": "stream",
     "text": [
      "Training score =  0.8518645227505987\n",
      "Testing score =  0.8723064644852354\n"
     ]
    }
   ],
   "source": [
    "from sklearn.svm import SVC\n",
    "\n",
    "svm = SVC().fit(X_train, y_train)\n",
    "\n",
    "print(\"Training score = \",svm.score(X_train, y_train))\n",
    "print(\"Testing score = \",svm.score(X_test, y_test))"
   ]
  },
  {
   "cell_type": "code",
   "execution_count": 287,
   "id": "7137e129",
   "metadata": {},
   "outputs": [
    {
     "name": "stdout",
     "output_type": "stream",
     "text": [
      "              precision    recall  f1-score   support\n",
      "\n",
      "           0       0.88      0.99      0.93      1072\n",
      "           1       0.77      0.17      0.27       181\n",
      "\n",
      "    accuracy                           0.87      1253\n",
      "   macro avg       0.82      0.58      0.60      1253\n",
      "weighted avg       0.86      0.87      0.84      1253\n",
      "\n"
     ]
    }
   ],
   "source": [
    "#Let's see the calssification report:\n",
    "y_pred_test = svm.predict(X_test)\n",
    "print(classification_report(y_test, y_pred_test))"
   ]
  },
  {
   "cell_type": "markdown",
   "id": "45041f0d",
   "metadata": {},
   "source": [
    "## 2.5 - LOGISTIC REGRESSION"
   ]
  },
  {
   "cell_type": "markdown",
   "id": "3c46206d",
   "metadata": {},
   "source": [
    "- Define a logistic regression classifier:"
   ]
  },
  {
   "cell_type": "code",
   "execution_count": 288,
   "id": "fc628e19",
   "metadata": {},
   "outputs": [
    {
     "name": "stdout",
     "output_type": "stream",
     "text": [
      "Training score =  0.8436537803626412\n",
      "Testing score =  0.8723064644852354\n"
     ]
    }
   ],
   "source": [
    "from sklearn.linear_model import LogisticRegression\n",
    "\n",
    "logreg = LogisticRegression()\n",
    "logreg.fit(X_train, y_train)\n",
    "\n",
    "print(\"Training score = \",logreg.score(X_train, y_train))\n",
    "print(\"Testing score = \",logreg.score(X_test, y_test))"
   ]
  },
  {
   "cell_type": "code",
   "execution_count": 289,
   "id": "410ebbbc",
   "metadata": {},
   "outputs": [
    {
     "name": "stdout",
     "output_type": "stream",
     "text": [
      "              precision    recall  f1-score   support\n",
      "\n",
      "           0       0.88      0.99      0.93      1072\n",
      "           1       0.78      0.16      0.27       181\n",
      "\n",
      "    accuracy                           0.87      1253\n",
      "   macro avg       0.83      0.58      0.60      1253\n",
      "weighted avg       0.86      0.87      0.83      1253\n",
      "\n"
     ]
    }
   ],
   "source": [
    "#Let's see the calssification report:\n",
    "y_pred_test = logreg.predict(X_test)\n",
    "print(classification_report(y_test, y_pred_test))"
   ]
  },
  {
   "cell_type": "markdown",
   "id": "b47f3a80",
   "metadata": {},
   "source": [
    "## 2.6 - KMEANS"
   ]
  },
  {
   "cell_type": "markdown",
   "id": "2399c2d9",
   "metadata": {},
   "source": [
    "- Define Kmeans classifier with k=2. Here k is a hyper-parameter. We make k equal 2 because we have 2 classes:"
   ]
  },
  {
   "cell_type": "code",
   "execution_count": 290,
   "id": "6d8dfb63",
   "metadata": {},
   "outputs": [
    {
     "name": "stdout",
     "output_type": "stream",
     "text": [
      "Testing score =  0.3136472466081405\n"
     ]
    }
   ],
   "source": [
    "from sklearn.cluster import KMeans\n",
    "kmeans = KMeans(n_clusters=2)\n",
    "kmeans.fit(X_train)\n",
    "y_kmeans = kmeans.predict(X_test)\n",
    "acc_testing = accuracy_score(y_test, y_kmeans)\n",
    "\n",
    "print(\"Testing score = \",acc_testing)"
   ]
  },
  {
   "cell_type": "code",
   "execution_count": 291,
   "id": "e77c9167",
   "metadata": {},
   "outputs": [
    {
     "name": "stdout",
     "output_type": "stream",
     "text": [
      "              precision    recall  f1-score   support\n",
      "\n",
      "           0       0.78      0.28      0.41      1072\n",
      "           1       0.11      0.52      0.18       181\n",
      "\n",
      "    accuracy                           0.31      1253\n",
      "   macro avg       0.44      0.40      0.30      1253\n",
      "weighted avg       0.68      0.31      0.38      1253\n",
      "\n"
     ]
    }
   ],
   "source": [
    "#Let's see the calssification report:\n",
    "\n",
    "print(classification_report(y_test, y_kmeans))"
   ]
  },
  {
   "cell_type": "markdown",
   "id": "b22d1070",
   "metadata": {},
   "source": [
    "## 2.7 - RANDOM FOREST"
   ]
  },
  {
   "cell_type": "markdown",
   "id": "bd20e3b3",
   "metadata": {},
   "source": [
    "- Define random forest classifier with max depth is 3. Here max_depth is a hyper-parameter."
   ]
  },
  {
   "cell_type": "code",
   "execution_count": 292,
   "id": "90f75d54",
   "metadata": {},
   "outputs": [
    {
     "name": "stdout",
     "output_type": "stream",
     "text": [
      "Testing score =  0.8563447725458898\n"
     ]
    }
   ],
   "source": [
    "from sklearn.ensemble import RandomForestClassifier\n",
    "from sklearn.datasets import make_classification\n",
    "\n",
    "clf_rand_forest = RandomForestClassifier(max_depth=3, random_state=0)\n",
    "clf_rand_forest.fit(X_train, y_train)\n",
    "\n",
    "y_pred=clf_rand_forest.predict(X_test)\n",
    "acc_testing = accuracy_score(y_test, y_pred)\n",
    "\n",
    "print(\"Testing score = \", acc_testing)"
   ]
  },
  {
   "cell_type": "code",
   "execution_count": 293,
   "id": "315e347a",
   "metadata": {},
   "outputs": [
    {
     "name": "stdout",
     "output_type": "stream",
     "text": [
      "              precision    recall  f1-score   support\n",
      "\n",
      "           0       0.86      1.00      0.92      1072\n",
      "           1       0.67      0.01      0.02       181\n",
      "\n",
      "    accuracy                           0.86      1253\n",
      "   macro avg       0.76      0.51      0.47      1253\n",
      "weighted avg       0.83      0.86      0.79      1253\n",
      "\n"
     ]
    }
   ],
   "source": [
    "#Let's see the calssification report:\n",
    "print(classification_report(y_test, y_pred))"
   ]
  },
  {
   "cell_type": "markdown",
   "id": "336afabe",
   "metadata": {},
   "source": [
    "## 2.8 - PCA"
   ]
  },
  {
   "cell_type": "markdown",
   "id": "cc5f8a2d",
   "metadata": {},
   "source": [
    "- Now, let's try something different. We apply PCA to our training and testing datasets to rduce the dimension. Let's hope PCA will increare the testing accuracy:"
   ]
  },
  {
   "cell_type": "code",
   "execution_count": 294,
   "id": "be05c102",
   "metadata": {},
   "outputs": [
    {
     "name": "stdout",
     "output_type": "stream",
     "text": [
      "The number of components =  2\n"
     ]
    }
   ],
   "source": [
    "from sklearn.decomposition import PCA\n",
    "pca = PCA(.95)\n",
    "pca.fit(X_train)\n",
    "print(\"The number of components = \",pca.n_components_)"
   ]
  },
  {
   "cell_type": "code",
   "execution_count": 295,
   "id": "c4b76da9",
   "metadata": {},
   "outputs": [],
   "source": [
    "X_train_pca = pca.transform(X_train)\n",
    "X_test_pca = pca.transform(X_test)"
   ]
  },
  {
   "cell_type": "code",
   "execution_count": 296,
   "id": "6c74c8a0",
   "metadata": {},
   "outputs": [
    {
     "data": {
      "text/plain": [
       "(2923, 2)"
      ]
     },
     "execution_count": 296,
     "metadata": {},
     "output_type": "execute_result"
    }
   ],
   "source": [
    "X_train_pca.shape"
   ]
  },
  {
   "cell_type": "markdown",
   "id": "1300f2a0",
   "metadata": {},
   "source": [
    "- To test the PCA, I use logistic regression classifier:"
   ]
  },
  {
   "cell_type": "code",
   "execution_count": 297,
   "id": "3d5d6037",
   "metadata": {},
   "outputs": [
    {
     "name": "stdout",
     "output_type": "stream",
     "text": [
      "Test accuracy =  0.8491620111731844\n"
     ]
    }
   ],
   "source": [
    "from sklearn.linear_model import LogisticRegression\n",
    "logreg = LogisticRegression(solver = 'lbfgs')\n",
    "logreg.fit(X_train_pca, y_train)\n",
    "print(\"Test accuracy = \",logreg.score(X_test_pca, y_test))"
   ]
  },
  {
   "cell_type": "markdown",
   "id": "54cf76a5",
   "metadata": {},
   "source": [
    "- Unfortunately, PCA didn't change the accuracy. It is still in the range [0,84, 0.87]."
   ]
  },
  {
   "cell_type": "markdown",
   "id": "bff327f6",
   "metadata": {},
   "source": [
    "- Untill this point we tried 6 classifiers: \n",
    "\n",
    "  1. Decision Tree\n",
    "  2. KNearest Neighbors\n",
    "  3. SVC\n",
    "  4. Logistic Regression\n",
    "  5. KMeans\n",
    "  6. Random Forest\n",
    "\n",
    "However, their accuracy reslts on testing set were similar (in the range [0.83, 0.87]).\n",
    "Therefore I couldn't decide which classifier is the best. The last thing we can do is to use cross-validatin:"
   ]
  },
  {
   "cell_type": "markdown",
   "id": "adec9315",
   "metadata": {},
   "source": [
    "## 2.9 - Cross Validation"
   ]
  },
  {
   "cell_type": "markdown",
   "id": "a69419dc",
   "metadata": {},
   "source": [
    "- I will try three types of cross-validation in sklearn:\n",
    "\n",
    "  1. Stratified KFold\n",
    "  2. Shuffle Split\n",
    "  3. KFold"
   ]
  },
  {
   "cell_type": "markdown",
   "id": "88e8271c",
   "metadata": {},
   "source": [
    "- Since the accuracy results were similar in the six classifier, I will just choose 2 of them in cross-validation experiments:\n",
    "    Random Forest and SVC."
   ]
  },
  {
   "cell_type": "code",
   "execution_count": 298,
   "id": "157b2cc9",
   "metadata": {},
   "outputs": [
    {
     "name": "stdout",
     "output_type": "stream",
     "text": [
      "\n",
      "SVC cross-validation results:\n",
      "Stratified KFold accuracy =  0.8460484720758693\n",
      "Shuffle Split accuracy =  0.8403648802736603\n",
      "KFold accuracy =  0.8422989111345276\n",
      "\n",
      "RANDOM FOREST cross-validation results:\n",
      "Stratified KFold accuracy =  0.826205362369746\n",
      "Shuffle Split accuracy =  0.8228050171037629\n",
      "KFold accuracy =  0.8275693712680013\n"
     ]
    }
   ],
   "source": [
    "from sklearn.model_selection import cross_val_score\n",
    "from sklearn.model_selection import KFold, StratifiedKFold, ShuffleSplit\n",
    "\n",
    "#SVC\n",
    "#\n",
    "#print(X_train.shape,y_train.shape)\n",
    "print()\n",
    "cv1 = StratifiedKFold(n_splits=5)\n",
    "cv2 = ShuffleSplit(n_splits=5, test_size=.3)\n",
    "cv3 = KFold(n_splits=5, shuffle=True)\n",
    "\n",
    "print(\"SVC cross-validation results:\")\n",
    "scores1 = cross_val_score(svm, X_train, y_train, cv=cv1)\n",
    "print(\"Stratified KFold accuracy = \",np.mean(scores1))\n",
    "\n",
    "scores2 = cross_val_score(svm, X_train, y_train, cv=cv2)\n",
    "print(\"Shuffle Split accuracy = \",np.mean(scores2))\n",
    "\n",
    "scores3 = cross_val_score(svm, X_train, y_train, cv=cv3)\n",
    "print(\"KFold accuracy = \",np.mean(scores3))\n",
    "\n",
    "\n",
    "\n",
    "#RANDOM FOREST\n",
    "#\n",
    "#print(X_train.shape,y_train.shape)\n",
    "print()\n",
    "cv1 = StratifiedKFold(n_splits=5)\n",
    "cv2 = ShuffleSplit(n_splits=5, test_size=.3)\n",
    "cv3 = KFold(n_splits=5, shuffle=True)\n",
    "\n",
    "print(\"RANDOM FOREST cross-validation results:\")\n",
    "scores1 = cross_val_score(clf_rand_forest, X_train, y_train, cv=cv1)\n",
    "print(\"Stratified KFold accuracy = \",np.mean(scores1))\n",
    "\n",
    "scores2 = cross_val_score(clf_rand_forest, X_train, y_train, cv=cv2)\n",
    "print(\"Shuffle Split accuracy = \",np.mean(scores2))\n",
    "\n",
    "scores3 = cross_val_score(clf_rand_forest, X_train, y_train, cv=cv3)\n",
    "print(\"KFold accuracy = \",np.mean(scores3))"
   ]
  },
  {
   "cell_type": "markdown",
   "id": "fe9bd6fe",
   "metadata": {},
   "source": [
    "- The SVC results(0.856, 0.843, 0.854) are better than Random Forest classifier results(0,829, 0.837, 0.829).\n",
    "- However, the results could be different because cross-validation is randomly dividing the dataset. So, there is a random process."
   ]
  },
  {
   "cell_type": "markdown",
   "id": "feb64828",
   "metadata": {},
   "source": [
    "- Cross-validation couldn't increase the classification results and it is still in the range [0,83, 0.87] in each experiment."
   ]
  },
  {
   "cell_type": "markdown",
   "id": "f82e7446",
   "metadata": {},
   "source": [
    "# 3 - OVERALL RESULT"
   ]
  },
  {
   "cell_type": "markdown",
   "id": "b5d8a1bc",
   "metadata": {},
   "source": [
    "\n",
    "- With ABALONE Dataset first we did some data exploration, then we use six classifier to correctly classify data such as:\n",
    "\n",
    "  1. Decision Tree\n",
    "  2. KNearest Neighbors\n",
    "  3. SVC\n",
    "  4. Logistic Regression\n",
    "  5. KMeans\n",
    "  6. Random Forest"
   ]
  },
  {
   "cell_type": "markdown",
   "id": "75ff6c4e",
   "metadata": {},
   "source": [
    "All the six classifiers gave the similar accuracy results on testing data in the range[0.83, 0.87]. I also tried some hyper-parameter tunning but results didn't change that much."
   ]
  },
  {
   "cell_type": "markdown",
   "id": "601e3eb4",
   "metadata": {},
   "source": [
    "- To increase the results, I tried PCA to reduce the dimension. However it didn't increase the accuracy."
   ]
  },
  {
   "cell_type": "markdown",
   "id": "2b822814",
   "metadata": {},
   "source": [
    "- Another technique was using cross-validation, but it also couldn't increase the result."
   ]
  },
  {
   "cell_type": "markdown",
   "id": "ca293246",
   "metadata": {},
   "source": [
    "- The reasons for this problem could be:\n",
    "\n",
    "  1. The dataset is unbalanced. The dataset has 3484 samples for class 0 (young snails) and 692 samples for class 1 (old snails). So, class 1 is under-represented.\n",
    "  2. The size of the dataset is not big enough. There are 4176 samples in total."
   ]
  },
  {
   "cell_type": "code",
   "execution_count": null,
   "id": "e76fe7ba",
   "metadata": {},
   "outputs": [],
   "source": [
    "\n"
   ]
  }
 ],
 "metadata": {
  "kernelspec": {
   "display_name": "Python 3",
   "language": "python",
   "name": "python3"
  },
  "language_info": {
   "codemirror_mode": {
    "name": "ipython",
    "version": 3
   },
   "file_extension": ".py",
   "mimetype": "text/x-python",
   "name": "python",
   "nbconvert_exporter": "python",
   "pygments_lexer": "ipython3",
   "version": "3.8.8"
  }
 },
 "nbformat": 4,
 "nbformat_minor": 5
}
