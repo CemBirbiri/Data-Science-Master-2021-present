{
  "nbformat": 4,
  "nbformat_minor": 5,
  "metadata": {
    "kernelspec": {
      "display_name": "Python 3 (ipykernel)",
      "language": "python",
      "name": "python3"
    },
    "language_info": {
      "codemirror_mode": {
        "name": "ipython",
        "version": 3
      },
      "file_extension": ".py",
      "mimetype": "text/x-python",
      "name": "python",
      "nbconvert_exporter": "python",
      "pygments_lexer": "ipython3",
      "version": "3.8.10"
    },
    "colab": {
      "name": "Lab_6_Ufuk_Cem_Birbiri.ipynb",
      "provenance": [],
      "collapsed_sections": []
    }
  },
  "cells": [
    {
      "cell_type": "markdown",
      "metadata": {
        "tags": [],
        "id": "bd2e3d9d"
      },
      "source": [
        "<h1 style=\"font-size:3rem;color:#A3623B;\">Lab 6</h1>\n",
        "\n",
        "## Security and Ethical aspects of data\n",
        "### Amaya Nogales Gómez"
      ],
      "id": "bd2e3d9d"
    },
    {
      "cell_type": "markdown",
      "metadata": {
        "id": "a972f946"
      },
      "source": [
        "## 6.1 Fairness metrics for synthetic datasets\n"
      ],
      "id": "a972f946"
    },
    {
      "cell_type": "code",
      "metadata": {
        "id": "4f2ce6cd"
      },
      "source": [
        "#we import all the required libraries\n",
        "import numpy as np\n",
        "import matplotlib.pyplot as plt # for plotting stuff\n",
        "from random import seed, shuffle\n",
        "from scipy.stats import multivariate_normal # for generating synthetic data \n",
        "from sklearn import datasets #For real datasets\n",
        "SEED = 1122334455\n",
        "seed(SEED) # set the random seed so that the random permutations can be reproduced again\n",
        "np.random.seed(SEED)"
      ],
      "id": "4f2ce6cd",
      "execution_count": 123,
      "outputs": []
    },
    {
      "cell_type": "code",
      "metadata": {
        "id": "d961851f"
      },
      "source": [
        "from sklearn.svm import SVC\n",
        "from sklearn import metrics\n",
        "\n",
        "def plot_svc_decision_boundary(svm_clf, xmin, xmax):\n",
        "    w = svm_clf.coef_[0]\n",
        "    b = svm_clf.intercept_[0]\n",
        "\n",
        "    # At the decision boundary, w0*x0 + w1*x1 + b = 0\n",
        "    # => x1 = -w0/w1 * x0 - b/w1\n",
        "    x0 = np.linspace(xmin, xmax, 200)\n",
        "    decision_boundary = -w[0]/w[1] * x0 - b/w[1]\n",
        "\n",
        "    margin = 1/w[1]\n",
        "    gutter_up = decision_boundary + margin\n",
        "    gutter_down = decision_boundary - margin\n",
        "\n",
        "    svs = svm_clf.support_vectors_\n",
        "    plt.scatter(svs[:, 0], svs[:, 1], s=180, facecolors='#FFAAAA')\n",
        "    plt.plot(x0, decision_boundary, \"k-\", linewidth=2)\n",
        "    plt.plot(x0, gutter_up, \"k--\", linewidth=2)\n",
        "    plt.plot(x0, gutter_down, \"k--\", linewidth=2)"
      ],
      "id": "d961851f",
      "execution_count": 124,
      "outputs": []
    },
    {
      "cell_type": "code",
      "metadata": {
        "id": "0c218582"
      },
      "source": [
        "def generate_synthetic_data_bias():\n",
        "\n",
        "    \"\"\"\n",
        "        Code for generating the synthetic data.\n",
        "        We will have two features and a binary class.\n",
        "        \n",
        "    \"\"\"\n",
        "\n",
        "    n_samples = 20 # generate these many data points per class\n",
        "    #For biased data\n",
        "    p_sen=0.2 #this parameter sets the probability of being protected (sensitive feature=1)\n",
        "    delta1=[3,-2] # This is the increment of the mean for the positive class\n",
        "    delta2=[3,-2] # This is the increment of the mean for the negative class\n",
        "    \n",
        "    \n",
        "    def gen_gaussian_sensitive(size, mean_in, cov_in, class_label, sensitive):\n",
        "        nv = multivariate_normal(mean = mean_in, cov = cov_in)\n",
        "        X = nv.rvs(size)\n",
        "        y = np.ones(size, dtype=int) * class_label\n",
        "        x_sen = np.ones(size, dtype=float) * sensitive\n",
        "        return nv,X,y,x_sen\n",
        "\n",
        "    \"\"\" Generate the features randomly \"\"\"\n",
        "    #For the NON-protected group (sensitive feature=0, for ex. men)\n",
        "    # We will generate one gaussian cluster for each class\n",
        "    mu1, sigma1 = [2, 2], [[5, 1], [1, 5]]\n",
        "    mu2, sigma2 = [-2,-2], [[10, 1], [1, 3]]\n",
        "    nv1, X1, y1, x_sen1= gen_gaussian_sensitive(int((1-p_sen)*n_samples), mu1, sigma1, 1,0) # positive class\n",
        "    nv2, X2, y2, x_sen2= gen_gaussian_sensitive(int((1-p_sen)*n_samples),mu2, sigma2, 0,0) # negative class\n",
        "    \n",
        "    \n",
        "    #For the Protected group (sensitive feature=1, for ex. women)\n",
        "    # We will generate one gaussian cluster for each class\n",
        "    mu3, sigma3 = np.add(mu1,delta1), [[5, 1], [1, 5]]\n",
        "    mu4, sigma4 = np.add(mu2,delta2), [[10, 1], [1, 3]]\n",
        "    nv3, X3, y3, x_sen3 = gen_gaussian_sensitive(int(p_sen*n_samples), mu3, sigma3, 1,1.) # positive class\n",
        "    nv4, X4, y4, x_sen4 = gen_gaussian_sensitive(int(p_sen*n_samples),mu4, sigma4, 0,1.) # negative class\n",
        "    \n",
        "\n",
        "    \n",
        "\n",
        "    # join the positive and negative class clusters\n",
        "    X = np.vstack((X1, X2, X3, X4))\n",
        "    y = np.hstack((y1, y2, y3, y4))\n",
        "    x_prot= np.hstack((x_sen1, x_sen2, x_sen3, x_sen4))\n",
        "    \n",
        "\n",
        "    # shuffle the data\n",
        "    perm = list(range(0,n_samples*2))\n",
        "    shuffle(perm)\n",
        "    X = X[perm]\n",
        "    y = y[perm]\n",
        "    x_prot=x_prot[perm]\n",
        "    \n",
        "    \n",
        "\n",
        "    return X,y,x_prot"
      ],
      "id": "0c218582",
      "execution_count": 125,
      "outputs": []
    },
    {
      "cell_type": "code",
      "metadata": {
        "id": "6714b6ba"
      },
      "source": [
        "X_syn, y_syn, x_bias = generate_synthetic_data_bias()"
      ],
      "id": "6714b6ba",
      "execution_count": 126,
      "outputs": []
    },
    {
      "cell_type": "code",
      "metadata": {
        "colab": {
          "base_uri": "https://localhost:8080/",
          "height": 265
        },
        "id": "5904344d",
        "outputId": "436a106b-231e-4175-b1a8-f4d610ad9540"
      },
      "source": [
        "#plt.scatter(X_syn[y_syn==1][:, 0], X_syn[y_syn==1][:, 1], color='#378661', marker='x', s=40, linewidth=1.5, label= \"Class +1\")\n",
        "#plt.scatter(X_syn[y_syn==0][:, 0], X_syn[y_syn==0][:, 1], color='#A73730', marker='x', s=40, linewidth=1.5, label = \"Class -1\")\n",
        "\n",
        "X_s_0 = X_syn[x_bias == 0.0]\n",
        "X_s_1 = X_syn[x_bias == 1.0]\n",
        "y_s_0 = y_syn[x_bias == 0.0]\n",
        "y_s_1 = y_syn[x_bias == 1.0]\n",
        "\n",
        "# SVM Classifier model\n",
        "#the hyperparameter C control the margin violations\n",
        "#smaller C leads to more margin violations but wider margin\n",
        "\n",
        "svm_clf = SVC(kernel=\"linear\", C=float(4))\n",
        "svm_clf.fit(X_syn, y_syn)\n",
        "\n",
        "plot_svc_decision_boundary(svm_clf, -6, 9)\n",
        "plt.scatter(X_s_0[y_s_0==1][:, 0], X_s_0[y_s_0==1][:, 1], color='green', marker='x', s=40, linewidth=1.5, label= \"Non-prot. +1\")\n",
        "plt.scatter(X_s_0[y_s_0==0][:, 0], X_s_0[y_s_0==0][:, 1], color='red', marker='x', s=40, linewidth=1.5, label = \"Non-prot. -1\")\n",
        "plt.scatter(X_s_1[y_s_1==1][:, 0], X_s_1[y_s_1==1][:, 1], color='green', marker='o', facecolors='none', s=40, label = \"Prot. +1\")\n",
        "plt.scatter(X_s_1[y_s_1==0][:, 0], X_s_1[y_s_1==0][:, 1], color='red', marker='o', facecolors='none', s=40, label = \"Prot. -1\")\n",
        "\n",
        "#plt.savefig('aggre.png')\n",
        "plt.show()"
      ],
      "id": "5904344d",
      "execution_count": 127,
      "outputs": [
        {
          "output_type": "display_data",
          "data": {
            "image/png": "[encoded data removed]",
            "text/plain": [
              "<Figure size 432x288 with 1 Axes>"
            ]
          },
          "metadata": {
            "needs_background": "light"
          }
        }
      ]
    },
    {
      "cell_type": "markdown",
      "metadata": {
        "id": "cdcf318d"
      },
      "source": [
        "First we calculate the accuracy of the SVM classifier in our dataset:"
      ],
      "id": "cdcf318d"
    },
    {
      "cell_type": "code",
      "metadata": {
        "colab": {
          "base_uri": "https://localhost:8080/"
        },
        "id": "f1f5eca1",
        "outputId": "12690920-0016-4635-e31b-3ec4602ba06f"
      },
      "source": [
        "#Accuracy\n",
        "y_pred=svm_clf.predict(X_syn)\n",
        "\n",
        "print(\"Accuracy: %.1f\" % (metrics.accuracy_score(y_syn, y_pred)*100), \"%\")\n"
      ],
      "id": "f1f5eca1",
      "execution_count": 128,
      "outputs": [
        {
          "output_type": "stream",
          "name": "stdout",
          "text": [
            "Accuracy: 82.5 %\n"
          ]
        }
      ]
    },
    {
      "cell_type": "markdown",
      "metadata": {
        "id": "fcfc5e96"
      },
      "source": [
        "We first implement the equal opportunity metric:"
      ],
      "id": "fcfc5e96"
    },
    {
      "cell_type": "markdown",
      "metadata": {
        "id": "ytwzUpZmDVJz"
      },
      "source": [
        "## Equal Opportunity Metric"
      ],
      "id": "ytwzUpZmDVJz"
    },
    {
      "cell_type": "code",
      "metadata": {
        "id": "388538c7"
      },
      "source": [
        "#Let us now implement the equal opportunity metric:\n",
        "def equal_opportunity(y,y_pred, x_prot):\n",
        "    Pos_pro=0.0\n",
        "    Pos_nonpro=0.0\n",
        "    PPos_pro=0.0\n",
        "    PPos_nonpro=0.0\n",
        "    \n",
        "    n=y_pred.size\n",
        "\n",
        "    for i in range(0,n):\n",
        "        if (y[i]==1 and x_prot[i]==0):\n",
        "            Pos_nonpro=Pos_nonpro+1\n",
        "            if (y_pred[i]==1):\n",
        "                PPos_nonpro=PPos_nonpro+1\n",
        "        if (y[i]==1 and x_prot[i]==1):\n",
        "            Pos_pro=Pos_pro+1\n",
        "            if (y_pred[i]==1):\n",
        "                PPos_pro=PPos_pro+1\n",
        "    #print(Pos_nonpro)\n",
        "    #print(Pos_pro)\n",
        "    #print(PPos_pro)\n",
        "    #print(PPos_nonpro)\n",
        "    UNF_EOpp=abs((PPos_nonpro/Pos_nonpro)-(PPos_pro/Pos_pro))\n",
        "    \n",
        "    return UNF_EOpp\n"
      ],
      "id": "388538c7",
      "execution_count": 129,
      "outputs": []
    },
    {
      "cell_type": "code",
      "metadata": {
        "colab": {
          "base_uri": "https://localhost:8080/"
        },
        "id": "3974e220",
        "outputId": "5218705c-9a89-439d-c7b8-cff3714aab39"
      },
      "source": [
        "UNF_EOpp=equal_opportunity(y_syn,y_pred, x_bias)\n",
        "print('UNF_EOpp = %.2f' % (UNF_EOpp*100),\"%\")"
      ],
      "id": "3974e220",
      "execution_count": 130,
      "outputs": [
        {
          "output_type": "stream",
          "name": "stdout",
          "text": [
            "UNF_EOpp = 43.75 %\n"
          ]
        }
      ]
    },
    {
      "cell_type": "markdown",
      "metadata": {
        "id": "2d1f5be3"
      },
      "source": [
        "### Questions:\n",
        "\n",
        "\n",
        "**1-** Calculate the predictive equality metric for the given dataset and classifier.\n",
        "\n",
        "**2-** Calculate the equalized odds metric for the given dataset and classifier.\n",
        "\n",
        "**3-** Calculate the predictive parity metric for the given dataset and classifier.\n",
        "\n",
        "**4-** Calculate the statistical parity metric for the given dataset and classifier.\n",
        "\n",
        "**5-** a)Calculate the disparate impact metric for the given dataset and classifier.\n",
        "\n",
        "  b)Does this classifier satisfy the 80%-rule?\n",
        "  \n"
      ],
      "id": "2d1f5be3"
    },
    {
      "cell_type": "markdown",
      "metadata": {
        "id": "dWAYGi0lDbpc"
      },
      "source": [
        "### Predictive Equality Metric:"
      ],
      "id": "dWAYGi0lDbpc"
    },
    {
      "cell_type": "code",
      "metadata": {
        "id": "PkmiBxnA_spz"
      },
      "source": [
        "#predictive equality metric:\n",
        "def predictive_equality(y,y_pred, x_prot):\n",
        "    Pos_pro=0.0\n",
        "    Pos_nonpro=0.0\n",
        "    PPos_pro=0.0\n",
        "    PPos_nonpro=0.0\n",
        "    \n",
        "    n=y_pred.size\n",
        "\n",
        "    for i in range(0,n):\n",
        "        #if (y[i]==-1 and x_prot[i]==0): ##In the dataset we produce we have 0's instead of (-1).\n",
        "        if (y[i]==0 and x_prot[i]==0): #So we replace (-1)'s to 0's\n",
        "            Pos_nonpro=Pos_nonpro+1\n",
        "            if (y_pred[i]==1):\n",
        "                PPos_nonpro=PPos_nonpro+1\n",
        "        #if (y[i]==-1 and x_prot[i]==1):\n",
        "        if (y[i]==0 and x_prot[i]==1):\n",
        "            Pos_pro=Pos_pro+1\n",
        "            if (y_pred[i]==1):\n",
        "                PPos_pro=PPos_pro+1\n",
        "    #print(Pos_nonpro)\n",
        "    #print(Pos_pro)\n",
        "    #print(PPos_pro)\n",
        "    #print(PPos_nonpro)\n",
        "    UNF_EOpp=abs((PPos_nonpro/Pos_nonpro)-(PPos_pro/Pos_pro))\n",
        "    \n",
        "    return UNF_EOpp"
      ],
      "id": "PkmiBxnA_spz",
      "execution_count": 131,
      "outputs": []
    },
    {
      "cell_type": "code",
      "metadata": {
        "colab": {
          "base_uri": "https://localhost:8080/"
        },
        "id": "kCfCqk1uAkSi",
        "outputId": "3d992c51-e910-4f4f-ea1e-aaa348e5b7b0"
      },
      "source": [
        "UNF_EOpp = predictive_equality(y_syn,y_pred, x_bias)\n",
        "print('Predictive Equality = %.2f' % (UNF_EOpp*100),\"%\")\n",
        "\n"
      ],
      "id": "kCfCqk1uAkSi",
      "execution_count": 132,
      "outputs": [
        {
          "output_type": "stream",
          "name": "stdout",
          "text": [
            "Predictive Equality = 25.00 %\n"
          ]
        }
      ]
    },
    {
      "cell_type": "markdown",
      "metadata": {
        "id": "nQh3V8uaDt0Q"
      },
      "source": [
        "## Equalized Odds:"
      ],
      "id": "nQh3V8uaDt0Q"
    },
    {
      "cell_type": "code",
      "metadata": {
        "id": "fXcRrtFNDjIe"
      },
      "source": [
        "#Equalized Odds metric:\n",
        "def equalized_odds(y,y_pred, x_prot):\n",
        "    Pos_pro1=0.0\n",
        "    Pos_nonpro1=0.0\n",
        "    PPos_pro1=0.0\n",
        "    PPos_nonpro1=0.0\n",
        "\n",
        "    Pos_pro2=0.0\n",
        "    Pos_nonpro2=0.0\n",
        "    PPos_pro2=0.0\n",
        "    PPos_nonpro2=0.0\n",
        "    \n",
        "    n=y_pred.size\n",
        "\n",
        "    for i in range(0,n):\n",
        "        \n",
        "        if (y[i]==1 and x_prot[i]==0): \n",
        "            Pos_nonpro1=Pos_nonpro1+1\n",
        "            if (y_pred[i]==1):\n",
        "                PPos_nonpro1=PPos_nonpro1+1\n",
        "        \n",
        "        if (y[i]==1 and x_prot[i]==1):\n",
        "            Pos_pro1=Pos_pro1+1\n",
        "            if (y_pred[i]==1):\n",
        "                PPos_pro1=PPos_pro1+1\n",
        "        ####\n",
        "        if (y[i]==0 and x_prot[i]==0): \n",
        "            Pos_nonpro2=Pos_nonpro2+1\n",
        "            if (y_pred[i]==1):\n",
        "                PPos_nonpro2=PPos_nonpro2+1\n",
        "        \n",
        "        if (y[i]==0 and x_prot[i]==1):\n",
        "            Pos_pro2=Pos_pro2+1\n",
        "            if (y_pred[i]==1):\n",
        "                PPos_pro2=PPos_pro2+1\n",
        "    #print(Pos_nonpro)\n",
        "    #print(Pos_pro)\n",
        "    #print(PPos_pro)\n",
        "    #print(PPos_nonpro)\n",
        "    UNF_EOpp= abs((PPos_nonpro1/Pos_nonpro1)-(PPos_pro1/Pos_pro1)) + abs((PPos_nonpro2/Pos_nonpro2)-(PPos_pro2/Pos_pro2))\n",
        "    \n",
        "    return UNF_EOpp"
      ],
      "id": "fXcRrtFNDjIe",
      "execution_count": 133,
      "outputs": []
    },
    {
      "cell_type": "code",
      "metadata": {
        "colab": {
          "base_uri": "https://localhost:8080/"
        },
        "id": "h3e13E6tD1dl",
        "outputId": "4270e763-474b-4ee7-93a8-24fcdebdde0d"
      },
      "source": [
        "UNF_EOpp = equalized_odds(y_syn,y_pred, x_bias)\n",
        "print('equalized_odds = %.2f' % (UNF_EOpp*100),\"%\")\n",
        "\n"
      ],
      "id": "h3e13E6tD1dl",
      "execution_count": 134,
      "outputs": [
        {
          "output_type": "stream",
          "name": "stdout",
          "text": [
            "equalized_odds = 68.75 %\n"
          ]
        }
      ]
    },
    {
      "cell_type": "markdown",
      "metadata": {
        "id": "LuI_0AwmFEVx"
      },
      "source": [
        "## Predictive Parity"
      ],
      "id": "LuI_0AwmFEVx"
    },
    {
      "cell_type": "code",
      "metadata": {
        "id": "DMOW5D5nFR_D"
      },
      "source": [
        "#predictive parity metric:\n",
        "def predictive_parity(y,y_pred, x_prot):\n",
        "    Pos_pro=0.0\n",
        "    Pos_nonpro=0.0\n",
        "    PPos_pro=0.0\n",
        "    PPos_nonpro=0.0\n",
        "    \n",
        "    n=y_pred.size\n",
        "\n",
        "    for i in range(0,n):\n",
        "        if (y_pred[i]==1 and x_prot[i]==0): \n",
        "            Pos_nonpro=Pos_nonpro+1\n",
        "            if (y[i]==1):\n",
        "                PPos_nonpro=PPos_nonpro+1\n",
        "        if (y_pred[i]==1 and x_prot[i]==1):\n",
        "            Pos_pro=Pos_pro+1\n",
        "            if (y[i]==1):\n",
        "                PPos_pro=PPos_pro+1\n",
        "    #print(Pos_nonpro)\n",
        "    #print(Pos_pro)\n",
        "    #print(PPos_pro)\n",
        "    #print(PPos_nonpro)\n",
        "    UNF_EOpp=abs((PPos_nonpro/Pos_nonpro)-(PPos_pro/Pos_pro))\n",
        "    \n",
        "    return UNF_EOpp"
      ],
      "id": "DMOW5D5nFR_D",
      "execution_count": 135,
      "outputs": []
    },
    {
      "cell_type": "code",
      "metadata": {
        "colab": {
          "base_uri": "https://localhost:8080/"
        },
        "id": "1YUVfixEFX3J",
        "outputId": "b0dace6c-ba04-4709-a72d-4d43e34a48c1"
      },
      "source": [
        "UNF_EOpp = predictive_parity(y_syn,y_pred, x_bias)\n",
        "print('predictive_parity = %.2f' % (UNF_EOpp*100),\"%\")\n"
      ],
      "id": "1YUVfixEFX3J",
      "execution_count": 136,
      "outputs": [
        {
          "output_type": "stream",
          "name": "stdout",
          "text": [
            "predictive_parity = 21.05 %\n"
          ]
        }
      ]
    },
    {
      "cell_type": "markdown",
      "metadata": {
        "id": "rUJcb8KXG6-J"
      },
      "source": [
        "## Statistical Parity"
      ],
      "id": "rUJcb8KXG6-J"
    },
    {
      "cell_type": "code",
      "metadata": {
        "id": "JOwh1rnUHAhu"
      },
      "source": [
        "#statistical_parity metric:\n",
        "def statistical_parity(y,y_pred, x_prot):\n",
        "    Pos_pro=0.0\n",
        "    Pos_nonpro=0.0\n",
        "    PPos_pro=0.0\n",
        "    PPos_nonpro=0.0\n",
        "    \n",
        "    n=y_pred.size\n",
        "\n",
        "    for i in range(0,n):\n",
        "        if (x_prot[i]==0): \n",
        "            Pos_nonpro=Pos_nonpro+1\n",
        "            if (y_pred[i]==1):\n",
        "                PPos_nonpro=PPos_nonpro+1\n",
        "        if (x_prot[i]==1):\n",
        "            Pos_pro=Pos_pro+1\n",
        "            if (y_pred[i]==1):\n",
        "                PPos_pro=PPos_pro+1\n",
        "    #print(Pos_nonpro)\n",
        "    #print(Pos_pro)\n",
        "    #print(PPos_pro)\n",
        "    #print(PPos_nonpro)\n",
        "    UNF_EOpp=abs((PPos_nonpro/Pos_nonpro)-(PPos_pro/Pos_pro))\n",
        "    \n",
        "    return UNF_EOpp"
      ],
      "id": "JOwh1rnUHAhu",
      "execution_count": 137,
      "outputs": []
    },
    {
      "cell_type": "code",
      "metadata": {
        "colab": {
          "base_uri": "https://localhost:8080/"
        },
        "id": "n201zATxHFsb",
        "outputId": "ee3cbfbc-f83e-4727-d850-7d2bae519d02"
      },
      "source": [
        "UNF_EOpp = statistical_parity(y_syn,y_pred, x_bias)\n",
        "print('statistical_parity = %.2f' % (UNF_EOpp*100),\"%\")\n",
        "\n"
      ],
      "id": "n201zATxHFsb",
      "execution_count": 138,
      "outputs": [
        {
          "output_type": "stream",
          "name": "stdout",
          "text": [
            "statistical_parity = 34.38 %\n"
          ]
        }
      ]
    },
    {
      "cell_type": "markdown",
      "metadata": {
        "id": "XEIF7GHgHcUC"
      },
      "source": [
        "## Disparate Impact"
      ],
      "id": "XEIF7GHgHcUC"
    },
    {
      "cell_type": "code",
      "metadata": {
        "id": "NuxV1N26HlRO"
      },
      "source": [
        "#disparate_impact metric:\n",
        "def disparate_impact(y,y_pred, x_prot):\n",
        "    Pos_pro=0.0\n",
        "    Pos_nonpro=0.0\n",
        "    PPos_pro=0.0\n",
        "    PPos_nonpro=0.0\n",
        "    \n",
        "    n=y_pred.size\n",
        "\n",
        "    for i in range(0,n):\n",
        "        if (x_prot[i]==0): \n",
        "            Pos_nonpro=Pos_nonpro+1\n",
        "            if (y_pred[i]==1):\n",
        "                PPos_nonpro=PPos_nonpro+1\n",
        "        if (x_prot[i]==1):\n",
        "            Pos_pro=Pos_pro+1\n",
        "            if (y_pred[i]==1):\n",
        "                PPos_pro=PPos_pro+1\n",
        "    #print(Pos_nonpro)\n",
        "    #print(Pos_pro)\n",
        "    #print(PPos_pro)\n",
        "    #print(PPos_nonpro)\n",
        "    #                       A                       B\n",
        "    #UNF_EOpp=abs((PPos_nonpro/Pos_nonpro)-(PPos_pro/Pos_pro))\n",
        "    #A-B\n",
        "    UNF_EOpp=min(((PPos_pro/Pos_pro)/(PPos_nonpro/Pos_nonpro)) , ((PPos_nonpro/Pos_nonpro)/(PPos_pro/Pos_pro)))\n",
        "    #min( B/A, A/B)\n",
        "    \n",
        "    return UNF_EOpp"
      ],
      "id": "NuxV1N26HlRO",
      "execution_count": 139,
      "outputs": []
    },
    {
      "cell_type": "code",
      "metadata": {
        "colab": {
          "base_uri": "https://localhost:8080/"
        },
        "id": "uIotO1pSHprZ",
        "outputId": "db4e7ac9-6c6e-432f-9c53-190bede830c2"
      },
      "source": [
        "UNF_EOpp = disparate_impact(y_syn,y_pred, x_bias)\n",
        "print('disparate_impact = %.2f' % (UNF_EOpp*100),\"%\")\n"
      ],
      "id": "uIotO1pSHprZ",
      "execution_count": 140,
      "outputs": [
        {
          "output_type": "stream",
          "name": "stdout",
          "text": [
            "disparate_impact = 42.11 %\n"
          ]
        }
      ]
    },
    {
      "cell_type": "code",
      "metadata": {
        "id": "avTZm3k0AEKS"
      },
      "source": [
        "#Teacher's given results\n",
        "#Predictive eq=%25\n",
        "#Equalized odds=%68.8\n",
        "#predictive parity= %21.1\n",
        "#statistical parity=34.4\n",
        "#disparate impact=42.1\n",
        "\n"
      ],
      "id": "avTZm3k0AEKS",
      "execution_count": 141,
      "outputs": []
    },
    {
      "cell_type": "markdown",
      "source": [
        "#### Does this classifier satisfy the 80%-rule?"
      ],
      "metadata": {
        "id": "2PGOOV8GohY-"
      },
      "id": "2PGOOV8GohY-"
    },
    {
      "cell_type": "code",
      "source": [
        "print(\"Disparate impact = \",disparate_impact(y_syn,y_pred, x_bias))\n",
        "if(disparate_impact(y_syn,y_pred, x_bias) >= 0.80):\n",
        "  print(\"This classifier satifies the 80%-rule.\")\n",
        "else:\n",
        "  print(\"This classifier DOES NOT satify the 80%-rule.\")"
      ],
      "metadata": {
        "colab": {
          "base_uri": "https://localhost:8080/"
        },
        "id": "3lozip5XoluP",
        "outputId": "40b4df38-3da6-4128-a6ee-087cc5b0f550"
      },
      "id": "3lozip5XoluP",
      "execution_count": 142,
      "outputs": [
        {
          "output_type": "stream",
          "name": "stdout",
          "text": [
            "Disparate impact =  0.42105263157894735\n",
            "This classifier DOES NOT satify the 80%-rule.\n"
          ]
        }
      ]
    },
    {
      "cell_type": "markdown",
      "metadata": {
        "id": "a46434e8"
      },
      "source": [
        "## 6.2 Fairness metrics for the German dataset"
      ],
      "id": "a46434e8"
    },
    {
      "cell_type": "code",
      "metadata": {
        "id": "b948976b"
      },
      "source": [
        "German_data=np.loadtxt('/content/German.txt')\n",
        "i_prot=40 #the protected features corresponds with column 40 from the txt file\n",
        "n_sample=500 # we define our training sample size\n",
        "C_param=5\n",
        "\n",
        "X_German=np.delete(German_data,[0,i_prot],1) #We eliminate the first column that correspond to labels and the protected feature\n",
        "\n",
        "y_German=German_data[:,0] #labels\n",
        "x_bias_german=German_data[:,i_prot] #protected feature\n",
        "\n",
        "#Now let us consider a training set\n",
        "X_G=X_German[1:n_sample,:]\n",
        "y_G=y_German[1:n_sample]\n",
        "x_bias_G=x_bias_german[1:n_sample]\n",
        "\n",
        "\n",
        "# SVM Classifier model\n",
        "#the hyperparameter C control the margin violations\n",
        "#smaller C leads to more margin violations but wider margin\n",
        "\n",
        "svm_clf = SVC(kernel=\"linear\", C=float(C_param))\n",
        "svm_clf.fit(X_G, y_G)\n",
        "\n",
        "y_pred_G=svm_clf.predict(X_G)\n",
        "\n",
        "\n"
      ],
      "id": "b948976b",
      "execution_count": 143,
      "outputs": []
    },
    {
      "cell_type": "markdown",
      "metadata": {
        "id": "ddc60ee4"
      },
      "source": [
        "### Questions:\n",
        "In the code before, we set i_prot=40, which means we consider the protected feature being \"female divorced/separated/married\". Under this choice:\n",
        "\n",
        "**6-** Provide a table with the accuracy and the 6 fairness metrics.\n",
        "\n",
        "**7-** Does this classifier satisfy the 80%-rule?\n",
        "\n",
        "Now choose as protected feature being \"male divorced/separated\", i.e., i_prot=39. Under this choice:\n",
        "\n",
        "**8-** Provide a table with the 6 fairness metrics.\n",
        "\n",
        "**9-** Does this classifier satisfy the 80%-rule?\n",
        "\n",
        "**10-** Which conclusion do you obtain comparing the tables from 6 and 8?"
      ],
      "id": "ddc60ee4"
    },
    {
      "cell_type": "code",
      "source": [
        "#6- Provide a table with the accuracy and the 6 fairness metrics:\n",
        "#Accuracy\n",
        "print(\"Accuracy: %.1f\" % (metrics.accuracy_score(y_G, y_pred_G)*100), \"%\")\n",
        "\n",
        "#\n",
        "disparate_impactt = disparate_impact(y_G,y_pred_G, x_bias_G)\n",
        "print('disparate_impact = %.2f' % (disparate_impactt*100),\"%\")\n",
        "\n",
        "statistical_parityy = statistical_parity(y_G,y_pred_G, x_bias_G)\n",
        "print('statistical_parity = %.2f' % (statistical_parityy*100),\"%\")\n",
        "\n",
        "predictive_parityy = predictive_parity(y_G,y_pred_G, x_bias_G)\n",
        "print('predictive_parity = %.2f' % (predictive_parityy*100),\"%\")\n",
        "\n",
        "equalized_oddss = equalized_odds(y_G,y_pred_G, x_bias_G)\n",
        "print('equalized_odds = %.2f' % (equalized_oddss*100),\"%\")\n",
        "\n",
        "\n",
        "predictive_equalityy = predictive_equality(y_G,y_pred_G, x_bias_G)\n",
        "print('Predictive Equality = %.2f' % (predictive_equalityy*100),\"%\")\n",
        "\n",
        "equal_opportunityy=equal_opportunity(y_G,y_pred_G, x_bias_G)\n",
        "print('equal_opportunity = %.2f' % (equal_opportunityy*100),\"%\")\n",
        "\n",
        "from tabulate import tabulate\n",
        "  \n",
        "# assign data\n",
        "mydata = [{\"Accuracy\", metrics.accuracy_score(y_G, y_pred_G)}, \n",
        "          {\"Disparate impact\", disparate_impactt}, \n",
        "          {\"Statistical parity\", statistical_parityy}, \n",
        "          {\"Predictive parity\", predictive_parityy}, \n",
        "          {\"Equalized odds\", equalized_oddss},\n",
        "          {\"Predictive Equality\", predictive_equalityy}, \n",
        "          {\"Equal opportunity\", equal_opportunityy},]\n",
        "  \n",
        "# create header\n",
        "head = [ \"RESULT\",\"METRIC\"]\n",
        "  \n",
        "# display table\n",
        "print()\n",
        "print(\"QUESTION-6\")\n",
        "print(\"6- Provide a table with the accuracy and the 6 fairness metrics\")\n",
        "print(tabulate(mydata, headers=head, tablefmt=\"grid\"))"
      ],
      "metadata": {
        "colab": {
          "base_uri": "https://localhost:8080/"
        },
        "id": "bRqB9N9CYF1l",
        "outputId": "074c46e9-c694-4b0c-85e3-6af6c9a5168a"
      },
      "id": "bRqB9N9CYF1l",
      "execution_count": 144,
      "outputs": [
        {
          "output_type": "stream",
          "name": "stdout",
          "text": [
            "Accuracy: 81.4 %\n",
            "disparate_impact = 85.21 %\n",
            "statistical_parity = 11.85 %\n",
            "predictive_parity = 3.34 %\n",
            "equalized_odds = 24.88 %\n",
            "Predictive Equality = 20.63 %\n",
            "equal_opportunity = 4.25 %\n",
            "\n",
            "QUESTION-6\n",
            "6- Provide a table with the accuracy and the 6 fairness metrics\n",
            "+-----------+---------------------+\n",
            "|    RESULT | METRIC              |\n",
            "+===========+=====================+\n",
            "| 0.813627  | Accuracy            |\n",
            "+-----------+---------------------+\n",
            "| 0.852146  | Disparate impact    |\n",
            "+-----------+---------------------+\n",
            "| 0.118545  | Statistical parity  |\n",
            "+-----------+---------------------+\n",
            "| 0.0333781 | Predictive parity   |\n",
            "+-----------+---------------------+\n",
            "| 0.248844  | Equalized odds      |\n",
            "+-----------+---------------------+\n",
            "| 0.206343  | Predictive Equality |\n",
            "+-----------+---------------------+\n",
            "| 0.0425015 | Equal opportunity   |\n",
            "+-----------+---------------------+\n"
          ]
        }
      ]
    },
    {
      "cell_type": "code",
      "source": [
        "print(\"Disparate impact = \",disparate_impact(y_G,y_pred_G, x_bias_G))\n",
        "#Since the disparate impact = 85.21%:\n",
        "if(disparate_impact(y_G,y_pred_G, x_bias_G) >= 0.80):\n",
        "  print(\"This classifier satifies the 80%-rule.\")\n",
        "else:\n",
        "  print(\"This classifier DOES NOT satify the 80%-rule.\")"
      ],
      "metadata": {
        "colab": {
          "base_uri": "https://localhost:8080/"
        },
        "id": "7awEjuxSZM-u",
        "outputId": "c29039ff-0d9a-4cd4-b34e-84bc71e20096"
      },
      "id": "7awEjuxSZM-u",
      "execution_count": 145,
      "outputs": [
        {
          "output_type": "stream",
          "name": "stdout",
          "text": [
            "Disparate impact =  0.8521464096628544\n",
            "This classifier satifies the 80%-rule.\n"
          ]
        }
      ]
    },
    {
      "cell_type": "markdown",
      "source": [
        "Now choose as protected feature being \"male divorced/separated\", i.e., i_prot=39. Under this choice:\n",
        "\n",
        "**8-** Provide a table with the 6 fairness metrics.\n",
        "\n",
        "**9-** Does this classifier satisfy the 80%-rule?\n",
        "\n",
        "**10-** Which conclusion do you obtain comparing the tables from 6 and 8?"
      ],
      "metadata": {
        "id": "PesPPX15tAPW"
      },
      "id": "PesPPX15tAPW"
    },
    {
      "cell_type": "code",
      "source": [
        "#\n",
        "#Now choose as protected feature being \"male divorced/separated\", i.e., i_prot=39. Under this choice:\n",
        "#\n",
        "\n",
        "German_data2=np.loadtxt('/content/German.txt')\n",
        "i_prot=39 #the protected features corresponds with column 39 from the txt file\n",
        "n_sample=500 # we define our training sample size\n",
        "C_param=5\n",
        "\n",
        "X_German2=np.delete(German_data2,[0,i_prot],1) #We eliminate the first column that correspond to labels and the protected feature\n",
        "\n",
        "y_German2=German_data2[:,0] #labels\n",
        "x_bias_german2=German_data2[:,i_prot] #protected feature\n",
        "\n",
        "#Now let us consider a training set\n",
        "X_G2=X_German2[1:n_sample,:]\n",
        "y_G2=y_German2[1:n_sample]\n",
        "x_bias_G2=x_bias_german2[1:n_sample]\n",
        "\n",
        "\n",
        "# SVM Classifier model\n",
        "#the hyperparameter C control the margin violations\n",
        "#smaller C leads to more margin violations but wider margin\n",
        "\n",
        "svm_clf = SVC(kernel=\"linear\", C=float(C_param))\n",
        "svm_clf.fit(X_G2, y_G2)\n",
        "\n",
        "y_pred_G2=svm_clf.predict(X_G2)"
      ],
      "metadata": {
        "id": "3f6H8trCtE3R"
      },
      "id": "3f6H8trCtE3R",
      "execution_count": 146,
      "outputs": []
    },
    {
      "cell_type": "code",
      "source": [
        "#8- Provide a table with the 6 fairness metrics:\n",
        "#Accuracy\n",
        "print(\"Accuracy: %.1f\" % (metrics.accuracy_score(y_G2, y_pred_G2)*100), \"%\")\n",
        "\n",
        "#\n",
        "disparate_impactt2 = disparate_impact(y_G2,y_pred_G2, x_bias_G2)\n",
        "print('disparate_impact = %.2f' % (disparate_impactt2*100),\"%\")\n",
        "\n",
        "statistical_parityy2 = statistical_parity(y_G2,y_pred_G2, x_bias_G2)\n",
        "print('statistical_parity = %.2f' % (statistical_parityy2*100),\"%\")\n",
        "\n",
        "predictive_parityy2 = predictive_parity(y_G2,y_pred_G2, x_bias_G2)\n",
        "print('predictive_parity = %.2f' % (predictive_parityy2*100),\"%\")\n",
        "\n",
        "equalized_oddss2 = equalized_odds(y_G2,y_pred_G2, x_bias_G2)\n",
        "print('equalized_odds = %.2f' % (equalized_oddss2*100),\"%\")\n",
        "\n",
        "\n",
        "predictive_equalityy2 = predictive_equality(y_G2,y_pred_G2, x_bias_G2)\n",
        "print('Predictive Equality = %.2f' % (predictive_equalityy2*100),\"%\")\n",
        "\n",
        "equal_opportunityy2=equal_opportunity(y_G2,y_pred_G2, x_bias_G2)\n",
        "print('equal_opportunity = %.2f' % (equal_opportunityy2*100),\"%\")\n",
        "\n",
        "from tabulate import tabulate\n",
        "  \n",
        "# assign data\n",
        "mydata2 = [{\"Accuracy\", metrics.accuracy_score(y_G2, y_pred_G2)}, \n",
        "          {\"Disparate impact\", disparate_impactt2}, \n",
        "          {\"Statistical parity\", statistical_parityy2}, \n",
        "          {\"Predictive parity\", predictive_parityy2}, \n",
        "          {\"Equalized odds\", equalized_oddss2},\n",
        "          {\"Predictive Equality\", predictive_equalityy2}, \n",
        "          {\"Equal opportunity\", equal_opportunityy2},]\n",
        "  \n",
        "# create header\n",
        "head2 = [ \"RESULT\",\"METRIC\"]\n",
        "\n",
        "print()\n",
        "print(\"QUESTION-8\")\n",
        "print(\"8- Provide a table with the 6 fairness metrics.\")\n",
        "print(tabulate(mydata2, headers=head2, tablefmt=\"grid\"))\n",
        "# display table\n"
      ],
      "metadata": {
        "colab": {
          "base_uri": "https://localhost:8080/"
        },
        "id": "iczIQbqktd0d",
        "outputId": "b2160adb-2cbb-48fa-f009-1ebc9dc40a44"
      },
      "id": "iczIQbqktd0d",
      "execution_count": 147,
      "outputs": [
        {
          "output_type": "stream",
          "name": "stdout",
          "text": [
            "Accuracy: 81.2 %\n",
            "disparate_impact = 99.04 %\n",
            "statistical_parity = 0.73 %\n",
            "predictive_parity = 11.72 %\n",
            "equalized_odds = 15.50 %\n",
            "Predictive Equality = 13.37 %\n",
            "equal_opportunity = 2.13 %\n",
            "\n",
            "QUESTION-8\n",
            "8- Provide a table with the 6 fairness metrics.\n",
            "+------------+---------------------+\n",
            "|     RESULT | METRIC              |\n",
            "+============+=====================+\n",
            "| 0.811623   | Accuracy            |\n",
            "+------------+---------------------+\n",
            "| 0.990421   | Disparate impact    |\n",
            "+------------+---------------------+\n",
            "| 0.00733676 | Statistical parity  |\n",
            "+------------+---------------------+\n",
            "| 0.117172   | Predictive parity   |\n",
            "+------------+---------------------+\n",
            "| 0.154981   | Equalized odds      |\n",
            "+------------+---------------------+\n",
            "| 0.13369    | Predictive Equality |\n",
            "+------------+---------------------+\n",
            "| 0.0212908  | Equal opportunity   |\n",
            "+------------+---------------------+\n"
          ]
        }
      ]
    },
    {
      "cell_type": "code",
      "source": [
        "#9- Does this classifier satisfy the 80%-rule?\n",
        "#\n",
        "print(\"Disparate impact = \",disparate_impact(y_G2,y_pred_G2, x_bias_G2))\n",
        "#Since the disparate impact = 0.99%:\n",
        "if(disparate_impact(y_G2,y_pred_G2, x_bias_G2) >= 0.80):\n",
        "  print(\"This classifier satifies the 80%-rule \")\n",
        "else:\n",
        "  print(\"This classifier DOES NOT satify the 80%-rule.\")\n"
      ],
      "metadata": {
        "colab": {
          "base_uri": "https://localhost:8080/"
        },
        "id": "jxS6m2HHuNi_",
        "outputId": "4be9848d-b065-4304-ec7e-dd9559cb34c1"
      },
      "id": "jxS6m2HHuNi_",
      "execution_count": 148,
      "outputs": [
        {
          "output_type": "stream",
          "name": "stdout",
          "text": [
            "Disparate impact =  0.9904214559386972\n",
            "This classifier satifies the 80%-rule \n"
          ]
        }
      ]
    },
    {
      "cell_type": "markdown",
      "source": [
        "### 10- Which conclusion do you obtain comparing the tables from 6 and 8?\n",
        "\n",
        " The 80% rule was created to help companies determine if they have been unwittingly discriminatory in their hiring process. The rule states that companies should be hiring protected groups at a rate that is at least 80% of that of white men. So, if this dataset belongs to a company, they satisfy the 80%-rule for \n",
        "\n",
        "The disparate impact is higher when we protect men. That means according to dataset, the \"female divorced/separated/married\" is not discriminated because disparate impact is 85.21 %. However, when we look at disparate impact in \"male divorced/separated\" the dispare impact is 99%. That means the dataset is consists of more males than female and males are positive discriminated."
      ],
      "metadata": {
        "id": "g_o9Qi88wCpy"
      },
      "id": "g_o9Qi88wCpy"
    },
    {
      "cell_type": "markdown",
      "metadata": {
        "id": "ed1f354a"
      },
      "source": [
        "<h2> 6.3 The COMPAS dataset. What happens if we change the choice of variables?</h2> \n",
        "\n",
        "Let's take our own decisions:"
      ],
      "id": "ed1f354a"
    },
    {
      "cell_type": "code",
      "metadata": {
        "id": "8a6d3033",
        "colab": {
          "base_uri": "https://localhost:8080/"
        },
        "outputId": "907ba927-ef51-4bd4-f0be-a4353471e453"
      },
      "source": [
        "# filter dplyr warnings\n",
        "%load_ext rpy2.ipython\n",
        "import warnings\n",
        "warnings.filterwarnings('ignore')"
      ],
      "id": "8a6d3033",
      "execution_count": 149,
      "outputs": [
        {
          "output_type": "stream",
          "name": "stdout",
          "text": [
            "The rpy2.ipython extension is already loaded. To reload it, use:\n",
            "  %reload_ext rpy2.ipython\n"
          ]
        }
      ]
    },
    {
      "cell_type": "code",
      "metadata": {
        "colab": {
          "base_uri": "https://localhost:8080/"
        },
        "id": "9768d9b1",
        "outputId": "e2b5c22c-14ad-4a78-a0fa-c299c65fc196"
      },
      "source": [
        "%%R\n",
        "library(dplyr)\n",
        "#You can choose your favorite option:\n",
        "#a)Download the dataset and access it locally\n",
        "#raw_data <- read.csv(\"./compas-scores-two-years.csv\") \n",
        "#b)Access the dataset directly from the repository\n",
        "raw_data <- read.csv(\"https://raw.githubusercontent.com/propublica/compas-analysis/master/compas-scores-two-years.csv\")\n",
        "nrow(raw_data)\n",
        "colnames(raw_data)"
      ],
      "id": "9768d9b1",
      "execution_count": 150,
      "outputs": [
        {
          "output_type": "stream",
          "name": "stdout",
          "text": [
            " [1] \"id\"                      \"name\"                   \n",
            " [3] \"first\"                   \"last\"                   \n",
            " [5] \"compas_screening_date\"   \"sex\"                    \n",
            " [7] \"dob\"                     \"age\"                    \n",
            " [9] \"age_cat\"                 \"race\"                   \n",
            "[11] \"juv_fel_count\"           \"decile_score\"           \n",
            "[13] \"juv_misd_count\"          \"juv_other_count\"        \n",
            "[15] \"priors_count\"            \"days_b_screening_arrest\"\n",
            "[17] \"c_jail_in\"               \"c_jail_out\"             \n",
            "[19] \"c_case_number\"           \"c_offense_date\"         \n",
            "[21] \"c_arrest_date\"           \"c_days_from_compas\"     \n",
            "[23] \"c_charge_degree\"         \"c_charge_desc\"          \n",
            "[25] \"is_recid\"                \"r_case_number\"          \n",
            "[27] \"r_charge_degree\"         \"r_days_from_arrest\"     \n",
            "[29] \"r_offense_date\"          \"r_charge_desc\"          \n",
            "[31] \"r_jail_in\"               \"r_jail_out\"             \n",
            "[33] \"violent_recid\"           \"is_violent_recid\"       \n",
            "[35] \"vr_case_number\"          \"vr_charge_degree\"       \n",
            "[37] \"vr_offense_date\"         \"vr_charge_desc\"         \n",
            "[39] \"type_of_assessment\"      \"decile_score.1\"         \n",
            "[41] \"score_text\"              \"screening_date\"         \n",
            "[43] \"v_type_of_assessment\"    \"v_decile_score\"         \n",
            "[45] \"v_score_text\"            \"v_screening_date\"       \n",
            "[47] \"in_custody\"              \"out_custody\"            \n",
            "[49] \"priors_count.1\"          \"start\"                  \n",
            "[51] \"end\"                     \"event\"                  \n",
            "[53] \"two_year_recid\"         \n"
          ]
        }
      ]
    },
    {
      "cell_type": "markdown",
      "metadata": {
        "id": "4dd678ec"
      },
      "source": [
        "Note: if you obtain the following error: \"UsageError: Cell magic `%%R` not found.\"\n",
        "Try this solution: pip install rpy2\n",
        "\n",
        "\n",
        "## Filtering of data\n",
        "\n",
        "<em>In a 2009 study examining the predictive power of its COMPAS score, Northpointe defined recidivism as “a finger-printable arrest involving a charge and a filing for any uniform crime reporting (UCR) code.” We interpreted that to mean a criminal offense that resulted in a jail booking and took place after the crime for which the person was COMPAS scored.\n",
        "\n",
        "It was not always clear, however, which criminal case was associated with an individual’s COMPAS score. To match COMPAS scores with accompanying cases, we considered cases with arrest dates or charge dates within 30 days of a COMPAS assessment being conducted. In some instances, we could not find any corresponding charges to COMPAS scores. We removed those cases from our analysis.\n",
        "\n",
        "Next, we sought to determine if a person had been charged with a new crime subsequent to crime for which they were COMPAS screened. We did not count traffic tickets and some municipal ordinance violations as recidivism. We did not count as recidivists people who were arrested for failing to appear at their court hearings, or people who were later charged with a crime that occurred prior to their COMPAS screening.</em>\n",
        "\n",
        "We do the same filtering that in the Propublica Study **BUT** we select different variables.\n",
        "\n",
        "Finally we save the filtered csv file.\n",
        "\n"
      ],
      "id": "4dd678ec"
    },
    {
      "cell_type": "code",
      "metadata": {
        "colab": {
          "base_uri": "https://localhost:8080/"
        },
        "id": "c09b7fb2",
        "outputId": "98d76a44-2551-42e3-c944-b977e65264d8"
      },
      "source": [
        "%%R\n",
        "df <- dplyr::select(raw_data, age, c_charge_degree, race, age_cat, score_text, sex, priors_count, \n",
        "                    days_b_screening_arrest, decile_score, is_recid, two_year_recid, c_jail_in, c_jail_out,\n",
        "                    juv_fel_count,juv_misd_count,juv_other_count,is_violent_recid) %>% \n",
        "        filter(days_b_screening_arrest <= 30) %>%\n",
        "        filter(days_b_screening_arrest >= -30) %>%\n",
        "        filter(is_recid != -1) %>%\n",
        "        filter(is_violent_recid != -1) %>%\n",
        "        filter(c_charge_degree != \"O\") %>%\n",
        "        filter(score_text != 'N/A')\n",
        "write.csv(df,\"propublica_ext.csv\")\n",
        "\n",
        "nrow(df)"
      ],
      "id": "c09b7fb2",
      "execution_count": 151,
      "outputs": [
        {
          "output_type": "stream",
          "name": "stdout",
          "text": [
            "[1] 6172\n"
          ]
        }
      ]
    },
    {
      "cell_type": "markdown",
      "metadata": {
        "id": "36deb31a"
      },
      "source": [
        "Now we import the same libraries as in the previous labs."
      ],
      "id": "36deb31a"
    },
    {
      "cell_type": "code",
      "metadata": {
        "id": "6f81e570"
      },
      "source": [
        "#we import all the required libraries\n",
        "import numpy as np\n",
        "import pandas as pd\n",
        "import matplotlib.pyplot as plt # for plotting stuff\n",
        "from random import seed, shuffle\n",
        "from scipy.stats import multivariate_normal # for generating synthetic data \n",
        "import seaborn as sns\n",
        "from sklearn import metrics\n",
        "from sklearn.metrics import confusion_matrix\n",
        "SEED = 1122334455\n",
        "seed(SEED) # set the random seed so that the random permutations can be reproduced again\n",
        "np.random.seed(SEED)"
      ],
      "id": "6f81e570",
      "execution_count": 152,
      "outputs": []
    },
    {
      "cell_type": "markdown",
      "metadata": {
        "id": "6fdce0d7"
      },
      "source": [
        "We first read the filtered data. "
      ],
      "id": "6fdce0d7"
    },
    {
      "cell_type": "code",
      "metadata": {
        "colab": {
          "base_uri": "https://localhost:8080/"
        },
        "id": "b16f6c0f",
        "outputId": "85413afa-6eeb-4c1a-953a-3acf320e6027"
      },
      "source": [
        "df = pd.read_csv(\"propublica_ext.csv\")\n",
        "\n",
        "print(\"Size of the dataset: %d\" % len(df.index)) #We calculate the number of objects in the dataset\n",
        "\n",
        "\n"
      ],
      "id": "b16f6c0f",
      "execution_count": 153,
      "outputs": [
        {
          "output_type": "stream",
          "name": "stdout",
          "text": [
            "Size of the dataset: 6172\n"
          ]
        }
      ]
    },
    {
      "cell_type": "code",
      "metadata": {
        "colab": {
          "base_uri": "https://localhost:8080/"
        },
        "id": "a2b9cd5b",
        "outputId": "21148520-b397-4027-a871-deb68c6ff77d"
      },
      "source": [
        "for col in df:\n",
        "    print(df[col].unique())"
      ],
      "id": "a2b9cd5b",
      "execution_count": 154,
      "outputs": [
        {
          "output_type": "stream",
          "name": "stdout",
          "text": [
            "[   1    2    3 ... 6170 6171 6172]\n",
            "[69 34 24 44 41 43 39 27 23 37 47 31 25 64 21 32 26 33 30 55 49 29 51 35\n",
            " 28 53 38 22 62 56 45 40 50 20 36 54 19 42 52 59 61 63 48 46 58 78 57 66\n",
            " 70 60 65 68 71 83 67 75 72 74 96 73 80 77 76 79 18]\n",
            "['F' 'M']\n",
            "['Other' 'African-American' 'Caucasian' 'Hispanic' 'Asian'\n",
            " 'Native American']\n",
            "['Greater than 45' '25 - 45' 'Less than 25']\n",
            "['Low' 'Medium' 'High']\n",
            "['Male' 'Female']\n",
            "[ 0  4 14  3  1  7  6  5 13  8  9 21  2 15 10 28 19 11 23 25 36 12 20 33\n",
            " 16 18 17 22 30 24 27 26 37 29 31 38]\n",
            "[ -1   0 -20  22  -2 -24 -13 -15 -10 -30  -4 -16 -26  -7  29  -3  23 -11\n",
            " -22 -21 -12  -8  -5 -23 -14  -9  -6 -27 -19 -18  26 -29  28   7 -17 -28\n",
            "   9 -25  13  20  17  30   6   2  16   8   1  18  15  21  27  11   3  14\n",
            "   5  24]\n",
            "[ 1  3  4  6 10  5  9  2  7  8]\n",
            "[0 1]\n",
            "[0 1]\n",
            "['2013-08-13 06:03:42' '2013-01-26 03:45:27' '2013-04-13 04:58:34' ...\n",
            " '2014-01-13 05:48:01' '2014-03-08 08:06:02' '2014-06-28 12:16:41']\n",
            "['2013-08-14 05:41:20' '2013-02-05 05:36:53' '2013-04-14 07:02:04' ...\n",
            " '2014-01-14 07:49:46' '2014-03-09 12:18:04' '2014-06-30 11:19:23']\n",
            "[ 0  2  1  8  3  4 20  6  5 10]\n",
            "[ 0  1  6 12  2  4  3  8  5 13]\n",
            "[0 1 3 4 2 9 5 6 7]\n",
            "[0 1]\n"
          ]
        }
      ]
    },
    {
      "cell_type": "markdown",
      "metadata": {
        "id": "ff0b0107"
      },
      "source": [
        "We need to binarize all the categorical features we considered in the dataset:"
      ],
      "id": "ff0b0107"
    },
    {
      "cell_type": "code",
      "metadata": {
        "colab": {
          "base_uri": "https://localhost:8080/",
          "height": 261
        },
        "id": "78967310",
        "outputId": "30f7bcf3-662f-4d25-9de9-6337ce44b06b"
      },
      "source": [
        "df = (\n",
        "    pd.read_csv(\"propublica_ext.csv\")\n",
        "    #We first binarize the categorical feature c_charge_degree\n",
        "    .assign(c_charge=lambda x:x['c_charge_degree'].replace({'F': 1, 'M':0}))\n",
        "    #race\n",
        "    .assign(african_american=lambda x:x['race'].replace({'Other': 0, 'African-American': 1, 'Caucasian': 0, 'Hispanic': 0, 'Asian': 0,'Native American': 0}))\n",
        "    .assign(caucasian=lambda x:x['race'].replace({'Other': 0, 'African-American': 0, 'Caucasian': 1, 'Hispanic': 0, 'Asian': 0,'Native American': 0}))\n",
        "    .assign(native_american=lambda x:x['race'].replace({'Other': 0, 'African-American': 0, 'Caucasian': 0, 'Hispanic': 0, 'Asian': 0,'Native American': 1}))\n",
        "    .assign(hispanic=lambda x:x['race'].replace({'Other': 0, 'African-American': 0, 'Caucasian': 0, 'Hispanic': 1, 'Asian': 0,'Native American': 0}))\n",
        "    .assign(asian=lambda x:x['race'].replace({'Other': 0, 'African-American': 0, 'Caucasian': 0, 'Hispanic': 0, 'Asian': 1,'Native American': 0}))\n",
        "    .assign(other=lambda x:x['race'].replace({'Other': 1, 'African-American': 0, 'Caucasian': 0, 'Hispanic': 0, 'Asian': 0,'Native American': 0}))\n",
        "    #age_cat\n",
        "    .assign(less_than_25=lambda x:x['age_cat'].replace({'Greater than 45':0, '25 - 45':0, 'Less than 25':1}))\n",
        "    .assign(between_25_45=lambda x:x['age_cat'].replace({'Greater than 45':0, '25 - 45':1, 'Less than 25':0}))\n",
        "    .assign(greater_than_25=lambda x:x['age_cat'].replace({'Greater than 45':1, '25 - 45':0, 'Less than 25':0}))\n",
        "    #score_text\n",
        "    .assign(score_low=lambda x:x['score_text'].replace({'Low':1, 'Medium':0, 'High':0}))\n",
        "    .assign(score_medium=lambda x:x['score_text'].replace({'Low':0, 'Medium':1, 'High':0}))\n",
        "    .assign(score_high=lambda x:x['score_text'].replace({'Low':0, 'Medium':0, 'High':1}))\n",
        "    #sex\n",
        "    .assign(Male=lambda x:x['sex'].replace({'Male': 1, 'Female':0}))\n",
        "    \n",
        ")\n",
        "DeleteList=['c_charge_degree','race','age_cat','score_text','sex','c_jail_in','c_jail_out']\n",
        "df=df.drop(DeleteList, axis=1)\n",
        "print(\"Dataset with %d\" % df.shape[0],\"objects and %d\" % df.shape[1], \"variables\") #We calculate the number of objects in the dataset\n",
        "\n",
        "df.head()\n"
      ],
      "id": "78967310",
      "execution_count": 155,
      "outputs": [
        {
          "output_type": "stream",
          "name": "stdout",
          "text": [
            "Dataset with 6172 objects and 25 variables\n"
          ]
        },
        {
          "output_type": "execute_result",
          "data": {
            "text/html": [
              "<div>\n",
              "<style scoped>\n",
              "    .dataframe tbody tr th:only-of-type {\n",
              "        vertical-align: middle;\n",
              "    }\n",
              "\n",
              "    .dataframe tbody tr th {\n",
              "        vertical-align: top;\n",
              "    }\n",
              "\n",
              "    .dataframe thead th {\n",
              "        text-align: right;\n",
              "    }\n",
              "</style>\n",
              "<table border=\"1\" class=\"dataframe\">\n",
              "  <thead>\n",
              "    <tr style=\"text-align: right;\">\n",
              "      <th></th>\n",
              "      <th>Unnamed: 0</th>\n",
              "      <th>age</th>\n",
              "      <th>priors_count</th>\n",
              "      <th>days_b_screening_arrest</th>\n",
              "      <th>decile_score</th>\n",
              "      <th>is_recid</th>\n",
              "      <th>two_year_recid</th>\n",
              "      <th>juv_fel_count</th>\n",
              "      <th>juv_misd_count</th>\n",
              "      <th>juv_other_count</th>\n",
              "      <th>is_violent_recid</th>\n",
              "      <th>c_charge</th>\n",
              "      <th>african_american</th>\n",
              "      <th>caucasian</th>\n",
              "      <th>native_american</th>\n",
              "      <th>hispanic</th>\n",
              "      <th>asian</th>\n",
              "      <th>other</th>\n",
              "      <th>less_than_25</th>\n",
              "      <th>between_25_45</th>\n",
              "      <th>greater_than_25</th>\n",
              "      <th>score_low</th>\n",
              "      <th>score_medium</th>\n",
              "      <th>score_high</th>\n",
              "      <th>Male</th>\n",
              "    </tr>\n",
              "  </thead>\n",
              "  <tbody>\n",
              "    <tr>\n",
              "      <th>0</th>\n",
              "      <td>1</td>\n",
              "      <td>69</td>\n",
              "      <td>0</td>\n",
              "      <td>-1</td>\n",
              "      <td>1</td>\n",
              "      <td>0</td>\n",
              "      <td>0</td>\n",
              "      <td>0</td>\n",
              "      <td>0</td>\n",
              "      <td>0</td>\n",
              "      <td>0</td>\n",
              "      <td>1</td>\n",
              "      <td>0</td>\n",
              "      <td>0</td>\n",
              "      <td>0</td>\n",
              "      <td>0</td>\n",
              "      <td>0</td>\n",
              "      <td>1</td>\n",
              "      <td>0</td>\n",
              "      <td>0</td>\n",
              "      <td>1</td>\n",
              "      <td>1</td>\n",
              "      <td>0</td>\n",
              "      <td>0</td>\n",
              "      <td>1</td>\n",
              "    </tr>\n",
              "    <tr>\n",
              "      <th>1</th>\n",
              "      <td>2</td>\n",
              "      <td>34</td>\n",
              "      <td>0</td>\n",
              "      <td>-1</td>\n",
              "      <td>3</td>\n",
              "      <td>1</td>\n",
              "      <td>1</td>\n",
              "      <td>0</td>\n",
              "      <td>0</td>\n",
              "      <td>0</td>\n",
              "      <td>1</td>\n",
              "      <td>1</td>\n",
              "      <td>1</td>\n",
              "      <td>0</td>\n",
              "      <td>0</td>\n",
              "      <td>0</td>\n",
              "      <td>0</td>\n",
              "      <td>0</td>\n",
              "      <td>0</td>\n",
              "      <td>1</td>\n",
              "      <td>0</td>\n",
              "      <td>1</td>\n",
              "      <td>0</td>\n",
              "      <td>0</td>\n",
              "      <td>1</td>\n",
              "    </tr>\n",
              "    <tr>\n",
              "      <th>2</th>\n",
              "      <td>3</td>\n",
              "      <td>24</td>\n",
              "      <td>4</td>\n",
              "      <td>-1</td>\n",
              "      <td>4</td>\n",
              "      <td>1</td>\n",
              "      <td>1</td>\n",
              "      <td>0</td>\n",
              "      <td>0</td>\n",
              "      <td>1</td>\n",
              "      <td>0</td>\n",
              "      <td>1</td>\n",
              "      <td>1</td>\n",
              "      <td>0</td>\n",
              "      <td>0</td>\n",
              "      <td>0</td>\n",
              "      <td>0</td>\n",
              "      <td>0</td>\n",
              "      <td>1</td>\n",
              "      <td>0</td>\n",
              "      <td>0</td>\n",
              "      <td>1</td>\n",
              "      <td>0</td>\n",
              "      <td>0</td>\n",
              "      <td>1</td>\n",
              "    </tr>\n",
              "    <tr>\n",
              "      <th>3</th>\n",
              "      <td>4</td>\n",
              "      <td>44</td>\n",
              "      <td>0</td>\n",
              "      <td>0</td>\n",
              "      <td>1</td>\n",
              "      <td>0</td>\n",
              "      <td>0</td>\n",
              "      <td>0</td>\n",
              "      <td>0</td>\n",
              "      <td>0</td>\n",
              "      <td>0</td>\n",
              "      <td>0</td>\n",
              "      <td>0</td>\n",
              "      <td>0</td>\n",
              "      <td>0</td>\n",
              "      <td>0</td>\n",
              "      <td>0</td>\n",
              "      <td>1</td>\n",
              "      <td>0</td>\n",
              "      <td>1</td>\n",
              "      <td>0</td>\n",
              "      <td>1</td>\n",
              "      <td>0</td>\n",
              "      <td>0</td>\n",
              "      <td>1</td>\n",
              "    </tr>\n",
              "    <tr>\n",
              "      <th>4</th>\n",
              "      <td>5</td>\n",
              "      <td>41</td>\n",
              "      <td>14</td>\n",
              "      <td>-1</td>\n",
              "      <td>6</td>\n",
              "      <td>1</td>\n",
              "      <td>1</td>\n",
              "      <td>0</td>\n",
              "      <td>0</td>\n",
              "      <td>0</td>\n",
              "      <td>0</td>\n",
              "      <td>1</td>\n",
              "      <td>0</td>\n",
              "      <td>1</td>\n",
              "      <td>0</td>\n",
              "      <td>0</td>\n",
              "      <td>0</td>\n",
              "      <td>0</td>\n",
              "      <td>0</td>\n",
              "      <td>1</td>\n",
              "      <td>0</td>\n",
              "      <td>0</td>\n",
              "      <td>1</td>\n",
              "      <td>0</td>\n",
              "      <td>1</td>\n",
              "    </tr>\n",
              "  </tbody>\n",
              "</table>\n",
              "</div>"
            ],
            "text/plain": [
              "   Unnamed: 0  age  priors_count  ...  score_medium  score_high  Male\n",
              "0           1   69             0  ...             0           0     1\n",
              "1           2   34             0  ...             0           0     1\n",
              "2           3   24             4  ...             0           0     1\n",
              "3           4   44             0  ...             0           0     1\n",
              "4           5   41            14  ...             1           0     1\n",
              "\n",
              "[5 rows x 25 columns]"
            ]
          },
          "metadata": {},
          "execution_count": 155
        }
      ]
    },
    {
      "cell_type": "markdown",
      "metadata": {
        "id": "50020e6e"
      },
      "source": [
        "Actually, our dataset is only composed of 23 variables, since we do not include the first column as variable, and the variable \"two_year_recid\" is the binary label to predict.\n",
        "\n",
        "We then define our data and our label:\n"
      ],
      "id": "50020e6e"
    },
    {
      "cell_type": "code",
      "metadata": {
        "colab": {
          "base_uri": "https://localhost:8080/",
          "height": 139
        },
        "id": "94538ff5",
        "outputId": "5722021d-710d-482c-9b98-77020c4ff18f"
      },
      "source": [
        "display(df.columns)"
      ],
      "id": "94538ff5",
      "execution_count": 156,
      "outputs": [
        {
          "output_type": "display_data",
          "data": {
            "text/plain": [
              "Index(['Unnamed: 0', 'age', 'priors_count', 'days_b_screening_arrest',\n",
              "       'decile_score', 'is_recid', 'two_year_recid', 'juv_fel_count',\n",
              "       'juv_misd_count', 'juv_other_count', 'is_violent_recid', 'c_charge',\n",
              "       'african_american', 'caucasian', 'native_american', 'hispanic', 'asian',\n",
              "       'other', 'less_than_25', 'between_25_45', 'greater_than_25',\n",
              "       'score_low', 'score_medium', 'score_high', 'Male'],\n",
              "      dtype='object')"
            ]
          },
          "metadata": {}
        }
      ]
    },
    {
      "cell_type": "markdown",
      "metadata": {
        "id": "875ddcfb"
      },
      "source": [
        "We now select from this list only the variables we want to consider in our classification problem and the corresponding labels:"
      ],
      "id": "875ddcfb"
    },
    {
      "cell_type": "code",
      "metadata": {
        "id": "f98c91a0"
      },
      "source": [
        "# Here is a way to select these columns using the column names\n",
        "    \n",
        "#feature_columns = ['Number_of_Priors', 'score_factor','Age_Above_FourtyFive', 'Age_Below_TwentyFive', 'African_American','Asian', 'Hispanic', 'Native_American', 'Other', 'Female',       'Misdemeanor']\n",
        "\n",
        "feature_columns = ['age', 'priors_count', 'days_b_screening_arrest',\n",
        "         'juv_fel_count',\n",
        "       'juv_misd_count', 'juv_other_count', 'is_violent_recid', 'c_charge',\n",
        "        'less_than_25', 'between_25_45', 'greater_than_25',\n",
        "        'Male']\n",
        "\n",
        "\n",
        "data = df[feature_columns].values\n",
        "y = df['two_year_recid'].values\n",
        "df=df.assign(COMPAS_Decision=lambda x:x['score_low'].replace({0: 1, 1:0}))\n",
        "y_compas = df['COMPAS_Decision'].values"
      ],
      "id": "f98c91a0",
      "execution_count": 157,
      "outputs": []
    },
    {
      "cell_type": "code",
      "metadata": {
        "id": "78125675"
      },
      "source": [
        "#We load the libraries for the SVM\n",
        "\n",
        "from sklearn.svm import SVC\n",
        "from sklearn.model_selection import train_test_split\n",
        "\n",
        "# shuffle the data\n",
        "#n_samples=data.shape[0]\n",
        "#perm = list(range(0,n_samples))\n",
        "#shuffle(perm)\n",
        "#data = data[perm]\n",
        "#y = y[perm]\n",
        "#y_compas=y_compas[perm]\n",
        "\n",
        "\n",
        "#Create train and validation set\n",
        "#train_x, test_x, train_y, test_y = train_test_split(data, y, test_size=0.1, shuffle=True, stratify=y, random_state=42)\n",
        "\n",
        "svm_clf = SVC(kernel=\"linear\", C=1.0)\n",
        "svm_clf.fit(data, y)\n",
        "\n",
        "y_pred=svm_clf.predict(data)\n",
        "\n",
        "\n",
        "\n"
      ],
      "id": "78125675",
      "execution_count": 158,
      "outputs": []
    },
    {
      "cell_type": "code",
      "source": [
        "\n",
        "disparate_impact_SVM = disparate_impact(y,y_pred, df['african_american'])\n",
        "print('disparate_impact = %.2f' % (disparate_impact_SVM*100),\"%\")\n"
      ],
      "metadata": {
        "colab": {
          "base_uri": "https://localhost:8080/"
        },
        "id": "zBxLfDa0zNjr",
        "outputId": "5aec12b7-0fd3-442a-c5e1-0597f2516f4b"
      },
      "id": "zBxLfDa0zNjr",
      "execution_count": 159,
      "outputs": [
        {
          "output_type": "stream",
          "name": "stdout",
          "text": [
            "disparate_impact = 51.55 %\n"
          ]
        }
      ]
    },
    {
      "cell_type": "code",
      "metadata": {
        "colab": {
          "base_uri": "https://localhost:8080/"
        },
        "id": "63c77324",
        "outputId": "3818cf98-f659-4d32-e31c-c626a384df95"
      },
      "source": [
        "b_recid = df[df['african_american'] == 1]\n",
        "w_recid = df[df['caucasian'] == 1]\n",
        "print(\n",
        "    ' Accuracy SVM (All):  \\t %.2f' % (metrics.accuracy_score(y, y_pred)*100), \"%\\n\",\n",
        "    'Accuracy SVM (Black):\\t %.2f' % (metrics.accuracy_score(y_pred[df['african_american'] == 1], \n",
        "                                                             b_recid['two_year_recid'])*100),\"%\\n\", \n",
        "    'Accuracy SVM (White):\\t %.2f' % (metrics.accuracy_score(y_pred[df['caucasian'] == 1],\n",
        "                                                             w_recid['two_year_recid'])*100),\"%\\n\",\n",
        "\n",
        ")\n",
        "\n",
        "print(pd.crosstab(y_pred, df['two_year_recid'], rownames=['Predicted recividism'],\n",
        "            colnames=['Actual recividism'],normalize='columns'))\n",
        "print()\n",
        "\n",
        "FPR_s=pd.crosstab(y_pred, df['two_year_recid'], rownames=['Predicted recividism'],\n",
        "                  colnames=['Actual recividism'],normalize='columns')[0][1]\n",
        "FNR_s=pd.crosstab(y_pred, df['two_year_recid'], rownames=['Predicted recividism'],\n",
        "                  colnames=['Actual recividism'],normalize='columns')[1][0].astype('float')\n",
        "\n",
        "print(\"FPR SVM %.2f\" % (FPR_s*100),\"%\")\n",
        "print(\"FNR SVM %.2f\" % (FNR_s*100),\"%\")\n",
        "\n",
        "\n"
      ],
      "id": "63c77324",
      "execution_count": 160,
      "outputs": [
        {
          "output_type": "stream",
          "name": "stdout",
          "text": [
            " Accuracy SVM (All):  \t 70.01 %\n",
            " Accuracy SVM (Black):\t 68.57 %\n",
            " Accuracy SVM (White):\t 71.18 %\n",
            "\n",
            "Actual recividism            0         1\n",
            "Predicted recividism                    \n",
            "0                     0.903955  0.543966\n",
            "1                     0.096045  0.456034\n",
            "\n",
            "FPR SVM 9.60 %\n",
            "FNR SVM 54.40 %\n"
          ]
        }
      ]
    },
    {
      "cell_type": "markdown",
      "metadata": {
        "id": "1368a119"
      },
      "source": [
        "## Questions:\n",
        "\n",
        "**11-** Provide the accuracy for the COMPAS dataset.\n",
        "\n",
        "**12-** Provide the accuracy for black defendants for the COMPAS dataset.\n",
        "\n",
        "**13-** Provide the accuracy for white defendants for the COMPAS dataset.\n",
        "\n",
        "**14-** Provide the FPR for the COMPAS dataset.\n",
        "\n",
        "**15-** Provide the FNR for the COMPAS dataset.\n",
        "\n"
      ],
      "id": "1368a119"
    },
    {
      "cell_type": "code",
      "source": [
        "#11- Provide the accuracy for the COMPAS dataset:\n",
        "#12- Provide the accuracy for black defendants for the COMPAS dataset:\n",
        "#13- Provide the accuracy for white defendants for the COMPAS dataset:\n",
        "#14- Provide the FPR for the COMPAS dataset:\n",
        "#15- Provide the FNR for the COMPAS dataset:\n",
        "\n",
        "b_recid = df[df['african_american'] == 1]\n",
        "w_recid = df[df['caucasian'] == 1]\n",
        "print(\n",
        "    ' Accuracy Compas (All):  \\t %.2f' % (metrics.accuracy_score(y,y_compas)*100), \"%\\n\",\n",
        "    'Accuracy Compas (Black):\\t %.2f' % (metrics.accuracy_score(y[df['african_american'] == 1],\n",
        "                                                             b_recid['COMPAS_Decision'])*100),\"%\\n\", \n",
        "    'Accuracy Compas (White):\\t %.2f' % (metrics.accuracy_score(y[df['caucasian'] == 1],\n",
        "                                                             w_recid['COMPAS_Decision'])*100),\"%\\n\",\n",
        "\n",
        ")\n",
        "\n",
        "\n",
        "\n",
        "FPR_compas=pd.crosstab(df['COMPAS_Decision'], df['two_year_recid'], rownames=['Predicted recividism'],\n",
        "                         colnames=['Actual recividism'],normalize='columns')[0][1]\n",
        "FNR_compas=pd.crosstab(df['COMPAS_Decision'], df['two_year_recid'], rownames=['Predicted recividism'],\n",
        "                         colnames=['Actual recividism'],normalize='columns')[1][0].astype('float')\n",
        "\n",
        "print(\"FPR Compas COMPASS %.2f\" % (FPR_compas*100),\"%\")\n",
        "print(\"FNR Compas COMPASS %.2f\" % (FNR_compas*100),\"%\")"
      ],
      "metadata": {
        "colab": {
          "base_uri": "https://localhost:8080/"
        },
        "id": "ooc9NvZXAT6A",
        "outputId": "187af836-26c9-4e92-f28b-e7fb4c849182"
      },
      "id": "ooc9NvZXAT6A",
      "execution_count": 161,
      "outputs": [
        {
          "output_type": "stream",
          "name": "stdout",
          "text": [
            " Accuracy Compas (All):  \t 66.07 %\n",
            " Accuracy Compas (Black):\t 64.91 %\n",
            " Accuracy Compas (White):\t 67.19 %\n",
            "\n",
            "FPR Compas COMPASS 30.27 %\n",
            "FNR Compas COMPASS 38.31 %\n"
          ]
        }
      ]
    },
    {
      "cell_type": "code",
      "metadata": {
        "id": "419a97b1",
        "outputId": "b86eb615-0f62-42d3-93d8-cc26ab02fd5f",
        "colab": {
          "base_uri": "https://localhost:8080/"
        }
      },
      "source": [
        "#(given)\n",
        "#For the COMPAS: \n",
        "FPR_b_comp=pd.crosstab(b_recid['COMPAS_Decision'], b_recid['two_year_recid'], rownames=['Predicted recividism'],colnames=['Actual recividism'],\n",
        "                  normalize='columns')[0][1]\n",
        "FNR_b_comp=pd.crosstab(b_recid['COMPAS_Decision'], b_recid['two_year_recid'], \n",
        "                  rownames=['Predicted recividism'],colnames=['Actual recividism'],\n",
        "                  normalize='columns')[1][0].astype('float')\n",
        "\n",
        "print(\"FPR of Black %.2f\" % (FPR_b_comp*100),\"%\")\n",
        "print(\"FNR of Black %.2f\" % (FNR_b_comp*100),\"%\")\n",
        "\n"
      ],
      "id": "419a97b1",
      "execution_count": 162,
      "outputs": [
        {
          "output_type": "stream",
          "name": "stdout",
          "text": [
            "FPR of Black 42.34 %\n",
            "FNR of Black 28.48 %\n"
          ]
        }
      ]
    },
    {
      "cell_type": "markdown",
      "metadata": {
        "id": "cfc053aa"
      },
      "source": [
        "## Questions:\n",
        "\n",
        "For the COMPAS classifier:\n",
        "\n",
        "**16-** Calculate the FPR for white defendants.\n",
        "\n",
        "**17-** Calculate the FNR for white defendants.\n",
        "\n",
        "**18-** Replace **x** by the right number in the two following statement:\n",
        "\n",
        "\"FPR of Black is **x** times greater than for White\"\n",
        "\n",
        "**19-** Replace **x** by the right number in the two following statement:\n",
        "\n",
        "\"FNR of Black is **x** times smaller than for White\"\n",
        "\n"
      ],
      "id": "cfc053aa"
    },
    {
      "cell_type": "code",
      "source": [
        "#16- Calculate the FPR for white defendants:\n",
        "#17- Calculate the FNR for white defendants:\n",
        "b_recid = df[df['african_american'] == 1]\n",
        "w_recid = df[df['caucasian'] == 1]\n",
        "\n",
        "\n",
        "#For the COMPAS: \n",
        "FPR_w_comp=pd.crosstab(w_recid['COMPAS_Decision'], w_recid['two_year_recid'], rownames=['Predicted recividism'],colnames=['Actual recividism'],\n",
        "                  normalize='columns')[0][1]\n",
        "FNR_w_comp=pd.crosstab(w_recid['COMPAS_Decision'], w_recid['two_year_recid'], \n",
        "                  rownames=['Predicted recividism'],colnames=['Actual recividism'],\n",
        "                  normalize='columns')[1][0].astype('float')\n",
        "\n",
        "print(\"FPR for white defendants %.2f\" % (FPR_w_comp*100),\"%\")\n",
        "print(\"FNR for white defendants %.2f\" % (FNR_w_comp*100),\"%\")"
      ],
      "metadata": {
        "colab": {
          "base_uri": "https://localhost:8080/"
        },
        "id": "GLGDHac1J5lw",
        "outputId": "39bd6406-1073-4610-db9d-971c98cce010"
      },
      "id": "GLGDHac1J5lw",
      "execution_count": 163,
      "outputs": [
        {
          "output_type": "stream",
          "name": "stdout",
          "text": [
            "FPR for white defendants 22.01 %\n",
            "FNR for white defendants 49.64 %\n"
          ]
        }
      ]
    },
    {
      "cell_type": "code",
      "source": [
        "#18- Replace x by the right number in the two following statement:\n",
        "#\"FPR of Black is x times greater than for White\":\n",
        "print(\"FPR of Black is\", FPR_b_comp/FPR_w_comp ,\" times greater than for White\")\n",
        "\n",
        "#19- Replace x by the right number in the two following statement:\n",
        "#\"FNR of Black is x times smaller than for White\":\n",
        "print(\"FNR of Black is\", FNR_w_comp/FNR_b_comp,\" times smaller than for White\")"
      ],
      "metadata": {
        "colab": {
          "base_uri": "https://localhost:8080/"
        },
        "id": "ADuKSpSmLGGc",
        "outputId": "3c50eb2a-c24f-4cbe-fc7c-2ace0e388f7d"
      },
      "id": "ADuKSpSmLGGc",
      "execution_count": 164,
      "outputs": [
        {
          "output_type": "stream",
          "name": "stdout",
          "text": [
            "FPR of Black is 1.9232342111919953  times greater than for White\n",
            "FNR of Black is 1.7429977932439313  times smaller than for White\n"
          ]
        }
      ]
    },
    {
      "cell_type": "code",
      "source": [
        "#(given)\n",
        "#For the SVM:\n",
        "FPR_b_svm=pd.crosstab(y_pred[df['african_american'] == 1], b_recid['two_year_recid'], rownames=['Predicted recividism'],colnames=['Actual recividism'],normalize='columns')[0][1]\n",
        "FNR_b_svm=pd.crosstab(y_pred[df['african_american'] == 1], b_recid['two_year_recid'], rownames=['Predicted recividism'],colnames=['Actual recividism'],normalize='columns')[1][0].astype('float')\n",
        "\n",
        "print(\"FPR of Black %.2f\" % (FPR_b_svm*100),\"%\")\n",
        "print(\"FNR of Black %.2f\" % (FNR_b_svm*100),\"%\")"
      ],
      "metadata": {
        "colab": {
          "base_uri": "https://localhost:8080/"
        },
        "id": "TNF145Q6N13-",
        "outputId": "03116458-29b3-4a5f-933e-2376bf773941"
      },
      "id": "TNF145Q6N13-",
      "execution_count": 165,
      "outputs": [
        {
          "output_type": "stream",
          "name": "stdout",
          "text": [
            "FPR of Black 13.74 %\n",
            "FNR of Black 47.56 %\n"
          ]
        }
      ]
    },
    {
      "cell_type": "markdown",
      "metadata": {
        "id": "8aa8155a"
      },
      "source": [
        "## Questions:\n",
        "\n",
        "For the SVM classifier:\n",
        "\n",
        "**20-** Calculate the FPR for white defendants.\n",
        "\n",
        "**21-** Calculate the FNR for white defendants.\n",
        "\n",
        "**22-** Replace **x** by the right number in the two following statement:\n",
        "\n",
        "\"FPR of Black is **x** times greater than for White\"\n",
        "\n",
        "**23-** Replace **x** by the right number in the two following statement:\n",
        "\n",
        "\"FNR of Black is **x** times smaller than for White\""
      ],
      "id": "8aa8155a"
    },
    {
      "cell_type": "code",
      "metadata": {
        "id": "ctTeTfZMSy6h",
        "colab": {
          "base_uri": "https://localhost:8080/"
        },
        "outputId": "82474008-b38c-4c34-e6c5-e7a2203891d1"
      },
      "source": [
        "#20- Calculate the FPR for white defendants.\n",
        "#21- Calculate the FNR for white defendants.\n",
        "b_recid = df[df['african_american'] == 1]\n",
        "w_recid = df[df['caucasian'] == 1]\n",
        "\n",
        "\n",
        "#For the SVM: \n",
        "FPR_w_svm=pd.crosstab(y_pred[df['caucasian'] == 1], w_recid['two_year_recid'], rownames=['Predicted recividism'],colnames=['Actual recividism'],normalize='columns')[0][1]\n",
        "FNR_w_svm=pd.crosstab(y_pred[df['caucasian'] == 1], w_recid['two_year_recid'], rownames=['Predicted recividism'],colnames=['Actual recividism'],normalize='columns')[1][0].astype('float')\n",
        "\n",
        "\n",
        "print(\"FPR for white defendants %.2f\" % (FPR_w_svm*100),\"%\")\n",
        "print(\"FNR for white defendants %.2f\" % (FNR_w_svm*100),\"%\")"
      ],
      "id": "ctTeTfZMSy6h",
      "execution_count": 166,
      "outputs": [
        {
          "output_type": "stream",
          "name": "stdout",
          "text": [
            "FPR for white defendants 6.48 %\n",
            "FNR for white defendants 63.63 %\n"
          ]
        }
      ]
    },
    {
      "cell_type": "code",
      "source": [
        "#(given)\n",
        "#For the SVM:\n",
        "FPR_b_svm=pd.crosstab(y_pred[df['african_american'] == 1], b_recid['two_year_recid'], rownames=['Predicted recividism'],colnames=['Actual recividism'],normalize='columns')[0][1]\n",
        "FNR_b_svm=pd.crosstab(y_pred[df['african_american'] == 1], b_recid['two_year_recid'], rownames=['Predicted recividism'],colnames=['Actual recividism'],normalize='columns')[1][0].astype('float')\n",
        "\n",
        "print(\"FPR of Black %.2f\" % (FPR_b_svm*100),\"%\")\n",
        "print(\"FNR of Black %.2f\" % (FNR_b_svm*100),\"%\")"
      ],
      "metadata": {
        "colab": {
          "base_uri": "https://localhost:8080/"
        },
        "id": "_6PmIp1-XSi9",
        "outputId": "e357b843-e095-4a34-c067-fd17d7a54903"
      },
      "id": "_6PmIp1-XSi9",
      "execution_count": 167,
      "outputs": [
        {
          "output_type": "stream",
          "name": "stdout",
          "text": [
            "FPR of Black 13.74 %\n",
            "FNR of Black 47.56 %\n"
          ]
        }
      ]
    },
    {
      "cell_type": "code",
      "source": [
        "#22- Replace x by the right number in the two following statement:\n",
        "#\"FPR of Black is x times greater than for White\"\n",
        "print(\"FPR of Black is\", FPR_b_svm/FPR_w_svm, \" times greater than for White\")\n",
        "#23- Replace x by the right number in the two following statement:\n",
        "#\"FNR of Black is x times smaller than for White\"\n",
        "print(\"FNR of Black is\", FNR_w_svm/ FNR_b_svm ,\" times smaller than for White\")"
      ],
      "metadata": {
        "colab": {
          "base_uri": "https://localhost:8080/"
        },
        "id": "T2AjjLKmXwH8",
        "outputId": "b9a555c4-4e44-4106-9f13-c6131f948d29"
      },
      "id": "T2AjjLKmXwH8",
      "execution_count": 168,
      "outputs": [
        {
          "output_type": "stream",
          "name": "stdout",
          "text": [
            "FPR of Black is 2.1203546020276614  times greater than for White\n",
            "FNR of Black is 1.3377421540546366  times smaller than for White\n"
          ]
        }
      ]
    },
    {
      "cell_type": "markdown",
      "metadata": {
        "id": "3a3124c3"
      },
      "source": [
        "## Questions: \n",
        "\n",
        "**24-** Fill in the following table:\n",
        "\n",
        "**25-** Which is the best solution in terms of accuracy? Is it fair (in terms of accuracy)?\n",
        "\n",
        "**26-** Which is the best solution in terms of FPR? Based on answers 18 and 22, which solution is more fair (in terms of FPR)?\n",
        "\n",
        "**27-** Which is the best solution in terms of FNR? Based on answers 19 and 23, which solution is more fair (in terms of FNR)?\n",
        "\n",
        "**28-** Calculate the 6 fairness metrics for the COMPAS classifier.\n",
        "\n",
        "**29-** Calculate the 6 fairness metrics for the SVM classifier.\n",
        "\n",
        "**30-** As a future (or actual) data scientist, which solution would you choose for **this** specific problem? Justify your answer."
      ],
      "id": "3a3124c3"
    },
    {
      "cell_type": "markdown",
      "source": [
        "$$\n",
        "\\begin{array}{cc}\n",
        "& \\text{SVM }&\\text{COMPAS }\\\\\n",
        "&\\begin{array}{cccc}\n",
        "\\hline \\hline \n",
        "&\\text { All } & \\text { Black } & \\text { White }\\\\\n",
        "\\hline \n",
        "\\text{Accuracy}& 70.01& 68.57 &71.18  \\\\\n",
        "\\text{FPR}&9.60 & 13.74 & 6.48 \\\\\n",
        "\\text{FNR}& 54.40& 45.56 & 63.63 \\\\\n",
        "\\hline\n",
        "\\end{array}\n",
        "&\\begin{array}{cccc}\n",
        "\\hline \\hline \n",
        "&\\text { All } & \\text { Black } & \\text { White }\\\\\n",
        "\\hline \n",
        "\\text{Accuracy}&66.07 & 64.91 & 67.19 \\\\\n",
        "\\text{FPR}& 30.27& 42.34 & 22.01 \\\\\n",
        "\\text{FNR}& 38.31& 28.48 & 49.64 \\\\\n",
        "\\hline\n",
        "\\end{array}\\\\\n",
        "\\end{array}\n",
        "$$\n"
      ],
      "metadata": {
        "id": "G0VGszYyJSzH"
      },
      "id": "G0VGszYyJSzH"
    },
    {
      "cell_type": "markdown",
      "source": [
        "### 25- Which is the best solution in terms of accuracy? Is it fair (in terms of accuracy)?\n",
        "\n",
        "In terms of overall accuracy, SVM has a better solution because its accuracy result is higher(0.70) than COMPAS overall accuracy(0.66). \n",
        "We can say that it SVM solution is kinda fair solution in term of accuracy because its black-accuracy is 0.685 and white-accuracy is 0.711 which are close to each other. If the difference between them would be high, we cannot say that it is a fair solution in terms of accuracy."
      ],
      "metadata": {
        "id": "avM0fxtDxrIk"
      },
      "id": "avM0fxtDxrIk"
    },
    {
      "cell_type": "markdown",
      "source": [
        "### 26- Which is the best solution in terms of FPR? Based on answers 18 and 22, which solution is more fair (in terms of FPR)?\n",
        "FPR means that it is predicted as class 1(s/he will have a crime), however in reality s/he didn't not have a crime. So, it predicted people as quilty although they are innocent.\n",
        "\n",
        "- Answer-18 COMPASS: FPR of Black is 1.9232342111919953  times greater than for White\n",
        "\n",
        "- Answer-22 SVM: FPR of Black is 2.1203546020276614  times greater than for White\n",
        "\n",
        "- The best solution in terms of FPR is SVM solution because its overall FPR is 9.60 and its is lower than COMPAS overall FPR (30.27). Lower FPR is good for fairness. \n",
        "\n",
        "- Based on answers 18 and 22, the COMPASS solution is more fair because FPR of black is 1.92 times greater than white. However, in SVM FPR of Black is 2.12 times greater than white. Since 1.92 < 2.12, COMPAS fairness is better than SVM fairness according to FPR rates of black and white."
      ],
      "metadata": {
        "id": "Jz03W67i5WfZ"
      },
      "id": "Jz03W67i5WfZ"
    },
    {
      "cell_type": "markdown",
      "source": [
        "### 27- Which is the best solution in terms of FNR? Based on answers 19 and 23, which solution is more fair (in terms of FNR)?\n",
        "\n",
        "FNR means that the algorithm predicted people as innocent(they will not have a crime in future). However in real life, they had a crime(they are quilty).\n",
        "\n",
        "- Answer 19-COMPASS: FNR of Black is 1.7429977932439313  times smaller than for White\n",
        "\n",
        "- Answer 22-SVM: FNR of Black is 1.3377421540546366  times smaller than for White\n",
        "\n",
        "- In terms of FNR, the best solution is COMPAS because its overall FNR is 38.31 smaller than the SVM overall FNR (54.40). Lower FNR is better to correctly classfy people.\n",
        "\n",
        "- Based on answers 19 and 22, SVM solution is more fair. Let me explain this. If the white-FNR is greater than black-FNR, that means the algorithm positive-discriminate whites because the algorithm detects them innocent although they are not. So, In a fair algorithm the white-FNR should NOT be bigger than black-FNR.\n",
        "- According to explanation, SVM solution is more fair since FNR-black is more smaller than FNR-white (1.33) compared to Compass solution(1.74)."
      ],
      "metadata": {
        "id": "rhl_xHrq7Q0P"
      },
      "id": "rhl_xHrq7Q0P"
    },
    {
      "cell_type": "code",
      "source": [
        "#28- Calculate the 6 fairness metrics for the COMPAS classifier:\n",
        "#\n",
        "#I choosed the \"african_american\" column as protected group\n",
        "disparate_impact_compas = disparate_impact(y,y_compas, df['african_american'])\n",
        "print('disparate_impact_compas = %.2f' % (disparate_impact_compas*100),\"%\")\n",
        "\n",
        "statistical_parity_compas = statistical_parity(y,y_compas, df['african_american'])\n",
        "print('statistical_parity_compas = %.2f' % (statistical_parity_compas*100),\"%\")\n",
        "\n",
        "predictive_parity_compas = predictive_parity(y,y_compas, df['african_american'])\n",
        "print('predictive_parity_compas = %.2f' % (predictive_parity_compas*100),\"%\")\n",
        "\n",
        "equalized_odds_compas = equalized_odds(y,y_compas, df['african_american'])\n",
        "print('equalized_odds_compas = %.2f' % (equalized_odds_compas*100),\"%\")\n",
        "\n",
        "\n",
        "predictive_equality_compas = predictive_equality(y,y_compas, df['african_american'])\n",
        "print('Predictive Equality_compas = %.2f' % (predictive_equality_compas*100),\"%\")\n",
        "\n",
        "equal_opportunity_compas=equal_opportunity(y,y_compas, df['african_american'])\n",
        "print('equal_opportunity_compas = %.2f' % (equal_opportunity_compas*100),\"%\")\n",
        "\n",
        "from tabulate import tabulate\n",
        "  \n",
        "# assign data\n",
        "mydata3 = [ \n",
        "          {\"Disparate impact\", disparate_impact_compas}, \n",
        "          {\"Statistical parity\", statistical_parity_compas}, \n",
        "          {\"Predictive parity\", predictive_parity_compas}, \n",
        "          {\"Equalized odds\", equalized_odds_compas},\n",
        "          {\"Predictive Equality\", predictive_equality_compas}, \n",
        "          {\"Equal opportunity\", equal_opportunity_compas},]\n",
        "  \n",
        "# create header\n",
        "head3 = [ \"RESULT\",\"METRIC\"]\n",
        "\n",
        "print()\n",
        "print(\"QUESTION-28\")\n",
        "print(\"#28- Calculate the 6 fairness metrics for the COMPAS classifier:\")\n",
        "print(tabulate(mydata3, headers=head3, tablefmt=\"grid\"))\n",
        "# display table"
      ],
      "metadata": {
        "colab": {
          "base_uri": "https://localhost:8080/"
        },
        "id": "Q5mra0UGxlMT",
        "outputId": "b369c95e-066c-4a23-fc2e-3caf59298836"
      },
      "id": "Q5mra0UGxlMT",
      "execution_count": 169,
      "outputs": [
        {
          "output_type": "stream",
          "name": "stdout",
          "text": [
            "disparate_impact_compas = 53.40 %\n",
            "statistical_parity_compas = 26.84 %\n",
            "predictive_parity_compas = 5.84 %\n",
            "equalized_odds_compas = 46.00 %\n",
            "Predictive Equality_compas = 21.95 %\n",
            "equal_opportunity_compas = 24.05 %\n",
            "\n",
            "QUESTION-28\n",
            "#28- Calculate the 6 fairness metrics for the COMPAS classifier:\n",
            "+----------+---------------------+\n",
            "|   RESULT | METRIC              |\n",
            "+==========+=====================+\n",
            "| 0.534041 | Disparate impact    |\n",
            "+----------+---------------------+\n",
            "| 0.268422 | Statistical parity  |\n",
            "+----------+---------------------+\n",
            "| 0.058429 | Predictive parity   |\n",
            "+----------+---------------------+\n",
            "| 0.459981 | Equalized odds      |\n",
            "+----------+---------------------+\n",
            "| 0.219488 | Predictive Equality |\n",
            "+----------+---------------------+\n",
            "| 0.240493 | Equal opportunity   |\n",
            "+----------+---------------------+\n"
          ]
        }
      ]
    },
    {
      "cell_type": "code",
      "source": [
        "#29- Calculate the 6 fairness metrics for the SVM classifier.\n",
        "#\n",
        "#I choosed the \"african_american\" column as protected group\n",
        "\n",
        "disparate_impact_SVM = disparate_impact(y,y_pred, df['african_american'])\n",
        "print('disparate_impact = %.2f' % (disparate_impact_SVM*100),\"%\")\n",
        "\n",
        "####\n",
        "disparate_impact_SVM = disparate_impact(y,y_pred, df['african_american'])\n",
        "print('disparate_impact_SVM = %.2f' % (disparate_impact_SVM*100),\"%\")\n",
        "\n",
        "statistical_parity_SVM = statistical_parity(y,y_pred, df['african_american'])\n",
        "print('statistical_parity_SVM = %.2f' % (statistical_parity_SVM*100),\"%\")\n",
        "\n",
        "predictive_parity_SVM = predictive_parity(y,y_pred, df['african_american'])\n",
        "print('predictive_parity_SVM = %.2f' % (predictive_parity_SVM*100),\"%\")\n",
        "\n",
        "equalized_odds_SVM = equalized_odds(y,y_pred, df['african_american'])\n",
        "print('equalized_odds_SVM = %.2f' % (equalized_odds_SVM*100),\"%\")\n",
        "\n",
        "\n",
        "predictive_equality_SVM = predictive_equality(y,y_pred, df['african_american'])\n",
        "print('Predictive Equality_SVM = %.2f' % (predictive_equality_SVM*100),\"%\")\n",
        "\n",
        "equal_opportunity_SVM=equal_opportunity(y,y_pred, df['african_american'])\n",
        "print('equal_opportunity_SVM = %.2f' % (equal_opportunity_SVM*100),\"%\")\n",
        "\n",
        "from tabulate import tabulate\n",
        "  \n",
        "# assign data\n",
        "mydata4 = [ \n",
        "          {\"Disparate impact\", disparate_impact_SVM}, \n",
        "          {\"Statistical parity\", statistical_parity_SVM}, \n",
        "          {\"Predictive parity\", predictive_parity_SVM}, \n",
        "          {\"Equalized odds\", equalized_odds_SVM},\n",
        "          {\"Predictive Equality\", predictive_equality_SVM}, \n",
        "          {\"Equal opportunity\", equal_opportunity_SVM},]\n",
        "  \n",
        "# create header\n",
        "head4 = [ \"RESULT\",\"METRIC\"]\n",
        "\n",
        "print()\n",
        "print(\"QUESTION-29\")\n",
        "print(\"#29- Calculate the 6 fairness metrics for the SVM classifier:\")\n",
        "print(tabulate(mydata4, headers=head4, tablefmt=\"grid\"))\n",
        "# display table"
      ],
      "metadata": {
        "colab": {
          "base_uri": "https://localhost:8080/"
        },
        "id": "4FacRul-2Jjp",
        "outputId": "54869163-41fb-458a-8d00-ca3047b0f7b4"
      },
      "id": "4FacRul-2Jjp",
      "execution_count": 170,
      "outputs": [
        {
          "output_type": "stream",
          "name": "stdout",
          "text": [
            "disparate_impact = 51.55 %\n",
            "disparate_impact_SVM = 51.55 %\n",
            "statistical_parity_SVM = 16.47 %\n",
            "predictive_parity_SVM = 2.63 %\n",
            "equalized_odds_SVM = 24.24 %\n",
            "Predictive Equality_SVM = 7.52 %\n",
            "equal_opportunity_SVM = 16.72 %\n",
            "\n",
            "QUESTION-29\n",
            "#29- Calculate the 6 fairness metrics for the SVM classifier:\n",
            "+-----------+---------------------+\n",
            "|    RESULT | METRIC              |\n",
            "+===========+=====================+\n",
            "| 0.51546   | Disparate impact    |\n",
            "+-----------+---------------------+\n",
            "| 0.164667  | Statistical parity  |\n",
            "+-----------+---------------------+\n",
            "| 0.0262765 | Predictive parity   |\n",
            "+-----------+---------------------+\n",
            "| 0.242429  | Equalized odds      |\n",
            "+-----------+---------------------+\n",
            "| 0.0751886 | Predictive Equality |\n",
            "+-----------+---------------------+\n",
            "| 0.16724   | Equal opportunity   |\n",
            "+-----------+---------------------+\n"
          ]
        }
      ]
    },
    {
      "cell_type": "markdown",
      "metadata": {
        "id": "4ac5fae1"
      },
      "source": [
        "$$\n",
        "\\begin{array}{cc}\n",
        "& \\text{SVM }&\\text{COMPAS }\\\\\n",
        "&\\begin{array}{cccc}\n",
        "\\hline \\hline \n",
        "&\\text { All } & \\text { Black } & \\text { White }\\\\\n",
        "\\hline \n",
        "\\text{Accuracy}& 70.01& 68.57 &71.18  \\\\\n",
        "\\text{FPR}&9.60 & 13.74 & 6.48 \\\\\n",
        "\\text{FNR}& 54.40& 45.56 & 63.63 \\\\\n",
        "\\hline\n",
        "\\end{array}\n",
        "&\\begin{array}{cccc}\n",
        "\\hline \\hline \n",
        "&\\text { All } & \\text { Black } & \\text { White }\\\\\n",
        "\\hline \n",
        "\\text{Accuracy}&66.07 & 64.91 & 67.19 \\\\\n",
        "\\text{FPR}& 30.27& 42.34 & 22.01 \\\\\n",
        "\\text{FNR}& 38.31& 28.48 & 49.64 \\\\\n",
        "\\hline\n",
        "\\end{array}\\\\\n",
        "\\end{array}\n",
        "$$\n",
        "\n"
      ],
      "id": "4ac5fae1"
    },
    {
      "cell_type": "markdown",
      "source": [
        "### 30- As a future (or actual) data scientist, which solution would you choose for this specific problem? Justify your answer.\n",
        "\n",
        "- To choose a solution, first I will look at the disparate impact to decide whether it satifies 80% rule. The disparate mpact is 0.515 in SVM and 0.534 in Compass. They are very close to each other and not close to 80%. \n",
        "\n",
        "- If I consider overall FPR, SVM seems better(9.60) because it is less than COMPAS(30.27). And also black-FPR and white-FPR is lesser in SVM.\n",
        "\n",
        "- If I consider FNR, I prefer FNR to be high in black, lower in white. If the FNR wolud be high in white that means the algorithm protects whites and predict them as innocent although they are quilty. According to question-27,  SVM solution is more fair since FNR-black is more smaller than FNR-white (1.33) compared to Compass solution(1.74).\n",
        "\n",
        "- So, at the end I will choose SVM."
      ],
      "metadata": {
        "id": "8j540O_RGLbO"
      },
      "id": "8j540O_RGLbO"
    },
    {
      "cell_type": "code",
      "source": [
        ""
      ],
      "metadata": {
        "id": "T7bhh2ssLqSV"
      },
      "id": "T7bhh2ssLqSV",
      "execution_count": null,
      "outputs": []
    }
  ]
}