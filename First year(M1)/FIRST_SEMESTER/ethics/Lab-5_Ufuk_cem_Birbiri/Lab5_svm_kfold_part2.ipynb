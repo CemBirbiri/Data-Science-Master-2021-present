{
  "nbformat": 4,
  "nbformat_minor": 5,
  "metadata": {
    "kernelspec": {
      "display_name": "Python 3 (ipykernel)",
      "language": "python",
      "name": "python3"
    },
    "language_info": {
      "codemirror_mode": {
        "name": "ipython",
        "version": 3
      },
      "file_extension": ".py",
      "mimetype": "text/x-python",
      "name": "python",
      "nbconvert_exporter": "python",
      "pygments_lexer": "ipython3",
      "version": "3.8.10"
    },
    "colab": {
      "name": "Lab5_svm_kfold_part2.ipynb",
      "provenance": [],
      "collapsed_sections": []
    }
  },
  "cells": [
    {
      "cell_type": "markdown",
      "metadata": {
        "tags": [],
        "id": "dca7526d"
      },
      "source": [
        "<h1 style=\"font-size:3rem;color:#A3623B;\">Lab 5: Support Vector Machines</h1>\n",
        "\n",
        "## Security and Ethical aspects of data\n",
        "### Amaya Nogales Gómez\n"
      ],
      "id": "dca7526d"
    },
    {
      "cell_type": "markdown",
      "metadata": {
        "id": "d287b928-25e4-4228-89e2-2dcd29605b9b"
      },
      "source": [
        "<h2> Part 3: Performance evaluation.</h2>"
      ],
      "id": "d287b928-25e4-4228-89e2-2dcd29605b9b"
    },
    {
      "cell_type": "code",
      "metadata": {
        "id": "2ec4a323-a4f1-42c5-9d37-57b9512e7ad4"
      },
      "source": [
        "#we import all the required libraries\n",
        "import numpy as np\n",
        "import matplotlib.pyplot as plt # for plotting stuff\n",
        "from random import seed, shuffle\n",
        "from scipy.stats import multivariate_normal # for generating synthetic data \n",
        "from sklearn.svm import SVC\n",
        "from sklearn import datasets #For real datasets\n",
        "from sklearn import metrics\n",
        "import math\n",
        "SEED = 1122334455\n",
        "seed(SEED) # set the random seed so that the random permutations can be reproduced again\n",
        "np.random.seed(SEED)"
      ],
      "id": "2ec4a323-a4f1-42c5-9d37-57b9512e7ad4",
      "execution_count": 2,
      "outputs": []
    },
    {
      "cell_type": "code",
      "metadata": {
        "id": "a468a497"
      },
      "source": [
        "def generate_synthetic_data(n_samples):\n",
        "\n",
        "    \"\"\"\n",
        "        Code for generating the synthetic data.\n",
        "        We will have two non-sensitive features and one sensitive feature.\n",
        "        A sensitive feature value of 0.0 means the example is considered to be in protected group (e.g., female) \n",
        "        and 1.0 means it's in non-protected group (e.g., male).\n",
        "    \"\"\"\n",
        "\n",
        "    #n_samples = 100 # generate these many data points per class\n",
        "    \n",
        "    def gen_gaussian(size, mean_in, cov_in, class_label):\n",
        "        nv = multivariate_normal(mean = mean_in, cov = cov_in)\n",
        "        X = nv.rvs(size)\n",
        "        y = np.ones(size, dtype=int) * class_label\n",
        "        return nv,X,y\n",
        "\n",
        "    \"\"\" Generate the features randomly \"\"\"\n",
        "    #For the NON-protected group (men)\n",
        "    # We will generate one gaussian cluster for each class\n",
        "    mu1, sigma1 = [2, 2], [[5, 1], [1, 5]]\n",
        "    mu2, sigma2 = [-2,-2], [[10, 1], [1, 3]]\n",
        "    nv1, X1, y1= gen_gaussian(int(n_samples), mu1, sigma1, 1) # positive class\n",
        "    nv2, X2, y2= gen_gaussian(int(n_samples),mu2, sigma2, 0) # negative class\n",
        "    \n",
        "    \n",
        "\n",
        "    \n",
        "\n",
        "    # join the positive and negative class clusters\n",
        "    X = np.vstack((X1, X2))\n",
        "    y = np.hstack((y1, y2))\n",
        "    \n",
        "\n",
        "    # shuffle the data\n",
        "    perm = list(range(0,n_samples*2))\n",
        "    shuffle(perm)\n",
        "    X = X[perm]\n",
        "    y = y[perm]\n",
        "    \n",
        "\n",
        "    return X,y"
      ],
      "id": "a468a497",
      "execution_count": 3,
      "outputs": []
    },
    {
      "cell_type": "code",
      "metadata": {
        "id": "59c689e4"
      },
      "source": [
        "n_size=50\n",
        "X_syn, y_syn = generate_synthetic_data(n_size) "
      ],
      "id": "59c689e4",
      "execution_count": 4,
      "outputs": []
    },
    {
      "cell_type": "code",
      "metadata": {
        "id": "8a2ffa52"
      },
      "source": [
        "#Generate training, testing and validation:\n",
        "n=np.shape(X_syn)[0]\n",
        "n_train=int(0.5*n)\n",
        "\n",
        "X_syn_training=X_syn[0:n_train,:]\n",
        "y_syn_training=y_syn[0:n_train]\n",
        "\n",
        "X_syn_testing=X_syn[n_train:(n_train+math.floor((n-n_train)/2)),:]\n",
        "y_syn_testing=y_syn[n_train:(n_train+math.floor((n-n_train)/2))]\n",
        "\n",
        "X_syn_validation=X_syn[(n_train+math.floor((n-n_train)/2)):n,:]\n",
        "y_syn_validation=y_syn[(n_train+math.floor((n-n_train)/2)):n]\n",
        "\n"
      ],
      "id": "8a2ffa52",
      "execution_count": 5,
      "outputs": []
    },
    {
      "cell_type": "code",
      "metadata": {
        "colab": {
          "base_uri": "https://localhost:8080/",
          "height": 265
        },
        "id": "cfebf837",
        "outputId": "28e29d66-8b10-4c2d-da8f-f50aef61e9bc"
      },
      "source": [
        "plt.scatter(X_syn_training[y_syn_training==1][:, 0], X_syn_training[y_syn_training==1][:, 1], color='#FFB9BA', marker='o', s=30, linewidth=1.5, label= \"Class +1\")\n",
        "plt.scatter(X_syn_training[y_syn_training==0][:, 0], X_syn_training[y_syn_training==0][:, 1], color='#714A41', marker='o', s=30, linewidth=1.5, label = \"Class -1\")\n",
        "\n",
        "\n",
        "plt.legend(loc=2, fontsize=10)\n",
        "\n",
        "plt.show()"
      ],
      "id": "cfebf837",
      "execution_count": 6,
      "outputs": [
        {
          "output_type": "display_data",
          "data": {
            "image/png": "[encoded data removed]",
            "text/plain": [
              "<Figure size 432x288 with 1 Axes>"
            ]
          },
          "metadata": {
            "needs_background": "light"
          }
        }
      ]
    },
    {
      "cell_type": "markdown",
      "metadata": {
        "id": "3e32a9c5"
      },
      "source": [
        "Now we calculate the SVM classifier for 3 different values of $C$:\n"
      ],
      "id": "3e32a9c5"
    },
    {
      "cell_type": "code",
      "metadata": {
        "colab": {
          "base_uri": "https://localhost:8080/",
          "height": 374
        },
        "id": "6ae4f9c1",
        "outputId": "e85b4b3e-d8df-4603-806b-4e7d94e54fe9"
      },
      "source": [
        "# SVM Classifier model\n",
        "#the hyperparameter C control the margin violations\n",
        "#smaller C leads to more margin violations but wider margin\n",
        "fig, axs = plt.subplots(1,3, figsize=(15, 6), facecolor='w', edgecolor='k')\n",
        "fig.subplots_adjust(hspace = .5, wspace=.001)\n",
        "\n",
        "axs = axs.ravel()\n",
        "C_i=[0.00001,1,100000]\n",
        "C_range=np.shape(C_i)[0]\n",
        "Accuracy_training=np.empty([C_range])\n",
        "Accuracy_testing=np.empty([C_range])\n",
        "Accuracy_validation=np.empty([C_range])\n",
        "for i in range(C_range):\n",
        "    \n",
        "    #axs[i].contourf(np.random.rand(10,10),5,cmap=plt.cm.Oranges)\n",
        "    #axs[i].set_title(str(250+i))\n",
        "    \n",
        "    svm_clf = SVC(kernel=\"linear\", C=C_i[i])\n",
        "    svm_clf.fit(X_syn_training, y_syn_training)\n",
        "\n",
        "    \n",
        "    axs[i].scatter(X_syn_training[y_syn_training==1][:, 0], X_syn_training[y_syn_training==1][:, 1], color='#FFB9BA', marker='o', s=30, linewidth=1.5, label= \"Class +1\")\n",
        "    axs[i].scatter(X_syn_training[y_syn_training==0][:, 0], X_syn_training[y_syn_training==0][:, 1], color='#714A41', marker='o', s=30, linewidth=1.5, label = \"Class -1\")\n",
        "    #plot_svc_decision_boundary(svm_clf, -2, 2)\n",
        "    w = svm_clf.coef_[0]\n",
        "    b = svm_clf.intercept_[0]\n",
        "\n",
        "    # At the decision boundary, w0*x0 + w1*x1 + b = 0\n",
        "    # => x1 = -w0/w1 * x0 - b/w1\n",
        "    x0 = np.linspace(-9, 9, 200)\n",
        "    decision_boundary = -w[0]/w[1] * x0 - b/w[1]\n",
        "    axs[i].plot(x0, decision_boundary, \"k-\", linewidth=2)\n",
        "    \n",
        "    y_pred_training=svm_clf.predict(X_syn_training)\n",
        "    y_pred_testing=svm_clf.predict(X_syn_testing)\n",
        "    y_pred_validation=svm_clf.predict(X_syn_validation)\n",
        "\n",
        " \n",
        "    Accuracy_training[i]=(metrics.accuracy_score(y_syn_training, y_pred_training)*100)\n",
        "    Accuracy_testing[i]=(metrics.accuracy_score(y_syn_testing, y_pred_testing)*100)\n",
        "    Accuracy_validation[i]=(metrics.accuracy_score(y_syn_validation, y_pred_validation)*100)\n",
        "    \n",
        "    \n",
        "plt.show() "
      ],
      "id": "6ae4f9c1",
      "execution_count": 7,
      "outputs": [
        {
          "output_type": "display_data",
          "data": {
            "image/png": "[encoded data removed]",
            "text/plain": [
              "<Figure size 1080x432 with 3 Axes>"
            ]
          },
          "metadata": {}
        }
      ]
    },
    {
      "cell_type": "code",
      "metadata": {
        "colab": {
          "base_uri": "https://localhost:8080/"
        },
        "id": "95da0c1f",
        "outputId": "41fbe52a-d279-4b3b-f8e4-a184600f85ee"
      },
      "source": [
        "print(\"\\t\\t     C_1 C_2 C_3\")\n",
        "print(\"Accuracy training  \",Accuracy_training)\n",
        "print(\"Accuracy testing   \",Accuracy_testing)\n",
        "print(\"Accuracy validation\",Accuracy_validation)"
      ],
      "id": "95da0c1f",
      "execution_count": 8,
      "outputs": [
        {
          "output_type": "stream",
          "name": "stdout",
          "text": [
            "\t\t     C_1 C_2 C_3\n",
            "Accuracy training   [ 94.  96. 100.]\n",
            "Accuracy testing    [ 80. 100. 100.]\n",
            "Accuracy validation [88. 88. 88.]\n"
          ]
        }
      ]
    },
    {
      "cell_type": "markdown",
      "metadata": {
        "id": "45d29a53"
      },
      "source": [
        "For reporting the final accuracy in this dataset, we need to:\n",
        "\n",
        "1-Train the SVM for all datasets k (in our case k=1) and all the Cs.\n",
        "\n",
        "2-Choose $C^*$ as the one giving the maximum accuracy in the testing set.\n",
        "\n",
        "3-Report the accuracy in the validation set.\n"
      ],
      "id": "45d29a53"
    },
    {
      "cell_type": "code",
      "metadata": {
        "colab": {
          "base_uri": "https://localhost:8080/"
        },
        "id": "d8aa1f89",
        "outputId": "470f45f2-d9e8-4b0d-8ff6-e2818d920a25"
      },
      "source": [
        "max_t=max(Accuracy_testing)\n",
        "i_loc=np.where(Accuracy_testing>=max_t)\n",
        "i_loc=i_loc[0][0]\n",
        "\n",
        "Final_accuracy=Accuracy_validation[i_loc]\n",
        "print(\"The accuracy in the studied dataset is %.2f\" %Final_accuracy)"
      ],
      "id": "d8aa1f89",
      "execution_count": 9,
      "outputs": [
        {
          "output_type": "stream",
          "name": "stdout",
          "text": [
            "The accuracy in the studied dataset is 88.00\n"
          ]
        }
      ]
    },
    {
      "cell_type": "markdown",
      "metadata": {
        "id": "24369e0b"
      },
      "source": [
        "## Question:\n",
        "\n",
        "**23-** Repeat the same for n_samples=100. Do the same k-fold cross-validation for $k=1$ and provide the final accuracy. \n",
        "\n",
        "**24-** What happens with the first classifier? \n",
        "\n",
        "**25-** Change the range of parameters values for $C$ and repeat 1. For example: $C_i[0]=0.001$.\n"
      ],
      "id": "24369e0b"
    },
    {
      "cell_type": "code",
      "metadata": {
        "colab": {
          "base_uri": "https://localhost:8080/",
          "height": 459
        },
        "id": "bTB_3MDtEleb",
        "outputId": "3c1adc2a-7037-4e2c-97d2-9b95a6031843"
      },
      "source": [
        "#\n",
        "#\n",
        "#23- Repeat the same for n_samples=100. Do the same k-fold cross-validation for  𝑘=1  and provide the final accuracy.\n",
        "#Answer:\n",
        "#\n",
        "n_size=100\n",
        "X_syn, y_syn = generate_synthetic_data(n_size)\n",
        "#\n",
        "# \n",
        "#Generate training, testing and validation:\n",
        "n=np.shape(X_syn)[0]\n",
        "n_train=int(0.5*n)\n",
        "\n",
        "X_syn_training=X_syn[0:n_train,:]\n",
        "y_syn_training=y_syn[0:n_train]\n",
        "\n",
        "X_syn_testing=X_syn[n_train:(n_train+math.floor((n-n_train)/2)),:]\n",
        "y_syn_testing=y_syn[n_train:(n_train+math.floor((n-n_train)/2))]\n",
        "\n",
        "X_syn_validation=X_syn[(n_train+math.floor((n-n_train)/2)):n,:]\n",
        "y_syn_validation=y_syn[(n_train+math.floor((n-n_train)/2)):n]\n",
        "# SVM Classifier model\n",
        "#the hyperparameter C control the margin violations\n",
        "#smaller C leads to more margin violations but wider margin\n",
        "fig, axs = plt.subplots(1,3, figsize=(15, 6), facecolor='w', edgecolor='k')\n",
        "fig.subplots_adjust(hspace = .5, wspace=.001)\n",
        "\n",
        "axs = axs.ravel()\n",
        "C_i=[0.00001,1,100000]\n",
        "C_range=np.shape(C_i)[0]\n",
        "Accuracy_training=np.empty([C_range])\n",
        "Accuracy_testing=np.empty([C_range])\n",
        "Accuracy_validation=np.empty([C_range])\n",
        "for i in range(C_range): \n",
        "    #axs[i].contourf(np.random.rand(10,10),5,cmap=plt.cm.Oranges)\n",
        "    #axs[i].set_title(str(250+i)) \n",
        "    svm_clf = SVC(kernel=\"linear\", C=C_i[i])\n",
        "    svm_clf.fit(X_syn_training, y_syn_training)\n",
        "\n",
        "    \n",
        "    axs[i].scatter(X_syn_training[y_syn_training==1][:, 0], X_syn_training[y_syn_training==1][:, 1], color='#FFB9BA', marker='o', s=30, linewidth=1.5, label= \"Class +1\")\n",
        "    axs[i].scatter(X_syn_training[y_syn_training==0][:, 0], X_syn_training[y_syn_training==0][:, 1], color='#714A41', marker='o', s=30, linewidth=1.5, label = \"Class -1\")\n",
        "    #plot_svc_decision_boundary(svm_clf, -2, 2)\n",
        "    w = svm_clf.coef_[0]\n",
        "    b = svm_clf.intercept_[0]\n",
        "\n",
        "    # At the decision boundary, w0*x0 + w1*x1 + b = 0\n",
        "    # => x1 = -w0/w1 * x0 - b/w1\n",
        "    x0 = np.linspace(-9, 9, 200)\n",
        "    decision_boundary = -w[0]/w[1] * x0 - b/w[1]\n",
        "    axs[i].plot(x0, decision_boundary, \"k-\", linewidth=2)\n",
        "    \n",
        "    y_pred_training=svm_clf.predict(X_syn_training)\n",
        "    y_pred_testing=svm_clf.predict(X_syn_testing)\n",
        "    y_pred_validation=svm_clf.predict(X_syn_validation)\n",
        "\n",
        " \n",
        "    Accuracy_training[i]=(metrics.accuracy_score(y_syn_training, y_pred_training)*100)\n",
        "    Accuracy_testing[i]=(metrics.accuracy_score(y_syn_testing, y_pred_testing)*100)\n",
        "    Accuracy_validation[i]=(metrics.accuracy_score(y_syn_validation, y_pred_validation)*100)   \n",
        "plt.show() \n",
        "print(\"\\t\\t     C_1 C_2 C_3\")\n",
        "print(\"Accuracy training  \",Accuracy_training)\n",
        "print(\"Accuracy testing   \",Accuracy_testing)\n",
        "print(\"Accuracy validation\",Accuracy_validation)\n",
        "\n",
        "max_t=max(Accuracy_testing)\n",
        "i_loc=np.where(Accuracy_testing>=max_t)\n",
        "i_loc=i_loc[0][0]\n",
        "\n",
        "Final_accuracy=Accuracy_validation[i_loc]\n",
        "print(\"The accuracy in the studied dataset is %.2f\" %Final_accuracy)"
      ],
      "id": "bTB_3MDtEleb",
      "execution_count": 10,
      "outputs": [
        {
          "output_type": "display_data",
          "data": {
            "image/png": "[encoded data removed]",
            "text/plain": [
              "<Figure size 1080x432 with 3 Axes>"
            ]
          },
          "metadata": {}
        },
        {
          "output_type": "stream",
          "name": "stdout",
          "text": [
            "\t\t     C_1 C_2 C_3\n",
            "Accuracy training   [53. 88. 88.]\n",
            "Accuracy testing    [46. 82. 82.]\n",
            "Accuracy validation [48. 80. 80.]\n",
            "The accuracy in the studied dataset is 80.00\n"
          ]
        }
      ]
    },
    {
      "cell_type": "code",
      "metadata": {
        "id": "fOtwn1cdGwhR"
      },
      "source": [
        "#\n",
        "#24- What happens with the first classifier?\n",
        "#\n",
        "#Answer:\n",
        "#\n",
        "#1. In SVM, C is a regularization parameter that controls the trade off between the achieving a low training \n",
        "#error and a low testing error that is the ability to generalize your classifier to unseen data.\n",
        "#\n",
        "#2. Smaller C leads to more margin violations but wider margin. \n",
        "#\n",
        "#3. When we increase the number of data points in the dataset, we created more outliers.\n",
        "#\n",
        "#4. Having a low C gives you a pretty large minimum margin. So, I guess the SVM built a really big margin considering outliers.\n",
        "#And it is more prone to miscalssification. It failed to classify correctly most of the data points."
      ],
      "id": "fOtwn1cdGwhR",
      "execution_count": 11,
      "outputs": []
    },
    {
      "cell_type": "code",
      "metadata": {
        "colab": {
          "base_uri": "https://localhost:8080/",
          "height": 459
        },
        "id": "K8NDnbWBIxPj",
        "outputId": "05d67e5a-53c6-4ae5-cd20-94bb0d805f78"
      },
      "source": [
        "#\n",
        "#25- Change the range of parameters values for  𝐶  and repeat 1. For example:  𝐶𝑖[0]=0.001 .\n",
        "#\n",
        "#Answer:\n",
        "#\n",
        "n_size=100\n",
        "X_syn, y_syn = generate_synthetic_data(n_size)\n",
        "#\n",
        "# \n",
        "#Generate training, testing and validation:\n",
        "n=np.shape(X_syn)[0]\n",
        "n_train=int(0.5*n)\n",
        "\n",
        "X_syn_training=X_syn[0:n_train,:]\n",
        "y_syn_training=y_syn[0:n_train]\n",
        "\n",
        "X_syn_testing=X_syn[n_train:(n_train+math.floor((n-n_train)/2)),:]\n",
        "y_syn_testing=y_syn[n_train:(n_train+math.floor((n-n_train)/2))]\n",
        "\n",
        "X_syn_validation=X_syn[(n_train+math.floor((n-n_train)/2)):n,:]\n",
        "y_syn_validation=y_syn[(n_train+math.floor((n-n_train)/2)):n]\n",
        "# SVM Classifier model\n",
        "#the hyperparameter C control the margin violations\n",
        "#smaller C leads to more margin violations but wider margin\n",
        "fig, axs = plt.subplots(1,3, figsize=(15, 6), facecolor='w', edgecolor='k')\n",
        "fig.subplots_adjust(hspace = .5, wspace=.001)\n",
        "\n",
        "axs = axs.ravel()\n",
        "C_i=[0.001,0.1,10]\n",
        "C_range=np.shape(C_i)[0]\n",
        "Accuracy_training=np.empty([C_range])\n",
        "Accuracy_testing=np.empty([C_range])\n",
        "Accuracy_validation=np.empty([C_range])\n",
        "for i in range(C_range): \n",
        "    #axs[i].contourf(np.random.rand(10,10),5,cmap=plt.cm.Oranges)\n",
        "    #axs[i].set_title(str(250+i)) \n",
        "    svm_clf = SVC(kernel=\"linear\", C=C_i[i])\n",
        "    svm_clf.fit(X_syn_training, y_syn_training)\n",
        "\n",
        "    \n",
        "    axs[i].scatter(X_syn_training[y_syn_training==1][:, 0], X_syn_training[y_syn_training==1][:, 1], color='#FFB9BA', marker='o', s=30, linewidth=1.5, label= \"Class +1\")\n",
        "    axs[i].scatter(X_syn_training[y_syn_training==0][:, 0], X_syn_training[y_syn_training==0][:, 1], color='#714A41', marker='o', s=30, linewidth=1.5, label = \"Class -1\")\n",
        "    #plot_svc_decision_boundary(svm_clf, -2, 2)\n",
        "    w = svm_clf.coef_[0]\n",
        "    b = svm_clf.intercept_[0]\n",
        "\n",
        "    # At the decision boundary, w0*x0 + w1*x1 + b = 0\n",
        "    # => x1 = -w0/w1 * x0 - b/w1\n",
        "    x0 = np.linspace(-9, 9, 200)\n",
        "    decision_boundary = -w[0]/w[1] * x0 - b/w[1]\n",
        "    axs[i].plot(x0, decision_boundary, \"k-\", linewidth=2)\n",
        "    \n",
        "    y_pred_training=svm_clf.predict(X_syn_training)\n",
        "    y_pred_testing=svm_clf.predict(X_syn_testing)\n",
        "    y_pred_validation=svm_clf.predict(X_syn_validation)\n",
        "\n",
        " \n",
        "    Accuracy_training[i]=(metrics.accuracy_score(y_syn_training, y_pred_training)*100)\n",
        "    Accuracy_testing[i]=(metrics.accuracy_score(y_syn_testing, y_pred_testing)*100)\n",
        "    Accuracy_validation[i]=(metrics.accuracy_score(y_syn_validation, y_pred_validation)*100)   \n",
        "plt.show() \n",
        "print(\"\\t\\t     C_1 C_2 C_3\")\n",
        "print(\"Accuracy training  \",Accuracy_training)\n",
        "print(\"Accuracy testing   \",Accuracy_testing)\n",
        "print(\"Accuracy validation\",Accuracy_validation)\n",
        "\n",
        "max_t=max(Accuracy_testing)\n",
        "i_loc=np.where(Accuracy_testing>=max_t)\n",
        "i_loc=i_loc[0][0]\n",
        "\n",
        "Final_accuracy=Accuracy_validation[i_loc]\n",
        "print(\"The accuracy in the studied dataset is %.2f\" %Final_accuracy)"
      ],
      "id": "K8NDnbWBIxPj",
      "execution_count": 12,
      "outputs": [
        {
          "output_type": "display_data",
          "data": {
            "image/png": "[encoded data removed]",
            "text/plain": [
              "<Figure size 1080x432 with 3 Axes>"
            ]
          },
          "metadata": {}
        },
        {
          "output_type": "stream",
          "name": "stdout",
          "text": [
            "\t\t     C_1 C_2 C_3\n",
            "Accuracy training   [84. 89. 88.]\n",
            "Accuracy testing    [84. 92. 90.]\n",
            "Accuracy validation [88. 92. 90.]\n",
            "The accuracy in the studied dataset is 92.00\n"
          ]
        }
      ]
    },
    {
      "cell_type": "markdown",
      "metadata": {
        "id": "b8449b3d"
      },
      "source": [
        "If we repeat again the same calculations shuffling the data, we will do a 2-fold cross-validation.\n",
        "\n",
        "Then, for the reporting of results, we will provide the mean (and median and variance) of accuracies among the folds (instances)."
      ],
      "id": "b8449b3d"
    },
    {
      "cell_type": "code",
      "metadata": {
        "colab": {
          "base_uri": "https://localhost:8080/"
        },
        "id": "fb975292",
        "outputId": "eb487645-017a-44b9-efdd-9156218d00e1"
      },
      "source": [
        "#Instance 1:\n",
        "\n",
        "n_size=100\n",
        "X_syn, y_syn = generate_synthetic_data(n_size) \n",
        "\n",
        "#Generate training, testing and validation:\n",
        "n=np.shape(X_syn)[0]\n",
        "n_train=int(0.5*n)\n",
        "\n",
        "X_syn_training=X_syn[0:n_train,:]\n",
        "y_syn_training=y_syn[0:n_train]\n",
        "\n",
        "X_syn_testing=X_syn[n_train:(n_train+math.floor((n-n_train)/2)),:]\n",
        "y_syn_testing=y_syn[n_train:(n_train+math.floor((n-n_train)/2))]\n",
        "\n",
        "X_syn_validation=X_syn[(n_train+math.floor((n-n_train)/2)):n,:]\n",
        "y_syn_validation=y_syn[(n_train+math.floor((n-n_train)/2)):n]\n",
        "#print(len(X_syn_training),len(X_syn_testing),len(X_syn_validation))\n",
        "C_i=[0.001,1,100000]\n",
        "C_range=np.shape(C_i)[0]\n",
        "Accuracy_training=np.empty([C_range])\n",
        "Accuracy_testing=np.empty([C_range])\n",
        "Accuracy_validation=np.empty([C_range])\n",
        "for i in range(C_range):\n",
        "    \n",
        "    #axs[i].contourf(np.random.rand(10,10),5,cmap=plt.cm.Oranges)\n",
        "    #axs[i].set_title(str(250+i))\n",
        "    \n",
        "    svm_clf = SVC(kernel=\"linear\", C=C_i[i])\n",
        "    svm_clf.fit(X_syn_training, y_syn_training)\n",
        "    \n",
        "    y_pred_training=svm_clf.predict(X_syn_training)\n",
        "    y_pred_testing=svm_clf.predict(X_syn_testing)\n",
        "    y_pred_validation=svm_clf.predict(X_syn_validation)\n",
        "\n",
        " \n",
        "    Accuracy_training[i]=(metrics.accuracy_score(y_syn_training, y_pred_training)*100)\n",
        "    Accuracy_testing[i]=(metrics.accuracy_score(y_syn_testing, y_pred_testing)*100)\n",
        "    Accuracy_validation[i]=(metrics.accuracy_score(y_syn_validation, y_pred_validation)*100)\n",
        "\n",
        "\n",
        "print(\"\\t\\t     C_1 C_2 C_3\")\n",
        "print(\"Accuracy training  \",Accuracy_training)\n",
        "print(\"Accuracy testing   \",Accuracy_testing)\n",
        "print(\"Accuracy validation\",Accuracy_validation)\n",
        "\n",
        "max_t=max(Accuracy_testing)\n",
        "i_loc=np.where(Accuracy_testing>=max_t)\n",
        "i_loc=i_loc[0][0]\n",
        "\n",
        "Final_accuracy=Accuracy_validation[i_loc]\n",
        "\n",
        "\n",
        "#Instance 2:\n",
        "#We shuffle the data, we do NOT generate new data:\n",
        "perm = list(range(0,n_size*2))\n",
        "print(len(perm))\n",
        "print(len(X_syn))\n",
        "shuffle(perm)\n",
        "X_syn = X_syn[perm]\n",
        "y_syn = y_syn[perm]\n",
        "\n",
        "#Generate training, testing and validation:\n",
        "n=np.shape(X_syn)[0]\n",
        "print(\"np.shape(X_syn) = \",np.shape(X_syn))\n",
        "n_train=int(0.5*n)\n",
        "\n",
        "X_syn_training=X_syn[0:n_train,:]\n",
        "y_syn_training=y_syn[0:n_train]\n",
        "\n",
        "X_syn_testing=X_syn[n_train:(n_train+math.floor((n-n_train)/2)),:]\n",
        "y_syn_testing=y_syn[n_train:(n_train+math.floor((n-n_train)/2))]\n",
        "\n",
        "X_syn_validation=X_syn[(n_train+math.floor((n-n_train)/2)):n,:]\n",
        "y_syn_validation=y_syn[(n_train+math.floor((n-n_train)/2)):n]\n"
      ],
      "id": "fb975292",
      "execution_count": 45,
      "outputs": [
        {
          "output_type": "stream",
          "name": "stdout",
          "text": [
            "\t\t     C_1 C_2 C_3\n",
            "Accuracy training   [91. 91. 91.]\n",
            "Accuracy testing    [78. 76. 76.]\n",
            "Accuracy validation [86. 84. 84.]\n",
            "200\n",
            "200\n",
            "np.shape(X_syn) =  (200, 2)\n"
          ]
        }
      ]
    },
    {
      "cell_type": "code",
      "metadata": {
        "id": "a1e64b2d"
      },
      "source": [
        "#And we solve the correspondins SVMS\n",
        "\n",
        "# SVM Classifier model\n",
        "#the hyperparameter C control the margin violations\n",
        "#smaller C leads to more margin violations but wider margin\n",
        "\n",
        "Accuracy_training=np.empty([C_range])\n",
        "Accuracy_testing=np.empty([C_range])\n",
        "Accuracy_validation=np.empty([C_range])\n",
        "for i in range(C_range):\n",
        "    \n",
        "    \n",
        "    svm_clf = SVC(kernel=\"linear\", C=C_i[i])\n",
        "    svm_clf.fit(X_syn_training, y_syn_training)\n",
        "  \n",
        "    y_pred_training=svm_clf.predict(X_syn_training)\n",
        "    y_pred_testing=svm_clf.predict(X_syn_testing)\n",
        "    y_pred_validation=svm_clf.predict(X_syn_validation)\n",
        "\n",
        " \n",
        "    Accuracy_training[i]=(metrics.accuracy_score(y_syn_training, y_pred_training)*100)\n",
        "    Accuracy_testing[i]=(metrics.accuracy_score(y_syn_testing, y_pred_testing)*100)\n",
        "    Accuracy_validation[i]=(metrics.accuracy_score(y_syn_validation, y_pred_validation)*100)\n",
        "    \n",
        "    \n"
      ],
      "id": "a1e64b2d",
      "execution_count": 46,
      "outputs": []
    },
    {
      "cell_type": "code",
      "metadata": {
        "colab": {
          "base_uri": "https://localhost:8080/"
        },
        "id": "2d295008",
        "outputId": "7f50aa73-d873-4e0e-bfbf-f28c531a82e1"
      },
      "source": [
        "print(\"\\t\\t     C_1 C_2 C_3\")\n",
        "print(\"Accuracy training  \",Accuracy_training)\n",
        "print(\"Accuracy testing   \",Accuracy_testing)\n",
        "print(\"Accuracy validation\",Accuracy_validation)\n",
        "\n",
        "max_t=max(Accuracy_testing)\n",
        "i_loc=np.where(Accuracy_testing>=max_t)\n",
        "\n",
        "i_loc=i_loc[0][0]\n",
        "\n",
        "Final_accuracy2=Accuracy_validation[i_loc]\n",
        "print(\"The accuracy in the first instance is %.2f\" %Final_accuracy)\n",
        "print(\"The accuracy in the second instance is %.2f\" %Final_accuracy2)\n",
        "sol_acc=(Final_accuracy+Final_accuracy2)/2\n",
        "print(\"The accuracy in the studied dataset is %.2f\" %sol_acc)"
      ],
      "id": "2d295008",
      "execution_count": 47,
      "outputs": [
        {
          "output_type": "stream",
          "name": "stdout",
          "text": [
            "\t\t     C_1 C_2 C_3\n",
            "Accuracy training   [81. 81. 81.]\n",
            "Accuracy testing    [82. 82. 82.]\n",
            "Accuracy validation [92. 94. 94.]\n",
            "The accuracy in the first instance is 86.00\n",
            "The accuracy in the second instance is 92.00\n",
            "The accuracy in the studied dataset is 89.00\n"
          ]
        }
      ]
    },
    {
      "cell_type": "markdown",
      "metadata": {
        "id": "88b7e8a1"
      },
      "source": [
        "## Questions:\n",
        "\n",
        "**26-** Repeat the same k-fold cross-validation but changing the size of the training, testing and validation dataset.\n",
        "\n",
        "Now we have:<br />\n",
        "training 50%<br />\n",
        "testing 25%<br />\n",
        "validation 25%<br />\n",
        "\n",
        "Change it as the following:<br />\n",
        "\n",
        "training 40%<br />\n",
        "testing 30%<br />\n",
        "validation 30%<br />\n",
        "\n",
        "\n",
        "**27-** Do you obtain a better solution?\n",
        "\n"
      ],
      "id": "88b7e8a1"
    },
    {
      "cell_type": "code",
      "metadata": {
        "colab": {
          "base_uri": "https://localhost:8080/"
        },
        "id": "43LGO9EPYPej",
        "outputId": "de5770ea-f363-4f20-a264-7e7b6dfe7f5e"
      },
      "source": [
        "#26.1- Repeat the same k-fold cross-validation but changing the size of the training, testing and validation dataset.\n",
        "\n",
        "#Now we have:\n",
        "#training 50%\n",
        "#testing 25%\n",
        "#validation 25%\n",
        "#Instance 1:\n",
        "\n",
        "n_size=100\n",
        "X_syn, y_syn = generate_synthetic_data(n_size) \n",
        "\n",
        "#Generate training, testing and validation:\n",
        "n=np.shape(X_syn)[0]\n",
        "n_train=int(0.5*n)\n",
        "\n",
        "X_syn_training=X_syn[0:n_train,:]\n",
        "y_syn_training=y_syn[0:n_train]\n",
        "\n",
        "X_syn_testing=X_syn[n_train:(n_train+math.floor((n-n_train)/2)),:]\n",
        "y_syn_testing=y_syn[n_train:(n_train+math.floor((n-n_train)/2))]\n",
        "\n",
        "X_syn_validation=X_syn[(n_train+math.floor((n-n_train)/2)):n,:]\n",
        "y_syn_validation=y_syn[(n_train+math.floor((n-n_train)/2)):n]\n",
        "\n",
        "print(\"len(X_syn) = \",len(X_syn))\n",
        "print(\"len(X_syn_training) = \",len(X_syn_training))\n",
        "print(\"len(X_syn_testing) = \",len(X_syn_testing))\n",
        "print(\"len(X_syn_validation) = \",len(X_syn_validation))\n",
        "C_i=[0.001,1,100000]\n",
        "C_range=np.shape(C_i)[0]\n",
        "Accuracy_training=np.empty([C_range])\n",
        "Accuracy_testing=np.empty([C_range])\n",
        "Accuracy_validation=np.empty([C_range])\n",
        "for i in range(C_range):\n",
        "    \n",
        "    #axs[i].contourf(np.random.rand(10,10),5,cmap=plt.cm.Oranges)\n",
        "    #axs[i].set_title(str(250+i))\n",
        "    \n",
        "    svm_clf = SVC(kernel=\"linear\", C=C_i[i])\n",
        "    svm_clf.fit(X_syn_training, y_syn_training)\n",
        "    \n",
        "    y_pred_training=svm_clf.predict(X_syn_training)\n",
        "    y_pred_testing=svm_clf.predict(X_syn_testing)\n",
        "    y_pred_validation=svm_clf.predict(X_syn_validation)\n",
        "\n",
        " \n",
        "    Accuracy_training[i]=(metrics.accuracy_score(y_syn_training, y_pred_training)*100)\n",
        "    Accuracy_testing[i]=(metrics.accuracy_score(y_syn_testing, y_pred_testing)*100)\n",
        "    Accuracy_validation[i]=(metrics.accuracy_score(y_syn_validation, y_pred_validation)*100)\n",
        "\n",
        "\n",
        "print(\"\\t\\t     C_1 C_2 C_3\")\n",
        "print(\"Accuracy training  \",Accuracy_training)\n",
        "print(\"Accuracy testing   \",Accuracy_testing)\n",
        "print(\"Accuracy validation\",Accuracy_validation)\n",
        "\n",
        "max_t=max(Accuracy_testing)\n",
        "i_loc=np.where(Accuracy_testing>=max_t)\n",
        "i_loc=i_loc[0][0]\n",
        "\n",
        "Final_accuracy=Accuracy_validation[i_loc]\n",
        "\n",
        "\n",
        "#Instance 2:\n",
        "#We shuffle the data, we do NOT generate new data:\n",
        "perm = list(range(0,n_size*2))\n",
        "shuffle(perm)\n",
        "X_syn = X_syn[perm]\n",
        "y_syn = y_syn[perm]\n",
        "\n",
        "#Generate training, testing and validation:\n",
        "n=np.shape(X_syn)[0]\n",
        "print(\"np.shape(X_syn) = \",np.shape(X_syn))\n",
        "n_train=int(0.5*n)\n",
        "\n",
        "X_syn_training=X_syn[0:n_train,:]\n",
        "y_syn_training=y_syn[0:n_train]\n",
        "\n",
        "X_syn_testing=X_syn[n_train:(n_train+math.floor((n-n_train)/2)),:]\n",
        "y_syn_testing=y_syn[n_train:(n_train+math.floor((n-n_train)/2))]\n",
        "\n",
        "X_syn_validation=X_syn[(n_train+math.floor((n-n_train)/2)):n,:]\n",
        "y_syn_validation=y_syn[(n_train+math.floor((n-n_train)/2)):n]\n",
        "\n",
        "#And we solve the correspondins SVMS\n",
        "\n",
        "# SVM Classifier model\n",
        "#the hyperparameter C control the margin violations\n",
        "#smaller C leads to more margin violations but wider margin\n",
        "\n",
        "Accuracy_training=np.empty([C_range])\n",
        "Accuracy_testing=np.empty([C_range])\n",
        "Accuracy_validation=np.empty([C_range])\n",
        "for i in range(C_range):\n",
        "    \n",
        "    \n",
        "    svm_clf = SVC(kernel=\"linear\", C=C_i[i])\n",
        "    svm_clf.fit(X_syn_training, y_syn_training)\n",
        "  \n",
        "    y_pred_training=svm_clf.predict(X_syn_training)\n",
        "    y_pred_testing=svm_clf.predict(X_syn_testing)\n",
        "    y_pred_validation=svm_clf.predict(X_syn_validation)\n",
        "\n",
        " \n",
        "    Accuracy_training[i]=(metrics.accuracy_score(y_syn_training, y_pred_training)*100)\n",
        "    Accuracy_testing[i]=(metrics.accuracy_score(y_syn_testing, y_pred_testing)*100)\n",
        "    Accuracy_validation[i]=(metrics.accuracy_score(y_syn_validation, y_pred_validation)*100)\n",
        "\n",
        "print(\"\\t\\t     C_1 C_2 C_3\")\n",
        "print(\"Accuracy training  \",Accuracy_training)\n",
        "print(\"Accuracy testing   \",Accuracy_testing)\n",
        "print(\"Accuracy validation\",Accuracy_validation)\n",
        "\n",
        "max_t=max(Accuracy_testing)\n",
        "i_loc=np.where(Accuracy_testing>=max_t)\n",
        "\n",
        "i_loc=i_loc[0][0]\n",
        "\n",
        "Final_accuracy2=Accuracy_validation[i_loc]\n",
        "print(\"The accuracy in the first instance is %.2f\" %Final_accuracy)\n",
        "print(\"The accuracy in the second instance is %.2f\" %Final_accuracy2)\n",
        "sol_acc=(Final_accuracy+Final_accuracy2)/2\n",
        "print(\"The accuracy in the studied dataset is %.2f\" %sol_acc)\n",
        "    "
      ],
      "id": "43LGO9EPYPej",
      "execution_count": 48,
      "outputs": [
        {
          "output_type": "stream",
          "name": "stdout",
          "text": [
            "len(X_syn) =  200\n",
            "len(X_syn_training) =  100\n",
            "len(X_syn_testing) =  50\n",
            "len(X_syn_validation) =  50\n",
            "\t\t     C_1 C_2 C_3\n",
            "Accuracy training   [78. 83. 80.]\n",
            "Accuracy testing    [86. 90. 90.]\n",
            "Accuracy validation [94. 88. 88.]\n",
            "np.shape(X_syn) =  (200, 2)\n",
            "\t\t     C_1 C_2 C_3\n",
            "Accuracy training   [74. 84. 83.]\n",
            "Accuracy testing    [76. 90. 90.]\n",
            "Accuracy validation [86. 96. 94.]\n",
            "The accuracy in the first instance is 88.00\n",
            "The accuracy in the second instance is 96.00\n",
            "The accuracy in the studied dataset is 92.00\n"
          ]
        }
      ]
    },
    {
      "cell_type": "markdown",
      "metadata": {
        "id": "3qTP92XGZ54g"
      },
      "source": [
        "\n",
        "## **The code for question-25 is above. The answer for question-25:**\n",
        "Dividing the dataset to<br />\n",
        "training 50%,<br />\n",
        "testing 25% and<br />\n",
        "validation 25% <br />\n",
        "is same with the teacher's sample code. The C and k (in k-fold) parameters are fixed. The result is changed. It was %89 in teacher's example and it is %92 in my answer. The reason for this is that we are shuffling the dataset everytime when we do each fold. Shuffling means randomly assingning data-points to the trainig/testing/validation datasets. So, it is very normal to obtain different (but close) results. Because everytime we shuffle, we change the testing set randomly. <br />\n",
        "We have close results because the percantage of the datasets are same in teacher's code and my answer."
      ],
      "id": "3qTP92XGZ54g"
    },
    {
      "cell_type": "code",
      "metadata": {
        "colab": {
          "base_uri": "https://localhost:8080/"
        },
        "id": "JT3HecrYYSEP",
        "outputId": "8fdc0c7f-a326-43b3-8878-9571c80fd29d"
      },
      "source": [
        "#26.2-Change it as the following:\n",
        "\n",
        "#training 40%\n",
        "#testing 30%\n",
        "#validation 30%\n",
        "\n",
        "n_size=100\n",
        "X_syn, y_syn = generate_synthetic_data(n_size) \n",
        "#Generate training, testing and validation:\n",
        "n=np.shape(X_syn)[0]\n",
        "n_train=int(0.4*n)\n",
        "\n",
        "X_syn_training=X_syn[0:n_train,:]\n",
        "y_syn_training=y_syn[0:n_train]\n",
        "\n",
        "X_syn_testing=X_syn[n_train:(n_train+math.floor((n-n_train)/2)),:]\n",
        "y_syn_testing=y_syn[n_train:(n_train+math.floor((n-n_train)/2))]\n",
        "\n",
        "X_syn_validation=X_syn[(n_train+math.floor((n-n_train)/2)):n,:]\n",
        "y_syn_validation=y_syn[(n_train+math.floor((n-n_train)/2)):n]\n",
        "\n",
        "print(\"len(X_syn) = \",len(X_syn))\n",
        "print(\"len(X_syn_training) = \",len(X_syn_training))\n",
        "print(\"len(X_syn_testing) = \",len(X_syn_testing))\n",
        "print(\"len(X_syn_validation) = \",len(X_syn_validation))\n",
        "C_i=[0.001,1,100000]\n",
        "C_range=np.shape(C_i)[0]\n",
        "Accuracy_training=np.empty([C_range])\n",
        "Accuracy_testing=np.empty([C_range])\n",
        "Accuracy_validation=np.empty([C_range])\n",
        "for i in range(C_range):\n",
        "    \n",
        "    #axs[i].contourf(np.random.rand(10,10),5,cmap=plt.cm.Oranges)\n",
        "    #axs[i].set_title(str(250+i))\n",
        "    \n",
        "    svm_clf = SVC(kernel=\"linear\", C=C_i[i])\n",
        "    svm_clf.fit(X_syn_training, y_syn_training)\n",
        "    \n",
        "    y_pred_training=svm_clf.predict(X_syn_training)\n",
        "    y_pred_testing=svm_clf.predict(X_syn_testing)\n",
        "    y_pred_validation=svm_clf.predict(X_syn_validation)\n",
        "\n",
        " \n",
        "    Accuracy_training[i]=(metrics.accuracy_score(y_syn_training, y_pred_training)*100)\n",
        "    Accuracy_testing[i]=(metrics.accuracy_score(y_syn_testing, y_pred_testing)*100)\n",
        "    Accuracy_validation[i]=(metrics.accuracy_score(y_syn_validation, y_pred_validation)*100)\n",
        "\n",
        "\n",
        "print(\"\\t\\t     C_1 C_2 C_3\")\n",
        "print(\"Accuracy training  \",Accuracy_training)\n",
        "print(\"Accuracy testing   \",Accuracy_testing)\n",
        "print(\"Accuracy validation\",Accuracy_validation)\n",
        "\n",
        "max_t=max(Accuracy_testing)\n",
        "i_loc=np.where(Accuracy_testing>=max_t)\n",
        "i_loc=i_loc[0][0]\n",
        "\n",
        "Final_accuracy=Accuracy_validation[i_loc]\n",
        "\n",
        "\n",
        "#Instance 2:\n",
        "#We shuffle the data, we do NOT generate new data:\n",
        "perm = list(range(0,n_size*2))\n",
        "shuffle(perm)\n",
        "X_syn = X_syn[perm]\n",
        "y_syn = y_syn[perm]\n",
        "\n",
        "#Generate training, testing and validation:\n",
        "n=np.shape(X_syn)[0]\n",
        "print(\"np.shape(X_syn) = \",np.shape(X_syn))\n",
        "n_train=int(0.2*n)\n",
        "\n",
        "X_syn_training=X_syn[0:n_train,:]\n",
        "y_syn_training=y_syn[0:n_train]\n",
        "\n",
        "X_syn_testing=X_syn[n_train:(n_train+math.floor((n-n_train)/2)),:]\n",
        "y_syn_testing=y_syn[n_train:(n_train+math.floor((n-n_train)/2))]\n",
        "\n",
        "X_syn_validation=X_syn[(n_train+math.floor((n-n_train)/2)):n,:]\n",
        "y_syn_validation=y_syn[(n_train+math.floor((n-n_train)/2)):n]\n",
        "\n",
        "#And we solve the correspondins SVMS\n",
        "\n",
        "# SVM Classifier model\n",
        "#the hyperparameter C control the margin violations\n",
        "#smaller C leads to more margin violations but wider margin\n",
        "\n",
        "Accuracy_training=np.empty([C_range])\n",
        "Accuracy_testing=np.empty([C_range])\n",
        "Accuracy_validation=np.empty([C_range])\n",
        "for i in range(C_range):\n",
        "    \n",
        "    \n",
        "    svm_clf = SVC(kernel=\"linear\", C=C_i[i])\n",
        "    svm_clf.fit(X_syn_training, y_syn_training)\n",
        "  \n",
        "    y_pred_training=svm_clf.predict(X_syn_training)\n",
        "    y_pred_testing=svm_clf.predict(X_syn_testing)\n",
        "    y_pred_validation=svm_clf.predict(X_syn_validation)\n",
        "\n",
        " \n",
        "    Accuracy_training[i]=(metrics.accuracy_score(y_syn_training, y_pred_training)*100)\n",
        "    Accuracy_testing[i]=(metrics.accuracy_score(y_syn_testing, y_pred_testing)*100)\n",
        "    Accuracy_validation[i]=(metrics.accuracy_score(y_syn_validation, y_pred_validation)*100)\n",
        "\n",
        "print(\"\\t\\t     C_1 C_2 C_3\")\n",
        "print(\"Accuracy training  \",Accuracy_training)\n",
        "print(\"Accuracy testing   \",Accuracy_testing)\n",
        "print(\"Accuracy validation\",Accuracy_validation)\n",
        "\n",
        "max_t=max(Accuracy_testing)\n",
        "i_loc=np.where(Accuracy_testing>=max_t)\n",
        "\n",
        "i_loc=i_loc[0][0]\n",
        "\n",
        "Final_accuracy2=Accuracy_validation[i_loc]\n",
        "print(\"The accuracy in the first instance is %.2f\" %Final_accuracy)\n",
        "print(\"The accuracy in the second instance is %.2f\" %Final_accuracy2)\n",
        "sol_acc=(Final_accuracy+Final_accuracy2)/2\n",
        "print(\"The accuracy in the studied dataset is %.2f\" %sol_acc)"
      ],
      "id": "JT3HecrYYSEP",
      "execution_count": 50,
      "outputs": [
        {
          "output_type": "stream",
          "name": "stdout",
          "text": [
            "len(X_syn) =  200\n",
            "len(X_syn_training) =  80\n",
            "len(X_syn_testing) =  60\n",
            "len(X_syn_validation) =  60\n",
            "\t\t     C_1 C_2 C_3\n",
            "Accuracy training   [80. 85. 85.]\n",
            "Accuracy testing    [86.66666667 88.33333333 88.33333333]\n",
            "Accuracy validation [80.         86.66666667 88.33333333]\n",
            "np.shape(X_syn) =  (200, 2)\n",
            "\t\t     C_1 C_2 C_3\n",
            "Accuracy training   [62.5 90.  90. ]\n",
            "Accuracy testing    [42.5 82.5 82.5]\n",
            "Accuracy validation [52.5  88.75 88.75]\n",
            "The accuracy in the first instance is 86.67\n",
            "The accuracy in the second instance is 88.75\n",
            "The accuracy in the studied dataset is 87.71\n"
          ]
        }
      ]
    },
    {
      "cell_type": "markdown",
      "metadata": {
        "id": "NfP3syk9dMy_"
      },
      "source": [
        "## **The code for question-26 is above. The answer for question-26:**\n",
        "Dividing the dataset to<br />\n",
        "training 40%,<br />\n",
        "testing 30% and<br />\n",
        "validation 30% <br />\n",
        "decreased the accuracy to %82.08. (In the question-25 it was %92). The reason for this decreasing could be decreasing the size of training data. When we reduce the traning dataset size, the SVM model could not learn enough and had a bad performance. Also, reducing the training size means we could not provide enough diverse data points to the model, and again the model could not learn enough from the dataset. For example, there could be some data points in the testing set that are under-represented in the trainig data.<br />\n",
        "(Recall= the C and k in k-fold was fixed)"
      ],
      "id": "NfP3syk9dMy_"
    }
  ]
}